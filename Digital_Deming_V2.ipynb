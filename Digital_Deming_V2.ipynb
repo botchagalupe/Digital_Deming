{
  "nbformat": 4,
  "nbformat_minor": 0,
  "metadata": {
    "colab": {
      "provenance": [],
      "authorship_tag": "ABX9TyNojjP3RvrhmZYkVLh7CzxE",
      "include_colab_link": true
    },
    "kernelspec": {
      "name": "python3",
      "display_name": "Python 3"
    },
    "language_info": {
      "name": "python"
    }
  },
  "cells": [
    {
      "cell_type": "markdown",
      "metadata": {
        "id": "view-in-github",
        "colab_type": "text"
      },
      "source": [
        "<a href=\"https://colab.research.google.com/github/colinmcnamara/Digital_Deming/blob/main/Digital_Deming_V2.ipynb\" target=\"_parent\"><img src=\"https://colab.research.google.com/assets/colab-badge.svg\" alt=\"Open In Colab\"/></a>"
      ]
    },
    {
      "cell_type": "markdown",
      "source": [
        "# Set up your local environment \n",
        "\n",
        "On intial run of \"import colab_env\" it will create vars.env in the root of your Google Drive\n",
        "\n",
        "COLAB_ENV = Active\n",
        "\n",
        "export OPENAI_API_KEY = \"your_key\"\n",
        "\n",
        "export SERPAPI_API_KEY = \"your_key\"\n"
      ],
      "metadata": {
        "id": "MYHpBGCb9huK"
      }
    },
    {
      "cell_type": "markdown",
      "source": [
        "#Backend Code"
      ],
      "metadata": {
        "id": "cKuANo5PWv5V"
      }
    },
    {
      "cell_type": "markdown",
      "source": [
        "Install my local packages"
      ],
      "metadata": {
        "id": "s18SqtmEhRfZ"
      }
    },
    {
      "cell_type": "code",
      "execution_count": 1,
      "metadata": {
        "colab": {
          "base_uri": "https://localhost:8080/"
        },
        "id": "kLG6Xcprwh9m",
        "outputId": "595251bb-440c-45ca-c14f-809c53236188"
      },
      "outputs": [
        {
          "output_type": "stream",
          "name": "stdout",
          "text": [
            "Looking in indexes: https://pypi.org/simple, https://us-python.pkg.dev/colab-wheels/public/simple/\n",
            "Collecting OpenAI\n",
            "  Downloading openai-0.27.8-py3-none-any.whl (73 kB)\n",
            "\u001b[2K     \u001b[90m━━━━━━━━━━━━━━━━━━━━━━━━━━━━━━━━━━━━━━━━\u001b[0m \u001b[32m73.6/73.6 kB\u001b[0m \u001b[31m3.0 MB/s\u001b[0m eta \u001b[36m0:00:00\u001b[0m\n",
            "\u001b[?25hCollecting langchain\n",
            "  Downloading langchain-0.0.195-py3-none-any.whl (1.0 MB)\n",
            "\u001b[2K     \u001b[90m━━━━━━━━━━━━━━━━━━━━━━━━━━━━━━━━━━━━━━━━\u001b[0m \u001b[32m1.0/1.0 MB\u001b[0m \u001b[31m20.5 MB/s\u001b[0m eta \u001b[36m0:00:00\u001b[0m\n",
            "\u001b[?25hRequirement already satisfied: pydantic in /usr/local/lib/python3.10/dist-packages (1.10.7)\n",
            "Collecting faiss-gpu\n",
            "  Downloading faiss_gpu-1.7.2-cp310-cp310-manylinux_2_17_x86_64.manylinux2014_x86_64.whl (85.5 MB)\n",
            "\u001b[2K     \u001b[90m━━━━━━━━━━━━━━━━━━━━━━━━━━━━━━━━━━━━━━━━\u001b[0m \u001b[32m85.5/85.5 MB\u001b[0m \u001b[31m11.0 MB/s\u001b[0m eta \u001b[36m0:00:00\u001b[0m\n",
            "\u001b[?25hCollecting colab-env\n",
            "  Downloading colab-env-0.2.0.tar.gz (4.7 kB)\n",
            "  Preparing metadata (setup.py) ... \u001b[?25l\u001b[?25hdone\n",
            "Collecting unstructured\n",
            "  Downloading unstructured-0.7.3-py3-none-any.whl (1.3 MB)\n",
            "\u001b[2K     \u001b[90m━━━━━━━━━━━━━━━━━━━━━━━━━━━━━━━━━━━━━━━━\u001b[0m \u001b[32m1.3/1.3 MB\u001b[0m \u001b[31m47.3 MB/s\u001b[0m eta \u001b[36m0:00:00\u001b[0m\n",
            "\u001b[?25hCollecting chromadb\n",
            "  Downloading chromadb-0.3.26-py3-none-any.whl (123 kB)\n",
            "\u001b[2K     \u001b[90m━━━━━━━━━━━━━━━━━━━━━━━━━━━━━━━━━━━━━━\u001b[0m \u001b[32m123.6/123.6 kB\u001b[0m \u001b[31m12.6 MB/s\u001b[0m eta \u001b[36m0:00:00\u001b[0m\n",
            "\u001b[?25hCollecting tiktoken\n",
            "  Downloading tiktoken-0.4.0-cp310-cp310-manylinux_2_17_x86_64.manylinux2014_x86_64.whl (1.7 MB)\n",
            "\u001b[2K     \u001b[90m━━━━━━━━━━━━━━━━━━━━━━━━━━━━━━━━━━━━━━━━\u001b[0m \u001b[32m1.7/1.7 MB\u001b[0m \u001b[31m55.8 MB/s\u001b[0m eta \u001b[36m0:00:00\u001b[0m\n",
            "\u001b[?25hCollecting pdf2image\n",
            "  Downloading pdf2image-1.16.3-py3-none-any.whl (11 kB)\n",
            "Requirement already satisfied: requests>=2.20 in /usr/local/lib/python3.10/dist-packages (from OpenAI) (2.27.1)\n",
            "Requirement already satisfied: tqdm in /usr/local/lib/python3.10/dist-packages (from OpenAI) (4.65.0)\n",
            "Collecting aiohttp (from OpenAI)\n",
            "  Downloading aiohttp-3.8.4-cp310-cp310-manylinux_2_17_x86_64.manylinux2014_x86_64.whl (1.0 MB)\n",
            "\u001b[2K     \u001b[90m━━━━━━━━━━━━━━━━━━━━━━━━━━━━━━━━━━━━━━━━\u001b[0m \u001b[32m1.0/1.0 MB\u001b[0m \u001b[31m60.6 MB/s\u001b[0m eta \u001b[36m0:00:00\u001b[0m\n",
            "\u001b[?25hRequirement already satisfied: PyYAML>=5.4.1 in /usr/local/lib/python3.10/dist-packages (from langchain) (6.0)\n",
            "Requirement already satisfied: SQLAlchemy<3,>=1.4 in /usr/local/lib/python3.10/dist-packages (from langchain) (2.0.10)\n",
            "Collecting async-timeout<5.0.0,>=4.0.0 (from langchain)\n",
            "  Downloading async_timeout-4.0.2-py3-none-any.whl (5.8 kB)\n",
            "Collecting dataclasses-json<0.6.0,>=0.5.7 (from langchain)\n",
            "  Downloading dataclasses_json-0.5.7-py3-none-any.whl (25 kB)\n",
            "Collecting langchainplus-sdk>=0.0.7 (from langchain)\n",
            "  Downloading langchainplus_sdk-0.0.8-py3-none-any.whl (22 kB)\n",
            "Requirement already satisfied: numexpr<3.0.0,>=2.8.4 in /usr/local/lib/python3.10/dist-packages (from langchain) (2.8.4)\n",
            "Requirement already satisfied: numpy<2,>=1 in /usr/local/lib/python3.10/dist-packages (from langchain) (1.22.4)\n",
            "Collecting openapi-schema-pydantic<2.0,>=1.2 (from langchain)\n",
            "  Downloading openapi_schema_pydantic-1.2.4-py3-none-any.whl (90 kB)\n",
            "\u001b[2K     \u001b[90m━━━━━━━━━━━━━━━━━━━━━━━━━━━━━━━━━━━━━━━━\u001b[0m \u001b[32m90.0/90.0 kB\u001b[0m \u001b[31m10.4 MB/s\u001b[0m eta \u001b[36m0:00:00\u001b[0m\n",
            "\u001b[?25hRequirement already satisfied: tenacity<9.0.0,>=8.1.0 in /usr/local/lib/python3.10/dist-packages (from langchain) (8.2.2)\n",
            "Requirement already satisfied: typing-extensions>=4.2.0 in /usr/local/lib/python3.10/dist-packages (from pydantic) (4.5.0)\n",
            "Collecting python-dotenv<1.0,>=0.10.0 (from colab-env)\n",
            "  Downloading python_dotenv-0.21.1-py3-none-any.whl (19 kB)\n",
            "Collecting argilla (from unstructured)\n",
            "  Downloading argilla-1.9.0-py3-none-any.whl (2.5 MB)\n",
            "\u001b[2K     \u001b[90m━━━━━━━━━━━━━━━━━━━━━━━━━━━━━━━━━━━━━━━━\u001b[0m \u001b[32m2.5/2.5 MB\u001b[0m \u001b[31m77.9 MB/s\u001b[0m eta \u001b[36m0:00:00\u001b[0m\n",
            "\u001b[?25hRequirement already satisfied: chardet in /usr/local/lib/python3.10/dist-packages (from unstructured) (4.0.0)\n",
            "Requirement already satisfied: lxml in /usr/local/lib/python3.10/dist-packages (from unstructured) (4.9.2)\n",
            "Collecting msg-parser (from unstructured)\n",
            "  Downloading msg_parser-1.2.0-py2.py3-none-any.whl (101 kB)\n",
            "\u001b[2K     \u001b[90m━━━━━━━━━━━━━━━━━━━━━━━━━━━━━━━━━━━━━━\u001b[0m \u001b[32m101.8/101.8 kB\u001b[0m \u001b[31m11.7 MB/s\u001b[0m eta \u001b[36m0:00:00\u001b[0m\n",
            "\u001b[?25hRequirement already satisfied: nltk in /usr/local/lib/python3.10/dist-packages (from unstructured) (3.8.1)\n",
            "Requirement already satisfied: openpyxl in /usr/local/lib/python3.10/dist-packages (from unstructured) (3.0.10)\n",
            "Requirement already satisfied: pandas in /usr/local/lib/python3.10/dist-packages (from unstructured) (1.5.3)\n",
            "Collecting pdfminer.six (from unstructured)\n",
            "  Downloading pdfminer.six-20221105-py3-none-any.whl (5.6 MB)\n",
            "\u001b[2K     \u001b[90m━━━━━━━━━━━━━━━━━━━━━━━━━━━━━━━━━━━━━━━━\u001b[0m \u001b[32m5.6/5.6 MB\u001b[0m \u001b[31m94.5 MB/s\u001b[0m eta \u001b[36m0:00:00\u001b[0m\n",
            "\u001b[?25hRequirement already satisfied: pillow in /usr/local/lib/python3.10/dist-packages (from unstructured) (8.4.0)\n",
            "Collecting pypandoc (from unstructured)\n",
            "  Downloading pypandoc-1.11-py3-none-any.whl (20 kB)\n",
            "Collecting python-docx (from unstructured)\n",
            "  Downloading python-docx-0.8.11.tar.gz (5.6 MB)\n",
            "\u001b[2K     \u001b[90m━━━━━━━━━━━━━━━━━━━━━━━━━━━━━━━━━━━━━━━━\u001b[0m \u001b[32m5.6/5.6 MB\u001b[0m \u001b[31m65.2 MB/s\u001b[0m eta \u001b[36m0:00:00\u001b[0m\n",
            "\u001b[?25h  Preparing metadata (setup.py) ... \u001b[?25l\u001b[?25hdone\n",
            "Collecting python-pptx (from unstructured)\n",
            "  Downloading python-pptx-0.6.21.tar.gz (10.1 MB)\n",
            "\u001b[2K     \u001b[90m━━━━━━━━━━━━━━━━━━━━━━━━━━━━━━━━━━━━━━━━\u001b[0m \u001b[32m10.1/10.1 MB\u001b[0m \u001b[31m93.3 MB/s\u001b[0m eta \u001b[36m0:00:00\u001b[0m\n",
            "\u001b[?25h  Preparing metadata (setup.py) ... \u001b[?25l\u001b[?25hdone\n",
            "Collecting python-magic (from unstructured)\n",
            "  Downloading python_magic-0.4.27-py2.py3-none-any.whl (13 kB)\n",
            "Requirement already satisfied: markdown in /usr/local/lib/python3.10/dist-packages (from unstructured) (3.4.3)\n",
            "Requirement already satisfied: tabulate in /usr/local/lib/python3.10/dist-packages (from unstructured) (0.8.10)\n",
            "Requirement already satisfied: xlrd in /usr/local/lib/python3.10/dist-packages (from unstructured) (2.0.1)\n",
            "Collecting requests>=2.20 (from OpenAI)\n",
            "  Downloading requests-2.31.0-py3-none-any.whl (62 kB)\n",
            "\u001b[2K     \u001b[90m━━━━━━━━━━━━━━━━━━━━━━━━━━━━━━━━━━━━━━━━\u001b[0m \u001b[32m62.6/62.6 kB\u001b[0m \u001b[31m7.3 MB/s\u001b[0m eta \u001b[36m0:00:00\u001b[0m\n",
            "\u001b[?25hCollecting hnswlib>=0.7 (from chromadb)\n",
            "  Downloading hnswlib-0.7.0.tar.gz (33 kB)\n",
            "  Installing build dependencies ... \u001b[?25l\u001b[?25hdone\n",
            "  Getting requirements to build wheel ... \u001b[?25l\u001b[?25hdone\n",
            "  Preparing metadata (pyproject.toml) ... \u001b[?25l\u001b[?25hdone\n",
            "Collecting clickhouse-connect>=0.5.7 (from chromadb)\n",
            "  Downloading clickhouse_connect-0.6.1-cp310-cp310-manylinux_2_17_x86_64.manylinux2014_x86_64.whl (938 kB)\n",
            "\u001b[2K     \u001b[90m━━━━━━━━━━━━━━━━━━━━━━━━━━━━━━━━━━━━━━\u001b[0m \u001b[32m938.7/938.7 kB\u001b[0m \u001b[31m56.1 MB/s\u001b[0m eta \u001b[36m0:00:00\u001b[0m\n",
            "\u001b[?25hRequirement already satisfied: duckdb>=0.7.1 in /usr/local/lib/python3.10/dist-packages (from chromadb) (0.7.1)\n",
            "Collecting fastapi>=0.85.1 (from chromadb)\n",
            "  Downloading fastapi-0.96.0-py3-none-any.whl (57 kB)\n",
            "\u001b[2K     \u001b[90m━━━━━━━━━━━━━━━━━━━━━━━━━━━━━━━━━━━━━━━━\u001b[0m \u001b[32m57.1/57.1 kB\u001b[0m \u001b[31m6.2 MB/s\u001b[0m eta \u001b[36m0:00:00\u001b[0m\n",
            "\u001b[?25hCollecting uvicorn[standard]>=0.18.3 (from chromadb)\n",
            "  Downloading uvicorn-0.22.0-py3-none-any.whl (58 kB)\n",
            "\u001b[2K     \u001b[90m━━━━━━━━━━━━━━━━━━━━━━━━━━━━━━━━━━━━━━━\u001b[0m \u001b[32m58.3/58.3 kB\u001b[0m \u001b[31m304.6 kB/s\u001b[0m eta \u001b[36m0:00:00\u001b[0m\n",
            "\u001b[?25hCollecting posthog>=2.4.0 (from chromadb)\n",
            "  Downloading posthog-3.0.1-py2.py3-none-any.whl (37 kB)\n",
            "Collecting pulsar-client>=3.1.0 (from chromadb)\n",
            "  Downloading pulsar_client-3.2.0-cp310-cp310-manylinux_2_17_x86_64.manylinux2014_x86_64.whl (5.3 MB)\n",
            "\u001b[2K     \u001b[90m━━━━━━━━━━━━━━━━━━━━━━━━━━━━━━━━━━━━━━━━\u001b[0m \u001b[32m5.3/5.3 MB\u001b[0m \u001b[31m58.6 MB/s\u001b[0m eta \u001b[36m0:00:00\u001b[0m\n",
            "\u001b[?25hCollecting onnxruntime>=1.14.1 (from chromadb)\n",
            "  Downloading onnxruntime-1.15.0-cp310-cp310-manylinux_2_17_x86_64.manylinux2014_x86_64.whl (5.9 MB)\n",
            "\u001b[2K     \u001b[90m━━━━━━━━━━━━━━━━━━━━━━━━━━━━━━━━━━━━━━━━\u001b[0m \u001b[32m5.9/5.9 MB\u001b[0m \u001b[31m69.9 MB/s\u001b[0m eta \u001b[36m0:00:00\u001b[0m\n",
            "\u001b[?25hCollecting tokenizers>=0.13.2 (from chromadb)\n",
            "  Downloading tokenizers-0.13.3-cp310-cp310-manylinux_2_17_x86_64.manylinux2014_x86_64.whl (7.8 MB)\n",
            "\u001b[2K     \u001b[90m━━━━━━━━━━━━━━━━━━━━━━━━━━━━━━━━━━━━━━━━\u001b[0m \u001b[32m7.8/7.8 MB\u001b[0m \u001b[31m42.3 MB/s\u001b[0m eta \u001b[36m0:00:00\u001b[0m\n",
            "\u001b[?25hCollecting overrides>=7.3.1 (from chromadb)\n",
            "  Downloading overrides-7.3.1-py3-none-any.whl (17 kB)\n",
            "Requirement already satisfied: regex>=2022.1.18 in /usr/local/lib/python3.10/dist-packages (from tiktoken) (2022.10.31)\n",
            "Requirement already satisfied: attrs>=17.3.0 in /usr/local/lib/python3.10/dist-packages (from aiohttp->OpenAI) (23.1.0)\n",
            "Requirement already satisfied: charset-normalizer<4.0,>=2.0 in /usr/local/lib/python3.10/dist-packages (from aiohttp->OpenAI) (2.0.12)\n",
            "Collecting multidict<7.0,>=4.5 (from aiohttp->OpenAI)\n",
            "  Downloading multidict-6.0.4-cp310-cp310-manylinux_2_17_x86_64.manylinux2014_x86_64.whl (114 kB)\n",
            "\u001b[2K     \u001b[90m━━━━━━━━━━━━━━━━━━━━━━━━━━━━━━━━━━━━━━━\u001b[0m \u001b[32m114.5/114.5 kB\u001b[0m \u001b[31m9.1 MB/s\u001b[0m eta \u001b[36m0:00:00\u001b[0m\n",
            "\u001b[?25hCollecting yarl<2.0,>=1.0 (from aiohttp->OpenAI)\n",
            "  Downloading yarl-1.9.2-cp310-cp310-manylinux_2_17_x86_64.manylinux2014_x86_64.whl (268 kB)\n",
            "\u001b[2K     \u001b[90m━━━━━━━━━━━━━━━━━━━━━━━━━━━━━━━━━━━━━━━\u001b[0m \u001b[32m268.8/268.8 kB\u001b[0m \u001b[31m7.9 MB/s\u001b[0m eta \u001b[36m0:00:00\u001b[0m\n",
            "\u001b[?25hCollecting frozenlist>=1.1.1 (from aiohttp->OpenAI)\n",
            "  Downloading frozenlist-1.3.3-cp310-cp310-manylinux_2_5_x86_64.manylinux1_x86_64.manylinux_2_17_x86_64.manylinux2014_x86_64.whl (149 kB)\n",
            "\u001b[2K     \u001b[90m━━━━━━━━━━━━━━━━━━━━━━━━━━━━━━━━━━━━━━\u001b[0m \u001b[32m149.6/149.6 kB\u001b[0m \u001b[31m13.7 MB/s\u001b[0m eta \u001b[36m0:00:00\u001b[0m\n",
            "\u001b[?25hCollecting aiosignal>=1.1.2 (from aiohttp->OpenAI)\n",
            "  Downloading aiosignal-1.3.1-py3-none-any.whl (7.6 kB)\n",
            "Requirement already satisfied: certifi in /usr/local/lib/python3.10/dist-packages (from clickhouse-connect>=0.5.7->chromadb) (2022.12.7)\n",
            "Requirement already satisfied: urllib3>=1.26 in /usr/local/lib/python3.10/dist-packages (from clickhouse-connect>=0.5.7->chromadb) (1.26.15)\n",
            "Requirement already satisfied: pytz in /usr/local/lib/python3.10/dist-packages (from clickhouse-connect>=0.5.7->chromadb) (2022.7.1)\n",
            "Collecting zstandard (from clickhouse-connect>=0.5.7->chromadb)\n",
            "  Downloading zstandard-0.21.0-cp310-cp310-manylinux_2_17_x86_64.manylinux2014_x86_64.whl (2.7 MB)\n",
            "\u001b[2K     \u001b[90m━━━━━━━━━━━━━━━━━━━━━━━━━━━━━━━━━━━━━━━━\u001b[0m \u001b[32m2.7/2.7 MB\u001b[0m \u001b[31m94.0 MB/s\u001b[0m eta \u001b[36m0:00:00\u001b[0m\n",
            "\u001b[?25hCollecting lz4 (from clickhouse-connect>=0.5.7->chromadb)\n",
            "  Downloading lz4-4.3.2-cp310-cp310-manylinux_2_17_x86_64.manylinux2014_x86_64.whl (1.3 MB)\n",
            "\u001b[2K     \u001b[90m━━━━━━━━━━━━━━━━━━━━━━━━━━━━━━━━━━━━━━━━\u001b[0m \u001b[32m1.3/1.3 MB\u001b[0m \u001b[31m65.8 MB/s\u001b[0m eta \u001b[36m0:00:00\u001b[0m\n",
            "\u001b[?25hCollecting marshmallow<4.0.0,>=3.3.0 (from dataclasses-json<0.6.0,>=0.5.7->langchain)\n",
            "  Downloading marshmallow-3.19.0-py3-none-any.whl (49 kB)\n",
            "\u001b[2K     \u001b[90m━━━━━━━━━━━━━━━━━━━━━━━━━━━━━━━━━━━━━━━━\u001b[0m \u001b[32m49.1/49.1 kB\u001b[0m \u001b[31m5.7 MB/s\u001b[0m eta \u001b[36m0:00:00\u001b[0m\n",
            "\u001b[?25hCollecting marshmallow-enum<2.0.0,>=1.5.1 (from dataclasses-json<0.6.0,>=0.5.7->langchain)\n",
            "  Downloading marshmallow_enum-1.5.1-py2.py3-none-any.whl (4.2 kB)\n",
            "Collecting typing-inspect>=0.4.0 (from dataclasses-json<0.6.0,>=0.5.7->langchain)\n",
            "  Downloading typing_inspect-0.9.0-py3-none-any.whl (8.8 kB)\n",
            "Collecting starlette<0.28.0,>=0.27.0 (from fastapi>=0.85.1->chromadb)\n",
            "  Downloading starlette-0.27.0-py3-none-any.whl (66 kB)\n",
            "\u001b[2K     \u001b[90m━━━━━━━━━━━━━━━━━━━━━━━━━━━━━━━━━━━━━━━━\u001b[0m \u001b[32m67.0/67.0 kB\u001b[0m \u001b[31m8.5 MB/s\u001b[0m eta \u001b[36m0:00:00\u001b[0m\n",
            "\u001b[?25hCollecting coloredlogs (from onnxruntime>=1.14.1->chromadb)\n",
            "  Downloading coloredlogs-15.0.1-py2.py3-none-any.whl (46 kB)\n",
            "\u001b[2K     \u001b[90m━━━━━━━━━━━━━━━━━━━━━━━━━━━━━━━━━━━━━━━━\u001b[0m \u001b[32m46.0/46.0 kB\u001b[0m \u001b[31m6.1 MB/s\u001b[0m eta \u001b[36m0:00:00\u001b[0m\n",
            "\u001b[?25hRequirement already satisfied: flatbuffers in /usr/local/lib/python3.10/dist-packages (from onnxruntime>=1.14.1->chromadb) (23.3.3)\n",
            "Requirement already satisfied: packaging in /usr/local/lib/python3.10/dist-packages (from onnxruntime>=1.14.1->chromadb) (23.1)\n",
            "Requirement already satisfied: protobuf in /usr/local/lib/python3.10/dist-packages (from onnxruntime>=1.14.1->chromadb) (3.20.3)\n",
            "Requirement already satisfied: sympy in /usr/local/lib/python3.10/dist-packages (from onnxruntime>=1.14.1->chromadb) (1.11.1)\n",
            "Requirement already satisfied: python-dateutil>=2.8.1 in /usr/local/lib/python3.10/dist-packages (from pandas->unstructured) (2.8.2)\n",
            "Requirement already satisfied: six>=1.5 in /usr/local/lib/python3.10/dist-packages (from posthog>=2.4.0->chromadb) (1.16.0)\n",
            "Collecting monotonic>=1.5 (from posthog>=2.4.0->chromadb)\n",
            "  Downloading monotonic-1.6-py2.py3-none-any.whl (8.2 kB)\n",
            "Collecting backoff>=1.10.0 (from posthog>=2.4.0->chromadb)\n",
            "  Downloading backoff-2.2.1-py3-none-any.whl (15 kB)\n",
            "Requirement already satisfied: idna<4,>=2.5 in /usr/local/lib/python3.10/dist-packages (from requests>=2.20->OpenAI) (3.4)\n",
            "Requirement already satisfied: greenlet!=0.4.17 in /usr/local/lib/python3.10/dist-packages (from SQLAlchemy<3,>=1.4->langchain) (2.0.2)\n",
            "Requirement already satisfied: click>=7.0 in /usr/local/lib/python3.10/dist-packages (from uvicorn[standard]>=0.18.3->chromadb) (8.1.3)\n",
            "Collecting h11>=0.8 (from uvicorn[standard]>=0.18.3->chromadb)\n",
            "  Downloading h11-0.14.0-py3-none-any.whl (58 kB)\n",
            "\u001b[2K     \u001b[90m━━━━━━━━━━━━━━━━━━━━━━━━━━━━━━━━━━━━━━━━\u001b[0m \u001b[32m58.3/58.3 kB\u001b[0m \u001b[31m6.6 MB/s\u001b[0m eta \u001b[36m0:00:00\u001b[0m\n",
            "\u001b[?25hCollecting httptools>=0.5.0 (from uvicorn[standard]>=0.18.3->chromadb)\n",
            "  Downloading httptools-0.5.0-cp310-cp310-manylinux_2_5_x86_64.manylinux1_x86_64.manylinux_2_17_x86_64.manylinux2014_x86_64.whl (414 kB)\n",
            "\u001b[2K     \u001b[90m━━━━━━━━━━━━━━━━━━━━━━━━━━━━━━━━━━━━━━\u001b[0m \u001b[32m414.1/414.1 kB\u001b[0m \u001b[31m37.5 MB/s\u001b[0m eta \u001b[36m0:00:00\u001b[0m\n",
            "\u001b[?25hCollecting uvloop!=0.15.0,!=0.15.1,>=0.14.0 (from uvicorn[standard]>=0.18.3->chromadb)\n",
            "  Downloading uvloop-0.17.0-cp310-cp310-manylinux_2_17_x86_64.manylinux2014_x86_64.whl (4.1 MB)\n",
            "\u001b[2K     \u001b[90m━━━━━━━━━━━━━━━━━━━━━━━━━━━━━━━━━━━━━━━━\u001b[0m \u001b[32m4.1/4.1 MB\u001b[0m \u001b[31m89.0 MB/s\u001b[0m eta \u001b[36m0:00:00\u001b[0m\n",
            "\u001b[?25hCollecting watchfiles>=0.13 (from uvicorn[standard]>=0.18.3->chromadb)\n",
            "  Downloading watchfiles-0.19.0-cp37-abi3-manylinux_2_17_x86_64.manylinux2014_x86_64.whl (1.3 MB)\n",
            "\u001b[2K     \u001b[90m━━━━━━━━━━━━━━━━━━━━━━━━━━━━━━━━━━━━━━━━\u001b[0m \u001b[32m1.3/1.3 MB\u001b[0m \u001b[31m60.6 MB/s\u001b[0m eta \u001b[36m0:00:00\u001b[0m\n",
            "\u001b[?25hCollecting websockets>=10.4 (from uvicorn[standard]>=0.18.3->chromadb)\n",
            "  Downloading websockets-11.0.3-cp310-cp310-manylinux_2_5_x86_64.manylinux1_x86_64.manylinux_2_17_x86_64.manylinux2014_x86_64.whl (129 kB)\n",
            "\u001b[2K     \u001b[90m━━━━━━━━━━━━━━━━━━━━━━━━━━━━━━━━━━━━━━\u001b[0m \u001b[32m129.9/129.9 kB\u001b[0m \u001b[31m14.2 MB/s\u001b[0m eta \u001b[36m0:00:00\u001b[0m\n",
            "\u001b[?25hCollecting httpx<0.24,>=0.15 (from argilla->unstructured)\n",
            "  Downloading httpx-0.23.3-py3-none-any.whl (71 kB)\n",
            "\u001b[2K     \u001b[90m━━━━━━━━━━━━━━━━━━━━━━━━━━━━━━━━━━━━━━━━\u001b[0m \u001b[32m71.5/71.5 kB\u001b[0m \u001b[31m8.1 MB/s\u001b[0m eta \u001b[36m0:00:00\u001b[0m\n",
            "\u001b[?25hCollecting deprecated~=1.2.0 (from argilla->unstructured)\n",
            "  Downloading Deprecated-1.2.14-py2.py3-none-any.whl (9.6 kB)\n",
            "Requirement already satisfied: wrapt<1.15,>=1.13 in /usr/local/lib/python3.10/dist-packages (from argilla->unstructured) (1.14.1)\n",
            "Collecting rich<=13.0.1 (from argilla->unstructured)\n",
            "  Downloading rich-13.0.1-py3-none-any.whl (238 kB)\n",
            "\u001b[2K     \u001b[90m━━━━━━━━━━━━━━━━━━━━━━━━━━━━━━━━━━━━━━\u001b[0m \u001b[32m238.1/238.1 kB\u001b[0m \u001b[31m23.9 MB/s\u001b[0m eta \u001b[36m0:00:00\u001b[0m\n",
            "\u001b[?25hRequirement already satisfied: typer<1.0.0,>=0.6.0 in /usr/local/lib/python3.10/dist-packages (from argilla->unstructured) (0.7.0)\n",
            "Collecting olefile>=0.46 (from msg-parser->unstructured)\n",
            "  Downloading olefile-0.46.zip (112 kB)\n",
            "\u001b[2K     \u001b[90m━━━━━━━━━━━━━━━━━━━━━━━━━━━━━━━━━━━━━━\u001b[0m \u001b[32m112.2/112.2 kB\u001b[0m \u001b[31m11.6 MB/s\u001b[0m eta \u001b[36m0:00:00\u001b[0m\n",
            "\u001b[?25h  Preparing metadata (setup.py) ... \u001b[?25l\u001b[?25hdone\n",
            "Requirement already satisfied: joblib in /usr/local/lib/python3.10/dist-packages (from nltk->unstructured) (1.2.0)\n",
            "Requirement already satisfied: et-xmlfile in /usr/local/lib/python3.10/dist-packages (from openpyxl->unstructured) (1.1.0)\n",
            "Requirement already satisfied: cryptography>=36.0.0 in /usr/local/lib/python3.10/dist-packages (from pdfminer.six->unstructured) (40.0.2)\n",
            "Collecting XlsxWriter>=0.5.7 (from python-pptx->unstructured)\n",
            "  Downloading XlsxWriter-3.1.2-py3-none-any.whl (153 kB)\n",
            "\u001b[2K     \u001b[90m━━━━━━━━━━━━━━━━━━━━━━━━━━━━━━━━━━━━━━\u001b[0m \u001b[32m153.0/153.0 kB\u001b[0m \u001b[31m16.1 MB/s\u001b[0m eta \u001b[36m0:00:00\u001b[0m\n",
            "\u001b[?25hRequirement already satisfied: cffi>=1.12 in /usr/local/lib/python3.10/dist-packages (from cryptography>=36.0.0->pdfminer.six->unstructured) (1.15.1)\n",
            "Collecting httpcore<0.17.0,>=0.15.0 (from httpx<0.24,>=0.15->argilla->unstructured)\n",
            "  Downloading httpcore-0.16.3-py3-none-any.whl (69 kB)\n",
            "\u001b[2K     \u001b[90m━━━━━━━━━━━━━━━━━━━━━━━━━━━━━━━━━━━━━━━━\u001b[0m \u001b[32m69.6/69.6 kB\u001b[0m \u001b[31m6.9 MB/s\u001b[0m eta \u001b[36m0:00:00\u001b[0m\n",
            "\u001b[?25hCollecting rfc3986[idna2008]<2,>=1.3 (from httpx<0.24,>=0.15->argilla->unstructured)\n",
            "  Downloading rfc3986-1.5.0-py2.py3-none-any.whl (31 kB)\n",
            "Requirement already satisfied: sniffio in /usr/local/lib/python3.10/dist-packages (from httpx<0.24,>=0.15->argilla->unstructured) (1.3.0)\n",
            "Collecting commonmark<0.10.0,>=0.9.0 (from rich<=13.0.1->argilla->unstructured)\n",
            "  Downloading commonmark-0.9.1-py2.py3-none-any.whl (51 kB)\n",
            "\u001b[2K     \u001b[90m━━━━━━━━━━━━━━━━━━━━━━━━━━━━━━━━━━━━━━━━\u001b[0m \u001b[32m51.1/51.1 kB\u001b[0m \u001b[31m5.8 MB/s\u001b[0m eta \u001b[36m0:00:00\u001b[0m\n",
            "\u001b[?25hRequirement already satisfied: pygments<3.0.0,>=2.6.0 in /usr/local/lib/python3.10/dist-packages (from rich<=13.0.1->argilla->unstructured) (2.14.0)\n",
            "Requirement already satisfied: anyio<5,>=3.4.0 in /usr/local/lib/python3.10/dist-packages (from starlette<0.28.0,>=0.27.0->fastapi>=0.85.1->chromadb) (3.6.2)\n",
            "Collecting mypy-extensions>=0.3.0 (from typing-inspect>=0.4.0->dataclasses-json<0.6.0,>=0.5.7->langchain)\n",
            "  Downloading mypy_extensions-1.0.0-py3-none-any.whl (4.7 kB)\n",
            "Collecting humanfriendly>=9.1 (from coloredlogs->onnxruntime>=1.14.1->chromadb)\n",
            "  Downloading humanfriendly-10.0-py2.py3-none-any.whl (86 kB)\n",
            "\u001b[2K     \u001b[90m━━━━━━━━━━━━━━━━━━━━━━━━━━━━━━━━━━━━━━━━\u001b[0m \u001b[32m86.8/86.8 kB\u001b[0m \u001b[31m7.6 MB/s\u001b[0m eta \u001b[36m0:00:00\u001b[0m\n",
            "\u001b[?25hRequirement already satisfied: mpmath>=0.19 in /usr/local/lib/python3.10/dist-packages (from sympy->onnxruntime>=1.14.1->chromadb) (1.3.0)\n",
            "Requirement already satisfied: pycparser in /usr/local/lib/python3.10/dist-packages (from cffi>=1.12->cryptography>=36.0.0->pdfminer.six->unstructured) (2.21)\n",
            "Building wheels for collected packages: colab-env, hnswlib, python-docx, python-pptx, olefile\n",
            "  Building wheel for colab-env (setup.py) ... \u001b[?25l\u001b[?25hdone\n",
            "  Created wheel for colab-env: filename=colab_env-0.2.0-py3-none-any.whl size=3807 sha256=37ca70e8442741d5886dcf318e072ab6e39aac4d0f28b43d2ee209f0291b6a46\n",
            "  Stored in directory: /root/.cache/pip/wheels/ae/36/4f/466c2cd4db5d08f317893a920c4a0f58a81459ee3bdb136d35\n",
            "  Building wheel for hnswlib (pyproject.toml) ... \u001b[?25l\u001b[?25hdone\n",
            "  Created wheel for hnswlib: filename=hnswlib-0.7.0-cp310-cp310-linux_x86_64.whl size=2119857 sha256=084a9f3e9cab2a97ec2805e2816a26654ec898dc22a3f63af745a542593b109f\n",
            "  Stored in directory: /root/.cache/pip/wheels/8a/ae/ec/235a682e0041fbaeee389843670581ec6c66872db856dfa9a4\n",
            "  Building wheel for python-docx (setup.py) ... \u001b[?25l\u001b[?25hdone\n",
            "  Created wheel for python-docx: filename=python_docx-0.8.11-py3-none-any.whl size=184491 sha256=afc36df998ab6b105e1a1e40ea1dbdfc4a07b8b9939bd036a6b9ff8fb3bd42ce\n",
            "  Stored in directory: /root/.cache/pip/wheels/80/27/06/837436d4c3bd989b957a91679966f207bfd71d358d63a8194d\n",
            "  Building wheel for python-pptx (setup.py) ... \u001b[?25l\u001b[?25hdone\n",
            "  Created wheel for python-pptx: filename=python_pptx-0.6.21-py3-none-any.whl size=470935 sha256=35ef52b04f59b62e0f4399bf2cb8226e1cb5f07ec2738172224e4794ddb53317\n",
            "  Stored in directory: /root/.cache/pip/wheels/ea/dd/74/01b3ec7256a0800b99384e9a0f7620e358afc3a51a59bf9b49\n",
            "  Building wheel for olefile (setup.py) ... \u001b[?25l\u001b[?25hdone\n",
            "  Created wheel for olefile: filename=olefile-0.46-py2.py3-none-any.whl size=35417 sha256=c9c44a3efb8b9d1a66e83c11a3622934245dd34fef5703aa5bc480d66b27b139\n",
            "  Stored in directory: /root/.cache/pip/wheels/02/39/c0/9eb1f7a42b4b38f6f333b6314d4ed11c46f12a0f7b78194f0d\n",
            "Successfully built colab-env hnswlib python-docx python-pptx olefile\n",
            "Installing collected packages: tokenizers, rfc3986, monotonic, faiss-gpu, commonmark, zstandard, XlsxWriter, websockets, uvloop, rich, requests, python-magic, python-dotenv, python-docx, pypandoc, pulsar-client, pdf2image, overrides, olefile, mypy-extensions, multidict, marshmallow, lz4, humanfriendly, httptools, hnswlib, h11, frozenlist, deprecated, backoff, async-timeout, yarl, watchfiles, uvicorn, typing-inspect, tiktoken, starlette, python-pptx, posthog, openapi-schema-pydantic, msg-parser, marshmallow-enum, langchainplus-sdk, httpcore, coloredlogs, colab-env, clickhouse-connect, aiosignal, pdfminer.six, onnxruntime, httpx, fastapi, dataclasses-json, aiohttp, OpenAI, langchain, chromadb, argilla, unstructured\n",
            "  Attempting uninstall: rich\n",
            "    Found existing installation: rich 13.3.4\n",
            "    Uninstalling rich-13.3.4:\n",
            "      Successfully uninstalled rich-13.3.4\n",
            "  Attempting uninstall: requests\n",
            "    Found existing installation: requests 2.27.1\n",
            "    Uninstalling requests-2.27.1:\n",
            "      Successfully uninstalled requests-2.27.1\n",
            "\u001b[31mERROR: pip's dependency resolver does not currently take into account all the packages that are installed. This behaviour is the source of the following dependency conflicts.\n",
            "google-colab 1.0.0 requires requests==2.27.1, but you have requests 2.31.0 which is incompatible.\u001b[0m\u001b[31m\n",
            "\u001b[0mSuccessfully installed OpenAI-0.27.8 XlsxWriter-3.1.2 aiohttp-3.8.4 aiosignal-1.3.1 argilla-1.9.0 async-timeout-4.0.2 backoff-2.2.1 chromadb-0.3.26 clickhouse-connect-0.6.1 colab-env-0.2.0 coloredlogs-15.0.1 commonmark-0.9.1 dataclasses-json-0.5.7 deprecated-1.2.14 faiss-gpu-1.7.2 fastapi-0.96.0 frozenlist-1.3.3 h11-0.14.0 hnswlib-0.7.0 httpcore-0.16.3 httptools-0.5.0 httpx-0.23.3 humanfriendly-10.0 langchain-0.0.195 langchainplus-sdk-0.0.8 lz4-4.3.2 marshmallow-3.19.0 marshmallow-enum-1.5.1 monotonic-1.6 msg-parser-1.2.0 multidict-6.0.4 mypy-extensions-1.0.0 olefile-0.46 onnxruntime-1.15.0 openapi-schema-pydantic-1.2.4 overrides-7.3.1 pdf2image-1.16.3 pdfminer.six-20221105 posthog-3.0.1 pulsar-client-3.2.0 pypandoc-1.11 python-docx-0.8.11 python-dotenv-0.21.1 python-magic-0.4.27 python-pptx-0.6.21 requests-2.31.0 rfc3986-1.5.0 rich-13.0.1 starlette-0.27.0 tiktoken-0.4.0 tokenizers-0.13.3 typing-inspect-0.9.0 unstructured-0.7.3 uvicorn-0.22.0 uvloop-0.17.0 watchfiles-0.19.0 websockets-11.0.3 yarl-1.9.2 zstandard-0.21.0\n"
          ]
        }
      ],
      "source": [
        "pip install OpenAI langchain pydantic faiss-gpu colab-env unstructured chromadb tiktoken pdf2image faiss-gpu"
      ]
    },
    {
      "cell_type": "markdown",
      "source": [
        "Yo, let's import our local env so we don't have to show the world our keys"
      ],
      "metadata": {
        "id": "thnn1Guth9nA"
      }
    },
    {
      "cell_type": "code",
      "execution_count": 2,
      "metadata": {
        "id": "bIQmA_whelu1",
        "colab": {
          "base_uri": "https://localhost:8080/"
        },
        "outputId": "1a4f3161-0a2a-4f59-8903-c2fa0edb82e2"
      },
      "outputs": [
        {
          "output_type": "stream",
          "name": "stdout",
          "text": [
            "Mounted at /content/gdrive\n"
          ]
        }
      ],
      "source": [
        "import colab_env"
      ]
    },
    {
      "cell_type": "markdown",
      "source": [
        "Let's import our python modules"
      ],
      "metadata": {
        "id": "NoZ4EBVsiqMf"
      }
    },
    {
      "cell_type": "code",
      "source": [
        "from langchain.embeddings.openai import OpenAIEmbeddings\n",
        "from langchain.vectorstores import Chroma\n",
        "from langchain.text_splitter import CharacterTextSplitter\n",
        "from langchain.text_splitter import RecursiveCharacterTextSplitter\n",
        "from langchain import OpenAI, VectorDBQA\n",
        "from langchain.chains import RetrievalQA\n",
        "from langchain.chains import RetrievalQAWithSourcesChain\n",
        "from langchain.document_loaders import DirectoryLoader\n",
        "from langchain.prompts import PromptTemplate\n",
        "from langchain.llms import OpenAI\n",
        "from langchain.agents import load_tools\n",
        "from langchain.agents import initialize_agent\n",
        "from langchain.agents import AgentType\n",
        "from langchain.chat_models import ChatOpenAI\n",
        "from langchain.schema import (\n",
        "    AIMessage,\n",
        "    HumanMessage,\n",
        "    SystemMessage\n",
        ")\n",
        "import magic\n",
        "import os\n",
        "import nltk\n",
        "import textwrap\n",
        "\n"
      ],
      "metadata": {
        "id": "dThYIPCKjKcS"
      },
      "execution_count": 3,
      "outputs": []
    },
    {
      "cell_type": "markdown",
      "source": [
        "Let's set the temperature of our AI models"
      ],
      "metadata": {
        "id": "MH2-7NiKjdkE"
      }
    },
    {
      "cell_type": "code",
      "source": [
        "llm = OpenAI(temperature=0)\n",
        "chat = ChatOpenAI(temperature=0)"
      ],
      "metadata": {
        "id": "Imm3MHuFjh_N"
      },
      "execution_count": 4,
      "outputs": []
    },
    {
      "cell_type": "markdown",
      "source": [
        "Let's specify the directory and file type for our Demming source docs"
      ],
      "metadata": {
        "id": "zz19cRbakQdZ"
      }
    },
    {
      "cell_type": "code",
      "execution_count": 5,
      "metadata": {
        "id": "e8a28a08"
      },
      "outputs": [],
      "source": [
        "loader = DirectoryLoader('/content/gdrive/MyDrive/Projects/Digital_Deming/src_content', glob='**/*.pdf')"
      ]
    },
    {
      "cell_type": "markdown",
      "source": [
        "Load our documents\n"
      ],
      "metadata": {
        "id": "1bXP4IjLmc9D"
      }
    },
    {
      "cell_type": "code",
      "source": [
        "documents = loader.load()"
      ],
      "metadata": {
        "colab": {
          "base_uri": "https://localhost:8080/"
        },
        "id": "yYcyBEQcmfEB",
        "outputId": "1638531b-2156-4f6b-c967-4fab48e7f184"
      },
      "execution_count": 6,
      "outputs": [
        {
          "output_type": "stream",
          "name": "stderr",
          "text": [
            "[nltk_data] Downloading package punkt to /root/nltk_data...\n",
            "[nltk_data]   Unzipping tokenizers/punkt.zip.\n",
            "[nltk_data] Downloading package averaged_perceptron_tagger to\n",
            "[nltk_data]     /root/nltk_data...\n",
            "[nltk_data]   Unzipping taggers/averaged_perceptron_tagger.zip.\n"
          ]
        }
      ]
    },
    {
      "cell_type": "markdown",
      "source": [
        "Check how many documents are loaded"
      ],
      "metadata": {
        "id": "LdhzQ0Yrmj-r"
      }
    },
    {
      "cell_type": "code",
      "source": [
        "len (documents)"
      ],
      "metadata": {
        "colab": {
          "base_uri": "https://localhost:8080/"
        },
        "id": "47e8iE6Imgwk",
        "outputId": "2e5f8c6b-fcdd-4541-adfb-b4d421cd8bb6"
      },
      "execution_count": 7,
      "outputs": [
        {
          "output_type": "execute_result",
          "data": {
            "text/plain": [
              "1"
            ]
          },
          "metadata": {},
          "execution_count": 7
        }
      ]
    },
    {
      "cell_type": "markdown",
      "source": [
        "Let's split our document up into chunks"
      ],
      "metadata": {
        "id": "6LMzp2tkmp_z"
      }
    },
    {
      "cell_type": "code",
      "execution_count": 8,
      "metadata": {
        "id": "3153f864"
      },
      "outputs": [],
      "source": [
        "#text_splitter = CharacterTextSplitter(chunk_size=1000, chunk_overlap=0)\n",
        "text_splitter = RecursiveCharacterTextSplitter(\n",
        "    # Set a really small chunk size, just to show.\n",
        "    chunk_size = 1000,\n",
        "    chunk_overlap  = 20,\n",
        "    length_function = len,\n",
        "    separators=[\"\\n\\n\", \"\\n\", \" \", \"\"]\n",
        ")"
      ]
    },
    {
      "cell_type": "markdown",
      "source": [
        "Let' create a variable named texts, and split these documents into it"
      ],
      "metadata": {
        "id": "VBPEkFIenBaf"
      }
    },
    {
      "cell_type": "code",
      "source": [
        "texts = text_splitter.split_documents(documents)"
      ],
      "metadata": {
        "id": "hG6BjgOunHLQ"
      },
      "execution_count": 9,
      "outputs": []
    },
    {
      "cell_type": "markdown",
      "source": [
        "Let's tell it that we want it to use OpenAI embeddings, and tell it what env variable the key is held"
      ],
      "metadata": {
        "id": "tFdzlP2anIlJ"
      }
    },
    {
      "cell_type": "code",
      "source": [
        "embeddings = OpenAIEmbeddings(openai_api_key=os.environ['OPENAI_API_KEY'])"
      ],
      "metadata": {
        "id": "lglhxYJZnUZt"
      },
      "execution_count": 10,
      "outputs": []
    },
    {
      "cell_type": "markdown",
      "source": [
        "Let's create a variable named docsearch, and pull from Chroma vectorstore including texts, and the embeddings)"
      ],
      "metadata": {
        "id": "3nZoNACcnVhj"
      }
    },
    {
      "cell_type": "code",
      "source": [
        "docsearch = Chroma.from_documents(texts, embeddings)"
      ],
      "metadata": {
        "id": "Ts7ek3lBnf2O"
      },
      "execution_count": 11,
      "outputs": []
    },
    {
      "cell_type": "markdown",
      "source": [
        "Let's define qa and pull it from our local vectorDB"
      ],
      "metadata": {
        "id": "MuNtuuwUPuos"
      }
    },
    {
      "cell_type": "code",
      "source": [
        "qa = VectorDBQA.from_chain_type(llm=OpenAI(), chain_type=\"stuff\", vectorstore=docsearch, return_source_documents=False)\n",
        "#result = qa({\"query\": query})"
      ],
      "metadata": {
        "id": "OWYuSv5mPuIh"
      },
      "execution_count": 13,
      "outputs": []
    },
    {
      "cell_type": "markdown",
      "source": [
        "define qa chain, which pulls from VectorDBQA, and use the LLM chain named OpenAI. We specify that it \"Stuff\"'s all the data in. We could use \"map_reduce\" instead to optimize for performance and scale. Let's tell it to use the vectorstore we defined earlier named docsearch\n",
        "\n",
        "note, i'm trying RetrievalQA because VectorDBQA is depricated"
      ],
      "metadata": {
        "id": "7qk5wNDbnjfR"
      }
    },
    {
      "cell_type": "markdown",
      "source": [
        "# The History and Evolution of Total Quality Management (TQM): The Contributions of Kaoru Ishikawa and the Japanese Union of Scientists and Engineers (JUSE)"
      ],
      "metadata": {
        "id": "-Yx4MUyLRJ1l"
      }
    },
    {
      "cell_type": "code",
      "source": [
        "# Create a varible to stuff section results into \n",
        "book = []\n",
        "result = []\n",
        "#print the variable\n",
        "print(book)"
      ],
      "metadata": {
        "id": "qXB4PFfsXEax"
      },
      "execution_count": null,
      "outputs": []
    },
    {
      "cell_type": "markdown",
      "source": [
        "## I. Introduction\n",
        "* Definition of Total Quality Management (TQM)\n",
        "* Brief introduction of the significance of TQM in the modern business world\n",
        "* Introduction to Kaoru Ishikawa and the Japanese Union of Scientists and Engineers (JUSE)\n",
        "* Thesis Statement"
      ],
      "metadata": {
        "id": "oXnKV5R-Q8P1"
      }
    },
    {
      "cell_type": "code",
      "source": [
        "result = []\n",
        "book = []\n",
        "print(book)\n"
      ],
      "metadata": {
        "id": "8qZzETkWlcgz",
        "colab": {
          "base_uri": "https://localhost:8080/"
        },
        "outputId": "8ba46054-f824-48a3-bad9-66af44cb8218"
      },
      "execution_count": 14,
      "outputs": [
        {
          "output_type": "stream",
          "name": "stdout",
          "text": [
            "[]\n"
          ]
        }
      ]
    },
    {
      "cell_type": "code",
      "source": [
        "#section = \"#Introduction\"\n",
        "#book.append(section)\n",
        "query = \"write a definition of Total Quality Management (TQM)\"\n",
        "\n",
        "result = qa.run(query)\n",
        "\n",
        "#append result  to the variable\n",
        "\n",
        "book.append(result)\n",
        "\n",
        "#print the variable\n",
        "print(book)"
      ],
      "metadata": {
        "colab": {
          "base_uri": "https://localhost:8080/"
        },
        "outputId": "4f7147b8-74a7-4dfd-f17f-46a19e610993",
        "id": "SYD__SwSRTOa"
      },
      "execution_count": 15,
      "outputs": [
        {
          "output_type": "stream",
          "name": "stdout",
          "text": [
            "[' Total Quality Management (TQM) is a management system that seeks to ensure that products and services meet customer needs and expectations through continual improvement of processes and quality assurance. It is a holistic approach to quality control that involves all stakeholders in an organization, from management to employees.']\n"
          ]
        }
      ]
    },
    {
      "cell_type": "code",
      "source": [
        "query = \"write a paragraph about the significance of TQM in the modern business world\"\n",
        "#result = []\n",
        "result = qa.run(query)\n",
        "\n",
        "#append result  to the variable\n",
        "book.append(result)\n",
        "\n",
        "#print the variable\n",
        "print(book)"
      ],
      "metadata": {
        "colab": {
          "base_uri": "https://localhost:8080/"
        },
        "outputId": "286fdda9-f151-4d3b-8ae9-5cb9e55ec0e4",
        "id": "hZ2hwhHhRTOa"
      },
      "execution_count": 16,
      "outputs": [
        {
          "output_type": "stream",
          "name": "stdout",
          "text": [
            "[' Total Quality Management (TQM) is a management system that seeks to ensure that products and services meet customer needs and expectations through continual improvement of processes and quality assurance. It is a holistic approach to quality control that involves all stakeholders in an organization, from management to employees.', ' Total Quality Management (TQM) has become an increasingly important factor in the modern business world. TQM is a set of practices and processes that organizations use to improve customer satisfaction, reduce costs, and increase efficiency. It emphasizes the importance of continuous improvement, employee involvement, and customer satisfaction. TQM helps organizations to focus on customers and their needs, while also increasing the efficiency and effectiveness of their operations. TQM has been proven to be an effective tool for improving the quality of products and services, as well as improving customer satisfaction and loyalty.']\n"
          ]
        }
      ]
    },
    {
      "cell_type": "code",
      "source": [
        "query = \"write a paragraph about Kaoru Ishikawa and the Japanese Union of Scientists and Engineers (JUSE)\"\n",
        "#result = []\n",
        "result = qa.run(query)\n",
        "#append result  to the variable\n",
        "book.append(result)\n",
        "\n",
        "#print the variable\n",
        "print(book)"
      ],
      "metadata": {
        "colab": {
          "base_uri": "https://localhost:8080/"
        },
        "outputId": "50488c8f-bb2f-4242-c068-549e31780da9",
        "id": "oLDF1e3ZRTOb"
      },
      "execution_count": 17,
      "outputs": [
        {
          "output_type": "stream",
          "name": "stdout",
          "text": [
            "[' Total Quality Management (TQM) is a management system that seeks to ensure that products and services meet customer needs and expectations through continual improvement of processes and quality assurance. It is a holistic approach to quality control that involves all stakeholders in an organization, from management to employees.', ' Total Quality Management (TQM) has become an increasingly important factor in the modern business world. TQM is a set of practices and processes that organizations use to improve customer satisfaction, reduce costs, and increase efficiency. It emphasizes the importance of continuous improvement, employee involvement, and customer satisfaction. TQM helps organizations to focus on customers and their needs, while also increasing the efficiency and effectiveness of their operations. TQM has been proven to be an effective tool for improving the quality of products and services, as well as improving customer satisfaction and loyalty.', ' Kaoru Ishikawa was a part of the Japanese Union of Scientists and Engineers (JUSE). During his time with the JUSE, he became a lecturer of the Introductory Course for Design of Experiment, a member of the ISO/TC 102 Japan Committee and the chair of the Sampling Subcommittee, the chair of the Editorial Committee of the JUSE English Report, the chair of the editorial board of Genba To QC-magazine, an examiner of the Ministry of International Trade and Industry’s Professional engineers qualification examination, and a part-time lecturer at Gunma University. He was also involved in various QC seminars and events.']\n"
          ]
        }
      ]
    },
    {
      "cell_type": "code",
      "source": [
        "#section = \"#Thesis Statement\"\n",
        "query = \"write a Thesis statement about Evolution of Total Quality Management (TQM): The Contributions of Kaoru Ishikawa and the Japanese Union of Scientists and Engineers (JUSE)\"\n",
        "#result = []\n",
        "result = qa.run(query)\n",
        "\n",
        "#append result  to the variable\n",
        "#book.append(section)\n",
        "book.append(result)\n",
        "\n",
        "#print the variable\n",
        "print(book)"
      ],
      "metadata": {
        "colab": {
          "base_uri": "https://localhost:8080/"
        },
        "outputId": "a70c5dae-8487-4960-dd19-6809c8c0aa4c",
        "id": "CJGWRzgDRc99"
      },
      "execution_count": 18,
      "outputs": [
        {
          "output_type": "stream",
          "name": "stdout",
          "text": [
            "[' Total Quality Management (TQM) is a management system that seeks to ensure that products and services meet customer needs and expectations through continual improvement of processes and quality assurance. It is a holistic approach to quality control that involves all stakeholders in an organization, from management to employees.', ' Total Quality Management (TQM) has become an increasingly important factor in the modern business world. TQM is a set of practices and processes that organizations use to improve customer satisfaction, reduce costs, and increase efficiency. It emphasizes the importance of continuous improvement, employee involvement, and customer satisfaction. TQM helps organizations to focus on customers and their needs, while also increasing the efficiency and effectiveness of their operations. TQM has been proven to be an effective tool for improving the quality of products and services, as well as improving customer satisfaction and loyalty.', ' Kaoru Ishikawa was a part of the Japanese Union of Scientists and Engineers (JUSE). During his time with the JUSE, he became a lecturer of the Introductory Course for Design of Experiment, a member of the ISO/TC 102 Japan Committee and the chair of the Sampling Subcommittee, the chair of the Editorial Committee of the JUSE English Report, the chair of the editorial board of Genba To QC-magazine, an examiner of the Ministry of International Trade and Industry’s Professional engineers qualification examination, and a part-time lecturer at Gunma University. He was also involved in various QC seminars and events.', ' The thesis statement could be: Kaoru Ishikawa and the Japanese Union of Scientists and Engineers (JUSE) have contributed significantly to the evolution of Total Quality Management (TQM) through their activities and initiatives in the field of quality control.']\n"
          ]
        }
      ]
    },
    {
      "cell_type": "markdown",
      "source": [
        "## II. Early History of Quality Management\n",
        "- Brief description of quality management before TQM\n",
        "- Introduction to foundational concepts: Inspection, Quality Control, and Quality Assurance\n",
        "- The rise of statistical process control and its significance"
      ],
      "metadata": {
        "id": "ugA0XFEvwoAC"
      }
    },
    {
      "cell_type": "code",
      "source": [
        "query = \"write  Early History of Quality Management Brief description of quality management before TQM\"\n",
        "qa.run(query)\n",
        "result = qa.run(query)\n",
        "\n",
        "#append result  to the variable\n",
        "book.append(result)\n",
        "\n",
        "#print the variable\n",
        "print(book)"
      ],
      "metadata": {
        "colab": {
          "base_uri": "https://localhost:8080/"
        },
        "id": "KZpoRElXLY5W",
        "outputId": "1823ae8b-00dc-4d95-fb70-f5d2acade530"
      },
      "execution_count": 19,
      "outputs": [
        {
          "output_type": "stream",
          "name": "stdout",
          "text": [
            "[' Total Quality Management (TQM) is a management system that seeks to ensure that products and services meet customer needs and expectations through continual improvement of processes and quality assurance. It is a holistic approach to quality control that involves all stakeholders in an organization, from management to employees.', ' Total Quality Management (TQM) has become an increasingly important factor in the modern business world. TQM is a set of practices and processes that organizations use to improve customer satisfaction, reduce costs, and increase efficiency. It emphasizes the importance of continuous improvement, employee involvement, and customer satisfaction. TQM helps organizations to focus on customers and their needs, while also increasing the efficiency and effectiveness of their operations. TQM has been proven to be an effective tool for improving the quality of products and services, as well as improving customer satisfaction and loyalty.', ' Kaoru Ishikawa was a part of the Japanese Union of Scientists and Engineers (JUSE). During his time with the JUSE, he became a lecturer of the Introductory Course for Design of Experiment, a member of the ISO/TC 102 Japan Committee and the chair of the Sampling Subcommittee, the chair of the Editorial Committee of the JUSE English Report, the chair of the editorial board of Genba To QC-magazine, an examiner of the Ministry of International Trade and Industry’s Professional engineers qualification examination, and a part-time lecturer at Gunma University. He was also involved in various QC seminars and events.', ' The thesis statement could be: Kaoru Ishikawa and the Japanese Union of Scientists and Engineers (JUSE) have contributed significantly to the evolution of Total Quality Management (TQM) through their activities and initiatives in the field of quality control.', ' Quality management before TQM was largely based on the work of Walter Shewhart, who developed statistical process control in the 1930s. His work was expanded and adapted by Yasushi Ishida, Kanzo Kiribuchi, and Pearson, amongst others. These early developments laid the foundation for the Total Quality Management movement.']\n"
          ]
        }
      ]
    },
    {
      "cell_type": "code",
      "source": [
        "query = \"write Introduction to foundational concepts: Inspection, Quality Control, and Quality Assurance\"\n",
        "qa.run(query)\n",
        "result = qa.run(query)\n",
        "\n",
        "#append result  to the variable\n",
        "book.append(result)\n",
        "\n",
        "#print the variable\n",
        "print(book)"
      ],
      "metadata": {
        "colab": {
          "base_uri": "https://localhost:8080/"
        },
        "outputId": "f103e2fa-f14f-4e8d-d73f-a9efd4b6aa49",
        "id": "AiMPW9MJOZ6R"
      },
      "execution_count": 20,
      "outputs": [
        {
          "output_type": "stream",
          "name": "stdout",
          "text": [
            "[' Total Quality Management (TQM) is a management system that seeks to ensure that products and services meet customer needs and expectations through continual improvement of processes and quality assurance. It is a holistic approach to quality control that involves all stakeholders in an organization, from management to employees.', ' Total Quality Management (TQM) has become an increasingly important factor in the modern business world. TQM is a set of practices and processes that organizations use to improve customer satisfaction, reduce costs, and increase efficiency. It emphasizes the importance of continuous improvement, employee involvement, and customer satisfaction. TQM helps organizations to focus on customers and their needs, while also increasing the efficiency and effectiveness of their operations. TQM has been proven to be an effective tool for improving the quality of products and services, as well as improving customer satisfaction and loyalty.', ' Kaoru Ishikawa was a part of the Japanese Union of Scientists and Engineers (JUSE). During his time with the JUSE, he became a lecturer of the Introductory Course for Design of Experiment, a member of the ISO/TC 102 Japan Committee and the chair of the Sampling Subcommittee, the chair of the Editorial Committee of the JUSE English Report, the chair of the editorial board of Genba To QC-magazine, an examiner of the Ministry of International Trade and Industry’s Professional engineers qualification examination, and a part-time lecturer at Gunma University. He was also involved in various QC seminars and events.', ' The thesis statement could be: Kaoru Ishikawa and the Japanese Union of Scientists and Engineers (JUSE) have contributed significantly to the evolution of Total Quality Management (TQM) through their activities and initiatives in the field of quality control.', ' Quality management before TQM was largely based on the work of Walter Shewhart, who developed statistical process control in the 1930s. His work was expanded and adapted by Yasushi Ishida, Kanzo Kiribuchi, and Pearson, amongst others. These early developments laid the foundation for the Total Quality Management movement.', \"\\nInspection, Quality Control, and Quality Assurance are three foundational concepts in the field of quality management. Inspection is the process of examining a product or service to verify that it meets pre-determined requirements. Quality Control is a systematic method of ensuring that a product or service meets a set of predetermined standards. Quality Assurance is a system of activities designed to ensure that the product or service that is delivered meets the customer's expectations. It involves a series of processes, such as design, production, and delivery, that are monitored to ensure that the quality is maintained. Together, these three concepts form the basis for an effective quality management system.\"]\n"
          ]
        }
      ]
    },
    {
      "cell_type": "code",
      "source": [
        "query = \"The rise of statistical process control and its significance\"\n",
        "qa.run(query)\n",
        "result = qa.run(query)\n",
        "\n",
        "#append result  to the variable\n",
        "book.append(result)\n",
        "\n",
        "#print the variable\n",
        "print(book)"
      ],
      "metadata": {
        "colab": {
          "base_uri": "https://localhost:8080/"
        },
        "outputId": "94267979-35c9-4c6b-9533-f56926faef29",
        "id": "99JZa7mVOaDh"
      },
      "execution_count": 21,
      "outputs": [
        {
          "output_type": "stream",
          "name": "stdout",
          "text": [
            "[' Total Quality Management (TQM) is a management system that seeks to ensure that products and services meet customer needs and expectations through continual improvement of processes and quality assurance. It is a holistic approach to quality control that involves all stakeholders in an organization, from management to employees.', ' Total Quality Management (TQM) has become an increasingly important factor in the modern business world. TQM is a set of practices and processes that organizations use to improve customer satisfaction, reduce costs, and increase efficiency. It emphasizes the importance of continuous improvement, employee involvement, and customer satisfaction. TQM helps organizations to focus on customers and their needs, while also increasing the efficiency and effectiveness of their operations. TQM has been proven to be an effective tool for improving the quality of products and services, as well as improving customer satisfaction and loyalty.', ' Kaoru Ishikawa was a part of the Japanese Union of Scientists and Engineers (JUSE). During his time with the JUSE, he became a lecturer of the Introductory Course for Design of Experiment, a member of the ISO/TC 102 Japan Committee and the chair of the Sampling Subcommittee, the chair of the Editorial Committee of the JUSE English Report, the chair of the editorial board of Genba To QC-magazine, an examiner of the Ministry of International Trade and Industry’s Professional engineers qualification examination, and a part-time lecturer at Gunma University. He was also involved in various QC seminars and events.', ' The thesis statement could be: Kaoru Ishikawa and the Japanese Union of Scientists and Engineers (JUSE) have contributed significantly to the evolution of Total Quality Management (TQM) through their activities and initiatives in the field of quality control.', ' Quality management before TQM was largely based on the work of Walter Shewhart, who developed statistical process control in the 1930s. His work was expanded and adapted by Yasushi Ishida, Kanzo Kiribuchi, and Pearson, amongst others. These early developments laid the foundation for the Total Quality Management movement.', \"\\nInspection, Quality Control, and Quality Assurance are three foundational concepts in the field of quality management. Inspection is the process of examining a product or service to verify that it meets pre-determined requirements. Quality Control is a systematic method of ensuring that a product or service meets a set of predetermined standards. Quality Assurance is a system of activities designed to ensure that the product or service that is delivered meets the customer's expectations. It involves a series of processes, such as design, production, and delivery, that are monitored to ensure that the quality is maintained. Together, these three concepts form the basis for an effective quality management system.\", ' Statistical process control (SPC) is a method of quality control which uses statistical methods to identify and solve problems with a production process. It was developed in the 1930s by Walter Shewhart, Yasushi Ishida, Kanzo Kiribuchi, and Karl Pearson, and was popularized by Dr. W. Edwards Deming in the 1950s and 1960s. SPC is used to monitor product or process quality and ensure that it meets predetermined standards. It is an important tool for improving efficiency and reducing costs in manufacturing and industrial processes.']\n"
          ]
        }
      ]
    },
    {
      "cell_type": "markdown",
      "source": [
        "## III. The Birth and Evolution of TQM\n",
        "- Introduction to the concept of TQM\n",
        "- Overview of the principles and practices of TQM\n",
        "- The role of TQM in post-World War II Japan's industrial comeback\n",
        "- Adoption and evolution of TQM in the United States and around the world"
      ],
      "metadata": {
        "id": "l8pKsaLgwqBa"
      }
    },
    {
      "cell_type": "code",
      "source": [
        "query = \"The rise of statistical process control and its significance\"\n",
        "qa.run(query)\n",
        "result = qa.run(query)\n",
        "\n",
        "#append result  to the variable\n",
        "book.append(result)\n",
        "\n",
        "#print the variable\n",
        "print(book)"
      ],
      "metadata": {
        "colab": {
          "base_uri": "https://localhost:8080/"
        },
        "id": "sBLCfkUkOlTB",
        "outputId": "85d76dc5-3dc1-45a4-f5b4-79fc08279b44"
      },
      "execution_count": 22,
      "outputs": [
        {
          "output_type": "stream",
          "name": "stdout",
          "text": [
            "[' Total Quality Management (TQM) is a management system that seeks to ensure that products and services meet customer needs and expectations through continual improvement of processes and quality assurance. It is a holistic approach to quality control that involves all stakeholders in an organization, from management to employees.', ' Total Quality Management (TQM) has become an increasingly important factor in the modern business world. TQM is a set of practices and processes that organizations use to improve customer satisfaction, reduce costs, and increase efficiency. It emphasizes the importance of continuous improvement, employee involvement, and customer satisfaction. TQM helps organizations to focus on customers and their needs, while also increasing the efficiency and effectiveness of their operations. TQM has been proven to be an effective tool for improving the quality of products and services, as well as improving customer satisfaction and loyalty.', ' Kaoru Ishikawa was a part of the Japanese Union of Scientists and Engineers (JUSE). During his time with the JUSE, he became a lecturer of the Introductory Course for Design of Experiment, a member of the ISO/TC 102 Japan Committee and the chair of the Sampling Subcommittee, the chair of the Editorial Committee of the JUSE English Report, the chair of the editorial board of Genba To QC-magazine, an examiner of the Ministry of International Trade and Industry’s Professional engineers qualification examination, and a part-time lecturer at Gunma University. He was also involved in various QC seminars and events.', ' The thesis statement could be: Kaoru Ishikawa and the Japanese Union of Scientists and Engineers (JUSE) have contributed significantly to the evolution of Total Quality Management (TQM) through their activities and initiatives in the field of quality control.', ' Quality management before TQM was largely based on the work of Walter Shewhart, who developed statistical process control in the 1930s. His work was expanded and adapted by Yasushi Ishida, Kanzo Kiribuchi, and Pearson, amongst others. These early developments laid the foundation for the Total Quality Management movement.', \"\\nInspection, Quality Control, and Quality Assurance are three foundational concepts in the field of quality management. Inspection is the process of examining a product or service to verify that it meets pre-determined requirements. Quality Control is a systematic method of ensuring that a product or service meets a set of predetermined standards. Quality Assurance is a system of activities designed to ensure that the product or service that is delivered meets the customer's expectations. It involves a series of processes, such as design, production, and delivery, that are monitored to ensure that the quality is maintained. Together, these three concepts form the basis for an effective quality management system.\", ' Statistical process control (SPC) is a method of quality control which uses statistical methods to identify and solve problems with a production process. It was developed in the 1930s by Walter Shewhart, Yasushi Ishida, Kanzo Kiribuchi, and Karl Pearson, and was popularized by Dr. W. Edwards Deming in the 1950s and 1960s. SPC is used to monitor product or process quality and ensure that it meets predetermined standards. It is an important tool for improving efficiency and reducing costs in manufacturing and industrial processes.', ' Statistical process control (SPC) is a method used to measure and control quality in the production process. It was developed in the early 20th century as a response to the need for increased consistency in manufacturing. SPC involves collecting, organizing, and analyzing data to identify areas of variation in the production process. This enables manufacturers to make changes to the process to reduce variation and increase quality. This has had a significant impact on manufacturing, as it has allowed manufacturers to improve the consistency and quality of their products.']\n"
          ]
        }
      ]
    },
    {
      "cell_type": "code",
      "source": [
        "query = \"The rise of statistical process control and its significance\"\n",
        "qa.run(query)\n",
        "result = qa.run(query)\n",
        "\n",
        "#append result  to the variable\n",
        "book.append(result)\n",
        "\n",
        "#print the variable\n",
        "print(book)"
      ],
      "metadata": {
        "colab": {
          "base_uri": "https://localhost:8080/"
        },
        "id": "rlVd8XXMOlYT",
        "outputId": "c9581b89-42e8-41dc-c04f-c67dfa59836a"
      },
      "execution_count": 23,
      "outputs": [
        {
          "output_type": "stream",
          "name": "stdout",
          "text": [
            "[' Total Quality Management (TQM) is a management system that seeks to ensure that products and services meet customer needs and expectations through continual improvement of processes and quality assurance. It is a holistic approach to quality control that involves all stakeholders in an organization, from management to employees.', ' Total Quality Management (TQM) has become an increasingly important factor in the modern business world. TQM is a set of practices and processes that organizations use to improve customer satisfaction, reduce costs, and increase efficiency. It emphasizes the importance of continuous improvement, employee involvement, and customer satisfaction. TQM helps organizations to focus on customers and their needs, while also increasing the efficiency and effectiveness of their operations. TQM has been proven to be an effective tool for improving the quality of products and services, as well as improving customer satisfaction and loyalty.', ' Kaoru Ishikawa was a part of the Japanese Union of Scientists and Engineers (JUSE). During his time with the JUSE, he became a lecturer of the Introductory Course for Design of Experiment, a member of the ISO/TC 102 Japan Committee and the chair of the Sampling Subcommittee, the chair of the Editorial Committee of the JUSE English Report, the chair of the editorial board of Genba To QC-magazine, an examiner of the Ministry of International Trade and Industry’s Professional engineers qualification examination, and a part-time lecturer at Gunma University. He was also involved in various QC seminars and events.', ' The thesis statement could be: Kaoru Ishikawa and the Japanese Union of Scientists and Engineers (JUSE) have contributed significantly to the evolution of Total Quality Management (TQM) through their activities and initiatives in the field of quality control.', ' Quality management before TQM was largely based on the work of Walter Shewhart, who developed statistical process control in the 1930s. His work was expanded and adapted by Yasushi Ishida, Kanzo Kiribuchi, and Pearson, amongst others. These early developments laid the foundation for the Total Quality Management movement.', \"\\nInspection, Quality Control, and Quality Assurance are three foundational concepts in the field of quality management. Inspection is the process of examining a product or service to verify that it meets pre-determined requirements. Quality Control is a systematic method of ensuring that a product or service meets a set of predetermined standards. Quality Assurance is a system of activities designed to ensure that the product or service that is delivered meets the customer's expectations. It involves a series of processes, such as design, production, and delivery, that are monitored to ensure that the quality is maintained. Together, these three concepts form the basis for an effective quality management system.\", ' Statistical process control (SPC) is a method of quality control which uses statistical methods to identify and solve problems with a production process. It was developed in the 1930s by Walter Shewhart, Yasushi Ishida, Kanzo Kiribuchi, and Karl Pearson, and was popularized by Dr. W. Edwards Deming in the 1950s and 1960s. SPC is used to monitor product or process quality and ensure that it meets predetermined standards. It is an important tool for improving efficiency and reducing costs in manufacturing and industrial processes.', ' Statistical process control (SPC) is a method used to measure and control quality in the production process. It was developed in the early 20th century as a response to the need for increased consistency in manufacturing. SPC involves collecting, organizing, and analyzing data to identify areas of variation in the production process. This enables manufacturers to make changes to the process to reduce variation and increase quality. This has had a significant impact on manufacturing, as it has allowed manufacturers to improve the consistency and quality of their products.', ' Statistical process control is a method of quality control that uses statistical methods to monitor and control a process. It was developed in the 1930s by Walter Shewhart, Yasushi Ishida, Kanzo Kiribuchi, and Pearson as a way to improve manufacturing processes and product quality. It has become an essential tool for industries around the world, as it allows manufacturers to identify and address potential problems in their production process quickly and efficiently. This has led to greater efficiency and cost savings, as well as improved product quality.']\n"
          ]
        }
      ]
    },
    {
      "cell_type": "code",
      "source": [
        "query = \"The rise of statistical process control and its significance\"\n",
        "qa.run(query)\n",
        "result = qa.run(query)\n",
        "\n",
        "#append result  to the variable\n",
        "book.append(result)\n",
        "\n",
        "#print the variable\n",
        "print(book)"
      ],
      "metadata": {
        "colab": {
          "base_uri": "https://localhost:8080/"
        },
        "id": "7zl12_xHOleT",
        "outputId": "6218da15-6f6a-49df-8130-3d64b4c3451d"
      },
      "execution_count": 24,
      "outputs": [
        {
          "output_type": "stream",
          "name": "stdout",
          "text": [
            "[' Total Quality Management (TQM) is a management system that seeks to ensure that products and services meet customer needs and expectations through continual improvement of processes and quality assurance. It is a holistic approach to quality control that involves all stakeholders in an organization, from management to employees.', ' Total Quality Management (TQM) has become an increasingly important factor in the modern business world. TQM is a set of practices and processes that organizations use to improve customer satisfaction, reduce costs, and increase efficiency. It emphasizes the importance of continuous improvement, employee involvement, and customer satisfaction. TQM helps organizations to focus on customers and their needs, while also increasing the efficiency and effectiveness of their operations. TQM has been proven to be an effective tool for improving the quality of products and services, as well as improving customer satisfaction and loyalty.', ' Kaoru Ishikawa was a part of the Japanese Union of Scientists and Engineers (JUSE). During his time with the JUSE, he became a lecturer of the Introductory Course for Design of Experiment, a member of the ISO/TC 102 Japan Committee and the chair of the Sampling Subcommittee, the chair of the Editorial Committee of the JUSE English Report, the chair of the editorial board of Genba To QC-magazine, an examiner of the Ministry of International Trade and Industry’s Professional engineers qualification examination, and a part-time lecturer at Gunma University. He was also involved in various QC seminars and events.', ' The thesis statement could be: Kaoru Ishikawa and the Japanese Union of Scientists and Engineers (JUSE) have contributed significantly to the evolution of Total Quality Management (TQM) through their activities and initiatives in the field of quality control.', ' Quality management before TQM was largely based on the work of Walter Shewhart, who developed statistical process control in the 1930s. His work was expanded and adapted by Yasushi Ishida, Kanzo Kiribuchi, and Pearson, amongst others. These early developments laid the foundation for the Total Quality Management movement.', \"\\nInspection, Quality Control, and Quality Assurance are three foundational concepts in the field of quality management. Inspection is the process of examining a product or service to verify that it meets pre-determined requirements. Quality Control is a systematic method of ensuring that a product or service meets a set of predetermined standards. Quality Assurance is a system of activities designed to ensure that the product or service that is delivered meets the customer's expectations. It involves a series of processes, such as design, production, and delivery, that are monitored to ensure that the quality is maintained. Together, these three concepts form the basis for an effective quality management system.\", ' Statistical process control (SPC) is a method of quality control which uses statistical methods to identify and solve problems with a production process. It was developed in the 1930s by Walter Shewhart, Yasushi Ishida, Kanzo Kiribuchi, and Karl Pearson, and was popularized by Dr. W. Edwards Deming in the 1950s and 1960s. SPC is used to monitor product or process quality and ensure that it meets predetermined standards. It is an important tool for improving efficiency and reducing costs in manufacturing and industrial processes.', ' Statistical process control (SPC) is a method used to measure and control quality in the production process. It was developed in the early 20th century as a response to the need for increased consistency in manufacturing. SPC involves collecting, organizing, and analyzing data to identify areas of variation in the production process. This enables manufacturers to make changes to the process to reduce variation and increase quality. This has had a significant impact on manufacturing, as it has allowed manufacturers to improve the consistency and quality of their products.', ' Statistical process control is a method of quality control that uses statistical methods to monitor and control a process. It was developed in the 1930s by Walter Shewhart, Yasushi Ishida, Kanzo Kiribuchi, and Pearson as a way to improve manufacturing processes and product quality. It has become an essential tool for industries around the world, as it allows manufacturers to identify and address potential problems in their production process quickly and efficiently. This has led to greater efficiency and cost savings, as well as improved product quality.', ' Statistical process control (SPC) is a method used to monitor and control a process by collecting data and analyzing the data to identify trends or patterns. It is used to ensure quality and consistency in products and services and is an important part of Total Quality Control (TQC). SPC was developed in the early twentieth century by Walter Shewhart, Yasushi Ishida, and Kanzo Kiribuchi. In 1931, Shewhart published Economic Control of Quality of Manufactured Products, Ishida developed the control chart, and Kiribuchi introduced quality control as “Hinshitsu Tosei” in his book The Science of Industrial Control. In 1935, Pearson’s “The Application of Statistical Methods to Industrial Standardization and Quality Control,” which later became BS 600, was published. SPC has continued to grow in importance as it has been adapted and applied to a variety of industries. It is now seen as an essential tool for quality control and process improvement.']\n"
          ]
        }
      ]
    },
    {
      "cell_type": "markdown",
      "source": [
        "## IV. The Role of Kaoru Ishikawa in the Development of TQM\n",
        "- Introduction to Ishikawa: his background and career\n",
        "- Ishikawa's contribution to the development of Quality Circles\n",
        "- The development and importance of the Ishikawa (cause-and-effect) Diagram\n",
        "- Ishikawa's philosophical contribution to TQM: the 'next process is your customer'\n"
      ],
      "metadata": {
        "id": "VwNC3dSEwsVx"
      }
    },
    {
      "cell_type": "code",
      "source": [
        "query = \"write about:The Role of Kaoru Ishikawa in the Development of TQM - Introduction to Ishikawa: his background and career\"\n",
        "qa.run(query)\n",
        "result = qa.run(query)\n",
        "\n",
        "#append result  to the variable\n",
        "book.append(result)\n",
        "\n",
        "#print the variable\n",
        "print(book)"
      ],
      "metadata": {
        "colab": {
          "base_uri": "https://localhost:8080/"
        },
        "id": "-pg-ohP5PuPx",
        "outputId": "bcd7462c-8c22-486d-f2db-facf5e95c4c0"
      },
      "execution_count": 25,
      "outputs": [
        {
          "output_type": "stream",
          "name": "stdout",
          "text": [
            "[' Total Quality Management (TQM) is a management system that seeks to ensure that products and services meet customer needs and expectations through continual improvement of processes and quality assurance. It is a holistic approach to quality control that involves all stakeholders in an organization, from management to employees.', ' Total Quality Management (TQM) has become an increasingly important factor in the modern business world. TQM is a set of practices and processes that organizations use to improve customer satisfaction, reduce costs, and increase efficiency. It emphasizes the importance of continuous improvement, employee involvement, and customer satisfaction. TQM helps organizations to focus on customers and their needs, while also increasing the efficiency and effectiveness of their operations. TQM has been proven to be an effective tool for improving the quality of products and services, as well as improving customer satisfaction and loyalty.', ' Kaoru Ishikawa was a part of the Japanese Union of Scientists and Engineers (JUSE). During his time with the JUSE, he became a lecturer of the Introductory Course for Design of Experiment, a member of the ISO/TC 102 Japan Committee and the chair of the Sampling Subcommittee, the chair of the Editorial Committee of the JUSE English Report, the chair of the editorial board of Genba To QC-magazine, an examiner of the Ministry of International Trade and Industry’s Professional engineers qualification examination, and a part-time lecturer at Gunma University. He was also involved in various QC seminars and events.', ' The thesis statement could be: Kaoru Ishikawa and the Japanese Union of Scientists and Engineers (JUSE) have contributed significantly to the evolution of Total Quality Management (TQM) through their activities and initiatives in the field of quality control.', ' Quality management before TQM was largely based on the work of Walter Shewhart, who developed statistical process control in the 1930s. His work was expanded and adapted by Yasushi Ishida, Kanzo Kiribuchi, and Pearson, amongst others. These early developments laid the foundation for the Total Quality Management movement.', \"\\nInspection, Quality Control, and Quality Assurance are three foundational concepts in the field of quality management. Inspection is the process of examining a product or service to verify that it meets pre-determined requirements. Quality Control is a systematic method of ensuring that a product or service meets a set of predetermined standards. Quality Assurance is a system of activities designed to ensure that the product or service that is delivered meets the customer's expectations. It involves a series of processes, such as design, production, and delivery, that are monitored to ensure that the quality is maintained. Together, these three concepts form the basis for an effective quality management system.\", ' Statistical process control (SPC) is a method of quality control which uses statistical methods to identify and solve problems with a production process. It was developed in the 1930s by Walter Shewhart, Yasushi Ishida, Kanzo Kiribuchi, and Karl Pearson, and was popularized by Dr. W. Edwards Deming in the 1950s and 1960s. SPC is used to monitor product or process quality and ensure that it meets predetermined standards. It is an important tool for improving efficiency and reducing costs in manufacturing and industrial processes.', ' Statistical process control (SPC) is a method used to measure and control quality in the production process. It was developed in the early 20th century as a response to the need for increased consistency in manufacturing. SPC involves collecting, organizing, and analyzing data to identify areas of variation in the production process. This enables manufacturers to make changes to the process to reduce variation and increase quality. This has had a significant impact on manufacturing, as it has allowed manufacturers to improve the consistency and quality of their products.', ' Statistical process control is a method of quality control that uses statistical methods to monitor and control a process. It was developed in the 1930s by Walter Shewhart, Yasushi Ishida, Kanzo Kiribuchi, and Pearson as a way to improve manufacturing processes and product quality. It has become an essential tool for industries around the world, as it allows manufacturers to identify and address potential problems in their production process quickly and efficiently. This has led to greater efficiency and cost savings, as well as improved product quality.', ' Statistical process control (SPC) is a method used to monitor and control a process by collecting data and analyzing the data to identify trends or patterns. It is used to ensure quality and consistency in products and services and is an important part of Total Quality Control (TQC). SPC was developed in the early twentieth century by Walter Shewhart, Yasushi Ishida, and Kanzo Kiribuchi. In 1931, Shewhart published Economic Control of Quality of Manufactured Products, Ishida developed the control chart, and Kiribuchi introduced quality control as “Hinshitsu Tosei” in his book The Science of Industrial Control. In 1935, Pearson’s “The Application of Statistical Methods to Industrial Standardization and Quality Control,” which later became BS 600, was published. SPC has continued to grow in importance as it has been adapted and applied to a variety of industries. It is now seen as an essential tool for quality control and process improvement.', ' Kaoru Ishikawa was born in 1915 in Nishigahara, Takinogawa Ward, Tokyo City. He entered the Elementary School attached to Tokyo Higher Normal School in 1923 at the age of 8. He entered the Junior High School attached to Tokyo Higher Normal School in 1928 at the age of 13 and later entered Tokyo High School University in 1933 at the age of 18. In 1948, he started research on coal briquettes and became a member of the Japanese Association of University Professors and Japanese Society for Engineering Education. In 1965, he joined the 2nd QC Overseas Research Team as the head of the delegation (JUSE) and became an advisor to the Japan Productivity Center.\\n\\nKaoru Ishikawa played an important role in the development of TQM. He gave a special lecture and acted as a discussion leader at the Quality Control Symposium held in Tokyo, welcoming representatives from various countries in Asia. He published How to Establish Product Standards of Japanese Industrial Standards and was a member of the Quality Control Symposium Organizing Committee. He was also chair of the Draft Committee for the JIS M 8100 “Particulate materials – General rules for methods of sampling” and established the FQC Award. He was the chair of']\n"
          ]
        }
      ]
    },
    {
      "cell_type": "code",
      "source": [
        "query = \"write about:The Role of Kaoru Ishikawa in the Development of TQM - Ishikawa's contribution to the development of Quality Circles\"\n",
        "qa.run(query)\n",
        "result = qa.run(query)\n",
        "\n",
        "#append result  to the variable\n",
        "book.append(result)\n",
        "\n",
        "#print the variable\n",
        "print(book)"
      ],
      "metadata": {
        "colab": {
          "base_uri": "https://localhost:8080/"
        },
        "id": "on87zT6dP7lE",
        "outputId": "54e0fc1d-1c7c-4a9c-b908-931a42050af0"
      },
      "execution_count": 26,
      "outputs": [
        {
          "output_type": "stream",
          "name": "stdout",
          "text": [
            "[' Total Quality Management (TQM) is a management system that seeks to ensure that products and services meet customer needs and expectations through continual improvement of processes and quality assurance. It is a holistic approach to quality control that involves all stakeholders in an organization, from management to employees.', ' Total Quality Management (TQM) has become an increasingly important factor in the modern business world. TQM is a set of practices and processes that organizations use to improve customer satisfaction, reduce costs, and increase efficiency. It emphasizes the importance of continuous improvement, employee involvement, and customer satisfaction. TQM helps organizations to focus on customers and their needs, while also increasing the efficiency and effectiveness of their operations. TQM has been proven to be an effective tool for improving the quality of products and services, as well as improving customer satisfaction and loyalty.', ' Kaoru Ishikawa was a part of the Japanese Union of Scientists and Engineers (JUSE). During his time with the JUSE, he became a lecturer of the Introductory Course for Design of Experiment, a member of the ISO/TC 102 Japan Committee and the chair of the Sampling Subcommittee, the chair of the Editorial Committee of the JUSE English Report, the chair of the editorial board of Genba To QC-magazine, an examiner of the Ministry of International Trade and Industry’s Professional engineers qualification examination, and a part-time lecturer at Gunma University. He was also involved in various QC seminars and events.', ' The thesis statement could be: Kaoru Ishikawa and the Japanese Union of Scientists and Engineers (JUSE) have contributed significantly to the evolution of Total Quality Management (TQM) through their activities and initiatives in the field of quality control.', ' Quality management before TQM was largely based on the work of Walter Shewhart, who developed statistical process control in the 1930s. His work was expanded and adapted by Yasushi Ishida, Kanzo Kiribuchi, and Pearson, amongst others. These early developments laid the foundation for the Total Quality Management movement.', \"\\nInspection, Quality Control, and Quality Assurance are three foundational concepts in the field of quality management. Inspection is the process of examining a product or service to verify that it meets pre-determined requirements. Quality Control is a systematic method of ensuring that a product or service meets a set of predetermined standards. Quality Assurance is a system of activities designed to ensure that the product or service that is delivered meets the customer's expectations. It involves a series of processes, such as design, production, and delivery, that are monitored to ensure that the quality is maintained. Together, these three concepts form the basis for an effective quality management system.\", ' Statistical process control (SPC) is a method of quality control which uses statistical methods to identify and solve problems with a production process. It was developed in the 1930s by Walter Shewhart, Yasushi Ishida, Kanzo Kiribuchi, and Karl Pearson, and was popularized by Dr. W. Edwards Deming in the 1950s and 1960s. SPC is used to monitor product or process quality and ensure that it meets predetermined standards. It is an important tool for improving efficiency and reducing costs in manufacturing and industrial processes.', ' Statistical process control (SPC) is a method used to measure and control quality in the production process. It was developed in the early 20th century as a response to the need for increased consistency in manufacturing. SPC involves collecting, organizing, and analyzing data to identify areas of variation in the production process. This enables manufacturers to make changes to the process to reduce variation and increase quality. This has had a significant impact on manufacturing, as it has allowed manufacturers to improve the consistency and quality of their products.', ' Statistical process control is a method of quality control that uses statistical methods to monitor and control a process. It was developed in the 1930s by Walter Shewhart, Yasushi Ishida, Kanzo Kiribuchi, and Pearson as a way to improve manufacturing processes and product quality. It has become an essential tool for industries around the world, as it allows manufacturers to identify and address potential problems in their production process quickly and efficiently. This has led to greater efficiency and cost savings, as well as improved product quality.', ' Statistical process control (SPC) is a method used to monitor and control a process by collecting data and analyzing the data to identify trends or patterns. It is used to ensure quality and consistency in products and services and is an important part of Total Quality Control (TQC). SPC was developed in the early twentieth century by Walter Shewhart, Yasushi Ishida, and Kanzo Kiribuchi. In 1931, Shewhart published Economic Control of Quality of Manufactured Products, Ishida developed the control chart, and Kiribuchi introduced quality control as “Hinshitsu Tosei” in his book The Science of Industrial Control. In 1935, Pearson’s “The Application of Statistical Methods to Industrial Standardization and Quality Control,” which later became BS 600, was published. SPC has continued to grow in importance as it has been adapted and applied to a variety of industries. It is now seen as an essential tool for quality control and process improvement.', ' Kaoru Ishikawa was born in 1915 in Nishigahara, Takinogawa Ward, Tokyo City. He entered the Elementary School attached to Tokyo Higher Normal School in 1923 at the age of 8. He entered the Junior High School attached to Tokyo Higher Normal School in 1928 at the age of 13 and later entered Tokyo High School University in 1933 at the age of 18. In 1948, he started research on coal briquettes and became a member of the Japanese Association of University Professors and Japanese Society for Engineering Education. In 1965, he joined the 2nd QC Overseas Research Team as the head of the delegation (JUSE) and became an advisor to the Japan Productivity Center.\\n\\nKaoru Ishikawa played an important role in the development of TQM. He gave a special lecture and acted as a discussion leader at the Quality Control Symposium held in Tokyo, welcoming representatives from various countries in Asia. He published How to Establish Product Standards of Japanese Industrial Standards and was a member of the Quality Control Symposium Organizing Committee. He was also chair of the Draft Committee for the JIS M 8100 “Particulate materials – General rules for methods of sampling” and established the FQC Award. He was the chair of', ' Kaoru Ishikawa was a key figure in the development of Total Quality Management (TQM). He was instrumental in the development of Quality Circles, which are groups of employees that meet regularly to discuss and identify quality issues and develop solutions. He was a founding member of the International Friendship Club, which promoted the use of Quality Circles in Japan and abroad. He also wrote and edited the Quality Assurance Guidebook (JUSE Press) and How to Operate QC Circle Activities, which provided guidance for successful Quality Circle implementation. He was also a member of the Japanese Society for Quality Control, the International Cooperation Committee, the ISO/TC 69 Japan Committee, and the Sampling Research Group of Environmental Pollution. He was also involved in various international conferences and meetings, such as the ASQC Annual Conference, the IAQ meeting, the EOQC Conference, and the Japan-Soviet Round-Table Conference on Standardization. Through his work, Ishikawa helped to spread the use of Quality Circles throughout Japan and the world.']\n"
          ]
        }
      ]
    },
    {
      "cell_type": "code",
      "source": [
        "query = \"write about:The Role of Kaoru Ishikawa in the Development of TQM - The development and importance of the Ishikawa (cause-and-effect) Diagram\"\n",
        "qa.run(query)\n",
        "result = qa.run(query)\n",
        "\n",
        "#append result  to the variable\n",
        "book.append(result)\n",
        "\n",
        "#print the variable\n",
        "print(book)"
      ],
      "metadata": {
        "colab": {
          "base_uri": "https://localhost:8080/"
        },
        "id": "P99DnOBrP-OQ",
        "outputId": "f99cf745-3606-4332-bf35-8acc89bf3993"
      },
      "execution_count": 27,
      "outputs": [
        {
          "output_type": "stream",
          "name": "stdout",
          "text": [
            "[' Total Quality Management (TQM) is a management system that seeks to ensure that products and services meet customer needs and expectations through continual improvement of processes and quality assurance. It is a holistic approach to quality control that involves all stakeholders in an organization, from management to employees.', ' Total Quality Management (TQM) has become an increasingly important factor in the modern business world. TQM is a set of practices and processes that organizations use to improve customer satisfaction, reduce costs, and increase efficiency. It emphasizes the importance of continuous improvement, employee involvement, and customer satisfaction. TQM helps organizations to focus on customers and their needs, while also increasing the efficiency and effectiveness of their operations. TQM has been proven to be an effective tool for improving the quality of products and services, as well as improving customer satisfaction and loyalty.', ' Kaoru Ishikawa was a part of the Japanese Union of Scientists and Engineers (JUSE). During his time with the JUSE, he became a lecturer of the Introductory Course for Design of Experiment, a member of the ISO/TC 102 Japan Committee and the chair of the Sampling Subcommittee, the chair of the Editorial Committee of the JUSE English Report, the chair of the editorial board of Genba To QC-magazine, an examiner of the Ministry of International Trade and Industry’s Professional engineers qualification examination, and a part-time lecturer at Gunma University. He was also involved in various QC seminars and events.', ' The thesis statement could be: Kaoru Ishikawa and the Japanese Union of Scientists and Engineers (JUSE) have contributed significantly to the evolution of Total Quality Management (TQM) through their activities and initiatives in the field of quality control.', ' Quality management before TQM was largely based on the work of Walter Shewhart, who developed statistical process control in the 1930s. His work was expanded and adapted by Yasushi Ishida, Kanzo Kiribuchi, and Pearson, amongst others. These early developments laid the foundation for the Total Quality Management movement.', \"\\nInspection, Quality Control, and Quality Assurance are three foundational concepts in the field of quality management. Inspection is the process of examining a product or service to verify that it meets pre-determined requirements. Quality Control is a systematic method of ensuring that a product or service meets a set of predetermined standards. Quality Assurance is a system of activities designed to ensure that the product or service that is delivered meets the customer's expectations. It involves a series of processes, such as design, production, and delivery, that are monitored to ensure that the quality is maintained. Together, these three concepts form the basis for an effective quality management system.\", ' Statistical process control (SPC) is a method of quality control which uses statistical methods to identify and solve problems with a production process. It was developed in the 1930s by Walter Shewhart, Yasushi Ishida, Kanzo Kiribuchi, and Karl Pearson, and was popularized by Dr. W. Edwards Deming in the 1950s and 1960s. SPC is used to monitor product or process quality and ensure that it meets predetermined standards. It is an important tool for improving efficiency and reducing costs in manufacturing and industrial processes.', ' Statistical process control (SPC) is a method used to measure and control quality in the production process. It was developed in the early 20th century as a response to the need for increased consistency in manufacturing. SPC involves collecting, organizing, and analyzing data to identify areas of variation in the production process. This enables manufacturers to make changes to the process to reduce variation and increase quality. This has had a significant impact on manufacturing, as it has allowed manufacturers to improve the consistency and quality of their products.', ' Statistical process control is a method of quality control that uses statistical methods to monitor and control a process. It was developed in the 1930s by Walter Shewhart, Yasushi Ishida, Kanzo Kiribuchi, and Pearson as a way to improve manufacturing processes and product quality. It has become an essential tool for industries around the world, as it allows manufacturers to identify and address potential problems in their production process quickly and efficiently. This has led to greater efficiency and cost savings, as well as improved product quality.', ' Statistical process control (SPC) is a method used to monitor and control a process by collecting data and analyzing the data to identify trends or patterns. It is used to ensure quality and consistency in products and services and is an important part of Total Quality Control (TQC). SPC was developed in the early twentieth century by Walter Shewhart, Yasushi Ishida, and Kanzo Kiribuchi. In 1931, Shewhart published Economic Control of Quality of Manufactured Products, Ishida developed the control chart, and Kiribuchi introduced quality control as “Hinshitsu Tosei” in his book The Science of Industrial Control. In 1935, Pearson’s “The Application of Statistical Methods to Industrial Standardization and Quality Control,” which later became BS 600, was published. SPC has continued to grow in importance as it has been adapted and applied to a variety of industries. It is now seen as an essential tool for quality control and process improvement.', ' Kaoru Ishikawa was born in 1915 in Nishigahara, Takinogawa Ward, Tokyo City. He entered the Elementary School attached to Tokyo Higher Normal School in 1923 at the age of 8. He entered the Junior High School attached to Tokyo Higher Normal School in 1928 at the age of 13 and later entered Tokyo High School University in 1933 at the age of 18. In 1948, he started research on coal briquettes and became a member of the Japanese Association of University Professors and Japanese Society for Engineering Education. In 1965, he joined the 2nd QC Overseas Research Team as the head of the delegation (JUSE) and became an advisor to the Japan Productivity Center.\\n\\nKaoru Ishikawa played an important role in the development of TQM. He gave a special lecture and acted as a discussion leader at the Quality Control Symposium held in Tokyo, welcoming representatives from various countries in Asia. He published How to Establish Product Standards of Japanese Industrial Standards and was a member of the Quality Control Symposium Organizing Committee. He was also chair of the Draft Committee for the JIS M 8100 “Particulate materials – General rules for methods of sampling” and established the FQC Award. He was the chair of', ' Kaoru Ishikawa was a key figure in the development of Total Quality Management (TQM). He was instrumental in the development of Quality Circles, which are groups of employees that meet regularly to discuss and identify quality issues and develop solutions. He was a founding member of the International Friendship Club, which promoted the use of Quality Circles in Japan and abroad. He also wrote and edited the Quality Assurance Guidebook (JUSE Press) and How to Operate QC Circle Activities, which provided guidance for successful Quality Circle implementation. He was also a member of the Japanese Society for Quality Control, the International Cooperation Committee, the ISO/TC 69 Japan Committee, and the Sampling Research Group of Environmental Pollution. He was also involved in various international conferences and meetings, such as the ASQC Annual Conference, the IAQ meeting, the EOQC Conference, and the Japan-Soviet Round-Table Conference on Standardization. Through his work, Ishikawa helped to spread the use of Quality Circles throughout Japan and the world.', '\\n\\nKaoru Ishikawa is widely credited with playing a major role in the development of Total Quality Management (TQM). He is best known for developing the Ishikawa (cause-and-effect) Diagram, also known as the fishbone diagram, which is a tool used to identify and analyze the root causes of problems. Ishikawa was a professor at the University of Tokyo and an advocate of quality control circles. He was also one of the founders of the Japanese Society for Quality Control, and he was the author of several books on quality control. He was an influential figure in the development of the TQM movement in Japan, and his efforts helped to popularize the use of the Ishikawa Diagram in Japan and around the world.']\n"
          ]
        }
      ]
    },
    {
      "cell_type": "code",
      "source": [
        "query = \"write about:The Role of Kaoru Ishikawa in the Development of TQM - Ishikawa's philosophical contribution to TQM: the 'next process is your customer'\"\n",
        "qa.run(query)\n",
        "result = qa.run(query)\n",
        "\n",
        "#append result  to the variable\n",
        "book.append(result)\n",
        "\n",
        "#print the variable\n",
        "print(book)"
      ],
      "metadata": {
        "colab": {
          "base_uri": "https://localhost:8080/"
        },
        "id": "20WIlNZXP_HI",
        "outputId": "928600ef-37ae-475d-c904-d90e3b3d8b04"
      },
      "execution_count": 28,
      "outputs": [
        {
          "output_type": "stream",
          "name": "stdout",
          "text": [
            "[' Total Quality Management (TQM) is a management system that seeks to ensure that products and services meet customer needs and expectations through continual improvement of processes and quality assurance. It is a holistic approach to quality control that involves all stakeholders in an organization, from management to employees.', ' Total Quality Management (TQM) has become an increasingly important factor in the modern business world. TQM is a set of practices and processes that organizations use to improve customer satisfaction, reduce costs, and increase efficiency. It emphasizes the importance of continuous improvement, employee involvement, and customer satisfaction. TQM helps organizations to focus on customers and their needs, while also increasing the efficiency and effectiveness of their operations. TQM has been proven to be an effective tool for improving the quality of products and services, as well as improving customer satisfaction and loyalty.', ' Kaoru Ishikawa was a part of the Japanese Union of Scientists and Engineers (JUSE). During his time with the JUSE, he became a lecturer of the Introductory Course for Design of Experiment, a member of the ISO/TC 102 Japan Committee and the chair of the Sampling Subcommittee, the chair of the Editorial Committee of the JUSE English Report, the chair of the editorial board of Genba To QC-magazine, an examiner of the Ministry of International Trade and Industry’s Professional engineers qualification examination, and a part-time lecturer at Gunma University. He was also involved in various QC seminars and events.', ' The thesis statement could be: Kaoru Ishikawa and the Japanese Union of Scientists and Engineers (JUSE) have contributed significantly to the evolution of Total Quality Management (TQM) through their activities and initiatives in the field of quality control.', ' Quality management before TQM was largely based on the work of Walter Shewhart, who developed statistical process control in the 1930s. His work was expanded and adapted by Yasushi Ishida, Kanzo Kiribuchi, and Pearson, amongst others. These early developments laid the foundation for the Total Quality Management movement.', \"\\nInspection, Quality Control, and Quality Assurance are three foundational concepts in the field of quality management. Inspection is the process of examining a product or service to verify that it meets pre-determined requirements. Quality Control is a systematic method of ensuring that a product or service meets a set of predetermined standards. Quality Assurance is a system of activities designed to ensure that the product or service that is delivered meets the customer's expectations. It involves a series of processes, such as design, production, and delivery, that are monitored to ensure that the quality is maintained. Together, these three concepts form the basis for an effective quality management system.\", ' Statistical process control (SPC) is a method of quality control which uses statistical methods to identify and solve problems with a production process. It was developed in the 1930s by Walter Shewhart, Yasushi Ishida, Kanzo Kiribuchi, and Karl Pearson, and was popularized by Dr. W. Edwards Deming in the 1950s and 1960s. SPC is used to monitor product or process quality and ensure that it meets predetermined standards. It is an important tool for improving efficiency and reducing costs in manufacturing and industrial processes.', ' Statistical process control (SPC) is a method used to measure and control quality in the production process. It was developed in the early 20th century as a response to the need for increased consistency in manufacturing. SPC involves collecting, organizing, and analyzing data to identify areas of variation in the production process. This enables manufacturers to make changes to the process to reduce variation and increase quality. This has had a significant impact on manufacturing, as it has allowed manufacturers to improve the consistency and quality of their products.', ' Statistical process control is a method of quality control that uses statistical methods to monitor and control a process. It was developed in the 1930s by Walter Shewhart, Yasushi Ishida, Kanzo Kiribuchi, and Pearson as a way to improve manufacturing processes and product quality. It has become an essential tool for industries around the world, as it allows manufacturers to identify and address potential problems in their production process quickly and efficiently. This has led to greater efficiency and cost savings, as well as improved product quality.', ' Statistical process control (SPC) is a method used to monitor and control a process by collecting data and analyzing the data to identify trends or patterns. It is used to ensure quality and consistency in products and services and is an important part of Total Quality Control (TQC). SPC was developed in the early twentieth century by Walter Shewhart, Yasushi Ishida, and Kanzo Kiribuchi. In 1931, Shewhart published Economic Control of Quality of Manufactured Products, Ishida developed the control chart, and Kiribuchi introduced quality control as “Hinshitsu Tosei” in his book The Science of Industrial Control. In 1935, Pearson’s “The Application of Statistical Methods to Industrial Standardization and Quality Control,” which later became BS 600, was published. SPC has continued to grow in importance as it has been adapted and applied to a variety of industries. It is now seen as an essential tool for quality control and process improvement.', ' Kaoru Ishikawa was born in 1915 in Nishigahara, Takinogawa Ward, Tokyo City. He entered the Elementary School attached to Tokyo Higher Normal School in 1923 at the age of 8. He entered the Junior High School attached to Tokyo Higher Normal School in 1928 at the age of 13 and later entered Tokyo High School University in 1933 at the age of 18. In 1948, he started research on coal briquettes and became a member of the Japanese Association of University Professors and Japanese Society for Engineering Education. In 1965, he joined the 2nd QC Overseas Research Team as the head of the delegation (JUSE) and became an advisor to the Japan Productivity Center.\\n\\nKaoru Ishikawa played an important role in the development of TQM. He gave a special lecture and acted as a discussion leader at the Quality Control Symposium held in Tokyo, welcoming representatives from various countries in Asia. He published How to Establish Product Standards of Japanese Industrial Standards and was a member of the Quality Control Symposium Organizing Committee. He was also chair of the Draft Committee for the JIS M 8100 “Particulate materials – General rules for methods of sampling” and established the FQC Award. He was the chair of', ' Kaoru Ishikawa was a key figure in the development of Total Quality Management (TQM). He was instrumental in the development of Quality Circles, which are groups of employees that meet regularly to discuss and identify quality issues and develop solutions. He was a founding member of the International Friendship Club, which promoted the use of Quality Circles in Japan and abroad. He also wrote and edited the Quality Assurance Guidebook (JUSE Press) and How to Operate QC Circle Activities, which provided guidance for successful Quality Circle implementation. He was also a member of the Japanese Society for Quality Control, the International Cooperation Committee, the ISO/TC 69 Japan Committee, and the Sampling Research Group of Environmental Pollution. He was also involved in various international conferences and meetings, such as the ASQC Annual Conference, the IAQ meeting, the EOQC Conference, and the Japan-Soviet Round-Table Conference on Standardization. Through his work, Ishikawa helped to spread the use of Quality Circles throughout Japan and the world.', '\\n\\nKaoru Ishikawa is widely credited with playing a major role in the development of Total Quality Management (TQM). He is best known for developing the Ishikawa (cause-and-effect) Diagram, also known as the fishbone diagram, which is a tool used to identify and analyze the root causes of problems. Ishikawa was a professor at the University of Tokyo and an advocate of quality control circles. He was also one of the founders of the Japanese Society for Quality Control, and he was the author of several books on quality control. He was an influential figure in the development of the TQM movement in Japan, and his efforts helped to popularize the use of the Ishikawa Diagram in Japan and around the world.', \"\\n\\nKaoru Ishikawa is widely recognized as one of the leading figures in the development of TQM. He is often credited with introducing the concept of “the next process is your customer”, which emphasizes the importance of customer satisfaction in the quality control process. Ishikawa's philosophy states that a company should strive to meet customer needs and expectations in order to maximize profits and ensure long-term success. He believed that customer satisfaction should be at the forefront of any quality control process. This idea is still widely used in TQM today. Ishikawa also served as a member of several committees related to quality control, including the Nuclear Power Plant Quality Assurance Review Committee and the Japanese Society for Quality Control. He also wrote several books on the subject, including Control Points of Quality and How to Establish Product Standards of Japanese Industrial Standards. His contributions to the development of TQM have been invaluable and his legacy will continue to influence the industry for generations to come.\"]\n"
          ]
        }
      ]
    },
    {
      "cell_type": "markdown",
      "source": [
        "## V. The Role of the Japanese Union of Scientists and Engineers (JUSE)\n",
        "- Background of JUSE and its role in the development of quality management in Japan\n",
        "- Introduction of the Deming Prize by JUSE and its significance\n",
        "- JUSE's role in promoting TQM and its principles in Japan and globally\n"
      ],
      "metadata": {
        "id": "DqjyPiaQwvf0"
      }
    },
    {
      "cell_type": "code",
      "source": [
        "query = \"write about:The Role of Kaoru Ishikawa in the Development of TQM - Background of JUSE and its role in the development of quality management in Japan\"\n",
        "qa.run(query)\n",
        "result = qa.run(query)\n",
        "\n",
        "#append result  to the variable\n",
        "book.append(result)\n",
        "\n",
        "#print the variable\n",
        "print(book)"
      ],
      "metadata": {
        "colab": {
          "base_uri": "https://localhost:8080/"
        },
        "id": "JohRVdzsQPFd",
        "outputId": "21f96bfe-e4fa-4b79-8af4-ed5e99acb97c"
      },
      "execution_count": 29,
      "outputs": [
        {
          "output_type": "stream",
          "name": "stdout",
          "text": [
            "[' Total Quality Management (TQM) is a management system that seeks to ensure that products and services meet customer needs and expectations through continual improvement of processes and quality assurance. It is a holistic approach to quality control that involves all stakeholders in an organization, from management to employees.', ' Total Quality Management (TQM) has become an increasingly important factor in the modern business world. TQM is a set of practices and processes that organizations use to improve customer satisfaction, reduce costs, and increase efficiency. It emphasizes the importance of continuous improvement, employee involvement, and customer satisfaction. TQM helps organizations to focus on customers and their needs, while also increasing the efficiency and effectiveness of their operations. TQM has been proven to be an effective tool for improving the quality of products and services, as well as improving customer satisfaction and loyalty.', ' Kaoru Ishikawa was a part of the Japanese Union of Scientists and Engineers (JUSE). During his time with the JUSE, he became a lecturer of the Introductory Course for Design of Experiment, a member of the ISO/TC 102 Japan Committee and the chair of the Sampling Subcommittee, the chair of the Editorial Committee of the JUSE English Report, the chair of the editorial board of Genba To QC-magazine, an examiner of the Ministry of International Trade and Industry’s Professional engineers qualification examination, and a part-time lecturer at Gunma University. He was also involved in various QC seminars and events.', ' The thesis statement could be: Kaoru Ishikawa and the Japanese Union of Scientists and Engineers (JUSE) have contributed significantly to the evolution of Total Quality Management (TQM) through their activities and initiatives in the field of quality control.', ' Quality management before TQM was largely based on the work of Walter Shewhart, who developed statistical process control in the 1930s. His work was expanded and adapted by Yasushi Ishida, Kanzo Kiribuchi, and Pearson, amongst others. These early developments laid the foundation for the Total Quality Management movement.', \"\\nInspection, Quality Control, and Quality Assurance are three foundational concepts in the field of quality management. Inspection is the process of examining a product or service to verify that it meets pre-determined requirements. Quality Control is a systematic method of ensuring that a product or service meets a set of predetermined standards. Quality Assurance is a system of activities designed to ensure that the product or service that is delivered meets the customer's expectations. It involves a series of processes, such as design, production, and delivery, that are monitored to ensure that the quality is maintained. Together, these three concepts form the basis for an effective quality management system.\", ' Statistical process control (SPC) is a method of quality control which uses statistical methods to identify and solve problems with a production process. It was developed in the 1930s by Walter Shewhart, Yasushi Ishida, Kanzo Kiribuchi, and Karl Pearson, and was popularized by Dr. W. Edwards Deming in the 1950s and 1960s. SPC is used to monitor product or process quality and ensure that it meets predetermined standards. It is an important tool for improving efficiency and reducing costs in manufacturing and industrial processes.', ' Statistical process control (SPC) is a method used to measure and control quality in the production process. It was developed in the early 20th century as a response to the need for increased consistency in manufacturing. SPC involves collecting, organizing, and analyzing data to identify areas of variation in the production process. This enables manufacturers to make changes to the process to reduce variation and increase quality. This has had a significant impact on manufacturing, as it has allowed manufacturers to improve the consistency and quality of their products.', ' Statistical process control is a method of quality control that uses statistical methods to monitor and control a process. It was developed in the 1930s by Walter Shewhart, Yasushi Ishida, Kanzo Kiribuchi, and Pearson as a way to improve manufacturing processes and product quality. It has become an essential tool for industries around the world, as it allows manufacturers to identify and address potential problems in their production process quickly and efficiently. This has led to greater efficiency and cost savings, as well as improved product quality.', ' Statistical process control (SPC) is a method used to monitor and control a process by collecting data and analyzing the data to identify trends or patterns. It is used to ensure quality and consistency in products and services and is an important part of Total Quality Control (TQC). SPC was developed in the early twentieth century by Walter Shewhart, Yasushi Ishida, and Kanzo Kiribuchi. In 1931, Shewhart published Economic Control of Quality of Manufactured Products, Ishida developed the control chart, and Kiribuchi introduced quality control as “Hinshitsu Tosei” in his book The Science of Industrial Control. In 1935, Pearson’s “The Application of Statistical Methods to Industrial Standardization and Quality Control,” which later became BS 600, was published. SPC has continued to grow in importance as it has been adapted and applied to a variety of industries. It is now seen as an essential tool for quality control and process improvement.', ' Kaoru Ishikawa was born in 1915 in Nishigahara, Takinogawa Ward, Tokyo City. He entered the Elementary School attached to Tokyo Higher Normal School in 1923 at the age of 8. He entered the Junior High School attached to Tokyo Higher Normal School in 1928 at the age of 13 and later entered Tokyo High School University in 1933 at the age of 18. In 1948, he started research on coal briquettes and became a member of the Japanese Association of University Professors and Japanese Society for Engineering Education. In 1965, he joined the 2nd QC Overseas Research Team as the head of the delegation (JUSE) and became an advisor to the Japan Productivity Center.\\n\\nKaoru Ishikawa played an important role in the development of TQM. He gave a special lecture and acted as a discussion leader at the Quality Control Symposium held in Tokyo, welcoming representatives from various countries in Asia. He published How to Establish Product Standards of Japanese Industrial Standards and was a member of the Quality Control Symposium Organizing Committee. He was also chair of the Draft Committee for the JIS M 8100 “Particulate materials – General rules for methods of sampling” and established the FQC Award. He was the chair of', ' Kaoru Ishikawa was a key figure in the development of Total Quality Management (TQM). He was instrumental in the development of Quality Circles, which are groups of employees that meet regularly to discuss and identify quality issues and develop solutions. He was a founding member of the International Friendship Club, which promoted the use of Quality Circles in Japan and abroad. He also wrote and edited the Quality Assurance Guidebook (JUSE Press) and How to Operate QC Circle Activities, which provided guidance for successful Quality Circle implementation. He was also a member of the Japanese Society for Quality Control, the International Cooperation Committee, the ISO/TC 69 Japan Committee, and the Sampling Research Group of Environmental Pollution. He was also involved in various international conferences and meetings, such as the ASQC Annual Conference, the IAQ meeting, the EOQC Conference, and the Japan-Soviet Round-Table Conference on Standardization. Through his work, Ishikawa helped to spread the use of Quality Circles throughout Japan and the world.', '\\n\\nKaoru Ishikawa is widely credited with playing a major role in the development of Total Quality Management (TQM). He is best known for developing the Ishikawa (cause-and-effect) Diagram, also known as the fishbone diagram, which is a tool used to identify and analyze the root causes of problems. Ishikawa was a professor at the University of Tokyo and an advocate of quality control circles. He was also one of the founders of the Japanese Society for Quality Control, and he was the author of several books on quality control. He was an influential figure in the development of the TQM movement in Japan, and his efforts helped to popularize the use of the Ishikawa Diagram in Japan and around the world.', \"\\n\\nKaoru Ishikawa is widely recognized as one of the leading figures in the development of TQM. He is often credited with introducing the concept of “the next process is your customer”, which emphasizes the importance of customer satisfaction in the quality control process. Ishikawa's philosophy states that a company should strive to meet customer needs and expectations in order to maximize profits and ensure long-term success. He believed that customer satisfaction should be at the forefront of any quality control process. This idea is still widely used in TQM today. Ishikawa also served as a member of several committees related to quality control, including the Nuclear Power Plant Quality Assurance Review Committee and the Japanese Society for Quality Control. He also wrote several books on the subject, including Control Points of Quality and How to Establish Product Standards of Japanese Industrial Standards. His contributions to the development of TQM have been invaluable and his legacy will continue to influence the industry for generations to come.\", '\\n\\nKaoru Ishikawa played a major role in the development of Total Quality Management (TQM) in Japan. He was the founder of the Japan Union of Scientists and Engineers (JUSE), which was established in 1965. JUSE is a non-profit organization that promotes the development of quality management in Japan through research, seminars, workshops, and other activities. JUSE has played a major role in the development of quality management in Japan, including the introduction of the Quality Control (QC) Circle system, the establishment of awards for excellence in the implementation of industrial standardization, and the creation of international cooperation committees. Through JUSE, Ishikawa also published numerous books and papers on quality management topics, such as Introduction to Quality Control and How to Establish Product Standards of Japanese Industrial Standards. In addition, he was a member of the International Cooperation Committee (ASQC) and the chair of the Standards Rationalization Committee. Ishikawa also served as the head of the delegation for the 2nd QC Overseas Research Team, which introduced the QC circle system to Japan, and was a part-time lecturer at Gunma University. Overall, Ishikawa played a major role in the development of TQM in Japan through his leadership of JUSE and his dedication']\n"
          ]
        }
      ]
    },
    {
      "cell_type": "code",
      "source": [
        "query = \"write about:The Role of Kaoru Ishikawa in the Development of TQM - ntroduction of the Deming Prize by JUSE and its significance\"\n",
        "qa.run(query)\n",
        "#append result  to the variable\n",
        "book.append(result)\n",
        "\n",
        "#print the variable\n",
        "print(book)"
      ],
      "metadata": {
        "colab": {
          "base_uri": "https://localhost:8080/"
        },
        "id": "h9hAzQMrQXkT",
        "outputId": "456767cc-079a-4b3a-f058-2671cb839a05"
      },
      "execution_count": 30,
      "outputs": [
        {
          "output_type": "stream",
          "name": "stdout",
          "text": [
            "[' Total Quality Management (TQM) is a management system that seeks to ensure that products and services meet customer needs and expectations through continual improvement of processes and quality assurance. It is a holistic approach to quality control that involves all stakeholders in an organization, from management to employees.', ' Total Quality Management (TQM) has become an increasingly important factor in the modern business world. TQM is a set of practices and processes that organizations use to improve customer satisfaction, reduce costs, and increase efficiency. It emphasizes the importance of continuous improvement, employee involvement, and customer satisfaction. TQM helps organizations to focus on customers and their needs, while also increasing the efficiency and effectiveness of their operations. TQM has been proven to be an effective tool for improving the quality of products and services, as well as improving customer satisfaction and loyalty.', ' Kaoru Ishikawa was a part of the Japanese Union of Scientists and Engineers (JUSE). During his time with the JUSE, he became a lecturer of the Introductory Course for Design of Experiment, a member of the ISO/TC 102 Japan Committee and the chair of the Sampling Subcommittee, the chair of the Editorial Committee of the JUSE English Report, the chair of the editorial board of Genba To QC-magazine, an examiner of the Ministry of International Trade and Industry’s Professional engineers qualification examination, and a part-time lecturer at Gunma University. He was also involved in various QC seminars and events.', ' The thesis statement could be: Kaoru Ishikawa and the Japanese Union of Scientists and Engineers (JUSE) have contributed significantly to the evolution of Total Quality Management (TQM) through their activities and initiatives in the field of quality control.', ' Quality management before TQM was largely based on the work of Walter Shewhart, who developed statistical process control in the 1930s. His work was expanded and adapted by Yasushi Ishida, Kanzo Kiribuchi, and Pearson, amongst others. These early developments laid the foundation for the Total Quality Management movement.', \"\\nInspection, Quality Control, and Quality Assurance are three foundational concepts in the field of quality management. Inspection is the process of examining a product or service to verify that it meets pre-determined requirements. Quality Control is a systematic method of ensuring that a product or service meets a set of predetermined standards. Quality Assurance is a system of activities designed to ensure that the product or service that is delivered meets the customer's expectations. It involves a series of processes, such as design, production, and delivery, that are monitored to ensure that the quality is maintained. Together, these three concepts form the basis for an effective quality management system.\", ' Statistical process control (SPC) is a method of quality control which uses statistical methods to identify and solve problems with a production process. It was developed in the 1930s by Walter Shewhart, Yasushi Ishida, Kanzo Kiribuchi, and Karl Pearson, and was popularized by Dr. W. Edwards Deming in the 1950s and 1960s. SPC is used to monitor product or process quality and ensure that it meets predetermined standards. It is an important tool for improving efficiency and reducing costs in manufacturing and industrial processes.', ' Statistical process control (SPC) is a method used to measure and control quality in the production process. It was developed in the early 20th century as a response to the need for increased consistency in manufacturing. SPC involves collecting, organizing, and analyzing data to identify areas of variation in the production process. This enables manufacturers to make changes to the process to reduce variation and increase quality. This has had a significant impact on manufacturing, as it has allowed manufacturers to improve the consistency and quality of their products.', ' Statistical process control is a method of quality control that uses statistical methods to monitor and control a process. It was developed in the 1930s by Walter Shewhart, Yasushi Ishida, Kanzo Kiribuchi, and Pearson as a way to improve manufacturing processes and product quality. It has become an essential tool for industries around the world, as it allows manufacturers to identify and address potential problems in their production process quickly and efficiently. This has led to greater efficiency and cost savings, as well as improved product quality.', ' Statistical process control (SPC) is a method used to monitor and control a process by collecting data and analyzing the data to identify trends or patterns. It is used to ensure quality and consistency in products and services and is an important part of Total Quality Control (TQC). SPC was developed in the early twentieth century by Walter Shewhart, Yasushi Ishida, and Kanzo Kiribuchi. In 1931, Shewhart published Economic Control of Quality of Manufactured Products, Ishida developed the control chart, and Kiribuchi introduced quality control as “Hinshitsu Tosei” in his book The Science of Industrial Control. In 1935, Pearson’s “The Application of Statistical Methods to Industrial Standardization and Quality Control,” which later became BS 600, was published. SPC has continued to grow in importance as it has been adapted and applied to a variety of industries. It is now seen as an essential tool for quality control and process improvement.', ' Kaoru Ishikawa was born in 1915 in Nishigahara, Takinogawa Ward, Tokyo City. He entered the Elementary School attached to Tokyo Higher Normal School in 1923 at the age of 8. He entered the Junior High School attached to Tokyo Higher Normal School in 1928 at the age of 13 and later entered Tokyo High School University in 1933 at the age of 18. In 1948, he started research on coal briquettes and became a member of the Japanese Association of University Professors and Japanese Society for Engineering Education. In 1965, he joined the 2nd QC Overseas Research Team as the head of the delegation (JUSE) and became an advisor to the Japan Productivity Center.\\n\\nKaoru Ishikawa played an important role in the development of TQM. He gave a special lecture and acted as a discussion leader at the Quality Control Symposium held in Tokyo, welcoming representatives from various countries in Asia. He published How to Establish Product Standards of Japanese Industrial Standards and was a member of the Quality Control Symposium Organizing Committee. He was also chair of the Draft Committee for the JIS M 8100 “Particulate materials – General rules for methods of sampling” and established the FQC Award. He was the chair of', ' Kaoru Ishikawa was a key figure in the development of Total Quality Management (TQM). He was instrumental in the development of Quality Circles, which are groups of employees that meet regularly to discuss and identify quality issues and develop solutions. He was a founding member of the International Friendship Club, which promoted the use of Quality Circles in Japan and abroad. He also wrote and edited the Quality Assurance Guidebook (JUSE Press) and How to Operate QC Circle Activities, which provided guidance for successful Quality Circle implementation. He was also a member of the Japanese Society for Quality Control, the International Cooperation Committee, the ISO/TC 69 Japan Committee, and the Sampling Research Group of Environmental Pollution. He was also involved in various international conferences and meetings, such as the ASQC Annual Conference, the IAQ meeting, the EOQC Conference, and the Japan-Soviet Round-Table Conference on Standardization. Through his work, Ishikawa helped to spread the use of Quality Circles throughout Japan and the world.', '\\n\\nKaoru Ishikawa is widely credited with playing a major role in the development of Total Quality Management (TQM). He is best known for developing the Ishikawa (cause-and-effect) Diagram, also known as the fishbone diagram, which is a tool used to identify and analyze the root causes of problems. Ishikawa was a professor at the University of Tokyo and an advocate of quality control circles. He was also one of the founders of the Japanese Society for Quality Control, and he was the author of several books on quality control. He was an influential figure in the development of the TQM movement in Japan, and his efforts helped to popularize the use of the Ishikawa Diagram in Japan and around the world.', \"\\n\\nKaoru Ishikawa is widely recognized as one of the leading figures in the development of TQM. He is often credited with introducing the concept of “the next process is your customer”, which emphasizes the importance of customer satisfaction in the quality control process. Ishikawa's philosophy states that a company should strive to meet customer needs and expectations in order to maximize profits and ensure long-term success. He believed that customer satisfaction should be at the forefront of any quality control process. This idea is still widely used in TQM today. Ishikawa also served as a member of several committees related to quality control, including the Nuclear Power Plant Quality Assurance Review Committee and the Japanese Society for Quality Control. He also wrote several books on the subject, including Control Points of Quality and How to Establish Product Standards of Japanese Industrial Standards. His contributions to the development of TQM have been invaluable and his legacy will continue to influence the industry for generations to come.\", '\\n\\nKaoru Ishikawa played a major role in the development of Total Quality Management (TQM) in Japan. He was the founder of the Japan Union of Scientists and Engineers (JUSE), which was established in 1965. JUSE is a non-profit organization that promotes the development of quality management in Japan through research, seminars, workshops, and other activities. JUSE has played a major role in the development of quality management in Japan, including the introduction of the Quality Control (QC) Circle system, the establishment of awards for excellence in the implementation of industrial standardization, and the creation of international cooperation committees. Through JUSE, Ishikawa also published numerous books and papers on quality management topics, such as Introduction to Quality Control and How to Establish Product Standards of Japanese Industrial Standards. In addition, he was a member of the International Cooperation Committee (ASQC) and the chair of the Standards Rationalization Committee. Ishikawa also served as the head of the delegation for the 2nd QC Overseas Research Team, which introduced the QC circle system to Japan, and was a part-time lecturer at Gunma University. Overall, Ishikawa played a major role in the development of TQM in Japan through his leadership of JUSE and his dedication', '\\n\\nKaoru Ishikawa played a major role in the development of Total Quality Management (TQM) in Japan. He was the founder of the Japan Union of Scientists and Engineers (JUSE), which was established in 1965. JUSE is a non-profit organization that promotes the development of quality management in Japan through research, seminars, workshops, and other activities. JUSE has played a major role in the development of quality management in Japan, including the introduction of the Quality Control (QC) Circle system, the establishment of awards for excellence in the implementation of industrial standardization, and the creation of international cooperation committees. Through JUSE, Ishikawa also published numerous books and papers on quality management topics, such as Introduction to Quality Control and How to Establish Product Standards of Japanese Industrial Standards. In addition, he was a member of the International Cooperation Committee (ASQC) and the chair of the Standards Rationalization Committee. Ishikawa also served as the head of the delegation for the 2nd QC Overseas Research Team, which introduced the QC circle system to Japan, and was a part-time lecturer at Gunma University. Overall, Ishikawa played a major role in the development of TQM in Japan through his leadership of JUSE and his dedication']\n"
          ]
        }
      ]
    },
    {
      "cell_type": "code",
      "source": [
        "query = \"write about:The Role of Kaoru Ishikawa in the Development of TQM - JUSE's role in promoting TQM and its principles in Japan and globally\"\n",
        "qa.run(query)\n",
        "result = qa.run(query)\n",
        "\n",
        "#append result  to the variable\n",
        "book.append(result)\n",
        "\n",
        "#print the variable\n",
        "print(book)"
      ],
      "metadata": {
        "colab": {
          "base_uri": "https://localhost:8080/"
        },
        "id": "johXbNb7QXvd",
        "outputId": "949f6434-49e2-4778-a706-e2d4f6a22585"
      },
      "execution_count": 31,
      "outputs": [
        {
          "output_type": "stream",
          "name": "stdout",
          "text": [
            "[' Total Quality Management (TQM) is a management system that seeks to ensure that products and services meet customer needs and expectations through continual improvement of processes and quality assurance. It is a holistic approach to quality control that involves all stakeholders in an organization, from management to employees.', ' Total Quality Management (TQM) has become an increasingly important factor in the modern business world. TQM is a set of practices and processes that organizations use to improve customer satisfaction, reduce costs, and increase efficiency. It emphasizes the importance of continuous improvement, employee involvement, and customer satisfaction. TQM helps organizations to focus on customers and their needs, while also increasing the efficiency and effectiveness of their operations. TQM has been proven to be an effective tool for improving the quality of products and services, as well as improving customer satisfaction and loyalty.', ' Kaoru Ishikawa was a part of the Japanese Union of Scientists and Engineers (JUSE). During his time with the JUSE, he became a lecturer of the Introductory Course for Design of Experiment, a member of the ISO/TC 102 Japan Committee and the chair of the Sampling Subcommittee, the chair of the Editorial Committee of the JUSE English Report, the chair of the editorial board of Genba To QC-magazine, an examiner of the Ministry of International Trade and Industry’s Professional engineers qualification examination, and a part-time lecturer at Gunma University. He was also involved in various QC seminars and events.', ' The thesis statement could be: Kaoru Ishikawa and the Japanese Union of Scientists and Engineers (JUSE) have contributed significantly to the evolution of Total Quality Management (TQM) through their activities and initiatives in the field of quality control.', ' Quality management before TQM was largely based on the work of Walter Shewhart, who developed statistical process control in the 1930s. His work was expanded and adapted by Yasushi Ishida, Kanzo Kiribuchi, and Pearson, amongst others. These early developments laid the foundation for the Total Quality Management movement.', \"\\nInspection, Quality Control, and Quality Assurance are three foundational concepts in the field of quality management. Inspection is the process of examining a product or service to verify that it meets pre-determined requirements. Quality Control is a systematic method of ensuring that a product or service meets a set of predetermined standards. Quality Assurance is a system of activities designed to ensure that the product or service that is delivered meets the customer's expectations. It involves a series of processes, such as design, production, and delivery, that are monitored to ensure that the quality is maintained. Together, these three concepts form the basis for an effective quality management system.\", ' Statistical process control (SPC) is a method of quality control which uses statistical methods to identify and solve problems with a production process. It was developed in the 1930s by Walter Shewhart, Yasushi Ishida, Kanzo Kiribuchi, and Karl Pearson, and was popularized by Dr. W. Edwards Deming in the 1950s and 1960s. SPC is used to monitor product or process quality and ensure that it meets predetermined standards. It is an important tool for improving efficiency and reducing costs in manufacturing and industrial processes.', ' Statistical process control (SPC) is a method used to measure and control quality in the production process. It was developed in the early 20th century as a response to the need for increased consistency in manufacturing. SPC involves collecting, organizing, and analyzing data to identify areas of variation in the production process. This enables manufacturers to make changes to the process to reduce variation and increase quality. This has had a significant impact on manufacturing, as it has allowed manufacturers to improve the consistency and quality of their products.', ' Statistical process control is a method of quality control that uses statistical methods to monitor and control a process. It was developed in the 1930s by Walter Shewhart, Yasushi Ishida, Kanzo Kiribuchi, and Pearson as a way to improve manufacturing processes and product quality. It has become an essential tool for industries around the world, as it allows manufacturers to identify and address potential problems in their production process quickly and efficiently. This has led to greater efficiency and cost savings, as well as improved product quality.', ' Statistical process control (SPC) is a method used to monitor and control a process by collecting data and analyzing the data to identify trends or patterns. It is used to ensure quality and consistency in products and services and is an important part of Total Quality Control (TQC). SPC was developed in the early twentieth century by Walter Shewhart, Yasushi Ishida, and Kanzo Kiribuchi. In 1931, Shewhart published Economic Control of Quality of Manufactured Products, Ishida developed the control chart, and Kiribuchi introduced quality control as “Hinshitsu Tosei” in his book The Science of Industrial Control. In 1935, Pearson’s “The Application of Statistical Methods to Industrial Standardization and Quality Control,” which later became BS 600, was published. SPC has continued to grow in importance as it has been adapted and applied to a variety of industries. It is now seen as an essential tool for quality control and process improvement.', ' Kaoru Ishikawa was born in 1915 in Nishigahara, Takinogawa Ward, Tokyo City. He entered the Elementary School attached to Tokyo Higher Normal School in 1923 at the age of 8. He entered the Junior High School attached to Tokyo Higher Normal School in 1928 at the age of 13 and later entered Tokyo High School University in 1933 at the age of 18. In 1948, he started research on coal briquettes and became a member of the Japanese Association of University Professors and Japanese Society for Engineering Education. In 1965, he joined the 2nd QC Overseas Research Team as the head of the delegation (JUSE) and became an advisor to the Japan Productivity Center.\\n\\nKaoru Ishikawa played an important role in the development of TQM. He gave a special lecture and acted as a discussion leader at the Quality Control Symposium held in Tokyo, welcoming representatives from various countries in Asia. He published How to Establish Product Standards of Japanese Industrial Standards and was a member of the Quality Control Symposium Organizing Committee. He was also chair of the Draft Committee for the JIS M 8100 “Particulate materials – General rules for methods of sampling” and established the FQC Award. He was the chair of', ' Kaoru Ishikawa was a key figure in the development of Total Quality Management (TQM). He was instrumental in the development of Quality Circles, which are groups of employees that meet regularly to discuss and identify quality issues and develop solutions. He was a founding member of the International Friendship Club, which promoted the use of Quality Circles in Japan and abroad. He also wrote and edited the Quality Assurance Guidebook (JUSE Press) and How to Operate QC Circle Activities, which provided guidance for successful Quality Circle implementation. He was also a member of the Japanese Society for Quality Control, the International Cooperation Committee, the ISO/TC 69 Japan Committee, and the Sampling Research Group of Environmental Pollution. He was also involved in various international conferences and meetings, such as the ASQC Annual Conference, the IAQ meeting, the EOQC Conference, and the Japan-Soviet Round-Table Conference on Standardization. Through his work, Ishikawa helped to spread the use of Quality Circles throughout Japan and the world.', '\\n\\nKaoru Ishikawa is widely credited with playing a major role in the development of Total Quality Management (TQM). He is best known for developing the Ishikawa (cause-and-effect) Diagram, also known as the fishbone diagram, which is a tool used to identify and analyze the root causes of problems. Ishikawa was a professor at the University of Tokyo and an advocate of quality control circles. He was also one of the founders of the Japanese Society for Quality Control, and he was the author of several books on quality control. He was an influential figure in the development of the TQM movement in Japan, and his efforts helped to popularize the use of the Ishikawa Diagram in Japan and around the world.', \"\\n\\nKaoru Ishikawa is widely recognized as one of the leading figures in the development of TQM. He is often credited with introducing the concept of “the next process is your customer”, which emphasizes the importance of customer satisfaction in the quality control process. Ishikawa's philosophy states that a company should strive to meet customer needs and expectations in order to maximize profits and ensure long-term success. He believed that customer satisfaction should be at the forefront of any quality control process. This idea is still widely used in TQM today. Ishikawa also served as a member of several committees related to quality control, including the Nuclear Power Plant Quality Assurance Review Committee and the Japanese Society for Quality Control. He also wrote several books on the subject, including Control Points of Quality and How to Establish Product Standards of Japanese Industrial Standards. His contributions to the development of TQM have been invaluable and his legacy will continue to influence the industry for generations to come.\", '\\n\\nKaoru Ishikawa played a major role in the development of Total Quality Management (TQM) in Japan. He was the founder of the Japan Union of Scientists and Engineers (JUSE), which was established in 1965. JUSE is a non-profit organization that promotes the development of quality management in Japan through research, seminars, workshops, and other activities. JUSE has played a major role in the development of quality management in Japan, including the introduction of the Quality Control (QC) Circle system, the establishment of awards for excellence in the implementation of industrial standardization, and the creation of international cooperation committees. Through JUSE, Ishikawa also published numerous books and papers on quality management topics, such as Introduction to Quality Control and How to Establish Product Standards of Japanese Industrial Standards. In addition, he was a member of the International Cooperation Committee (ASQC) and the chair of the Standards Rationalization Committee. Ishikawa also served as the head of the delegation for the 2nd QC Overseas Research Team, which introduced the QC circle system to Japan, and was a part-time lecturer at Gunma University. Overall, Ishikawa played a major role in the development of TQM in Japan through his leadership of JUSE and his dedication', '\\n\\nKaoru Ishikawa played a major role in the development of Total Quality Management (TQM) in Japan. He was the founder of the Japan Union of Scientists and Engineers (JUSE), which was established in 1965. JUSE is a non-profit organization that promotes the development of quality management in Japan through research, seminars, workshops, and other activities. JUSE has played a major role in the development of quality management in Japan, including the introduction of the Quality Control (QC) Circle system, the establishment of awards for excellence in the implementation of industrial standardization, and the creation of international cooperation committees. Through JUSE, Ishikawa also published numerous books and papers on quality management topics, such as Introduction to Quality Control and How to Establish Product Standards of Japanese Industrial Standards. In addition, he was a member of the International Cooperation Committee (ASQC) and the chair of the Standards Rationalization Committee. Ishikawa also served as the head of the delegation for the 2nd QC Overseas Research Team, which introduced the QC circle system to Japan, and was a part-time lecturer at Gunma University. Overall, Ishikawa played a major role in the development of TQM in Japan through his leadership of JUSE and his dedication', \"\\n\\nKaoru Ishikawa had an instrumental role in the development of TQM in Japan and globally. Through his involvement in organizations such as the Japanese Society for Quality Control (JUSE) and the International Cooperation Committee (ASQC), he was able to promote TQM and its principles. He gave lectures, wrote books, and organized seminars to spread the importance of quality assurance and management. He also served as the chair of the Program Committee for the International Convention on Quality Circles in 1978 (ICQCC '78-TOKYO) and was the head of the 1st QC Research Delegation Team that visited China. His efforts have helped to spread TQM and its principles in Japan and around the world.\"]\n"
          ]
        }
      ]
    },
    {
      "cell_type": "markdown",
      "source": [
        "## VI. The Impact of TQM, Ishikawa, and JUSE on Contemporary Business Practices\n",
        "- Analysis of the role TQM plays in today's business and management practices\n",
        "- The legacy of Ishikawa's methods and tools in current quality management\n",
        "- Influence of JUSE's principles in contemporary quality initiatives and awards\n"
      ],
      "metadata": {
        "id": "0KeRuCyHwzH3"
      }
    },
    {
      "cell_type": "code",
      "source": [
        "query = \"write about: The Impact of TQM, Ishikawa, and JUSE on Contemporary Business Practices - Analysis of the role TQM plays in today's business and management practices\"\n",
        "qa.run(query)\n",
        "result = qa.run(query)\n",
        "\n",
        "#append result  to the variable\n",
        "book.append(result)\n",
        "\n",
        "#print the variable\n",
        "print(book)"
      ],
      "metadata": {
        "colab": {
          "base_uri": "https://localhost:8080/"
        },
        "id": "LjtqA2oEQfXh",
        "outputId": "4b1d3f98-47de-40d5-9ed6-8986b455fc64"
      },
      "execution_count": 32,
      "outputs": [
        {
          "output_type": "stream",
          "name": "stdout",
          "text": [
            "[' Total Quality Management (TQM) is a management system that seeks to ensure that products and services meet customer needs and expectations through continual improvement of processes and quality assurance. It is a holistic approach to quality control that involves all stakeholders in an organization, from management to employees.', ' Total Quality Management (TQM) has become an increasingly important factor in the modern business world. TQM is a set of practices and processes that organizations use to improve customer satisfaction, reduce costs, and increase efficiency. It emphasizes the importance of continuous improvement, employee involvement, and customer satisfaction. TQM helps organizations to focus on customers and their needs, while also increasing the efficiency and effectiveness of their operations. TQM has been proven to be an effective tool for improving the quality of products and services, as well as improving customer satisfaction and loyalty.', ' Kaoru Ishikawa was a part of the Japanese Union of Scientists and Engineers (JUSE). During his time with the JUSE, he became a lecturer of the Introductory Course for Design of Experiment, a member of the ISO/TC 102 Japan Committee and the chair of the Sampling Subcommittee, the chair of the Editorial Committee of the JUSE English Report, the chair of the editorial board of Genba To QC-magazine, an examiner of the Ministry of International Trade and Industry’s Professional engineers qualification examination, and a part-time lecturer at Gunma University. He was also involved in various QC seminars and events.', ' The thesis statement could be: Kaoru Ishikawa and the Japanese Union of Scientists and Engineers (JUSE) have contributed significantly to the evolution of Total Quality Management (TQM) through their activities and initiatives in the field of quality control.', ' Quality management before TQM was largely based on the work of Walter Shewhart, who developed statistical process control in the 1930s. His work was expanded and adapted by Yasushi Ishida, Kanzo Kiribuchi, and Pearson, amongst others. These early developments laid the foundation for the Total Quality Management movement.', \"\\nInspection, Quality Control, and Quality Assurance are three foundational concepts in the field of quality management. Inspection is the process of examining a product or service to verify that it meets pre-determined requirements. Quality Control is a systematic method of ensuring that a product or service meets a set of predetermined standards. Quality Assurance is a system of activities designed to ensure that the product or service that is delivered meets the customer's expectations. It involves a series of processes, such as design, production, and delivery, that are monitored to ensure that the quality is maintained. Together, these three concepts form the basis for an effective quality management system.\", ' Statistical process control (SPC) is a method of quality control which uses statistical methods to identify and solve problems with a production process. It was developed in the 1930s by Walter Shewhart, Yasushi Ishida, Kanzo Kiribuchi, and Karl Pearson, and was popularized by Dr. W. Edwards Deming in the 1950s and 1960s. SPC is used to monitor product or process quality and ensure that it meets predetermined standards. It is an important tool for improving efficiency and reducing costs in manufacturing and industrial processes.', ' Statistical process control (SPC) is a method used to measure and control quality in the production process. It was developed in the early 20th century as a response to the need for increased consistency in manufacturing. SPC involves collecting, organizing, and analyzing data to identify areas of variation in the production process. This enables manufacturers to make changes to the process to reduce variation and increase quality. This has had a significant impact on manufacturing, as it has allowed manufacturers to improve the consistency and quality of their products.', ' Statistical process control is a method of quality control that uses statistical methods to monitor and control a process. It was developed in the 1930s by Walter Shewhart, Yasushi Ishida, Kanzo Kiribuchi, and Pearson as a way to improve manufacturing processes and product quality. It has become an essential tool for industries around the world, as it allows manufacturers to identify and address potential problems in their production process quickly and efficiently. This has led to greater efficiency and cost savings, as well as improved product quality.', ' Statistical process control (SPC) is a method used to monitor and control a process by collecting data and analyzing the data to identify trends or patterns. It is used to ensure quality and consistency in products and services and is an important part of Total Quality Control (TQC). SPC was developed in the early twentieth century by Walter Shewhart, Yasushi Ishida, and Kanzo Kiribuchi. In 1931, Shewhart published Economic Control of Quality of Manufactured Products, Ishida developed the control chart, and Kiribuchi introduced quality control as “Hinshitsu Tosei” in his book The Science of Industrial Control. In 1935, Pearson’s “The Application of Statistical Methods to Industrial Standardization and Quality Control,” which later became BS 600, was published. SPC has continued to grow in importance as it has been adapted and applied to a variety of industries. It is now seen as an essential tool for quality control and process improvement.', ' Kaoru Ishikawa was born in 1915 in Nishigahara, Takinogawa Ward, Tokyo City. He entered the Elementary School attached to Tokyo Higher Normal School in 1923 at the age of 8. He entered the Junior High School attached to Tokyo Higher Normal School in 1928 at the age of 13 and later entered Tokyo High School University in 1933 at the age of 18. In 1948, he started research on coal briquettes and became a member of the Japanese Association of University Professors and Japanese Society for Engineering Education. In 1965, he joined the 2nd QC Overseas Research Team as the head of the delegation (JUSE) and became an advisor to the Japan Productivity Center.\\n\\nKaoru Ishikawa played an important role in the development of TQM. He gave a special lecture and acted as a discussion leader at the Quality Control Symposium held in Tokyo, welcoming representatives from various countries in Asia. He published How to Establish Product Standards of Japanese Industrial Standards and was a member of the Quality Control Symposium Organizing Committee. He was also chair of the Draft Committee for the JIS M 8100 “Particulate materials – General rules for methods of sampling” and established the FQC Award. He was the chair of', ' Kaoru Ishikawa was a key figure in the development of Total Quality Management (TQM). He was instrumental in the development of Quality Circles, which are groups of employees that meet regularly to discuss and identify quality issues and develop solutions. He was a founding member of the International Friendship Club, which promoted the use of Quality Circles in Japan and abroad. He also wrote and edited the Quality Assurance Guidebook (JUSE Press) and How to Operate QC Circle Activities, which provided guidance for successful Quality Circle implementation. He was also a member of the Japanese Society for Quality Control, the International Cooperation Committee, the ISO/TC 69 Japan Committee, and the Sampling Research Group of Environmental Pollution. He was also involved in various international conferences and meetings, such as the ASQC Annual Conference, the IAQ meeting, the EOQC Conference, and the Japan-Soviet Round-Table Conference on Standardization. Through his work, Ishikawa helped to spread the use of Quality Circles throughout Japan and the world.', '\\n\\nKaoru Ishikawa is widely credited with playing a major role in the development of Total Quality Management (TQM). He is best known for developing the Ishikawa (cause-and-effect) Diagram, also known as the fishbone diagram, which is a tool used to identify and analyze the root causes of problems. Ishikawa was a professor at the University of Tokyo and an advocate of quality control circles. He was also one of the founders of the Japanese Society for Quality Control, and he was the author of several books on quality control. He was an influential figure in the development of the TQM movement in Japan, and his efforts helped to popularize the use of the Ishikawa Diagram in Japan and around the world.', \"\\n\\nKaoru Ishikawa is widely recognized as one of the leading figures in the development of TQM. He is often credited with introducing the concept of “the next process is your customer”, which emphasizes the importance of customer satisfaction in the quality control process. Ishikawa's philosophy states that a company should strive to meet customer needs and expectations in order to maximize profits and ensure long-term success. He believed that customer satisfaction should be at the forefront of any quality control process. This idea is still widely used in TQM today. Ishikawa also served as a member of several committees related to quality control, including the Nuclear Power Plant Quality Assurance Review Committee and the Japanese Society for Quality Control. He also wrote several books on the subject, including Control Points of Quality and How to Establish Product Standards of Japanese Industrial Standards. His contributions to the development of TQM have been invaluable and his legacy will continue to influence the industry for generations to come.\", '\\n\\nKaoru Ishikawa played a major role in the development of Total Quality Management (TQM) in Japan. He was the founder of the Japan Union of Scientists and Engineers (JUSE), which was established in 1965. JUSE is a non-profit organization that promotes the development of quality management in Japan through research, seminars, workshops, and other activities. JUSE has played a major role in the development of quality management in Japan, including the introduction of the Quality Control (QC) Circle system, the establishment of awards for excellence in the implementation of industrial standardization, and the creation of international cooperation committees. Through JUSE, Ishikawa also published numerous books and papers on quality management topics, such as Introduction to Quality Control and How to Establish Product Standards of Japanese Industrial Standards. In addition, he was a member of the International Cooperation Committee (ASQC) and the chair of the Standards Rationalization Committee. Ishikawa also served as the head of the delegation for the 2nd QC Overseas Research Team, which introduced the QC circle system to Japan, and was a part-time lecturer at Gunma University. Overall, Ishikawa played a major role in the development of TQM in Japan through his leadership of JUSE and his dedication', '\\n\\nKaoru Ishikawa played a major role in the development of Total Quality Management (TQM) in Japan. He was the founder of the Japan Union of Scientists and Engineers (JUSE), which was established in 1965. JUSE is a non-profit organization that promotes the development of quality management in Japan through research, seminars, workshops, and other activities. JUSE has played a major role in the development of quality management in Japan, including the introduction of the Quality Control (QC) Circle system, the establishment of awards for excellence in the implementation of industrial standardization, and the creation of international cooperation committees. Through JUSE, Ishikawa also published numerous books and papers on quality management topics, such as Introduction to Quality Control and How to Establish Product Standards of Japanese Industrial Standards. In addition, he was a member of the International Cooperation Committee (ASQC) and the chair of the Standards Rationalization Committee. Ishikawa also served as the head of the delegation for the 2nd QC Overseas Research Team, which introduced the QC circle system to Japan, and was a part-time lecturer at Gunma University. Overall, Ishikawa played a major role in the development of TQM in Japan through his leadership of JUSE and his dedication', \"\\n\\nKaoru Ishikawa had an instrumental role in the development of TQM in Japan and globally. Through his involvement in organizations such as the Japanese Society for Quality Control (JUSE) and the International Cooperation Committee (ASQC), he was able to promote TQM and its principles. He gave lectures, wrote books, and organized seminars to spread the importance of quality assurance and management. He also served as the chair of the Program Committee for the International Convention on Quality Circles in 1978 (ICQCC '78-TOKYO) and was the head of the 1st QC Research Delegation Team that visited China. His efforts have helped to spread TQM and its principles in Japan and around the world.\", ' \\n\\nThe impact of TQM, Ishikawa, and JUSE on contemporary business and management practices has been significant. The principles of TQM, as developed by Ishikawa and promoted by JUSE, have been widely adopted by businesses around the world. These principles, which emphasize continuous improvement, customer focus, and organizational learning, have become integral to the way businesses approach operations, innovation, and customer satisfaction. TQM has also been embraced by management in order to improve employee engagement and increase organizational efficiency. By focusing on reducing waste and increasing efficiency, TQM has been instrumental in helping businesses remain competitive in the global marketplace.']\n"
          ]
        }
      ]
    },
    {
      "cell_type": "code",
      "source": [
        "query = \"write about: The Impact of TQM, Ishikawa, and JUSE on Contemporary Business Practices - The legacy of Ishikawa's methods and tools in current quality management\"\n",
        "qa.run(query)\n",
        "result = qa.run(query)\n",
        "\n",
        "#append result  to the variable\n",
        "book.append(result)\n",
        "\n",
        "#print the variable\n",
        "print(book)"
      ],
      "metadata": {
        "colab": {
          "base_uri": "https://localhost:8080/"
        },
        "id": "EKRIA6wUQlQl",
        "outputId": "67becf84-acdb-4dec-be3d-fcfb4e5021b5"
      },
      "execution_count": 33,
      "outputs": [
        {
          "output_type": "stream",
          "name": "stdout",
          "text": [
            "[' Total Quality Management (TQM) is a management system that seeks to ensure that products and services meet customer needs and expectations through continual improvement of processes and quality assurance. It is a holistic approach to quality control that involves all stakeholders in an organization, from management to employees.', ' Total Quality Management (TQM) has become an increasingly important factor in the modern business world. TQM is a set of practices and processes that organizations use to improve customer satisfaction, reduce costs, and increase efficiency. It emphasizes the importance of continuous improvement, employee involvement, and customer satisfaction. TQM helps organizations to focus on customers and their needs, while also increasing the efficiency and effectiveness of their operations. TQM has been proven to be an effective tool for improving the quality of products and services, as well as improving customer satisfaction and loyalty.', ' Kaoru Ishikawa was a part of the Japanese Union of Scientists and Engineers (JUSE). During his time with the JUSE, he became a lecturer of the Introductory Course for Design of Experiment, a member of the ISO/TC 102 Japan Committee and the chair of the Sampling Subcommittee, the chair of the Editorial Committee of the JUSE English Report, the chair of the editorial board of Genba To QC-magazine, an examiner of the Ministry of International Trade and Industry’s Professional engineers qualification examination, and a part-time lecturer at Gunma University. He was also involved in various QC seminars and events.', ' The thesis statement could be: Kaoru Ishikawa and the Japanese Union of Scientists and Engineers (JUSE) have contributed significantly to the evolution of Total Quality Management (TQM) through their activities and initiatives in the field of quality control.', ' Quality management before TQM was largely based on the work of Walter Shewhart, who developed statistical process control in the 1930s. His work was expanded and adapted by Yasushi Ishida, Kanzo Kiribuchi, and Pearson, amongst others. These early developments laid the foundation for the Total Quality Management movement.', \"\\nInspection, Quality Control, and Quality Assurance are three foundational concepts in the field of quality management. Inspection is the process of examining a product or service to verify that it meets pre-determined requirements. Quality Control is a systematic method of ensuring that a product or service meets a set of predetermined standards. Quality Assurance is a system of activities designed to ensure that the product or service that is delivered meets the customer's expectations. It involves a series of processes, such as design, production, and delivery, that are monitored to ensure that the quality is maintained. Together, these three concepts form the basis for an effective quality management system.\", ' Statistical process control (SPC) is a method of quality control which uses statistical methods to identify and solve problems with a production process. It was developed in the 1930s by Walter Shewhart, Yasushi Ishida, Kanzo Kiribuchi, and Karl Pearson, and was popularized by Dr. W. Edwards Deming in the 1950s and 1960s. SPC is used to monitor product or process quality and ensure that it meets predetermined standards. It is an important tool for improving efficiency and reducing costs in manufacturing and industrial processes.', ' Statistical process control (SPC) is a method used to measure and control quality in the production process. It was developed in the early 20th century as a response to the need for increased consistency in manufacturing. SPC involves collecting, organizing, and analyzing data to identify areas of variation in the production process. This enables manufacturers to make changes to the process to reduce variation and increase quality. This has had a significant impact on manufacturing, as it has allowed manufacturers to improve the consistency and quality of their products.', ' Statistical process control is a method of quality control that uses statistical methods to monitor and control a process. It was developed in the 1930s by Walter Shewhart, Yasushi Ishida, Kanzo Kiribuchi, and Pearson as a way to improve manufacturing processes and product quality. It has become an essential tool for industries around the world, as it allows manufacturers to identify and address potential problems in their production process quickly and efficiently. This has led to greater efficiency and cost savings, as well as improved product quality.', ' Statistical process control (SPC) is a method used to monitor and control a process by collecting data and analyzing the data to identify trends or patterns. It is used to ensure quality and consistency in products and services and is an important part of Total Quality Control (TQC). SPC was developed in the early twentieth century by Walter Shewhart, Yasushi Ishida, and Kanzo Kiribuchi. In 1931, Shewhart published Economic Control of Quality of Manufactured Products, Ishida developed the control chart, and Kiribuchi introduced quality control as “Hinshitsu Tosei” in his book The Science of Industrial Control. In 1935, Pearson’s “The Application of Statistical Methods to Industrial Standardization and Quality Control,” which later became BS 600, was published. SPC has continued to grow in importance as it has been adapted and applied to a variety of industries. It is now seen as an essential tool for quality control and process improvement.', ' Kaoru Ishikawa was born in 1915 in Nishigahara, Takinogawa Ward, Tokyo City. He entered the Elementary School attached to Tokyo Higher Normal School in 1923 at the age of 8. He entered the Junior High School attached to Tokyo Higher Normal School in 1928 at the age of 13 and later entered Tokyo High School University in 1933 at the age of 18. In 1948, he started research on coal briquettes and became a member of the Japanese Association of University Professors and Japanese Society for Engineering Education. In 1965, he joined the 2nd QC Overseas Research Team as the head of the delegation (JUSE) and became an advisor to the Japan Productivity Center.\\n\\nKaoru Ishikawa played an important role in the development of TQM. He gave a special lecture and acted as a discussion leader at the Quality Control Symposium held in Tokyo, welcoming representatives from various countries in Asia. He published How to Establish Product Standards of Japanese Industrial Standards and was a member of the Quality Control Symposium Organizing Committee. He was also chair of the Draft Committee for the JIS M 8100 “Particulate materials – General rules for methods of sampling” and established the FQC Award. He was the chair of', ' Kaoru Ishikawa was a key figure in the development of Total Quality Management (TQM). He was instrumental in the development of Quality Circles, which are groups of employees that meet regularly to discuss and identify quality issues and develop solutions. He was a founding member of the International Friendship Club, which promoted the use of Quality Circles in Japan and abroad. He also wrote and edited the Quality Assurance Guidebook (JUSE Press) and How to Operate QC Circle Activities, which provided guidance for successful Quality Circle implementation. He was also a member of the Japanese Society for Quality Control, the International Cooperation Committee, the ISO/TC 69 Japan Committee, and the Sampling Research Group of Environmental Pollution. He was also involved in various international conferences and meetings, such as the ASQC Annual Conference, the IAQ meeting, the EOQC Conference, and the Japan-Soviet Round-Table Conference on Standardization. Through his work, Ishikawa helped to spread the use of Quality Circles throughout Japan and the world.', '\\n\\nKaoru Ishikawa is widely credited with playing a major role in the development of Total Quality Management (TQM). He is best known for developing the Ishikawa (cause-and-effect) Diagram, also known as the fishbone diagram, which is a tool used to identify and analyze the root causes of problems. Ishikawa was a professor at the University of Tokyo and an advocate of quality control circles. He was also one of the founders of the Japanese Society for Quality Control, and he was the author of several books on quality control. He was an influential figure in the development of the TQM movement in Japan, and his efforts helped to popularize the use of the Ishikawa Diagram in Japan and around the world.', \"\\n\\nKaoru Ishikawa is widely recognized as one of the leading figures in the development of TQM. He is often credited with introducing the concept of “the next process is your customer”, which emphasizes the importance of customer satisfaction in the quality control process. Ishikawa's philosophy states that a company should strive to meet customer needs and expectations in order to maximize profits and ensure long-term success. He believed that customer satisfaction should be at the forefront of any quality control process. This idea is still widely used in TQM today. Ishikawa also served as a member of several committees related to quality control, including the Nuclear Power Plant Quality Assurance Review Committee and the Japanese Society for Quality Control. He also wrote several books on the subject, including Control Points of Quality and How to Establish Product Standards of Japanese Industrial Standards. His contributions to the development of TQM have been invaluable and his legacy will continue to influence the industry for generations to come.\", '\\n\\nKaoru Ishikawa played a major role in the development of Total Quality Management (TQM) in Japan. He was the founder of the Japan Union of Scientists and Engineers (JUSE), which was established in 1965. JUSE is a non-profit organization that promotes the development of quality management in Japan through research, seminars, workshops, and other activities. JUSE has played a major role in the development of quality management in Japan, including the introduction of the Quality Control (QC) Circle system, the establishment of awards for excellence in the implementation of industrial standardization, and the creation of international cooperation committees. Through JUSE, Ishikawa also published numerous books and papers on quality management topics, such as Introduction to Quality Control and How to Establish Product Standards of Japanese Industrial Standards. In addition, he was a member of the International Cooperation Committee (ASQC) and the chair of the Standards Rationalization Committee. Ishikawa also served as the head of the delegation for the 2nd QC Overseas Research Team, which introduced the QC circle system to Japan, and was a part-time lecturer at Gunma University. Overall, Ishikawa played a major role in the development of TQM in Japan through his leadership of JUSE and his dedication', '\\n\\nKaoru Ishikawa played a major role in the development of Total Quality Management (TQM) in Japan. He was the founder of the Japan Union of Scientists and Engineers (JUSE), which was established in 1965. JUSE is a non-profit organization that promotes the development of quality management in Japan through research, seminars, workshops, and other activities. JUSE has played a major role in the development of quality management in Japan, including the introduction of the Quality Control (QC) Circle system, the establishment of awards for excellence in the implementation of industrial standardization, and the creation of international cooperation committees. Through JUSE, Ishikawa also published numerous books and papers on quality management topics, such as Introduction to Quality Control and How to Establish Product Standards of Japanese Industrial Standards. In addition, he was a member of the International Cooperation Committee (ASQC) and the chair of the Standards Rationalization Committee. Ishikawa also served as the head of the delegation for the 2nd QC Overseas Research Team, which introduced the QC circle system to Japan, and was a part-time lecturer at Gunma University. Overall, Ishikawa played a major role in the development of TQM in Japan through his leadership of JUSE and his dedication', \"\\n\\nKaoru Ishikawa had an instrumental role in the development of TQM in Japan and globally. Through his involvement in organizations such as the Japanese Society for Quality Control (JUSE) and the International Cooperation Committee (ASQC), he was able to promote TQM and its principles. He gave lectures, wrote books, and organized seminars to spread the importance of quality assurance and management. He also served as the chair of the Program Committee for the International Convention on Quality Circles in 1978 (ICQCC '78-TOKYO) and was the head of the 1st QC Research Delegation Team that visited China. His efforts have helped to spread TQM and its principles in Japan and around the world.\", ' \\n\\nThe impact of TQM, Ishikawa, and JUSE on contemporary business and management practices has been significant. The principles of TQM, as developed by Ishikawa and promoted by JUSE, have been widely adopted by businesses around the world. These principles, which emphasize continuous improvement, customer focus, and organizational learning, have become integral to the way businesses approach operations, innovation, and customer satisfaction. TQM has also been embraced by management in order to improve employee engagement and increase organizational efficiency. By focusing on reducing waste and increasing efficiency, TQM has been instrumental in helping businesses remain competitive in the global marketplace.', \"\\n\\nKaoru Ishikawa's Total Quality Management (TQM) methods and tools have had a great impact on contemporary business practices. His work focused on the importance of quality control, which he believed could be achieved through the use of various techniques such as QC circles, problem solving, and statistical control. He became a leading figure in the quality control field and was instrumental in establishing the Japanese Society for Quality Control (JUSE).\\n\\nIshikawa's methods and tools are still widely used today, particularly in the manufacturing industry. For example, many organizations use his 7 Quality Control Tools to identify process issues, analyze data, and develop solutions. Additionally, QC Circles, which were developed by Ishikawa, are still used to promote quality improvement through problem solving and peer-based learning.\\n\\nThe legacy of Ishikawa's methods and tools has had a lasting impact on contemporary business practices. His ideas continue to be relevant and are widely used in the manufacturing industry as well as in other industries such as healthcare and finance. His work has been instrumental in helping organizations to achieve higher standards of quality and has revolutionized the way businesses are run.\"]\n"
          ]
        }
      ]
    },
    {
      "cell_type": "code",
      "source": [
        "query = \"write about: The Impact of TQM, Ishikawa, and JUSE on Contemporary Business Practices - Influence of JUSE's principles in contemporary quality initiatives and awards\"\n",
        "qa.run(query)\n",
        "result = qa.run(query)\n",
        "\n",
        "#append result  to the variable\n",
        "book.append(result)\n",
        "\n",
        "#print the variable\n",
        "print(book)"
      ],
      "metadata": {
        "colab": {
          "base_uri": "https://localhost:8080/"
        },
        "id": "UOfr9BSqQlYY",
        "outputId": "7a04b563-e6cb-4063-a3ef-892289ebfd39"
      },
      "execution_count": 34,
      "outputs": [
        {
          "output_type": "stream",
          "name": "stdout",
          "text": [
            "[' Total Quality Management (TQM) is a management system that seeks to ensure that products and services meet customer needs and expectations through continual improvement of processes and quality assurance. It is a holistic approach to quality control that involves all stakeholders in an organization, from management to employees.', ' Total Quality Management (TQM) has become an increasingly important factor in the modern business world. TQM is a set of practices and processes that organizations use to improve customer satisfaction, reduce costs, and increase efficiency. It emphasizes the importance of continuous improvement, employee involvement, and customer satisfaction. TQM helps organizations to focus on customers and their needs, while also increasing the efficiency and effectiveness of their operations. TQM has been proven to be an effective tool for improving the quality of products and services, as well as improving customer satisfaction and loyalty.', ' Kaoru Ishikawa was a part of the Japanese Union of Scientists and Engineers (JUSE). During his time with the JUSE, he became a lecturer of the Introductory Course for Design of Experiment, a member of the ISO/TC 102 Japan Committee and the chair of the Sampling Subcommittee, the chair of the Editorial Committee of the JUSE English Report, the chair of the editorial board of Genba To QC-magazine, an examiner of the Ministry of International Trade and Industry’s Professional engineers qualification examination, and a part-time lecturer at Gunma University. He was also involved in various QC seminars and events.', ' The thesis statement could be: Kaoru Ishikawa and the Japanese Union of Scientists and Engineers (JUSE) have contributed significantly to the evolution of Total Quality Management (TQM) through their activities and initiatives in the field of quality control.', ' Quality management before TQM was largely based on the work of Walter Shewhart, who developed statistical process control in the 1930s. His work was expanded and adapted by Yasushi Ishida, Kanzo Kiribuchi, and Pearson, amongst others. These early developments laid the foundation for the Total Quality Management movement.', \"\\nInspection, Quality Control, and Quality Assurance are three foundational concepts in the field of quality management. Inspection is the process of examining a product or service to verify that it meets pre-determined requirements. Quality Control is a systematic method of ensuring that a product or service meets a set of predetermined standards. Quality Assurance is a system of activities designed to ensure that the product or service that is delivered meets the customer's expectations. It involves a series of processes, such as design, production, and delivery, that are monitored to ensure that the quality is maintained. Together, these three concepts form the basis for an effective quality management system.\", ' Statistical process control (SPC) is a method of quality control which uses statistical methods to identify and solve problems with a production process. It was developed in the 1930s by Walter Shewhart, Yasushi Ishida, Kanzo Kiribuchi, and Karl Pearson, and was popularized by Dr. W. Edwards Deming in the 1950s and 1960s. SPC is used to monitor product or process quality and ensure that it meets predetermined standards. It is an important tool for improving efficiency and reducing costs in manufacturing and industrial processes.', ' Statistical process control (SPC) is a method used to measure and control quality in the production process. It was developed in the early 20th century as a response to the need for increased consistency in manufacturing. SPC involves collecting, organizing, and analyzing data to identify areas of variation in the production process. This enables manufacturers to make changes to the process to reduce variation and increase quality. This has had a significant impact on manufacturing, as it has allowed manufacturers to improve the consistency and quality of their products.', ' Statistical process control is a method of quality control that uses statistical methods to monitor and control a process. It was developed in the 1930s by Walter Shewhart, Yasushi Ishida, Kanzo Kiribuchi, and Pearson as a way to improve manufacturing processes and product quality. It has become an essential tool for industries around the world, as it allows manufacturers to identify and address potential problems in their production process quickly and efficiently. This has led to greater efficiency and cost savings, as well as improved product quality.', ' Statistical process control (SPC) is a method used to monitor and control a process by collecting data and analyzing the data to identify trends or patterns. It is used to ensure quality and consistency in products and services and is an important part of Total Quality Control (TQC). SPC was developed in the early twentieth century by Walter Shewhart, Yasushi Ishida, and Kanzo Kiribuchi. In 1931, Shewhart published Economic Control of Quality of Manufactured Products, Ishida developed the control chart, and Kiribuchi introduced quality control as “Hinshitsu Tosei” in his book The Science of Industrial Control. In 1935, Pearson’s “The Application of Statistical Methods to Industrial Standardization and Quality Control,” which later became BS 600, was published. SPC has continued to grow in importance as it has been adapted and applied to a variety of industries. It is now seen as an essential tool for quality control and process improvement.', ' Kaoru Ishikawa was born in 1915 in Nishigahara, Takinogawa Ward, Tokyo City. He entered the Elementary School attached to Tokyo Higher Normal School in 1923 at the age of 8. He entered the Junior High School attached to Tokyo Higher Normal School in 1928 at the age of 13 and later entered Tokyo High School University in 1933 at the age of 18. In 1948, he started research on coal briquettes and became a member of the Japanese Association of University Professors and Japanese Society for Engineering Education. In 1965, he joined the 2nd QC Overseas Research Team as the head of the delegation (JUSE) and became an advisor to the Japan Productivity Center.\\n\\nKaoru Ishikawa played an important role in the development of TQM. He gave a special lecture and acted as a discussion leader at the Quality Control Symposium held in Tokyo, welcoming representatives from various countries in Asia. He published How to Establish Product Standards of Japanese Industrial Standards and was a member of the Quality Control Symposium Organizing Committee. He was also chair of the Draft Committee for the JIS M 8100 “Particulate materials – General rules for methods of sampling” and established the FQC Award. He was the chair of', ' Kaoru Ishikawa was a key figure in the development of Total Quality Management (TQM). He was instrumental in the development of Quality Circles, which are groups of employees that meet regularly to discuss and identify quality issues and develop solutions. He was a founding member of the International Friendship Club, which promoted the use of Quality Circles in Japan and abroad. He also wrote and edited the Quality Assurance Guidebook (JUSE Press) and How to Operate QC Circle Activities, which provided guidance for successful Quality Circle implementation. He was also a member of the Japanese Society for Quality Control, the International Cooperation Committee, the ISO/TC 69 Japan Committee, and the Sampling Research Group of Environmental Pollution. He was also involved in various international conferences and meetings, such as the ASQC Annual Conference, the IAQ meeting, the EOQC Conference, and the Japan-Soviet Round-Table Conference on Standardization. Through his work, Ishikawa helped to spread the use of Quality Circles throughout Japan and the world.', '\\n\\nKaoru Ishikawa is widely credited with playing a major role in the development of Total Quality Management (TQM). He is best known for developing the Ishikawa (cause-and-effect) Diagram, also known as the fishbone diagram, which is a tool used to identify and analyze the root causes of problems. Ishikawa was a professor at the University of Tokyo and an advocate of quality control circles. He was also one of the founders of the Japanese Society for Quality Control, and he was the author of several books on quality control. He was an influential figure in the development of the TQM movement in Japan, and his efforts helped to popularize the use of the Ishikawa Diagram in Japan and around the world.', \"\\n\\nKaoru Ishikawa is widely recognized as one of the leading figures in the development of TQM. He is often credited with introducing the concept of “the next process is your customer”, which emphasizes the importance of customer satisfaction in the quality control process. Ishikawa's philosophy states that a company should strive to meet customer needs and expectations in order to maximize profits and ensure long-term success. He believed that customer satisfaction should be at the forefront of any quality control process. This idea is still widely used in TQM today. Ishikawa also served as a member of several committees related to quality control, including the Nuclear Power Plant Quality Assurance Review Committee and the Japanese Society for Quality Control. He also wrote several books on the subject, including Control Points of Quality and How to Establish Product Standards of Japanese Industrial Standards. His contributions to the development of TQM have been invaluable and his legacy will continue to influence the industry for generations to come.\", '\\n\\nKaoru Ishikawa played a major role in the development of Total Quality Management (TQM) in Japan. He was the founder of the Japan Union of Scientists and Engineers (JUSE), which was established in 1965. JUSE is a non-profit organization that promotes the development of quality management in Japan through research, seminars, workshops, and other activities. JUSE has played a major role in the development of quality management in Japan, including the introduction of the Quality Control (QC) Circle system, the establishment of awards for excellence in the implementation of industrial standardization, and the creation of international cooperation committees. Through JUSE, Ishikawa also published numerous books and papers on quality management topics, such as Introduction to Quality Control and How to Establish Product Standards of Japanese Industrial Standards. In addition, he was a member of the International Cooperation Committee (ASQC) and the chair of the Standards Rationalization Committee. Ishikawa also served as the head of the delegation for the 2nd QC Overseas Research Team, which introduced the QC circle system to Japan, and was a part-time lecturer at Gunma University. Overall, Ishikawa played a major role in the development of TQM in Japan through his leadership of JUSE and his dedication', '\\n\\nKaoru Ishikawa played a major role in the development of Total Quality Management (TQM) in Japan. He was the founder of the Japan Union of Scientists and Engineers (JUSE), which was established in 1965. JUSE is a non-profit organization that promotes the development of quality management in Japan through research, seminars, workshops, and other activities. JUSE has played a major role in the development of quality management in Japan, including the introduction of the Quality Control (QC) Circle system, the establishment of awards for excellence in the implementation of industrial standardization, and the creation of international cooperation committees. Through JUSE, Ishikawa also published numerous books and papers on quality management topics, such as Introduction to Quality Control and How to Establish Product Standards of Japanese Industrial Standards. In addition, he was a member of the International Cooperation Committee (ASQC) and the chair of the Standards Rationalization Committee. Ishikawa also served as the head of the delegation for the 2nd QC Overseas Research Team, which introduced the QC circle system to Japan, and was a part-time lecturer at Gunma University. Overall, Ishikawa played a major role in the development of TQM in Japan through his leadership of JUSE and his dedication', \"\\n\\nKaoru Ishikawa had an instrumental role in the development of TQM in Japan and globally. Through his involvement in organizations such as the Japanese Society for Quality Control (JUSE) and the International Cooperation Committee (ASQC), he was able to promote TQM and its principles. He gave lectures, wrote books, and organized seminars to spread the importance of quality assurance and management. He also served as the chair of the Program Committee for the International Convention on Quality Circles in 1978 (ICQCC '78-TOKYO) and was the head of the 1st QC Research Delegation Team that visited China. His efforts have helped to spread TQM and its principles in Japan and around the world.\", ' \\n\\nThe impact of TQM, Ishikawa, and JUSE on contemporary business and management practices has been significant. The principles of TQM, as developed by Ishikawa and promoted by JUSE, have been widely adopted by businesses around the world. These principles, which emphasize continuous improvement, customer focus, and organizational learning, have become integral to the way businesses approach operations, innovation, and customer satisfaction. TQM has also been embraced by management in order to improve employee engagement and increase organizational efficiency. By focusing on reducing waste and increasing efficiency, TQM has been instrumental in helping businesses remain competitive in the global marketplace.', \"\\n\\nKaoru Ishikawa's Total Quality Management (TQM) methods and tools have had a great impact on contemporary business practices. His work focused on the importance of quality control, which he believed could be achieved through the use of various techniques such as QC circles, problem solving, and statistical control. He became a leading figure in the quality control field and was instrumental in establishing the Japanese Society for Quality Control (JUSE).\\n\\nIshikawa's methods and tools are still widely used today, particularly in the manufacturing industry. For example, many organizations use his 7 Quality Control Tools to identify process issues, analyze data, and develop solutions. Additionally, QC Circles, which were developed by Ishikawa, are still used to promote quality improvement through problem solving and peer-based learning.\\n\\nThe legacy of Ishikawa's methods and tools has had a lasting impact on contemporary business practices. His ideas continue to be relevant and are widely used in the manufacturing industry as well as in other industries such as healthcare and finance. His work has been instrumental in helping organizations to achieve higher standards of quality and has revolutionized the way businesses are run.\", \" JUSE's principles have had a significant impact on contemporary business practices and quality initiatives. JUSE's focus on quality improvement and problem-solving has become a core component of many successful business operations. JUSE's application of the philosophy of Kaoru Ishikawa, which emphasizes the importance of customer satisfaction, continuous improvement, and employee involvement, has helped organizations to improve their quality management systems. JUSE's work has also resulted in the establishment of awards like the Deming Prize and the ISO/TC 69 Standardization Activities Cooperation Center. These awards recognize organizations that have implemented quality management systems and initiatives that meet or exceed international standards.\"]\n"
          ]
        }
      ]
    },
    {
      "cell_type": "markdown",
      "source": [
        "## VII. Conclusion\n",
        "- Summary of the importance and influence of TQM, Ishikawa, and JUSE in the field of quality management\n",
        "- Restatement of Thesis\n",
        "- Future implications of the principles and practices of TQM, Ishikawa, and JUSE in the global business landscape"
      ],
      "metadata": {
        "id": "FUefWHRXw1lo"
      }
    },
    {
      "cell_type": "code",
      "source": [
        "query = \"write about: Summary of the importance and influence of TQM, Ishikawa, and JUSE in the field of quality management\"\n",
        "qa.run(query)\n",
        "result = qa.run(query)\n",
        "\n",
        "#append result  to the variable\n",
        "book.append(result)\n",
        "\n",
        "#print the variable\n",
        "print(book)"
      ],
      "metadata": {
        "colab": {
          "base_uri": "https://localhost:8080/"
        },
        "id": "hbrwO1FjQt-x",
        "outputId": "43ba78c1-001b-43b0-a685-83ff4f8cbc05"
      },
      "execution_count": 35,
      "outputs": [
        {
          "output_type": "stream",
          "name": "stdout",
          "text": [
            "[' Total Quality Management (TQM) is a management system that seeks to ensure that products and services meet customer needs and expectations through continual improvement of processes and quality assurance. It is a holistic approach to quality control that involves all stakeholders in an organization, from management to employees.', ' Total Quality Management (TQM) has become an increasingly important factor in the modern business world. TQM is a set of practices and processes that organizations use to improve customer satisfaction, reduce costs, and increase efficiency. It emphasizes the importance of continuous improvement, employee involvement, and customer satisfaction. TQM helps organizations to focus on customers and their needs, while also increasing the efficiency and effectiveness of their operations. TQM has been proven to be an effective tool for improving the quality of products and services, as well as improving customer satisfaction and loyalty.', ' Kaoru Ishikawa was a part of the Japanese Union of Scientists and Engineers (JUSE). During his time with the JUSE, he became a lecturer of the Introductory Course for Design of Experiment, a member of the ISO/TC 102 Japan Committee and the chair of the Sampling Subcommittee, the chair of the Editorial Committee of the JUSE English Report, the chair of the editorial board of Genba To QC-magazine, an examiner of the Ministry of International Trade and Industry’s Professional engineers qualification examination, and a part-time lecturer at Gunma University. He was also involved in various QC seminars and events.', ' The thesis statement could be: Kaoru Ishikawa and the Japanese Union of Scientists and Engineers (JUSE) have contributed significantly to the evolution of Total Quality Management (TQM) through their activities and initiatives in the field of quality control.', ' Quality management before TQM was largely based on the work of Walter Shewhart, who developed statistical process control in the 1930s. His work was expanded and adapted by Yasushi Ishida, Kanzo Kiribuchi, and Pearson, amongst others. These early developments laid the foundation for the Total Quality Management movement.', \"\\nInspection, Quality Control, and Quality Assurance are three foundational concepts in the field of quality management. Inspection is the process of examining a product or service to verify that it meets pre-determined requirements. Quality Control is a systematic method of ensuring that a product or service meets a set of predetermined standards. Quality Assurance is a system of activities designed to ensure that the product or service that is delivered meets the customer's expectations. It involves a series of processes, such as design, production, and delivery, that are monitored to ensure that the quality is maintained. Together, these three concepts form the basis for an effective quality management system.\", ' Statistical process control (SPC) is a method of quality control which uses statistical methods to identify and solve problems with a production process. It was developed in the 1930s by Walter Shewhart, Yasushi Ishida, Kanzo Kiribuchi, and Karl Pearson, and was popularized by Dr. W. Edwards Deming in the 1950s and 1960s. SPC is used to monitor product or process quality and ensure that it meets predetermined standards. It is an important tool for improving efficiency and reducing costs in manufacturing and industrial processes.', ' Statistical process control (SPC) is a method used to measure and control quality in the production process. It was developed in the early 20th century as a response to the need for increased consistency in manufacturing. SPC involves collecting, organizing, and analyzing data to identify areas of variation in the production process. This enables manufacturers to make changes to the process to reduce variation and increase quality. This has had a significant impact on manufacturing, as it has allowed manufacturers to improve the consistency and quality of their products.', ' Statistical process control is a method of quality control that uses statistical methods to monitor and control a process. It was developed in the 1930s by Walter Shewhart, Yasushi Ishida, Kanzo Kiribuchi, and Pearson as a way to improve manufacturing processes and product quality. It has become an essential tool for industries around the world, as it allows manufacturers to identify and address potential problems in their production process quickly and efficiently. This has led to greater efficiency and cost savings, as well as improved product quality.', ' Statistical process control (SPC) is a method used to monitor and control a process by collecting data and analyzing the data to identify trends or patterns. It is used to ensure quality and consistency in products and services and is an important part of Total Quality Control (TQC). SPC was developed in the early twentieth century by Walter Shewhart, Yasushi Ishida, and Kanzo Kiribuchi. In 1931, Shewhart published Economic Control of Quality of Manufactured Products, Ishida developed the control chart, and Kiribuchi introduced quality control as “Hinshitsu Tosei” in his book The Science of Industrial Control. In 1935, Pearson’s “The Application of Statistical Methods to Industrial Standardization and Quality Control,” which later became BS 600, was published. SPC has continued to grow in importance as it has been adapted and applied to a variety of industries. It is now seen as an essential tool for quality control and process improvement.', ' Kaoru Ishikawa was born in 1915 in Nishigahara, Takinogawa Ward, Tokyo City. He entered the Elementary School attached to Tokyo Higher Normal School in 1923 at the age of 8. He entered the Junior High School attached to Tokyo Higher Normal School in 1928 at the age of 13 and later entered Tokyo High School University in 1933 at the age of 18. In 1948, he started research on coal briquettes and became a member of the Japanese Association of University Professors and Japanese Society for Engineering Education. In 1965, he joined the 2nd QC Overseas Research Team as the head of the delegation (JUSE) and became an advisor to the Japan Productivity Center.\\n\\nKaoru Ishikawa played an important role in the development of TQM. He gave a special lecture and acted as a discussion leader at the Quality Control Symposium held in Tokyo, welcoming representatives from various countries in Asia. He published How to Establish Product Standards of Japanese Industrial Standards and was a member of the Quality Control Symposium Organizing Committee. He was also chair of the Draft Committee for the JIS M 8100 “Particulate materials – General rules for methods of sampling” and established the FQC Award. He was the chair of', ' Kaoru Ishikawa was a key figure in the development of Total Quality Management (TQM). He was instrumental in the development of Quality Circles, which are groups of employees that meet regularly to discuss and identify quality issues and develop solutions. He was a founding member of the International Friendship Club, which promoted the use of Quality Circles in Japan and abroad. He also wrote and edited the Quality Assurance Guidebook (JUSE Press) and How to Operate QC Circle Activities, which provided guidance for successful Quality Circle implementation. He was also a member of the Japanese Society for Quality Control, the International Cooperation Committee, the ISO/TC 69 Japan Committee, and the Sampling Research Group of Environmental Pollution. He was also involved in various international conferences and meetings, such as the ASQC Annual Conference, the IAQ meeting, the EOQC Conference, and the Japan-Soviet Round-Table Conference on Standardization. Through his work, Ishikawa helped to spread the use of Quality Circles throughout Japan and the world.', '\\n\\nKaoru Ishikawa is widely credited with playing a major role in the development of Total Quality Management (TQM). He is best known for developing the Ishikawa (cause-and-effect) Diagram, also known as the fishbone diagram, which is a tool used to identify and analyze the root causes of problems. Ishikawa was a professor at the University of Tokyo and an advocate of quality control circles. He was also one of the founders of the Japanese Society for Quality Control, and he was the author of several books on quality control. He was an influential figure in the development of the TQM movement in Japan, and his efforts helped to popularize the use of the Ishikawa Diagram in Japan and around the world.', \"\\n\\nKaoru Ishikawa is widely recognized as one of the leading figures in the development of TQM. He is often credited with introducing the concept of “the next process is your customer”, which emphasizes the importance of customer satisfaction in the quality control process. Ishikawa's philosophy states that a company should strive to meet customer needs and expectations in order to maximize profits and ensure long-term success. He believed that customer satisfaction should be at the forefront of any quality control process. This idea is still widely used in TQM today. Ishikawa also served as a member of several committees related to quality control, including the Nuclear Power Plant Quality Assurance Review Committee and the Japanese Society for Quality Control. He also wrote several books on the subject, including Control Points of Quality and How to Establish Product Standards of Japanese Industrial Standards. His contributions to the development of TQM have been invaluable and his legacy will continue to influence the industry for generations to come.\", '\\n\\nKaoru Ishikawa played a major role in the development of Total Quality Management (TQM) in Japan. He was the founder of the Japan Union of Scientists and Engineers (JUSE), which was established in 1965. JUSE is a non-profit organization that promotes the development of quality management in Japan through research, seminars, workshops, and other activities. JUSE has played a major role in the development of quality management in Japan, including the introduction of the Quality Control (QC) Circle system, the establishment of awards for excellence in the implementation of industrial standardization, and the creation of international cooperation committees. Through JUSE, Ishikawa also published numerous books and papers on quality management topics, such as Introduction to Quality Control and How to Establish Product Standards of Japanese Industrial Standards. In addition, he was a member of the International Cooperation Committee (ASQC) and the chair of the Standards Rationalization Committee. Ishikawa also served as the head of the delegation for the 2nd QC Overseas Research Team, which introduced the QC circle system to Japan, and was a part-time lecturer at Gunma University. Overall, Ishikawa played a major role in the development of TQM in Japan through his leadership of JUSE and his dedication', '\\n\\nKaoru Ishikawa played a major role in the development of Total Quality Management (TQM) in Japan. He was the founder of the Japan Union of Scientists and Engineers (JUSE), which was established in 1965. JUSE is a non-profit organization that promotes the development of quality management in Japan through research, seminars, workshops, and other activities. JUSE has played a major role in the development of quality management in Japan, including the introduction of the Quality Control (QC) Circle system, the establishment of awards for excellence in the implementation of industrial standardization, and the creation of international cooperation committees. Through JUSE, Ishikawa also published numerous books and papers on quality management topics, such as Introduction to Quality Control and How to Establish Product Standards of Japanese Industrial Standards. In addition, he was a member of the International Cooperation Committee (ASQC) and the chair of the Standards Rationalization Committee. Ishikawa also served as the head of the delegation for the 2nd QC Overseas Research Team, which introduced the QC circle system to Japan, and was a part-time lecturer at Gunma University. Overall, Ishikawa played a major role in the development of TQM in Japan through his leadership of JUSE and his dedication', \"\\n\\nKaoru Ishikawa had an instrumental role in the development of TQM in Japan and globally. Through his involvement in organizations such as the Japanese Society for Quality Control (JUSE) and the International Cooperation Committee (ASQC), he was able to promote TQM and its principles. He gave lectures, wrote books, and organized seminars to spread the importance of quality assurance and management. He also served as the chair of the Program Committee for the International Convention on Quality Circles in 1978 (ICQCC '78-TOKYO) and was the head of the 1st QC Research Delegation Team that visited China. His efforts have helped to spread TQM and its principles in Japan and around the world.\", ' \\n\\nThe impact of TQM, Ishikawa, and JUSE on contemporary business and management practices has been significant. The principles of TQM, as developed by Ishikawa and promoted by JUSE, have been widely adopted by businesses around the world. These principles, which emphasize continuous improvement, customer focus, and organizational learning, have become integral to the way businesses approach operations, innovation, and customer satisfaction. TQM has also been embraced by management in order to improve employee engagement and increase organizational efficiency. By focusing on reducing waste and increasing efficiency, TQM has been instrumental in helping businesses remain competitive in the global marketplace.', \"\\n\\nKaoru Ishikawa's Total Quality Management (TQM) methods and tools have had a great impact on contemporary business practices. His work focused on the importance of quality control, which he believed could be achieved through the use of various techniques such as QC circles, problem solving, and statistical control. He became a leading figure in the quality control field and was instrumental in establishing the Japanese Society for Quality Control (JUSE).\\n\\nIshikawa's methods and tools are still widely used today, particularly in the manufacturing industry. For example, many organizations use his 7 Quality Control Tools to identify process issues, analyze data, and develop solutions. Additionally, QC Circles, which were developed by Ishikawa, are still used to promote quality improvement through problem solving and peer-based learning.\\n\\nThe legacy of Ishikawa's methods and tools has had a lasting impact on contemporary business practices. His ideas continue to be relevant and are widely used in the manufacturing industry as well as in other industries such as healthcare and finance. His work has been instrumental in helping organizations to achieve higher standards of quality and has revolutionized the way businesses are run.\", \" JUSE's principles have had a significant impact on contemporary business practices and quality initiatives. JUSE's focus on quality improvement and problem-solving has become a core component of many successful business operations. JUSE's application of the philosophy of Kaoru Ishikawa, which emphasizes the importance of customer satisfaction, continuous improvement, and employee involvement, has helped organizations to improve their quality management systems. JUSE's work has also resulted in the establishment of awards like the Deming Prize and the ISO/TC 69 Standardization Activities Cooperation Center. These awards recognize organizations that have implemented quality management systems and initiatives that meet or exceed international standards.\", ' Total Quality Management (TQM) is a system of management which focuses on improving the quality of products and services through a process of continuous improvement. TQM was popularized by Professor Kaoru Ishikawa, a Japanese professor and quality management expert, who helped to develop the concept and techniques of TQM. Ishikawa was a key figure in the Japanese Union of Scientists and Engineers (JUSE), which was established in 1946 and has been a major force in the development of quality management in Japan. Ishikawa and JUSE’s contributions to TQM include the development of the Ishikawa Diagram, the Quality Circle, the QC Story, the Quality Control Handbook, and the Deming Prize. These tools and methods have helped to improve the quality of products and services in Japan, and have been adopted around the world.']\n"
          ]
        }
      ]
    },
    {
      "cell_type": "code",
      "source": [
        "query = \"Restatement of Thesis - Evolution of Total Quality Management (TQM): The Contributions of Kaoru Ishikawa and the Japanese Union of Scientists and Engineers (JUSE)\"\n",
        "qa.run(query)\n",
        "result = qa.run(query)\n",
        "\n",
        "#append result  to the variable\n",
        "book.append(result)\n",
        "\n",
        "#print the variable\n",
        "print(book)"
      ],
      "metadata": {
        "colab": {
          "base_uri": "https://localhost:8080/"
        },
        "id": "21Dc7sBtR76L",
        "outputId": "c63b9bb2-1193-46e6-b22f-1754febc5702"
      },
      "execution_count": 36,
      "outputs": [
        {
          "output_type": "stream",
          "name": "stdout",
          "text": [
            "[' Total Quality Management (TQM) is a management system that seeks to ensure that products and services meet customer needs and expectations through continual improvement of processes and quality assurance. It is a holistic approach to quality control that involves all stakeholders in an organization, from management to employees.', ' Total Quality Management (TQM) has become an increasingly important factor in the modern business world. TQM is a set of practices and processes that organizations use to improve customer satisfaction, reduce costs, and increase efficiency. It emphasizes the importance of continuous improvement, employee involvement, and customer satisfaction. TQM helps organizations to focus on customers and their needs, while also increasing the efficiency and effectiveness of their operations. TQM has been proven to be an effective tool for improving the quality of products and services, as well as improving customer satisfaction and loyalty.', ' Kaoru Ishikawa was a part of the Japanese Union of Scientists and Engineers (JUSE). During his time with the JUSE, he became a lecturer of the Introductory Course for Design of Experiment, a member of the ISO/TC 102 Japan Committee and the chair of the Sampling Subcommittee, the chair of the Editorial Committee of the JUSE English Report, the chair of the editorial board of Genba To QC-magazine, an examiner of the Ministry of International Trade and Industry’s Professional engineers qualification examination, and a part-time lecturer at Gunma University. He was also involved in various QC seminars and events.', ' The thesis statement could be: Kaoru Ishikawa and the Japanese Union of Scientists and Engineers (JUSE) have contributed significantly to the evolution of Total Quality Management (TQM) through their activities and initiatives in the field of quality control.', ' Quality management before TQM was largely based on the work of Walter Shewhart, who developed statistical process control in the 1930s. His work was expanded and adapted by Yasushi Ishida, Kanzo Kiribuchi, and Pearson, amongst others. These early developments laid the foundation for the Total Quality Management movement.', \"\\nInspection, Quality Control, and Quality Assurance are three foundational concepts in the field of quality management. Inspection is the process of examining a product or service to verify that it meets pre-determined requirements. Quality Control is a systematic method of ensuring that a product or service meets a set of predetermined standards. Quality Assurance is a system of activities designed to ensure that the product or service that is delivered meets the customer's expectations. It involves a series of processes, such as design, production, and delivery, that are monitored to ensure that the quality is maintained. Together, these three concepts form the basis for an effective quality management system.\", ' Statistical process control (SPC) is a method of quality control which uses statistical methods to identify and solve problems with a production process. It was developed in the 1930s by Walter Shewhart, Yasushi Ishida, Kanzo Kiribuchi, and Karl Pearson, and was popularized by Dr. W. Edwards Deming in the 1950s and 1960s. SPC is used to monitor product or process quality and ensure that it meets predetermined standards. It is an important tool for improving efficiency and reducing costs in manufacturing and industrial processes.', ' Statistical process control (SPC) is a method used to measure and control quality in the production process. It was developed in the early 20th century as a response to the need for increased consistency in manufacturing. SPC involves collecting, organizing, and analyzing data to identify areas of variation in the production process. This enables manufacturers to make changes to the process to reduce variation and increase quality. This has had a significant impact on manufacturing, as it has allowed manufacturers to improve the consistency and quality of their products.', ' Statistical process control is a method of quality control that uses statistical methods to monitor and control a process. It was developed in the 1930s by Walter Shewhart, Yasushi Ishida, Kanzo Kiribuchi, and Pearson as a way to improve manufacturing processes and product quality. It has become an essential tool for industries around the world, as it allows manufacturers to identify and address potential problems in their production process quickly and efficiently. This has led to greater efficiency and cost savings, as well as improved product quality.', ' Statistical process control (SPC) is a method used to monitor and control a process by collecting data and analyzing the data to identify trends or patterns. It is used to ensure quality and consistency in products and services and is an important part of Total Quality Control (TQC). SPC was developed in the early twentieth century by Walter Shewhart, Yasushi Ishida, and Kanzo Kiribuchi. In 1931, Shewhart published Economic Control of Quality of Manufactured Products, Ishida developed the control chart, and Kiribuchi introduced quality control as “Hinshitsu Tosei” in his book The Science of Industrial Control. In 1935, Pearson’s “The Application of Statistical Methods to Industrial Standardization and Quality Control,” which later became BS 600, was published. SPC has continued to grow in importance as it has been adapted and applied to a variety of industries. It is now seen as an essential tool for quality control and process improvement.', ' Kaoru Ishikawa was born in 1915 in Nishigahara, Takinogawa Ward, Tokyo City. He entered the Elementary School attached to Tokyo Higher Normal School in 1923 at the age of 8. He entered the Junior High School attached to Tokyo Higher Normal School in 1928 at the age of 13 and later entered Tokyo High School University in 1933 at the age of 18. In 1948, he started research on coal briquettes and became a member of the Japanese Association of University Professors and Japanese Society for Engineering Education. In 1965, he joined the 2nd QC Overseas Research Team as the head of the delegation (JUSE) and became an advisor to the Japan Productivity Center.\\n\\nKaoru Ishikawa played an important role in the development of TQM. He gave a special lecture and acted as a discussion leader at the Quality Control Symposium held in Tokyo, welcoming representatives from various countries in Asia. He published How to Establish Product Standards of Japanese Industrial Standards and was a member of the Quality Control Symposium Organizing Committee. He was also chair of the Draft Committee for the JIS M 8100 “Particulate materials – General rules for methods of sampling” and established the FQC Award. He was the chair of', ' Kaoru Ishikawa was a key figure in the development of Total Quality Management (TQM). He was instrumental in the development of Quality Circles, which are groups of employees that meet regularly to discuss and identify quality issues and develop solutions. He was a founding member of the International Friendship Club, which promoted the use of Quality Circles in Japan and abroad. He also wrote and edited the Quality Assurance Guidebook (JUSE Press) and How to Operate QC Circle Activities, which provided guidance for successful Quality Circle implementation. He was also a member of the Japanese Society for Quality Control, the International Cooperation Committee, the ISO/TC 69 Japan Committee, and the Sampling Research Group of Environmental Pollution. He was also involved in various international conferences and meetings, such as the ASQC Annual Conference, the IAQ meeting, the EOQC Conference, and the Japan-Soviet Round-Table Conference on Standardization. Through his work, Ishikawa helped to spread the use of Quality Circles throughout Japan and the world.', '\\n\\nKaoru Ishikawa is widely credited with playing a major role in the development of Total Quality Management (TQM). He is best known for developing the Ishikawa (cause-and-effect) Diagram, also known as the fishbone diagram, which is a tool used to identify and analyze the root causes of problems. Ishikawa was a professor at the University of Tokyo and an advocate of quality control circles. He was also one of the founders of the Japanese Society for Quality Control, and he was the author of several books on quality control. He was an influential figure in the development of the TQM movement in Japan, and his efforts helped to popularize the use of the Ishikawa Diagram in Japan and around the world.', \"\\n\\nKaoru Ishikawa is widely recognized as one of the leading figures in the development of TQM. He is often credited with introducing the concept of “the next process is your customer”, which emphasizes the importance of customer satisfaction in the quality control process. Ishikawa's philosophy states that a company should strive to meet customer needs and expectations in order to maximize profits and ensure long-term success. He believed that customer satisfaction should be at the forefront of any quality control process. This idea is still widely used in TQM today. Ishikawa also served as a member of several committees related to quality control, including the Nuclear Power Plant Quality Assurance Review Committee and the Japanese Society for Quality Control. He also wrote several books on the subject, including Control Points of Quality and How to Establish Product Standards of Japanese Industrial Standards. His contributions to the development of TQM have been invaluable and his legacy will continue to influence the industry for generations to come.\", '\\n\\nKaoru Ishikawa played a major role in the development of Total Quality Management (TQM) in Japan. He was the founder of the Japan Union of Scientists and Engineers (JUSE), which was established in 1965. JUSE is a non-profit organization that promotes the development of quality management in Japan through research, seminars, workshops, and other activities. JUSE has played a major role in the development of quality management in Japan, including the introduction of the Quality Control (QC) Circle system, the establishment of awards for excellence in the implementation of industrial standardization, and the creation of international cooperation committees. Through JUSE, Ishikawa also published numerous books and papers on quality management topics, such as Introduction to Quality Control and How to Establish Product Standards of Japanese Industrial Standards. In addition, he was a member of the International Cooperation Committee (ASQC) and the chair of the Standards Rationalization Committee. Ishikawa also served as the head of the delegation for the 2nd QC Overseas Research Team, which introduced the QC circle system to Japan, and was a part-time lecturer at Gunma University. Overall, Ishikawa played a major role in the development of TQM in Japan through his leadership of JUSE and his dedication', '\\n\\nKaoru Ishikawa played a major role in the development of Total Quality Management (TQM) in Japan. He was the founder of the Japan Union of Scientists and Engineers (JUSE), which was established in 1965. JUSE is a non-profit organization that promotes the development of quality management in Japan through research, seminars, workshops, and other activities. JUSE has played a major role in the development of quality management in Japan, including the introduction of the Quality Control (QC) Circle system, the establishment of awards for excellence in the implementation of industrial standardization, and the creation of international cooperation committees. Through JUSE, Ishikawa also published numerous books and papers on quality management topics, such as Introduction to Quality Control and How to Establish Product Standards of Japanese Industrial Standards. In addition, he was a member of the International Cooperation Committee (ASQC) and the chair of the Standards Rationalization Committee. Ishikawa also served as the head of the delegation for the 2nd QC Overseas Research Team, which introduced the QC circle system to Japan, and was a part-time lecturer at Gunma University. Overall, Ishikawa played a major role in the development of TQM in Japan through his leadership of JUSE and his dedication', \"\\n\\nKaoru Ishikawa had an instrumental role in the development of TQM in Japan and globally. Through his involvement in organizations such as the Japanese Society for Quality Control (JUSE) and the International Cooperation Committee (ASQC), he was able to promote TQM and its principles. He gave lectures, wrote books, and organized seminars to spread the importance of quality assurance and management. He also served as the chair of the Program Committee for the International Convention on Quality Circles in 1978 (ICQCC '78-TOKYO) and was the head of the 1st QC Research Delegation Team that visited China. His efforts have helped to spread TQM and its principles in Japan and around the world.\", ' \\n\\nThe impact of TQM, Ishikawa, and JUSE on contemporary business and management practices has been significant. The principles of TQM, as developed by Ishikawa and promoted by JUSE, have been widely adopted by businesses around the world. These principles, which emphasize continuous improvement, customer focus, and organizational learning, have become integral to the way businesses approach operations, innovation, and customer satisfaction. TQM has also been embraced by management in order to improve employee engagement and increase organizational efficiency. By focusing on reducing waste and increasing efficiency, TQM has been instrumental in helping businesses remain competitive in the global marketplace.', \"\\n\\nKaoru Ishikawa's Total Quality Management (TQM) methods and tools have had a great impact on contemporary business practices. His work focused on the importance of quality control, which he believed could be achieved through the use of various techniques such as QC circles, problem solving, and statistical control. He became a leading figure in the quality control field and was instrumental in establishing the Japanese Society for Quality Control (JUSE).\\n\\nIshikawa's methods and tools are still widely used today, particularly in the manufacturing industry. For example, many organizations use his 7 Quality Control Tools to identify process issues, analyze data, and develop solutions. Additionally, QC Circles, which were developed by Ishikawa, are still used to promote quality improvement through problem solving and peer-based learning.\\n\\nThe legacy of Ishikawa's methods and tools has had a lasting impact on contemporary business practices. His ideas continue to be relevant and are widely used in the manufacturing industry as well as in other industries such as healthcare and finance. His work has been instrumental in helping organizations to achieve higher standards of quality and has revolutionized the way businesses are run.\", \" JUSE's principles have had a significant impact on contemporary business practices and quality initiatives. JUSE's focus on quality improvement and problem-solving has become a core component of many successful business operations. JUSE's application of the philosophy of Kaoru Ishikawa, which emphasizes the importance of customer satisfaction, continuous improvement, and employee involvement, has helped organizations to improve their quality management systems. JUSE's work has also resulted in the establishment of awards like the Deming Prize and the ISO/TC 69 Standardization Activities Cooperation Center. These awards recognize organizations that have implemented quality management systems and initiatives that meet or exceed international standards.\", ' Total Quality Management (TQM) is a system of management which focuses on improving the quality of products and services through a process of continuous improvement. TQM was popularized by Professor Kaoru Ishikawa, a Japanese professor and quality management expert, who helped to develop the concept and techniques of TQM. Ishikawa was a key figure in the Japanese Union of Scientists and Engineers (JUSE), which was established in 1946 and has been a major force in the development of quality management in Japan. Ishikawa and JUSE’s contributions to TQM include the development of the Ishikawa Diagram, the Quality Circle, the QC Story, the Quality Control Handbook, and the Deming Prize. These tools and methods have helped to improve the quality of products and services in Japan, and have been adopted around the world.', ' What is the restated thesis of Professor Kaoru Ishikawa\\'s doctoral thesis, \"Coal Sampling\"?\\n\\nThe restated thesis of Professor Kaoru Ishikawa\\'s doctoral thesis, \"Coal Sampling\", is to investigate the reliability of coal sampling methods.']\n"
          ]
        }
      ]
    },
    {
      "cell_type": "code",
      "source": [
        "query = \"write about: Future implications of the principles and practices of TQM, Ishikawa, and JUSE in the global business landscape\"\n",
        "qa.run(query)\n",
        "result = qa.run(query)\n",
        "\n",
        "#append result  to the variable\n",
        "book.append(result)\n",
        "\n",
        "#print the variable\n",
        "print(book)"
      ],
      "metadata": {
        "colab": {
          "base_uri": "https://localhost:8080/"
        },
        "id": "1JwgKM5vR8EU",
        "outputId": "9a436eb9-eb18-4c5b-f5be-a88d2e8bbd75"
      },
      "execution_count": 37,
      "outputs": [
        {
          "output_type": "stream",
          "name": "stdout",
          "text": [
            "[' Total Quality Management (TQM) is a management system that seeks to ensure that products and services meet customer needs and expectations through continual improvement of processes and quality assurance. It is a holistic approach to quality control that involves all stakeholders in an organization, from management to employees.', ' Total Quality Management (TQM) has become an increasingly important factor in the modern business world. TQM is a set of practices and processes that organizations use to improve customer satisfaction, reduce costs, and increase efficiency. It emphasizes the importance of continuous improvement, employee involvement, and customer satisfaction. TQM helps organizations to focus on customers and their needs, while also increasing the efficiency and effectiveness of their operations. TQM has been proven to be an effective tool for improving the quality of products and services, as well as improving customer satisfaction and loyalty.', ' Kaoru Ishikawa was a part of the Japanese Union of Scientists and Engineers (JUSE). During his time with the JUSE, he became a lecturer of the Introductory Course for Design of Experiment, a member of the ISO/TC 102 Japan Committee and the chair of the Sampling Subcommittee, the chair of the Editorial Committee of the JUSE English Report, the chair of the editorial board of Genba To QC-magazine, an examiner of the Ministry of International Trade and Industry’s Professional engineers qualification examination, and a part-time lecturer at Gunma University. He was also involved in various QC seminars and events.', ' The thesis statement could be: Kaoru Ishikawa and the Japanese Union of Scientists and Engineers (JUSE) have contributed significantly to the evolution of Total Quality Management (TQM) through their activities and initiatives in the field of quality control.', ' Quality management before TQM was largely based on the work of Walter Shewhart, who developed statistical process control in the 1930s. His work was expanded and adapted by Yasushi Ishida, Kanzo Kiribuchi, and Pearson, amongst others. These early developments laid the foundation for the Total Quality Management movement.', \"\\nInspection, Quality Control, and Quality Assurance are three foundational concepts in the field of quality management. Inspection is the process of examining a product or service to verify that it meets pre-determined requirements. Quality Control is a systematic method of ensuring that a product or service meets a set of predetermined standards. Quality Assurance is a system of activities designed to ensure that the product or service that is delivered meets the customer's expectations. It involves a series of processes, such as design, production, and delivery, that are monitored to ensure that the quality is maintained. Together, these three concepts form the basis for an effective quality management system.\", ' Statistical process control (SPC) is a method of quality control which uses statistical methods to identify and solve problems with a production process. It was developed in the 1930s by Walter Shewhart, Yasushi Ishida, Kanzo Kiribuchi, and Karl Pearson, and was popularized by Dr. W. Edwards Deming in the 1950s and 1960s. SPC is used to monitor product or process quality and ensure that it meets predetermined standards. It is an important tool for improving efficiency and reducing costs in manufacturing and industrial processes.', ' Statistical process control (SPC) is a method used to measure and control quality in the production process. It was developed in the early 20th century as a response to the need for increased consistency in manufacturing. SPC involves collecting, organizing, and analyzing data to identify areas of variation in the production process. This enables manufacturers to make changes to the process to reduce variation and increase quality. This has had a significant impact on manufacturing, as it has allowed manufacturers to improve the consistency and quality of their products.', ' Statistical process control is a method of quality control that uses statistical methods to monitor and control a process. It was developed in the 1930s by Walter Shewhart, Yasushi Ishida, Kanzo Kiribuchi, and Pearson as a way to improve manufacturing processes and product quality. It has become an essential tool for industries around the world, as it allows manufacturers to identify and address potential problems in their production process quickly and efficiently. This has led to greater efficiency and cost savings, as well as improved product quality.', ' Statistical process control (SPC) is a method used to monitor and control a process by collecting data and analyzing the data to identify trends or patterns. It is used to ensure quality and consistency in products and services and is an important part of Total Quality Control (TQC). SPC was developed in the early twentieth century by Walter Shewhart, Yasushi Ishida, and Kanzo Kiribuchi. In 1931, Shewhart published Economic Control of Quality of Manufactured Products, Ishida developed the control chart, and Kiribuchi introduced quality control as “Hinshitsu Tosei” in his book The Science of Industrial Control. In 1935, Pearson’s “The Application of Statistical Methods to Industrial Standardization and Quality Control,” which later became BS 600, was published. SPC has continued to grow in importance as it has been adapted and applied to a variety of industries. It is now seen as an essential tool for quality control and process improvement.', ' Kaoru Ishikawa was born in 1915 in Nishigahara, Takinogawa Ward, Tokyo City. He entered the Elementary School attached to Tokyo Higher Normal School in 1923 at the age of 8. He entered the Junior High School attached to Tokyo Higher Normal School in 1928 at the age of 13 and later entered Tokyo High School University in 1933 at the age of 18. In 1948, he started research on coal briquettes and became a member of the Japanese Association of University Professors and Japanese Society for Engineering Education. In 1965, he joined the 2nd QC Overseas Research Team as the head of the delegation (JUSE) and became an advisor to the Japan Productivity Center.\\n\\nKaoru Ishikawa played an important role in the development of TQM. He gave a special lecture and acted as a discussion leader at the Quality Control Symposium held in Tokyo, welcoming representatives from various countries in Asia. He published How to Establish Product Standards of Japanese Industrial Standards and was a member of the Quality Control Symposium Organizing Committee. He was also chair of the Draft Committee for the JIS M 8100 “Particulate materials – General rules for methods of sampling” and established the FQC Award. He was the chair of', ' Kaoru Ishikawa was a key figure in the development of Total Quality Management (TQM). He was instrumental in the development of Quality Circles, which are groups of employees that meet regularly to discuss and identify quality issues and develop solutions. He was a founding member of the International Friendship Club, which promoted the use of Quality Circles in Japan and abroad. He also wrote and edited the Quality Assurance Guidebook (JUSE Press) and How to Operate QC Circle Activities, which provided guidance for successful Quality Circle implementation. He was also a member of the Japanese Society for Quality Control, the International Cooperation Committee, the ISO/TC 69 Japan Committee, and the Sampling Research Group of Environmental Pollution. He was also involved in various international conferences and meetings, such as the ASQC Annual Conference, the IAQ meeting, the EOQC Conference, and the Japan-Soviet Round-Table Conference on Standardization. Through his work, Ishikawa helped to spread the use of Quality Circles throughout Japan and the world.', '\\n\\nKaoru Ishikawa is widely credited with playing a major role in the development of Total Quality Management (TQM). He is best known for developing the Ishikawa (cause-and-effect) Diagram, also known as the fishbone diagram, which is a tool used to identify and analyze the root causes of problems. Ishikawa was a professor at the University of Tokyo and an advocate of quality control circles. He was also one of the founders of the Japanese Society for Quality Control, and he was the author of several books on quality control. He was an influential figure in the development of the TQM movement in Japan, and his efforts helped to popularize the use of the Ishikawa Diagram in Japan and around the world.', \"\\n\\nKaoru Ishikawa is widely recognized as one of the leading figures in the development of TQM. He is often credited with introducing the concept of “the next process is your customer”, which emphasizes the importance of customer satisfaction in the quality control process. Ishikawa's philosophy states that a company should strive to meet customer needs and expectations in order to maximize profits and ensure long-term success. He believed that customer satisfaction should be at the forefront of any quality control process. This idea is still widely used in TQM today. Ishikawa also served as a member of several committees related to quality control, including the Nuclear Power Plant Quality Assurance Review Committee and the Japanese Society for Quality Control. He also wrote several books on the subject, including Control Points of Quality and How to Establish Product Standards of Japanese Industrial Standards. His contributions to the development of TQM have been invaluable and his legacy will continue to influence the industry for generations to come.\", '\\n\\nKaoru Ishikawa played a major role in the development of Total Quality Management (TQM) in Japan. He was the founder of the Japan Union of Scientists and Engineers (JUSE), which was established in 1965. JUSE is a non-profit organization that promotes the development of quality management in Japan through research, seminars, workshops, and other activities. JUSE has played a major role in the development of quality management in Japan, including the introduction of the Quality Control (QC) Circle system, the establishment of awards for excellence in the implementation of industrial standardization, and the creation of international cooperation committees. Through JUSE, Ishikawa also published numerous books and papers on quality management topics, such as Introduction to Quality Control and How to Establish Product Standards of Japanese Industrial Standards. In addition, he was a member of the International Cooperation Committee (ASQC) and the chair of the Standards Rationalization Committee. Ishikawa also served as the head of the delegation for the 2nd QC Overseas Research Team, which introduced the QC circle system to Japan, and was a part-time lecturer at Gunma University. Overall, Ishikawa played a major role in the development of TQM in Japan through his leadership of JUSE and his dedication', '\\n\\nKaoru Ishikawa played a major role in the development of Total Quality Management (TQM) in Japan. He was the founder of the Japan Union of Scientists and Engineers (JUSE), which was established in 1965. JUSE is a non-profit organization that promotes the development of quality management in Japan through research, seminars, workshops, and other activities. JUSE has played a major role in the development of quality management in Japan, including the introduction of the Quality Control (QC) Circle system, the establishment of awards for excellence in the implementation of industrial standardization, and the creation of international cooperation committees. Through JUSE, Ishikawa also published numerous books and papers on quality management topics, such as Introduction to Quality Control and How to Establish Product Standards of Japanese Industrial Standards. In addition, he was a member of the International Cooperation Committee (ASQC) and the chair of the Standards Rationalization Committee. Ishikawa also served as the head of the delegation for the 2nd QC Overseas Research Team, which introduced the QC circle system to Japan, and was a part-time lecturer at Gunma University. Overall, Ishikawa played a major role in the development of TQM in Japan through his leadership of JUSE and his dedication', \"\\n\\nKaoru Ishikawa had an instrumental role in the development of TQM in Japan and globally. Through his involvement in organizations such as the Japanese Society for Quality Control (JUSE) and the International Cooperation Committee (ASQC), he was able to promote TQM and its principles. He gave lectures, wrote books, and organized seminars to spread the importance of quality assurance and management. He also served as the chair of the Program Committee for the International Convention on Quality Circles in 1978 (ICQCC '78-TOKYO) and was the head of the 1st QC Research Delegation Team that visited China. His efforts have helped to spread TQM and its principles in Japan and around the world.\", ' \\n\\nThe impact of TQM, Ishikawa, and JUSE on contemporary business and management practices has been significant. The principles of TQM, as developed by Ishikawa and promoted by JUSE, have been widely adopted by businesses around the world. These principles, which emphasize continuous improvement, customer focus, and organizational learning, have become integral to the way businesses approach operations, innovation, and customer satisfaction. TQM has also been embraced by management in order to improve employee engagement and increase organizational efficiency. By focusing on reducing waste and increasing efficiency, TQM has been instrumental in helping businesses remain competitive in the global marketplace.', \"\\n\\nKaoru Ishikawa's Total Quality Management (TQM) methods and tools have had a great impact on contemporary business practices. His work focused on the importance of quality control, which he believed could be achieved through the use of various techniques such as QC circles, problem solving, and statistical control. He became a leading figure in the quality control field and was instrumental in establishing the Japanese Society for Quality Control (JUSE).\\n\\nIshikawa's methods and tools are still widely used today, particularly in the manufacturing industry. For example, many organizations use his 7 Quality Control Tools to identify process issues, analyze data, and develop solutions. Additionally, QC Circles, which were developed by Ishikawa, are still used to promote quality improvement through problem solving and peer-based learning.\\n\\nThe legacy of Ishikawa's methods and tools has had a lasting impact on contemporary business practices. His ideas continue to be relevant and are widely used in the manufacturing industry as well as in other industries such as healthcare and finance. His work has been instrumental in helping organizations to achieve higher standards of quality and has revolutionized the way businesses are run.\", \" JUSE's principles have had a significant impact on contemporary business practices and quality initiatives. JUSE's focus on quality improvement and problem-solving has become a core component of many successful business operations. JUSE's application of the philosophy of Kaoru Ishikawa, which emphasizes the importance of customer satisfaction, continuous improvement, and employee involvement, has helped organizations to improve their quality management systems. JUSE's work has also resulted in the establishment of awards like the Deming Prize and the ISO/TC 69 Standardization Activities Cooperation Center. These awards recognize organizations that have implemented quality management systems and initiatives that meet or exceed international standards.\", ' Total Quality Management (TQM) is a system of management which focuses on improving the quality of products and services through a process of continuous improvement. TQM was popularized by Professor Kaoru Ishikawa, a Japanese professor and quality management expert, who helped to develop the concept and techniques of TQM. Ishikawa was a key figure in the Japanese Union of Scientists and Engineers (JUSE), which was established in 1946 and has been a major force in the development of quality management in Japan. Ishikawa and JUSE’s contributions to TQM include the development of the Ishikawa Diagram, the Quality Circle, the QC Story, the Quality Control Handbook, and the Deming Prize. These tools and methods have helped to improve the quality of products and services in Japan, and have been adopted around the world.', ' What is the restated thesis of Professor Kaoru Ishikawa\\'s doctoral thesis, \"Coal Sampling\"?\\n\\nThe restated thesis of Professor Kaoru Ishikawa\\'s doctoral thesis, \"Coal Sampling\", is to investigate the reliability of coal sampling methods.', '\\n\\nThe principles and practices of Total Quality Management (TQM), as championed by Prof. Kaoru Ishikawa and Japan Union of Scientists and Engineers (JUSE), have had a significant impact on the global business landscape. The impact of TQM has been seen in the adoption of quality control tools and processes such as the 7 Quality Control Tools, Six Sigma, and Lean Manufacturing. These strategies have helped organizations improve quality and efficiency and reduce costs.\\n\\nThe future implications of TQM, Ishikawa, and JUSE in the global business landscape are likely to be even greater. As organizations continue to look for ways to optimize their operations, they may increasingly turn to the principles of TQM to help them. Additionally, as technology advances, TQM can be used to help businesses integrate new technologies into their operations more effectively, as well as to develop new processes and systems that can further improve quality and efficiency.\\n\\nThe legacy of Prof. Ishikawa and JUSE will likely continue to be felt in the global business landscape for many years to come. As organizations continue to recognize the value of TQM principles and practices, their impact is likely to become even more pronounced.']\n"
          ]
        }
      ]
    },
    {
      "cell_type": "markdown",
      "source": [
        "Concatenate the book"
      ],
      "metadata": {
        "id": "Gc4Ow8B-Ufrs"
      }
    },
    {
      "cell_type": "code",
      "source": [
        "for entry in book:\n",
        "#    print(\"Processing entry: \", entry)\n",
        "    \n",
        "    messages = [\n",
        "        SystemMessage(content=\"You are an AI that takes dictionary data and translates it into well formatted markdown. You create sections and subsections to communicate as much information as possible\"),\n",
        "        HumanMessage(content=entry)\n",
        "    ]\n",
        "    result = chat(messages)\n",
        "\n",
        "    print(\"Result: \", result)"
      ],
      "metadata": {
        "colab": {
          "base_uri": "https://localhost:8080/"
        },
        "id": "QPvtg18ClNdC",
        "outputId": "f36001d8-cf47-4453-e67f-f6f52337c3fd"
      },
      "execution_count": 38,
      "outputs": [
        {
          "output_type": "stream",
          "name": "stdout",
          "text": [
            "Result:  content='# Total Quality Management (TQM)\\n\\nTotal Quality Management (TQM) is a management system that aims to ensure that products and services meet customer needs and expectations through continual improvement of processes and quality assurance. It is a holistic approach to quality control that involves all stakeholders in an organization, from management to employees.\\n\\n## Key Principles of TQM\\n\\nThe following are the key principles of TQM:\\n\\n1. Customer Focus: TQM places a strong emphasis on meeting customer needs and expectations.\\n\\n2. Continuous Improvement: TQM is a continuous process that involves ongoing efforts to improve processes and quality assurance.\\n\\n3. Employee Involvement: TQM involves all employees in the organization, encouraging them to contribute to the improvement of processes and quality assurance.\\n\\n4. Process-Oriented Approach: TQM focuses on improving processes to ensure that products and services meet customer needs and expectations.\\n\\n5. Data-Driven Decision Making: TQM relies on data to make informed decisions about processes and quality assurance.\\n\\n6. Leadership Involvement: TQM requires strong leadership involvement to ensure that the organization is committed to continuous improvement.\\n\\n## Benefits of TQM\\n\\nThe following are some of the benefits of implementing TQM:\\n\\n1. Improved Customer Satisfaction: TQM helps to ensure that products and services meet customer needs and expectations, leading to improved customer satisfaction.\\n\\n2. Increased Efficiency: TQM focuses on improving processes, leading to increased efficiency and reduced waste.\\n\\n3. Better Employee Morale: TQM involves all employees in the organization, leading to better employee morale and job satisfaction.\\n\\n4. Improved Decision Making: TQM relies on data to make informed decisions about processes and quality assurance, leading to improved decision making.\\n\\n5. Competitive Advantage: TQM can provide a competitive advantage by improving product and service quality and customer satisfaction.' additional_kwargs={} example=False\n",
            "Result:  content='# Total Quality Management (TQM)\\n\\nTotal Quality Management (TQM) is a set of practices and processes that organizations use to improve customer satisfaction, reduce costs, and increase efficiency. It emphasizes the importance of continuous improvement, employee involvement, and customer satisfaction. \\n\\n## Importance of TQM\\n\\nTQM has become an increasingly important factor in the modern business world. It helps organizations to focus on customers and their needs, while also increasing the efficiency and effectiveness of their operations. TQM has been proven to be an effective tool for improving the quality of products and services, as well as improving customer satisfaction and loyalty.\\n\\n## Key Principles of TQM\\n\\nThe key principles of TQM include:\\n\\n1. Customer focus: TQM emphasizes the importance of understanding and meeting the needs of customers.\\n\\n2. Continuous improvement: TQM requires organizations to continuously improve their processes and products to meet changing customer needs and expectations.\\n\\n3. Employee involvement: TQM encourages employees to be involved in the improvement process and to take ownership of their work.\\n\\n4. Process approach: TQM focuses on improving processes to achieve better results.\\n\\n5. Data-driven decision making: TQM requires organizations to use data to make informed decisions.\\n\\n6. Leadership: TQM requires strong leadership to drive the improvement process and create a culture of continuous improvement.\\n\\n## Benefits of TQM\\n\\nThe benefits of TQM include:\\n\\n1. Improved customer satisfaction: TQM helps organizations to better understand and meet the needs of their customers, leading to increased customer satisfaction.\\n\\n2. Reduced costs: TQM helps organizations to identify and eliminate waste, leading to reduced costs.\\n\\n3. Increased efficiency: TQM helps organizations to improve their processes, leading to increased efficiency.\\n\\n4. Improved quality: TQM helps organizations to improve the quality of their products and services.\\n\\n5. Increased employee satisfaction: TQM encourages employee involvement and ownership, leading to increased job satisfaction.\\n\\n## Conclusion\\n\\nTQM is a powerful tool for improving the quality of products and services, reducing costs, and increasing efficiency. By focusing on customers and their needs, and by involving employees in the improvement process, organizations can achieve significant benefits from TQM.' additional_kwargs={} example=False\n",
            "Result:  content=\"# Kaoru Ishikawa\\n\\nKaoru Ishikawa was a prominent Japanese engineer and quality control expert who made significant contributions to the field of quality control. He was born on July 13, 1915, in Tokyo, Japan, and passed away on April 16, 1989, at the age of 73.\\n\\n## Career with the Japanese Union of Scientists and Engineers (JUSE)\\n\\nKaoru Ishikawa was a member of the Japanese Union of Scientists and Engineers (JUSE) and held various positions within the organization. He was a lecturer of the Introductory Course for Design of Experiment, a member of the ISO/TC 102 Japan Committee, and the chair of the Sampling Subcommittee. He was also the chair of the Editorial Committee of the JUSE English Report and the editorial board of Genba To QC-magazine.\\n\\n## Other Achievements\\n\\nIn addition to his work with JUSE, Kaoru Ishikawa was involved in various QC seminars and events. He was an examiner of the Ministry of International Trade and Industry’s Professional engineers qualification examination and a part-time lecturer at Gunma University.\\n\\n## Legacy\\n\\nKaoru Ishikawa's contributions to the field of quality control have had a lasting impact. He is best known for his development of the Ishikawa diagram, also known as the fishbone diagram or cause-and-effect diagram, which is a tool used to identify the root cause of a problem. His work has helped to improve the quality of products and services around the world.\" additional_kwargs={} example=False\n",
            "Result:  content=\"# Kaoru Ishikawa and the Japanese Union of Scientists and Engineers (JUSE) in the Evolution of Total Quality Management (TQM)\\n\\nTotal Quality Management (TQM) is a management approach that aims to improve the quality of products and services by involving all employees in the organization in a continuous improvement process. Kaoru Ishikawa and the Japanese Union of Scientists and Engineers (JUSE) have played a significant role in the evolution of TQM through their activities and initiatives in the field of quality control.\\n\\n## Kaoru Ishikawa's Contributions to TQM\\n\\nKaoru Ishikawa was a Japanese engineer and quality control expert who developed several tools and techniques for quality control. He is best known for his work on the Ishikawa diagram, also known as the fishbone diagram or cause-and-effect diagram, which is a tool used to identify the root cause of a problem.\\n\\nIshikawa also developed the concept of quality circles, which are small groups of employees who meet regularly to identify and solve quality-related problems. This approach emphasizes the importance of involving all employees in the quality improvement process.\\n\\n## JUSE's Contributions to TQM\\n\\nThe Japanese Union of Scientists and Engineers (JUSE) was founded in 1946 with the goal of promoting scientific and technological progress in Japan. JUSE played a significant role in the development of TQM by promoting the use of statistical quality control techniques and organizing training programs for quality control professionals.\\n\\nJUSE also established the Deming Prize in 1951, which is awarded annually to companies that have made significant contributions to the field of quality control. The prize is named after W. Edwards Deming, an American statistician who played a key role in the development of TQM.\\n\\n## Impact of Ishikawa and JUSE on TQM\\n\\nThe contributions of Kaoru Ishikawa and JUSE have had a significant impact on the evolution of TQM. Their emphasis on involving all employees in the quality improvement process and the use of statistical quality control techniques have become fundamental principles of TQM.\\n\\nThe Deming Prize, established by JUSE, has also played a significant role in promoting the adoption of TQM by companies around the world. The prize has become a symbol of excellence in quality control and has encouraged companies to strive for continuous improvement in their products and services.\\n\\nIn conclusion, Kaoru Ishikawa and the Japanese Union of Scientists and Engineers (JUSE) have made significant contributions to the evolution of Total Quality Management (TQM) through their activities and initiatives in the field of quality control. Their emphasis on involving all employees in the quality improvement process and the use of statistical quality control techniques have become fundamental principles of TQM, and the Deming Prize has become a symbol of excellence in quality control.\" additional_kwargs={} example=False\n",
            "Result:  content='# Total Quality Management (TQM)\\n\\n## Introduction\\nTotal Quality Management (TQM) is a management approach that focuses on continuous improvement of processes and products to achieve customer satisfaction. It involves all employees in an organization and aims to create a culture of quality that permeates every aspect of the organization.\\n\\n## Historical Background\\nQuality management before TQM was largely based on the work of Walter Shewhart, who developed statistical process control in the 1930s. His work was expanded and adapted by Yasushi Ishida, Kanzo Kiribuchi, and Pearson, amongst others. These early developments laid the foundation for the Total Quality Management movement.\\n\\n## Key Principles of TQM\\nTQM is based on several key principles, including:\\n\\n- Customer focus: Understanding and meeting the needs of customers is the primary focus of TQM.\\n- Continuous improvement: TQM is a continuous process of improvement that involves all employees in an organization.\\n- Employee involvement: All employees are involved in the TQM process and are encouraged to contribute to the improvement of processes and products.\\n- Process approach: TQM focuses on improving processes rather than individual products or services.\\n- Data-driven decision making: TQM relies on data and analysis to make informed decisions about process improvement.\\n- Leadership: Effective leadership is essential for the successful implementation of TQM.\\n\\n## Benefits of TQM\\nTQM can provide several benefits to an organization, including:\\n\\n- Improved customer satisfaction: TQM focuses on meeting the needs of customers, which can lead to increased customer satisfaction.\\n- Increased efficiency: TQM can help organizations identify and eliminate inefficiencies in processes, leading to increased efficiency and productivity.\\n- Improved employee morale: TQM involves all employees in the process of continuous improvement, which can lead to increased employee morale and job satisfaction.\\n- Competitive advantage: Organizations that implement TQM can gain a competitive advantage by providing high-quality products and services that meet the needs of customers.\\n\\n## Conclusion\\nTotal Quality Management is a management approach that focuses on continuous improvement of processes and products to achieve customer satisfaction. It is based on several key principles, including customer focus, continuous improvement, employee involvement, process approach, data-driven decision making, and leadership. TQM can provide several benefits to an organization, including improved customer satisfaction, increased efficiency, improved employee morale, and competitive advantage.' additional_kwargs={} example=False\n",
            "Result:  content=\"# Quality Management: Inspection, Quality Control, and Quality Assurance\\n\\nQuality management is a crucial aspect of any business that aims to deliver products or services that meet or exceed customer expectations. Three foundational concepts in quality management are inspection, quality control, and quality assurance.\\n\\n## Inspection\\n\\nInspection is the process of examining a product or service to verify that it meets pre-determined requirements. This process involves checking the product or service against a set of standards or specifications to ensure that it is free from defects and meets the desired quality level. Inspection can be done at various stages of the production process, including raw materials, in-process production, and finished products.\\n\\n## Quality Control\\n\\nQuality control is a systematic method of ensuring that a product or service meets a set of predetermined standards. This process involves monitoring and controlling the production process to ensure that the product or service meets the desired quality level. Quality control can be achieved through various methods, such as statistical process control, process mapping, and quality audits.\\n\\n## Quality Assurance\\n\\nQuality assurance is a system of activities designed to ensure that the product or service that is delivered meets the customer's expectations. It involves a series of processes, such as design, production, and delivery, that are monitored to ensure that the quality is maintained. Quality assurance aims to prevent defects from occurring in the first place by implementing quality management systems and processes.\\n\\nTogether, these three concepts form the basis for an effective quality management system. By implementing inspection, quality control, and quality assurance processes, businesses can ensure that their products or services meet or exceed customer expectations, leading to increased customer satisfaction and loyalty.\" additional_kwargs={} example=False\n",
            "Result:  content='# Statistical Process Control (SPC)\\n\\nStatistical process control (SPC) is a method of quality control that uses statistical methods to identify and solve problems with a production process. It is an important tool for improving efficiency and reducing costs in manufacturing and industrial processes.\\n\\n## History of SPC\\n\\nSPC was developed in the 1930s by Walter Shewhart, Yasushi Ishida, Kanzo Kiribuchi, and Karl Pearson. It was popularized by Dr. W. Edwards Deming in the 1950s and 1960s.\\n\\n## Purpose of SPC\\n\\nThe purpose of SPC is to monitor product or process quality and ensure that it meets predetermined standards. By using statistical methods to analyze data, SPC can identify when a process is not operating within acceptable limits and help to identify the root cause of the problem.\\n\\n## Benefits of SPC\\n\\nSPC has several benefits, including:\\n\\n- Improved quality control: SPC helps to identify and correct problems with a production process, leading to improved product quality.\\n- Increased efficiency: By identifying and correcting problems with a production process, SPC can help to reduce waste and increase efficiency.\\n- Cost savings: SPC can help to reduce costs associated with waste, rework, and product recalls.\\n\\n## Key Concepts of SPC\\n\\nThere are several key concepts of SPC, including:\\n\\n- Control charts: Control charts are used to monitor a production process over time and identify when it is operating outside of acceptable limits.\\n- Process capability: Process capability is a measure of how well a production process is able to meet predetermined specifications.\\n- Variation: Variation is the degree to which a production process deviates from its expected performance.\\n\\n## Conclusion\\n\\nSPC is an important tool for improving efficiency and reducing costs in manufacturing and industrial processes. By using statistical methods to monitor product or process quality, SPC can help to identify and correct problems with a production process, leading to improved product quality, increased efficiency, and cost savings.' additional_kwargs={} example=False\n",
            "Result:  content='# Statistical Process Control (SPC)\\n\\nStatistical process control (SPC) is a method used to measure and control quality in the production process. It was developed in the early 20th century as a response to the need for increased consistency in manufacturing.\\n\\n## Purpose of SPC\\n\\nThe purpose of SPC is to identify areas of variation in the production process. By collecting, organizing, and analyzing data, manufacturers can identify the sources of variation and make changes to the process to reduce variation and increase quality. This has had a significant impact on manufacturing, as it has allowed manufacturers to improve the consistency and quality of their products.\\n\\n## How SPC Works\\n\\nSPC involves collecting data on the production process and analyzing it to identify areas of variation. This data can include measurements of product characteristics, such as size, weight, or color, as well as data on the production process itself, such as temperature, pressure, or speed.\\n\\nOnce the data has been collected, it is organized and analyzed using statistical methods. This analysis can identify patterns and trends in the data, as well as outliers or other anomalies that may indicate a problem in the production process.\\n\\nBased on the analysis, manufacturers can make changes to the production process to reduce variation and improve quality. These changes may include adjusting machine settings, changing materials or suppliers, or modifying the production process itself.\\n\\n## Benefits of SPC\\n\\nThe benefits of SPC include:\\n\\n- Improved quality: By identifying areas of variation and making changes to the production process, manufacturers can improve the consistency and quality of their products.\\n- Increased efficiency: By reducing variation and improving quality, manufacturers can reduce waste and increase efficiency in the production process.\\n- Cost savings: By improving quality and efficiency, manufacturers can reduce costs associated with waste, rework, and customer returns.\\n\\n## Conclusion\\n\\nStatistical process control is a powerful tool for improving quality and efficiency in the production process. By collecting and analyzing data, manufacturers can identify areas of variation and make changes to the production process to improve quality and reduce costs.' additional_kwargs={} example=False\n",
            "Result:  content='# Introduction\\nStatistical process control (SPC) is a quality control method that uses statistical techniques to monitor and control a process. It was developed in the 1930s by Walter Shewhart, Yasushi Ishida, Kanzo Kiribuchi, and Pearson as a way to improve manufacturing processes and product quality. SPC has since become an essential tool for industries around the world, as it allows manufacturers to identify and address potential problems in their production process quickly and efficiently. \\n\\n# Benefits of SPC\\nSPC has several benefits for manufacturers, including:\\n\\n## Improved Product Quality\\nBy monitoring a process using statistical methods, manufacturers can identify and address potential problems before they result in defective products. This leads to improved product quality and customer satisfaction.\\n\\n## Increased Efficiency\\nSPC allows manufacturers to identify inefficiencies in their production process and make necessary adjustments. This leads to increased efficiency and cost savings.\\n\\n## Cost Savings\\nBy identifying and addressing potential problems early on, manufacturers can avoid costly rework and scrap. This leads to significant cost savings over time.\\n\\n# How SPC Works\\nSPC involves monitoring a process using statistical methods to identify any variation in the process. The goal is to identify any variation that is outside of the normal range and take corrective action before it results in defective products. \\n\\n## Control Charts\\nOne of the primary tools used in SPC is the control chart. A control chart is a graph that shows how a process is performing over time. It includes a centerline that represents the average value of the process and upper and lower control limits that represent the acceptable range of variation. \\n\\n## Data Collection\\nTo create a control chart, data must be collected on the process being monitored. This data is typically collected in real-time using sensors or other monitoring devices. \\n\\n## Statistical Analysis\\nOnce the data has been collected, it is analyzed using statistical methods to determine if the process is within the acceptable range of variation. If the process is outside of the acceptable range, corrective action is taken to bring it back into control. \\n\\n# Conclusion\\nStatistical process control is a powerful tool for manufacturers looking to improve their production processes and product quality. By monitoring a process using statistical methods, manufacturers can identify and address potential problems before they result in defective products. This leads to improved product quality, increased efficiency, and significant cost savings over time.' additional_kwargs={} example=False\n",
            "Result:  content='# Statistical Process Control (SPC)\\n\\nStatistical process control (SPC) is a method used to monitor and control a process by collecting data and analyzing the data to identify trends or patterns. It is used to ensure quality and consistency in products and services and is an important part of Total Quality Control (TQC).\\n\\n## History of SPC\\n\\nSPC was developed in the early twentieth century by Walter Shewhart, Yasushi Ishida, and Kanzo Kiribuchi. In 1931, Shewhart published \"Economic Control of Quality of Manufactured Products,\" Ishida developed the control chart, and Kiribuchi introduced quality control as “Hinshitsu Tosei” in his book \"The Science of Industrial Control.\" In 1935, Pearson’s “The Application of Statistical Methods to Industrial Standardization and Quality Control,” which later became BS 600, was published.\\n\\n## Importance of SPC\\n\\nSPC has continued to grow in importance as it has been adapted and applied to a variety of industries. It is now seen as an essential tool for quality control and process improvement. By monitoring and analyzing data, SPC helps organizations identify and address issues before they become major problems. This leads to improved efficiency, reduced waste, and increased customer satisfaction.' additional_kwargs={} example=False\n",
            "Result:  content=\"the Japanese Society for Quality Control and the International Academy for Quality.\\n\\n## Early Life and Education\\n\\nKaoru Ishikawa was born in 1915 in Nishigahara, Takinogawa Ward, Tokyo City. At the age of 8, he entered the Elementary School attached to Tokyo Higher Normal School. Later, at the age of 13, he entered the Junior High School attached to Tokyo Higher Normal School. In 1933, he entered Tokyo High School University at the age of 18.\\n\\n## Career\\n\\nIn 1948, Kaoru Ishikawa started research on coal briquettes and became a member of the Japanese Association of University Professors and Japanese Society for Engineering Education. He played an important role in the development of TQM and gave a special lecture and acted as a discussion leader at the Quality Control Symposium held in Tokyo, welcoming representatives from various countries in Asia.\\n\\nKaoru Ishikawa published How to Establish Product Standards of Japanese Industrial Standards and was a member of the Quality Control Symposium Organizing Committee. He was also chair of the Draft Committee for the JIS M 8100 “Particulate materials – General rules for methods of sampling” and established the FQC Award. He was the chair of the Japanese Society for Quality Control and the International Academy for Quality.\\n\\nIn 1965, he joined the 2nd QC Overseas Research Team as the head of the delegation (JUSE) and became an advisor to the Japan Productivity Center.\\n\\n## Contributions\\n\\nKaoru Ishikawa made significant contributions to the field of quality control and TQM. He played a key role in the development of TQM and was a prominent figure in the Japanese Society for Quality Control and the International Academy for Quality. He established the FQC Award and was the chair of the Draft Committee for the JIS M 8100 “Particulate materials – General rules for methods of sampling”. He also published How to Establish Product Standards of Japanese Industrial Standards.\\n\\n## Legacy\\n\\nKaoru Ishikawa's contributions to the field of quality control and TQM have had a lasting impact. His work has influenced the development of quality control practices and standards around the world. He is remembered as a pioneer in the field and a leader in the Japanese Society for Quality Control and the International Academy for Quality.\" additional_kwargs={} example=False\n",
            "Result:  content='# Kaoru Ishikawa: A Pioneer in Total Quality Management\\n\\nKaoru Ishikawa was a renowned Japanese engineer and quality control expert who played a pivotal role in the development of Total Quality Management (TQM). He was born on July 13, 1915, in Tokyo, Japan, and passed away on April 16, 1989, at the age of 73.\\n\\n## Contributions to Quality Circles\\n\\nIshikawa is best known for his contributions to the development of Quality Circles, which are groups of employees that meet regularly to discuss and identify quality issues and develop solutions. He believed that Quality Circles could help improve the quality of products and services, increase productivity, and enhance employee morale.\\n\\nIshikawa was a founding member of the International Friendship Club, which promoted the use of Quality Circles in Japan and abroad. He also wrote and edited the Quality Assurance Guidebook (JUSE Press) and How to Operate QC Circle Activities, which provided guidance for successful Quality Circle implementation.\\n\\n## Professional Affiliations\\n\\nIshikawa was a member of several professional organizations, including the Japanese Society for Quality Control, the International Cooperation Committee, the ISO/TC 69 Japan Committee, and the Sampling Research Group of Environmental Pollution. He was also involved in various international conferences and meetings, such as the ASQC Annual Conference, the IAQ meeting, the EOQC Conference, and the Japan-Soviet Round-Table Conference on Standardization.\\n\\n## Legacy\\n\\nThrough his work, Ishikawa helped to spread the use of Quality Circles throughout Japan and the world. His contributions to the field of quality control and TQM have had a lasting impact on the way organizations approach quality management. Today, his teachings and principles continue to be studied and applied by quality professionals around the world.' additional_kwargs={} example=False\n",
            "Result:  content='# Kaoru Ishikawa: The Father of Total Quality Management\\n\\nKaoru Ishikawa was a renowned Japanese quality control expert who played a significant role in the development of Total Quality Management (TQM). He was born on July 13, 1915, in Tokyo, Japan, and passed away on April 16, 1989, at the age of 73. Ishikawa was a professor at the University of Tokyo and an advocate of quality control circles. He was also one of the founders of the Japanese Society for Quality Control.\\n\\n## Contributions to Total Quality Management\\n\\nIshikawa is best known for his contributions to the development of Total Quality Management (TQM). He was an influential figure in the TQM movement in Japan, and his efforts helped to popularize the use of the Ishikawa Diagram in Japan and around the world. The Ishikawa Diagram, also known as the fishbone diagram, is a tool used to identify and analyze the root causes of problems. It is a graphical representation of the possible causes of a problem, with the problem at the head of the fishbone and the potential causes branching off like the bones of a fish.\\n\\n## Advocacy of Quality Control Circles\\n\\nIshikawa was a strong advocate of quality control circles, which are small groups of employees who work together to identify and solve problems related to quality control. He believed that quality control circles were an effective way to improve quality and productivity in the workplace. Ishikawa\\'s advocacy of quality control circles helped to popularize the concept in Japan and around the world.\\n\\n## Authorship of Books on Quality Control\\n\\nIn addition to his work on TQM and quality control circles, Ishikawa was also the author of several books on quality control. His books, which were widely read and influential, included \"What is Total Quality Control?\" and \"Quality Control Handbook.\" These books helped to spread the principles of quality control and TQM to a wider audience.\\n\\n## Legacy\\n\\nKaoru Ishikawa\\'s contributions to the development of Total Quality Management and quality control circles have had a lasting impact on the field of quality control. His work helped to popularize the use of the Ishikawa Diagram and quality control circles in Japan and around the world. Today, these tools and concepts are widely used in many industries and are considered essential components of quality control and TQM.' additional_kwargs={} example=False\n",
            "Result:  content='# Kaoru Ishikawa: A Pioneer in Total Quality Management\\n\\nKaoru Ishikawa is a renowned figure in the field of Total Quality Management (TQM). He is widely recognized for his contributions to the development of TQM and his philosophy on customer satisfaction. \\n\\n## Early Life and Education\\n\\nKaoru Ishikawa was born on July 13, 1915, in Tokyo, Japan. He graduated from the University of Tokyo in 1939 with a degree in applied chemistry. He later earned a doctorate in engineering from the same university in 1948.\\n\\n## Contributions to TQM\\n\\nKaoru Ishikawa is often credited with introducing the concept of \"the next process is your customer\" in the quality control process. This idea emphasizes the importance of customer satisfaction in the quality control process. Ishikawa believed that a company should strive to meet customer needs and expectations in order to maximize profits and ensure long-term success. He believed that customer satisfaction should be at the forefront of any quality control process. \\n\\nIshikawa\\'s philosophy on customer satisfaction is still widely used in TQM today. He also served as a member of several committees related to quality control, including the Nuclear Power Plant Quality Assurance Review Committee and the Japanese Society for Quality Control. \\n\\n## Books and Publications\\n\\nKaoru Ishikawa wrote several books on the subject of quality control, including \"Control Points of Quality\" and \"How to Establish Product Standards of Japanese Industrial Standards.\" His books have been widely read and have influenced the development of TQM around the world. \\n\\n## Legacy\\n\\nKaoru Ishikawa\\'s contributions to the development of TQM have been invaluable. His philosophy on customer satisfaction and his emphasis on meeting customer needs and expectations continue to influence the industry today. His legacy will continue to inspire future generations of quality control professionals.' additional_kwargs={} example=False\n",
            "Result:  content='to promoting quality management principles and practices.\\n\\n# Kaoru Ishikawa: A Pioneer of Total Quality Management in Japan\\n\\nKaoru Ishikawa was a prominent figure in the development of Total Quality Management (TQM) in Japan. He was the founder of the Japan Union of Scientists and Engineers (JUSE), a non-profit organization that played a major role in promoting quality management in Japan through research, seminars, workshops, and other activities.\\n\\n## The Japan Union of Scientists and Engineers (JUSE)\\n\\nJUSE was established in 1965 with the aim of promoting the development of quality management in Japan. Through JUSE, Ishikawa introduced several initiatives that contributed to the growth of TQM in Japan, including:\\n\\n- The Quality Control (QC) Circle system: This system involved small groups of employees who worked together to identify and solve quality-related problems in their workplace. The QC Circle system was widely adopted in Japan and became a key component of TQM.\\n- Awards for excellence in the implementation of industrial standardization: JUSE established awards to recognize companies that demonstrated excellence in implementing industrial standardization practices.\\n- International cooperation committees: JUSE created committees to promote international cooperation in the field of quality management.\\n\\n## Contributions to Quality Management\\n\\nIshikawa was a prolific writer and published numerous books and papers on quality management topics. Some of his notable works include:\\n\\n- Introduction to Quality Control: This book provided an overview of quality control principles and practices and was widely used as a textbook in Japan.\\n- How to Establish Product Standards of Japanese Industrial Standards: This paper outlined the process for establishing product standards in Japan and was instrumental in the development of industrial standardization practices in the country.\\n\\nIn addition to his work with JUSE, Ishikawa was also involved in several other initiatives related to quality management. He was a member of the International Cooperation Committee (ASQC) and the chair of the Standards Rationalization Committee. He also served as the head of the delegation for the 2nd QC Overseas Research Team, which introduced the QC circle system to Japan, and was a part-time lecturer at Gunma University.\\n\\n## Conclusion\\n\\nKaoru Ishikawa played a significant role in the development of TQM in Japan through his leadership of JUSE and his dedication to promoting quality management principles and practices. His contributions to the field of quality management continue to be recognized and celebrated today.' additional_kwargs={} example=False\n",
            "Result:  content='to promoting quality management principles and practices.\\n\\n# Kaoru Ishikawa: A Pioneer of Total Quality Management in Japan\\n\\nKaoru Ishikawa was a prominent figure in the development of Total Quality Management (TQM) in Japan. He was the founder of the Japan Union of Scientists and Engineers (JUSE), a non-profit organization that played a major role in promoting quality management in Japan through research, seminars, workshops, and other activities.\\n\\n## The Japan Union of Scientists and Engineers (JUSE)\\n\\nJUSE was established in 1965 with the aim of promoting the development of quality management in Japan. Through JUSE, Ishikawa introduced several initiatives that contributed to the growth of TQM in Japan, including:\\n\\n- The Quality Control (QC) Circle system: This system involved small groups of employees who worked together to identify and solve quality-related problems in their workplace. The QC Circle system was widely adopted in Japan and became a key component of TQM.\\n- Awards for excellence in the implementation of industrial standardization: JUSE established awards to recognize companies that demonstrated excellence in implementing industrial standardization practices.\\n- International cooperation committees: JUSE created committees to promote international cooperation in the field of quality management.\\n\\n## Contributions to Quality Management\\n\\nIshikawa was a prolific writer and published numerous books and papers on quality management topics. Some of his notable works include:\\n\\n- Introduction to Quality Control: This book provided an overview of quality control principles and practices and was widely used as a textbook in Japan.\\n- How to Establish Product Standards of Japanese Industrial Standards: This paper outlined the process for establishing product standards in Japan and was instrumental in the development of industrial standardization practices in the country.\\n\\nIn addition to his work with JUSE, Ishikawa was also involved in several other initiatives related to quality management. He was a member of the International Cooperation Committee (ASQC) and the chair of the Standards Rationalization Committee. He also served as the head of the delegation for the 2nd QC Overseas Research Team, which introduced the QC circle system to Japan, and was a part-time lecturer at Gunma University.\\n\\n## Conclusion\\n\\nKaoru Ishikawa played a significant role in the development of TQM in Japan through his leadership of JUSE and his dedication to promoting quality management principles and practices. His contributions to the field of quality management continue to be recognized and celebrated today.' additional_kwargs={} example=False\n",
            "Result:  content=\"# Kaoru Ishikawa and TQM\\n\\nKaoru Ishikawa played a significant role in the development and promotion of Total Quality Management (TQM) in Japan and globally. He was involved in various organizations, including the Japanese Society for Quality Control (JUSE) and the International Cooperation Committee (ASQC), where he actively promoted TQM and its principles.\\n\\n## Involvement in Organizations\\n\\nKaoru Ishikawa was a member of JUSE, an organization that aimed to promote quality control and management in Japan. He served as the president of JUSE from 1968 to 1970 and later became the honorary president. Through JUSE, he organized seminars, gave lectures, and wrote books to spread the importance of quality assurance and management.\\n\\nHe was also involved in the ASQC, an organization that aimed to promote quality control and management globally. He served as the chair of the Program Committee for the International Convention on Quality Circles in 1978 (ICQCC '78-TOKYO) and was the head of the 1st QC Research Delegation Team that visited China.\\n\\n## Promotion of TQM\\n\\nKaoru Ishikawa's efforts helped to spread TQM and its principles in Japan and around the world. He gave lectures, wrote books, and organized seminars to promote the importance of quality assurance and management. He emphasized the importance of involving all employees in the quality control process and the use of statistical tools to improve quality.\\n\\nThrough his involvement in organizations such as JUSE and ASQC, he was able to promote TQM and its principles globally. His contributions have helped to establish TQM as a fundamental approach to quality control and management.\" additional_kwargs={} example=False\n",
            "Result:  content=\"# The Impact of TQM, Ishikawa, and JUSE on Contemporary Business and Management Practices\\n\\nTotal Quality Management (TQM) is a management philosophy that emphasizes continuous improvement, customer focus, and organizational learning. It was developed by Dr. Kaoru Ishikawa, a Japanese quality control expert, and promoted by the Japanese Union of Scientists and Engineers (JUSE). The impact of TQM, Ishikawa, and JUSE on contemporary business and management practices has been significant.\\n\\n## Principles of TQM\\n\\nThe principles of TQM are based on the following key concepts:\\n\\n- Continuous improvement: TQM emphasizes the need for continuous improvement in all aspects of an organization's operations. This involves identifying areas for improvement, setting goals, and implementing changes to achieve those goals.\\n\\n- Customer focus: TQM places a strong emphasis on understanding and meeting the needs of customers. This involves gathering feedback from customers, analyzing that feedback, and using it to improve products and services.\\n\\n- Organizational learning: TQM emphasizes the importance of learning from past experiences and using that knowledge to improve future performance. This involves analyzing data, identifying trends, and using that information to make informed decisions.\\n\\n## Adoption of TQM\\n\\nThe principles of TQM have been widely adopted by businesses around the world. Many organizations have implemented TQM programs in order to improve their operations, increase customer satisfaction, and remain competitive in the global marketplace. TQM has also been embraced by management in order to improve employee engagement and increase organizational efficiency.\\n\\n## Impact of TQM\\n\\nThe impact of TQM on contemporary business and management practices has been significant. By focusing on reducing waste and increasing efficiency, TQM has helped businesses improve their bottom line and remain competitive in the global marketplace. TQM has also helped businesses improve customer satisfaction by focusing on meeting the needs of customers and continuously improving products and services.\\n\\nIn conclusion, the principles of TQM, as developed by Ishikawa and promoted by JUSE, have become integral to the way businesses approach operations, innovation, and customer satisfaction. TQM has been instrumental in helping businesses remain competitive in the global marketplace and has had a significant impact on contemporary business and management practices.\" additional_kwargs={} example=False\n",
            "Result:  content=\"# Kaoru Ishikawa's Total Quality Management (TQM) Methods and Tools\\n\\nKaoru Ishikawa was a leading figure in the quality control field and his work has had a great impact on contemporary business practices. His methods and tools focused on the importance of quality control and he believed that it could be achieved through the use of various techniques such as QC circles, problem solving, and statistical control. \\n\\n## Importance of Quality Control\\n\\nIshikawa believed that quality control was essential for achieving success in any business. He emphasized that quality control should be an integral part of the production process and should involve everyone in the organization. He believed that quality control could be achieved through the use of various techniques and tools.\\n\\n## Ishikawa's Contributions\\n\\nIshikawa made several contributions to the field of quality control. He was instrumental in establishing the Japanese Society for Quality Control (JUSE) and his work on statistical quality control helped to revolutionize the way businesses are run. \\n\\n## 7 Quality Control Tools\\n\\nIshikawa developed the 7 Quality Control Tools, which are widely used today to identify process issues, analyze data, and develop solutions. The tools include:\\n\\n1. Cause-and-effect diagram\\n2. Flowchart\\n3. Check sheet\\n4. Pareto chart\\n5. Histogram\\n6. Scatter diagram\\n7. Control chart\\n\\n## QC Circles\\n\\nIshikawa also developed QC Circles, which are still used today to promote quality improvement through problem solving and peer-based learning. QC Circles involve small groups of employees who work together to identify and solve problems related to quality control.\\n\\n## Legacy\\n\\nIshikawa's methods and tools have had a lasting impact on contemporary business practices. They are still widely used today, particularly in the manufacturing industry, and have helped organizations to achieve higher standards of quality. His work has revolutionized the way businesses are run and his ideas continue to be relevant in industries such as healthcare and finance.\" additional_kwargs={} example=False\n",
            "Result:  content=\"# JUSE's Impact on Contemporary Business Practices\\n\\nThe Japanese Union of Scientists and Engineers (JUSE) has played a significant role in shaping contemporary business practices and quality initiatives. JUSE's focus on quality improvement and problem-solving has become a core component of many successful business operations.\\n\\n## JUSE's Philosophy of Quality Improvement\\n\\nJUSE's application of the philosophy of Kaoru Ishikawa has been instrumental in helping organizations improve their quality management systems. Ishikawa's philosophy emphasizes the importance of customer satisfaction, continuous improvement, and employee involvement. By adopting these principles, organizations can create a culture of quality that permeates every aspect of their operations.\\n\\n## JUSE's Contributions to Quality Management\\n\\nJUSE's work has resulted in the establishment of awards like the Deming Prize and the ISO/TC 69 Standardization Activities Cooperation Center. These awards recognize organizations that have implemented quality management systems and initiatives that meet or exceed international standards. By promoting these awards, JUSE has helped to raise awareness of the importance of quality management and encourage organizations to strive for excellence.\\n\\n## Conclusion\\n\\nIn conclusion, JUSE's principles and contributions have had a significant impact on contemporary business practices and quality initiatives. By emphasizing the importance of quality improvement, problem-solving, and employee involvement, JUSE has helped organizations to improve their quality management systems and achieve international recognition for their efforts.\" additional_kwargs={} example=False\n",
            "Result:  content='# Total Quality Management (TQM)\\n\\nTotal Quality Management (TQM) is a system of management that focuses on improving the quality of products and services through a process of continuous improvement. TQM was popularized by Professor Kaoru Ishikawa, a Japanese professor and quality management expert.\\n\\n## History of TQM\\n\\nTQM was developed in Japan in the 1950s and 1960s, and was popularized by Professor Kaoru Ishikawa. Ishikawa was a key figure in the Japanese Union of Scientists and Engineers (JUSE), which was established in 1946 and has been a major force in the development of quality management in Japan.\\n\\n## Contributions of Ishikawa and JUSE to TQM\\n\\nIshikawa and JUSE made significant contributions to the development of TQM, including:\\n\\n- The development of the Ishikawa Diagram, also known as the fishbone diagram or cause-and-effect diagram, which is a tool used to identify the root cause of a problem.\\n- The Quality Circle, which is a group of employees who meet regularly to identify and solve problems related to quality.\\n- The QC Story, which is a structured approach to problem-solving that involves identifying the problem, analyzing the data, developing a solution, and implementing the solution.\\n- The Quality Control Handbook, which is a comprehensive guide to quality management.\\n- The Deming Prize, which is an award given to companies that have made significant contributions to quality management.\\n\\n## Adoption of TQM\\n\\nThe tools and methods developed by Ishikawa and JUSE have helped to improve the quality of products and services in Japan, and have been adopted around the world. TQM has become a widely used approach to quality management, and has been implemented in a variety of industries, including manufacturing, healthcare, and service industries.' additional_kwargs={} example=False\n",
            "Result:  content=\"In other words, Ishikawa's thesis aimed to examine the accuracy and consistency of various techniques used to sample coal, with the ultimate goal of improving the quality of coal analysis and ensuring that coal products meet industry standards.\" additional_kwargs={} example=False\n",
            "Result:  content=\"# Total Quality Management (TQM)\\n\\nTotal Quality Management (TQM) is a management approach that focuses on continuous improvement of quality and efficiency in all aspects of an organization's operations. TQM was championed by Prof. Kaoru Ishikawa and Japan Union of Scientists and Engineers (JUSE) and has had a significant impact on the global business landscape.\\n\\n## Principles of TQM\\n\\nThe principles of TQM include:\\n\\n- Customer focus: Meeting and exceeding customer expectations is the primary goal of TQM.\\n- Continuous improvement: TQM is a continuous process of improvement in all aspects of an organization's operations.\\n- Employee involvement: Employees are encouraged to participate in the improvement process and contribute their ideas and suggestions.\\n- Process improvement: TQM focuses on improving processes to increase efficiency and reduce waste.\\n- Data-driven decision making: TQM relies on data and analysis to make informed decisions.\\n\\n## Practices of TQM\\n\\nThe practices of TQM include:\\n\\n- 7 Quality Control Tools: These are a set of tools used to identify and solve quality problems.\\n- Six Sigma: A data-driven approach to quality improvement that aims to reduce defects and variability in processes.\\n- Lean Manufacturing: A systematic approach to identifying and eliminating waste in processes.\\n\\n## Future Implications of TQM\\n\\nThe future implications of TQM, Ishikawa, and JUSE in the global business landscape are likely to be even greater. As organizations continue to look for ways to optimize their operations, they may increasingly turn to the principles of TQM to help them. Additionally, as technology advances, TQM can be used to help businesses integrate new technologies into their operations more effectively, as well as to develop new processes and systems that can further improve quality and efficiency.\\n\\n## Legacy of Prof. Ishikawa and JUSE\\n\\nThe legacy of Prof. Ishikawa and JUSE will likely continue to be felt in the global business landscape for many years to come. As organizations continue to recognize the value of TQM principles and practices, their impact is likely to become even more pronounced.\" additional_kwargs={} example=False\n"
          ]
        }
      ]
    },
    {
      "cell_type": "code",
      "source": [],
      "metadata": {
        "id": "IYISY8QXUbAE"
      },
      "execution_count": 38,
      "outputs": []
    }
  ]
}