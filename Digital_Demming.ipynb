{
  "nbformat": 4,
  "nbformat_minor": 0,
  "metadata": {
    "colab": {
      "provenance": [],
      "toc_visible": true,
      "authorship_tag": "ABX9TyOOcdFcIUoqvlx9IYVHN9Fu",
      "include_colab_link": true
    },
    "kernelspec": {
      "name": "python3",
      "display_name": "Python 3"
    },
    "language_info": {
      "name": "python"
    }
  },
  "cells": [
    {
      "cell_type": "markdown",
      "metadata": {
        "id": "view-in-github",
        "colab_type": "text"
      },
      "source": [
        "<a href=\"https://colab.research.google.com/github/colinmcnamara/Digital_Demming/blob/main/Digital_Demming.ipynb\" target=\"_parent\"><img src=\"https://colab.research.google.com/assets/colab-badge.svg\" alt=\"Open In Colab\"/></a>"
      ]
    },
    {
      "cell_type": "markdown",
      "source": [
        "Install my local packages"
      ],
      "metadata": {
        "id": "s18SqtmEhRfZ"
      }
    },
    {
      "cell_type": "code",
      "execution_count": 1,
      "metadata": {
        "colab": {
          "base_uri": "https://localhost:8080/"
        },
        "id": "kLG6Xcprwh9m",
        "outputId": "f38fb9e5-bba4-4307-c242-fc0dd8c54c43"
      },
      "outputs": [
        {
          "output_type": "stream",
          "name": "stdout",
          "text": [
            "Looking in indexes: https://pypi.org/simple, https://us-python.pkg.dev/colab-wheels/public/simple/\n",
            "Collecting OpenAI\n",
            "  Downloading openai-0.27.8-py3-none-any.whl (73 kB)\n",
            "\u001b[2K     \u001b[90m━━━━━━━━━━━━━━━━━━━━━━━━━━━━━━━━━━━━━━━━\u001b[0m \u001b[32m73.6/73.6 kB\u001b[0m \u001b[31m2.8 MB/s\u001b[0m eta \u001b[36m0:00:00\u001b[0m\n",
            "\u001b[?25hCollecting langchain\n",
            "  Downloading langchain-0.0.194-py3-none-any.whl (1.0 MB)\n",
            "\u001b[2K     \u001b[90m━━━━━━━━━━━━━━━━━━━━━━━━━━━━━━━━━━━━━━━━\u001b[0m \u001b[32m1.0/1.0 MB\u001b[0m \u001b[31m18.7 MB/s\u001b[0m eta \u001b[36m0:00:00\u001b[0m\n",
            "\u001b[?25hRequirement already satisfied: pydantic in /usr/local/lib/python3.10/dist-packages (1.10.7)\n",
            "Collecting faiss-gpu\n",
            "  Downloading faiss_gpu-1.7.2-cp310-cp310-manylinux_2_17_x86_64.manylinux2014_x86_64.whl (85.5 MB)\n",
            "\u001b[2K     \u001b[90m━━━━━━━━━━━━━━━━━━━━━━━━━━━━━━━━━━━━━━━━\u001b[0m \u001b[32m85.5/85.5 MB\u001b[0m \u001b[31m11.5 MB/s\u001b[0m eta \u001b[36m0:00:00\u001b[0m\n",
            "\u001b[?25hCollecting colab-env\n",
            "  Downloading colab-env-0.2.0.tar.gz (4.7 kB)\n",
            "  Preparing metadata (setup.py) ... \u001b[?25l\u001b[?25hdone\n",
            "Collecting unstructured\n",
            "  Downloading unstructured-0.7.2-py3-none-any.whl (1.3 MB)\n",
            "\u001b[2K     \u001b[90m━━━━━━━━━━━━━━━━━━━━━━━━━━━━━━━━━━━━━━━━\u001b[0m \u001b[32m1.3/1.3 MB\u001b[0m \u001b[31m29.3 MB/s\u001b[0m eta \u001b[36m0:00:00\u001b[0m\n",
            "\u001b[?25hCollecting chromadb\n",
            "  Downloading chromadb-0.3.26-py3-none-any.whl (123 kB)\n",
            "\u001b[2K     \u001b[90m━━━━━━━━━━━━━━━━━━━━━━━━━━━━━━━━━━━━━━\u001b[0m \u001b[32m123.6/123.6 kB\u001b[0m \u001b[31m11.3 MB/s\u001b[0m eta \u001b[36m0:00:00\u001b[0m\n",
            "\u001b[?25hCollecting tiktoken\n",
            "  Downloading tiktoken-0.4.0-cp310-cp310-manylinux_2_17_x86_64.manylinux2014_x86_64.whl (1.7 MB)\n",
            "\u001b[2K     \u001b[90m━━━━━━━━━━━━━━━━━━━━━━━━━━━━━━━━━━━━━━━━\u001b[0m \u001b[32m1.7/1.7 MB\u001b[0m \u001b[31m31.6 MB/s\u001b[0m eta \u001b[36m0:00:00\u001b[0m\n",
            "\u001b[?25hCollecting pdf2image\n",
            "  Downloading pdf2image-1.16.3-py3-none-any.whl (11 kB)\n",
            "Requirement already satisfied: requests>=2.20 in /usr/local/lib/python3.10/dist-packages (from OpenAI) (2.27.1)\n",
            "Requirement already satisfied: tqdm in /usr/local/lib/python3.10/dist-packages (from OpenAI) (4.65.0)\n",
            "Collecting aiohttp (from OpenAI)\n",
            "  Downloading aiohttp-3.8.4-cp310-cp310-manylinux_2_17_x86_64.manylinux2014_x86_64.whl (1.0 MB)\n",
            "\u001b[2K     \u001b[90m━━━━━━━━━━━━━━━━━━━━━━━━━━━━━━━━━━━━━━━━\u001b[0m \u001b[32m1.0/1.0 MB\u001b[0m \u001b[31m34.4 MB/s\u001b[0m eta \u001b[36m0:00:00\u001b[0m\n",
            "\u001b[?25hRequirement already satisfied: PyYAML>=5.4.1 in /usr/local/lib/python3.10/dist-packages (from langchain) (6.0)\n",
            "Requirement already satisfied: SQLAlchemy<3,>=1.4 in /usr/local/lib/python3.10/dist-packages (from langchain) (2.0.10)\n",
            "Collecting async-timeout<5.0.0,>=4.0.0 (from langchain)\n",
            "  Downloading async_timeout-4.0.2-py3-none-any.whl (5.8 kB)\n",
            "Collecting dataclasses-json<0.6.0,>=0.5.7 (from langchain)\n",
            "  Downloading dataclasses_json-0.5.7-py3-none-any.whl (25 kB)\n",
            "Collecting langchainplus-sdk>=0.0.6 (from langchain)\n",
            "  Downloading langchainplus_sdk-0.0.6-py3-none-any.whl (21 kB)\n",
            "Requirement already satisfied: numexpr<3.0.0,>=2.8.4 in /usr/local/lib/python3.10/dist-packages (from langchain) (2.8.4)\n",
            "Requirement already satisfied: numpy<2,>=1 in /usr/local/lib/python3.10/dist-packages (from langchain) (1.22.4)\n",
            "Collecting openapi-schema-pydantic<2.0,>=1.2 (from langchain)\n",
            "  Downloading openapi_schema_pydantic-1.2.4-py3-none-any.whl (90 kB)\n",
            "\u001b[2K     \u001b[90m━━━━━━━━━━━━━━━━━━━━━━━━━━━━━━━━━━━━━━━━\u001b[0m \u001b[32m90.0/90.0 kB\u001b[0m \u001b[31m10.6 MB/s\u001b[0m eta \u001b[36m0:00:00\u001b[0m\n",
            "\u001b[?25hRequirement already satisfied: tenacity<9.0.0,>=8.1.0 in /usr/local/lib/python3.10/dist-packages (from langchain) (8.2.2)\n",
            "Requirement already satisfied: typing-extensions>=4.2.0 in /usr/local/lib/python3.10/dist-packages (from pydantic) (4.5.0)\n",
            "Collecting python-dotenv<1.0,>=0.10.0 (from colab-env)\n",
            "  Downloading python_dotenv-0.21.1-py3-none-any.whl (19 kB)\n",
            "Collecting argilla (from unstructured)\n",
            "  Downloading argilla-1.8.0-py3-none-any.whl (2.4 MB)\n",
            "\u001b[2K     \u001b[90m━━━━━━━━━━━━━━━━━━━━━━━━━━━━━━━━━━━━━━━━\u001b[0m \u001b[32m2.4/2.4 MB\u001b[0m \u001b[31m89.7 MB/s\u001b[0m eta \u001b[36m0:00:00\u001b[0m\n",
            "\u001b[?25hRequirement already satisfied: chardet in /usr/local/lib/python3.10/dist-packages (from unstructured) (4.0.0)\n",
            "Requirement already satisfied: lxml in /usr/local/lib/python3.10/dist-packages (from unstructured) (4.9.2)\n",
            "Collecting msg-parser (from unstructured)\n",
            "  Downloading msg_parser-1.2.0-py2.py3-none-any.whl (101 kB)\n",
            "\u001b[2K     \u001b[90m━━━━━━━━━━━━━━━━━━━━━━━━━━━━━━━━━━━━━━\u001b[0m \u001b[32m101.8/101.8 kB\u001b[0m \u001b[31m13.1 MB/s\u001b[0m eta \u001b[36m0:00:00\u001b[0m\n",
            "\u001b[?25hRequirement already satisfied: nltk in /usr/local/lib/python3.10/dist-packages (from unstructured) (3.8.1)\n",
            "Requirement already satisfied: openpyxl in /usr/local/lib/python3.10/dist-packages (from unstructured) (3.0.10)\n",
            "Requirement already satisfied: pandas in /usr/local/lib/python3.10/dist-packages (from unstructured) (1.5.3)\n",
            "Collecting pdfminer.six (from unstructured)\n",
            "  Downloading pdfminer.six-20221105-py3-none-any.whl (5.6 MB)\n",
            "\u001b[2K     \u001b[90m━━━━━━━━━━━━━━━━━━━━━━━━━━━━━━━━━━━━━━━━\u001b[0m \u001b[32m5.6/5.6 MB\u001b[0m \u001b[31m74.9 MB/s\u001b[0m eta \u001b[36m0:00:00\u001b[0m\n",
            "\u001b[?25hRequirement already satisfied: pillow in /usr/local/lib/python3.10/dist-packages (from unstructured) (8.4.0)\n",
            "Collecting pypandoc (from unstructured)\n",
            "  Downloading pypandoc-1.11-py3-none-any.whl (20 kB)\n",
            "Collecting python-docx (from unstructured)\n",
            "  Downloading python-docx-0.8.11.tar.gz (5.6 MB)\n",
            "\u001b[2K     \u001b[90m━━━━━━━━━━━━━━━━━━━━━━━━━━━━━━━━━━━━━━━━\u001b[0m \u001b[32m5.6/5.6 MB\u001b[0m \u001b[31m83.9 MB/s\u001b[0m eta \u001b[36m0:00:00\u001b[0m\n",
            "\u001b[?25h  Preparing metadata (setup.py) ... \u001b[?25l\u001b[?25hdone\n",
            "Collecting python-pptx (from unstructured)\n",
            "  Downloading python-pptx-0.6.21.tar.gz (10.1 MB)\n",
            "\u001b[2K     \u001b[90m━━━━━━━━━━━━━━━━━━━━━━━━━━━━━━━━━━━━━━━━\u001b[0m \u001b[32m10.1/10.1 MB\u001b[0m \u001b[31m94.3 MB/s\u001b[0m eta \u001b[36m0:00:00\u001b[0m\n",
            "\u001b[?25h  Preparing metadata (setup.py) ... \u001b[?25l\u001b[?25hdone\n",
            "Collecting python-magic (from unstructured)\n",
            "  Downloading python_magic-0.4.27-py2.py3-none-any.whl (13 kB)\n",
            "Requirement already satisfied: markdown in /usr/local/lib/python3.10/dist-packages (from unstructured) (3.4.3)\n",
            "Requirement already satisfied: tabulate in /usr/local/lib/python3.10/dist-packages (from unstructured) (0.8.10)\n",
            "Requirement already satisfied: xlrd in /usr/local/lib/python3.10/dist-packages (from unstructured) (2.0.1)\n",
            "Collecting requests>=2.20 (from OpenAI)\n",
            "  Downloading requests-2.31.0-py3-none-any.whl (62 kB)\n",
            "\u001b[2K     \u001b[90m━━━━━━━━━━━━━━━━━━━━━━━━━━━━━━━━━━━━━━━━\u001b[0m \u001b[32m62.6/62.6 kB\u001b[0m \u001b[31m7.8 MB/s\u001b[0m eta \u001b[36m0:00:00\u001b[0m\n",
            "\u001b[?25hCollecting hnswlib>=0.7 (from chromadb)\n",
            "  Downloading hnswlib-0.7.0.tar.gz (33 kB)\n",
            "  Installing build dependencies ... \u001b[?25l\u001b[?25hdone\n",
            "  Getting requirements to build wheel ... \u001b[?25l\u001b[?25hdone\n",
            "  Preparing metadata (pyproject.toml) ... \u001b[?25l\u001b[?25hdone\n",
            "Collecting clickhouse-connect>=0.5.7 (from chromadb)\n",
            "  Downloading clickhouse_connect-0.6.1-cp310-cp310-manylinux_2_17_x86_64.manylinux2014_x86_64.whl (938 kB)\n",
            "\u001b[2K     \u001b[90m━━━━━━━━━━━━━━━━━━━━━━━━━━━━━━━━━━━━━━\u001b[0m \u001b[32m938.7/938.7 kB\u001b[0m \u001b[31m65.0 MB/s\u001b[0m eta \u001b[36m0:00:00\u001b[0m\n",
            "\u001b[?25hRequirement already satisfied: duckdb>=0.7.1 in /usr/local/lib/python3.10/dist-packages (from chromadb) (0.7.1)\n",
            "Collecting fastapi>=0.85.1 (from chromadb)\n",
            "  Downloading fastapi-0.96.0-py3-none-any.whl (57 kB)\n",
            "\u001b[2K     \u001b[90m━━━━━━━━━━━━━━━━━━━━━━━━━━━━━━━━━━━━━━━━\u001b[0m \u001b[32m57.1/57.1 kB\u001b[0m \u001b[31m8.0 MB/s\u001b[0m eta \u001b[36m0:00:00\u001b[0m\n",
            "\u001b[?25hCollecting uvicorn[standard]>=0.18.3 (from chromadb)\n",
            "  Downloading uvicorn-0.22.0-py3-none-any.whl (58 kB)\n",
            "\u001b[2K     \u001b[90m━━━━━━━━━━━━━━━━━━━━━━━━━━━━━━━━━━━━━━━━\u001b[0m \u001b[32m58.3/58.3 kB\u001b[0m \u001b[31m7.1 MB/s\u001b[0m eta \u001b[36m0:00:00\u001b[0m\n",
            "\u001b[?25hCollecting posthog>=2.4.0 (from chromadb)\n",
            "  Downloading posthog-3.0.1-py2.py3-none-any.whl (37 kB)\n",
            "Collecting pulsar-client>=3.1.0 (from chromadb)\n",
            "  Downloading pulsar_client-3.2.0-cp310-cp310-manylinux_2_17_x86_64.manylinux2014_x86_64.whl (5.3 MB)\n",
            "\u001b[2K     \u001b[90m━━━━━━━━━━━━━━━━━━━━━━━━━━━━━━━━━━━━━━━━\u001b[0m \u001b[32m5.3/5.3 MB\u001b[0m \u001b[31m78.5 MB/s\u001b[0m eta \u001b[36m0:00:00\u001b[0m\n",
            "\u001b[?25hCollecting onnxruntime>=1.14.1 (from chromadb)\n",
            "  Downloading onnxruntime-1.15.0-cp310-cp310-manylinux_2_17_x86_64.manylinux2014_x86_64.whl (5.9 MB)\n",
            "\u001b[2K     \u001b[90m━━━━━━━━━━━━━━━━━━━━━━━━━━━━━━━━━━━━━━━━\u001b[0m \u001b[32m5.9/5.9 MB\u001b[0m \u001b[31m85.1 MB/s\u001b[0m eta \u001b[36m0:00:00\u001b[0m\n",
            "\u001b[?25hCollecting tokenizers>=0.13.2 (from chromadb)\n",
            "  Downloading tokenizers-0.13.3-cp310-cp310-manylinux_2_17_x86_64.manylinux2014_x86_64.whl (7.8 MB)\n",
            "\u001b[2K     \u001b[90m━━━━━━━━━━━━━━━━━━━━━━━━━━━━━━━━━━━━━━━━\u001b[0m \u001b[32m7.8/7.8 MB\u001b[0m \u001b[31m50.3 MB/s\u001b[0m eta \u001b[36m0:00:00\u001b[0m\n",
            "\u001b[?25hCollecting overrides>=7.3.1 (from chromadb)\n",
            "  Downloading overrides-7.3.1-py3-none-any.whl (17 kB)\n",
            "Requirement already satisfied: regex>=2022.1.18 in /usr/local/lib/python3.10/dist-packages (from tiktoken) (2022.10.31)\n",
            "Requirement already satisfied: attrs>=17.3.0 in /usr/local/lib/python3.10/dist-packages (from aiohttp->OpenAI) (23.1.0)\n",
            "Requirement already satisfied: charset-normalizer<4.0,>=2.0 in /usr/local/lib/python3.10/dist-packages (from aiohttp->OpenAI) (2.0.12)\n",
            "Collecting multidict<7.0,>=4.5 (from aiohttp->OpenAI)\n",
            "  Downloading multidict-6.0.4-cp310-cp310-manylinux_2_17_x86_64.manylinux2014_x86_64.whl (114 kB)\n",
            "\u001b[2K     \u001b[90m━━━━━━━━━━━━━━━━━━━━━━━━━━━━━━━━━━━━━━━\u001b[0m \u001b[32m114.5/114.5 kB\u001b[0m \u001b[31m2.5 MB/s\u001b[0m eta \u001b[36m0:00:00\u001b[0m\n",
            "\u001b[?25hCollecting yarl<2.0,>=1.0 (from aiohttp->OpenAI)\n",
            "  Downloading yarl-1.9.2-cp310-cp310-manylinux_2_17_x86_64.manylinux2014_x86_64.whl (268 kB)\n",
            "\u001b[2K     \u001b[90m━━━━━━━━━━━━━━━━━━━━━━━━━━━━━━━━━━━━━━\u001b[0m \u001b[32m268.8/268.8 kB\u001b[0m \u001b[31m30.5 MB/s\u001b[0m eta \u001b[36m0:00:00\u001b[0m\n",
            "\u001b[?25hCollecting frozenlist>=1.1.1 (from aiohttp->OpenAI)\n",
            "  Downloading frozenlist-1.3.3-cp310-cp310-manylinux_2_5_x86_64.manylinux1_x86_64.manylinux_2_17_x86_64.manylinux2014_x86_64.whl (149 kB)\n",
            "\u001b[2K     \u001b[90m━━━━━━━━━━━━━━━━━━━━━━━━━━━━━━━━━━━━━━\u001b[0m \u001b[32m149.6/149.6 kB\u001b[0m \u001b[31m17.8 MB/s\u001b[0m eta \u001b[36m0:00:00\u001b[0m\n",
            "\u001b[?25hCollecting aiosignal>=1.1.2 (from aiohttp->OpenAI)\n",
            "  Downloading aiosignal-1.3.1-py3-none-any.whl (7.6 kB)\n",
            "Requirement already satisfied: certifi in /usr/local/lib/python3.10/dist-packages (from clickhouse-connect>=0.5.7->chromadb) (2022.12.7)\n",
            "Requirement already satisfied: urllib3>=1.26 in /usr/local/lib/python3.10/dist-packages (from clickhouse-connect>=0.5.7->chromadb) (1.26.15)\n",
            "Requirement already satisfied: pytz in /usr/local/lib/python3.10/dist-packages (from clickhouse-connect>=0.5.7->chromadb) (2022.7.1)\n",
            "Collecting zstandard (from clickhouse-connect>=0.5.7->chromadb)\n",
            "  Downloading zstandard-0.21.0-cp310-cp310-manylinux_2_17_x86_64.manylinux2014_x86_64.whl (2.7 MB)\n",
            "\u001b[2K     \u001b[90m━━━━━━━━━━━━━━━━━━━━━━━━━━━━━━━━━━━━━━━━\u001b[0m \u001b[32m2.7/2.7 MB\u001b[0m \u001b[31m88.6 MB/s\u001b[0m eta \u001b[36m0:00:00\u001b[0m\n",
            "\u001b[?25hCollecting lz4 (from clickhouse-connect>=0.5.7->chromadb)\n",
            "  Downloading lz4-4.3.2-cp310-cp310-manylinux_2_17_x86_64.manylinux2014_x86_64.whl (1.3 MB)\n",
            "\u001b[2K     \u001b[90m━━━━━━━━━━━━━━━━━━━━━━━━━━━━━━━━━━━━━━━━\u001b[0m \u001b[32m1.3/1.3 MB\u001b[0m \u001b[31m58.8 MB/s\u001b[0m eta \u001b[36m0:00:00\u001b[0m\n",
            "\u001b[?25hCollecting marshmallow<4.0.0,>=3.3.0 (from dataclasses-json<0.6.0,>=0.5.7->langchain)\n",
            "  Downloading marshmallow-3.19.0-py3-none-any.whl (49 kB)\n",
            "\u001b[2K     \u001b[90m━━━━━━━━━━━━━━━━━━━━━━━━━━━━━━━━━━━━━━━━\u001b[0m \u001b[32m49.1/49.1 kB\u001b[0m \u001b[31m6.2 MB/s\u001b[0m eta \u001b[36m0:00:00\u001b[0m\n",
            "\u001b[?25hCollecting marshmallow-enum<2.0.0,>=1.5.1 (from dataclasses-json<0.6.0,>=0.5.7->langchain)\n",
            "  Downloading marshmallow_enum-1.5.1-py2.py3-none-any.whl (4.2 kB)\n",
            "Collecting typing-inspect>=0.4.0 (from dataclasses-json<0.6.0,>=0.5.7->langchain)\n",
            "  Downloading typing_inspect-0.9.0-py3-none-any.whl (8.8 kB)\n",
            "Collecting starlette<0.28.0,>=0.27.0 (from fastapi>=0.85.1->chromadb)\n",
            "  Downloading starlette-0.27.0-py3-none-any.whl (66 kB)\n",
            "\u001b[2K     \u001b[90m━━━━━━━━━━━━━━━━━━━━━━━━━━━━━━━━━━━━━━━━\u001b[0m \u001b[32m67.0/67.0 kB\u001b[0m \u001b[31m8.6 MB/s\u001b[0m eta \u001b[36m0:00:00\u001b[0m\n",
            "\u001b[?25hCollecting coloredlogs (from onnxruntime>=1.14.1->chromadb)\n",
            "  Downloading coloredlogs-15.0.1-py2.py3-none-any.whl (46 kB)\n",
            "\u001b[2K     \u001b[90m━━━━━━━━━━━━━━━━━━━━━━━━━━━━━━━━━━━━━━━━\u001b[0m \u001b[32m46.0/46.0 kB\u001b[0m \u001b[31m5.3 MB/s\u001b[0m eta \u001b[36m0:00:00\u001b[0m\n",
            "\u001b[?25hRequirement already satisfied: flatbuffers in /usr/local/lib/python3.10/dist-packages (from onnxruntime>=1.14.1->chromadb) (23.3.3)\n",
            "Requirement already satisfied: packaging in /usr/local/lib/python3.10/dist-packages (from onnxruntime>=1.14.1->chromadb) (23.1)\n",
            "Requirement already satisfied: protobuf in /usr/local/lib/python3.10/dist-packages (from onnxruntime>=1.14.1->chromadb) (3.20.3)\n",
            "Requirement already satisfied: sympy in /usr/local/lib/python3.10/dist-packages (from onnxruntime>=1.14.1->chromadb) (1.11.1)\n",
            "Requirement already satisfied: python-dateutil>=2.8.1 in /usr/local/lib/python3.10/dist-packages (from pandas->unstructured) (2.8.2)\n",
            "Requirement already satisfied: six>=1.5 in /usr/local/lib/python3.10/dist-packages (from posthog>=2.4.0->chromadb) (1.16.0)\n",
            "Collecting monotonic>=1.5 (from posthog>=2.4.0->chromadb)\n",
            "  Downloading monotonic-1.6-py2.py3-none-any.whl (8.2 kB)\n",
            "Collecting backoff>=1.10.0 (from posthog>=2.4.0->chromadb)\n",
            "  Downloading backoff-2.2.1-py3-none-any.whl (15 kB)\n",
            "Requirement already satisfied: idna<4,>=2.5 in /usr/local/lib/python3.10/dist-packages (from requests>=2.20->OpenAI) (3.4)\n",
            "Requirement already satisfied: greenlet!=0.4.17 in /usr/local/lib/python3.10/dist-packages (from SQLAlchemy<3,>=1.4->langchain) (2.0.2)\n",
            "Requirement already satisfied: click>=7.0 in /usr/local/lib/python3.10/dist-packages (from uvicorn[standard]>=0.18.3->chromadb) (8.1.3)\n",
            "Collecting h11>=0.8 (from uvicorn[standard]>=0.18.3->chromadb)\n",
            "  Downloading h11-0.14.0-py3-none-any.whl (58 kB)\n",
            "\u001b[2K     \u001b[90m━━━━━━━━━━━━━━━━━━━━━━━━━━━━━━━━━━━━━━━━\u001b[0m \u001b[32m58.3/58.3 kB\u001b[0m \u001b[31m8.2 MB/s\u001b[0m eta \u001b[36m0:00:00\u001b[0m\n",
            "\u001b[?25hCollecting httptools>=0.5.0 (from uvicorn[standard]>=0.18.3->chromadb)\n",
            "  Downloading httptools-0.5.0-cp310-cp310-manylinux_2_5_x86_64.manylinux1_x86_64.manylinux_2_17_x86_64.manylinux2014_x86_64.whl (414 kB)\n",
            "\u001b[2K     \u001b[90m━━━━━━━━━━━━━━━━━━━━━━━━━━━━━━━━━━━━━━\u001b[0m \u001b[32m414.1/414.1 kB\u001b[0m \u001b[31m40.1 MB/s\u001b[0m eta \u001b[36m0:00:00\u001b[0m\n",
            "\u001b[?25hCollecting uvloop!=0.15.0,!=0.15.1,>=0.14.0 (from uvicorn[standard]>=0.18.3->chromadb)\n",
            "  Downloading uvloop-0.17.0-cp310-cp310-manylinux_2_17_x86_64.manylinux2014_x86_64.whl (4.1 MB)\n",
            "\u001b[2K     \u001b[90m━━━━━━━━━━━━━━━━━━━━━━━━━━━━━━━━━━━━━━━━\u001b[0m \u001b[32m4.1/4.1 MB\u001b[0m \u001b[31m95.0 MB/s\u001b[0m eta \u001b[36m0:00:00\u001b[0m\n",
            "\u001b[?25hCollecting watchfiles>=0.13 (from uvicorn[standard]>=0.18.3->chromadb)\n",
            "  Downloading watchfiles-0.19.0-cp37-abi3-manylinux_2_17_x86_64.manylinux2014_x86_64.whl (1.3 MB)\n",
            "\u001b[2K     \u001b[90m━━━━━━━━━━━━━━━━━━━━━━━━━━━━━━━━━━━━━━━━\u001b[0m \u001b[32m1.3/1.3 MB\u001b[0m \u001b[31m68.9 MB/s\u001b[0m eta \u001b[36m0:00:00\u001b[0m\n",
            "\u001b[?25hCollecting websockets>=10.4 (from uvicorn[standard]>=0.18.3->chromadb)\n",
            "  Downloading websockets-11.0.3-cp310-cp310-manylinux_2_5_x86_64.manylinux1_x86_64.manylinux_2_17_x86_64.manylinux2014_x86_64.whl (129 kB)\n",
            "\u001b[2K     \u001b[90m━━━━━━━━━━━━━━━━━━━━━━━━━━━━━━━━━━━━━━\u001b[0m \u001b[32m129.9/129.9 kB\u001b[0m \u001b[31m14.4 MB/s\u001b[0m eta \u001b[36m0:00:00\u001b[0m\n",
            "\u001b[?25hCollecting httpx<0.24,>=0.15 (from argilla->unstructured)\n",
            "  Downloading httpx-0.23.3-py3-none-any.whl (71 kB)\n",
            "\u001b[2K     \u001b[90m━━━━━━━━━━━━━━━━━━━━━━━━━━━━━━━━━━━━━━━━\u001b[0m \u001b[32m71.5/71.5 kB\u001b[0m \u001b[31m8.3 MB/s\u001b[0m eta \u001b[36m0:00:00\u001b[0m\n",
            "\u001b[?25hCollecting deprecated~=1.2.0 (from argilla->unstructured)\n",
            "  Downloading Deprecated-1.2.14-py2.py3-none-any.whl (9.6 kB)\n",
            "Requirement already satisfied: wrapt<1.15,>=1.13 in /usr/local/lib/python3.10/dist-packages (from argilla->unstructured) (1.14.1)\n",
            "Collecting rich<=13.0.1 (from argilla->unstructured)\n",
            "  Downloading rich-13.0.1-py3-none-any.whl (238 kB)\n",
            "\u001b[2K     \u001b[90m━━━━━━━━━━━━━━━━━━━━━━━━━━━━━━━━━━━━━━\u001b[0m \u001b[32m238.1/238.1 kB\u001b[0m \u001b[31m23.4 MB/s\u001b[0m eta \u001b[36m0:00:00\u001b[0m\n",
            "\u001b[?25hRequirement already satisfied: typer<1.0.0,>=0.6.0 in /usr/local/lib/python3.10/dist-packages (from argilla->unstructured) (0.7.0)\n",
            "Collecting olefile>=0.46 (from msg-parser->unstructured)\n",
            "  Downloading olefile-0.46.zip (112 kB)\n",
            "\u001b[2K     \u001b[90m━━━━━━━━━━━━━━━━━━━━━━━━━━━━━━━━━━━━━━\u001b[0m \u001b[32m112.2/112.2 kB\u001b[0m \u001b[31m12.8 MB/s\u001b[0m eta \u001b[36m0:00:00\u001b[0m\n",
            "\u001b[?25h  Preparing metadata (setup.py) ... \u001b[?25l\u001b[?25hdone\n",
            "Requirement already satisfied: joblib in /usr/local/lib/python3.10/dist-packages (from nltk->unstructured) (1.2.0)\n",
            "Requirement already satisfied: et-xmlfile in /usr/local/lib/python3.10/dist-packages (from openpyxl->unstructured) (1.1.0)\n",
            "Requirement already satisfied: cryptography>=36.0.0 in /usr/local/lib/python3.10/dist-packages (from pdfminer.six->unstructured) (40.0.2)\n",
            "Collecting XlsxWriter>=0.5.7 (from python-pptx->unstructured)\n",
            "  Downloading XlsxWriter-3.1.2-py3-none-any.whl (153 kB)\n",
            "\u001b[2K     \u001b[90m━━━━━━━━━━━━━━━━━━━━━━━━━━━━━━━━━━━━━━\u001b[0m \u001b[32m153.0/153.0 kB\u001b[0m \u001b[31m16.8 MB/s\u001b[0m eta \u001b[36m0:00:00\u001b[0m\n",
            "\u001b[?25hRequirement already satisfied: cffi>=1.12 in /usr/local/lib/python3.10/dist-packages (from cryptography>=36.0.0->pdfminer.six->unstructured) (1.15.1)\n",
            "Collecting httpcore<0.17.0,>=0.15.0 (from httpx<0.24,>=0.15->argilla->unstructured)\n",
            "  Downloading httpcore-0.16.3-py3-none-any.whl (69 kB)\n",
            "\u001b[2K     \u001b[90m━━━━━━━━━━━━━━━━━━━━━━━━━━━━━━━━━━━━━━━━\u001b[0m \u001b[32m69.6/69.6 kB\u001b[0m \u001b[31m7.8 MB/s\u001b[0m eta \u001b[36m0:00:00\u001b[0m\n",
            "\u001b[?25hCollecting rfc3986[idna2008]<2,>=1.3 (from httpx<0.24,>=0.15->argilla->unstructured)\n",
            "  Downloading rfc3986-1.5.0-py2.py3-none-any.whl (31 kB)\n",
            "Requirement already satisfied: sniffio in /usr/local/lib/python3.10/dist-packages (from httpx<0.24,>=0.15->argilla->unstructured) (1.3.0)\n",
            "Collecting commonmark<0.10.0,>=0.9.0 (from rich<=13.0.1->argilla->unstructured)\n",
            "  Downloading commonmark-0.9.1-py2.py3-none-any.whl (51 kB)\n",
            "\u001b[2K     \u001b[90m━━━━━━━━━━━━━━━━━━━━━━━━━━━━━━━━━━━━━━━━\u001b[0m \u001b[32m51.1/51.1 kB\u001b[0m \u001b[31m6.2 MB/s\u001b[0m eta \u001b[36m0:00:00\u001b[0m\n",
            "\u001b[?25hRequirement already satisfied: pygments<3.0.0,>=2.6.0 in /usr/local/lib/python3.10/dist-packages (from rich<=13.0.1->argilla->unstructured) (2.14.0)\n",
            "Requirement already satisfied: anyio<5,>=3.4.0 in /usr/local/lib/python3.10/dist-packages (from starlette<0.28.0,>=0.27.0->fastapi>=0.85.1->chromadb) (3.6.2)\n",
            "Collecting mypy-extensions>=0.3.0 (from typing-inspect>=0.4.0->dataclasses-json<0.6.0,>=0.5.7->langchain)\n",
            "  Downloading mypy_extensions-1.0.0-py3-none-any.whl (4.7 kB)\n",
            "Collecting humanfriendly>=9.1 (from coloredlogs->onnxruntime>=1.14.1->chromadb)\n",
            "  Downloading humanfriendly-10.0-py2.py3-none-any.whl (86 kB)\n",
            "\u001b[2K     \u001b[90m━━━━━━━━━━━━━━━━━━━━━━━━━━━━━━━━━━━━━━━━\u001b[0m \u001b[32m86.8/86.8 kB\u001b[0m \u001b[31m7.9 MB/s\u001b[0m eta \u001b[36m0:00:00\u001b[0m\n",
            "\u001b[?25hRequirement already satisfied: mpmath>=0.19 in /usr/local/lib/python3.10/dist-packages (from sympy->onnxruntime>=1.14.1->chromadb) (1.3.0)\n",
            "Requirement already satisfied: pycparser in /usr/local/lib/python3.10/dist-packages (from cffi>=1.12->cryptography>=36.0.0->pdfminer.six->unstructured) (2.21)\n",
            "Building wheels for collected packages: colab-env, hnswlib, python-docx, python-pptx, olefile\n",
            "  Building wheel for colab-env (setup.py) ... \u001b[?25l\u001b[?25hdone\n",
            "  Created wheel for colab-env: filename=colab_env-0.2.0-py3-none-any.whl size=3807 sha256=6053443a76510100fe215ac01323fd0f3f0c104d00a249c076cf42c49aeefb59\n",
            "  Stored in directory: /root/.cache/pip/wheels/ae/36/4f/466c2cd4db5d08f317893a920c4a0f58a81459ee3bdb136d35\n",
            "  Building wheel for hnswlib (pyproject.toml) ... \u001b[?25l\u001b[?25hdone\n",
            "  Created wheel for hnswlib: filename=hnswlib-0.7.0-cp310-cp310-linux_x86_64.whl size=2119892 sha256=1a34f36b831da5bfd1310e1cd1689e407c2ef98193aa94dc02a3fd0db8100818\n",
            "  Stored in directory: /root/.cache/pip/wheels/8a/ae/ec/235a682e0041fbaeee389843670581ec6c66872db856dfa9a4\n",
            "  Building wheel for python-docx (setup.py) ... \u001b[?25l\u001b[?25hdone\n",
            "  Created wheel for python-docx: filename=python_docx-0.8.11-py3-none-any.whl size=184491 sha256=2ff2f10df16ef6bc4b1e4a5ac4a214f9cccdbf3605af508cb2c82570dbc972b3\n",
            "  Stored in directory: /root/.cache/pip/wheels/80/27/06/837436d4c3bd989b957a91679966f207bfd71d358d63a8194d\n",
            "  Building wheel for python-pptx (setup.py) ... \u001b[?25l\u001b[?25hdone\n",
            "  Created wheel for python-pptx: filename=python_pptx-0.6.21-py3-none-any.whl size=470935 sha256=436526084495ca18739bfa2d31c3617b023b4e3aa05b46defa5d7759ecc358f6\n",
            "  Stored in directory: /root/.cache/pip/wheels/ea/dd/74/01b3ec7256a0800b99384e9a0f7620e358afc3a51a59bf9b49\n",
            "  Building wheel for olefile (setup.py) ... \u001b[?25l\u001b[?25hdone\n",
            "  Created wheel for olefile: filename=olefile-0.46-py2.py3-none-any.whl size=35417 sha256=6263753f7de00f8b969c88adf4e9c440f9be563342146e4a77099756cd983b76\n",
            "  Stored in directory: /root/.cache/pip/wheels/02/39/c0/9eb1f7a42b4b38f6f333b6314d4ed11c46f12a0f7b78194f0d\n",
            "Successfully built colab-env hnswlib python-docx python-pptx olefile\n",
            "Installing collected packages: tokenizers, rfc3986, monotonic, faiss-gpu, commonmark, zstandard, XlsxWriter, websockets, uvloop, rich, requests, python-magic, python-dotenv, python-docx, pypandoc, pulsar-client, pdf2image, overrides, olefile, mypy-extensions, multidict, marshmallow, lz4, humanfriendly, httptools, hnswlib, h11, frozenlist, deprecated, backoff, async-timeout, yarl, watchfiles, uvicorn, typing-inspect, tiktoken, starlette, python-pptx, posthog, openapi-schema-pydantic, msg-parser, marshmallow-enum, langchainplus-sdk, httpcore, coloredlogs, colab-env, clickhouse-connect, aiosignal, pdfminer.six, onnxruntime, httpx, fastapi, dataclasses-json, aiohttp, OpenAI, langchain, chromadb, argilla, unstructured\n",
            "  Attempting uninstall: rich\n",
            "    Found existing installation: rich 13.3.4\n",
            "    Uninstalling rich-13.3.4:\n",
            "      Successfully uninstalled rich-13.3.4\n",
            "  Attempting uninstall: requests\n",
            "    Found existing installation: requests 2.27.1\n",
            "    Uninstalling requests-2.27.1:\n",
            "      Successfully uninstalled requests-2.27.1\n",
            "\u001b[31mERROR: pip's dependency resolver does not currently take into account all the packages that are installed. This behaviour is the source of the following dependency conflicts.\n",
            "google-colab 1.0.0 requires requests==2.27.1, but you have requests 2.31.0 which is incompatible.\u001b[0m\u001b[31m\n",
            "\u001b[0mSuccessfully installed OpenAI-0.27.8 XlsxWriter-3.1.2 aiohttp-3.8.4 aiosignal-1.3.1 argilla-1.8.0 async-timeout-4.0.2 backoff-2.2.1 chromadb-0.3.26 clickhouse-connect-0.6.1 colab-env-0.2.0 coloredlogs-15.0.1 commonmark-0.9.1 dataclasses-json-0.5.7 deprecated-1.2.14 faiss-gpu-1.7.2 fastapi-0.96.0 frozenlist-1.3.3 h11-0.14.0 hnswlib-0.7.0 httpcore-0.16.3 httptools-0.5.0 httpx-0.23.3 humanfriendly-10.0 langchain-0.0.194 langchainplus-sdk-0.0.6 lz4-4.3.2 marshmallow-3.19.0 marshmallow-enum-1.5.1 monotonic-1.6 msg-parser-1.2.0 multidict-6.0.4 mypy-extensions-1.0.0 olefile-0.46 onnxruntime-1.15.0 openapi-schema-pydantic-1.2.4 overrides-7.3.1 pdf2image-1.16.3 pdfminer.six-20221105 posthog-3.0.1 pulsar-client-3.2.0 pypandoc-1.11 python-docx-0.8.11 python-dotenv-0.21.1 python-magic-0.4.27 python-pptx-0.6.21 requests-2.31.0 rfc3986-1.5.0 rich-13.0.1 starlette-0.27.0 tiktoken-0.4.0 tokenizers-0.13.3 typing-inspect-0.9.0 unstructured-0.7.2 uvicorn-0.22.0 uvloop-0.17.0 watchfiles-0.19.0 websockets-11.0.3 yarl-1.9.2 zstandard-0.21.0\n"
          ]
        }
      ],
      "source": [
        "pip install OpenAI langchain pydantic faiss-gpu colab-env unstructured chromadb tiktoken pdf2image faiss-gpu"
      ]
    },
    {
      "cell_type": "markdown",
      "source": [
        "Yo, let's import our local env so we don't have to show the world our keys"
      ],
      "metadata": {
        "id": "thnn1Guth9nA"
      }
    },
    {
      "cell_type": "code",
      "execution_count": 2,
      "metadata": {
        "id": "bIQmA_whelu1",
        "colab": {
          "base_uri": "https://localhost:8080/"
        },
        "outputId": "7b7aa8bf-0771-4cad-88d9-37d1c5694933"
      },
      "outputs": [
        {
          "output_type": "stream",
          "name": "stdout",
          "text": [
            "Mounted at /content/gdrive\n"
          ]
        }
      ],
      "source": [
        "import colab_env"
      ]
    },
    {
      "cell_type": "markdown",
      "source": [
        "Let's import our python modules"
      ],
      "metadata": {
        "id": "NoZ4EBVsiqMf"
      }
    },
    {
      "cell_type": "code",
      "source": [
        "from langchain.embeddings.openai import OpenAIEmbeddings\n",
        "from langchain.vectorstores import Chroma\n",
        "from langchain.text_splitter import CharacterTextSplitter\n",
        "from langchain.text_splitter import RecursiveCharacterTextSplitter\n",
        "from langchain import OpenAI, VectorDBQA\n",
        "from langchain.chains import RetrievalQA\n",
        "from langchain.chains import RetrievalQAWithSourcesChain\n",
        "from langchain.document_loaders import DirectoryLoader\n",
        "from langchain.prompts import PromptTemplate\n",
        "from langchain.llms import OpenAI\n",
        "from langchain.agents import load_tools\n",
        "from langchain.agents import initialize_agent\n",
        "from langchain.agents import AgentType\n",
        "from langchain.chat_models import ChatOpenAI\n",
        "from langchain.schema import (\n",
        "    AIMessage,\n",
        "    HumanMessage,\n",
        "    SystemMessage\n",
        ")\n",
        "import magic\n",
        "import os\n",
        "import nltk\n",
        "import textwrap\n",
        "\n"
      ],
      "metadata": {
        "id": "dThYIPCKjKcS"
      },
      "execution_count": 3,
      "outputs": []
    },
    {
      "cell_type": "markdown",
      "source": [
        "Let's set the temperature of our AI models"
      ],
      "metadata": {
        "id": "MH2-7NiKjdkE"
      }
    },
    {
      "cell_type": "code",
      "source": [
        "llm = OpenAI(temperature=0)\n",
        "chat = ChatOpenAI(temperature=0)"
      ],
      "metadata": {
        "id": "Imm3MHuFjh_N"
      },
      "execution_count": 4,
      "outputs": []
    },
    {
      "cell_type": "markdown",
      "source": [
        "Let's specify the directory and file type for our Demming source docs"
      ],
      "metadata": {
        "id": "zz19cRbakQdZ"
      }
    },
    {
      "cell_type": "code",
      "execution_count": 5,
      "metadata": {
        "id": "e8a28a08"
      },
      "outputs": [],
      "source": [
        "loader = DirectoryLoader('/content/gdrive/MyDrive/Projects/Digital_Demming/src_content', glob='**/*.pdf')"
      ]
    },
    {
      "cell_type": "markdown",
      "source": [
        "Load our documents\n"
      ],
      "metadata": {
        "id": "1bXP4IjLmc9D"
      }
    },
    {
      "cell_type": "code",
      "source": [
        "documents = loader.load()"
      ],
      "metadata": {
        "colab": {
          "base_uri": "https://localhost:8080/"
        },
        "id": "yYcyBEQcmfEB",
        "outputId": "b06b602c-2eb7-44f9-c024-ac6f24dbcf87"
      },
      "execution_count": 6,
      "outputs": [
        {
          "output_type": "stream",
          "name": "stderr",
          "text": [
            "[nltk_data] Downloading package punkt to /root/nltk_data...\n",
            "[nltk_data]   Unzipping tokenizers/punkt.zip.\n",
            "[nltk_data] Downloading package averaged_perceptron_tagger to\n",
            "[nltk_data]     /root/nltk_data...\n",
            "[nltk_data]   Unzipping taggers/averaged_perceptron_tagger.zip.\n"
          ]
        }
      ]
    },
    {
      "cell_type": "markdown",
      "source": [
        "Check how many documents are loaded"
      ],
      "metadata": {
        "id": "LdhzQ0Yrmj-r"
      }
    },
    {
      "cell_type": "code",
      "source": [
        "len (documents)"
      ],
      "metadata": {
        "colab": {
          "base_uri": "https://localhost:8080/"
        },
        "id": "47e8iE6Imgwk",
        "outputId": "394d4b33-52fd-4319-c103-83793287a5cf"
      },
      "execution_count": 7,
      "outputs": [
        {
          "output_type": "execute_result",
          "data": {
            "text/plain": [
              "1"
            ]
          },
          "metadata": {},
          "execution_count": 7
        }
      ]
    },
    {
      "cell_type": "markdown",
      "source": [
        "Let's split our document up into chunks"
      ],
      "metadata": {
        "id": "6LMzp2tkmp_z"
      }
    },
    {
      "cell_type": "code",
      "execution_count": 8,
      "metadata": {
        "id": "3153f864"
      },
      "outputs": [],
      "source": [
        "#text_splitter = CharacterTextSplitter(chunk_size=1000, chunk_overlap=0)\n",
        "text_splitter = RecursiveCharacterTextSplitter(\n",
        "    # Set a really small chunk size, just to show.\n",
        "    chunk_size = 1000,\n",
        "    chunk_overlap  = 20,\n",
        "    length_function = len,\n",
        "    separators=[\"\\n\\n\", \"\\n\", \" \", \"\"]\n",
        ")"
      ]
    },
    {
      "cell_type": "markdown",
      "source": [
        "Let' create a variable named texts, and split these documents into it"
      ],
      "metadata": {
        "id": "VBPEkFIenBaf"
      }
    },
    {
      "cell_type": "code",
      "source": [
        "texts = text_splitter.split_documents(documents)"
      ],
      "metadata": {
        "id": "hG6BjgOunHLQ"
      },
      "execution_count": 9,
      "outputs": []
    },
    {
      "cell_type": "markdown",
      "source": [
        "Let's tell it that we want it to use OpenAI embeddings, and tell it what env variable the key is held"
      ],
      "metadata": {
        "id": "tFdzlP2anIlJ"
      }
    },
    {
      "cell_type": "code",
      "source": [
        "embeddings = OpenAIEmbeddings(openai_api_key=os.environ['OPENAI_API_KEY'])"
      ],
      "metadata": {
        "id": "lglhxYJZnUZt"
      },
      "execution_count": 10,
      "outputs": []
    },
    {
      "cell_type": "markdown",
      "source": [
        "Let's create a variable named docsearch, and pull from Chroma vectorstore including texts, and the embeddings)"
      ],
      "metadata": {
        "id": "3nZoNACcnVhj"
      }
    },
    {
      "cell_type": "code",
      "source": [
        "docsearch = Chroma.from_documents(texts, embeddings)"
      ],
      "metadata": {
        "id": "Ts7ek3lBnf2O"
      },
      "execution_count": 11,
      "outputs": []
    },
    {
      "cell_type": "markdown",
      "source": [
        "define qa chain, which pulls from VectorDBQA, and use the LLM chain named OpenAI. We specify that it \"Stuff\"'s all the data in. We could use \"map_reduce\" instead to optimize for performance and scale. Let's tell it to use the vectorstore we defined earlier named docsearch\n",
        "\n",
        "note, i'm trying RetrievalQA because VectorDBQA is depricated"
      ],
      "metadata": {
        "id": "7qk5wNDbnjfR"
      }
    },
    {
      "cell_type": "code",
      "execution_count": 12,
      "metadata": {
        "colab": {
          "base_uri": "https://localhost:8080/"
        },
        "id": "ObvvPjUjrAdJ",
        "outputId": "d9584db3-71b9-4920-a1c4-1eb125c3f75c"
      },
      "outputs": [
        {
          "output_type": "stream",
          "name": "stderr",
          "text": [
            "/usr/local/lib/python3.10/dist-packages/langchain/chains/retrieval_qa/base.py:206: UserWarning: `VectorDBQA` is deprecated - please use `from langchain.chains import RetrievalQA`\n",
            "  warnings.warn(\n"
          ]
        }
      ],
      "source": [
        "qa = VectorDBQA.from_chain_type(llm=OpenAI(), chain_type=\"stuff\", vectorstore=docsearch, return_source_documents=True)\n",
        "query = \"Describe in depth, what is the foundation of quality. Provide three examples using bullet points\"\n",
        "result = qa({\"query\": query})"
      ]
    },
    {
      "cell_type": "code",
      "execution_count": 13,
      "metadata": {
        "colab": {
          "base_uri": "https://localhost:8080/",
          "height": 178
        },
        "outputId": "cbb4c7af-b52a-4c44-900d-6230039d31cc",
        "id": "00AVxSEVrAdQ"
      },
      "outputs": [
        {
          "output_type": "execute_result",
          "data": {
            "text/plain": [
              "'\\n\\nThe foundation of quality is based on the concept of Total Quality Control (TQC). TQC is an approach to quality management that emphasizes continuous improvement in all aspects of an organization. It is based on the idea that quality should be built into the product or service during its design and development, rather than being inspected and tested after the fact.\\n\\nThree key components of TQC include:\\n\\n• Quality Improvement: This involves the use of statistical methods and tools to identify and eliminate problems in the production process, as well as to identify opportunities for improvement.\\n• Quality Assurance: This involves the use of standardized processes and procedures to ensure that products and services meet customer requirements.\\n• Quality Control: This involves the use of periodic testing and inspection to ensure that products and services meet customer requirements.'"
            ],
            "application/vnd.google.colaboratory.intrinsic+json": {
              "type": "string"
            }
          },
          "metadata": {},
          "execution_count": 13
        }
      ],
      "source": [
        "result['result']"
      ]
    },
    {
      "cell_type": "code",
      "execution_count": 14,
      "metadata": {
        "colab": {
          "base_uri": "https://localhost:8080/"
        },
        "outputId": "e4aaa7a0-1766-4d12-ae16-d2938ba0c053",
        "id": "0vXQN55ZrAdQ"
      },
      "outputs": [
        {
          "output_type": "execute_result",
          "data": {
            "text/plain": [
              "[Document(page_content='Major Events in the Development of QC\\n\\nCourse. (July–Dec. 1957, JUSE)\\n\\n\\uf09f The Chugoku Quality Control Research Group was established. (JSA Hiroshima) \\uf09f The Design of Experiment Seminar was\\n\\nheld. (JSA)\\n\\n\\uf09f The European Organization for Quality\\n\\nControl (EOQC) was founded.\\n\\n\\uf09f A. V. Feigenbaum published his thesis titled “Total Quality Control” in the Harvard Business Review.\\n\\n1957\\n\\n\\uf09f He appeared as a lecturer on NHK’s radio\\n\\n\\uf09f The first Spring QC Conference was\\n\\nprograms. (–62, NHK Radio 2)\\n\\nheld. (Osaka, May, JUSE)\\n\\n\\uf09f His article “Points in Preparing In-house Standards” (published in the Hinshitsu Kanri (Statistical Quality Control) [140]) won the Standardization Literature Award.\\n\\n\\uf09f He started playing golf. \\uf09f He published Introduction to Sampling\\n\\n\\uf09f The Operations Research Society of\\n\\nJapan was founded. (June)\\n\\n\\uf09f The QC Seminar for Executives was held\\n\\nin Karuizawa. (July, JUSE)\\n\\n\\uf09f The Sensory Test Seminar was held.\\n\\n(Sep., JUSE)\\n\\n\\uf09f The Kansai QC Research Group was', metadata={'source': '/content/gdrive/MyDrive/Projects/Digital_Demming/src_content/ParallelChronology_Ver2_150717.pdf'}),\n",
              " Document(page_content='\\uf09f The Reliability Introductory Seminar was\\n\\nheld. (Feb., JUSE)\\n\\n\\uf09f The QC Circle Chugoku Regional\\n\\nChapter and Shikoku Regional Chapter were founded. (June, QC Circle Headquarters)\\n\\n\\uf09f The Quality Control Symposium (QCS) was established and decided to hold meetings twice a year. (July, JUSE)\\n\\n\\uf09f The Japan-America Joint\\n\\nSymposium on Bulk Material Sampling was held. (Nov., Tokyo)\\n\\n\\uf09f NEC implemented ZD activity on a\\n\\ncompany-wide level.\\n\\n\\uf09f The New Product Development Class\\n\\nwas held. (JSA)\\n\\n\\uf09f The Tohoku QC Research Group was\\n\\nestablished. (JSA)\\n\\n\\uf09f The 1st QCS: How to introduce, promote\\n\\nand establish QC.\\n\\n\\uf09f The 2nd QCS: The role of QC\\n\\ndepartment.\\n\\n\\uf09f He attended the 10th EOQC Conference held in Stockholm. During the QC circle special discussion, he was invited onto the stage.\\n\\n\\uf09f He became one of six man board of the International Academy for Quality preparation committee. (–69)\\n\\n\\uf09f The Deming Application Prize for\\n\\nDivision was established.', metadata={'source': '/content/gdrive/MyDrive/Projects/Digital_Demming/src_content/ParallelChronology_Ver2_150717.pdf'}),\n",
              " Document(page_content='\\uf09f QC in the production of medical products\\n\\n(JGMP) (The Federation of Pharmaceutical Manufacturers’ Association of Japan)\\n\\n\\uf09f USSR Standardization Delegation visited\\n\\nJapan.\\n\\n\\uf09f China Standardization and Quality\\n\\nControl Delegation visited Japan. (Oct.)\\n\\n\\uf09f Lockheed’s QC Circle Research\\n\\nDelegation visited Japan. (Nov.)\\n\\nLockheed formed the first QC circles\\n\\nin America.\\n\\n\\uf09f Sanuier-Dubal, a French electric motor\\n\\nmanufacturer, formed the first QC circles in Europe.\\n\\n\\uf09f The Product Liability Research Group\\n\\nwas established. (Nov., JUSE)\\n\\n\\uf09f The 17th QCS: Quality assurance and\\n\\nfailure analysis.\\n\\n\\uf09f The 18th QCS: Process capability.\\n\\n(Age 58)\\n\\n513\\n\\nA Parallel Chronology of Prof. Kaoru Ishikawa’s Life and TQC in Japan\\n\\nYear\\n\\n1974\\n\\nProf. Ishikawa’s Life\\n\\nMajor Events in the Development of QC\\n\\n\\uf09f He became the President of the Japanese\\n\\n\\uf09f The QC Circle Tohoku Regional Chapter\\n\\nSociety for Quality Control. (–75)\\n\\n\\uf09f He became the head of the 1st\\n\\nwas founded. (Apr., QC Circle Headquarters)', metadata={'source': '/content/gdrive/MyDrive/Projects/Digital_Demming/src_content/ParallelChronology_Ver2_150717.pdf'}),\n",
              " Document(page_content='1) AGREE: Advisory Group on Reliability of Electronic Equipment 2) AOTS: Association for Overseas Technical Scholarship 3) APO: Asian Productivity Organization 4) ASA: American Standards Association 5) ASQC: American Society for Quality Control 6) BS: British Standards 7) CCS: Civil Communication Section 8) COSCO: Control System Committee 9) EOQC: European Organization for Quality Control 10) EOQ: European Organization for Quality 11) EFQM: European Foundation for Quality Management 12) FMES: Japan Federation of Managerial Engineering Societies\\n\\n524\\n\\nA Parallel Chronology of Prof. Kaoru Ishikawa’s Life and TQC in Japan', metadata={'source': '/content/gdrive/MyDrive/Projects/Digital_Demming/src_content/ParallelChronology_Ver2_150717.pdf'})]"
            ]
          },
          "metadata": {},
          "execution_count": 14
        }
      ],
      "source": [
        "result['source_documents']"
      ]
    },
    {
      "cell_type": "code",
      "source": [],
      "metadata": {
        "id": "R7K8ix2NrfaY"
      },
      "execution_count": 14,
      "outputs": []
    },
    {
      "cell_type": "code",
      "execution_count": 38,
      "metadata": {
        "colab": {
          "base_uri": "https://localhost:8080/"
        },
        "outputId": "b20128b9-1601-43d9-e4f4-f18d60803948",
        "id": "ClQwd3G_rrIU"
      },
      "outputs": [
        {
          "output_type": "stream",
          "name": "stderr",
          "text": [
            "/usr/local/lib/python3.10/dist-packages/langchain/chains/retrieval_qa/base.py:206: UserWarning: `VectorDBQA` is deprecated - please use `from langchain.chains import RetrievalQA`\n",
            "  warnings.warn(\n"
          ]
        }
      ],
      "source": [
        "qa = VectorDBQA.from_chain_type(llm=OpenAI(), chain_type=\"stuff\", vectorstore=docsearch, return_source_documents=True)\n",
        "#query = \"what is the impact of JUSE on TQM?\"\n",
        "#query = \"what is the purpouse of life?\"\n",
        "#query = \"what does demming like for lunch\"\n",
        "#query = \"is quality like a human\"\n",
        "#query = \"what is the fourth rule of TQM\"\n",
        "#query = \"what is the most important concept in TQM\"\n",
        "#query =  \"WHo won the deming prize?\"\n",
        "#query = \"Is TQM like lean?\"\n",
        "#query = \"How are TQM and Lean different?\"\n",
        "query = \"What is lean?\"\n",
        "\n",
        "result = qa({\"query\": query})"
      ]
    },
    {
      "cell_type": "code",
      "execution_count": 39,
      "metadata": {
        "colab": {
          "base_uri": "https://localhost:8080/",
          "height": 36
        },
        "outputId": "26b240e3-8ca3-47e9-b720-4edcd1c0d1b3",
        "id": "_DbSCDZirrIc"
      },
      "outputs": [
        {
          "output_type": "execute_result",
          "data": {
            "text/plain": [
              "\" I don't know.\""
            ],
            "application/vnd.google.colaboratory.intrinsic+json": {
              "type": "string"
            }
          },
          "metadata": {},
          "execution_count": 39
        }
      ],
      "source": [
        "result['result']"
      ]
    },
    {
      "cell_type": "code",
      "execution_count": 40,
      "metadata": {
        "colab": {
          "base_uri": "https://localhost:8080/"
        },
        "outputId": "00a77d1f-94ca-4601-cadb-92d6d0e58f66",
        "id": "z0JP3rHTrrIc"
      },
      "outputs": [
        {
          "output_type": "execute_result",
          "data": {
            "text/plain": [
              "[Document(page_content='product liability.\\n\\n1976 March 31\\n\\nApril 1\\n\\n\\uf09f Ishikawa retired from the University of\\n\\n\\uf09f The Iranian QC Research Team visited\\n\\nTokyo.\\n\\nJapan. (APO)\\n\\n\\uf09f He became a professor of the Faculty of Engineering, Science University of Tokyo.\\n\\n\\uf09f The 1st East Asia QC Circle International\\n\\nExchange Meeting was held. (Apr., Seoul)\\n\\nMay 18\\n\\n\\uf09f He became a professor emeritus of the\\n\\n\\uf09f The TQC Promotion Seminar for\\n\\nUniversity of Tokyo.\\n\\n\\uf09f He was awarded with the Asada Medal\\n\\nfrom the Iron and Steel Institute of Japan.\\n\\n\\uf09f He became the head of the 2nd\\n\\nInternationally-Operating Company QC Research Team dispatched to Central and South America. (JUSE)\\n\\n\\uf09f He became a member of PASC. \\uf09f He became an honorary member of the\\n\\nPhilippine Society for Quality.\\n\\n\\uf09f He became the director of JUSE Press. \\uf09f He was awarded with the Fuel Society of\\n\\nPractioners was held. [79–, TQC Seminar for Facilitators] (June, JUSE) \\uf09f “Industrial Standardization Basic', metadata={'source': '/content/gdrive/MyDrive/Projects/Digital_Demming/src_content/ParallelChronology_Ver2_150717.pdf'}),\n",
              " Document(page_content='\\uf09f Shewhart’s Economic Control of Quality of Manufactured Products was published. (1931)\\n\\n\\uf09f Yasushi Ishida devised the control chart, which he called “makimono,” and used to control the production process of lightbulbs. (1931)\\n\\n\\uf09f Kanzo Kiribuchi introduced quality\\n\\ncontrol as “Hinshitsu Tosei” in his book The Science of Industrial Control. (1931) \\uf09f Pearson’s “The Application of Statistical Methods to Industrial Standardization and Quality Control,” which later became BS 600, was published. (1935)\\n\\n\\uf09f Shewhart’s Statistical Method from the Viewpoint of Quality Control was published.\\n\\n1936\\n\\n(Age 21)\\n\\n1937\\n\\n\\uf09f Entered the Department of Applied\\n\\nChemistry, the Faculty of Engineering, Tokyo Imperial University\\n\\n\\uf09f During the summer vacation of his', metadata={'source': '/content/gdrive/MyDrive/Projects/Digital_Demming/src_content/ParallelChronology_Ver2_150717.pdf'}),\n",
              " Document(page_content='\\uf09f The Deming Application Prize for Small Enterprise was established. (Nov.) The first winner was Nakayo, Inc.\\n\\n\\uf09f The Kyushu QC Research Group was\\n\\n(Age 42)\\n\\n1958\\n\\nFeb.\\n\\n(Age 43)\\n\\n\\uf09f Quality Control Guidebook (Vol. 1, Vol.\\n\\nestablished. (JSA)\\n\\n504\\n\\nA Parallel Chronology of Prof. Kaoru Ishikawa’s Life and TQC in Japan\\n\\nYear\\n\\nProf. Ishikawa’s Life\\n\\nMajor Events in the Development of QC\\n\\n2), written and edited by Ishikawa, were published. (A revised edition of Vol. 1 was published in July, 1963 and a revised edition of Vol. 2 was published in Nov., 1964.)\\n\\n\\uf09f The Shikoku QC Research Group was\\n\\nestablished. (JSA)\\n\\n\\uf09f QC slides were released. (JSA) \\uf09f Konishi & Taguchi proposed the linear graph method in their book Orthogonal Array Table and Allocation Type.\\n\\n1959\\n\\nFeb. 1\\n\\n\\uf09f The 1st QCG (QC GOLF) competition\\n\\n\\uf09f Dr. Shewhart visited Japan and gave', metadata={'source': '/content/gdrive/MyDrive/Projects/Digital_Demming/src_content/ParallelChronology_Ver2_150717.pdf'}),\n",
              " Document(page_content='(JUSE Press)\\n\\nThe English edition of Guide to Quality Control (1st ed. 1974, rev. ed. 1976. 2nd rev. ed. 1982), French edition (1984), Italian edition (1985), Spanish edition (1985), Indonesian edition (1986), Hebrew edition (1988), and Dutch edition (1989) were published. A publishing deal for the Portuguese edition was concluded, but it hasn’t been published yet. (APO) \\uf09f His report Ideal Product Standard and\\n\\nHow to Create It won the Standardization Literature Award. (JSA)\\n\\n\\uf09f He published Control Chart. (JSA)\\n\\n(Age 53)\\n\\n509\\n\\n\\uf09f The World Health Organization (WHO) recommended pharmaceutical companies to adopt QC.\\n\\n\\uf09f The National Meeting on Quality Control and Standardization (Q-S Conference) was established. (JSA)\\n\\n\\uf09f The 5th QCS: Process analysis. \\uf09f The 6th QCS: QC in the era of\\n\\nautomation and computerization (1).', metadata={'source': '/content/gdrive/MyDrive/Projects/Digital_Demming/src_content/ParallelChronology_Ver2_150717.pdf'})]"
            ]
          },
          "metadata": {},
          "execution_count": 40
        }
      ],
      "source": [
        "result['source_documents']"
      ]
    },
    {
      "cell_type": "markdown",
      "source": [
        "# The History and Evolution of Total Quality Management (TQM): The Contributions of Kaoru Ishikawa and the Japanese Union of Scientists and Engineers (JUSE)"
      ],
      "metadata": {
        "id": "x-rsKQcKpNP9"
      }
    },
    {
      "cell_type": "markdown",
      "source": [
        "## I. Introduction\n",
        "- Definition of Total Quality Management (TQM)\n",
        "- Brief introduction of the significance of TQM in the modern business world\n",
        "- Introduction to Kaoru Ishikawa and the Japanese Union of Scientists and Engineers (JUSE)\n",
        "- Thesis Statement"
      ],
      "metadata": {
        "id": "k2t44id5wUxx"
      }
    },
    {
      "cell_type": "code",
      "source": [],
      "metadata": {
        "id": "0Gt8bOdkxyR2"
      },
      "execution_count": 17,
      "outputs": []
    },
    {
      "cell_type": "code",
      "execution_count": 18,
      "metadata": {
        "id": "zusROviVxyar"
      },
      "outputs": [],
      "source": [
        "qa = VectorDBQA.from_chain_type(llm=OpenAI(), chain_type=\"stuff\", vectorstore=docsearch, return_source_documents=True)\n",
        "#query = \"what is the impact of JUSE on TQM?\"\n",
        "#query = \"what is the purpouse of life?\"\n",
        "#query = \"what does demming like for lunch\"\n",
        "#query = \"is quality like a human\"\n",
        "#query = \"what is the fourth rule of TQM\"\n",
        "query = \"what is Total Quality Management (TQM)\"\n",
        "result = qa({\"query\": query})"
      ]
    },
    {
      "cell_type": "code",
      "execution_count": 19,
      "metadata": {
        "colab": {
          "base_uri": "https://localhost:8080/",
          "height": 71
        },
        "outputId": "7c6ff25f-3181-4aa9-91f6-d848b6294767",
        "id": "8VK98-MMxyar"
      },
      "outputs": [
        {
          "output_type": "execute_result",
          "data": {
            "text/plain": [
              "' TQM is a management approach that seeks to improve the quality of products and services by focusing on customer needs and continuously improving processes. It involves all members of an organization and emphasizes the importance of teamwork and communication.'"
            ],
            "application/vnd.google.colaboratory.intrinsic+json": {
              "type": "string"
            }
          },
          "metadata": {},
          "execution_count": 19
        }
      ],
      "source": [
        "result['result']"
      ]
    },
    {
      "cell_type": "code",
      "execution_count": 20,
      "metadata": {
        "colab": {
          "base_uri": "https://localhost:8080/"
        },
        "outputId": "3011a5c0-9daa-4ccf-f14d-1556c55223a8",
        "id": "aiAAix9jxyas"
      },
      "outputs": [
        {
          "output_type": "execute_result",
          "data": {
            "text/plain": [
              "[Document(page_content='Medal. (ASQC)\\n\\n\\uf09f The Pharmaceutical Manufacturing and Quality Control (GMP) Seminar was held. (Sep., JUSE)\\n\\n\\uf09f The Japan Prefabricated Construction\\n\\nSuppliers and Manufacturers Association held TQC seminars.\\n\\n\\uf09f Noboru Takagi was elected as the 22nd\\n\\npresident of the IEC.\\n\\n\\uf09f The 4th ICPR Conference (IE\\n\\ninternational conference) was held. \\uf09f The 24th QCS: Quality design and\\n\\n\\uf09f Quality Control Handbook (New Edition)\\n\\nprocess design.\\n\\nwritten and edited by Ishikawa was published. (The second edition was published in April, 1988, JSA)\\n\\n\\uf09f The 25th QCS: Small-group activities\\n\\nand QC.\\n\\n1978\\n\\nApril 1\\n\\n\\uf09f He became the President of Musashi\\n\\n\\uf09f The Construction Industry TQC\\n\\nInstitute of Technology.\\n\\nRound-table Conference was held. (JSA)\\n\\n\\uf09f He became the director of Goto-Ikueikai. \\uf09f He became the director of the Tokyu Foundation for Foreign Students.\\n\\n\\uf09f He became the chairperson of the board\\n\\nof directors of the Japan-China Industrial Technology and Culture Center. (–82)', metadata={'source': '/content/gdrive/MyDrive/Projects/Digital_Demming/src_content/ParallelChronology_Ver2_150717.pdf'}),\n",
              " Document(page_content='1) AGREE: Advisory Group on Reliability of Electronic Equipment 2) AOTS: Association for Overseas Technical Scholarship 3) APO: Asian Productivity Organization 4) ASA: American Standards Association 5) ASQC: American Society for Quality Control 6) BS: British Standards 7) CCS: Civil Communication Section 8) COSCO: Control System Committee 9) EOQC: European Organization for Quality Control 10) EOQ: European Organization for Quality 11) EFQM: European Foundation for Quality Management 12) FMES: Japan Federation of Managerial Engineering Societies\\n\\n524\\n\\nA Parallel Chronology of Prof. Kaoru Ishikawa’s Life and TQC in Japan', metadata={'source': '/content/gdrive/MyDrive/Projects/Digital_Demming/src_content/ParallelChronology_Ver2_150717.pdf'}),\n",
              " Document(page_content='(Oct., JUSE)\\n\\n\\uf09f A ceremony to celebrate the 10th\\n\\nanniversary of Deming Prize was held, inviting Deming, Rao, Wilks, Cochran, and Hamerker. (JUSE)\\n\\n\\uf09f Dr. Deming was awarded with the Second Class Order of the Sacred Treasure.\\n\\n\\uf09f It was decided to establish November as “Quality Month” and the QC promotion banner was adopted. During this month, lectures were held around the country. Quality Month textbooks were published,\\n\\n505\\n\\n(Age 44)\\n\\n1960\\n\\nApril 1\\n\\n(Age 45)\\n\\nA Parallel Chronology of Prof. Kaoru Ishikawa’s Life and TQC in Japan\\n\\nYear\\n\\nProf. Ishikawa’s Life\\n\\nMajor Events in the Development of QC\\n\\nand promotional posters were distributed.\\n\\n\\uf09f An NHK educational program The Quality of Japanese Products (the Quality Month Broadcast) was broadcast on NHK Radio 2.\\n\\n\\uf09f The Association of Technical High\\n\\nSchool Principals started QC lectures.\\n\\n1961\\n\\n\\uf09f After the reorganization of the', metadata={'source': '/content/gdrive/MyDrive/Projects/Digital_Demming/src_content/ParallelChronology_Ver2_150717.pdf'}),\n",
              " Document(page_content='Deming Application Prize. It was the first construction company to win the prize. (Nov.)\\n\\n\\uf09f A committee to research QC in the\\n\\nservice industry was established. (Nov.,\\n\\nA Parallel Chronology of Prof. Kaoru Ishikawa’s Life and TQC in Japan\\n\\nYear\\n\\nProf. Ishikawa’s Life\\n\\nMajor Events in the Development of QC\\n\\ncommissioned by the Ministry of the Environment.)\\n\\n\\uf09f His book Control Points of Quality (joint authorship) (Zeimukeiri Kyokai) was awarded Nikkei Quality Control Literature Prize.\\n\\nJUSE)\\n\\n\\uf09f The 28th QCS: New product planning\\n\\nand market research.\\n\\n\\uf09f The 29th QCS: Future Quality\\n\\nControl—challenges in the 1980s.\\n\\n1980\\n\\n\\uf09f He became a council member of the Japan Standards Association. (–84)\\n\\n\\uf09f He became a council member of the Japanese Society for Quality Control. (–82)\\n\\n\\uf09f He became the chair of the Nuclear\\n\\nPower Plant Quality Assurance Review Committee. (MITI)\\n\\n\\uf09f He became the chair of the Management\\n\\nResearch Group of Japan-China Economic Association.', metadata={'source': '/content/gdrive/MyDrive/Projects/Digital_Demming/src_content/ParallelChronology_Ver2_150717.pdf'})]"
            ]
          },
          "metadata": {},
          "execution_count": 20
        }
      ],
      "source": [
        "result['source_documents']"
      ]
    },
    {
      "cell_type": "code",
      "source": [
        "# Create a list to stuff section results into \n",
        "introduction = []\n",
        "\n",
        "#append result  to the array\n",
        "introduction.append(result)\n",
        "\n",
        "#print the array\n",
        "print(introduction)"
      ],
      "metadata": {
        "colab": {
          "base_uri": "https://localhost:8080/"
        },
        "id": "GsGodkD4zkL1",
        "outputId": "58704b58-ccc4-4d8c-c67b-f5b377da5627"
      },
      "execution_count": 21,
      "outputs": [
        {
          "output_type": "stream",
          "name": "stdout",
          "text": [
            "[{'query': 'what is Total Quality Management (TQM)', 'result': ' TQM is a management approach that seeks to improve the quality of products and services by focusing on customer needs and continuously improving processes. It involves all members of an organization and emphasizes the importance of teamwork and communication.', 'source_documents': [Document(page_content='Medal. (ASQC)\\n\\n\\uf09f The Pharmaceutical Manufacturing and Quality Control (GMP) Seminar was held. (Sep., JUSE)\\n\\n\\uf09f The Japan Prefabricated Construction\\n\\nSuppliers and Manufacturers Association held TQC seminars.\\n\\n\\uf09f Noboru Takagi was elected as the 22nd\\n\\npresident of the IEC.\\n\\n\\uf09f The 4th ICPR Conference (IE\\n\\ninternational conference) was held. \\uf09f The 24th QCS: Quality design and\\n\\n\\uf09f Quality Control Handbook (New Edition)\\n\\nprocess design.\\n\\nwritten and edited by Ishikawa was published. (The second edition was published in April, 1988, JSA)\\n\\n\\uf09f The 25th QCS: Small-group activities\\n\\nand QC.\\n\\n1978\\n\\nApril 1\\n\\n\\uf09f He became the President of Musashi\\n\\n\\uf09f The Construction Industry TQC\\n\\nInstitute of Technology.\\n\\nRound-table Conference was held. (JSA)\\n\\n\\uf09f He became the director of Goto-Ikueikai. \\uf09f He became the director of the Tokyu Foundation for Foreign Students.\\n\\n\\uf09f He became the chairperson of the board\\n\\nof directors of the Japan-China Industrial Technology and Culture Center. (–82)', metadata={'source': '/content/gdrive/MyDrive/Projects/Digital_Demming/src_content/ParallelChronology_Ver2_150717.pdf'}), Document(page_content='1) AGREE: Advisory Group on Reliability of Electronic Equipment 2) AOTS: Association for Overseas Technical Scholarship 3) APO: Asian Productivity Organization 4) ASA: American Standards Association 5) ASQC: American Society for Quality Control 6) BS: British Standards 7) CCS: Civil Communication Section 8) COSCO: Control System Committee 9) EOQC: European Organization for Quality Control 10) EOQ: European Organization for Quality 11) EFQM: European Foundation for Quality Management 12) FMES: Japan Federation of Managerial Engineering Societies\\n\\n524\\n\\nA Parallel Chronology of Prof. Kaoru Ishikawa’s Life and TQC in Japan', metadata={'source': '/content/gdrive/MyDrive/Projects/Digital_Demming/src_content/ParallelChronology_Ver2_150717.pdf'}), Document(page_content='(Oct., JUSE)\\n\\n\\uf09f A ceremony to celebrate the 10th\\n\\nanniversary of Deming Prize was held, inviting Deming, Rao, Wilks, Cochran, and Hamerker. (JUSE)\\n\\n\\uf09f Dr. Deming was awarded with the Second Class Order of the Sacred Treasure.\\n\\n\\uf09f It was decided to establish November as “Quality Month” and the QC promotion banner was adopted. During this month, lectures were held around the country. Quality Month textbooks were published,\\n\\n505\\n\\n(Age 44)\\n\\n1960\\n\\nApril 1\\n\\n(Age 45)\\n\\nA Parallel Chronology of Prof. Kaoru Ishikawa’s Life and TQC in Japan\\n\\nYear\\n\\nProf. Ishikawa’s Life\\n\\nMajor Events in the Development of QC\\n\\nand promotional posters were distributed.\\n\\n\\uf09f An NHK educational program The Quality of Japanese Products (the Quality Month Broadcast) was broadcast on NHK Radio 2.\\n\\n\\uf09f The Association of Technical High\\n\\nSchool Principals started QC lectures.\\n\\n1961\\n\\n\\uf09f After the reorganization of the', metadata={'source': '/content/gdrive/MyDrive/Projects/Digital_Demming/src_content/ParallelChronology_Ver2_150717.pdf'}), Document(page_content='Deming Application Prize. It was the first construction company to win the prize. (Nov.)\\n\\n\\uf09f A committee to research QC in the\\n\\nservice industry was established. (Nov.,\\n\\nA Parallel Chronology of Prof. Kaoru Ishikawa’s Life and TQC in Japan\\n\\nYear\\n\\nProf. Ishikawa’s Life\\n\\nMajor Events in the Development of QC\\n\\ncommissioned by the Ministry of the Environment.)\\n\\n\\uf09f His book Control Points of Quality (joint authorship) (Zeimukeiri Kyokai) was awarded Nikkei Quality Control Literature Prize.\\n\\nJUSE)\\n\\n\\uf09f The 28th QCS: New product planning\\n\\nand market research.\\n\\n\\uf09f The 29th QCS: Future Quality\\n\\nControl—challenges in the 1980s.\\n\\n1980\\n\\n\\uf09f He became a council member of the Japan Standards Association. (–84)\\n\\n\\uf09f He became a council member of the Japanese Society for Quality Control. (–82)\\n\\n\\uf09f He became the chair of the Nuclear\\n\\nPower Plant Quality Assurance Review Committee. (MITI)\\n\\n\\uf09f He became the chair of the Management\\n\\nResearch Group of Japan-China Economic Association.', metadata={'source': '/content/gdrive/MyDrive/Projects/Digital_Demming/src_content/ParallelChronology_Ver2_150717.pdf'})]}]\n"
          ]
        }
      ]
    },
    {
      "cell_type": "code",
      "source": [],
      "metadata": {
        "id": "4oL5v8kQ1IXN"
      },
      "execution_count": 21,
      "outputs": []
    },
    {
      "cell_type": "code",
      "execution_count": 22,
      "metadata": {
        "id": "4a7jUwgI1Iyt"
      },
      "outputs": [],
      "source": [
        "qa = VectorDBQA.from_chain_type(llm=OpenAI(), chain_type=\"stuff\", vectorstore=docsearch, return_source_documents=True)\n",
        "#query = \"what is the impact of JUSE on TQM?\"\n",
        "#query = \"what is the purpouse of life?\"\n",
        "#query = \"what does demming like for lunch\"\n",
        "#query = \"is quality like a human\"\n",
        "#query = \"what is the fourth rule of TQM\"\n",
        "query = \"Write a detailed introduction of the significance of TQM in the modern business world\"\n",
        "result = qa({\"query\": query})"
      ]
    },
    {
      "cell_type": "code",
      "execution_count": 23,
      "metadata": {
        "colab": {
          "base_uri": "https://localhost:8080/",
          "height": 195
        },
        "outputId": "b4bc542f-b945-43ea-8c8c-cc138f524005",
        "id": "HnAi6YWb1Iyt"
      },
      "outputs": [
        {
          "output_type": "execute_result",
          "data": {
            "text/plain": [
              "'\\n\\nTotal Quality Management (TQM) is a business management strategy aimed at promoting and maintaining excellence in all aspects of an organization. It is a holistic approach to managing organizational processes and operations, and it is focused on continuous improvement of quality in order to achieve customer satisfaction. TQM applies to organizations of all sizes and in all industries; it is a comprehensive strategy that involves everyone in the organization, from the top management to the frontline workers. \\n\\nTQM strives to increase the efficiency of operations by reducing waste and cycle times, and improving accuracy and reliability. It also works to increase customer satisfaction and loyalty by consistently delivering quality products and services. TQM helps organizations to develop and implement systems and processes that ensure products and services are produced with the highest possible quality. It encourages collaboration between different departments and teams, and empowers employees to identify and address potential quality issues. \\n\\nTQM has proven to be a highly effective way for organizations to become more competitive, increase customer satisfaction and loyalty, and improve overall operational efficiency. It is a long-term strategy that requires commitment and dedication from the entire organization in order to be successful.'"
            ],
            "application/vnd.google.colaboratory.intrinsic+json": {
              "type": "string"
            }
          },
          "metadata": {},
          "execution_count": 23
        }
      ],
      "source": [
        "result['result']"
      ]
    },
    {
      "cell_type": "code",
      "source": [
        "#append result  to the array\n",
        "introduction.append(result)\n",
        "\n",
        "#print the array\n",
        "print(introduction)"
      ],
      "metadata": {
        "colab": {
          "base_uri": "https://localhost:8080/"
        },
        "id": "uGbgzLl11Xgs",
        "outputId": "330352ee-8a5d-455a-fd6a-b54756627ed9"
      },
      "execution_count": 24,
      "outputs": [
        {
          "output_type": "stream",
          "name": "stdout",
          "text": [
            "[{'query': 'what is Total Quality Management (TQM)', 'result': ' TQM is a management approach that seeks to improve the quality of products and services by focusing on customer needs and continuously improving processes. It involves all members of an organization and emphasizes the importance of teamwork and communication.', 'source_documents': [Document(page_content='Medal. (ASQC)\\n\\n\\uf09f The Pharmaceutical Manufacturing and Quality Control (GMP) Seminar was held. (Sep., JUSE)\\n\\n\\uf09f The Japan Prefabricated Construction\\n\\nSuppliers and Manufacturers Association held TQC seminars.\\n\\n\\uf09f Noboru Takagi was elected as the 22nd\\n\\npresident of the IEC.\\n\\n\\uf09f The 4th ICPR Conference (IE\\n\\ninternational conference) was held. \\uf09f The 24th QCS: Quality design and\\n\\n\\uf09f Quality Control Handbook (New Edition)\\n\\nprocess design.\\n\\nwritten and edited by Ishikawa was published. (The second edition was published in April, 1988, JSA)\\n\\n\\uf09f The 25th QCS: Small-group activities\\n\\nand QC.\\n\\n1978\\n\\nApril 1\\n\\n\\uf09f He became the President of Musashi\\n\\n\\uf09f The Construction Industry TQC\\n\\nInstitute of Technology.\\n\\nRound-table Conference was held. (JSA)\\n\\n\\uf09f He became the director of Goto-Ikueikai. \\uf09f He became the director of the Tokyu Foundation for Foreign Students.\\n\\n\\uf09f He became the chairperson of the board\\n\\nof directors of the Japan-China Industrial Technology and Culture Center. (–82)', metadata={'source': '/content/gdrive/MyDrive/Projects/Digital_Demming/src_content/ParallelChronology_Ver2_150717.pdf'}), Document(page_content='1) AGREE: Advisory Group on Reliability of Electronic Equipment 2) AOTS: Association for Overseas Technical Scholarship 3) APO: Asian Productivity Organization 4) ASA: American Standards Association 5) ASQC: American Society for Quality Control 6) BS: British Standards 7) CCS: Civil Communication Section 8) COSCO: Control System Committee 9) EOQC: European Organization for Quality Control 10) EOQ: European Organization for Quality 11) EFQM: European Foundation for Quality Management 12) FMES: Japan Federation of Managerial Engineering Societies\\n\\n524\\n\\nA Parallel Chronology of Prof. Kaoru Ishikawa’s Life and TQC in Japan', metadata={'source': '/content/gdrive/MyDrive/Projects/Digital_Demming/src_content/ParallelChronology_Ver2_150717.pdf'}), Document(page_content='(Oct., JUSE)\\n\\n\\uf09f A ceremony to celebrate the 10th\\n\\nanniversary of Deming Prize was held, inviting Deming, Rao, Wilks, Cochran, and Hamerker. (JUSE)\\n\\n\\uf09f Dr. Deming was awarded with the Second Class Order of the Sacred Treasure.\\n\\n\\uf09f It was decided to establish November as “Quality Month” and the QC promotion banner was adopted. During this month, lectures were held around the country. Quality Month textbooks were published,\\n\\n505\\n\\n(Age 44)\\n\\n1960\\n\\nApril 1\\n\\n(Age 45)\\n\\nA Parallel Chronology of Prof. Kaoru Ishikawa’s Life and TQC in Japan\\n\\nYear\\n\\nProf. Ishikawa’s Life\\n\\nMajor Events in the Development of QC\\n\\nand promotional posters were distributed.\\n\\n\\uf09f An NHK educational program The Quality of Japanese Products (the Quality Month Broadcast) was broadcast on NHK Radio 2.\\n\\n\\uf09f The Association of Technical High\\n\\nSchool Principals started QC lectures.\\n\\n1961\\n\\n\\uf09f After the reorganization of the', metadata={'source': '/content/gdrive/MyDrive/Projects/Digital_Demming/src_content/ParallelChronology_Ver2_150717.pdf'}), Document(page_content='Deming Application Prize. It was the first construction company to win the prize. (Nov.)\\n\\n\\uf09f A committee to research QC in the\\n\\nservice industry was established. (Nov.,\\n\\nA Parallel Chronology of Prof. Kaoru Ishikawa’s Life and TQC in Japan\\n\\nYear\\n\\nProf. Ishikawa’s Life\\n\\nMajor Events in the Development of QC\\n\\ncommissioned by the Ministry of the Environment.)\\n\\n\\uf09f His book Control Points of Quality (joint authorship) (Zeimukeiri Kyokai) was awarded Nikkei Quality Control Literature Prize.\\n\\nJUSE)\\n\\n\\uf09f The 28th QCS: New product planning\\n\\nand market research.\\n\\n\\uf09f The 29th QCS: Future Quality\\n\\nControl—challenges in the 1980s.\\n\\n1980\\n\\n\\uf09f He became a council member of the Japan Standards Association. (–84)\\n\\n\\uf09f He became a council member of the Japanese Society for Quality Control. (–82)\\n\\n\\uf09f He became the chair of the Nuclear\\n\\nPower Plant Quality Assurance Review Committee. (MITI)\\n\\n\\uf09f He became the chair of the Management\\n\\nResearch Group of Japan-China Economic Association.', metadata={'source': '/content/gdrive/MyDrive/Projects/Digital_Demming/src_content/ParallelChronology_Ver2_150717.pdf'})]}, {'query': 'Write a detailed introduction of the significance of TQM in the modern business world', 'result': '\\n\\nTotal Quality Management (TQM) is a business management strategy aimed at promoting and maintaining excellence in all aspects of an organization. It is a holistic approach to managing organizational processes and operations, and it is focused on continuous improvement of quality in order to achieve customer satisfaction. TQM applies to organizations of all sizes and in all industries; it is a comprehensive strategy that involves everyone in the organization, from the top management to the frontline workers. \\n\\nTQM strives to increase the efficiency of operations by reducing waste and cycle times, and improving accuracy and reliability. It also works to increase customer satisfaction and loyalty by consistently delivering quality products and services. TQM helps organizations to develop and implement systems and processes that ensure products and services are produced with the highest possible quality. It encourages collaboration between different departments and teams, and empowers employees to identify and address potential quality issues. \\n\\nTQM has proven to be a highly effective way for organizations to become more competitive, increase customer satisfaction and loyalty, and improve overall operational efficiency. It is a long-term strategy that requires commitment and dedication from the entire organization in order to be successful.', 'source_documents': [Document(page_content='1) AGREE: Advisory Group on Reliability of Electronic Equipment 2) AOTS: Association for Overseas Technical Scholarship 3) APO: Asian Productivity Organization 4) ASA: American Standards Association 5) ASQC: American Society for Quality Control 6) BS: British Standards 7) CCS: Civil Communication Section 8) COSCO: Control System Committee 9) EOQC: European Organization for Quality Control 10) EOQ: European Organization for Quality 11) EFQM: European Foundation for Quality Management 12) FMES: Japan Federation of Managerial Engineering Societies\\n\\n524\\n\\nA Parallel Chronology of Prof. Kaoru Ishikawa’s Life and TQC in Japan', metadata={'source': '/content/gdrive/MyDrive/Projects/Digital_Demming/src_content/ParallelChronology_Ver2_150717.pdf'}), Document(page_content='\\uf09f The Deming Application Prize for Small Enterprise was established. (Nov.) The first winner was Nakayo, Inc.\\n\\n\\uf09f The Kyushu QC Research Group was\\n\\n(Age 42)\\n\\n1958\\n\\nFeb.\\n\\n(Age 43)\\n\\n\\uf09f Quality Control Guidebook (Vol. 1, Vol.\\n\\nestablished. (JSA)\\n\\n504\\n\\nA Parallel Chronology of Prof. Kaoru Ishikawa’s Life and TQC in Japan\\n\\nYear\\n\\nProf. Ishikawa’s Life\\n\\nMajor Events in the Development of QC\\n\\n2), written and edited by Ishikawa, were published. (A revised edition of Vol. 1 was published in July, 1963 and a revised edition of Vol. 2 was published in Nov., 1964.)\\n\\n\\uf09f The Shikoku QC Research Group was\\n\\nestablished. (JSA)\\n\\n\\uf09f QC slides were released. (JSA) \\uf09f Konishi & Taguchi proposed the linear graph method in their book Orthogonal Array Table and Allocation Type.\\n\\n1959\\n\\nFeb. 1\\n\\n\\uf09f The 1st QCG (QC GOLF) competition\\n\\n\\uf09f Dr. Shewhart visited Japan and gave', metadata={'source': '/content/gdrive/MyDrive/Projects/Digital_Demming/src_content/ParallelChronology_Ver2_150717.pdf'}), Document(page_content='JUSE)\\n\\n\\uf09f The QC and Standardization Seminar was\\n\\nheld. (JSA)\\n\\n\\uf09f The Award of the Excellent Factories in\\n\\nImplementation of Industrial Standardization, the Award of the Minister of International Trade and Industry, the Award of Director-General of Agency of Industrial Science and Technology for the Excellent Factory in Implementation of Industrial Standardization and the Award of the Director-General of the Regional Bureau of International Trade and Industry for the Excellent Factory in Implementation of Industrial Standardization were established.\\n\\n\\uf09f He became a part-time lecturer at Gunma\\n\\n\\uf09f Dr. Juran visited Japan. During his\\n\\nUniversity. (–66)\\n\\n(Age 39)\\n\\n\\uf09f He published Introduction to Quality\\n\\n45-day stay in Japan, he gave a special QC Seminar for Executives and a QC\\n\\n502\\n\\nA Parallel Chronology of Prof. Kaoru Ishikawa’s Life and TQC in Japan\\n\\nYear\\n\\nProf. Ishikawa’s Life\\n\\nMajor Events in the Development of QC\\n\\nControl. (JUSE)\\n\\n\\uf09f His book Sampling in Factories', metadata={'source': '/content/gdrive/MyDrive/Projects/Digital_Demming/src_content/ParallelChronology_Ver2_150717.pdf'}), Document(page_content='Deming Application Prize. It was the first construction company to win the prize. (Nov.)\\n\\n\\uf09f A committee to research QC in the\\n\\nservice industry was established. (Nov.,\\n\\nA Parallel Chronology of Prof. Kaoru Ishikawa’s Life and TQC in Japan\\n\\nYear\\n\\nProf. Ishikawa’s Life\\n\\nMajor Events in the Development of QC\\n\\ncommissioned by the Ministry of the Environment.)\\n\\n\\uf09f His book Control Points of Quality (joint authorship) (Zeimukeiri Kyokai) was awarded Nikkei Quality Control Literature Prize.\\n\\nJUSE)\\n\\n\\uf09f The 28th QCS: New product planning\\n\\nand market research.\\n\\n\\uf09f The 29th QCS: Future Quality\\n\\nControl—challenges in the 1980s.\\n\\n1980\\n\\n\\uf09f He became a council member of the Japan Standards Association. (–84)\\n\\n\\uf09f He became a council member of the Japanese Society for Quality Control. (–82)\\n\\n\\uf09f He became the chair of the Nuclear\\n\\nPower Plant Quality Assurance Review Committee. (MITI)\\n\\n\\uf09f He became the chair of the Management\\n\\nResearch Group of Japan-China Economic Association.', metadata={'source': '/content/gdrive/MyDrive/Projects/Digital_Demming/src_content/ParallelChronology_Ver2_150717.pdf'})]}]\n"
          ]
        }
      ]
    },
    {
      "cell_type": "code",
      "source": [],
      "metadata": {
        "id": "gKBSyNe61bjF"
      },
      "execution_count": 24,
      "outputs": []
    },
    {
      "cell_type": "code",
      "execution_count": 25,
      "metadata": {
        "id": "1rA_rDAu1bsD"
      },
      "outputs": [],
      "source": [
        "qa = VectorDBQA.from_chain_type(llm=OpenAI(), chain_type=\"stuff\", vectorstore=docsearch, return_source_documents=True)\n",
        "#query = \"what is the impact of JUSE on TQM?\"\n",
        "#query = \"what is the purpouse of life?\"\n",
        "#query = \"what does demming like for lunch\"\n",
        "#query = \"is quality like a human\"\n",
        "#query = \"what is the fourth rule of TQM\"\n",
        "#query = \"Write a detailed introduction of the significance of TQM in the modern business world\"\n",
        "query = \"Introduction to Kaoru Ishikawa and the Japanese Union of Scientists and Engineers (JUSE)\"\n",
        "result = qa({\"query\": query})"
      ]
    },
    {
      "cell_type": "code",
      "execution_count": 26,
      "metadata": {
        "colab": {
          "base_uri": "https://localhost:8080/",
          "height": 107
        },
        "outputId": "ab22de67-9719-4017-dc2a-1343dc6621de",
        "id": "fFWZoc4m1bsE"
      },
      "outputs": [
        {
          "output_type": "execute_result",
          "data": {
            "text/plain": [
              "'\\n\\nKaoru Ishikawa was a professor at the University of Tokyo in the 4th Fuel Engineering Laboratory. He was also an instructor of the QC Basic Course at the Japanese Union of Scientists and Engineers (JUSE) and the chair of the editorial board of Genba To QC-magazine. He was awarded the Fuel Society of Japan Award in 1962 and became the vice-chair of the Editorial Committee of Hinshitsu Kanri (Statistical Quality Control) in 1950.'"
            ],
            "application/vnd.google.colaboratory.intrinsic+json": {
              "type": "string"
            }
          },
          "metadata": {},
          "execution_count": 26
        }
      ],
      "source": [
        "result['result']"
      ]
    },
    {
      "cell_type": "code",
      "source": [
        "#append result  to the array\n",
        "introduction.append(result)\n",
        "\n",
        "#print the array\n",
        "print(introduction)"
      ],
      "metadata": {
        "colab": {
          "base_uri": "https://localhost:8080/"
        },
        "outputId": "a0f2a49c-1b57-42ce-d0e0-31d56fba843f",
        "id": "7neLSSFq1bsE"
      },
      "execution_count": 27,
      "outputs": [
        {
          "output_type": "stream",
          "name": "stdout",
          "text": [
            "[{'query': 'what is Total Quality Management (TQM)', 'result': ' TQM is a management approach that seeks to improve the quality of products and services by focusing on customer needs and continuously improving processes. It involves all members of an organization and emphasizes the importance of teamwork and communication.', 'source_documents': [Document(page_content='Medal. (ASQC)\\n\\n\\uf09f The Pharmaceutical Manufacturing and Quality Control (GMP) Seminar was held. (Sep., JUSE)\\n\\n\\uf09f The Japan Prefabricated Construction\\n\\nSuppliers and Manufacturers Association held TQC seminars.\\n\\n\\uf09f Noboru Takagi was elected as the 22nd\\n\\npresident of the IEC.\\n\\n\\uf09f The 4th ICPR Conference (IE\\n\\ninternational conference) was held. \\uf09f The 24th QCS: Quality design and\\n\\n\\uf09f Quality Control Handbook (New Edition)\\n\\nprocess design.\\n\\nwritten and edited by Ishikawa was published. (The second edition was published in April, 1988, JSA)\\n\\n\\uf09f The 25th QCS: Small-group activities\\n\\nand QC.\\n\\n1978\\n\\nApril 1\\n\\n\\uf09f He became the President of Musashi\\n\\n\\uf09f The Construction Industry TQC\\n\\nInstitute of Technology.\\n\\nRound-table Conference was held. (JSA)\\n\\n\\uf09f He became the director of Goto-Ikueikai. \\uf09f He became the director of the Tokyu Foundation for Foreign Students.\\n\\n\\uf09f He became the chairperson of the board\\n\\nof directors of the Japan-China Industrial Technology and Culture Center. (–82)', metadata={'source': '/content/gdrive/MyDrive/Projects/Digital_Demming/src_content/ParallelChronology_Ver2_150717.pdf'}), Document(page_content='1) AGREE: Advisory Group on Reliability of Electronic Equipment 2) AOTS: Association for Overseas Technical Scholarship 3) APO: Asian Productivity Organization 4) ASA: American Standards Association 5) ASQC: American Society for Quality Control 6) BS: British Standards 7) CCS: Civil Communication Section 8) COSCO: Control System Committee 9) EOQC: European Organization for Quality Control 10) EOQ: European Organization for Quality 11) EFQM: European Foundation for Quality Management 12) FMES: Japan Federation of Managerial Engineering Societies\\n\\n524\\n\\nA Parallel Chronology of Prof. Kaoru Ishikawa’s Life and TQC in Japan', metadata={'source': '/content/gdrive/MyDrive/Projects/Digital_Demming/src_content/ParallelChronology_Ver2_150717.pdf'}), Document(page_content='(Oct., JUSE)\\n\\n\\uf09f A ceremony to celebrate the 10th\\n\\nanniversary of Deming Prize was held, inviting Deming, Rao, Wilks, Cochran, and Hamerker. (JUSE)\\n\\n\\uf09f Dr. Deming was awarded with the Second Class Order of the Sacred Treasure.\\n\\n\\uf09f It was decided to establish November as “Quality Month” and the QC promotion banner was adopted. During this month, lectures were held around the country. Quality Month textbooks were published,\\n\\n505\\n\\n(Age 44)\\n\\n1960\\n\\nApril 1\\n\\n(Age 45)\\n\\nA Parallel Chronology of Prof. Kaoru Ishikawa’s Life and TQC in Japan\\n\\nYear\\n\\nProf. Ishikawa’s Life\\n\\nMajor Events in the Development of QC\\n\\nand promotional posters were distributed.\\n\\n\\uf09f An NHK educational program The Quality of Japanese Products (the Quality Month Broadcast) was broadcast on NHK Radio 2.\\n\\n\\uf09f The Association of Technical High\\n\\nSchool Principals started QC lectures.\\n\\n1961\\n\\n\\uf09f After the reorganization of the', metadata={'source': '/content/gdrive/MyDrive/Projects/Digital_Demming/src_content/ParallelChronology_Ver2_150717.pdf'}), Document(page_content='Deming Application Prize. It was the first construction company to win the prize. (Nov.)\\n\\n\\uf09f A committee to research QC in the\\n\\nservice industry was established. (Nov.,\\n\\nA Parallel Chronology of Prof. Kaoru Ishikawa’s Life and TQC in Japan\\n\\nYear\\n\\nProf. Ishikawa’s Life\\n\\nMajor Events in the Development of QC\\n\\ncommissioned by the Ministry of the Environment.)\\n\\n\\uf09f His book Control Points of Quality (joint authorship) (Zeimukeiri Kyokai) was awarded Nikkei Quality Control Literature Prize.\\n\\nJUSE)\\n\\n\\uf09f The 28th QCS: New product planning\\n\\nand market research.\\n\\n\\uf09f The 29th QCS: Future Quality\\n\\nControl—challenges in the 1980s.\\n\\n1980\\n\\n\\uf09f He became a council member of the Japan Standards Association. (–84)\\n\\n\\uf09f He became a council member of the Japanese Society for Quality Control. (–82)\\n\\n\\uf09f He became the chair of the Nuclear\\n\\nPower Plant Quality Assurance Review Committee. (MITI)\\n\\n\\uf09f He became the chair of the Management\\n\\nResearch Group of Japan-China Economic Association.', metadata={'source': '/content/gdrive/MyDrive/Projects/Digital_Demming/src_content/ParallelChronology_Ver2_150717.pdf'})]}, {'query': 'Write a detailed introduction of the significance of TQM in the modern business world', 'result': '\\n\\nTotal Quality Management (TQM) is a business management strategy aimed at promoting and maintaining excellence in all aspects of an organization. It is a holistic approach to managing organizational processes and operations, and it is focused on continuous improvement of quality in order to achieve customer satisfaction. TQM applies to organizations of all sizes and in all industries; it is a comprehensive strategy that involves everyone in the organization, from the top management to the frontline workers. \\n\\nTQM strives to increase the efficiency of operations by reducing waste and cycle times, and improving accuracy and reliability. It also works to increase customer satisfaction and loyalty by consistently delivering quality products and services. TQM helps organizations to develop and implement systems and processes that ensure products and services are produced with the highest possible quality. It encourages collaboration between different departments and teams, and empowers employees to identify and address potential quality issues. \\n\\nTQM has proven to be a highly effective way for organizations to become more competitive, increase customer satisfaction and loyalty, and improve overall operational efficiency. It is a long-term strategy that requires commitment and dedication from the entire organization in order to be successful.', 'source_documents': [Document(page_content='1) AGREE: Advisory Group on Reliability of Electronic Equipment 2) AOTS: Association for Overseas Technical Scholarship 3) APO: Asian Productivity Organization 4) ASA: American Standards Association 5) ASQC: American Society for Quality Control 6) BS: British Standards 7) CCS: Civil Communication Section 8) COSCO: Control System Committee 9) EOQC: European Organization for Quality Control 10) EOQ: European Organization for Quality 11) EFQM: European Foundation for Quality Management 12) FMES: Japan Federation of Managerial Engineering Societies\\n\\n524\\n\\nA Parallel Chronology of Prof. Kaoru Ishikawa’s Life and TQC in Japan', metadata={'source': '/content/gdrive/MyDrive/Projects/Digital_Demming/src_content/ParallelChronology_Ver2_150717.pdf'}), Document(page_content='\\uf09f The Deming Application Prize for Small Enterprise was established. (Nov.) The first winner was Nakayo, Inc.\\n\\n\\uf09f The Kyushu QC Research Group was\\n\\n(Age 42)\\n\\n1958\\n\\nFeb.\\n\\n(Age 43)\\n\\n\\uf09f Quality Control Guidebook (Vol. 1, Vol.\\n\\nestablished. (JSA)\\n\\n504\\n\\nA Parallel Chronology of Prof. Kaoru Ishikawa’s Life and TQC in Japan\\n\\nYear\\n\\nProf. Ishikawa’s Life\\n\\nMajor Events in the Development of QC\\n\\n2), written and edited by Ishikawa, were published. (A revised edition of Vol. 1 was published in July, 1963 and a revised edition of Vol. 2 was published in Nov., 1964.)\\n\\n\\uf09f The Shikoku QC Research Group was\\n\\nestablished. (JSA)\\n\\n\\uf09f QC slides were released. (JSA) \\uf09f Konishi & Taguchi proposed the linear graph method in their book Orthogonal Array Table and Allocation Type.\\n\\n1959\\n\\nFeb. 1\\n\\n\\uf09f The 1st QCG (QC GOLF) competition\\n\\n\\uf09f Dr. Shewhart visited Japan and gave', metadata={'source': '/content/gdrive/MyDrive/Projects/Digital_Demming/src_content/ParallelChronology_Ver2_150717.pdf'}), Document(page_content='JUSE)\\n\\n\\uf09f The QC and Standardization Seminar was\\n\\nheld. (JSA)\\n\\n\\uf09f The Award of the Excellent Factories in\\n\\nImplementation of Industrial Standardization, the Award of the Minister of International Trade and Industry, the Award of Director-General of Agency of Industrial Science and Technology for the Excellent Factory in Implementation of Industrial Standardization and the Award of the Director-General of the Regional Bureau of International Trade and Industry for the Excellent Factory in Implementation of Industrial Standardization were established.\\n\\n\\uf09f He became a part-time lecturer at Gunma\\n\\n\\uf09f Dr. Juran visited Japan. During his\\n\\nUniversity. (–66)\\n\\n(Age 39)\\n\\n\\uf09f He published Introduction to Quality\\n\\n45-day stay in Japan, he gave a special QC Seminar for Executives and a QC\\n\\n502\\n\\nA Parallel Chronology of Prof. Kaoru Ishikawa’s Life and TQC in Japan\\n\\nYear\\n\\nProf. Ishikawa’s Life\\n\\nMajor Events in the Development of QC\\n\\nControl. (JUSE)\\n\\n\\uf09f His book Sampling in Factories', metadata={'source': '/content/gdrive/MyDrive/Projects/Digital_Demming/src_content/ParallelChronology_Ver2_150717.pdf'}), Document(page_content='Deming Application Prize. It was the first construction company to win the prize. (Nov.)\\n\\n\\uf09f A committee to research QC in the\\n\\nservice industry was established. (Nov.,\\n\\nA Parallel Chronology of Prof. Kaoru Ishikawa’s Life and TQC in Japan\\n\\nYear\\n\\nProf. Ishikawa’s Life\\n\\nMajor Events in the Development of QC\\n\\ncommissioned by the Ministry of the Environment.)\\n\\n\\uf09f His book Control Points of Quality (joint authorship) (Zeimukeiri Kyokai) was awarded Nikkei Quality Control Literature Prize.\\n\\nJUSE)\\n\\n\\uf09f The 28th QCS: New product planning\\n\\nand market research.\\n\\n\\uf09f The 29th QCS: Future Quality\\n\\nControl—challenges in the 1980s.\\n\\n1980\\n\\n\\uf09f He became a council member of the Japan Standards Association. (–84)\\n\\n\\uf09f He became a council member of the Japanese Society for Quality Control. (–82)\\n\\n\\uf09f He became the chair of the Nuclear\\n\\nPower Plant Quality Assurance Review Committee. (MITI)\\n\\n\\uf09f He became the chair of the Management\\n\\nResearch Group of Japan-China Economic Association.', metadata={'source': '/content/gdrive/MyDrive/Projects/Digital_Demming/src_content/ParallelChronology_Ver2_150717.pdf'})]}, {'query': 'Introduction to Kaoru Ishikawa and the Japanese Union of Scientists and Engineers (JUSE)', 'result': '\\n\\nKaoru Ishikawa was a professor at the University of Tokyo in the 4th Fuel Engineering Laboratory. He was also an instructor of the QC Basic Course at the Japanese Union of Scientists and Engineers (JUSE) and the chair of the editorial board of Genba To QC-magazine. He was awarded the Fuel Society of Japan Award in 1962 and became the vice-chair of the Editorial Committee of Hinshitsu Kanri (Statistical Quality Control) in 1950.', 'source_documents': [Document(page_content='department, Ishikawa belonged to the 4th Fuel Engineering Laboratory (Applied Combustible Science). (the University of Tokyo)\\n\\n\\uf09f He became a lecturer of the Introductory\\n\\n\\uf09f The QC Seminar for Managers and the QC Seminar for Supervisors started. (Central Japan Industries Association)\\n\\n\\uf09f Introductory Course for Design of\\n\\nExperiment was held. (Apr., JUSE) \\uf09f The Asian Productivity Organization\\n\\nCourse for Design of Experiment. (JUSE)\\n\\n(APO) was founded. (May) \\uf09f Japan became the secretariat of\\n\\n\\uf09f He became a member of the ISO/TC 102 Japan Committee and served as the chair of the Sampling Subcommittee. (–81, Japan Iron and Steel Federation)\\n\\n\\uf09f He was awarded with the Fuel Society of\\n\\n(Age 46) 1962\\n\\nJapan Award.\\n\\nISO/TC102 (iron ore).\\n\\n\\uf09f The Japan Consumers’ Association was\\n\\nfounded. (Sep.)\\n\\n\\uf09f The “Supervisor Special Issue” of\\n\\nHinshitsu Kanri (Statistical Quality Control) was issued. (Nov., JUSE)\\n\\n\\uf09f He became the chair of the editorial board of Genba To QC-magazine. (JUSE)', metadata={'source': '/content/gdrive/MyDrive/Projects/Digital_Demming/src_content/ParallelChronology_Ver2_150717.pdf'}), Document(page_content='Committee was established. (One of its research themes was to research QC.) (JUSE)\\n\\n\\uf09f The GHQ-CCS Course was held.\\n\\n\\uf09f The name of the course which he taught was changed from the 3rd Petroleum Refinery Engineering Laboratory to the Fuel Engineering Laboratory. (the University of Tokyo)\\n\\n\\uf09f He became an instructor of the QC Basic\\n\\nCourse. (JUSE)\\n\\n\\uf09f He joined the QC Research Group and\\n\\nstarted to research QC. (JUSE)\\n\\n(Age 33)\\n\\n1949\\n\\n(Age 34) 1950\\n\\n(Age 35)\\n\\n\\uf09f He became the Vice-chair of the Editorial Committee of Hinshitsu Kanri (Statistical Quality Control). (–52, JUSE)\\n\\n\\uf09f JUSE started publication of Hinshitsu Kanri (Statistical Quality Control). (March)\\n\\n500\\n\\nA Parallel Chronology of Prof. Kaoru Ishikawa’s Life and TQC in Japan\\n\\nYear\\n\\nProf. Ishikawa’s Life\\n\\nMajor Events in the Development of QC\\n\\n\\uf09f He gave the first lecture in the QC Basic Course and introduced Rice’s Control Chart. (July 21, JUSE)', metadata={'source': '/content/gdrive/MyDrive/Projects/Digital_Demming/src_content/ParallelChronology_Ver2_150717.pdf'}), Document(page_content='\\uf09f He became the vice-chair of the Reliability and Maintainability Symposium Organizing Committee. (JUSE)\\n\\n\\uf09f He became the chair of the Organizing Committee of the JUSE Course for Purchasing. (JUSE)\\n\\n\\uf09f The Sensory Test Overseas Research Team was dispatched. (May, JUSE) \\uf09f The Standardization Mission Team (headed by Hidehiko Azuma) was dispatched to the USSR. (JSA) \\uf09f The 2nd Japan-America Joint Symposium on Bulk Material Sampling was held. (Oct., Hawaii)\\n\\n\\uf09f October 14 was declared as World\\n\\nStandards Day. (ISO)\\n\\n\\uf09f The Japanese Society for Quality Control foundation meeting was held. (Nov.) \\uf09f The 11th QCS: Planning and quality. \\uf09f The 12th QCS: Product safety, pollution\\n\\nand QC.\\n\\n\\uf09f The QC Correspondence Basic Course for Foremen was held. (Jan., JUSE) \\uf09f The QC Circle Hokkaido Regional\\n\\nChapter was founded. (March, QC Circle Headquarters)\\n\\n\\uf09f Reliability Symposium [71–, Reliability and Maintainability Symposium] was held. (Apr., JUSE)\\n\\n\\uf09f The Japanese Society for Quality Control', metadata={'source': '/content/gdrive/MyDrive/Projects/Digital_Demming/src_content/ParallelChronology_Ver2_150717.pdf'}), Document(page_content='established. (April, JUSE)\\n\\n\\uf09f The QC Seminar for Managers was held.\\n\\n(May, JUSE)\\n\\n\\uf09f The Design of Experiment Seminar was\\n\\nheld. (May, JUSE)\\n\\n\\uf09f The JUSE Press, LTD. was established in June. (Renamed JUSE Press, Ltd. in Nov. 1966)\\n\\n\\uf09f Research on QC implementation in Japan\\n\\nwas conducted. (JSA)\\n\\n\\uf09f The Japan Industrial Training\\n\\nAssociation was founded and started the promotion of TWI and WSP.\\n\\n\\uf09f The Standardization Seminar was held.\\n\\n(JSA)\\n\\n\\uf09f He became the chief of ASQC Japan\\n\\nBranch. (–58)\\n\\n\\uf09f The JIS journal was renamed Standardization. (Jan., JSA)\\n\\n\\uf09f He appeared as a lecturer on Nihon\\n\\n\\uf09f The 6-day QC Introductory Seminar was\\n\\nShort-Wave Broadcasting’s program “QC Courses.”\\n\\nheld. (Apr., JUSE)\\n\\n\\uf09f The first issue of Operations Research journal was published. (June, JUSE)\\n\\n\\uf09f Nihon Short-Wave Broadcasting broadcast a program titled the QC\\n\\n503\\n\\n(Age 40) 1956\\n\\n(Age 41)\\n\\nA Parallel Chronology of Prof. Kaoru Ishikawa’s Life and TQC in Japan\\n\\nYear\\n\\nProf. Ishikawa’s Life', metadata={'source': '/content/gdrive/MyDrive/Projects/Digital_Demming/src_content/ParallelChronology_Ver2_150717.pdf'})]}]\n"
          ]
        }
      ]
    },
    {
      "cell_type": "code",
      "execution_count": 28,
      "metadata": {
        "id": "aBESyBaS1tYH"
      },
      "outputs": [],
      "source": [
        "qa = VectorDBQA.from_chain_type(llm=OpenAI(), chain_type=\"stuff\", vectorstore=docsearch, return_source_documents=True)\n",
        "#query = \"what is the impact of JUSE on TQM?\"\n",
        "#query = \"what is the purpouse of life?\"\n",
        "#query = \"what does demming like for lunch\"\n",
        "#query = \"is quality like a human\"\n",
        "#query = \"what is the fourth rule of TQM\"\n",
        "#query = \"Write a detailed introduction of the significance of TQM in the modern business world\"\n",
        "#query = \"Introduction to Kaoru Ishikawa and the Japanese Union of Scientists and Engineers (JUSE)\"\n",
        "query = \" Write a Thesis Statement regarding TQM, Kaoru Ishikawa, Japanese Union of Scientists and engineers\"\n",
        "result = qa({\"query\": query})"
      ]
    },
    {
      "cell_type": "code",
      "execution_count": 29,
      "metadata": {
        "colab": {
          "base_uri": "https://localhost:8080/",
          "height": 71
        },
        "outputId": "7f149961-ab1f-427e-a0dd-b889b9bcc379",
        "id": "8JPTo8w21tYH"
      },
      "outputs": [
        {
          "output_type": "execute_result",
          "data": {
            "text/plain": [
              "\" The Thesis statement could be: Kaoru Ishikawa's lifelong commitment to Total Quality Management (TQM) through his involvement in the Japanese Union of Scientists and Engineers has had a lasting impact on the development of quality control in Japan.\""
            ],
            "application/vnd.google.colaboratory.intrinsic+json": {
              "type": "string"
            }
          },
          "metadata": {},
          "execution_count": 29
        }
      ],
      "source": [
        "result['result']"
      ]
    },
    {
      "cell_type": "code",
      "source": [
        "#append result  to the array\n",
        "introduction.append(result)\n",
        "\n",
        "#print the array\n",
        "print(introduction)"
      ],
      "metadata": {
        "colab": {
          "base_uri": "https://localhost:8080/"
        },
        "outputId": "060477f8-b8a7-4bfe-b579-66dca5c648e8",
        "id": "twCsDUR-1tYH"
      },
      "execution_count": 30,
      "outputs": [
        {
          "output_type": "stream",
          "name": "stdout",
          "text": [
            "[{'query': 'what is Total Quality Management (TQM)', 'result': ' TQM is a management approach that seeks to improve the quality of products and services by focusing on customer needs and continuously improving processes. It involves all members of an organization and emphasizes the importance of teamwork and communication.', 'source_documents': [Document(page_content='Medal. (ASQC)\\n\\n\\uf09f The Pharmaceutical Manufacturing and Quality Control (GMP) Seminar was held. (Sep., JUSE)\\n\\n\\uf09f The Japan Prefabricated Construction\\n\\nSuppliers and Manufacturers Association held TQC seminars.\\n\\n\\uf09f Noboru Takagi was elected as the 22nd\\n\\npresident of the IEC.\\n\\n\\uf09f The 4th ICPR Conference (IE\\n\\ninternational conference) was held. \\uf09f The 24th QCS: Quality design and\\n\\n\\uf09f Quality Control Handbook (New Edition)\\n\\nprocess design.\\n\\nwritten and edited by Ishikawa was published. (The second edition was published in April, 1988, JSA)\\n\\n\\uf09f The 25th QCS: Small-group activities\\n\\nand QC.\\n\\n1978\\n\\nApril 1\\n\\n\\uf09f He became the President of Musashi\\n\\n\\uf09f The Construction Industry TQC\\n\\nInstitute of Technology.\\n\\nRound-table Conference was held. (JSA)\\n\\n\\uf09f He became the director of Goto-Ikueikai. \\uf09f He became the director of the Tokyu Foundation for Foreign Students.\\n\\n\\uf09f He became the chairperson of the board\\n\\nof directors of the Japan-China Industrial Technology and Culture Center. (–82)', metadata={'source': '/content/gdrive/MyDrive/Projects/Digital_Demming/src_content/ParallelChronology_Ver2_150717.pdf'}), Document(page_content='1) AGREE: Advisory Group on Reliability of Electronic Equipment 2) AOTS: Association for Overseas Technical Scholarship 3) APO: Asian Productivity Organization 4) ASA: American Standards Association 5) ASQC: American Society for Quality Control 6) BS: British Standards 7) CCS: Civil Communication Section 8) COSCO: Control System Committee 9) EOQC: European Organization for Quality Control 10) EOQ: European Organization for Quality 11) EFQM: European Foundation for Quality Management 12) FMES: Japan Federation of Managerial Engineering Societies\\n\\n524\\n\\nA Parallel Chronology of Prof. Kaoru Ishikawa’s Life and TQC in Japan', metadata={'source': '/content/gdrive/MyDrive/Projects/Digital_Demming/src_content/ParallelChronology_Ver2_150717.pdf'}), Document(page_content='(Oct., JUSE)\\n\\n\\uf09f A ceremony to celebrate the 10th\\n\\nanniversary of Deming Prize was held, inviting Deming, Rao, Wilks, Cochran, and Hamerker. (JUSE)\\n\\n\\uf09f Dr. Deming was awarded with the Second Class Order of the Sacred Treasure.\\n\\n\\uf09f It was decided to establish November as “Quality Month” and the QC promotion banner was adopted. During this month, lectures were held around the country. Quality Month textbooks were published,\\n\\n505\\n\\n(Age 44)\\n\\n1960\\n\\nApril 1\\n\\n(Age 45)\\n\\nA Parallel Chronology of Prof. Kaoru Ishikawa’s Life and TQC in Japan\\n\\nYear\\n\\nProf. Ishikawa’s Life\\n\\nMajor Events in the Development of QC\\n\\nand promotional posters were distributed.\\n\\n\\uf09f An NHK educational program The Quality of Japanese Products (the Quality Month Broadcast) was broadcast on NHK Radio 2.\\n\\n\\uf09f The Association of Technical High\\n\\nSchool Principals started QC lectures.\\n\\n1961\\n\\n\\uf09f After the reorganization of the', metadata={'source': '/content/gdrive/MyDrive/Projects/Digital_Demming/src_content/ParallelChronology_Ver2_150717.pdf'}), Document(page_content='Deming Application Prize. It was the first construction company to win the prize. (Nov.)\\n\\n\\uf09f A committee to research QC in the\\n\\nservice industry was established. (Nov.,\\n\\nA Parallel Chronology of Prof. Kaoru Ishikawa’s Life and TQC in Japan\\n\\nYear\\n\\nProf. Ishikawa’s Life\\n\\nMajor Events in the Development of QC\\n\\ncommissioned by the Ministry of the Environment.)\\n\\n\\uf09f His book Control Points of Quality (joint authorship) (Zeimukeiri Kyokai) was awarded Nikkei Quality Control Literature Prize.\\n\\nJUSE)\\n\\n\\uf09f The 28th QCS: New product planning\\n\\nand market research.\\n\\n\\uf09f The 29th QCS: Future Quality\\n\\nControl—challenges in the 1980s.\\n\\n1980\\n\\n\\uf09f He became a council member of the Japan Standards Association. (–84)\\n\\n\\uf09f He became a council member of the Japanese Society for Quality Control. (–82)\\n\\n\\uf09f He became the chair of the Nuclear\\n\\nPower Plant Quality Assurance Review Committee. (MITI)\\n\\n\\uf09f He became the chair of the Management\\n\\nResearch Group of Japan-China Economic Association.', metadata={'source': '/content/gdrive/MyDrive/Projects/Digital_Demming/src_content/ParallelChronology_Ver2_150717.pdf'})]}, {'query': 'Write a detailed introduction of the significance of TQM in the modern business world', 'result': '\\n\\nTotal Quality Management (TQM) is a business management strategy aimed at promoting and maintaining excellence in all aspects of an organization. It is a holistic approach to managing organizational processes and operations, and it is focused on continuous improvement of quality in order to achieve customer satisfaction. TQM applies to organizations of all sizes and in all industries; it is a comprehensive strategy that involves everyone in the organization, from the top management to the frontline workers. \\n\\nTQM strives to increase the efficiency of operations by reducing waste and cycle times, and improving accuracy and reliability. It also works to increase customer satisfaction and loyalty by consistently delivering quality products and services. TQM helps organizations to develop and implement systems and processes that ensure products and services are produced with the highest possible quality. It encourages collaboration between different departments and teams, and empowers employees to identify and address potential quality issues. \\n\\nTQM has proven to be a highly effective way for organizations to become more competitive, increase customer satisfaction and loyalty, and improve overall operational efficiency. It is a long-term strategy that requires commitment and dedication from the entire organization in order to be successful.', 'source_documents': [Document(page_content='1) AGREE: Advisory Group on Reliability of Electronic Equipment 2) AOTS: Association for Overseas Technical Scholarship 3) APO: Asian Productivity Organization 4) ASA: American Standards Association 5) ASQC: American Society for Quality Control 6) BS: British Standards 7) CCS: Civil Communication Section 8) COSCO: Control System Committee 9) EOQC: European Organization for Quality Control 10) EOQ: European Organization for Quality 11) EFQM: European Foundation for Quality Management 12) FMES: Japan Federation of Managerial Engineering Societies\\n\\n524\\n\\nA Parallel Chronology of Prof. Kaoru Ishikawa’s Life and TQC in Japan', metadata={'source': '/content/gdrive/MyDrive/Projects/Digital_Demming/src_content/ParallelChronology_Ver2_150717.pdf'}), Document(page_content='\\uf09f The Deming Application Prize for Small Enterprise was established. (Nov.) The first winner was Nakayo, Inc.\\n\\n\\uf09f The Kyushu QC Research Group was\\n\\n(Age 42)\\n\\n1958\\n\\nFeb.\\n\\n(Age 43)\\n\\n\\uf09f Quality Control Guidebook (Vol. 1, Vol.\\n\\nestablished. (JSA)\\n\\n504\\n\\nA Parallel Chronology of Prof. Kaoru Ishikawa’s Life and TQC in Japan\\n\\nYear\\n\\nProf. Ishikawa’s Life\\n\\nMajor Events in the Development of QC\\n\\n2), written and edited by Ishikawa, were published. (A revised edition of Vol. 1 was published in July, 1963 and a revised edition of Vol. 2 was published in Nov., 1964.)\\n\\n\\uf09f The Shikoku QC Research Group was\\n\\nestablished. (JSA)\\n\\n\\uf09f QC slides were released. (JSA) \\uf09f Konishi & Taguchi proposed the linear graph method in their book Orthogonal Array Table and Allocation Type.\\n\\n1959\\n\\nFeb. 1\\n\\n\\uf09f The 1st QCG (QC GOLF) competition\\n\\n\\uf09f Dr. Shewhart visited Japan and gave', metadata={'source': '/content/gdrive/MyDrive/Projects/Digital_Demming/src_content/ParallelChronology_Ver2_150717.pdf'}), Document(page_content='JUSE)\\n\\n\\uf09f The QC and Standardization Seminar was\\n\\nheld. (JSA)\\n\\n\\uf09f The Award of the Excellent Factories in\\n\\nImplementation of Industrial Standardization, the Award of the Minister of International Trade and Industry, the Award of Director-General of Agency of Industrial Science and Technology for the Excellent Factory in Implementation of Industrial Standardization and the Award of the Director-General of the Regional Bureau of International Trade and Industry for the Excellent Factory in Implementation of Industrial Standardization were established.\\n\\n\\uf09f He became a part-time lecturer at Gunma\\n\\n\\uf09f Dr. Juran visited Japan. During his\\n\\nUniversity. (–66)\\n\\n(Age 39)\\n\\n\\uf09f He published Introduction to Quality\\n\\n45-day stay in Japan, he gave a special QC Seminar for Executives and a QC\\n\\n502\\n\\nA Parallel Chronology of Prof. Kaoru Ishikawa’s Life and TQC in Japan\\n\\nYear\\n\\nProf. Ishikawa’s Life\\n\\nMajor Events in the Development of QC\\n\\nControl. (JUSE)\\n\\n\\uf09f His book Sampling in Factories', metadata={'source': '/content/gdrive/MyDrive/Projects/Digital_Demming/src_content/ParallelChronology_Ver2_150717.pdf'}), Document(page_content='Deming Application Prize. It was the first construction company to win the prize. (Nov.)\\n\\n\\uf09f A committee to research QC in the\\n\\nservice industry was established. (Nov.,\\n\\nA Parallel Chronology of Prof. Kaoru Ishikawa’s Life and TQC in Japan\\n\\nYear\\n\\nProf. Ishikawa’s Life\\n\\nMajor Events in the Development of QC\\n\\ncommissioned by the Ministry of the Environment.)\\n\\n\\uf09f His book Control Points of Quality (joint authorship) (Zeimukeiri Kyokai) was awarded Nikkei Quality Control Literature Prize.\\n\\nJUSE)\\n\\n\\uf09f The 28th QCS: New product planning\\n\\nand market research.\\n\\n\\uf09f The 29th QCS: Future Quality\\n\\nControl—challenges in the 1980s.\\n\\n1980\\n\\n\\uf09f He became a council member of the Japan Standards Association. (–84)\\n\\n\\uf09f He became a council member of the Japanese Society for Quality Control. (–82)\\n\\n\\uf09f He became the chair of the Nuclear\\n\\nPower Plant Quality Assurance Review Committee. (MITI)\\n\\n\\uf09f He became the chair of the Management\\n\\nResearch Group of Japan-China Economic Association.', metadata={'source': '/content/gdrive/MyDrive/Projects/Digital_Demming/src_content/ParallelChronology_Ver2_150717.pdf'})]}, {'query': 'Introduction to Kaoru Ishikawa and the Japanese Union of Scientists and Engineers (JUSE)', 'result': '\\n\\nKaoru Ishikawa was a professor at the University of Tokyo in the 4th Fuel Engineering Laboratory. He was also an instructor of the QC Basic Course at the Japanese Union of Scientists and Engineers (JUSE) and the chair of the editorial board of Genba To QC-magazine. He was awarded the Fuel Society of Japan Award in 1962 and became the vice-chair of the Editorial Committee of Hinshitsu Kanri (Statistical Quality Control) in 1950.', 'source_documents': [Document(page_content='department, Ishikawa belonged to the 4th Fuel Engineering Laboratory (Applied Combustible Science). (the University of Tokyo)\\n\\n\\uf09f He became a lecturer of the Introductory\\n\\n\\uf09f The QC Seminar for Managers and the QC Seminar for Supervisors started. (Central Japan Industries Association)\\n\\n\\uf09f Introductory Course for Design of\\n\\nExperiment was held. (Apr., JUSE) \\uf09f The Asian Productivity Organization\\n\\nCourse for Design of Experiment. (JUSE)\\n\\n(APO) was founded. (May) \\uf09f Japan became the secretariat of\\n\\n\\uf09f He became a member of the ISO/TC 102 Japan Committee and served as the chair of the Sampling Subcommittee. (–81, Japan Iron and Steel Federation)\\n\\n\\uf09f He was awarded with the Fuel Society of\\n\\n(Age 46) 1962\\n\\nJapan Award.\\n\\nISO/TC102 (iron ore).\\n\\n\\uf09f The Japan Consumers’ Association was\\n\\nfounded. (Sep.)\\n\\n\\uf09f The “Supervisor Special Issue” of\\n\\nHinshitsu Kanri (Statistical Quality Control) was issued. (Nov., JUSE)\\n\\n\\uf09f He became the chair of the editorial board of Genba To QC-magazine. (JUSE)', metadata={'source': '/content/gdrive/MyDrive/Projects/Digital_Demming/src_content/ParallelChronology_Ver2_150717.pdf'}), Document(page_content='Committee was established. (One of its research themes was to research QC.) (JUSE)\\n\\n\\uf09f The GHQ-CCS Course was held.\\n\\n\\uf09f The name of the course which he taught was changed from the 3rd Petroleum Refinery Engineering Laboratory to the Fuel Engineering Laboratory. (the University of Tokyo)\\n\\n\\uf09f He became an instructor of the QC Basic\\n\\nCourse. (JUSE)\\n\\n\\uf09f He joined the QC Research Group and\\n\\nstarted to research QC. (JUSE)\\n\\n(Age 33)\\n\\n1949\\n\\n(Age 34) 1950\\n\\n(Age 35)\\n\\n\\uf09f He became the Vice-chair of the Editorial Committee of Hinshitsu Kanri (Statistical Quality Control). (–52, JUSE)\\n\\n\\uf09f JUSE started publication of Hinshitsu Kanri (Statistical Quality Control). (March)\\n\\n500\\n\\nA Parallel Chronology of Prof. Kaoru Ishikawa’s Life and TQC in Japan\\n\\nYear\\n\\nProf. Ishikawa’s Life\\n\\nMajor Events in the Development of QC\\n\\n\\uf09f He gave the first lecture in the QC Basic Course and introduced Rice’s Control Chart. (July 21, JUSE)', metadata={'source': '/content/gdrive/MyDrive/Projects/Digital_Demming/src_content/ParallelChronology_Ver2_150717.pdf'}), Document(page_content='\\uf09f He became the vice-chair of the Reliability and Maintainability Symposium Organizing Committee. (JUSE)\\n\\n\\uf09f He became the chair of the Organizing Committee of the JUSE Course for Purchasing. (JUSE)\\n\\n\\uf09f The Sensory Test Overseas Research Team was dispatched. (May, JUSE) \\uf09f The Standardization Mission Team (headed by Hidehiko Azuma) was dispatched to the USSR. (JSA) \\uf09f The 2nd Japan-America Joint Symposium on Bulk Material Sampling was held. (Oct., Hawaii)\\n\\n\\uf09f October 14 was declared as World\\n\\nStandards Day. (ISO)\\n\\n\\uf09f The Japanese Society for Quality Control foundation meeting was held. (Nov.) \\uf09f The 11th QCS: Planning and quality. \\uf09f The 12th QCS: Product safety, pollution\\n\\nand QC.\\n\\n\\uf09f The QC Correspondence Basic Course for Foremen was held. (Jan., JUSE) \\uf09f The QC Circle Hokkaido Regional\\n\\nChapter was founded. (March, QC Circle Headquarters)\\n\\n\\uf09f Reliability Symposium [71–, Reliability and Maintainability Symposium] was held. (Apr., JUSE)\\n\\n\\uf09f The Japanese Society for Quality Control', metadata={'source': '/content/gdrive/MyDrive/Projects/Digital_Demming/src_content/ParallelChronology_Ver2_150717.pdf'}), Document(page_content='established. (April, JUSE)\\n\\n\\uf09f The QC Seminar for Managers was held.\\n\\n(May, JUSE)\\n\\n\\uf09f The Design of Experiment Seminar was\\n\\nheld. (May, JUSE)\\n\\n\\uf09f The JUSE Press, LTD. was established in June. (Renamed JUSE Press, Ltd. in Nov. 1966)\\n\\n\\uf09f Research on QC implementation in Japan\\n\\nwas conducted. (JSA)\\n\\n\\uf09f The Japan Industrial Training\\n\\nAssociation was founded and started the promotion of TWI and WSP.\\n\\n\\uf09f The Standardization Seminar was held.\\n\\n(JSA)\\n\\n\\uf09f He became the chief of ASQC Japan\\n\\nBranch. (–58)\\n\\n\\uf09f The JIS journal was renamed Standardization. (Jan., JSA)\\n\\n\\uf09f He appeared as a lecturer on Nihon\\n\\n\\uf09f The 6-day QC Introductory Seminar was\\n\\nShort-Wave Broadcasting’s program “QC Courses.”\\n\\nheld. (Apr., JUSE)\\n\\n\\uf09f The first issue of Operations Research journal was published. (June, JUSE)\\n\\n\\uf09f Nihon Short-Wave Broadcasting broadcast a program titled the QC\\n\\n503\\n\\n(Age 40) 1956\\n\\n(Age 41)\\n\\nA Parallel Chronology of Prof. Kaoru Ishikawa’s Life and TQC in Japan\\n\\nYear\\n\\nProf. Ishikawa’s Life', metadata={'source': '/content/gdrive/MyDrive/Projects/Digital_Demming/src_content/ParallelChronology_Ver2_150717.pdf'})]}, {'query': ' Write a Thesis Statement regarding TQM, Kaoru Ishikawa, Japanese Union of Scientists and engineers', 'result': \" The Thesis statement could be: Kaoru Ishikawa's lifelong commitment to Total Quality Management (TQM) through his involvement in the Japanese Union of Scientists and Engineers has had a lasting impact on the development of quality control in Japan.\", 'source_documents': [Document(page_content='1) AGREE: Advisory Group on Reliability of Electronic Equipment 2) AOTS: Association for Overseas Technical Scholarship 3) APO: Asian Productivity Organization 4) ASA: American Standards Association 5) ASQC: American Society for Quality Control 6) BS: British Standards 7) CCS: Civil Communication Section 8) COSCO: Control System Committee 9) EOQC: European Organization for Quality Control 10) EOQ: European Organization for Quality 11) EFQM: European Foundation for Quality Management 12) FMES: Japan Federation of Managerial Engineering Societies\\n\\n524\\n\\nA Parallel Chronology of Prof. Kaoru Ishikawa’s Life and TQC in Japan', metadata={'source': '/content/gdrive/MyDrive/Projects/Digital_Demming/src_content/ParallelChronology_Ver2_150717.pdf'}), Document(page_content='\\uf09f He became an associate professor at the First Faculty of Engineering, Tokyo Imperial University. (Department of Petroleum Engineering, the 3rd\\n\\n\\uf09f The International Organization for\\n\\nStandardization (ISO) was founded. (Feb.)\\n\\n499\\n\\nA Parallel Chronology of Prof. Kaoru Ishikawa’s Life and TQC in Japan\\n\\nYear\\n\\nProf. Ishikawa’s Life\\n\\nMajor Events in the Development of QC\\n\\n1948 Nov. 20\\n\\nPetroleum Refinery Engineering Laboratory)\\n\\n\\uf09f He started research on coal briquettes.\\n\\n\\uf09f His second son, Akira, was born. \\uf09f He and Masumasa Imaizumi (then a graduate student) began studying statistical methods (at the University of Tokyo).\\n\\n\\uf09f He became a member of the Japanese Association of University Professors. \\uf09f He became a member of the Japanese Society for Engineering Education.\\n\\n\\uf09f A statistics workshop was held to offer a\\n\\nwide introduction to QC. (Aug. the Society for Applied Mechanics)', metadata={'source': '/content/gdrive/MyDrive/Projects/Digital_Demming/src_content/ParallelChronology_Ver2_150717.pdf'}), Document(page_content='Deming Application Prize. It was the first construction company to win the prize. (Nov.)\\n\\n\\uf09f A committee to research QC in the\\n\\nservice industry was established. (Nov.,\\n\\nA Parallel Chronology of Prof. Kaoru Ishikawa’s Life and TQC in Japan\\n\\nYear\\n\\nProf. Ishikawa’s Life\\n\\nMajor Events in the Development of QC\\n\\ncommissioned by the Ministry of the Environment.)\\n\\n\\uf09f His book Control Points of Quality (joint authorship) (Zeimukeiri Kyokai) was awarded Nikkei Quality Control Literature Prize.\\n\\nJUSE)\\n\\n\\uf09f The 28th QCS: New product planning\\n\\nand market research.\\n\\n\\uf09f The 29th QCS: Future Quality\\n\\nControl—challenges in the 1980s.\\n\\n1980\\n\\n\\uf09f He became a council member of the Japan Standards Association. (–84)\\n\\n\\uf09f He became a council member of the Japanese Society for Quality Control. (–82)\\n\\n\\uf09f He became the chair of the Nuclear\\n\\nPower Plant Quality Assurance Review Committee. (MITI)\\n\\n\\uf09f He became the chair of the Management\\n\\nResearch Group of Japan-China Economic Association.', metadata={'source': '/content/gdrive/MyDrive/Projects/Digital_Demming/src_content/ParallelChronology_Ver2_150717.pdf'}), Document(page_content='University. (–70)\\n\\n\\uf09f He gave a special lecture and acted as a discussion leader at the Quality Control Symposium held in Tokyo, welcoming representatives from various countries in Asia. (APO)\\n\\n\\uf09f He published How to Establish Product\\n\\nStandards of Japanese Industrial Standards. (JSA)\\n\\n\\uf09f He became an advisor to the Japan\\n\\nProductivity Center.\\n\\n(Age 49)\\n\\n507\\n\\nA Parallel Chronology of Prof. Kaoru Ishikawa’s Life and TQC in Japan\\n\\nYear\\n\\n1965\\n\\nProf. Ishikawa’s Life\\n\\nMajor Events in the Development of QC\\n\\n\\uf09f He joined the 2nd QC Overseas Research\\n\\n\\uf09f Genba To QC-magazine established the\\n\\nTeam as the head of the delegation (JUSE). He introduced the activities of QC circles at the ASQC Annual Conference. \\uf09f He became a member of the Quality Control Symposium Organizing Committee. (–78, JUSE)\\n\\n\\uf09f JIS M 8100 “Particulate materials –\\n\\nGeneral rules for methods of sampling” was established. (He served as the chair of the Draft Committee.)\\n\\nFQC Award. (Jan., JUSE)', metadata={'source': '/content/gdrive/MyDrive/Projects/Digital_Demming/src_content/ParallelChronology_Ver2_150717.pdf'})]}]\n"
          ]
        }
      ]
    },
    {
      "cell_type": "markdown",
      "source": [
        "Let's see if we can output this to markdown"
      ],
      "metadata": {
        "id": "JiKj9LKC2QN-"
      }
    },
    {
      "cell_type": "code",
      "source": [
        "concatenated_data = [str(item) for item in introduction]\n",
        "for entry in concatenated_data:\n",
        "    print(\"Processing entry: \")\n",
        "    messages = [\n",
        "        SystemMessage(content=\"You are an AI that takes dictionary data and translates it into well formatted markdown. You create sections and subsections to communicate as much information as possible\"),\n",
        "        HumanMessage(content=entry)\n",
        "    ]\n",
        "    result = chat(messages)\n",
        "\n",
        "    print(\"Result: \", result)"
      ],
      "metadata": {
        "colab": {
          "base_uri": "https://localhost:8080/"
        },
        "id": "XOkkfs7n2TKi",
        "outputId": "d735de26-a811-469c-d909-00a8a9bc5a61"
      },
      "execution_count": 31,
      "outputs": [
        {
          "output_type": "stream",
          "name": "stdout",
          "text": [
            "Processing entry: \n",
            "Result:  content='# Total Quality Management (TQM)\\n\\nTQM is a management approach that seeks to improve the quality of products and services by focusing on customer needs and continuously improving processes. It involves all members of an organization and emphasizes the importance of teamwork and communication.\\n\\n## Source Documents\\n\\nThe information provided is sourced from the following documents:\\n\\n- Medal. (ASQC)\\n- The Pharmaceutical Manufacturing and Quality Control (GMP) Seminar was held. (Sep., JUSE)\\n- The Japan Prefabricated Construction Suppliers and Manufacturers Association held TQC seminars.\\n- Noboru Takagi was elected as the 22nd president of the IEC.\\n- The 4th ICPR Conference (IE international conference) was held.\\n- The 24th QCS: Quality design and process design written and edited by Ishikawa was published. (The second edition was published in April, 1988, JSA)\\n- The 25th QCS: Small-group activities and QC.\\n- AGREE: Advisory Group on Reliability of Electronic Equipment\\n- AOTS: Association for Overseas Technical Scholarship\\n- APO: Asian Productivity Organization\\n- ASA: American Standards Association\\n- ASQC: American Society for Quality Control\\n- BS: British Standards\\n- CCS: Civil Communication Section\\n- COSCO: Control System Committee\\n- EOQC: European Organization for Quality Control\\n- EOQ: European Organization for Quality\\n- EFQM: European Foundation for Quality Management\\n- FMES: Japan Federation of Managerial Engineering Societies\\n\\n## Major Events in the Development of QC\\n\\n- The Construction Industry TQC Institute of Technology.\\n- Round-table Conference was held. (JSA)\\n- He became the director of Goto-Ikueikai.\\n- He became the director of the Tokyu Foundation for Foreign Students.\\n- He became the chairperson of the board of directors of the Japan-China Industrial Technology and Culture Center. (–82)\\n- A ceremony to celebrate the 10th anniversary of Deming Prize was held, inviting Deming, Rao, Wilks, Cochran, and Hamerker. (JUSE)\\n- Dr. Deming was awarded with the Second Class Order of the Sacred Treasure.\\n- It was decided to establish November as “Quality Month” and the QC promotion banner was adopted. During this month, lectures were held around the country. Quality Month textbooks were published, and promotional posters were distributed.\\n- An NHK educational program The Quality of Japanese Products (the Quality Month Broadcast) was broadcast on NHK Radio 2.\\n- The Association of Technical High School Principals started QC lectures.\\n- After the reorganization of the Deming Application Prize. It was the first construction company to win the prize. (Nov.)\\n- A committee to research QC in the service industry was established. (Nov., commissioned by the Ministry of the Environment.)\\n- His book Control Points of Quality (joint authorship) (Zeimukeiri Kyokai) was awarded Nikkei Quality Control Literature Prize.\\n- The 28th QCS: New product planning and market research.\\n- The 29th QCS: Future Quality Control—challenges in the 1980s.\\n- He became a council member of the Japan Standards Association. (–84)\\n- He became a council member of the Japanese Society for Quality Control. (–82)\\n- He became the chair of the Nuclear Power Plant Quality Assurance Review Committee. (MITI)\\n- He became the chair of the Management Research Group of Japan-China Economic Association.' additional_kwargs={} example=False\n",
            "Processing entry: \n",
            "Result:  content='# Introduction to Total Quality Management (TQM)\\n\\nTotal Quality Management (TQM) is a comprehensive business management strategy that aims to promote and maintain excellence in all aspects of an organization. It is a holistic approach to managing organizational processes and operations, and it is focused on continuous improvement of quality in order to achieve customer satisfaction. TQM applies to organizations of all sizes and in all industries, and it involves everyone in the organization, from the top management to the frontline workers.\\n\\n## Importance of TQM in the Modern Business World\\n\\nTQM strives to increase the efficiency of operations by reducing waste and cycle times, and improving accuracy and reliability. It also works to increase customer satisfaction and loyalty by consistently delivering quality products and services. TQM helps organizations to develop and implement systems and processes that ensure products and services are produced with the highest possible quality. It encourages collaboration between different departments and teams, and empowers employees to identify and address potential quality issues.\\n\\nTQM has proven to be a highly effective way for organizations to become more competitive, increase customer satisfaction and loyalty, and improve overall operational efficiency. It is a long-term strategy that requires commitment and dedication from the entire organization in order to be successful.\\n\\nIn summary, TQM is a crucial strategy for modern businesses to achieve excellence in all aspects of their operations, increase customer satisfaction and loyalty, and improve overall efficiency.' additional_kwargs={} example=False\n",
            "Processing entry: \n",
            "Result:  content=\"# Introduction to Kaoru Ishikawa and the Japanese Union of Scientists and Engineers (JUSE)\\n\\nKaoru Ishikawa was a professor at the University of Tokyo in the 4th Fuel Engineering Laboratory. He was also an instructor of the QC Basic Course at the Japanese Union of Scientists and Engineers (JUSE) and the chair of the editorial board of Genba To QC-magazine. He was awarded the Fuel Society of Japan Award in 1962 and became the vice-chair of the Editorial Committee of Hinshitsu Kanri (Statistical Quality Control) in 1950.\\n\\n## Kaoru Ishikawa's Life\\n\\n- He was a professor at the University of Tokyo in the 4th Fuel Engineering Laboratory.\\n- He became an instructor of the QC Basic Course at the Japanese Union of Scientists and Engineers (JUSE).\\n- He was awarded the Fuel Society of Japan Award in 1962.\\n- He became the vice-chair of the Editorial Committee of Hinshitsu Kanri (Statistical Quality Control) in 1950.\\n\\n## Major Events in the Development of QC\\n\\n- JUSE started publication of Hinshitsu Kanri (Statistical Quality Control) in March.\\n- He gave the first lecture in the QC Basic Course and introduced Rice’s Control Chart in July.\\n- The QC Seminar for Managers and the QC Seminar for Supervisors started.\\n- The Design of Experiment Seminar was held.\\n- The JUSE Press, LTD. was established in June. (Renamed JUSE Press, Ltd. in Nov. 1966)\\n- The first issue of Operations Research journal was published in June, JUSE.\" additional_kwargs={} example=False\n",
            "Processing entry: \n",
            "Result:  content=\"# Thesis Statement on TQM, Kaoru Ishikawa, and Japanese Union of Scientists and Engineers\\n\\nKaoru Ishikawa's lifelong commitment to Total Quality Management (TQM) through his involvement in the Japanese Union of Scientists and Engineers has had a lasting impact on the development of quality control in Japan.\\n\\n## Introduction\\nTotal Quality Management (TQM) is a management approach that seeks to optimize the quality of products and services by involving all employees in the organization. Kaoru Ishikawa was a Japanese engineer and quality control expert who made significant contributions to the development of TQM. He was also a key figure in the Japanese Union of Scientists and Engineers, which played a crucial role in promoting TQM in Japan.\\n\\n## Kaoru Ishikawa's Life and Contributions\\nKaoru Ishikawa was born in 1915 and became an associate professor at the First Faculty of Engineering, Tokyo Imperial University. He started research on coal briquettes and began studying statistical methods with Masumasa Imaizumi at the University of Tokyo. Ishikawa became a member of the Japanese Association of University Professors and the Japanese Society for Engineering Education. He also gave a special lecture and acted as a discussion leader at the Quality Control Symposium held in Tokyo, welcoming representatives from various countries in Asia.\\n\\nIshikawa's contributions to TQM include the development of the Ishikawa diagram, also known as the fishbone diagram, which is a tool used to identify the root cause of a problem. He also emphasized the importance of involving all employees in the quality control process and promoting a culture of continuous improvement.\\n\\n## Japanese Union of Scientists and Engineers\\nThe Japanese Union of Scientists and Engineers (JUSE) was founded in 1946 and played a crucial role in promoting TQM in Japan. JUSE established the Quality Control Symposium, which became an annual event that brought together experts from around the world to share their knowledge and experiences in quality control.\\n\\nIshikawa was a key figure in JUSE and served as its president from 1968 to 1970. He also established the Quality Control Research Group, which focused on promoting TQM in Japan and developing new quality control techniques.\\n\\n## Conclusion\\nKaoru Ishikawa's lifelong commitment to TQM and his involvement in the Japanese Union of Scientists and Engineers had a significant impact on the development of quality control in Japan. His contributions to the field of quality control, including the development of the Ishikawa diagram and his emphasis on involving all employees in the quality control process, continue to be relevant today.\" additional_kwargs={} example=False\n"
          ]
        }
      ]
    },
    {
      "cell_type": "markdown",
      "source": [
        "## II. Early History of Quality Management\n",
        "- Brief description of quality management before TQM\n",
        "- Introduction to foundational concepts: Inspection, Quality Control, and Quality Assurance\n",
        "- The rise of statistical process control and its significance"
      ],
      "metadata": {
        "id": "ugA0XFEvwoAC"
      }
    },
    {
      "cell_type": "markdown",
      "source": [
        "## III. The Birth and Evolution of TQM\n",
        "- Introduction to the concept of TQM\n",
        "- Overview of the principles and practices of TQM\n",
        "- The role of TQM in post-World War II Japan's industrial comeback\n",
        "- Adoption and evolution of TQM in the United States and around the world"
      ],
      "metadata": {
        "id": "l8pKsaLgwqBa"
      }
    },
    {
      "cell_type": "markdown",
      "source": [
        "## IV. The Role of Kaoru Ishikawa in the Development of TQM\n",
        "- Introduction to Ishikawa: his background and career\n",
        "- Ishikawa's contribution to the development of Quality Circles\n",
        "- The development and importance of the Ishikawa (cause-and-effect) Diagram\n",
        "- Ishikawa's philosophical contribution to TQM: the 'next process is your customer'\n"
      ],
      "metadata": {
        "id": "VwNC3dSEwsVx"
      }
    },
    {
      "cell_type": "markdown",
      "source": [
        "## V. The Role of the Japanese Union of Scientists and Engineers (JUSE)\n",
        "- Background of JUSE and its role in the development of quality management in Japan\n",
        "- Introduction of the Deming Prize by JUSE and its significance\n",
        "- JUSE's role in promoting TQM and its principles in Japan and globally\n"
      ],
      "metadata": {
        "id": "DqjyPiaQwvf0"
      }
    },
    {
      "cell_type": "markdown",
      "source": [
        "## VI. The Impact of TQM, Ishikawa, and JUSE on Contemporary Business Practices\n",
        "- Analysis of the role TQM plays in today's business and management practices\n",
        "- The legacy of Ishikawa's methods and tools in current quality management\n",
        "- Influence of JUSE's principles in contemporary quality initiatives and awards\n"
      ],
      "metadata": {
        "id": "0KeRuCyHwzH3"
      }
    },
    {
      "cell_type": "markdown",
      "source": [
        "## VII. Conclusion\n",
        "- Summary of the importance and influence of TQM, Ishikawa, and JUSE in the field of quality management\n",
        "- Restatement of Thesis\n",
        "- Future implications of the principles and practices of TQM, Ishikawa, and JUSE in the global business landscape"
      ],
      "metadata": {
        "id": "FUefWHRXw1lo"
      }
    }
  ]
}