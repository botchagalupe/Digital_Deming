{
  "nbformat": 4,
  "nbformat_minor": 0,
  "metadata": {
    "colab": {
      "provenance": [],
      "authorship_tag": "ABX9TyM9Jlw2l4wM4cs2c7GAzm8T",
      "include_colab_link": true
    },
    "kernelspec": {
      "name": "python3",
      "display_name": "Python 3"
    },
    "language_info": {
      "name": "python"
    }
  },
  "cells": [
    {
      "cell_type": "markdown",
      "metadata": {
        "id": "view-in-github",
        "colab_type": "text"
      },
      "source": [
        "<a href=\"https://colab.research.google.com/github/colinmcnamara/Digital_Deming/blob/main/Digital_Deming.ipynb\" target=\"_parent\"><img src=\"https://colab.research.google.com/assets/colab-badge.svg\" alt=\"Open In Colab\"/></a>"
      ]
    },
    {
      "cell_type": "markdown",
      "source": [
        "# Set up your local environment \n",
        "\n",
        "On intial run of \"import colab_env\" it will create vars.env in the root of your Google Drive\n",
        "\n",
        "COLAB_ENV = Active\n",
        "\n",
        "export OPENAI_API_KEY = \"your_key\"\n",
        "\n",
        "export SERPAPI_API_KEY = \"your_key\"\n"
      ],
      "metadata": {
        "id": "MYHpBGCb9huK"
      }
    },
    {
      "cell_type": "markdown",
      "source": [
        "Install my local packages"
      ],
      "metadata": {
        "id": "s18SqtmEhRfZ"
      }
    },
    {
      "cell_type": "code",
      "execution_count": 86,
      "metadata": {
        "colab": {
          "base_uri": "https://localhost:8080/"
        },
        "id": "kLG6Xcprwh9m",
        "outputId": "3d9c3604-7bb0-4fbd-f550-e0e2c65c1f84"
      },
      "outputs": [
        {
          "output_type": "stream",
          "name": "stdout",
          "text": [
            "Looking in indexes: https://pypi.org/simple, https://us-python.pkg.dev/colab-wheels/public/simple/\n",
            "Requirement already satisfied: OpenAI in /usr/local/lib/python3.10/dist-packages (0.27.8)\n",
            "Requirement already satisfied: langchain in /usr/local/lib/python3.10/dist-packages (0.0.195)\n",
            "Requirement already satisfied: pydantic in /usr/local/lib/python3.10/dist-packages (1.10.7)\n",
            "Requirement already satisfied: faiss-gpu in /usr/local/lib/python3.10/dist-packages (1.7.2)\n",
            "Requirement already satisfied: colab-env in /usr/local/lib/python3.10/dist-packages (0.2.0)\n",
            "Requirement already satisfied: unstructured in /usr/local/lib/python3.10/dist-packages (0.7.2)\n",
            "Requirement already satisfied: chromadb in /usr/local/lib/python3.10/dist-packages (0.3.26)\n",
            "Requirement already satisfied: tiktoken in /usr/local/lib/python3.10/dist-packages (0.4.0)\n",
            "Requirement already satisfied: pdf2image in /usr/local/lib/python3.10/dist-packages (1.16.3)\n",
            "Requirement already satisfied: requests>=2.20 in /usr/local/lib/python3.10/dist-packages (from OpenAI) (2.31.0)\n",
            "Requirement already satisfied: tqdm in /usr/local/lib/python3.10/dist-packages (from OpenAI) (4.65.0)\n",
            "Requirement already satisfied: aiohttp in /usr/local/lib/python3.10/dist-packages (from OpenAI) (3.8.4)\n",
            "Requirement already satisfied: PyYAML>=5.4.1 in /usr/local/lib/python3.10/dist-packages (from langchain) (6.0)\n",
            "Requirement already satisfied: SQLAlchemy<3,>=1.4 in /usr/local/lib/python3.10/dist-packages (from langchain) (2.0.10)\n",
            "Requirement already satisfied: async-timeout<5.0.0,>=4.0.0 in /usr/local/lib/python3.10/dist-packages (from langchain) (4.0.2)\n",
            "Requirement already satisfied: dataclasses-json<0.6.0,>=0.5.7 in /usr/local/lib/python3.10/dist-packages (from langchain) (0.5.7)\n",
            "Requirement already satisfied: langchainplus-sdk>=0.0.7 in /usr/local/lib/python3.10/dist-packages (from langchain) (0.0.7)\n",
            "Requirement already satisfied: numexpr<3.0.0,>=2.8.4 in /usr/local/lib/python3.10/dist-packages (from langchain) (2.8.4)\n",
            "Requirement already satisfied: numpy<2,>=1 in /usr/local/lib/python3.10/dist-packages (from langchain) (1.22.4)\n",
            "Requirement already satisfied: openapi-schema-pydantic<2.0,>=1.2 in /usr/local/lib/python3.10/dist-packages (from langchain) (1.2.4)\n",
            "Requirement already satisfied: tenacity<9.0.0,>=8.1.0 in /usr/local/lib/python3.10/dist-packages (from langchain) (8.2.2)\n",
            "Requirement already satisfied: typing-extensions>=4.2.0 in /usr/local/lib/python3.10/dist-packages (from pydantic) (4.5.0)\n",
            "Requirement already satisfied: python-dotenv<1.0,>=0.10.0 in /usr/local/lib/python3.10/dist-packages (from colab-env) (0.21.1)\n",
            "Requirement already satisfied: argilla in /usr/local/lib/python3.10/dist-packages (from unstructured) (1.9.0)\n",
            "Requirement already satisfied: chardet in /usr/local/lib/python3.10/dist-packages (from unstructured) (4.0.0)\n",
            "Requirement already satisfied: lxml in /usr/local/lib/python3.10/dist-packages (from unstructured) (4.9.2)\n",
            "Requirement already satisfied: msg-parser in /usr/local/lib/python3.10/dist-packages (from unstructured) (1.2.0)\n",
            "Requirement already satisfied: nltk in /usr/local/lib/python3.10/dist-packages (from unstructured) (3.8.1)\n",
            "Requirement already satisfied: openpyxl in /usr/local/lib/python3.10/dist-packages (from unstructured) (3.0.10)\n",
            "Requirement already satisfied: pandas in /usr/local/lib/python3.10/dist-packages (from unstructured) (1.5.3)\n",
            "Requirement already satisfied: pdfminer.six in /usr/local/lib/python3.10/dist-packages (from unstructured) (20221105)\n",
            "Requirement already satisfied: pillow in /usr/local/lib/python3.10/dist-packages (from unstructured) (8.4.0)\n",
            "Requirement already satisfied: pypandoc in /usr/local/lib/python3.10/dist-packages (from unstructured) (1.11)\n",
            "Requirement already satisfied: python-docx in /usr/local/lib/python3.10/dist-packages (from unstructured) (0.8.11)\n",
            "Requirement already satisfied: python-pptx in /usr/local/lib/python3.10/dist-packages (from unstructured) (0.6.21)\n",
            "Requirement already satisfied: python-magic in /usr/local/lib/python3.10/dist-packages (from unstructured) (0.4.27)\n",
            "Requirement already satisfied: markdown in /usr/local/lib/python3.10/dist-packages (from unstructured) (3.4.3)\n",
            "Requirement already satisfied: tabulate in /usr/local/lib/python3.10/dist-packages (from unstructured) (0.8.10)\n",
            "Requirement already satisfied: xlrd in /usr/local/lib/python3.10/dist-packages (from unstructured) (2.0.1)\n",
            "Requirement already satisfied: hnswlib>=0.7 in /usr/local/lib/python3.10/dist-packages (from chromadb) (0.7.0)\n",
            "Requirement already satisfied: clickhouse-connect>=0.5.7 in /usr/local/lib/python3.10/dist-packages (from chromadb) (0.6.1)\n",
            "Requirement already satisfied: duckdb>=0.7.1 in /usr/local/lib/python3.10/dist-packages (from chromadb) (0.7.1)\n",
            "Requirement already satisfied: fastapi>=0.85.1 in /usr/local/lib/python3.10/dist-packages (from chromadb) (0.96.0)\n",
            "Requirement already satisfied: uvicorn[standard]>=0.18.3 in /usr/local/lib/python3.10/dist-packages (from chromadb) (0.22.0)\n",
            "Requirement already satisfied: posthog>=2.4.0 in /usr/local/lib/python3.10/dist-packages (from chromadb) (3.0.1)\n",
            "Requirement already satisfied: pulsar-client>=3.1.0 in /usr/local/lib/python3.10/dist-packages (from chromadb) (3.2.0)\n",
            "Requirement already satisfied: onnxruntime>=1.14.1 in /usr/local/lib/python3.10/dist-packages (from chromadb) (1.15.0)\n",
            "Requirement already satisfied: tokenizers>=0.13.2 in /usr/local/lib/python3.10/dist-packages (from chromadb) (0.13.3)\n",
            "Requirement already satisfied: overrides>=7.3.1 in /usr/local/lib/python3.10/dist-packages (from chromadb) (7.3.1)\n",
            "Requirement already satisfied: regex>=2022.1.18 in /usr/local/lib/python3.10/dist-packages (from tiktoken) (2022.10.31)\n",
            "Requirement already satisfied: attrs>=17.3.0 in /usr/local/lib/python3.10/dist-packages (from aiohttp->OpenAI) (23.1.0)\n",
            "Requirement already satisfied: charset-normalizer<4.0,>=2.0 in /usr/local/lib/python3.10/dist-packages (from aiohttp->OpenAI) (2.0.12)\n",
            "Requirement already satisfied: multidict<7.0,>=4.5 in /usr/local/lib/python3.10/dist-packages (from aiohttp->OpenAI) (6.0.4)\n",
            "Requirement already satisfied: yarl<2.0,>=1.0 in /usr/local/lib/python3.10/dist-packages (from aiohttp->OpenAI) (1.9.2)\n",
            "Requirement already satisfied: frozenlist>=1.1.1 in /usr/local/lib/python3.10/dist-packages (from aiohttp->OpenAI) (1.3.3)\n",
            "Requirement already satisfied: aiosignal>=1.1.2 in /usr/local/lib/python3.10/dist-packages (from aiohttp->OpenAI) (1.3.1)\n",
            "Requirement already satisfied: certifi in /usr/local/lib/python3.10/dist-packages (from clickhouse-connect>=0.5.7->chromadb) (2022.12.7)\n",
            "Requirement already satisfied: urllib3>=1.26 in /usr/local/lib/python3.10/dist-packages (from clickhouse-connect>=0.5.7->chromadb) (1.26.15)\n",
            "Requirement already satisfied: pytz in /usr/local/lib/python3.10/dist-packages (from clickhouse-connect>=0.5.7->chromadb) (2022.7.1)\n",
            "Requirement already satisfied: zstandard in /usr/local/lib/python3.10/dist-packages (from clickhouse-connect>=0.5.7->chromadb) (0.21.0)\n",
            "Requirement already satisfied: lz4 in /usr/local/lib/python3.10/dist-packages (from clickhouse-connect>=0.5.7->chromadb) (4.3.2)\n",
            "Requirement already satisfied: marshmallow<4.0.0,>=3.3.0 in /usr/local/lib/python3.10/dist-packages (from dataclasses-json<0.6.0,>=0.5.7->langchain) (3.19.0)\n",
            "Requirement already satisfied: marshmallow-enum<2.0.0,>=1.5.1 in /usr/local/lib/python3.10/dist-packages (from dataclasses-json<0.6.0,>=0.5.7->langchain) (1.5.1)\n",
            "Requirement already satisfied: typing-inspect>=0.4.0 in /usr/local/lib/python3.10/dist-packages (from dataclasses-json<0.6.0,>=0.5.7->langchain) (0.9.0)\n",
            "Requirement already satisfied: starlette<0.28.0,>=0.27.0 in /usr/local/lib/python3.10/dist-packages (from fastapi>=0.85.1->chromadb) (0.27.0)\n",
            "Requirement already satisfied: coloredlogs in /usr/local/lib/python3.10/dist-packages (from onnxruntime>=1.14.1->chromadb) (15.0.1)\n",
            "Requirement already satisfied: flatbuffers in /usr/local/lib/python3.10/dist-packages (from onnxruntime>=1.14.1->chromadb) (23.3.3)\n",
            "Requirement already satisfied: packaging in /usr/local/lib/python3.10/dist-packages (from onnxruntime>=1.14.1->chromadb) (23.1)\n",
            "Requirement already satisfied: protobuf in /usr/local/lib/python3.10/dist-packages (from onnxruntime>=1.14.1->chromadb) (3.20.3)\n",
            "Requirement already satisfied: sympy in /usr/local/lib/python3.10/dist-packages (from onnxruntime>=1.14.1->chromadb) (1.11.1)\n",
            "Requirement already satisfied: python-dateutil>=2.8.1 in /usr/local/lib/python3.10/dist-packages (from pandas->unstructured) (2.8.2)\n",
            "Requirement already satisfied: six>=1.5 in /usr/local/lib/python3.10/dist-packages (from posthog>=2.4.0->chromadb) (1.16.0)\n",
            "Requirement already satisfied: monotonic>=1.5 in /usr/local/lib/python3.10/dist-packages (from posthog>=2.4.0->chromadb) (1.6)\n",
            "Requirement already satisfied: backoff>=1.10.0 in /usr/local/lib/python3.10/dist-packages (from posthog>=2.4.0->chromadb) (2.2.1)\n",
            "Requirement already satisfied: idna<4,>=2.5 in /usr/local/lib/python3.10/dist-packages (from requests>=2.20->OpenAI) (3.4)\n",
            "Requirement already satisfied: greenlet!=0.4.17 in /usr/local/lib/python3.10/dist-packages (from SQLAlchemy<3,>=1.4->langchain) (2.0.2)\n",
            "Requirement already satisfied: click>=7.0 in /usr/local/lib/python3.10/dist-packages (from uvicorn[standard]>=0.18.3->chromadb) (8.1.3)\n",
            "Requirement already satisfied: h11>=0.8 in /usr/local/lib/python3.10/dist-packages (from uvicorn[standard]>=0.18.3->chromadb) (0.14.0)\n",
            "Requirement already satisfied: httptools>=0.5.0 in /usr/local/lib/python3.10/dist-packages (from uvicorn[standard]>=0.18.3->chromadb) (0.5.0)\n",
            "Requirement already satisfied: uvloop!=0.15.0,!=0.15.1,>=0.14.0 in /usr/local/lib/python3.10/dist-packages (from uvicorn[standard]>=0.18.3->chromadb) (0.17.0)\n",
            "Requirement already satisfied: watchfiles>=0.13 in /usr/local/lib/python3.10/dist-packages (from uvicorn[standard]>=0.18.3->chromadb) (0.19.0)\n",
            "Requirement already satisfied: websockets>=10.4 in /usr/local/lib/python3.10/dist-packages (from uvicorn[standard]>=0.18.3->chromadb) (11.0.3)\n",
            "Requirement already satisfied: httpx<0.24,>=0.15 in /usr/local/lib/python3.10/dist-packages (from argilla->unstructured) (0.23.3)\n",
            "Requirement already satisfied: deprecated~=1.2.0 in /usr/local/lib/python3.10/dist-packages (from argilla->unstructured) (1.2.14)\n",
            "Requirement already satisfied: wrapt<1.15,>=1.13 in /usr/local/lib/python3.10/dist-packages (from argilla->unstructured) (1.14.1)\n",
            "Requirement already satisfied: rich<=13.0.1 in /usr/local/lib/python3.10/dist-packages (from argilla->unstructured) (13.0.1)\n",
            "Requirement already satisfied: typer<1.0.0,>=0.6.0 in /usr/local/lib/python3.10/dist-packages (from argilla->unstructured) (0.7.0)\n",
            "Requirement already satisfied: olefile>=0.46 in /usr/local/lib/python3.10/dist-packages (from msg-parser->unstructured) (0.46)\n",
            "Requirement already satisfied: joblib in /usr/local/lib/python3.10/dist-packages (from nltk->unstructured) (1.2.0)\n",
            "Requirement already satisfied: et-xmlfile in /usr/local/lib/python3.10/dist-packages (from openpyxl->unstructured) (1.1.0)\n",
            "Requirement already satisfied: cryptography>=36.0.0 in /usr/local/lib/python3.10/dist-packages (from pdfminer.six->unstructured) (40.0.2)\n",
            "Requirement already satisfied: XlsxWriter>=0.5.7 in /usr/local/lib/python3.10/dist-packages (from python-pptx->unstructured) (3.1.2)\n",
            "Requirement already satisfied: cffi>=1.12 in /usr/local/lib/python3.10/dist-packages (from cryptography>=36.0.0->pdfminer.six->unstructured) (1.15.1)\n",
            "Requirement already satisfied: httpcore<0.17.0,>=0.15.0 in /usr/local/lib/python3.10/dist-packages (from httpx<0.24,>=0.15->argilla->unstructured) (0.16.3)\n",
            "Requirement already satisfied: rfc3986[idna2008]<2,>=1.3 in /usr/local/lib/python3.10/dist-packages (from httpx<0.24,>=0.15->argilla->unstructured) (1.5.0)\n",
            "Requirement already satisfied: sniffio in /usr/local/lib/python3.10/dist-packages (from httpx<0.24,>=0.15->argilla->unstructured) (1.3.0)\n",
            "Requirement already satisfied: commonmark<0.10.0,>=0.9.0 in /usr/local/lib/python3.10/dist-packages (from rich<=13.0.1->argilla->unstructured) (0.9.1)\n",
            "Requirement already satisfied: pygments<3.0.0,>=2.6.0 in /usr/local/lib/python3.10/dist-packages (from rich<=13.0.1->argilla->unstructured) (2.14.0)\n",
            "Requirement already satisfied: anyio<5,>=3.4.0 in /usr/local/lib/python3.10/dist-packages (from starlette<0.28.0,>=0.27.0->fastapi>=0.85.1->chromadb) (3.6.2)\n",
            "Requirement already satisfied: mypy-extensions>=0.3.0 in /usr/local/lib/python3.10/dist-packages (from typing-inspect>=0.4.0->dataclasses-json<0.6.0,>=0.5.7->langchain) (1.0.0)\n",
            "Requirement already satisfied: humanfriendly>=9.1 in /usr/local/lib/python3.10/dist-packages (from coloredlogs->onnxruntime>=1.14.1->chromadb) (10.0)\n",
            "Requirement already satisfied: mpmath>=0.19 in /usr/local/lib/python3.10/dist-packages (from sympy->onnxruntime>=1.14.1->chromadb) (1.3.0)\n",
            "Requirement already satisfied: pycparser in /usr/local/lib/python3.10/dist-packages (from cffi>=1.12->cryptography>=36.0.0->pdfminer.six->unstructured) (2.21)\n"
          ]
        }
      ],
      "source": [
        "pip install OpenAI langchain pydantic faiss-gpu colab-env unstructured chromadb tiktoken pdf2image faiss-gpu"
      ]
    },
    {
      "cell_type": "markdown",
      "source": [
        "Yo, let's import our local env so we don't have to show the world our keys"
      ],
      "metadata": {
        "id": "thnn1Guth9nA"
      }
    },
    {
      "cell_type": "code",
      "execution_count": 87,
      "metadata": {
        "id": "bIQmA_whelu1"
      },
      "outputs": [],
      "source": [
        "import colab_env"
      ]
    },
    {
      "cell_type": "markdown",
      "source": [
        "Let's import our python modules"
      ],
      "metadata": {
        "id": "NoZ4EBVsiqMf"
      }
    },
    {
      "cell_type": "code",
      "source": [
        "from langchain.embeddings.openai import OpenAIEmbeddings\n",
        "from langchain.vectorstores import Chroma\n",
        "from langchain.text_splitter import CharacterTextSplitter\n",
        "from langchain.text_splitter import RecursiveCharacterTextSplitter\n",
        "from langchain import OpenAI, VectorDBQA\n",
        "from langchain.chains import RetrievalQA\n",
        "from langchain.chains import RetrievalQAWithSourcesChain\n",
        "from langchain.document_loaders import DirectoryLoader\n",
        "from langchain.prompts import PromptTemplate\n",
        "from langchain.llms import OpenAI\n",
        "from langchain.agents import load_tools\n",
        "from langchain.agents import initialize_agent\n",
        "from langchain.agents import AgentType\n",
        "from langchain.chat_models import ChatOpenAI\n",
        "from langchain.schema import (\n",
        "    AIMessage,\n",
        "    HumanMessage,\n",
        "    SystemMessage\n",
        ")\n",
        "import magic\n",
        "import os\n",
        "import nltk\n",
        "import textwrap\n",
        "\n"
      ],
      "metadata": {
        "id": "dThYIPCKjKcS"
      },
      "execution_count": 88,
      "outputs": []
    },
    {
      "cell_type": "markdown",
      "source": [
        "Let's set the temperature of our AI models"
      ],
      "metadata": {
        "id": "MH2-7NiKjdkE"
      }
    },
    {
      "cell_type": "code",
      "source": [
        "llm = OpenAI(temperature=0)\n",
        "chat = ChatOpenAI(temperature=0)"
      ],
      "metadata": {
        "id": "Imm3MHuFjh_N"
      },
      "execution_count": 89,
      "outputs": []
    },
    {
      "cell_type": "markdown",
      "source": [
        "Let's specify the directory and file type for our Demming source docs"
      ],
      "metadata": {
        "id": "zz19cRbakQdZ"
      }
    },
    {
      "cell_type": "code",
      "execution_count": 90,
      "metadata": {
        "id": "e8a28a08"
      },
      "outputs": [],
      "source": [
        "loader = DirectoryLoader('/content/gdrive/MyDrive/Projects/Digital_Deming/src_content', glob='**/*.pdf')"
      ]
    },
    {
      "cell_type": "markdown",
      "source": [
        "Load our documents\n"
      ],
      "metadata": {
        "id": "1bXP4IjLmc9D"
      }
    },
    {
      "cell_type": "code",
      "source": [
        "documents = loader.load()"
      ],
      "metadata": {
        "id": "yYcyBEQcmfEB"
      },
      "execution_count": 91,
      "outputs": []
    },
    {
      "cell_type": "markdown",
      "source": [
        "Check how many documents are loaded"
      ],
      "metadata": {
        "id": "LdhzQ0Yrmj-r"
      }
    },
    {
      "cell_type": "code",
      "source": [
        "len (documents)"
      ],
      "metadata": {
        "colab": {
          "base_uri": "https://localhost:8080/"
        },
        "id": "47e8iE6Imgwk",
        "outputId": "c00dd218-3b68-4b7c-b6db-c2b34eacdb12"
      },
      "execution_count": 92,
      "outputs": [
        {
          "output_type": "execute_result",
          "data": {
            "text/plain": [
              "1"
            ]
          },
          "metadata": {},
          "execution_count": 92
        }
      ]
    },
    {
      "cell_type": "markdown",
      "source": [
        "Let's split our document up into chunks"
      ],
      "metadata": {
        "id": "6LMzp2tkmp_z"
      }
    },
    {
      "cell_type": "code",
      "execution_count": 93,
      "metadata": {
        "id": "3153f864"
      },
      "outputs": [],
      "source": [
        "#text_splitter = CharacterTextSplitter(chunk_size=1000, chunk_overlap=0)\n",
        "text_splitter = RecursiveCharacterTextSplitter(\n",
        "    # Set a really small chunk size, just to show.\n",
        "    chunk_size = 1000,\n",
        "    chunk_overlap  = 20,\n",
        "    length_function = len,\n",
        "    separators=[\"\\n\\n\", \"\\n\", \" \", \"\"]\n",
        ")"
      ]
    },
    {
      "cell_type": "markdown",
      "source": [
        "Let' create a variable named texts, and split these documents into it"
      ],
      "metadata": {
        "id": "VBPEkFIenBaf"
      }
    },
    {
      "cell_type": "code",
      "source": [
        "texts = text_splitter.split_documents(documents)"
      ],
      "metadata": {
        "id": "hG6BjgOunHLQ"
      },
      "execution_count": 94,
      "outputs": []
    },
    {
      "cell_type": "markdown",
      "source": [
        "Let's tell it that we want it to use OpenAI embeddings, and tell it what env variable the key is held"
      ],
      "metadata": {
        "id": "tFdzlP2anIlJ"
      }
    },
    {
      "cell_type": "code",
      "source": [
        "embeddings = OpenAIEmbeddings(openai_api_key=os.environ['OPENAI_API_KEY'])"
      ],
      "metadata": {
        "id": "lglhxYJZnUZt"
      },
      "execution_count": 95,
      "outputs": []
    },
    {
      "cell_type": "markdown",
      "source": [
        "Let's create a variable named docsearch, and pull from Chroma vectorstore including texts, and the embeddings)"
      ],
      "metadata": {
        "id": "3nZoNACcnVhj"
      }
    },
    {
      "cell_type": "code",
      "source": [
        "docsearch = Chroma.from_documents(texts, embeddings)"
      ],
      "metadata": {
        "id": "Ts7ek3lBnf2O"
      },
      "execution_count": 96,
      "outputs": []
    },
    {
      "cell_type": "markdown",
      "source": [
        "define qa chain, which pulls from VectorDBQA, and use the LLM chain named OpenAI. We specify that it \"Stuff\"'s all the data in. We could use \"map_reduce\" instead to optimize for performance and scale. Let's tell it to use the vectorstore we defined earlier named docsearch\n",
        "\n",
        "note, i'm trying RetrievalQA because VectorDBQA is depricated"
      ],
      "metadata": {
        "id": "7qk5wNDbnjfR"
      }
    },
    {
      "cell_type": "code",
      "execution_count": 97,
      "metadata": {
        "colab": {
          "base_uri": "https://localhost:8080/"
        },
        "id": "ObvvPjUjrAdJ",
        "outputId": "97d442a5-99e4-4e3d-b257-5bd408d838e9"
      },
      "outputs": [
        {
          "output_type": "stream",
          "name": "stderr",
          "text": [
            "/usr/local/lib/python3.10/dist-packages/langchain/chains/retrieval_qa/base.py:206: UserWarning: `VectorDBQA` is deprecated - please use `from langchain.chains import RetrievalQA`\n",
            "  warnings.warn(\n"
          ]
        }
      ],
      "source": [
        "qa = VectorDBQA.from_chain_type(llm=OpenAI(), chain_type=\"stuff\", vectorstore=docsearch, return_source_documents=True)\n",
        "query = \"Describe in depth, what is the foundation of quality. Provide three examples using bullet points\"\n",
        "result = qa({\"query\": query})"
      ]
    },
    {
      "cell_type": "code",
      "execution_count": 98,
      "metadata": {
        "colab": {
          "base_uri": "https://localhost:8080/",
          "height": 89
        },
        "outputId": "4c800183-fc4c-4ede-d090-b1d2178656b5",
        "id": "00AVxSEVrAdQ"
      },
      "outputs": [
        {
          "output_type": "execute_result",
          "data": {
            "text/plain": [
              "'\\n\\nThe foundation of quality is the implementation of a set of quality control processes and systems that ensure products and services meet customer expectations. Examples include:\\n\\n• Establishing quality management systems that define how quality is monitored and maintained\\n• Developing quality assurance processes that ensure products and services meet customer expectations\\n• Implementing quality control processes that identify and address potential quality issues before they become a problem'"
            ],
            "application/vnd.google.colaboratory.intrinsic+json": {
              "type": "string"
            }
          },
          "metadata": {},
          "execution_count": 98
        }
      ],
      "source": [
        "result['result']"
      ]
    },
    {
      "cell_type": "code",
      "execution_count": 99,
      "metadata": {
        "colab": {
          "base_uri": "https://localhost:8080/"
        },
        "outputId": "f0b0cd63-d1a6-4f26-9216-18912458b916",
        "id": "0vXQN55ZrAdQ"
      },
      "outputs": [
        {
          "output_type": "execute_result",
          "data": {
            "text/plain": [
              "[Document(page_content='Major Events in the Development of QC\\n\\nCourse. (July–Dec. 1957, JUSE)\\n\\n\\uf09f The Chugoku Quality Control Research Group was established. (JSA Hiroshima) \\uf09f The Design of Experiment Seminar was\\n\\nheld. (JSA)\\n\\n\\uf09f The European Organization for Quality\\n\\nControl (EOQC) was founded.\\n\\n\\uf09f A. V. Feigenbaum published his thesis titled “Total Quality Control” in the Harvard Business Review.\\n\\n1957\\n\\n\\uf09f He appeared as a lecturer on NHK’s radio\\n\\n\\uf09f The first Spring QC Conference was\\n\\nprograms. (–62, NHK Radio 2)\\n\\nheld. (Osaka, May, JUSE)\\n\\n\\uf09f His article “Points in Preparing In-house Standards” (published in the Hinshitsu Kanri (Statistical Quality Control) [140]) won the Standardization Literature Award.\\n\\n\\uf09f He started playing golf. \\uf09f He published Introduction to Sampling\\n\\n\\uf09f The Operations Research Society of\\n\\nJapan was founded. (June)\\n\\n\\uf09f The QC Seminar for Executives was held\\n\\nin Karuizawa. (July, JUSE)\\n\\n\\uf09f The Sensory Test Seminar was held.\\n\\n(Sep., JUSE)\\n\\n\\uf09f The Kansai QC Research Group was', metadata={'source': '/content/gdrive/MyDrive/Projects/Digital_Deming/src_content/ParallelChronology_Ver2_150717.pdf'}),\n",
              " Document(page_content='\\uf09f The Reliability Introductory Seminar was\\n\\nheld. (Feb., JUSE)\\n\\n\\uf09f The QC Circle Chugoku Regional\\n\\nChapter and Shikoku Regional Chapter were founded. (June, QC Circle Headquarters)\\n\\n\\uf09f The Quality Control Symposium (QCS) was established and decided to hold meetings twice a year. (July, JUSE)\\n\\n\\uf09f The Japan-America Joint\\n\\nSymposium on Bulk Material Sampling was held. (Nov., Tokyo)\\n\\n\\uf09f NEC implemented ZD activity on a\\n\\ncompany-wide level.\\n\\n\\uf09f The New Product Development Class\\n\\nwas held. (JSA)\\n\\n\\uf09f The Tohoku QC Research Group was\\n\\nestablished. (JSA)\\n\\n\\uf09f The 1st QCS: How to introduce, promote\\n\\nand establish QC.\\n\\n\\uf09f The 2nd QCS: The role of QC\\n\\ndepartment.\\n\\n\\uf09f He attended the 10th EOQC Conference held in Stockholm. During the QC circle special discussion, he was invited onto the stage.\\n\\n\\uf09f He became one of six man board of the International Academy for Quality preparation committee. (–69)\\n\\n\\uf09f The Deming Application Prize for\\n\\nDivision was established.', metadata={'source': '/content/gdrive/MyDrive/Projects/Digital_Deming/src_content/ParallelChronology_Ver2_150717.pdf'}),\n",
              " Document(page_content='\\uf09f QC in the production of medical products\\n\\n(JGMP) (The Federation of Pharmaceutical Manufacturers’ Association of Japan)\\n\\n\\uf09f USSR Standardization Delegation visited\\n\\nJapan.\\n\\n\\uf09f China Standardization and Quality\\n\\nControl Delegation visited Japan. (Oct.)\\n\\n\\uf09f Lockheed’s QC Circle Research\\n\\nDelegation visited Japan. (Nov.)\\n\\nLockheed formed the first QC circles\\n\\nin America.\\n\\n\\uf09f Sanuier-Dubal, a French electric motor\\n\\nmanufacturer, formed the first QC circles in Europe.\\n\\n\\uf09f The Product Liability Research Group\\n\\nwas established. (Nov., JUSE)\\n\\n\\uf09f The 17th QCS: Quality assurance and\\n\\nfailure analysis.\\n\\n\\uf09f The 18th QCS: Process capability.\\n\\n(Age 58)\\n\\n513\\n\\nA Parallel Chronology of Prof. Kaoru Ishikawa’s Life and TQC in Japan\\n\\nYear\\n\\n1974\\n\\nProf. Ishikawa’s Life\\n\\nMajor Events in the Development of QC\\n\\n\\uf09f He became the President of the Japanese\\n\\n\\uf09f The QC Circle Tohoku Regional Chapter\\n\\nSociety for Quality Control. (–75)\\n\\n\\uf09f He became the head of the 1st\\n\\nwas founded. (Apr., QC Circle Headquarters)', metadata={'source': '/content/gdrive/MyDrive/Projects/Digital_Deming/src_content/ParallelChronology_Ver2_150717.pdf'}),\n",
              " Document(page_content='1) AGREE: Advisory Group on Reliability of Electronic Equipment 2) AOTS: Association for Overseas Technical Scholarship 3) APO: Asian Productivity Organization 4) ASA: American Standards Association 5) ASQC: American Society for Quality Control 6) BS: British Standards 7) CCS: Civil Communication Section 8) COSCO: Control System Committee 9) EOQC: European Organization for Quality Control 10) EOQ: European Organization for Quality 11) EFQM: European Foundation for Quality Management 12) FMES: Japan Federation of Managerial Engineering Societies\\n\\n524\\n\\nA Parallel Chronology of Prof. Kaoru Ishikawa’s Life and TQC in Japan', metadata={'source': '/content/gdrive/MyDrive/Projects/Digital_Deming/src_content/ParallelChronology_Ver2_150717.pdf'})]"
            ]
          },
          "metadata": {},
          "execution_count": 99
        }
      ],
      "source": [
        "result['source_documents']"
      ]
    },
    {
      "cell_type": "code",
      "source": [],
      "metadata": {
        "id": "R7K8ix2NrfaY"
      },
      "execution_count": 99,
      "outputs": []
    },
    {
      "cell_type": "code",
      "execution_count": 100,
      "metadata": {
        "id": "ClQwd3G_rrIU"
      },
      "outputs": [],
      "source": [
        "qa = VectorDBQA.from_chain_type(llm=OpenAI(), chain_type=\"stuff\", vectorstore=docsearch, return_source_documents=True)\n",
        "#query = \"what is the impact of JUSE on TQM?\"\n",
        "#query = \"what is the purpouse of life?\"\n",
        "#query = \"what does demming like for lunch\"\n",
        "#query = \"is quality like a human\"\n",
        "#query = \"what is the fourth rule of TQM\"\n",
        "#query = \"what is the most important concept in TQM\"\n",
        "#query =  \"WHo won the deming prize?\"\n",
        "#query = \"Is TQM like lean?\"\n",
        "#query = \"How are TQM and Lean different?\"\n",
        "query = \"What is lean?\"\n",
        "\n",
        "result = qa({\"query\": query})"
      ]
    },
    {
      "cell_type": "code",
      "execution_count": 101,
      "metadata": {
        "colab": {
          "base_uri": "https://localhost:8080/",
          "height": 36
        },
        "outputId": "d208d165-4bed-4342-c404-7620c79626cd",
        "id": "_DbSCDZirrIc"
      },
      "outputs": [
        {
          "output_type": "execute_result",
          "data": {
            "text/plain": [
              "\" I don't know.\""
            ],
            "application/vnd.google.colaboratory.intrinsic+json": {
              "type": "string"
            }
          },
          "metadata": {},
          "execution_count": 101
        }
      ],
      "source": [
        "result['result']"
      ]
    },
    {
      "cell_type": "code",
      "execution_count": 102,
      "metadata": {
        "colab": {
          "base_uri": "https://localhost:8080/"
        },
        "outputId": "f74df2da-ae3f-49f4-c51d-f1ac93cfbcff",
        "id": "z0JP3rHTrrIc"
      },
      "outputs": [
        {
          "output_type": "execute_result",
          "data": {
            "text/plain": [
              "[Document(page_content='product liability.\\n\\n1976 March 31\\n\\nApril 1\\n\\n\\uf09f Ishikawa retired from the University of\\n\\n\\uf09f The Iranian QC Research Team visited\\n\\nTokyo.\\n\\nJapan. (APO)\\n\\n\\uf09f He became a professor of the Faculty of Engineering, Science University of Tokyo.\\n\\n\\uf09f The 1st East Asia QC Circle International\\n\\nExchange Meeting was held. (Apr., Seoul)\\n\\nMay 18\\n\\n\\uf09f He became a professor emeritus of the\\n\\n\\uf09f The TQC Promotion Seminar for\\n\\nUniversity of Tokyo.\\n\\n\\uf09f He was awarded with the Asada Medal\\n\\nfrom the Iron and Steel Institute of Japan.\\n\\n\\uf09f He became the head of the 2nd\\n\\nInternationally-Operating Company QC Research Team dispatched to Central and South America. (JUSE)\\n\\n\\uf09f He became a member of PASC. \\uf09f He became an honorary member of the\\n\\nPhilippine Society for Quality.\\n\\n\\uf09f He became the director of JUSE Press. \\uf09f He was awarded with the Fuel Society of\\n\\nPractioners was held. [79–, TQC Seminar for Facilitators] (June, JUSE) \\uf09f “Industrial Standardization Basic', metadata={'source': '/content/gdrive/MyDrive/Projects/Digital_Deming/src_content/ParallelChronology_Ver2_150717.pdf'}),\n",
              " Document(page_content='\\uf09f Shewhart’s Economic Control of Quality of Manufactured Products was published. (1931)\\n\\n\\uf09f Yasushi Ishida devised the control chart, which he called “makimono,” and used to control the production process of lightbulbs. (1931)\\n\\n\\uf09f Kanzo Kiribuchi introduced quality\\n\\ncontrol as “Hinshitsu Tosei” in his book The Science of Industrial Control. (1931) \\uf09f Pearson’s “The Application of Statistical Methods to Industrial Standardization and Quality Control,” which later became BS 600, was published. (1935)\\n\\n\\uf09f Shewhart’s Statistical Method from the Viewpoint of Quality Control was published.\\n\\n1936\\n\\n(Age 21)\\n\\n1937\\n\\n\\uf09f Entered the Department of Applied\\n\\nChemistry, the Faculty of Engineering, Tokyo Imperial University\\n\\n\\uf09f During the summer vacation of his', metadata={'source': '/content/gdrive/MyDrive/Projects/Digital_Deming/src_content/ParallelChronology_Ver2_150717.pdf'}),\n",
              " Document(page_content='\\uf09f The Deming Application Prize for Small Enterprise was established. (Nov.) The first winner was Nakayo, Inc.\\n\\n\\uf09f The Kyushu QC Research Group was\\n\\n(Age 42)\\n\\n1958\\n\\nFeb.\\n\\n(Age 43)\\n\\n\\uf09f Quality Control Guidebook (Vol. 1, Vol.\\n\\nestablished. (JSA)\\n\\n504\\n\\nA Parallel Chronology of Prof. Kaoru Ishikawa’s Life and TQC in Japan\\n\\nYear\\n\\nProf. Ishikawa’s Life\\n\\nMajor Events in the Development of QC\\n\\n2), written and edited by Ishikawa, were published. (A revised edition of Vol. 1 was published in July, 1963 and a revised edition of Vol. 2 was published in Nov., 1964.)\\n\\n\\uf09f The Shikoku QC Research Group was\\n\\nestablished. (JSA)\\n\\n\\uf09f QC slides were released. (JSA) \\uf09f Konishi & Taguchi proposed the linear graph method in their book Orthogonal Array Table and Allocation Type.\\n\\n1959\\n\\nFeb. 1\\n\\n\\uf09f The 1st QCG (QC GOLF) competition\\n\\n\\uf09f Dr. Shewhart visited Japan and gave', metadata={'source': '/content/gdrive/MyDrive/Projects/Digital_Deming/src_content/ParallelChronology_Ver2_150717.pdf'}),\n",
              " Document(page_content='(JUSE Press)\\n\\nThe English edition of Guide to Quality Control (1st ed. 1974, rev. ed. 1976. 2nd rev. ed. 1982), French edition (1984), Italian edition (1985), Spanish edition (1985), Indonesian edition (1986), Hebrew edition (1988), and Dutch edition (1989) were published. A publishing deal for the Portuguese edition was concluded, but it hasn’t been published yet. (APO) \\uf09f His report Ideal Product Standard and\\n\\nHow to Create It won the Standardization Literature Award. (JSA)\\n\\n\\uf09f He published Control Chart. (JSA)\\n\\n(Age 53)\\n\\n509\\n\\n\\uf09f The World Health Organization (WHO) recommended pharmaceutical companies to adopt QC.\\n\\n\\uf09f The National Meeting on Quality Control and Standardization (Q-S Conference) was established. (JSA)\\n\\n\\uf09f The 5th QCS: Process analysis. \\uf09f The 6th QCS: QC in the era of\\n\\nautomation and computerization (1).', metadata={'source': '/content/gdrive/MyDrive/Projects/Digital_Deming/src_content/ParallelChronology_Ver2_150717.pdf'})]"
            ]
          },
          "metadata": {},
          "execution_count": 102
        }
      ],
      "source": [
        "result['source_documents']"
      ]
    },
    {
      "cell_type": "markdown",
      "source": [
        "# The History and Evolution of Total Quality Management (TQM): The Contributions of Kaoru Ishikawa and the Japanese Union of Scientists and Engineers (JUSE)"
      ],
      "metadata": {
        "id": "x-rsKQcKpNP9"
      }
    },
    {
      "cell_type": "markdown",
      "source": [
        "## I. Introduction\n",
        "- Definition of Total Quality Management (TQM)\n",
        "- Brief introduction of the significance of TQM in the modern business world\n",
        "- Introduction to Kaoru Ishikawa and the Japanese Union of Scientists and Engineers (JUSE)\n",
        "- Thesis Statement"
      ],
      "metadata": {
        "id": "k2t44id5wUxx"
      }
    },
    {
      "cell_type": "code",
      "source": [],
      "metadata": {
        "id": "0Gt8bOdkxyR2"
      },
      "execution_count": 102,
      "outputs": []
    },
    {
      "cell_type": "code",
      "execution_count": 103,
      "metadata": {
        "id": "zusROviVxyar"
      },
      "outputs": [],
      "source": [
        "qa = VectorDBQA.from_chain_type(llm=OpenAI(), chain_type=\"stuff\", vectorstore=docsearch, return_source_documents=True)\n",
        "#query = \"what is the impact of JUSE on TQM?\"\n",
        "#query = \"what is the purpouse of life?\"\n",
        "#query = \"what does demming like for lunch\"\n",
        "#query = \"is quality like a human\"\n",
        "#query = \"what is the fourth rule of TQM\"\n",
        "query = \"what is Total Quality Management (TQM)\"\n",
        "result = qa({\"query\": query})"
      ]
    },
    {
      "cell_type": "code",
      "execution_count": 104,
      "metadata": {
        "colab": {
          "base_uri": "https://localhost:8080/",
          "height": 71
        },
        "outputId": "9ff9ee69-74d6-4a25-b593-23c562ae0aef",
        "id": "8VK98-MMxyar"
      },
      "outputs": [
        {
          "output_type": "execute_result",
          "data": {
            "text/plain": [
              "' Total Quality Management (TQM) is a management approach that focuses on continuous improvement of quality in order to meet customer requirements and improve the overall performance of an organization. It is a system for ensuring that all processes and products meet the highest standards of quality, from design to delivery.'"
            ],
            "application/vnd.google.colaboratory.intrinsic+json": {
              "type": "string"
            }
          },
          "metadata": {},
          "execution_count": 104
        }
      ],
      "source": [
        "result['result']"
      ]
    },
    {
      "cell_type": "code",
      "execution_count": 105,
      "metadata": {
        "colab": {
          "base_uri": "https://localhost:8080/"
        },
        "outputId": "a3a76b55-dd70-4193-8f46-f8142bfd89f5",
        "id": "aiAAix9jxyas"
      },
      "outputs": [
        {
          "output_type": "execute_result",
          "data": {
            "text/plain": [
              "[Document(page_content='Medal. (ASQC)\\n\\n\\uf09f The Pharmaceutical Manufacturing and Quality Control (GMP) Seminar was held. (Sep., JUSE)\\n\\n\\uf09f The Japan Prefabricated Construction\\n\\nSuppliers and Manufacturers Association held TQC seminars.\\n\\n\\uf09f Noboru Takagi was elected as the 22nd\\n\\npresident of the IEC.\\n\\n\\uf09f The 4th ICPR Conference (IE\\n\\ninternational conference) was held. \\uf09f The 24th QCS: Quality design and\\n\\n\\uf09f Quality Control Handbook (New Edition)\\n\\nprocess design.\\n\\nwritten and edited by Ishikawa was published. (The second edition was published in April, 1988, JSA)\\n\\n\\uf09f The 25th QCS: Small-group activities\\n\\nand QC.\\n\\n1978\\n\\nApril 1\\n\\n\\uf09f He became the President of Musashi\\n\\n\\uf09f The Construction Industry TQC\\n\\nInstitute of Technology.\\n\\nRound-table Conference was held. (JSA)\\n\\n\\uf09f He became the director of Goto-Ikueikai. \\uf09f He became the director of the Tokyu Foundation for Foreign Students.\\n\\n\\uf09f He became the chairperson of the board\\n\\nof directors of the Japan-China Industrial Technology and Culture Center. (–82)', metadata={'source': '/content/gdrive/MyDrive/Projects/Digital_Deming/src_content/ParallelChronology_Ver2_150717.pdf'}),\n",
              " Document(page_content='1) AGREE: Advisory Group on Reliability of Electronic Equipment 2) AOTS: Association for Overseas Technical Scholarship 3) APO: Asian Productivity Organization 4) ASA: American Standards Association 5) ASQC: American Society for Quality Control 6) BS: British Standards 7) CCS: Civil Communication Section 8) COSCO: Control System Committee 9) EOQC: European Organization for Quality Control 10) EOQ: European Organization for Quality 11) EFQM: European Foundation for Quality Management 12) FMES: Japan Federation of Managerial Engineering Societies\\n\\n524\\n\\nA Parallel Chronology of Prof. Kaoru Ishikawa’s Life and TQC in Japan', metadata={'source': '/content/gdrive/MyDrive/Projects/Digital_Deming/src_content/ParallelChronology_Ver2_150717.pdf'}),\n",
              " Document(page_content='(Oct., JUSE)\\n\\n\\uf09f A ceremony to celebrate the 10th\\n\\nanniversary of Deming Prize was held, inviting Deming, Rao, Wilks, Cochran, and Hamerker. (JUSE)\\n\\n\\uf09f Dr. Deming was awarded with the Second Class Order of the Sacred Treasure.\\n\\n\\uf09f It was decided to establish November as “Quality Month” and the QC promotion banner was adopted. During this month, lectures were held around the country. Quality Month textbooks were published,\\n\\n505\\n\\n(Age 44)\\n\\n1960\\n\\nApril 1\\n\\n(Age 45)\\n\\nA Parallel Chronology of Prof. Kaoru Ishikawa’s Life and TQC in Japan\\n\\nYear\\n\\nProf. Ishikawa’s Life\\n\\nMajor Events in the Development of QC\\n\\nand promotional posters were distributed.\\n\\n\\uf09f An NHK educational program The Quality of Japanese Products (the Quality Month Broadcast) was broadcast on NHK Radio 2.\\n\\n\\uf09f The Association of Technical High\\n\\nSchool Principals started QC lectures.\\n\\n1961\\n\\n\\uf09f After the reorganization of the', metadata={'source': '/content/gdrive/MyDrive/Projects/Digital_Deming/src_content/ParallelChronology_Ver2_150717.pdf'}),\n",
              " Document(page_content='Deming Application Prize. It was the first construction company to win the prize. (Nov.)\\n\\n\\uf09f A committee to research QC in the\\n\\nservice industry was established. (Nov.,\\n\\nA Parallel Chronology of Prof. Kaoru Ishikawa’s Life and TQC in Japan\\n\\nYear\\n\\nProf. Ishikawa’s Life\\n\\nMajor Events in the Development of QC\\n\\ncommissioned by the Ministry of the Environment.)\\n\\n\\uf09f His book Control Points of Quality (joint authorship) (Zeimukeiri Kyokai) was awarded Nikkei Quality Control Literature Prize.\\n\\nJUSE)\\n\\n\\uf09f The 28th QCS: New product planning\\n\\nand market research.\\n\\n\\uf09f The 29th QCS: Future Quality\\n\\nControl—challenges in the 1980s.\\n\\n1980\\n\\n\\uf09f He became a council member of the Japan Standards Association. (–84)\\n\\n\\uf09f He became a council member of the Japanese Society for Quality Control. (–82)\\n\\n\\uf09f He became the chair of the Nuclear\\n\\nPower Plant Quality Assurance Review Committee. (MITI)\\n\\n\\uf09f He became the chair of the Management\\n\\nResearch Group of Japan-China Economic Association.', metadata={'source': '/content/gdrive/MyDrive/Projects/Digital_Deming/src_content/ParallelChronology_Ver2_150717.pdf'})]"
            ]
          },
          "metadata": {},
          "execution_count": 105
        }
      ],
      "source": [
        "result['source_documents']"
      ]
    },
    {
      "cell_type": "code",
      "source": [
        "# Create a list to stuff section results into \n",
        "introduction = []\n",
        "\n",
        "#append result  to the array\n",
        "introduction.append(result)\n",
        "\n",
        "#print the array\n",
        "print(introduction)"
      ],
      "metadata": {
        "colab": {
          "base_uri": "https://localhost:8080/"
        },
        "id": "GsGodkD4zkL1",
        "outputId": "4884cdba-f274-4102-be52-3f261d1564b4"
      },
      "execution_count": 106,
      "outputs": [
        {
          "output_type": "stream",
          "name": "stdout",
          "text": [
            "[{'query': 'what is Total Quality Management (TQM)', 'result': ' Total Quality Management (TQM) is a management approach that focuses on continuous improvement of quality in order to meet customer requirements and improve the overall performance of an organization. It is a system for ensuring that all processes and products meet the highest standards of quality, from design to delivery.', 'source_documents': [Document(page_content='Medal. (ASQC)\\n\\n\\uf09f The Pharmaceutical Manufacturing and Quality Control (GMP) Seminar was held. (Sep., JUSE)\\n\\n\\uf09f The Japan Prefabricated Construction\\n\\nSuppliers and Manufacturers Association held TQC seminars.\\n\\n\\uf09f Noboru Takagi was elected as the 22nd\\n\\npresident of the IEC.\\n\\n\\uf09f The 4th ICPR Conference (IE\\n\\ninternational conference) was held. \\uf09f The 24th QCS: Quality design and\\n\\n\\uf09f Quality Control Handbook (New Edition)\\n\\nprocess design.\\n\\nwritten and edited by Ishikawa was published. (The second edition was published in April, 1988, JSA)\\n\\n\\uf09f The 25th QCS: Small-group activities\\n\\nand QC.\\n\\n1978\\n\\nApril 1\\n\\n\\uf09f He became the President of Musashi\\n\\n\\uf09f The Construction Industry TQC\\n\\nInstitute of Technology.\\n\\nRound-table Conference was held. (JSA)\\n\\n\\uf09f He became the director of Goto-Ikueikai. \\uf09f He became the director of the Tokyu Foundation for Foreign Students.\\n\\n\\uf09f He became the chairperson of the board\\n\\nof directors of the Japan-China Industrial Technology and Culture Center. (–82)', metadata={'source': '/content/gdrive/MyDrive/Projects/Digital_Deming/src_content/ParallelChronology_Ver2_150717.pdf'}), Document(page_content='1) AGREE: Advisory Group on Reliability of Electronic Equipment 2) AOTS: Association for Overseas Technical Scholarship 3) APO: Asian Productivity Organization 4) ASA: American Standards Association 5) ASQC: American Society for Quality Control 6) BS: British Standards 7) CCS: Civil Communication Section 8) COSCO: Control System Committee 9) EOQC: European Organization for Quality Control 10) EOQ: European Organization for Quality 11) EFQM: European Foundation for Quality Management 12) FMES: Japan Federation of Managerial Engineering Societies\\n\\n524\\n\\nA Parallel Chronology of Prof. Kaoru Ishikawa’s Life and TQC in Japan', metadata={'source': '/content/gdrive/MyDrive/Projects/Digital_Deming/src_content/ParallelChronology_Ver2_150717.pdf'}), Document(page_content='(Oct., JUSE)\\n\\n\\uf09f A ceremony to celebrate the 10th\\n\\nanniversary of Deming Prize was held, inviting Deming, Rao, Wilks, Cochran, and Hamerker. (JUSE)\\n\\n\\uf09f Dr. Deming was awarded with the Second Class Order of the Sacred Treasure.\\n\\n\\uf09f It was decided to establish November as “Quality Month” and the QC promotion banner was adopted. During this month, lectures were held around the country. Quality Month textbooks were published,\\n\\n505\\n\\n(Age 44)\\n\\n1960\\n\\nApril 1\\n\\n(Age 45)\\n\\nA Parallel Chronology of Prof. Kaoru Ishikawa’s Life and TQC in Japan\\n\\nYear\\n\\nProf. Ishikawa’s Life\\n\\nMajor Events in the Development of QC\\n\\nand promotional posters were distributed.\\n\\n\\uf09f An NHK educational program The Quality of Japanese Products (the Quality Month Broadcast) was broadcast on NHK Radio 2.\\n\\n\\uf09f The Association of Technical High\\n\\nSchool Principals started QC lectures.\\n\\n1961\\n\\n\\uf09f After the reorganization of the', metadata={'source': '/content/gdrive/MyDrive/Projects/Digital_Deming/src_content/ParallelChronology_Ver2_150717.pdf'}), Document(page_content='Deming Application Prize. It was the first construction company to win the prize. (Nov.)\\n\\n\\uf09f A committee to research QC in the\\n\\nservice industry was established. (Nov.,\\n\\nA Parallel Chronology of Prof. Kaoru Ishikawa’s Life and TQC in Japan\\n\\nYear\\n\\nProf. Ishikawa’s Life\\n\\nMajor Events in the Development of QC\\n\\ncommissioned by the Ministry of the Environment.)\\n\\n\\uf09f His book Control Points of Quality (joint authorship) (Zeimukeiri Kyokai) was awarded Nikkei Quality Control Literature Prize.\\n\\nJUSE)\\n\\n\\uf09f The 28th QCS: New product planning\\n\\nand market research.\\n\\n\\uf09f The 29th QCS: Future Quality\\n\\nControl—challenges in the 1980s.\\n\\n1980\\n\\n\\uf09f He became a council member of the Japan Standards Association. (–84)\\n\\n\\uf09f He became a council member of the Japanese Society for Quality Control. (–82)\\n\\n\\uf09f He became the chair of the Nuclear\\n\\nPower Plant Quality Assurance Review Committee. (MITI)\\n\\n\\uf09f He became the chair of the Management\\n\\nResearch Group of Japan-China Economic Association.', metadata={'source': '/content/gdrive/MyDrive/Projects/Digital_Deming/src_content/ParallelChronology_Ver2_150717.pdf'})]}]\n"
          ]
        }
      ]
    },
    {
      "cell_type": "code",
      "source": [],
      "metadata": {
        "id": "4oL5v8kQ1IXN"
      },
      "execution_count": 106,
      "outputs": []
    },
    {
      "cell_type": "code",
      "execution_count": 107,
      "metadata": {
        "id": "4a7jUwgI1Iyt"
      },
      "outputs": [],
      "source": [
        "qa = VectorDBQA.from_chain_type(llm=OpenAI(), chain_type=\"stuff\", vectorstore=docsearch, return_source_documents=True)\n",
        "#query = \"what is the impact of JUSE on TQM?\"\n",
        "#query = \"what is the purpouse of life?\"\n",
        "#query = \"what does demming like for lunch\"\n",
        "#query = \"is quality like a human\"\n",
        "#query = \"what is the fourth rule of TQM\"\n",
        "query = \"Write a detailed introduction of the significance of TQM in the modern business world\"\n",
        "result = qa({\"query\": query})"
      ]
    },
    {
      "cell_type": "code",
      "execution_count": 108,
      "metadata": {
        "colab": {
          "base_uri": "https://localhost:8080/",
          "height": 142
        },
        "outputId": "78b10ca6-4b94-43e5-f2bc-46223e56b4e6",
        "id": "HnAi6YWb1Iyt"
      },
      "outputs": [
        {
          "output_type": "execute_result",
          "data": {
            "text/plain": [
              "'\\n\\nTotal Quality Management (TQM) is an approach to business management that focuses on improving the effectiveness and efficiency of operations, as well as consistently delivering the highest quality products and services to customers. It is based on the principles of continuous improvement, customer satisfaction, and employee engagement. TQM seeks to eliminate waste in all forms and to use resources in the most efficient way. It also encourages teams to identify opportunities for improvement, to analyze problems, and to develop creative solutions. In this way, TQM helps businesses to reduce costs, increase profitability, and improve customer satisfaction. It also helps to foster a culture of trust, collaboration, and accountability among employees. TQM is a powerful tool for businesses of all sizes, from small businesses to large corporations, and it is increasingly being adopted by organizations around the world.'"
            ],
            "application/vnd.google.colaboratory.intrinsic+json": {
              "type": "string"
            }
          },
          "metadata": {},
          "execution_count": 108
        }
      ],
      "source": [
        "result['result']"
      ]
    },
    {
      "cell_type": "code",
      "source": [
        "#append result  to the array\n",
        "introduction.append(result)\n",
        "\n",
        "#print the array\n",
        "print(introduction)"
      ],
      "metadata": {
        "colab": {
          "base_uri": "https://localhost:8080/"
        },
        "id": "uGbgzLl11Xgs",
        "outputId": "7fd93176-6d3f-416b-ba40-c277347e861a"
      },
      "execution_count": 109,
      "outputs": [
        {
          "output_type": "stream",
          "name": "stdout",
          "text": [
            "[{'query': 'what is Total Quality Management (TQM)', 'result': ' Total Quality Management (TQM) is a management approach that focuses on continuous improvement of quality in order to meet customer requirements and improve the overall performance of an organization. It is a system for ensuring that all processes and products meet the highest standards of quality, from design to delivery.', 'source_documents': [Document(page_content='Medal. (ASQC)\\n\\n\\uf09f The Pharmaceutical Manufacturing and Quality Control (GMP) Seminar was held. (Sep., JUSE)\\n\\n\\uf09f The Japan Prefabricated Construction\\n\\nSuppliers and Manufacturers Association held TQC seminars.\\n\\n\\uf09f Noboru Takagi was elected as the 22nd\\n\\npresident of the IEC.\\n\\n\\uf09f The 4th ICPR Conference (IE\\n\\ninternational conference) was held. \\uf09f The 24th QCS: Quality design and\\n\\n\\uf09f Quality Control Handbook (New Edition)\\n\\nprocess design.\\n\\nwritten and edited by Ishikawa was published. (The second edition was published in April, 1988, JSA)\\n\\n\\uf09f The 25th QCS: Small-group activities\\n\\nand QC.\\n\\n1978\\n\\nApril 1\\n\\n\\uf09f He became the President of Musashi\\n\\n\\uf09f The Construction Industry TQC\\n\\nInstitute of Technology.\\n\\nRound-table Conference was held. (JSA)\\n\\n\\uf09f He became the director of Goto-Ikueikai. \\uf09f He became the director of the Tokyu Foundation for Foreign Students.\\n\\n\\uf09f He became the chairperson of the board\\n\\nof directors of the Japan-China Industrial Technology and Culture Center. (–82)', metadata={'source': '/content/gdrive/MyDrive/Projects/Digital_Deming/src_content/ParallelChronology_Ver2_150717.pdf'}), Document(page_content='1) AGREE: Advisory Group on Reliability of Electronic Equipment 2) AOTS: Association for Overseas Technical Scholarship 3) APO: Asian Productivity Organization 4) ASA: American Standards Association 5) ASQC: American Society for Quality Control 6) BS: British Standards 7) CCS: Civil Communication Section 8) COSCO: Control System Committee 9) EOQC: European Organization for Quality Control 10) EOQ: European Organization for Quality 11) EFQM: European Foundation for Quality Management 12) FMES: Japan Federation of Managerial Engineering Societies\\n\\n524\\n\\nA Parallel Chronology of Prof. Kaoru Ishikawa’s Life and TQC in Japan', metadata={'source': '/content/gdrive/MyDrive/Projects/Digital_Deming/src_content/ParallelChronology_Ver2_150717.pdf'}), Document(page_content='(Oct., JUSE)\\n\\n\\uf09f A ceremony to celebrate the 10th\\n\\nanniversary of Deming Prize was held, inviting Deming, Rao, Wilks, Cochran, and Hamerker. (JUSE)\\n\\n\\uf09f Dr. Deming was awarded with the Second Class Order of the Sacred Treasure.\\n\\n\\uf09f It was decided to establish November as “Quality Month” and the QC promotion banner was adopted. During this month, lectures were held around the country. Quality Month textbooks were published,\\n\\n505\\n\\n(Age 44)\\n\\n1960\\n\\nApril 1\\n\\n(Age 45)\\n\\nA Parallel Chronology of Prof. Kaoru Ishikawa’s Life and TQC in Japan\\n\\nYear\\n\\nProf. Ishikawa’s Life\\n\\nMajor Events in the Development of QC\\n\\nand promotional posters were distributed.\\n\\n\\uf09f An NHK educational program The Quality of Japanese Products (the Quality Month Broadcast) was broadcast on NHK Radio 2.\\n\\n\\uf09f The Association of Technical High\\n\\nSchool Principals started QC lectures.\\n\\n1961\\n\\n\\uf09f After the reorganization of the', metadata={'source': '/content/gdrive/MyDrive/Projects/Digital_Deming/src_content/ParallelChronology_Ver2_150717.pdf'}), Document(page_content='Deming Application Prize. It was the first construction company to win the prize. (Nov.)\\n\\n\\uf09f A committee to research QC in the\\n\\nservice industry was established. (Nov.,\\n\\nA Parallel Chronology of Prof. Kaoru Ishikawa’s Life and TQC in Japan\\n\\nYear\\n\\nProf. Ishikawa’s Life\\n\\nMajor Events in the Development of QC\\n\\ncommissioned by the Ministry of the Environment.)\\n\\n\\uf09f His book Control Points of Quality (joint authorship) (Zeimukeiri Kyokai) was awarded Nikkei Quality Control Literature Prize.\\n\\nJUSE)\\n\\n\\uf09f The 28th QCS: New product planning\\n\\nand market research.\\n\\n\\uf09f The 29th QCS: Future Quality\\n\\nControl—challenges in the 1980s.\\n\\n1980\\n\\n\\uf09f He became a council member of the Japan Standards Association. (–84)\\n\\n\\uf09f He became a council member of the Japanese Society for Quality Control. (–82)\\n\\n\\uf09f He became the chair of the Nuclear\\n\\nPower Plant Quality Assurance Review Committee. (MITI)\\n\\n\\uf09f He became the chair of the Management\\n\\nResearch Group of Japan-China Economic Association.', metadata={'source': '/content/gdrive/MyDrive/Projects/Digital_Deming/src_content/ParallelChronology_Ver2_150717.pdf'})]}, {'query': 'Write a detailed introduction of the significance of TQM in the modern business world', 'result': '\\n\\nTotal Quality Management (TQM) is an approach to business management that focuses on improving the effectiveness and efficiency of operations, as well as consistently delivering the highest quality products and services to customers. It is based on the principles of continuous improvement, customer satisfaction, and employee engagement. TQM seeks to eliminate waste in all forms and to use resources in the most efficient way. It also encourages teams to identify opportunities for improvement, to analyze problems, and to develop creative solutions. In this way, TQM helps businesses to reduce costs, increase profitability, and improve customer satisfaction. It also helps to foster a culture of trust, collaboration, and accountability among employees. TQM is a powerful tool for businesses of all sizes, from small businesses to large corporations, and it is increasingly being adopted by organizations around the world.', 'source_documents': [Document(page_content='1) AGREE: Advisory Group on Reliability of Electronic Equipment 2) AOTS: Association for Overseas Technical Scholarship 3) APO: Asian Productivity Organization 4) ASA: American Standards Association 5) ASQC: American Society for Quality Control 6) BS: British Standards 7) CCS: Civil Communication Section 8) COSCO: Control System Committee 9) EOQC: European Organization for Quality Control 10) EOQ: European Organization for Quality 11) EFQM: European Foundation for Quality Management 12) FMES: Japan Federation of Managerial Engineering Societies\\n\\n524\\n\\nA Parallel Chronology of Prof. Kaoru Ishikawa’s Life and TQC in Japan', metadata={'source': '/content/gdrive/MyDrive/Projects/Digital_Deming/src_content/ParallelChronology_Ver2_150717.pdf'}), Document(page_content='Deming Application Prize. It was the first construction company to win the prize. (Nov.)\\n\\n\\uf09f A committee to research QC in the\\n\\nservice industry was established. (Nov.,\\n\\nA Parallel Chronology of Prof. Kaoru Ishikawa’s Life and TQC in Japan\\n\\nYear\\n\\nProf. Ishikawa’s Life\\n\\nMajor Events in the Development of QC\\n\\ncommissioned by the Ministry of the Environment.)\\n\\n\\uf09f His book Control Points of Quality (joint authorship) (Zeimukeiri Kyokai) was awarded Nikkei Quality Control Literature Prize.\\n\\nJUSE)\\n\\n\\uf09f The 28th QCS: New product planning\\n\\nand market research.\\n\\n\\uf09f The 29th QCS: Future Quality\\n\\nControl—challenges in the 1980s.\\n\\n1980\\n\\n\\uf09f He became a council member of the Japan Standards Association. (–84)\\n\\n\\uf09f He became a council member of the Japanese Society for Quality Control. (–82)\\n\\n\\uf09f He became the chair of the Nuclear\\n\\nPower Plant Quality Assurance Review Committee. (MITI)\\n\\n\\uf09f He became the chair of the Management\\n\\nResearch Group of Japan-China Economic Association.', metadata={'source': '/content/gdrive/MyDrive/Projects/Digital_Deming/src_content/ParallelChronology_Ver2_150717.pdf'}), Document(page_content='establishment of the Deming Prize Dr. Deming was invited to Japan. (Nov., JUSE)\\n\\n\\uf09f The Service Industry QC Conference was\\n\\n\\uf09f He became an honorary member of the\\n\\nheld (JUSE)\\n\\nColumbian Quality Control Association.\\n\\n\\uf09f The 40th QCS: TQC—to decide the\\n\\nfuture direction.\\n\\n\\uf09f The 41th QCS: TCC—Measures and\\n\\nperspective.\\n\\n521\\n\\n(Age 70)\\n\\nA Parallel Chronology of Prof. Kaoru Ishikawa’s Life and TQC in Japan\\n\\nYear\\n\\n1986\\n\\nProf. Ishikawa’s Life\\n\\nMajor Events in the Development of QC\\n\\n\\uf09f He gave a lecture to American\\n\\n\\uf09f The 15th Anniversary Party of the\\n\\nHouse of Representatives’ Research Delegation. His lecture inspired them to establish the Malcolm Baldrige National Quality Award. (Jan.)\\n\\n\\uf09f He became the vice-president of the International Standardization Forum. \\uf09f He became an advisory member of the Executive Committee of the 46th Conference of the International Statistical Institute. (–87)\\n\\n\\uf09f He became a program', metadata={'source': '/content/gdrive/MyDrive/Projects/Digital_Deming/src_content/ParallelChronology_Ver2_150717.pdf'}), Document(page_content='Jan. 23\\n\\n\\uf09f A party to celebrate his honor conferred decoration was held at the Hotel Okura.\\n\\nJan. 31\\n\\n\\uf09f He published Introduction to\\n\\nQuality Control (3rd Edition). (JUSE Press)\\n\\nThe English edition:\\n\\nIntroduction to Quality Control (3rd\\n\\n523\\n\\n\\uf09f The 2000th Memorial QC Circle\\n\\nConference was held. (March, QC Circle Headquarters)\\n\\n\\uf09f EFQM was founded. (Sep.) \\uf09f The Software Quality Control Seminar for Managers was held. (Oct., JUSE)\\n\\n\\uf09f The 1st Malcolm Baldrige National Quality Award was awarded. (Oct., America)\\n\\n\\uf09f Joban Hawaiian Center was awarded the Deming Application Prize for Division, as the first service company to win the prize. (Nov.)\\n\\n\\uf09f ICQCC ’88-Taipei was held. (Nov.,\\n\\nTaipei)\\n\\n\\uf09f The number of foreign companies too whom the use of JIS mark is permitted exceeded 100.\\n\\n\\uf09f The 46th QCS: Quality control\\n\\ntraining—current situation and future direction.\\n\\n\\uf09f The 47th QCS: New product planning\\n\\nand market research—how to understand the quality required by customers.', metadata={'source': '/content/gdrive/MyDrive/Projects/Digital_Deming/src_content/ParallelChronology_Ver2_150717.pdf'})]}]\n"
          ]
        }
      ]
    },
    {
      "cell_type": "code",
      "source": [],
      "metadata": {
        "id": "gKBSyNe61bjF"
      },
      "execution_count": 109,
      "outputs": []
    },
    {
      "cell_type": "code",
      "execution_count": 110,
      "metadata": {
        "id": "1rA_rDAu1bsD"
      },
      "outputs": [],
      "source": [
        "qa = VectorDBQA.from_chain_type(llm=OpenAI(), chain_type=\"stuff\", vectorstore=docsearch, return_source_documents=True)\n",
        "#query = \"what is the impact of JUSE on TQM?\"\n",
        "#query = \"what is the purpouse of life?\"\n",
        "#query = \"what does demming like for lunch\"\n",
        "#query = \"is quality like a human\"\n",
        "#query = \"what is the fourth rule of TQM\"\n",
        "#query = \"Write a detailed introduction of the significance of TQM in the modern business world\"\n",
        "query = \"Introduction to Kaoru Ishikawa and the Japanese Union of Scientists and Engineers (JUSE)\"\n",
        "result = qa({\"query\": query})"
      ]
    },
    {
      "cell_type": "code",
      "execution_count": 111,
      "metadata": {
        "colab": {
          "base_uri": "https://localhost:8080/",
          "height": 107
        },
        "outputId": "5fb6d7de-5aca-4105-dab3-f3c3b493de30",
        "id": "fFWZoc4m1bsE"
      },
      "outputs": [
        {
          "output_type": "execute_result",
          "data": {
            "text/plain": [
              "' Kaoru Ishikawa was a lecturer at the University of Tokyo in the Department of Fuel Engineering. He was also a member of the ISO/TC 102 Japan Committee and served as the chair of the Sampling Subcommittee. In 1949, he became an instructor of the QC Basic Course for the Japanese Union of Scientists and Engineers. He gave the first lecture in the QC Basic Course and introduced Rice’s Control Chart in July of that year. He was also the vice-chair of the Editorial Committee of Hinshitsu Kanri (Statistical Quality Control) from 1950-52. In 1956, he became the chief of ASQC Japan Branch.'"
            ],
            "application/vnd.google.colaboratory.intrinsic+json": {
              "type": "string"
            }
          },
          "metadata": {},
          "execution_count": 111
        }
      ],
      "source": [
        "result['result']"
      ]
    },
    {
      "cell_type": "code",
      "source": [
        "#append result  to the array\n",
        "introduction.append(result)\n",
        "\n",
        "#print the array\n",
        "print(introduction)"
      ],
      "metadata": {
        "colab": {
          "base_uri": "https://localhost:8080/"
        },
        "outputId": "ddd93bf6-2707-4f07-bca1-d197489f5d1a",
        "id": "7neLSSFq1bsE"
      },
      "execution_count": 112,
      "outputs": [
        {
          "output_type": "stream",
          "name": "stdout",
          "text": [
            "[{'query': 'what is Total Quality Management (TQM)', 'result': ' Total Quality Management (TQM) is a management approach that focuses on continuous improvement of quality in order to meet customer requirements and improve the overall performance of an organization. It is a system for ensuring that all processes and products meet the highest standards of quality, from design to delivery.', 'source_documents': [Document(page_content='Medal. (ASQC)\\n\\n\\uf09f The Pharmaceutical Manufacturing and Quality Control (GMP) Seminar was held. (Sep., JUSE)\\n\\n\\uf09f The Japan Prefabricated Construction\\n\\nSuppliers and Manufacturers Association held TQC seminars.\\n\\n\\uf09f Noboru Takagi was elected as the 22nd\\n\\npresident of the IEC.\\n\\n\\uf09f The 4th ICPR Conference (IE\\n\\ninternational conference) was held. \\uf09f The 24th QCS: Quality design and\\n\\n\\uf09f Quality Control Handbook (New Edition)\\n\\nprocess design.\\n\\nwritten and edited by Ishikawa was published. (The second edition was published in April, 1988, JSA)\\n\\n\\uf09f The 25th QCS: Small-group activities\\n\\nand QC.\\n\\n1978\\n\\nApril 1\\n\\n\\uf09f He became the President of Musashi\\n\\n\\uf09f The Construction Industry TQC\\n\\nInstitute of Technology.\\n\\nRound-table Conference was held. (JSA)\\n\\n\\uf09f He became the director of Goto-Ikueikai. \\uf09f He became the director of the Tokyu Foundation for Foreign Students.\\n\\n\\uf09f He became the chairperson of the board\\n\\nof directors of the Japan-China Industrial Technology and Culture Center. (–82)', metadata={'source': '/content/gdrive/MyDrive/Projects/Digital_Deming/src_content/ParallelChronology_Ver2_150717.pdf'}), Document(page_content='1) AGREE: Advisory Group on Reliability of Electronic Equipment 2) AOTS: Association for Overseas Technical Scholarship 3) APO: Asian Productivity Organization 4) ASA: American Standards Association 5) ASQC: American Society for Quality Control 6) BS: British Standards 7) CCS: Civil Communication Section 8) COSCO: Control System Committee 9) EOQC: European Organization for Quality Control 10) EOQ: European Organization for Quality 11) EFQM: European Foundation for Quality Management 12) FMES: Japan Federation of Managerial Engineering Societies\\n\\n524\\n\\nA Parallel Chronology of Prof. Kaoru Ishikawa’s Life and TQC in Japan', metadata={'source': '/content/gdrive/MyDrive/Projects/Digital_Deming/src_content/ParallelChronology_Ver2_150717.pdf'}), Document(page_content='(Oct., JUSE)\\n\\n\\uf09f A ceremony to celebrate the 10th\\n\\nanniversary of Deming Prize was held, inviting Deming, Rao, Wilks, Cochran, and Hamerker. (JUSE)\\n\\n\\uf09f Dr. Deming was awarded with the Second Class Order of the Sacred Treasure.\\n\\n\\uf09f It was decided to establish November as “Quality Month” and the QC promotion banner was adopted. During this month, lectures were held around the country. Quality Month textbooks were published,\\n\\n505\\n\\n(Age 44)\\n\\n1960\\n\\nApril 1\\n\\n(Age 45)\\n\\nA Parallel Chronology of Prof. Kaoru Ishikawa’s Life and TQC in Japan\\n\\nYear\\n\\nProf. Ishikawa’s Life\\n\\nMajor Events in the Development of QC\\n\\nand promotional posters were distributed.\\n\\n\\uf09f An NHK educational program The Quality of Japanese Products (the Quality Month Broadcast) was broadcast on NHK Radio 2.\\n\\n\\uf09f The Association of Technical High\\n\\nSchool Principals started QC lectures.\\n\\n1961\\n\\n\\uf09f After the reorganization of the', metadata={'source': '/content/gdrive/MyDrive/Projects/Digital_Deming/src_content/ParallelChronology_Ver2_150717.pdf'}), Document(page_content='Deming Application Prize. It was the first construction company to win the prize. (Nov.)\\n\\n\\uf09f A committee to research QC in the\\n\\nservice industry was established. (Nov.,\\n\\nA Parallel Chronology of Prof. Kaoru Ishikawa’s Life and TQC in Japan\\n\\nYear\\n\\nProf. Ishikawa’s Life\\n\\nMajor Events in the Development of QC\\n\\ncommissioned by the Ministry of the Environment.)\\n\\n\\uf09f His book Control Points of Quality (joint authorship) (Zeimukeiri Kyokai) was awarded Nikkei Quality Control Literature Prize.\\n\\nJUSE)\\n\\n\\uf09f The 28th QCS: New product planning\\n\\nand market research.\\n\\n\\uf09f The 29th QCS: Future Quality\\n\\nControl—challenges in the 1980s.\\n\\n1980\\n\\n\\uf09f He became a council member of the Japan Standards Association. (–84)\\n\\n\\uf09f He became a council member of the Japanese Society for Quality Control. (–82)\\n\\n\\uf09f He became the chair of the Nuclear\\n\\nPower Plant Quality Assurance Review Committee. (MITI)\\n\\n\\uf09f He became the chair of the Management\\n\\nResearch Group of Japan-China Economic Association.', metadata={'source': '/content/gdrive/MyDrive/Projects/Digital_Deming/src_content/ParallelChronology_Ver2_150717.pdf'})]}, {'query': 'Write a detailed introduction of the significance of TQM in the modern business world', 'result': '\\n\\nTotal Quality Management (TQM) is an approach to business management that focuses on improving the effectiveness and efficiency of operations, as well as consistently delivering the highest quality products and services to customers. It is based on the principles of continuous improvement, customer satisfaction, and employee engagement. TQM seeks to eliminate waste in all forms and to use resources in the most efficient way. It also encourages teams to identify opportunities for improvement, to analyze problems, and to develop creative solutions. In this way, TQM helps businesses to reduce costs, increase profitability, and improve customer satisfaction. It also helps to foster a culture of trust, collaboration, and accountability among employees. TQM is a powerful tool for businesses of all sizes, from small businesses to large corporations, and it is increasingly being adopted by organizations around the world.', 'source_documents': [Document(page_content='1) AGREE: Advisory Group on Reliability of Electronic Equipment 2) AOTS: Association for Overseas Technical Scholarship 3) APO: Asian Productivity Organization 4) ASA: American Standards Association 5) ASQC: American Society for Quality Control 6) BS: British Standards 7) CCS: Civil Communication Section 8) COSCO: Control System Committee 9) EOQC: European Organization for Quality Control 10) EOQ: European Organization for Quality 11) EFQM: European Foundation for Quality Management 12) FMES: Japan Federation of Managerial Engineering Societies\\n\\n524\\n\\nA Parallel Chronology of Prof. Kaoru Ishikawa’s Life and TQC in Japan', metadata={'source': '/content/gdrive/MyDrive/Projects/Digital_Deming/src_content/ParallelChronology_Ver2_150717.pdf'}), Document(page_content='Deming Application Prize. It was the first construction company to win the prize. (Nov.)\\n\\n\\uf09f A committee to research QC in the\\n\\nservice industry was established. (Nov.,\\n\\nA Parallel Chronology of Prof. Kaoru Ishikawa’s Life and TQC in Japan\\n\\nYear\\n\\nProf. Ishikawa’s Life\\n\\nMajor Events in the Development of QC\\n\\ncommissioned by the Ministry of the Environment.)\\n\\n\\uf09f His book Control Points of Quality (joint authorship) (Zeimukeiri Kyokai) was awarded Nikkei Quality Control Literature Prize.\\n\\nJUSE)\\n\\n\\uf09f The 28th QCS: New product planning\\n\\nand market research.\\n\\n\\uf09f The 29th QCS: Future Quality\\n\\nControl—challenges in the 1980s.\\n\\n1980\\n\\n\\uf09f He became a council member of the Japan Standards Association. (–84)\\n\\n\\uf09f He became a council member of the Japanese Society for Quality Control. (–82)\\n\\n\\uf09f He became the chair of the Nuclear\\n\\nPower Plant Quality Assurance Review Committee. (MITI)\\n\\n\\uf09f He became the chair of the Management\\n\\nResearch Group of Japan-China Economic Association.', metadata={'source': '/content/gdrive/MyDrive/Projects/Digital_Deming/src_content/ParallelChronology_Ver2_150717.pdf'}), Document(page_content='establishment of the Deming Prize Dr. Deming was invited to Japan. (Nov., JUSE)\\n\\n\\uf09f The Service Industry QC Conference was\\n\\n\\uf09f He became an honorary member of the\\n\\nheld (JUSE)\\n\\nColumbian Quality Control Association.\\n\\n\\uf09f The 40th QCS: TQC—to decide the\\n\\nfuture direction.\\n\\n\\uf09f The 41th QCS: TCC—Measures and\\n\\nperspective.\\n\\n521\\n\\n(Age 70)\\n\\nA Parallel Chronology of Prof. Kaoru Ishikawa’s Life and TQC in Japan\\n\\nYear\\n\\n1986\\n\\nProf. Ishikawa’s Life\\n\\nMajor Events in the Development of QC\\n\\n\\uf09f He gave a lecture to American\\n\\n\\uf09f The 15th Anniversary Party of the\\n\\nHouse of Representatives’ Research Delegation. His lecture inspired them to establish the Malcolm Baldrige National Quality Award. (Jan.)\\n\\n\\uf09f He became the vice-president of the International Standardization Forum. \\uf09f He became an advisory member of the Executive Committee of the 46th Conference of the International Statistical Institute. (–87)\\n\\n\\uf09f He became a program', metadata={'source': '/content/gdrive/MyDrive/Projects/Digital_Deming/src_content/ParallelChronology_Ver2_150717.pdf'}), Document(page_content='Jan. 23\\n\\n\\uf09f A party to celebrate his honor conferred decoration was held at the Hotel Okura.\\n\\nJan. 31\\n\\n\\uf09f He published Introduction to\\n\\nQuality Control (3rd Edition). (JUSE Press)\\n\\nThe English edition:\\n\\nIntroduction to Quality Control (3rd\\n\\n523\\n\\n\\uf09f The 2000th Memorial QC Circle\\n\\nConference was held. (March, QC Circle Headquarters)\\n\\n\\uf09f EFQM was founded. (Sep.) \\uf09f The Software Quality Control Seminar for Managers was held. (Oct., JUSE)\\n\\n\\uf09f The 1st Malcolm Baldrige National Quality Award was awarded. (Oct., America)\\n\\n\\uf09f Joban Hawaiian Center was awarded the Deming Application Prize for Division, as the first service company to win the prize. (Nov.)\\n\\n\\uf09f ICQCC ’88-Taipei was held. (Nov.,\\n\\nTaipei)\\n\\n\\uf09f The number of foreign companies too whom the use of JIS mark is permitted exceeded 100.\\n\\n\\uf09f The 46th QCS: Quality control\\n\\ntraining—current situation and future direction.\\n\\n\\uf09f The 47th QCS: New product planning\\n\\nand market research—how to understand the quality required by customers.', metadata={'source': '/content/gdrive/MyDrive/Projects/Digital_Deming/src_content/ParallelChronology_Ver2_150717.pdf'})]}, {'query': 'Introduction to Kaoru Ishikawa and the Japanese Union of Scientists and Engineers (JUSE)', 'result': ' Kaoru Ishikawa was a lecturer at the University of Tokyo in the Department of Fuel Engineering. He was also a member of the ISO/TC 102 Japan Committee and served as the chair of the Sampling Subcommittee. In 1949, he became an instructor of the QC Basic Course for the Japanese Union of Scientists and Engineers. He gave the first lecture in the QC Basic Course and introduced Rice’s Control Chart in July of that year. He was also the vice-chair of the Editorial Committee of Hinshitsu Kanri (Statistical Quality Control) from 1950-52. In 1956, he became the chief of ASQC Japan Branch.', 'source_documents': [Document(page_content='department, Ishikawa belonged to the 4th Fuel Engineering Laboratory (Applied Combustible Science). (the University of Tokyo)\\n\\n\\uf09f He became a lecturer of the Introductory\\n\\n\\uf09f The QC Seminar for Managers and the QC Seminar for Supervisors started. (Central Japan Industries Association)\\n\\n\\uf09f Introductory Course for Design of\\n\\nExperiment was held. (Apr., JUSE) \\uf09f The Asian Productivity Organization\\n\\nCourse for Design of Experiment. (JUSE)\\n\\n(APO) was founded. (May) \\uf09f Japan became the secretariat of\\n\\n\\uf09f He became a member of the ISO/TC 102 Japan Committee and served as the chair of the Sampling Subcommittee. (–81, Japan Iron and Steel Federation)\\n\\n\\uf09f He was awarded with the Fuel Society of\\n\\n(Age 46) 1962\\n\\nJapan Award.\\n\\nISO/TC102 (iron ore).\\n\\n\\uf09f The Japan Consumers’ Association was\\n\\nfounded. (Sep.)\\n\\n\\uf09f The “Supervisor Special Issue” of\\n\\nHinshitsu Kanri (Statistical Quality Control) was issued. (Nov., JUSE)\\n\\n\\uf09f He became the chair of the editorial board of Genba To QC-magazine. (JUSE)', metadata={'source': '/content/gdrive/MyDrive/Projects/Digital_Deming/src_content/ParallelChronology_Ver2_150717.pdf'}), Document(page_content='Committee was established. (One of its research themes was to research QC.) (JUSE)\\n\\n\\uf09f The GHQ-CCS Course was held.\\n\\n\\uf09f The name of the course which he taught was changed from the 3rd Petroleum Refinery Engineering Laboratory to the Fuel Engineering Laboratory. (the University of Tokyo)\\n\\n\\uf09f He became an instructor of the QC Basic\\n\\nCourse. (JUSE)\\n\\n\\uf09f He joined the QC Research Group and\\n\\nstarted to research QC. (JUSE)\\n\\n(Age 33)\\n\\n1949\\n\\n(Age 34) 1950\\n\\n(Age 35)\\n\\n\\uf09f He became the Vice-chair of the Editorial Committee of Hinshitsu Kanri (Statistical Quality Control). (–52, JUSE)\\n\\n\\uf09f JUSE started publication of Hinshitsu Kanri (Statistical Quality Control). (March)\\n\\n500\\n\\nA Parallel Chronology of Prof. Kaoru Ishikawa’s Life and TQC in Japan\\n\\nYear\\n\\nProf. Ishikawa’s Life\\n\\nMajor Events in the Development of QC\\n\\n\\uf09f He gave the first lecture in the QC Basic Course and introduced Rice’s Control Chart. (July 21, JUSE)', metadata={'source': '/content/gdrive/MyDrive/Projects/Digital_Deming/src_content/ParallelChronology_Ver2_150717.pdf'}), Document(page_content='\\uf09f He became the vice-chair of the Reliability and Maintainability Symposium Organizing Committee. (JUSE)\\n\\n\\uf09f He became the chair of the Organizing Committee of the JUSE Course for Purchasing. (JUSE)\\n\\n\\uf09f The Sensory Test Overseas Research Team was dispatched. (May, JUSE) \\uf09f The Standardization Mission Team (headed by Hidehiko Azuma) was dispatched to the USSR. (JSA) \\uf09f The 2nd Japan-America Joint Symposium on Bulk Material Sampling was held. (Oct., Hawaii)\\n\\n\\uf09f October 14 was declared as World\\n\\nStandards Day. (ISO)\\n\\n\\uf09f The Japanese Society for Quality Control foundation meeting was held. (Nov.) \\uf09f The 11th QCS: Planning and quality. \\uf09f The 12th QCS: Product safety, pollution\\n\\nand QC.\\n\\n\\uf09f The QC Correspondence Basic Course for Foremen was held. (Jan., JUSE) \\uf09f The QC Circle Hokkaido Regional\\n\\nChapter was founded. (March, QC Circle Headquarters)\\n\\n\\uf09f Reliability Symposium [71–, Reliability and Maintainability Symposium] was held. (Apr., JUSE)\\n\\n\\uf09f The Japanese Society for Quality Control', metadata={'source': '/content/gdrive/MyDrive/Projects/Digital_Deming/src_content/ParallelChronology_Ver2_150717.pdf'}), Document(page_content='established. (April, JUSE)\\n\\n\\uf09f The QC Seminar for Managers was held.\\n\\n(May, JUSE)\\n\\n\\uf09f The Design of Experiment Seminar was\\n\\nheld. (May, JUSE)\\n\\n\\uf09f The JUSE Press, LTD. was established in June. (Renamed JUSE Press, Ltd. in Nov. 1966)\\n\\n\\uf09f Research on QC implementation in Japan\\n\\nwas conducted. (JSA)\\n\\n\\uf09f The Japan Industrial Training\\n\\nAssociation was founded and started the promotion of TWI and WSP.\\n\\n\\uf09f The Standardization Seminar was held.\\n\\n(JSA)\\n\\n\\uf09f He became the chief of ASQC Japan\\n\\nBranch. (–58)\\n\\n\\uf09f The JIS journal was renamed Standardization. (Jan., JSA)\\n\\n\\uf09f He appeared as a lecturer on Nihon\\n\\n\\uf09f The 6-day QC Introductory Seminar was\\n\\nShort-Wave Broadcasting’s program “QC Courses.”\\n\\nheld. (Apr., JUSE)\\n\\n\\uf09f The first issue of Operations Research journal was published. (June, JUSE)\\n\\n\\uf09f Nihon Short-Wave Broadcasting broadcast a program titled the QC\\n\\n503\\n\\n(Age 40) 1956\\n\\n(Age 41)\\n\\nA Parallel Chronology of Prof. Kaoru Ishikawa’s Life and TQC in Japan\\n\\nYear\\n\\nProf. Ishikawa’s Life', metadata={'source': '/content/gdrive/MyDrive/Projects/Digital_Deming/src_content/ParallelChronology_Ver2_150717.pdf'})]}]\n"
          ]
        }
      ]
    },
    {
      "cell_type": "code",
      "execution_count": 113,
      "metadata": {
        "id": "aBESyBaS1tYH"
      },
      "outputs": [],
      "source": [
        "qa = VectorDBQA.from_chain_type(llm=OpenAI(), chain_type=\"stuff\", vectorstore=docsearch, return_source_documents=True)\n",
        "#query = \"what is the impact of JUSE on TQM?\"\n",
        "#query = \"what is the purpouse of life?\"\n",
        "#query = \"what does demming like for lunch\"\n",
        "#query = \"is quality like a human\"\n",
        "#query = \"what is the fourth rule of TQM\"\n",
        "#query = \"Write a detailed introduction of the significance of TQM in the modern business world\"\n",
        "#query = \"Introduction to Kaoru Ishikawa and the Japanese Union of Scientists and Engineers (JUSE)\"\n",
        "query = \" Write a Thesis Statement regarding TQM, Kaoru Ishikawa, Japanese Union of Scientists and engineers.\"\n",
        "result = qa({\"query\": query})"
      ]
    },
    {
      "cell_type": "code",
      "execution_count": 114,
      "metadata": {
        "colab": {
          "base_uri": "https://localhost:8080/",
          "height": 71
        },
        "outputId": "99ba8ba2-edd9-4cea-88a7-4d23bfb33ef8",
        "id": "8JPTo8w21tYH"
      },
      "outputs": [
        {
          "output_type": "execute_result",
          "data": {
            "text/plain": [
              "\" Kaoru Ishikawa's contributions to TQM, such as his research on coal briquettes, membership in the Japanese Association of University Professors, and involvement in the International Organization for Standardization, helped to shape the development of TQM in Japan as part of the Japanese Union of Scientists and Engineers.\""
            ],
            "application/vnd.google.colaboratory.intrinsic+json": {
              "type": "string"
            }
          },
          "metadata": {},
          "execution_count": 114
        }
      ],
      "source": [
        "result['result']"
      ]
    },
    {
      "cell_type": "code",
      "source": [
        "#append result  to the array\n",
        "introduction.append(result)\n",
        "\n",
        "#print the array\n",
        "print(introduction)"
      ],
      "metadata": {
        "colab": {
          "base_uri": "https://localhost:8080/"
        },
        "outputId": "4d4e9ecc-2c0a-4cc0-b1f4-d480d9068931",
        "id": "twCsDUR-1tYH"
      },
      "execution_count": 115,
      "outputs": [
        {
          "output_type": "stream",
          "name": "stdout",
          "text": [
            "[{'query': 'what is Total Quality Management (TQM)', 'result': ' Total Quality Management (TQM) is a management approach that focuses on continuous improvement of quality in order to meet customer requirements and improve the overall performance of an organization. It is a system for ensuring that all processes and products meet the highest standards of quality, from design to delivery.', 'source_documents': [Document(page_content='Medal. (ASQC)\\n\\n\\uf09f The Pharmaceutical Manufacturing and Quality Control (GMP) Seminar was held. (Sep., JUSE)\\n\\n\\uf09f The Japan Prefabricated Construction\\n\\nSuppliers and Manufacturers Association held TQC seminars.\\n\\n\\uf09f Noboru Takagi was elected as the 22nd\\n\\npresident of the IEC.\\n\\n\\uf09f The 4th ICPR Conference (IE\\n\\ninternational conference) was held. \\uf09f The 24th QCS: Quality design and\\n\\n\\uf09f Quality Control Handbook (New Edition)\\n\\nprocess design.\\n\\nwritten and edited by Ishikawa was published. (The second edition was published in April, 1988, JSA)\\n\\n\\uf09f The 25th QCS: Small-group activities\\n\\nand QC.\\n\\n1978\\n\\nApril 1\\n\\n\\uf09f He became the President of Musashi\\n\\n\\uf09f The Construction Industry TQC\\n\\nInstitute of Technology.\\n\\nRound-table Conference was held. (JSA)\\n\\n\\uf09f He became the director of Goto-Ikueikai. \\uf09f He became the director of the Tokyu Foundation for Foreign Students.\\n\\n\\uf09f He became the chairperson of the board\\n\\nof directors of the Japan-China Industrial Technology and Culture Center. (–82)', metadata={'source': '/content/gdrive/MyDrive/Projects/Digital_Deming/src_content/ParallelChronology_Ver2_150717.pdf'}), Document(page_content='1) AGREE: Advisory Group on Reliability of Electronic Equipment 2) AOTS: Association for Overseas Technical Scholarship 3) APO: Asian Productivity Organization 4) ASA: American Standards Association 5) ASQC: American Society for Quality Control 6) BS: British Standards 7) CCS: Civil Communication Section 8) COSCO: Control System Committee 9) EOQC: European Organization for Quality Control 10) EOQ: European Organization for Quality 11) EFQM: European Foundation for Quality Management 12) FMES: Japan Federation of Managerial Engineering Societies\\n\\n524\\n\\nA Parallel Chronology of Prof. Kaoru Ishikawa’s Life and TQC in Japan', metadata={'source': '/content/gdrive/MyDrive/Projects/Digital_Deming/src_content/ParallelChronology_Ver2_150717.pdf'}), Document(page_content='(Oct., JUSE)\\n\\n\\uf09f A ceremony to celebrate the 10th\\n\\nanniversary of Deming Prize was held, inviting Deming, Rao, Wilks, Cochran, and Hamerker. (JUSE)\\n\\n\\uf09f Dr. Deming was awarded with the Second Class Order of the Sacred Treasure.\\n\\n\\uf09f It was decided to establish November as “Quality Month” and the QC promotion banner was adopted. During this month, lectures were held around the country. Quality Month textbooks were published,\\n\\n505\\n\\n(Age 44)\\n\\n1960\\n\\nApril 1\\n\\n(Age 45)\\n\\nA Parallel Chronology of Prof. Kaoru Ishikawa’s Life and TQC in Japan\\n\\nYear\\n\\nProf. Ishikawa’s Life\\n\\nMajor Events in the Development of QC\\n\\nand promotional posters were distributed.\\n\\n\\uf09f An NHK educational program The Quality of Japanese Products (the Quality Month Broadcast) was broadcast on NHK Radio 2.\\n\\n\\uf09f The Association of Technical High\\n\\nSchool Principals started QC lectures.\\n\\n1961\\n\\n\\uf09f After the reorganization of the', metadata={'source': '/content/gdrive/MyDrive/Projects/Digital_Deming/src_content/ParallelChronology_Ver2_150717.pdf'}), Document(page_content='Deming Application Prize. It was the first construction company to win the prize. (Nov.)\\n\\n\\uf09f A committee to research QC in the\\n\\nservice industry was established. (Nov.,\\n\\nA Parallel Chronology of Prof. Kaoru Ishikawa’s Life and TQC in Japan\\n\\nYear\\n\\nProf. Ishikawa’s Life\\n\\nMajor Events in the Development of QC\\n\\ncommissioned by the Ministry of the Environment.)\\n\\n\\uf09f His book Control Points of Quality (joint authorship) (Zeimukeiri Kyokai) was awarded Nikkei Quality Control Literature Prize.\\n\\nJUSE)\\n\\n\\uf09f The 28th QCS: New product planning\\n\\nand market research.\\n\\n\\uf09f The 29th QCS: Future Quality\\n\\nControl—challenges in the 1980s.\\n\\n1980\\n\\n\\uf09f He became a council member of the Japan Standards Association. (–84)\\n\\n\\uf09f He became a council member of the Japanese Society for Quality Control. (–82)\\n\\n\\uf09f He became the chair of the Nuclear\\n\\nPower Plant Quality Assurance Review Committee. (MITI)\\n\\n\\uf09f He became the chair of the Management\\n\\nResearch Group of Japan-China Economic Association.', metadata={'source': '/content/gdrive/MyDrive/Projects/Digital_Deming/src_content/ParallelChronology_Ver2_150717.pdf'})]}, {'query': 'Write a detailed introduction of the significance of TQM in the modern business world', 'result': '\\n\\nTotal Quality Management (TQM) is an approach to business management that focuses on improving the effectiveness and efficiency of operations, as well as consistently delivering the highest quality products and services to customers. It is based on the principles of continuous improvement, customer satisfaction, and employee engagement. TQM seeks to eliminate waste in all forms and to use resources in the most efficient way. It also encourages teams to identify opportunities for improvement, to analyze problems, and to develop creative solutions. In this way, TQM helps businesses to reduce costs, increase profitability, and improve customer satisfaction. It also helps to foster a culture of trust, collaboration, and accountability among employees. TQM is a powerful tool for businesses of all sizes, from small businesses to large corporations, and it is increasingly being adopted by organizations around the world.', 'source_documents': [Document(page_content='1) AGREE: Advisory Group on Reliability of Electronic Equipment 2) AOTS: Association for Overseas Technical Scholarship 3) APO: Asian Productivity Organization 4) ASA: American Standards Association 5) ASQC: American Society for Quality Control 6) BS: British Standards 7) CCS: Civil Communication Section 8) COSCO: Control System Committee 9) EOQC: European Organization for Quality Control 10) EOQ: European Organization for Quality 11) EFQM: European Foundation for Quality Management 12) FMES: Japan Federation of Managerial Engineering Societies\\n\\n524\\n\\nA Parallel Chronology of Prof. Kaoru Ishikawa’s Life and TQC in Japan', metadata={'source': '/content/gdrive/MyDrive/Projects/Digital_Deming/src_content/ParallelChronology_Ver2_150717.pdf'}), Document(page_content='Deming Application Prize. It was the first construction company to win the prize. (Nov.)\\n\\n\\uf09f A committee to research QC in the\\n\\nservice industry was established. (Nov.,\\n\\nA Parallel Chronology of Prof. Kaoru Ishikawa’s Life and TQC in Japan\\n\\nYear\\n\\nProf. Ishikawa’s Life\\n\\nMajor Events in the Development of QC\\n\\ncommissioned by the Ministry of the Environment.)\\n\\n\\uf09f His book Control Points of Quality (joint authorship) (Zeimukeiri Kyokai) was awarded Nikkei Quality Control Literature Prize.\\n\\nJUSE)\\n\\n\\uf09f The 28th QCS: New product planning\\n\\nand market research.\\n\\n\\uf09f The 29th QCS: Future Quality\\n\\nControl—challenges in the 1980s.\\n\\n1980\\n\\n\\uf09f He became a council member of the Japan Standards Association. (–84)\\n\\n\\uf09f He became a council member of the Japanese Society for Quality Control. (–82)\\n\\n\\uf09f He became the chair of the Nuclear\\n\\nPower Plant Quality Assurance Review Committee. (MITI)\\n\\n\\uf09f He became the chair of the Management\\n\\nResearch Group of Japan-China Economic Association.', metadata={'source': '/content/gdrive/MyDrive/Projects/Digital_Deming/src_content/ParallelChronology_Ver2_150717.pdf'}), Document(page_content='establishment of the Deming Prize Dr. Deming was invited to Japan. (Nov., JUSE)\\n\\n\\uf09f The Service Industry QC Conference was\\n\\n\\uf09f He became an honorary member of the\\n\\nheld (JUSE)\\n\\nColumbian Quality Control Association.\\n\\n\\uf09f The 40th QCS: TQC—to decide the\\n\\nfuture direction.\\n\\n\\uf09f The 41th QCS: TCC—Measures and\\n\\nperspective.\\n\\n521\\n\\n(Age 70)\\n\\nA Parallel Chronology of Prof. Kaoru Ishikawa’s Life and TQC in Japan\\n\\nYear\\n\\n1986\\n\\nProf. Ishikawa’s Life\\n\\nMajor Events in the Development of QC\\n\\n\\uf09f He gave a lecture to American\\n\\n\\uf09f The 15th Anniversary Party of the\\n\\nHouse of Representatives’ Research Delegation. His lecture inspired them to establish the Malcolm Baldrige National Quality Award. (Jan.)\\n\\n\\uf09f He became the vice-president of the International Standardization Forum. \\uf09f He became an advisory member of the Executive Committee of the 46th Conference of the International Statistical Institute. (–87)\\n\\n\\uf09f He became a program', metadata={'source': '/content/gdrive/MyDrive/Projects/Digital_Deming/src_content/ParallelChronology_Ver2_150717.pdf'}), Document(page_content='Jan. 23\\n\\n\\uf09f A party to celebrate his honor conferred decoration was held at the Hotel Okura.\\n\\nJan. 31\\n\\n\\uf09f He published Introduction to\\n\\nQuality Control (3rd Edition). (JUSE Press)\\n\\nThe English edition:\\n\\nIntroduction to Quality Control (3rd\\n\\n523\\n\\n\\uf09f The 2000th Memorial QC Circle\\n\\nConference was held. (March, QC Circle Headquarters)\\n\\n\\uf09f EFQM was founded. (Sep.) \\uf09f The Software Quality Control Seminar for Managers was held. (Oct., JUSE)\\n\\n\\uf09f The 1st Malcolm Baldrige National Quality Award was awarded. (Oct., America)\\n\\n\\uf09f Joban Hawaiian Center was awarded the Deming Application Prize for Division, as the first service company to win the prize. (Nov.)\\n\\n\\uf09f ICQCC ’88-Taipei was held. (Nov.,\\n\\nTaipei)\\n\\n\\uf09f The number of foreign companies too whom the use of JIS mark is permitted exceeded 100.\\n\\n\\uf09f The 46th QCS: Quality control\\n\\ntraining—current situation and future direction.\\n\\n\\uf09f The 47th QCS: New product planning\\n\\nand market research—how to understand the quality required by customers.', metadata={'source': '/content/gdrive/MyDrive/Projects/Digital_Deming/src_content/ParallelChronology_Ver2_150717.pdf'})]}, {'query': 'Introduction to Kaoru Ishikawa and the Japanese Union of Scientists and Engineers (JUSE)', 'result': ' Kaoru Ishikawa was a lecturer at the University of Tokyo in the Department of Fuel Engineering. He was also a member of the ISO/TC 102 Japan Committee and served as the chair of the Sampling Subcommittee. In 1949, he became an instructor of the QC Basic Course for the Japanese Union of Scientists and Engineers. He gave the first lecture in the QC Basic Course and introduced Rice’s Control Chart in July of that year. He was also the vice-chair of the Editorial Committee of Hinshitsu Kanri (Statistical Quality Control) from 1950-52. In 1956, he became the chief of ASQC Japan Branch.', 'source_documents': [Document(page_content='department, Ishikawa belonged to the 4th Fuel Engineering Laboratory (Applied Combustible Science). (the University of Tokyo)\\n\\n\\uf09f He became a lecturer of the Introductory\\n\\n\\uf09f The QC Seminar for Managers and the QC Seminar for Supervisors started. (Central Japan Industries Association)\\n\\n\\uf09f Introductory Course for Design of\\n\\nExperiment was held. (Apr., JUSE) \\uf09f The Asian Productivity Organization\\n\\nCourse for Design of Experiment. (JUSE)\\n\\n(APO) was founded. (May) \\uf09f Japan became the secretariat of\\n\\n\\uf09f He became a member of the ISO/TC 102 Japan Committee and served as the chair of the Sampling Subcommittee. (–81, Japan Iron and Steel Federation)\\n\\n\\uf09f He was awarded with the Fuel Society of\\n\\n(Age 46) 1962\\n\\nJapan Award.\\n\\nISO/TC102 (iron ore).\\n\\n\\uf09f The Japan Consumers’ Association was\\n\\nfounded. (Sep.)\\n\\n\\uf09f The “Supervisor Special Issue” of\\n\\nHinshitsu Kanri (Statistical Quality Control) was issued. (Nov., JUSE)\\n\\n\\uf09f He became the chair of the editorial board of Genba To QC-magazine. (JUSE)', metadata={'source': '/content/gdrive/MyDrive/Projects/Digital_Deming/src_content/ParallelChronology_Ver2_150717.pdf'}), Document(page_content='Committee was established. (One of its research themes was to research QC.) (JUSE)\\n\\n\\uf09f The GHQ-CCS Course was held.\\n\\n\\uf09f The name of the course which he taught was changed from the 3rd Petroleum Refinery Engineering Laboratory to the Fuel Engineering Laboratory. (the University of Tokyo)\\n\\n\\uf09f He became an instructor of the QC Basic\\n\\nCourse. (JUSE)\\n\\n\\uf09f He joined the QC Research Group and\\n\\nstarted to research QC. (JUSE)\\n\\n(Age 33)\\n\\n1949\\n\\n(Age 34) 1950\\n\\n(Age 35)\\n\\n\\uf09f He became the Vice-chair of the Editorial Committee of Hinshitsu Kanri (Statistical Quality Control). (–52, JUSE)\\n\\n\\uf09f JUSE started publication of Hinshitsu Kanri (Statistical Quality Control). (March)\\n\\n500\\n\\nA Parallel Chronology of Prof. Kaoru Ishikawa’s Life and TQC in Japan\\n\\nYear\\n\\nProf. Ishikawa’s Life\\n\\nMajor Events in the Development of QC\\n\\n\\uf09f He gave the first lecture in the QC Basic Course and introduced Rice’s Control Chart. (July 21, JUSE)', metadata={'source': '/content/gdrive/MyDrive/Projects/Digital_Deming/src_content/ParallelChronology_Ver2_150717.pdf'}), Document(page_content='\\uf09f He became the vice-chair of the Reliability and Maintainability Symposium Organizing Committee. (JUSE)\\n\\n\\uf09f He became the chair of the Organizing Committee of the JUSE Course for Purchasing. (JUSE)\\n\\n\\uf09f The Sensory Test Overseas Research Team was dispatched. (May, JUSE) \\uf09f The Standardization Mission Team (headed by Hidehiko Azuma) was dispatched to the USSR. (JSA) \\uf09f The 2nd Japan-America Joint Symposium on Bulk Material Sampling was held. (Oct., Hawaii)\\n\\n\\uf09f October 14 was declared as World\\n\\nStandards Day. (ISO)\\n\\n\\uf09f The Japanese Society for Quality Control foundation meeting was held. (Nov.) \\uf09f The 11th QCS: Planning and quality. \\uf09f The 12th QCS: Product safety, pollution\\n\\nand QC.\\n\\n\\uf09f The QC Correspondence Basic Course for Foremen was held. (Jan., JUSE) \\uf09f The QC Circle Hokkaido Regional\\n\\nChapter was founded. (March, QC Circle Headquarters)\\n\\n\\uf09f Reliability Symposium [71–, Reliability and Maintainability Symposium] was held. (Apr., JUSE)\\n\\n\\uf09f The Japanese Society for Quality Control', metadata={'source': '/content/gdrive/MyDrive/Projects/Digital_Deming/src_content/ParallelChronology_Ver2_150717.pdf'}), Document(page_content='established. (April, JUSE)\\n\\n\\uf09f The QC Seminar for Managers was held.\\n\\n(May, JUSE)\\n\\n\\uf09f The Design of Experiment Seminar was\\n\\nheld. (May, JUSE)\\n\\n\\uf09f The JUSE Press, LTD. was established in June. (Renamed JUSE Press, Ltd. in Nov. 1966)\\n\\n\\uf09f Research on QC implementation in Japan\\n\\nwas conducted. (JSA)\\n\\n\\uf09f The Japan Industrial Training\\n\\nAssociation was founded and started the promotion of TWI and WSP.\\n\\n\\uf09f The Standardization Seminar was held.\\n\\n(JSA)\\n\\n\\uf09f He became the chief of ASQC Japan\\n\\nBranch. (–58)\\n\\n\\uf09f The JIS journal was renamed Standardization. (Jan., JSA)\\n\\n\\uf09f He appeared as a lecturer on Nihon\\n\\n\\uf09f The 6-day QC Introductory Seminar was\\n\\nShort-Wave Broadcasting’s program “QC Courses.”\\n\\nheld. (Apr., JUSE)\\n\\n\\uf09f The first issue of Operations Research journal was published. (June, JUSE)\\n\\n\\uf09f Nihon Short-Wave Broadcasting broadcast a program titled the QC\\n\\n503\\n\\n(Age 40) 1956\\n\\n(Age 41)\\n\\nA Parallel Chronology of Prof. Kaoru Ishikawa’s Life and TQC in Japan\\n\\nYear\\n\\nProf. Ishikawa’s Life', metadata={'source': '/content/gdrive/MyDrive/Projects/Digital_Deming/src_content/ParallelChronology_Ver2_150717.pdf'})]}, {'query': ' Write a Thesis Statement regarding TQM, Kaoru Ishikawa, Japanese Union of Scientists and engineers.', 'result': \" Kaoru Ishikawa's contributions to TQM, such as his research on coal briquettes, membership in the Japanese Association of University Professors, and involvement in the International Organization for Standardization, helped to shape the development of TQM in Japan as part of the Japanese Union of Scientists and Engineers.\", 'source_documents': [Document(page_content='\\uf09f He became an associate professor at the First Faculty of Engineering, Tokyo Imperial University. (Department of Petroleum Engineering, the 3rd\\n\\n\\uf09f The International Organization for\\n\\nStandardization (ISO) was founded. (Feb.)\\n\\n499\\n\\nA Parallel Chronology of Prof. Kaoru Ishikawa’s Life and TQC in Japan\\n\\nYear\\n\\nProf. Ishikawa’s Life\\n\\nMajor Events in the Development of QC\\n\\n1948 Nov. 20\\n\\nPetroleum Refinery Engineering Laboratory)\\n\\n\\uf09f He started research on coal briquettes.\\n\\n\\uf09f His second son, Akira, was born. \\uf09f He and Masumasa Imaizumi (then a graduate student) began studying statistical methods (at the University of Tokyo).\\n\\n\\uf09f He became a member of the Japanese Association of University Professors. \\uf09f He became a member of the Japanese Society for Engineering Education.\\n\\n\\uf09f A statistics workshop was held to offer a\\n\\nwide introduction to QC. (Aug. the Society for Applied Mechanics)', metadata={'source': '/content/gdrive/MyDrive/Projects/Digital_Deming/src_content/ParallelChronology_Ver2_150717.pdf'}), Document(page_content='Deming Application Prize. It was the first construction company to win the prize. (Nov.)\\n\\n\\uf09f A committee to research QC in the\\n\\nservice industry was established. (Nov.,\\n\\nA Parallel Chronology of Prof. Kaoru Ishikawa’s Life and TQC in Japan\\n\\nYear\\n\\nProf. Ishikawa’s Life\\n\\nMajor Events in the Development of QC\\n\\ncommissioned by the Ministry of the Environment.)\\n\\n\\uf09f His book Control Points of Quality (joint authorship) (Zeimukeiri Kyokai) was awarded Nikkei Quality Control Literature Prize.\\n\\nJUSE)\\n\\n\\uf09f The 28th QCS: New product planning\\n\\nand market research.\\n\\n\\uf09f The 29th QCS: Future Quality\\n\\nControl—challenges in the 1980s.\\n\\n1980\\n\\n\\uf09f He became a council member of the Japan Standards Association. (–84)\\n\\n\\uf09f He became a council member of the Japanese Society for Quality Control. (–82)\\n\\n\\uf09f He became the chair of the Nuclear\\n\\nPower Plant Quality Assurance Review Committee. (MITI)\\n\\n\\uf09f He became the chair of the Management\\n\\nResearch Group of Japan-China Economic Association.', metadata={'source': '/content/gdrive/MyDrive/Projects/Digital_Deming/src_content/ParallelChronology_Ver2_150717.pdf'}), Document(page_content='University. (–70)\\n\\n\\uf09f He gave a special lecture and acted as a discussion leader at the Quality Control Symposium held in Tokyo, welcoming representatives from various countries in Asia. (APO)\\n\\n\\uf09f He published How to Establish Product\\n\\nStandards of Japanese Industrial Standards. (JSA)\\n\\n\\uf09f He became an advisor to the Japan\\n\\nProductivity Center.\\n\\n(Age 49)\\n\\n507\\n\\nA Parallel Chronology of Prof. Kaoru Ishikawa’s Life and TQC in Japan\\n\\nYear\\n\\n1965\\n\\nProf. Ishikawa’s Life\\n\\nMajor Events in the Development of QC\\n\\n\\uf09f He joined the 2nd QC Overseas Research\\n\\n\\uf09f Genba To QC-magazine established the\\n\\nTeam as the head of the delegation (JUSE). He introduced the activities of QC circles at the ASQC Annual Conference. \\uf09f He became a member of the Quality Control Symposium Organizing Committee. (–78, JUSE)\\n\\n\\uf09f JIS M 8100 “Particulate materials –\\n\\nGeneral rules for methods of sampling” was established. (He served as the chair of the Draft Committee.)\\n\\nFQC Award. (Jan., JUSE)', metadata={'source': '/content/gdrive/MyDrive/Projects/Digital_Deming/src_content/ParallelChronology_Ver2_150717.pdf'}), Document(page_content='A Parallel Chronology of\\n\\nProf. Kaoru Ishikawa’s Life and TQC in Japan\\n\\nA Parallel Chronology of Prof. Kaoru Ishikawa’s Life and TQC in Japan\\n\\nProf. Ishikawa’s Life\\n\\nMajor Events in the Development of QC\\n\\n\\uf09f Born in Nishigahara, Takinogawa Ward, Tokyo City as the first son of Ichiro and Tomiko Ishikawa\\n\\nYear\\n\\n1915\\n\\nJuly 13\\n\\n1923\\n\\n\\uf09f Entered Elementary School attached to\\n\\n\\uf09f Shewhart devised the control chart.\\n\\n(Age 8)\\n\\nTokyo Higher Normal School\\n\\n(1924)\\n\\n1928\\n\\n\\uf09f Entered Junior High School attached to\\n\\n(Age 13)\\n\\nTokyo Higher Normal School\\n\\n1933\\n\\n\\uf09f Kinnosuke Ogura suggested the\\n\\npossibility of the application of statistical methods to the production process. (1924)\\n\\n(Age 18)\\n\\n\\uf09f Entered Tokyo High School\\n\\n\\uf09f Fisher’s Statistical Method for Research\\n\\nWorkers was published. (1925) \\uf09f Yasushi Ishida (Tokyo Electric\\n\\nCompany) introduced statistical methods to the production of lightbulbs. (1929) \\uf09f Dodge and Roming proposed a method of sampling inspection with screening. (1929)', metadata={'source': '/content/gdrive/MyDrive/Projects/Digital_Deming/src_content/ParallelChronology_Ver2_150717.pdf'})]}]\n"
          ]
        }
      ]
    },
    {
      "cell_type": "markdown",
      "source": [
        "Let's see if we can output this to markdown"
      ],
      "metadata": {
        "id": "JiKj9LKC2QN-"
      }
    },
    {
      "cell_type": "code",
      "source": [
        "concatenated_data = [str(item) for item in introduction]\n",
        "for entry in concatenated_data:\n",
        "    print(\"Processing entry: \")\n",
        "    messages = [\n",
        "        SystemMessage(content=\"You are an AI that takes dictionary data and translates it into well formatted markdown. You create sections and subsections to communicate as much information as possible\"),\n",
        "        HumanMessage(content=entry)\n",
        "    ]\n",
        "    result = chat(messages)\n",
        "\n",
        "    print(\"Result: \", result)"
      ],
      "metadata": {
        "colab": {
          "base_uri": "https://localhost:8080/"
        },
        "id": "XOkkfs7n2TKi",
        "outputId": "679bb703-f6c0-49d1-8c36-bdbeb251e916"
      },
      "execution_count": 116,
      "outputs": [
        {
          "output_type": "stream",
          "name": "stdout",
          "text": [
            "Processing entry: \n",
            "Result:  content='# Total Quality Management (TQM)\\n\\nTotal Quality Management (TQM) is a management approach that focuses on continuous improvement of quality in order to meet customer requirements and improve the overall performance of an organization. It is a system for ensuring that all processes and products meet the highest standards of quality, from design to delivery.\\n\\n## Source Documents\\n\\nThe information on Total Quality Management (TQM) was sourced from the following documents:\\n\\n- Medal. (ASQC)\\n- The Pharmaceutical Manufacturing and Quality Control (GMP) Seminar was held. (Sep., JUSE)\\n- The Japan Prefabricated Construction Suppliers and Manufacturers Association held TQC seminars.\\n- Noboru Takagi was elected as the 22nd president of the IEC.\\n- The 4th ICPR Conference (IE international conference) was held.\\n- The 24th QCS: Quality design and process design written and edited by Ishikawa was published. (The second edition was published in April, 1988, JSA)\\n- The 25th QCS: Small-group activities and QC.\\n\\n## Major Events in the Development of QC\\n\\nThe following are major events in the development of Quality Control (QC):\\n\\n- A ceremony to celebrate the 10th anniversary of Deming Prize was held, inviting Deming, Rao, Wilks, Cochran, and Hamerker. (JUSE)\\n- Dr. Deming was awarded with the Second Class Order of the Sacred Treasure.\\n- It was decided to establish November as “Quality Month” and the QC promotion banner was adopted. During this month, lectures were held around the country. Quality Month textbooks were published, and promotional posters were distributed.\\n- An NHK educational program The Quality of Japanese Products (the Quality Month Broadcast) was broadcast on NHK Radio 2.\\n- The Association of Technical High School Principals started QC lectures.\\n- A committee to research QC in the service industry was established. (Nov., commissioned by the Ministry of the Environment.)\\n- His book Control Points of Quality (joint authorship) (Zeimukeiri Kyokai) was awarded Nikkei Quality Control Literature Prize.\\n- The 28th QCS: New product planning and market research.\\n- The 29th QCS: Future Quality Control—challenges in the 1980s.\\n- He became a council member of the Japan Standards Association. (–84)\\n- He became a council member of the Japanese Society for Quality Control. (–82)\\n- He became the chair of the Nuclear Power Plant Quality Assurance Review Committee. (MITI)\\n- He became the chair of the Management Research Group of Japan-China Economic Association.' additional_kwargs={} example=False\n",
            "Processing entry: \n",
            "Result:  content='# Introduction to Total Quality Management (TQM)\\n\\nTotal Quality Management (TQM) is an approach to business management that focuses on improving the effectiveness and efficiency of operations, as well as consistently delivering the highest quality products and services to customers. It is based on the principles of continuous improvement, customer satisfaction, and employee engagement. \\n\\n## Principles of TQM\\n\\nTQM seeks to eliminate waste in all forms and to use resources in the most efficient way. It also encourages teams to identify opportunities for improvement, to analyze problems, and to develop creative solutions. In this way, TQM helps businesses to reduce costs, increase profitability, and improve customer satisfaction. It also helps to foster a culture of trust, collaboration, and accountability among employees.\\n\\n## Importance of TQM in the Modern Business World\\n\\nTQM is a powerful tool for businesses of all sizes, from small businesses to large corporations, and it is increasingly being adopted by organizations around the world. With the ever-increasing competition in the modern business world, TQM has become a necessity for businesses to survive and thrive. By implementing TQM, businesses can improve their operations, reduce costs, increase profitability, and ultimately improve customer satisfaction. \\n\\nTQM also helps businesses to foster a culture of continuous improvement, which is essential for staying ahead of the competition. By continuously improving their operations, businesses can stay relevant and adapt to changing market conditions. \\n\\nIn conclusion, TQM is a crucial approach to business management that can help businesses to improve their operations, reduce costs, increase profitability, and ultimately improve customer satisfaction. It is a powerful tool that can help businesses to stay ahead of the competition and adapt to changing market conditions.' additional_kwargs={} example=False\n",
            "Processing entry: \n",
            "Result:  content='# Introduction to Kaoru Ishikawa and the Japanese Union of Scientists and Engineers (JUSE)\\n\\nKaoru Ishikawa was a lecturer at the University of Tokyo in the Department of Fuel Engineering. He was also a member of the ISO/TC 102 Japan Committee and served as the chair of the Sampling Subcommittee. \\n\\nIn 1949, he became an instructor of the QC Basic Course for the Japanese Union of Scientists and Engineers (JUSE). He gave the first lecture in the QC Basic Course and introduced Rice’s Control Chart in July of that year. He was also the vice-chair of the Editorial Committee of Hinshitsu Kanri (Statistical Quality Control) from 1950-52. \\n\\nIn 1956, he became the chief of ASQC Japan Branch.\\n\\n## Career Highlights\\n\\n- Lecturer at the University of Tokyo in the Department of Fuel Engineering\\n- Member of the ISO/TC 102 Japan Committee and served as the chair of the Sampling Subcommittee\\n- Instructor of the QC Basic Course for the Japanese Union of Scientists and Engineers (JUSE)\\n- Vice-chair of the Editorial Committee of Hinshitsu Kanri (Statistical Quality Control) from 1950-52\\n- Chief of ASQC Japan Branch in 1956\\n\\n## Timeline of Events\\n\\n- 1949: Became an instructor of the QC Basic Course for JUSE and gave the first lecture in the QC Basic Course\\n- 1950-52: Served as the vice-chair of the Editorial Committee of Hinshitsu Kanri (Statistical Quality Control)\\n- 1956: Became the chief of ASQC Japan Branch' additional_kwargs={} example=False\n",
            "Processing entry: \n",
            "Result:  content=\"# Thesis Statement on TQM, Kaoru Ishikawa, and Japanese Union of Scientists and Engineers\\n\\nKaoru Ishikawa's contributions to Total Quality Management (TQM) were significant in shaping its development in Japan. His involvement in the Japanese Union of Scientists and Engineers, membership in the Japanese Association of University Professors, and research on coal briquettes and statistical methods were instrumental in advancing TQM in Japan. Additionally, his participation in the International Organization for Standardization helped to establish TQM as a global standard.\" additional_kwargs={} example=False\n"
          ]
        }
      ]
    },
    {
      "cell_type": "code",
      "source": [],
      "metadata": {
        "id": "EEkzYM59D-7K"
      },
      "execution_count": 116,
      "outputs": []
    },
    {
      "cell_type": "code",
      "source": [
        "\n",
        "  messages = [\n",
        "      SystemMessage(content=\"You are an assistant helping me research a paper\"),\n",
        "      HumanMessage(content=\"return an outline for the book - The History and Evolution of Total Quality Management (TQM): The Contributions of Kaoru Ishikawa and the Japanese Union of Scientists and Engineers (JUSE) \")\n",
        "  ]\n",
        "  result = chat(messages)\n",
        "\n",
        "  print(\"Result: \", result)"
      ],
      "metadata": {
        "colab": {
          "base_uri": "https://localhost:8080/"
        },
        "outputId": "85d7d43f-e6e4-45e3-9c68-0c98d58b9168",
        "id": "i13ml9pdD_Dn"
      },
      "execution_count": 117,
      "outputs": [
        {
          "output_type": "stream",
          "name": "stdout",
          "text": [
            "Result:  content=\"I. Introduction\\n- Brief overview of Total Quality Management (TQM)\\n- Importance of studying the history and evolution of TQM\\n- Thesis statement\\n\\nII. The Origins of TQM\\n- Early quality control practices in manufacturing\\n- The role of W. Edwards Deming in the development of TQM\\n- The impact of World War II on TQM\\n\\nIII. Kaoru Ishikawa and the Japanese Union of Scientists and Engineers (JUSE)\\n- Ishikawa's background and contributions to TQM\\n- The formation and goals of JUSE\\n- The development of Ishikawa's quality control tools\\n\\nIV. The Spread of TQM\\n- The influence of JUSE on TQM in Japan\\n- The adoption of TQM by American companies\\n- The impact of TQM on global business practices\\n\\nV. Criticisms and Challenges of TQM\\n- Criticisms of TQM's effectiveness\\n- Challenges in implementing TQM in organizations\\n- The future of TQM\\n\\nVI. Conclusion\\n- Summary of key points\\n- Implications for future research and practice.\" additional_kwargs={} example=False\n"
          ]
        }
      ]
    },
    {
      "cell_type": "code",
      "source": [
        "#from langchain.prompts import PromptTemplate\n",
        "prompt_template = \"\"\"Use the following pieces of context to answer the question at the end. If you don't know the answer, just say that you don't know, don't try to make up an answer.\n",
        "Here is the structure of the paper:\n",
        "\n",
        "The History and Evolution of Total Quality Management (TQM): The Contributions of Kaoru Ishikawa and the Japanese Union of Scientists and Engineers (JUSE)\n",
        "I. Introduction\n",
        "Definition of Total Quality Management (TQM)\n",
        "Brief introduction of the significance of TQM in the modern business world\n",
        "Introduction to Kaoru Ishikawa and the Japanese Union of Scientists and Engineers (JUSE)\n",
        "Thesis Statement\n",
        "III. The Birth and Evolution of TQM\n",
        "Introduction to the concept of TQM\n",
        "Overview of the principles and practices of TQM\n",
        "The role of TQM in post-World War II Japan's industrial comeback\n",
        "Adoption and evolution of TQM in the United States and around the world\n",
        "IV. The Role of Kaoru Ishikawa in the Development of TQM\n",
        "Introduction to Ishikawa: his background and career\n",
        "Ishikawa's contribution to the development of Quality Circles\n",
        "The development and importance of the Ishikawa (cause-and-effect) Diagram\n",
        "Ishikawa's philosophical contribution to TQM: the 'next process is your customer'\n",
        "V. The Role of the Japanese Union of Scientists and Engineers (JUSE)\n",
        "Background of JUSE and its role in the development of quality management in Japan\n",
        "Introduction of the Deming Prize by JUSE and its significance\n",
        "JUSE's role in promoting TQM and its principles in Japan and globally\n",
        "VI. The Impact of TQM, Ishikawa, and JUSE on Contemporary Business Practices\n",
        "Analysis of the role TQM plays in today's business and management practices\n",
        "The legacy of Ishikawa's methods and tools in current quality management\n",
        "Influence of JUSE's principles in contemporary quality initiatives and awards\n",
        "VII. Conclusion\n",
        "Summary of the importance and influence of TQM, Ishikawa, and JUSE in the field of quality management\n",
        "Restatement of Thesis\n",
        "Future implications of the principles and practices of TQM, Ishikawa, and JUSE in the global business landscape\n",
        "\n",
        "{context}\n",
        "\n",
        "Question: {question}\n",
        "Answer as if you are a quality management consultant. Use specific dates and references. Use bullet points and tabels where appropriate. Reference source documents:\n",
        "\n",
        "\"\"\"\n",
        "PROMPT = PromptTemplate(\n",
        "    template=prompt_template, input_variables=[\"context\", \"question\"]\n",
        ")\n",
        "chain_type_kwargs = {\"prompt\": PROMPT}\n",
        "qa = RetrievalQA.from_chain_type(llm=OpenAI(), chain_type=\"stuff\", retriever=docsearch.as_retriever(), chain_type_kwargs=chain_type_kwargs)\n",
        "query = \"Who won the Deming prize?\"\n",
        "qa.run(query)"
      ],
      "metadata": {
        "colab": {
          "base_uri": "https://localhost:8080/",
          "height": 71
        },
        "id": "9XOJqKmDGF3X",
        "outputId": "02cd0937-7a4e-400e-afa3-1bfcfe29adec"
      },
      "execution_count": 118,
      "outputs": [
        {
          "output_type": "execute_result",
          "data": {
            "text/plain": [
              "'The first winners of the Deming Prize in 1980 were Motosaburo Masuyama, Showa Denko, Tanabe Pharmaceuticals, Fuji Iron & Steel, and Yawata Iron & Steel. \\n\\nMotosaburo Masuyama won the Deming Prize for Individuals and the other four companies won the Deming Application Prize. The Deming Prize was established by the Japanese Union of Scientists and Engineers (JUSE) in November 1980.'"
            ],
            "application/vnd.google.colaboratory.intrinsic+json": {
              "type": "string"
            }
          },
          "metadata": {},
          "execution_count": 118
        }
      ]
    },
    {
      "cell_type": "code",
      "source": [
        "query = \"when was the last deming prize awarded\"\n",
        "qa.run(query)"
      ],
      "metadata": {
        "colab": {
          "base_uri": "https://localhost:8080/",
          "height": 107
        },
        "id": "IZ1IEhrkIsan",
        "outputId": "8355fdaf-a961-4fbc-eb5e-8269d2db0b57"
      },
      "execution_count": 119,
      "outputs": [
        {
          "output_type": "execute_result",
          "data": {
            "text/plain": [
              "'The last Deming Prize was awarded in November 2020. The Deming Prize Committee of the Japanese Union of Scientists and Engineers (JUSE) announced the winners of the 65th Deming Prize for Individuals and the 32nd Deming Application Prize. The winners of the 65th Deming Prize for Individuals were Dr. Tatsuo Yamamoto, President of the Japan Institute for Social and Economic Affairs, and Prof. Masayuki Yui, Professor Emeritus at the Graduate School of Economics, University of Tokyo. The 32nd Deming Application Prize was awarded to Tokio Marine & Nichido Fire Insurance Co., Ltd.'"
            ],
            "application/vnd.google.colaboratory.intrinsic+json": {
              "type": "string"
            }
          },
          "metadata": {},
          "execution_count": 119
        }
      ]
    },
    {
      "cell_type": "code",
      "source": [
        "query = \"who invented QC circle?\"\n",
        "qa.run(query)"
      ],
      "metadata": {
        "colab": {
          "base_uri": "https://localhost:8080/",
          "height": 124
        },
        "outputId": "84f5af2f-be00-400b-aae5-9e6ff4e73c4b",
        "id": "0n5-iNedJ2T5"
      },
      "execution_count": 142,
      "outputs": [
        {
          "output_type": "execute_result",
          "data": {
            "text/plain": [
              "'Ishikawa is widely credited with inventing Quality Circles. His work in this area began in the early 1960s while he was teaching at the University of Tokyo. His efforts to promote Quality Circles were supported by the Japanese Union of Scientists and Engineers (JUSE) and led to the establishment of the first Quality Circle Conference in 1971 in Taiwan. Ishikawa\\'s Quality Circles were further popularized by JUSE in the early 1970s, and in 1973, the 15th Quality Control Seminar was held with the theme of \"QC as a tool to overcome the economic depression.\" This seminar was a major milestone in promoting the use of Quality Circles and solidified Ishikawa\\'s role as the inventor of Quality Circles.'"
            ],
            "application/vnd.google.colaboratory.intrinsic+json": {
              "type": "string"
            }
          },
          "metadata": {},
          "execution_count": 142
        }
      ]
    },
    {
      "cell_type": "code",
      "source": [
        "query = \"when was the QC Circle Seminar for Top Management held\"\n",
        "qa.run(query)"
      ],
      "metadata": {
        "colab": {
          "base_uri": "https://localhost:8080/",
          "height": 107
        },
        "outputId": "b2bb7090-cb3c-4ae0-a8bc-4b340af1947c",
        "id": "BzlgGM95J2_S"
      },
      "execution_count": 121,
      "outputs": [
        {
          "output_type": "execute_result",
          "data": {
            "text/plain": [
              "'The QC Circle Seminar for Top Management was held from 1973 to 1971, under the chairmanship of Professor Kaoru Ishikawa. The seminar was organized by JUSE (Japanese Union of Scientists and Engineers). During this time, the 43rd QCS (Quality Control Symposium) was held, discussing \"New Technology Development/New Product Planning and Quality Control\" and the 44th QCS discussed \"10 Distinctive Features of Japanese Company-Wide Quality Control\". In addition, the 25th Anniversary Party for QC Circles was held in April, with the publication of the 25-year History of QC Circles and a national survey on the spread of QC circle activities.'"
            ],
            "application/vnd.google.colaboratory.intrinsic+json": {
              "type": "string"
            }
          },
          "metadata": {},
          "execution_count": 121
        }
      ]
    },
    {
      "cell_type": "markdown",
      "source": [
        "# The History and Evolution of Total Quality Management (TQM): The Contributions of Kaoru Ishikawa and the Japanese Union of Scientists and Engineers (JUSE)"
      ],
      "metadata": {
        "id": "-Yx4MUyLRJ1l"
      }
    },
    {
      "cell_type": "markdown",
      "source": [
        "## I. Introduction\n",
        "* Definition of Total Quality Management (TQM)\n",
        "* Brief introduction of the significance of TQM in the modern business world\n",
        "* Introduction to Kaoru Ishikawa and the Japanese Union of Scientists and Engineers (JUSE)\n",
        "* Thesis Statement"
      ],
      "metadata": {
        "id": "oXnKV5R-Q8P1"
      }
    },
    {
      "cell_type": "code",
      "source": [
        "query = \"write a Definition of Total Quality Management (TQM)\"\n",
        "qa.run(query)"
      ],
      "metadata": {
        "colab": {
          "base_uri": "https://localhost:8080/",
          "height": 142
        },
        "outputId": "b6fb73cb-5b60-4f9e-ae52-29b47b9a6e33",
        "id": "SYD__SwSRTOa"
      },
      "execution_count": 138,
      "outputs": [
        {
          "output_type": "execute_result",
          "data": {
            "text/plain": [
              "'Total Quality Management (TQM) is an approach to organizational management that emphasizes continuous improvement, customer satisfaction, and the involvement of all employees in the quality process. TQM was first developed in Japan in the 1950s and 1960s by Kaoru Ishikawa and the Japanese Union of Scientists and Engineers (JUSE). Specifically, Ishikawa introduced the concept of Quality Circles, the Ishikawa (cause-and-effect) Diagram, and the principle of “the next process is your customer”. JUSE also established the Deming Prize for quality management in 1951, and promoted TQM principles in Japan and around the world. Today, TQM is widely used in the business world and is accepted as a key factor in the success of organizations. It is an essential element of modern quality management systems, such as ISO 9000 and Six Sigma.'"
            ],
            "application/vnd.google.colaboratory.intrinsic+json": {
              "type": "string"
            }
          },
          "metadata": {},
          "execution_count": 138
        }
      ]
    },
    {
      "cell_type": "code",
      "source": [
        "query = \"write a Brief introduction of the significance of TQM in the modern business world\"\n",
        "qa.run(query)"
      ],
      "metadata": {
        "colab": {
          "base_uri": "https://localhost:8080/",
          "height": 160
        },
        "outputId": "d03cc851-fc37-4b4f-ebd7-82e48e2f9c2c",
        "id": "hZ2hwhHhRTOa"
      },
      "execution_count": 139,
      "outputs": [
        {
          "output_type": "execute_result",
          "data": {
            "text/plain": [
              "\"Total Quality Management (TQM) is a comprehensive approach to quality management that focuses on improving the efficiency and effectiveness of business processes. TQM has become a popular business strategy since its development in the 1950s and has been adopted by organizations around the world. In recent years, TQM has become increasingly important in the modern business world, as organizations strive to remain competitive in an ever-changing global market. \\n\\nTQM focuses on continually improving the quality of products and services by focusing on the customer, preventing defects, and improving processes. Its principles are applicable to all types of organizations, including manufacturing, healthcare, service, and government. \\n\\nThe development of TQM can be traced back to the 1950s, when Dr. W. Edwards Deming proposed a new system of quality management. Deming's work was further advanced by Kaoru Ishikawa, who developed the Ishikawa diagram, and the Japanese Union of Scientists and Engineers (JUSE), who established the Deming Application Prize in 1951 to recognize organizations that demonstrate excellence in quality management. \\n\\nIn recent years, TQM has become even more important as organizations look to improve efficiency and reduce costs. TQM has been adopted by organizations worldwide and has been used\""
            ],
            "application/vnd.google.colaboratory.intrinsic+json": {
              "type": "string"
            }
          },
          "metadata": {},
          "execution_count": 139
        }
      ]
    },
    {
      "cell_type": "code",
      "source": [
        "query = \"write an Introduction to Kaoru Ishikawa and the Japanese Union of Scientists and Engineers (JUSE)\"\n",
        "qa.run(query)"
      ],
      "metadata": {
        "colab": {
          "base_uri": "https://localhost:8080/",
          "height": 160
        },
        "outputId": "225582cd-d961-4661-ba7e-438a30e8265e",
        "id": "oLDF1e3ZRTOb"
      },
      "execution_count": 140,
      "outputs": [
        {
          "output_type": "execute_result",
          "data": {
            "text/plain": [
              "'\\nIntroduction to Kaoru Ishikawa and the Japanese Union of Scientists and Engineers (JUSE)\\n\\nKaoru Ishikawa was born in 1915 in Tokyo, Japan, and was a highly influential figure in the field of quality management. He was a professor of engineering at the University of Tokyo, in the 4th Fuel Engineering Laboratory (Applied Combustible Science). After World War II, he played a major role in the development of Total Quality Management (TQM) in Japan and around the world. \\n\\nThe Japanese Union of Scientists and Engineers (JUSE) was founded in 1949 as a non-profit organization dedicated to the promotion of quality management in Japan and abroad. JUSE was instrumental in the development and promotion of TQM, and was the sponsor of the Deming Prize, which is awarded annually for excellence in quality management. \\n\\nThe Contributions of Kaoru Ishikawa and JUSE to Quality Management: \\n\\n• Kaoru Ishikawa was a key figure in the development of TQM, and was responsible for introducing several important quality management concepts, such as Quality Circles and the Ishikawa (Cause-and-Effect) Diagram. \\n\\n• In 1956, Ishikawa was appointed as the chief of the'"
            ],
            "application/vnd.google.colaboratory.intrinsic+json": {
              "type": "string"
            }
          },
          "metadata": {},
          "execution_count": 140
        }
      ]
    },
    {
      "cell_type": "code",
      "source": [
        "query = \"write an Thesis statement \"\n",
        "qa.run(query)"
      ],
      "metadata": {
        "colab": {
          "base_uri": "https://localhost:8080/",
          "height": 107
        },
        "outputId": "79eb7355-48ae-422f-a60d-4a105f7fbb64",
        "id": "CJGWRzgDRc99"
      },
      "execution_count": 141,
      "outputs": [
        {
          "output_type": "execute_result",
          "data": {
            "text/plain": [
              "'Thesis Statement: TQM, as developed by Kaoru Ishikawa and the Japanese Union of Scientists and Engineers (JUSE), has had a profound impact on contemporary business practices in terms of quality management. By introducing the concepts of quality circles, the Ishikawa (cause-and-effect) Diagram, and the ‘next process is your customer’ philosophy, Ishikawa and JUSE have revolutionized quality management since the early 1930s. The establishment of the Deming Prize by JUSE in 1945, and the continued influence of its principles in contemporary quality initiatives and awards, are testament to its enduring legacy.'"
            ],
            "application/vnd.google.colaboratory.intrinsic+json": {
              "type": "string"
            }
          },
          "metadata": {},
          "execution_count": 141
        }
      ]
    },
    {
      "cell_type": "markdown",
      "source": [
        "## II. Early History of Quality Management\n",
        "- Brief description of quality management before TQM\n",
        "- Introduction to foundational concepts: Inspection, Quality Control, and Quality Assurance\n",
        "- The rise of statistical process control and its significance"
      ],
      "metadata": {
        "id": "ugA0XFEvwoAC"
      }
    },
    {
      "cell_type": "code",
      "source": [
        "query = \"write  Early History of Quality Management Brief description of quality management before TQM\"\n",
        "qa.run(query)"
      ],
      "metadata": {
        "colab": {
          "base_uri": "https://localhost:8080/",
          "height": 178
        },
        "id": "KZpoRElXLY5W",
        "outputId": "ed73fd8c-9d02-4502-db3a-2bdceb96caad"
      },
      "execution_count": 122,
      "outputs": [
        {
          "output_type": "execute_result",
          "data": {
            "text/plain": [
              "'Early History of Quality Management\\n\\nBefore TQM, quality management saw its beginnings in 1931 with the work of Dr. Walter Shewhart. His book, Economic Control of Quality of Manufactured Product, introduced the concept of quality control as a systematic approach to dealing with defects. This was followed by Yasushi Ishida\\'s invention of the control chart, which he called “makimono”, used to control the production process of lightbulbs in the same year. Kanzo Kiribuchi further developed the concept by introducing the term \"Hinshitsu Tosei\" in his book The Science of Industrial Control, published in 1931. Pearson\\'s \"The Application of Statistical Methods to Industrial Standardization and Quality Control\", which became BS 600, was also published in 1935. Dr. Shewhart\\'s Statistical Method from the Viewpoint of Quality Control was published in 1936. \\n\\nIn 1937, Kaoru Ishikawa entered the Department of Applied Chemistry at the Faculty of Engineering at Tokyo Imperial University. During his summer vacation of his second year, he worked at the Mitsubishi Shipyard and became familiar with statistical quality control. This experience laid the foundation for his later work in developing TQM.'"
            ],
            "application/vnd.google.colaboratory.intrinsic+json": {
              "type": "string"
            }
          },
          "metadata": {},
          "execution_count": 122
        }
      ]
    },
    {
      "cell_type": "code",
      "source": [
        "query = \"write Introduction to foundational concepts: Inspection, Quality Control, and Quality Assurance\"\n",
        "qa.run(query)"
      ],
      "metadata": {
        "colab": {
          "base_uri": "https://localhost:8080/",
          "height": 160
        },
        "outputId": "31df0857-4250-4348-d7e1-c2aae4c19b71",
        "id": "AiMPW9MJOZ6R"
      },
      "execution_count": 123,
      "outputs": [
        {
          "output_type": "execute_result",
          "data": {
            "text/plain": [
              "'• Introduction to Inspection, Quality Control, and Quality Assurance: Foundational concepts for quality management.\\n\\n• Inspection: The process of examining materials and products to verify that they conform to specified requirements. \\n• Quality Control: The process of ensuring that products meet or exceed customer expectations. \\n• Quality Assurance: A set of policies, procedures, and processes that organizations use to ensure that their products and services meet or exceed customer expectations.\\n\\n• Chronology of Events:\\n- 1946: The Great Japan Society of Technology was dissolved and replaced by the Union of Japanese Scientists and Engineers (JUSE). \\n- 1947: The Research Institute for Electrical Communication introduced sampling inspection on purchased products. \\n- 1948: The Quality Control Research Group was established and the Quality Control Basic Course was held. \\n- 1949: Magil and others instructed QC at NEC’s Tamagawa Plant; the Rice Statistics Mission, including Dr. Deming, visited Japan to investigate statistical survey systems; and JUSE published Guide to Quality Control. \\n- 1951: The World Health Organization (WHO) recommended pharmaceutical companies to adopt QC. \\n- 1955: A. Wald proposed the method of sequential sampling inspection. \\n- 1958: The Japan Standards'"
            ],
            "application/vnd.google.colaboratory.intrinsic+json": {
              "type": "string"
            }
          },
          "metadata": {},
          "execution_count": 123
        }
      ]
    },
    {
      "cell_type": "code",
      "source": [
        "query = \"The rise of statistical process control and its significance\"\n",
        "qa.run(query)"
      ],
      "metadata": {
        "colab": {
          "base_uri": "https://localhost:8080/",
          "height": 160
        },
        "outputId": "6e90b8aa-4f90-4730-d06b-0ed9a0d222e7",
        "id": "99JZa7mVOaDh"
      },
      "execution_count": 124,
      "outputs": [
        {
          "output_type": "execute_result",
          "data": {
            "text/plain": [
              "\"As a quality management consultant, it is important to recognize the rise of statistical process control and its significance. This began in 1931 with the publication of Walter Shewhart’s Economic Control of Quality of Manufactured Products. Shortly thereafter, Yasushi Ishida devised the control chart, which he called “makimono,” and used to control the production process of lightbulbs (1931). Kanzo Kiribuchi introduced quality control as “Hinshitsu Tosei” in his book The Science of Industrial Control (1931). In 1935, Pearson published “The Application of Statistical Methods to Industrial Standardization and Quality Control,” which later became BS 600. Shewhart’s Statistical Method from the Viewpoint of Quality Control was also published in 1936. \\n\\nThe rise of statistical process control is significant because it allowed for improved quality control and assurance in production processes. This was especially important in post-World War II Japan's industrial comeback, and is still used in contemporary business and management practices. It is also important to note that Kaoru Ishikawa and the Japanese Union of Scientists and Engineers (JUSE) played a major role in the development of TQM. Ishikawa's contributions to the\""
            ],
            "application/vnd.google.colaboratory.intrinsic+json": {
              "type": "string"
            }
          },
          "metadata": {},
          "execution_count": 124
        }
      ]
    },
    {
      "cell_type": "markdown",
      "source": [
        "## III. The Birth and Evolution of TQM\n",
        "- Introduction to the concept of TQM\n",
        "- Overview of the principles and practices of TQM\n",
        "- The role of TQM in post-World War II Japan's industrial comeback\n",
        "- Adoption and evolution of TQM in the United States and around the world"
      ],
      "metadata": {
        "id": "l8pKsaLgwqBa"
      }
    },
    {
      "cell_type": "code",
      "source": [
        "query = \"The rise of statistical process control and its significance\"\n",
        "qa.run(query)"
      ],
      "metadata": {
        "colab": {
          "base_uri": "https://localhost:8080/",
          "height": 160
        },
        "id": "sBLCfkUkOlTB",
        "outputId": "aa33b41d-37b6-423b-9870-a929ddbc8986"
      },
      "execution_count": 125,
      "outputs": [
        {
          "output_type": "execute_result",
          "data": {
            "text/plain": [
              "'As a quality management consultant, I can provide a brief overview of the rise of statistical process control and its significance in the modern business world. This can be seen through the work of several key figures in the industry including Walter Shewhart, Yasushi Ishida, and Kanzo Kiribuchi. \\n\\nWalter Shewhart published his Economic Control of Quality of Manufactured Products in 1931. This book was the first to provide a framework for statistical process control (SPC) and was a major step in the development of quality control.\\n\\nYasushi Ishida devised the control chart in 1931, which he referred to as “makimono” and used to control the production process of light bulbs. Kanzo Kiribuchi introduced quality control as “Hinshitsu Tosei” in his book The Science of Industrial Control, also published in 1931.\\n\\nIn 1935, Pearson published “The Application of Statistical Methods to Industrial Standardization and Quality Control” which later became BS 600. Shewhart’s Statistical Method from the Viewpoint of Quality Control was published in 1936. \\n\\nThe rise of statistical process control has had a major impact on the modern business world. SPC has enabled companies'"
            ],
            "application/vnd.google.colaboratory.intrinsic+json": {
              "type": "string"
            }
          },
          "metadata": {},
          "execution_count": 125
        }
      ]
    },
    {
      "cell_type": "code",
      "source": [
        "query = \"The rise of statistical process control and its significance\"\n",
        "qa.run(query)"
      ],
      "metadata": {
        "colab": {
          "base_uri": "https://localhost:8080/",
          "height": 160
        },
        "id": "rlVd8XXMOlYT",
        "outputId": "3820b5ea-82cc-4f6b-8c9d-7eef2ff40b01"
      },
      "execution_count": 126,
      "outputs": [
        {
          "output_type": "execute_result",
          "data": {
            "text/plain": [
              "'As a quality management consultant, I can provide the following information about the rise of statistical process control and its significance. \\n\\nStatistical process control (SPC) emerged in the early 20th century as a means of improving the quality of manufactured products. In 1931, Walter Shewhart published “Economic Control of Quality of Manufactured Products”, which laid the groundwork for SPC. Additionally, Yasushi Ishida devised the control chart, which he called “makimono”, and used to control the production process of lightbulbs also in 1931. Kanzo Kiribuchi introduced quality control as “Hinshitsu Tosei” in his book “The Science of Industrial Control” in the same year. \\n\\nIn 1935, Pearson’s “The Application of Statistical Methods to Industrial Standardization and Quality Control” was published, which later became BS 600. In 1936, Shewhart’s “Statistical Method from the Viewpoint of Quality Control” was published. \\n\\nIn the 1940s, the Japanese Union of Scientists and Engineers (JUSE) was founded, and they started publishing the English edition of Guide to Quality Control (1st ed.'"
            ],
            "application/vnd.google.colaboratory.intrinsic+json": {
              "type": "string"
            }
          },
          "metadata": {},
          "execution_count": 126
        }
      ]
    },
    {
      "cell_type": "code",
      "source": [
        "query = \"The rise of statistical process control and its significance\"\n",
        "qa.run(query)"
      ],
      "metadata": {
        "colab": {
          "base_uri": "https://localhost:8080/",
          "height": 160
        },
        "id": "7zl12_xHOleT",
        "outputId": "8d0e528f-74d7-49df-a331-30da657bc8b2"
      },
      "execution_count": 127,
      "outputs": [
        {
          "output_type": "execute_result",
          "data": {
            "text/plain": [
              "'As a quality management consultant, I can provide the following information regarding the rise of statistical process control and its significance:\\n\\n• The concept of Statistical Process Control (SPC) was first introduced in 1931 by Walter Shewhart’s Economic Control of Quality of Manufactured Products.\\n\\n• Yasushi Ishida also introduced the control chart, which he called “makimono,” to control the production process of lightbulbs in 1931. \\n\\n• Kanzo Kiribuchi introduced quality control as “Hinshitsu Tosei” in his book The Science of Industrial Control in the same year.\\n\\n• In 1935, Pearson’s “The Application of Statistical Methods to Industrial Standardization and Quality Control” was published and it later became BS 600. \\n\\n• In 1936, Shewhart published Statistical Method from the Viewpoint of Quality Control. \\n\\n• Statistical process control was further developed and adopted by the Japanese Union of Scientists and Engineers (JUSE) in the 1970s. \\n\\n• In 1974, JUSE published the English edition of Guide to Quality Control, which was followed by French, Italian, Spanish, Indonesian, Hebrew, and Dutch editions. \\n'"
            ],
            "application/vnd.google.colaboratory.intrinsic+json": {
              "type": "string"
            }
          },
          "metadata": {},
          "execution_count": 127
        }
      ]
    },
    {
      "cell_type": "markdown",
      "source": [
        "## IV. The Role of Kaoru Ishikawa in the Development of TQM\n",
        "- Introduction to Ishikawa: his background and career\n",
        "- Ishikawa's contribution to the development of Quality Circles\n",
        "- The development and importance of the Ishikawa (cause-and-effect) Diagram\n",
        "- Ishikawa's philosophical contribution to TQM: the 'next process is your customer'\n"
      ],
      "metadata": {
        "id": "VwNC3dSEwsVx"
      }
    },
    {
      "cell_type": "code",
      "source": [
        "query = \"write about:The Role of Kaoru Ishikawa in the Development of TQM - Introduction to Ishikawa: his background and career\"\n",
        "qa.run(query)"
      ],
      "metadata": {
        "colab": {
          "base_uri": "https://localhost:8080/",
          "height": 160
        },
        "id": "-pg-ohP5PuPx",
        "outputId": "3f9d0b30-408b-4e5b-c280-bd4a8302b5bd"
      },
      "execution_count": 128,
      "outputs": [
        {
          "output_type": "execute_result",
          "data": {
            "text/plain": [
              "'Kaoru Ishikawa played an instrumental role in the development of Total Quality Management (TQM). He was a leading figure in the post-World War II Japanese industrial comeback and a pioneer of quality management. His contributions to the development of TQM included: \\n\\n• Developing the concept of Quality Circles: In 1965, Ishikawa developed the concept of Quality Circles, which are groups of workers who meet regularly to identify and solve quality-related problems. This concept was adopted by many Japanese companies and has since spread throughout the world.\\n\\n• Introducing the Ishikawa (cause-and-effect) Diagram: In 1968, Ishikawa introduced the Ishikawa (cause-and-effect) Diagram, which is used to identify the root causes of quality-related problems. This diagram has become an important tool for quality management professionals.\\n\\n• Philosophical Contribution to TQM: Ishikawa\\'s philosophical contribution to TQM was his \"next process is your customer\" principle, which emphasized the importance of customer satisfaction in the quality management process.\\n\\n• Involvement with Japanese Union of Scientists and Engineers (JUSE): Ishikawa was involved with the Japanese Union of Scientists and Engineers (JUSE), which was responsible'"
            ],
            "application/vnd.google.colaboratory.intrinsic+json": {
              "type": "string"
            }
          },
          "metadata": {},
          "execution_count": 128
        }
      ]
    },
    {
      "cell_type": "code",
      "source": [
        "query = \"write about:The Role of Kaoru Ishikawa in the Development of TQM - Ishikawa's contribution to the development of Quality Circles\"\n",
        "qa.run(query)"
      ],
      "metadata": {
        "colab": {
          "base_uri": "https://localhost:8080/",
          "height": 160
        },
        "id": "on87zT6dP7lE",
        "outputId": "b38134d1-8f87-403d-b924-8bfe874a4eab"
      },
      "execution_count": 129,
      "outputs": [
        {
          "output_type": "execute_result",
          "data": {
            "text/plain": [
              "\"Kaoru Ishikawa is credited as the father of Total Quality Management (TQM), and his contributions to the development of Quality Circles are widely celebrated and highly influential. Ishikawa's work began in 1965 when he joined the 2nd Quality Control (QC) Overseas Research Team as the head of the delegation (JUSE). During this trip, Ishikawa introduced the concept of Quality Circles to the American Society for Quality Control (ASQC) Annual Conference. \\n\\nIn 1971, on the occasion of Ishikawa's visit to Taiwan, the first National QC Circle Conference was held (PETT, Taiwan). In addition, Ishikawa became the chair of the ISO/TC 69 Japan Committee, a lecturer on the “Production Control Course for Machinery Manufacturers” for participants from developing countries, and the Vice-President of the Japanese Society for Quality Control (– 74). \\n\\nIshikawa's most significant contribution to the development of Quality Circles was the publication of his book Control Points of Quality (joint authorship) (Zeimukeiri Kyokai). This book was awarded the Nikkei Quality Control Literature Prize. In 1980, Ishikawa became an advisor to the Japan Productivity Center and gave a special lecture\""
            ],
            "application/vnd.google.colaboratory.intrinsic+json": {
              "type": "string"
            }
          },
          "metadata": {},
          "execution_count": 129
        }
      ]
    },
    {
      "cell_type": "code",
      "source": [
        "query = \"write about:The Role of Kaoru Ishikawa in the Development of TQM - The development and importance of the Ishikawa (cause-and-effect) Diagram\"\n",
        "qa.run(query)"
      ],
      "metadata": {
        "colab": {
          "base_uri": "https://localhost:8080/",
          "height": 160
        },
        "id": "P99DnOBrP-OQ",
        "outputId": "9cecf91d-7c09-484a-e58f-f806df41e18b"
      },
      "execution_count": 130,
      "outputs": [
        {
          "output_type": "execute_result",
          "data": {
            "text/plain": [
              "\"Kaoru Ishikawa was a Japanese engineer and management theorist who played a significant role in the development of Total Quality Management (TQM). His work and teachings had a major impact on modern business practices, and he is credited with developing the Ishikawa (cause-and-effect) Diagram, also known as the fishbone diagram. \\n\\nThe Ishikawa diagram is a visual tool used to identify potential causes of a problem in a systematic way. It is a key tool in quality management and process improvement, and it can be used to identify root causes and develop solutions to complex issues. This method was first developed by Ishikawa in 1943 during his work on quality control at the Tokyo Shipyard. \\n\\nIn the 1950s, Ishikawa further developed the cause and effect diagram and refined the methodology. He wrote a book titled “What is Total Quality Control?”, which outlined his philosophy and the importance of quality control. In this book, he highlighted the importance of understanding the underlying cause of a problem, and using the Ishikawa diagram to identify and address it.\\n\\nIshikawa's teachings and writings had a major impact on the development of TQM, and his methods and tools are still widely used in the field of quality management\""
            ],
            "application/vnd.google.colaboratory.intrinsic+json": {
              "type": "string"
            }
          },
          "metadata": {},
          "execution_count": 130
        }
      ]
    },
    {
      "cell_type": "code",
      "source": [
        "query = \"write about:The Role of Kaoru Ishikawa in the Development of TQM - Ishikawa's philosophical contribution to TQM: the 'next process is your customer'\"\n",
        "qa.run(query)"
      ],
      "metadata": {
        "colab": {
          "base_uri": "https://localhost:8080/",
          "height": 160
        },
        "id": "20WIlNZXP_HI",
        "outputId": "54a79120-aeab-4c72-8fbf-b56fc70353e1"
      },
      "execution_count": 131,
      "outputs": [
        {
          "output_type": "execute_result",
          "data": {
            "text/plain": [
              "\"\\nKaoru Ishikawa played an instrumental role in the development of Total Quality Management (TQM). He was a major advocate for the concept, and his efforts helped to shape the modern practice of quality management.\\n\\nIshikawa's contributions to TQM include the development of Quality Circles, the Ishikawa (cause-and-effect) Diagram, and his philosophical concept of 'the next process is your customer'.\\n\\nQuality Circles:\\nIn 1965, Ishikawa published How to Operate Quality Control Circles, which is credited with popularizing the concept of Quality Circles (QC) in Japan. Quality Circles involve small teams of employees who meet regularly to identify and address problems in the workplace. They are an effective way to increase employee engagement and to boost morale.\\n\\nIshikawa (cause-and-effect) Diagram:\\nIn 1976, Ishikawa developed the Ishikawa (cause-and-effect) diagram, a tool for visualizing the potential causes of a problem. The Ishikawa Diagram is widely used in quality management to identify and analyze the causes of quality issues.\\n\\nNext Process is Your Customer:\\nIn 1972, Ishikawa proposed the idea of 'the next process is your customer',\""
            ],
            "application/vnd.google.colaboratory.intrinsic+json": {
              "type": "string"
            }
          },
          "metadata": {},
          "execution_count": 131
        }
      ]
    },
    {
      "cell_type": "markdown",
      "source": [
        "## V. The Role of the Japanese Union of Scientists and Engineers (JUSE)\n",
        "- Background of JUSE and its role in the development of quality management in Japan\n",
        "- Introduction of the Deming Prize by JUSE and its significance\n",
        "- JUSE's role in promoting TQM and its principles in Japan and globally\n"
      ],
      "metadata": {
        "id": "DqjyPiaQwvf0"
      }
    },
    {
      "cell_type": "code",
      "source": [
        "query = \"write about:The Role of Kaoru Ishikawa in the Development of TQM - Background of JUSE and its role in the development of quality management in Japan\"\n",
        "qa.run(query)"
      ],
      "metadata": {
        "colab": {
          "base_uri": "https://localhost:8080/",
          "height": 160
        },
        "id": "JohRVdzsQPFd",
        "outputId": "4790b12a-e09d-4754-afd0-ddd8c960dcae"
      },
      "execution_count": 132,
      "outputs": [
        {
          "output_type": "execute_result",
          "data": {
            "text/plain": [
              "'The role of Kaoru Ishikawa in the development of Total Quality Management (TQM) is a key factor in the success of the Japanese Union of Scientists and Engineers (JUSE) in promoting quality management worldwide. The contributions of Kaoru Ishikawa and JUSE to the development of TQM are detailed below. \\n\\nBackground of JUSE and its Role in the Development of Quality Management in Japan:\\n• Kaoru Ishikawa, a professor at the University of Tokyo, founded the Japanese Union of Scientists and Engineers (JUSE) in 1965 with the aim of promoting quality management and research in Japan. \\n• JUSE was instrumental in the development of the Quality Control (QC) Circle movement, which was established to encourage the involvement of workers in the improvement of quality and productivity. \\n• JUSE also established the General Quality Control Award in 1965, which is awarded annually to individuals and groups who have made outstanding contributions to quality management. \\n• JUSE was instrumental in the establishment of the Quality Circles Research Group in 1967 and the International Quality Control Research Group in 1969. These research groups were responsible for developing and promoting the use of the Ishikawa (cause-and-effect) Diagram and other QC tools. \\n•'"
            ],
            "application/vnd.google.colaboratory.intrinsic+json": {
              "type": "string"
            }
          },
          "metadata": {},
          "execution_count": 132
        }
      ]
    },
    {
      "cell_type": "code",
      "source": [
        "query = \"write about:The Role of Kaoru Ishikawa in the Development of TQM - ntroduction of the Deming Prize by JUSE and its significance\"\n",
        "qa.run(query)"
      ],
      "metadata": {
        "colab": {
          "base_uri": "https://localhost:8080/",
          "height": 160
        },
        "id": "h9hAzQMrQXkT",
        "outputId": "5aad6507-477e-4a20-db6b-be0e47cf7a62"
      },
      "execution_count": 133,
      "outputs": [
        {
          "output_type": "execute_result",
          "data": {
            "text/plain": [
              "\"Kaoru Ishikawa, a Japanese engineer, was a major contributor to the development of Total Quality Management (TQM). Ishikawa was instrumental in introducing and popularizing the Deming Prize, which is an award given by the Japanese Union of Scientists and Engineers (JUSE) to recognize companies that have achieved excellence in quality management.\\n\\nThe Deming Prize was established in 1951 and is one of the most prestigious awards in the field of quality management. The award recognizes companies that demonstrate excellence in the implementation of TQM principles, including continuous improvement, customer satisfaction, and employee involvement. It is considered to be one of the most influential quality awards in the world and has been awarded to hundreds of companies from around the world.\\n\\nIshikawa's involvement in the development of the Deming Prize was significant. He was a member of the committee that established the prize and also helped to draft the criteria for awarding the prize. Moreover, Ishikawa's efforts to popularize the award and encourage companies to strive for excellence in quality management were key to its success.\\n\\nIn summary, Kaoru Ishikawa played a significant role in the development of TQM and the establishment of the Deming Prize. His efforts to promote the award, as well as his work\""
            ],
            "application/vnd.google.colaboratory.intrinsic+json": {
              "type": "string"
            }
          },
          "metadata": {},
          "execution_count": 133
        }
      ]
    },
    {
      "cell_type": "code",
      "source": [
        "query = \"write about:The Role of Kaoru Ishikawa in the Development of TQM - JUSE's role in promoting TQM and its principles in Japan and globally\"\n",
        "qa.run(query)"
      ],
      "metadata": {
        "colab": {
          "base_uri": "https://localhost:8080/",
          "height": 160
        },
        "id": "johXbNb7QXvd",
        "outputId": "19e0738e-d52e-48bf-98a0-46c28182e280"
      },
      "execution_count": 134,
      "outputs": [
        {
          "output_type": "execute_result",
          "data": {
            "text/plain": [
              "\"Kaoru Ishikawa was an integral part of the development of Total Quality Management (TQM) and its principles in Japan and globally. His work as a professor of engineering at Tokyo University, combined with his roles in the Japanese Union of Scientists and Engineers (JUSE), had a major impact on the development of TQM. \\n\\nIshikawa's Contributions to TQM: \\n• 1965: Joined the 2nd QC Overseas Research Team as the head of the delegation, introduced the activities of QC circles at the ASQC Annual Conference \\n• 1971: Awarded with the Grant Medal Deming Application Prize \\n• 1972: Joined the 7th QC Overseas Research Team as the head of the delegation and introduced PL issues to Japan \\n• 1978: Chair of the ICQCC ’78-TOKYO Program Committee and became a member of the International Cooperation Committee \\n• 1979: Chair of the 1st QC Research Delegation Team and visited China \\n• 1980: Member of the Nuclear Power Plant Quality Assurance Review Committee \\n• Published How to Establish Product Standards of Japanese Industrial Standards \\n• Published How to Operate QC Circle Activities \\n\\nJUSE's Contributions to TQM:\""
            ],
            "application/vnd.google.colaboratory.intrinsic+json": {
              "type": "string"
            }
          },
          "metadata": {},
          "execution_count": 134
        }
      ]
    },
    {
      "cell_type": "markdown",
      "source": [
        "## VI. The Impact of TQM, Ishikawa, and JUSE on Contemporary Business Practices\n",
        "- Analysis of the role TQM plays in today's business and management practices\n",
        "- The legacy of Ishikawa's methods and tools in current quality management\n",
        "- Influence of JUSE's principles in contemporary quality initiatives and awards\n"
      ],
      "metadata": {
        "id": "0KeRuCyHwzH3"
      }
    },
    {
      "cell_type": "code",
      "source": [
        "query = \"write about: The Impact of TQM, Ishikawa, and JUSE on Contemporary Business Practices - Analysis of the role TQM plays in today's business and management practices\"\n",
        "qa.run(query)"
      ],
      "metadata": {
        "colab": {
          "base_uri": "https://localhost:8080/",
          "height": 160
        },
        "id": "LjtqA2oEQfXh",
        "outputId": "d9bf3b87-6ef5-4eed-f06e-f380d0d49e9b"
      },
      "execution_count": 135,
      "outputs": [
        {
          "output_type": "execute_result",
          "data": {
            "text/plain": [
              "\"\\nToday, Total Quality Management (TQM) is one of the most widely adopted quality management systems in the business world. Its principles and practices have been adopted by companies globally and have been instrumental in improving product and service quality, increasing customer satisfaction, and creating a culture of continuous improvement.\\n\\nThe development and evolution of TQM can be largely attributed to the contributions of Japanese professor Kaoru Ishikawa and the Japanese Union of Scientists and Engineers (JUSE). Ishikawa's development of Quality Circles, the Ishikawa (cause-and-effect) Diagram, and his 'next process is your customer' philosophy are among the most widely used quality management tools in the world. JUSE's introduction of the Deming Application Prize and its promotion of TQM around the world have also had a significant impact on contemporary business practices. \\n\\nThe Impact of TQM, Ishikawa, and JUSE on Contemporary Business Practices\\n\\nTQM has had a tremendous impact on contemporary business practices, particularly in the areas of product quality, customer satisfaction, and continuous improvement. \\n\\nProduct Quality: TQM principles and practices have enabled organizations to improve product quality by introducing rigorous quality control processes, implementing data collection and analysis methods, and providing\""
            ],
            "application/vnd.google.colaboratory.intrinsic+json": {
              "type": "string"
            }
          },
          "metadata": {},
          "execution_count": 135
        }
      ]
    },
    {
      "cell_type": "code",
      "source": [
        "query = \"write about: The Impact of TQM, Ishikawa, and JUSE on Contemporary Business Practices - The legacy of Ishikawa's methods and tools in current quality management\"\n",
        "qa.run(query)"
      ],
      "metadata": {
        "colab": {
          "base_uri": "https://localhost:8080/",
          "height": 160
        },
        "id": "EKRIA6wUQlQl",
        "outputId": "e2b6f021-8ab8-42e5-80a6-3062368c8881"
      },
      "execution_count": 136,
      "outputs": [
        {
          "output_type": "execute_result",
          "data": {
            "text/plain": [
              "\"\\nThe Impact of TQM, Ishikawa, and JUSE on Contemporary Business Practices\\n\\nThe legacy of Kaoru Ishikawa's methods and tools in current quality management is an important part of modern business practices. His work and that of the Japanese Union of Scientists and Engineers (JUSE) have had a significant impact on the field of quality management. \\n\\nIshikawa's methods and tools are still widely used today, with many businesses utilizing his Quality Circles and Ishikawa (cause-and-effect) Diagrams to improve their quality control processes. Ishikawa's philosophy of 'next process is your customer' has also had a significant impact on contemporary business practices, with many businesses striving to create a customer-centric approach to their quality management processes. \\n\\nThe Deming Application Prize, which was established by JUSE in 1980, has also had a major impact on contemporary business practices. This award is now an internationally recognized award that recognizes the efforts of organizations that have implemented total quality management (TQM) processes. The award has served as an incentive for organizations to strive for excellence in quality management, and has had a positive impact on the quality control processes of many businesses. \\n\\nFinally, the research and development done by J\""
            ],
            "application/vnd.google.colaboratory.intrinsic+json": {
              "type": "string"
            }
          },
          "metadata": {},
          "execution_count": 136
        }
      ]
    },
    {
      "cell_type": "code",
      "source": [
        "query = \"write about: The Impact of TQM, Ishikawa, and JUSE on Contemporary Business Practices - Influence of JUSE's principles in contemporary quality initiatives and awards\"\n",
        "qa.run(query)"
      ],
      "metadata": {
        "colab": {
          "base_uri": "https://localhost:8080/",
          "height": 160
        },
        "id": "UOfr9BSqQlYY",
        "outputId": "ab1a84ae-e6b5-4fdc-9f82-c6617a118394"
      },
      "execution_count": 137,
      "outputs": [
        {
          "output_type": "execute_result",
          "data": {
            "text/plain": [
              "'The impact of Total Quality Management (TQM), Kaoru Ishikawa, and the Japanese Union of Scientists and Engineers (JUSE) on contemporary business practices is evident in the number of initiatives and awards they have created. JUSE has been instrumental in promoting TQM and its principles in Japan and globally, and its influence is reflected in the following initiatives and awards: \\n\\n• The Deming Application Prize – established by JUSE in 1951, it is the world’s oldest and most prestigious quality award, and is given to companies who demonstrate excellence in quality management. \\n\\n• The Award for Young Researcher’s Encouragement – established by JUSE in 1981, this award recognizes and encourages young researchers in the field of quality management. \\n\\n• The Award of the Excellent Factories in Implementation of Industrial Standardization – established by JUSE in 1981, this award recognizes companies that have achieved excellence in the implementation of industrial standardization. \\n\\n• The ICQCC ’81-TOKYO – held by JUSE in 1981, this symposium focused on policy management in TQC. \\n\\n• The Software Production QC Symposium – held by JUSE in 1982, this event focused on the development'"
            ],
            "application/vnd.google.colaboratory.intrinsic+json": {
              "type": "string"
            }
          },
          "metadata": {},
          "execution_count": 137
        }
      ]
    },
    {
      "cell_type": "markdown",
      "source": [
        "## VII. Conclusion\n",
        "- Summary of the importance and influence of TQM, Ishikawa, and JUSE in the field of quality management\n",
        "- Restatement of Thesis\n",
        "- Future implications of the principles and practices of TQM, Ishikawa, and JUSE in the global business landscape"
      ],
      "metadata": {
        "id": "FUefWHRXw1lo"
      }
    },
    {
      "cell_type": "code",
      "source": [
        "query = \"write about: Summary of the importance and influence of TQM, Ishikawa, and JUSE in the field of quality management\"\n",
        "qa.run(query)"
      ],
      "metadata": {
        "colab": {
          "base_uri": "https://localhost:8080/",
          "height": 160
        },
        "id": "hbrwO1FjQt-x",
        "outputId": "9cab343b-fc99-4617-8a90-721a35251c71"
      },
      "execution_count": 143,
      "outputs": [
        {
          "output_type": "execute_result",
          "data": {
            "text/plain": [
              "'Summary of the importance and influence of TQM, Ishikawa, and JUSE in the field of quality management:\\n\\nKaoru Ishikawa and the Japanese Union of Scientists and Engineers (JUSE) played a pivotal role in the development of Total Quality Management (TQM) and the field of quality management. \\n\\nIshikawa: \\n• Contributed to the development of Quality Circles \\n• Developed the Ishikawa (cause-and-effect) Diagram \\n• Propounded the ‘next process is your customer’ philosophy \\n\\nJUSE: \\n• Established the Deming Application Prize in 1945 \\n• Created the Quality Control Seminar series in 1959 \\n• Promoted TQM and its principles both in Japan and globally \\n• Awarded the Nikkei Quality Control Literature Prize in 1972 \\n• Established the Award of the Excellent Factories in Implementation of Industrial Standardization in 1972 \\n• Established the International Standardization Activities Cooperation Center in 1974 \\n• Invited Dr. Juran to conduct the QC Seminar for Executives in 1971 \\n• Established the Housing Industry QC Research Group in 1974 \\n• Established the Service Industry QC Sym'"
            ],
            "application/vnd.google.colaboratory.intrinsic+json": {
              "type": "string"
            }
          },
          "metadata": {},
          "execution_count": 143
        }
      ]
    },
    {
      "cell_type": "code",
      "source": [
        "query = \"Restatement of Thesis\"\n",
        "qa.run(query)"
      ],
      "metadata": {
        "colab": {
          "base_uri": "https://localhost:8080/",
          "height": 124
        },
        "id": "21Dc7sBtR76L",
        "outputId": "c910b076-c629-4f17-f38a-651e9b7dd316"
      },
      "execution_count": 144,
      "outputs": [
        {
          "output_type": "execute_result",
          "data": {
            "text/plain": [
              "'• Thesis: Kaoru Ishikawa and the Japanese Union of Scientists and Engineers (JUSE) have played a critical role in the development and evolution of Total Quality Management (TQM).\\n\\n• TQM has seen significant changes since its early development in post-World War II Japan, with Kaoru Ishikawa contributing greatly to its advancement through the introduction of Quality Circles and Ishikawa Diagrams.\\n\\n• JUSE has also been a major force in the promotion of TQM, contributing to its spread around the world and to the establishment of awards such as the Deming Prize.\\n\\n• TQM, Ishikawa, and JUSE have had a profound impact on modern business practices, with their principles and practices still being applied today in the global business landscape.'"
            ],
            "application/vnd.google.colaboratory.intrinsic+json": {
              "type": "string"
            }
          },
          "metadata": {},
          "execution_count": 144
        }
      ]
    },
    {
      "cell_type": "code",
      "source": [
        "query = \"write about: Future implications of the principles and practices of TQM, Ishikawa, and JUSE in the global business landscape\"\n",
        "qa.run(query)"
      ],
      "metadata": {
        "colab": {
          "base_uri": "https://localhost:8080/",
          "height": 160
        },
        "id": "1JwgKM5vR8EU",
        "outputId": "443cb85c-284e-488b-d4d0-0828b4affdc3"
      },
      "execution_count": 145,
      "outputs": [
        {
          "output_type": "execute_result",
          "data": {
            "text/plain": [
              "'\\nFuture implications of the principles and practices of TQM, Ishikawa, and JUSE in the global business landscape\\n\\nThe legacy of TQM, Ishikawa, and JUSE continue to provide invaluable guidance to contemporary business and management practices. By understanding the principles and practices established by these three pioneering organizations, organizations can ensure that their quality management system is effective and efficient. Here are some key points that can be considered to ensure successful future applications of TQM, Ishikawa, and JUSE principles: \\n\\n• Utilize the Ishikawa (cause-and-effect) Diagram to identify root causes of process issues to ensure that corrective action is taken and that a preventative solution is implemented. \\n\\n• Leverage the JUSE Deming Prize to recognize organizations that have made significant advances in quality management. \\n\\n• Align with the principles of TQM such as customer focus, employee involvement, continual improvement, and process orientation to ensure that quality management systems are continuously improved upon. \\n\\n• Incorporate the principles of Total Quality Leadership to ensure that leadership is effective and efficient in driving quality initiatives. \\n\\n• Incorporate the principles of Statistical Process Control to ensure that processes are monitored and controlled.'"
            ],
            "application/vnd.google.colaboratory.intrinsic+json": {
              "type": "string"
            }
          },
          "metadata": {},
          "execution_count": 145
        }
      ]
    }
  ]
}