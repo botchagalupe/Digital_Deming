{
  "nbformat": 4,
  "nbformat_minor": 0,
  "metadata": {
    "colab": {
      "provenance": [],
      "authorship_tag": "ABX9TyNq8coWSwqX0V9uhADeGIWn",
      "include_colab_link": true
    },
    "kernelspec": {
      "name": "python3",
      "display_name": "Python 3"
    },
    "language_info": {
      "name": "python"
    }
  },
  "cells": [
    {
      "cell_type": "markdown",
      "metadata": {
        "id": "view-in-github",
        "colab_type": "text"
      },
      "source": [
        "<a href=\"https://colab.research.google.com/github/colinmcnamara/Digital_Deming/blob/main/Digital_Deming.ipynb\" target=\"_parent\"><img src=\"https://colab.research.google.com/assets/colab-badge.svg\" alt=\"Open In Colab\"/></a>"
      ]
    },
    {
      "cell_type": "markdown",
      "source": [
        "# Set up your local environment \n",
        "\n",
        "On intial run of \"import colab_env\" it will create vars.env in the root of your Google Drive\n",
        "\n",
        "COLAB_ENV = Active\n",
        "\n",
        "export OPENAI_API_KEY = \"your_key\"\n",
        "\n",
        "export SERPAPI_API_KEY = \"your_key\"\n"
      ],
      "metadata": {
        "id": "MYHpBGCb9huK"
      }
    },
    {
      "cell_type": "markdown",
      "source": [
        "Install my local packages"
      ],
      "metadata": {
        "id": "s18SqtmEhRfZ"
      }
    },
    {
      "cell_type": "code",
      "execution_count": 155,
      "metadata": {
        "colab": {
          "base_uri": "https://localhost:8080/"
        },
        "id": "kLG6Xcprwh9m",
        "outputId": "5aa980e2-f182-4905-a62d-3840898148b8"
      },
      "outputs": [
        {
          "output_type": "stream",
          "name": "stdout",
          "text": [
            "Looking in indexes: https://pypi.org/simple, https://us-python.pkg.dev/colab-wheels/public/simple/\n",
            "Requirement already satisfied: OpenAI in /usr/local/lib/python3.10/dist-packages (0.27.8)\n",
            "Requirement already satisfied: langchain in /usr/local/lib/python3.10/dist-packages (0.0.195)\n",
            "Requirement already satisfied: pydantic in /usr/local/lib/python3.10/dist-packages (1.10.7)\n",
            "Requirement already satisfied: faiss-gpu in /usr/local/lib/python3.10/dist-packages (1.7.2)\n",
            "Requirement already satisfied: colab-env in /usr/local/lib/python3.10/dist-packages (0.2.0)\n",
            "Requirement already satisfied: unstructured in /usr/local/lib/python3.10/dist-packages (0.7.2)\n",
            "Requirement already satisfied: chromadb in /usr/local/lib/python3.10/dist-packages (0.3.26)\n",
            "Requirement already satisfied: tiktoken in /usr/local/lib/python3.10/dist-packages (0.4.0)\n",
            "Requirement already satisfied: pdf2image in /usr/local/lib/python3.10/dist-packages (1.16.3)\n",
            "Requirement already satisfied: requests>=2.20 in /usr/local/lib/python3.10/dist-packages (from OpenAI) (2.31.0)\n",
            "Requirement already satisfied: tqdm in /usr/local/lib/python3.10/dist-packages (from OpenAI) (4.65.0)\n",
            "Requirement already satisfied: aiohttp in /usr/local/lib/python3.10/dist-packages (from OpenAI) (3.8.4)\n",
            "Requirement already satisfied: PyYAML>=5.4.1 in /usr/local/lib/python3.10/dist-packages (from langchain) (6.0)\n",
            "Requirement already satisfied: SQLAlchemy<3,>=1.4 in /usr/local/lib/python3.10/dist-packages (from langchain) (2.0.10)\n",
            "Requirement already satisfied: async-timeout<5.0.0,>=4.0.0 in /usr/local/lib/python3.10/dist-packages (from langchain) (4.0.2)\n",
            "Requirement already satisfied: dataclasses-json<0.6.0,>=0.5.7 in /usr/local/lib/python3.10/dist-packages (from langchain) (0.5.7)\n",
            "Requirement already satisfied: langchainplus-sdk>=0.0.7 in /usr/local/lib/python3.10/dist-packages (from langchain) (0.0.7)\n",
            "Requirement already satisfied: numexpr<3.0.0,>=2.8.4 in /usr/local/lib/python3.10/dist-packages (from langchain) (2.8.4)\n",
            "Requirement already satisfied: numpy<2,>=1 in /usr/local/lib/python3.10/dist-packages (from langchain) (1.22.4)\n",
            "Requirement already satisfied: openapi-schema-pydantic<2.0,>=1.2 in /usr/local/lib/python3.10/dist-packages (from langchain) (1.2.4)\n",
            "Requirement already satisfied: tenacity<9.0.0,>=8.1.0 in /usr/local/lib/python3.10/dist-packages (from langchain) (8.2.2)\n",
            "Requirement already satisfied: typing-extensions>=4.2.0 in /usr/local/lib/python3.10/dist-packages (from pydantic) (4.5.0)\n",
            "Requirement already satisfied: python-dotenv<1.0,>=0.10.0 in /usr/local/lib/python3.10/dist-packages (from colab-env) (0.21.1)\n",
            "Requirement already satisfied: argilla in /usr/local/lib/python3.10/dist-packages (from unstructured) (1.9.0)\n",
            "Requirement already satisfied: chardet in /usr/local/lib/python3.10/dist-packages (from unstructured) (4.0.0)\n",
            "Requirement already satisfied: lxml in /usr/local/lib/python3.10/dist-packages (from unstructured) (4.9.2)\n",
            "Requirement already satisfied: msg-parser in /usr/local/lib/python3.10/dist-packages (from unstructured) (1.2.0)\n",
            "Requirement already satisfied: nltk in /usr/local/lib/python3.10/dist-packages (from unstructured) (3.8.1)\n",
            "Requirement already satisfied: openpyxl in /usr/local/lib/python3.10/dist-packages (from unstructured) (3.0.10)\n",
            "Requirement already satisfied: pandas in /usr/local/lib/python3.10/dist-packages (from unstructured) (1.5.3)\n",
            "Requirement already satisfied: pdfminer.six in /usr/local/lib/python3.10/dist-packages (from unstructured) (20221105)\n",
            "Requirement already satisfied: pillow in /usr/local/lib/python3.10/dist-packages (from unstructured) (8.4.0)\n",
            "Requirement already satisfied: pypandoc in /usr/local/lib/python3.10/dist-packages (from unstructured) (1.11)\n",
            "Requirement already satisfied: python-docx in /usr/local/lib/python3.10/dist-packages (from unstructured) (0.8.11)\n",
            "Requirement already satisfied: python-pptx in /usr/local/lib/python3.10/dist-packages (from unstructured) (0.6.21)\n",
            "Requirement already satisfied: python-magic in /usr/local/lib/python3.10/dist-packages (from unstructured) (0.4.27)\n",
            "Requirement already satisfied: markdown in /usr/local/lib/python3.10/dist-packages (from unstructured) (3.4.3)\n",
            "Requirement already satisfied: tabulate in /usr/local/lib/python3.10/dist-packages (from unstructured) (0.8.10)\n",
            "Requirement already satisfied: xlrd in /usr/local/lib/python3.10/dist-packages (from unstructured) (2.0.1)\n",
            "Requirement already satisfied: hnswlib>=0.7 in /usr/local/lib/python3.10/dist-packages (from chromadb) (0.7.0)\n",
            "Requirement already satisfied: clickhouse-connect>=0.5.7 in /usr/local/lib/python3.10/dist-packages (from chromadb) (0.6.1)\n",
            "Requirement already satisfied: duckdb>=0.7.1 in /usr/local/lib/python3.10/dist-packages (from chromadb) (0.7.1)\n",
            "Requirement already satisfied: fastapi>=0.85.1 in /usr/local/lib/python3.10/dist-packages (from chromadb) (0.96.0)\n",
            "Requirement already satisfied: uvicorn[standard]>=0.18.3 in /usr/local/lib/python3.10/dist-packages (from chromadb) (0.22.0)\n",
            "Requirement already satisfied: posthog>=2.4.0 in /usr/local/lib/python3.10/dist-packages (from chromadb) (3.0.1)\n",
            "Requirement already satisfied: pulsar-client>=3.1.0 in /usr/local/lib/python3.10/dist-packages (from chromadb) (3.2.0)\n",
            "Requirement already satisfied: onnxruntime>=1.14.1 in /usr/local/lib/python3.10/dist-packages (from chromadb) (1.15.0)\n",
            "Requirement already satisfied: tokenizers>=0.13.2 in /usr/local/lib/python3.10/dist-packages (from chromadb) (0.13.3)\n",
            "Requirement already satisfied: overrides>=7.3.1 in /usr/local/lib/python3.10/dist-packages (from chromadb) (7.3.1)\n",
            "Requirement already satisfied: regex>=2022.1.18 in /usr/local/lib/python3.10/dist-packages (from tiktoken) (2022.10.31)\n",
            "Requirement already satisfied: attrs>=17.3.0 in /usr/local/lib/python3.10/dist-packages (from aiohttp->OpenAI) (23.1.0)\n",
            "Requirement already satisfied: charset-normalizer<4.0,>=2.0 in /usr/local/lib/python3.10/dist-packages (from aiohttp->OpenAI) (2.0.12)\n",
            "Requirement already satisfied: multidict<7.0,>=4.5 in /usr/local/lib/python3.10/dist-packages (from aiohttp->OpenAI) (6.0.4)\n",
            "Requirement already satisfied: yarl<2.0,>=1.0 in /usr/local/lib/python3.10/dist-packages (from aiohttp->OpenAI) (1.9.2)\n",
            "Requirement already satisfied: frozenlist>=1.1.1 in /usr/local/lib/python3.10/dist-packages (from aiohttp->OpenAI) (1.3.3)\n",
            "Requirement already satisfied: aiosignal>=1.1.2 in /usr/local/lib/python3.10/dist-packages (from aiohttp->OpenAI) (1.3.1)\n",
            "Requirement already satisfied: certifi in /usr/local/lib/python3.10/dist-packages (from clickhouse-connect>=0.5.7->chromadb) (2022.12.7)\n",
            "Requirement already satisfied: urllib3>=1.26 in /usr/local/lib/python3.10/dist-packages (from clickhouse-connect>=0.5.7->chromadb) (1.26.15)\n",
            "Requirement already satisfied: pytz in /usr/local/lib/python3.10/dist-packages (from clickhouse-connect>=0.5.7->chromadb) (2022.7.1)\n",
            "Requirement already satisfied: zstandard in /usr/local/lib/python3.10/dist-packages (from clickhouse-connect>=0.5.7->chromadb) (0.21.0)\n",
            "Requirement already satisfied: lz4 in /usr/local/lib/python3.10/dist-packages (from clickhouse-connect>=0.5.7->chromadb) (4.3.2)\n",
            "Requirement already satisfied: marshmallow<4.0.0,>=3.3.0 in /usr/local/lib/python3.10/dist-packages (from dataclasses-json<0.6.0,>=0.5.7->langchain) (3.19.0)\n",
            "Requirement already satisfied: marshmallow-enum<2.0.0,>=1.5.1 in /usr/local/lib/python3.10/dist-packages (from dataclasses-json<0.6.0,>=0.5.7->langchain) (1.5.1)\n",
            "Requirement already satisfied: typing-inspect>=0.4.0 in /usr/local/lib/python3.10/dist-packages (from dataclasses-json<0.6.0,>=0.5.7->langchain) (0.9.0)\n",
            "Requirement already satisfied: starlette<0.28.0,>=0.27.0 in /usr/local/lib/python3.10/dist-packages (from fastapi>=0.85.1->chromadb) (0.27.0)\n",
            "Requirement already satisfied: coloredlogs in /usr/local/lib/python3.10/dist-packages (from onnxruntime>=1.14.1->chromadb) (15.0.1)\n",
            "Requirement already satisfied: flatbuffers in /usr/local/lib/python3.10/dist-packages (from onnxruntime>=1.14.1->chromadb) (23.3.3)\n",
            "Requirement already satisfied: packaging in /usr/local/lib/python3.10/dist-packages (from onnxruntime>=1.14.1->chromadb) (23.1)\n",
            "Requirement already satisfied: protobuf in /usr/local/lib/python3.10/dist-packages (from onnxruntime>=1.14.1->chromadb) (3.20.3)\n",
            "Requirement already satisfied: sympy in /usr/local/lib/python3.10/dist-packages (from onnxruntime>=1.14.1->chromadb) (1.11.1)\n",
            "Requirement already satisfied: python-dateutil>=2.8.1 in /usr/local/lib/python3.10/dist-packages (from pandas->unstructured) (2.8.2)\n",
            "Requirement already satisfied: six>=1.5 in /usr/local/lib/python3.10/dist-packages (from posthog>=2.4.0->chromadb) (1.16.0)\n",
            "Requirement already satisfied: monotonic>=1.5 in /usr/local/lib/python3.10/dist-packages (from posthog>=2.4.0->chromadb) (1.6)\n",
            "Requirement already satisfied: backoff>=1.10.0 in /usr/local/lib/python3.10/dist-packages (from posthog>=2.4.0->chromadb) (2.2.1)\n",
            "Requirement already satisfied: idna<4,>=2.5 in /usr/local/lib/python3.10/dist-packages (from requests>=2.20->OpenAI) (3.4)\n",
            "Requirement already satisfied: greenlet!=0.4.17 in /usr/local/lib/python3.10/dist-packages (from SQLAlchemy<3,>=1.4->langchain) (2.0.2)\n",
            "Requirement already satisfied: click>=7.0 in /usr/local/lib/python3.10/dist-packages (from uvicorn[standard]>=0.18.3->chromadb) (8.1.3)\n",
            "Requirement already satisfied: h11>=0.8 in /usr/local/lib/python3.10/dist-packages (from uvicorn[standard]>=0.18.3->chromadb) (0.14.0)\n",
            "Requirement already satisfied: httptools>=0.5.0 in /usr/local/lib/python3.10/dist-packages (from uvicorn[standard]>=0.18.3->chromadb) (0.5.0)\n",
            "Requirement already satisfied: uvloop!=0.15.0,!=0.15.1,>=0.14.0 in /usr/local/lib/python3.10/dist-packages (from uvicorn[standard]>=0.18.3->chromadb) (0.17.0)\n",
            "Requirement already satisfied: watchfiles>=0.13 in /usr/local/lib/python3.10/dist-packages (from uvicorn[standard]>=0.18.3->chromadb) (0.19.0)\n",
            "Requirement already satisfied: websockets>=10.4 in /usr/local/lib/python3.10/dist-packages (from uvicorn[standard]>=0.18.3->chromadb) (11.0.3)\n",
            "Requirement already satisfied: httpx<0.24,>=0.15 in /usr/local/lib/python3.10/dist-packages (from argilla->unstructured) (0.23.3)\n",
            "Requirement already satisfied: deprecated~=1.2.0 in /usr/local/lib/python3.10/dist-packages (from argilla->unstructured) (1.2.14)\n",
            "Requirement already satisfied: wrapt<1.15,>=1.13 in /usr/local/lib/python3.10/dist-packages (from argilla->unstructured) (1.14.1)\n",
            "Requirement already satisfied: rich<=13.0.1 in /usr/local/lib/python3.10/dist-packages (from argilla->unstructured) (13.0.1)\n",
            "Requirement already satisfied: typer<1.0.0,>=0.6.0 in /usr/local/lib/python3.10/dist-packages (from argilla->unstructured) (0.7.0)\n",
            "Requirement already satisfied: olefile>=0.46 in /usr/local/lib/python3.10/dist-packages (from msg-parser->unstructured) (0.46)\n",
            "Requirement already satisfied: joblib in /usr/local/lib/python3.10/dist-packages (from nltk->unstructured) (1.2.0)\n",
            "Requirement already satisfied: et-xmlfile in /usr/local/lib/python3.10/dist-packages (from openpyxl->unstructured) (1.1.0)\n",
            "Requirement already satisfied: cryptography>=36.0.0 in /usr/local/lib/python3.10/dist-packages (from pdfminer.six->unstructured) (40.0.2)\n",
            "Requirement already satisfied: XlsxWriter>=0.5.7 in /usr/local/lib/python3.10/dist-packages (from python-pptx->unstructured) (3.1.2)\n",
            "Requirement already satisfied: cffi>=1.12 in /usr/local/lib/python3.10/dist-packages (from cryptography>=36.0.0->pdfminer.six->unstructured) (1.15.1)\n",
            "Requirement already satisfied: httpcore<0.17.0,>=0.15.0 in /usr/local/lib/python3.10/dist-packages (from httpx<0.24,>=0.15->argilla->unstructured) (0.16.3)\n",
            "Requirement already satisfied: rfc3986[idna2008]<2,>=1.3 in /usr/local/lib/python3.10/dist-packages (from httpx<0.24,>=0.15->argilla->unstructured) (1.5.0)\n",
            "Requirement already satisfied: sniffio in /usr/local/lib/python3.10/dist-packages (from httpx<0.24,>=0.15->argilla->unstructured) (1.3.0)\n",
            "Requirement already satisfied: commonmark<0.10.0,>=0.9.0 in /usr/local/lib/python3.10/dist-packages (from rich<=13.0.1->argilla->unstructured) (0.9.1)\n",
            "Requirement already satisfied: pygments<3.0.0,>=2.6.0 in /usr/local/lib/python3.10/dist-packages (from rich<=13.0.1->argilla->unstructured) (2.14.0)\n",
            "Requirement already satisfied: anyio<5,>=3.4.0 in /usr/local/lib/python3.10/dist-packages (from starlette<0.28.0,>=0.27.0->fastapi>=0.85.1->chromadb) (3.6.2)\n",
            "Requirement already satisfied: mypy-extensions>=0.3.0 in /usr/local/lib/python3.10/dist-packages (from typing-inspect>=0.4.0->dataclasses-json<0.6.0,>=0.5.7->langchain) (1.0.0)\n",
            "Requirement already satisfied: humanfriendly>=9.1 in /usr/local/lib/python3.10/dist-packages (from coloredlogs->onnxruntime>=1.14.1->chromadb) (10.0)\n",
            "Requirement already satisfied: mpmath>=0.19 in /usr/local/lib/python3.10/dist-packages (from sympy->onnxruntime>=1.14.1->chromadb) (1.3.0)\n",
            "Requirement already satisfied: pycparser in /usr/local/lib/python3.10/dist-packages (from cffi>=1.12->cryptography>=36.0.0->pdfminer.six->unstructured) (2.21)\n"
          ]
        }
      ],
      "source": [
        "pip install OpenAI langchain pydantic faiss-gpu colab-env unstructured chromadb tiktoken pdf2image faiss-gpu"
      ]
    },
    {
      "cell_type": "markdown",
      "source": [
        "Yo, let's import our local env so we don't have to show the world our keys"
      ],
      "metadata": {
        "id": "thnn1Guth9nA"
      }
    },
    {
      "cell_type": "code",
      "execution_count": 156,
      "metadata": {
        "id": "bIQmA_whelu1"
      },
      "outputs": [],
      "source": [
        "import colab_env"
      ]
    },
    {
      "cell_type": "markdown",
      "source": [
        "Let's import our python modules"
      ],
      "metadata": {
        "id": "NoZ4EBVsiqMf"
      }
    },
    {
      "cell_type": "code",
      "source": [
        "from langchain.embeddings.openai import OpenAIEmbeddings\n",
        "from langchain.vectorstores import Chroma\n",
        "from langchain.text_splitter import CharacterTextSplitter\n",
        "from langchain.text_splitter import RecursiveCharacterTextSplitter\n",
        "from langchain import OpenAI, VectorDBQA\n",
        "from langchain.chains import RetrievalQA\n",
        "from langchain.chains import RetrievalQAWithSourcesChain\n",
        "from langchain.document_loaders import DirectoryLoader\n",
        "from langchain.prompts import PromptTemplate\n",
        "from langchain.llms import OpenAI\n",
        "from langchain.agents import load_tools\n",
        "from langchain.agents import initialize_agent\n",
        "from langchain.agents import AgentType\n",
        "from langchain.chat_models import ChatOpenAI\n",
        "from langchain.schema import (\n",
        "    AIMessage,\n",
        "    HumanMessage,\n",
        "    SystemMessage\n",
        ")\n",
        "import magic\n",
        "import os\n",
        "import nltk\n",
        "import textwrap\n",
        "\n"
      ],
      "metadata": {
        "id": "dThYIPCKjKcS"
      },
      "execution_count": 157,
      "outputs": []
    },
    {
      "cell_type": "markdown",
      "source": [
        "Let's set the temperature of our AI models"
      ],
      "metadata": {
        "id": "MH2-7NiKjdkE"
      }
    },
    {
      "cell_type": "code",
      "source": [
        "llm = OpenAI(temperature=0)\n",
        "chat = ChatOpenAI(temperature=0)"
      ],
      "metadata": {
        "id": "Imm3MHuFjh_N"
      },
      "execution_count": 158,
      "outputs": []
    },
    {
      "cell_type": "markdown",
      "source": [
        "Let's specify the directory and file type for our Demming source docs"
      ],
      "metadata": {
        "id": "zz19cRbakQdZ"
      }
    },
    {
      "cell_type": "code",
      "execution_count": 159,
      "metadata": {
        "id": "e8a28a08"
      },
      "outputs": [],
      "source": [
        "loader = DirectoryLoader('/content/gdrive/MyDrive/Projects/Digital_Deming/src_content', glob='**/*.pdf')"
      ]
    },
    {
      "cell_type": "markdown",
      "source": [
        "Load our documents\n"
      ],
      "metadata": {
        "id": "1bXP4IjLmc9D"
      }
    },
    {
      "cell_type": "code",
      "source": [
        "documents = loader.load()"
      ],
      "metadata": {
        "id": "yYcyBEQcmfEB"
      },
      "execution_count": 160,
      "outputs": []
    },
    {
      "cell_type": "markdown",
      "source": [
        "Check how many documents are loaded"
      ],
      "metadata": {
        "id": "LdhzQ0Yrmj-r"
      }
    },
    {
      "cell_type": "code",
      "source": [
        "len (documents)"
      ],
      "metadata": {
        "colab": {
          "base_uri": "https://localhost:8080/"
        },
        "id": "47e8iE6Imgwk",
        "outputId": "ff752982-8879-4710-9962-6a261b00e3ff"
      },
      "execution_count": 161,
      "outputs": [
        {
          "output_type": "execute_result",
          "data": {
            "text/plain": [
              "1"
            ]
          },
          "metadata": {},
          "execution_count": 161
        }
      ]
    },
    {
      "cell_type": "markdown",
      "source": [
        "Let's split our document up into chunks"
      ],
      "metadata": {
        "id": "6LMzp2tkmp_z"
      }
    },
    {
      "cell_type": "code",
      "execution_count": 162,
      "metadata": {
        "id": "3153f864"
      },
      "outputs": [],
      "source": [
        "#text_splitter = CharacterTextSplitter(chunk_size=1000, chunk_overlap=0)\n",
        "text_splitter = RecursiveCharacterTextSplitter(\n",
        "    # Set a really small chunk size, just to show.\n",
        "    chunk_size = 1000,\n",
        "    chunk_overlap  = 20,\n",
        "    length_function = len,\n",
        "    separators=[\"\\n\\n\", \"\\n\", \" \", \"\"]\n",
        ")"
      ]
    },
    {
      "cell_type": "markdown",
      "source": [
        "Let' create a variable named texts, and split these documents into it"
      ],
      "metadata": {
        "id": "VBPEkFIenBaf"
      }
    },
    {
      "cell_type": "code",
      "source": [
        "texts = text_splitter.split_documents(documents)"
      ],
      "metadata": {
        "id": "hG6BjgOunHLQ"
      },
      "execution_count": 163,
      "outputs": []
    },
    {
      "cell_type": "markdown",
      "source": [
        "Let's tell it that we want it to use OpenAI embeddings, and tell it what env variable the key is held"
      ],
      "metadata": {
        "id": "tFdzlP2anIlJ"
      }
    },
    {
      "cell_type": "code",
      "source": [
        "embeddings = OpenAIEmbeddings(openai_api_key=os.environ['OPENAI_API_KEY'])"
      ],
      "metadata": {
        "id": "lglhxYJZnUZt"
      },
      "execution_count": 164,
      "outputs": []
    },
    {
      "cell_type": "markdown",
      "source": [
        "Let's create a variable named docsearch, and pull from Chroma vectorstore including texts, and the embeddings)"
      ],
      "metadata": {
        "id": "3nZoNACcnVhj"
      }
    },
    {
      "cell_type": "code",
      "source": [
        "docsearch = Chroma.from_documents(texts, embeddings)"
      ],
      "metadata": {
        "id": "Ts7ek3lBnf2O"
      },
      "execution_count": 165,
      "outputs": []
    },
    {
      "cell_type": "markdown",
      "source": [
        "define qa chain, which pulls from VectorDBQA, and use the LLM chain named OpenAI. We specify that it \"Stuff\"'s all the data in. We could use \"map_reduce\" instead to optimize for performance and scale. Let's tell it to use the vectorstore we defined earlier named docsearch\n",
        "\n",
        "note, i'm trying RetrievalQA because VectorDBQA is depricated"
      ],
      "metadata": {
        "id": "7qk5wNDbnjfR"
      }
    },
    {
      "cell_type": "code",
      "execution_count": 166,
      "metadata": {
        "id": "ObvvPjUjrAdJ"
      },
      "outputs": [],
      "source": [
        "qa = VectorDBQA.from_chain_type(llm=OpenAI(), chain_type=\"stuff\", vectorstore=docsearch, return_source_documents=True)\n",
        "query = \"Describe in depth, what is the foundation of quality. Provide three examples using bullet points\"\n",
        "result = qa({\"query\": query})"
      ]
    },
    {
      "cell_type": "code",
      "execution_count": 167,
      "metadata": {
        "colab": {
          "base_uri": "https://localhost:8080/",
          "height": 142
        },
        "outputId": "8f34c410-0622-4fe3-8fde-5ca902cb8913",
        "id": "00AVxSEVrAdQ"
      },
      "outputs": [
        {
          "output_type": "execute_result",
          "data": {
            "text/plain": [
              "\"\\n\\nThe foundation of quality is a set of principles, processes, and methods that ensure that products and services meet or exceed customer expectations. \\n\\nExamples: \\n• Quality Control: Quality control involves the use of tools, processes, and techniques to ensure that products and services meet the customer's expectations. \\n• Quality Assurance: Quality assurance is the process of verifying that products and services meet the customer's expectations. It involves the use of techniques such as inspections, audits, and analysis to identify and address problems. \\n• Quality Management: Quality management is the process of managing the quality of products and services in order to meet customer requirements. It involves the use of tools such as planning, training, and problem solving to improve the quality of products and services.\""
            ],
            "application/vnd.google.colaboratory.intrinsic+json": {
              "type": "string"
            }
          },
          "metadata": {},
          "execution_count": 167
        }
      ],
      "source": [
        "result['result']"
      ]
    },
    {
      "cell_type": "code",
      "execution_count": 168,
      "metadata": {
        "colab": {
          "base_uri": "https://localhost:8080/"
        },
        "outputId": "6b0dd8e0-7d8c-4b38-e607-2f352b4695e7",
        "id": "0vXQN55ZrAdQ"
      },
      "outputs": [
        {
          "output_type": "execute_result",
          "data": {
            "text/plain": [
              "[Document(page_content='1) AGREE: Advisory Group on Reliability of Electronic Equipment 2) AOTS: Association for Overseas Technical Scholarship 3) APO: Asian Productivity Organization 4) ASA: American Standards Association 5) ASQC: American Society for Quality Control 6) BS: British Standards 7) CCS: Civil Communication Section 8) COSCO: Control System Committee 9) EOQC: European Organization for Quality Control 10) EOQ: European Organization for Quality 11) EFQM: European Foundation for Quality Management 12) FMES: Japan Federation of Managerial Engineering Societies\\n\\n524\\n\\nA Parallel Chronology of Prof. Kaoru Ishikawa’s Life and TQC in Japan', metadata={'source': '/content/gdrive/MyDrive/Projects/Digital_Deming/src_content/ParallelChronology_Ver2_150717.pdf'}),\n",
              " Document(page_content='Major Events in the Development of QC\\n\\nCourse. (July–Dec. 1957, JUSE)\\n\\n\\uf09f The Chugoku Quality Control Research Group was established. (JSA Hiroshima) \\uf09f The Design of Experiment Seminar was\\n\\nheld. (JSA)\\n\\n\\uf09f The European Organization for Quality\\n\\nControl (EOQC) was founded.\\n\\n\\uf09f A. V. Feigenbaum published his thesis titled “Total Quality Control” in the Harvard Business Review.\\n\\n1957\\n\\n\\uf09f He appeared as a lecturer on NHK’s radio\\n\\n\\uf09f The first Spring QC Conference was\\n\\nprograms. (–62, NHK Radio 2)\\n\\nheld. (Osaka, May, JUSE)\\n\\n\\uf09f His article “Points in Preparing In-house Standards” (published in the Hinshitsu Kanri (Statistical Quality Control) [140]) won the Standardization Literature Award.\\n\\n\\uf09f He started playing golf. \\uf09f He published Introduction to Sampling\\n\\n\\uf09f The Operations Research Society of\\n\\nJapan was founded. (June)\\n\\n\\uf09f The QC Seminar for Executives was held\\n\\nin Karuizawa. (July, JUSE)\\n\\n\\uf09f The Sensory Test Seminar was held.\\n\\n(Sep., JUSE)\\n\\n\\uf09f The Kansai QC Research Group was', metadata={'source': '/content/gdrive/MyDrive/Projects/Digital_Deming/src_content/ParallelChronology_Ver2_150717.pdf'}),\n",
              " Document(page_content='\\uf09f The Reliability Introductory Seminar was\\n\\nheld. (Feb., JUSE)\\n\\n\\uf09f The QC Circle Chugoku Regional\\n\\nChapter and Shikoku Regional Chapter were founded. (June, QC Circle Headquarters)\\n\\n\\uf09f The Quality Control Symposium (QCS) was established and decided to hold meetings twice a year. (July, JUSE)\\n\\n\\uf09f The Japan-America Joint\\n\\nSymposium on Bulk Material Sampling was held. (Nov., Tokyo)\\n\\n\\uf09f NEC implemented ZD activity on a\\n\\ncompany-wide level.\\n\\n\\uf09f The New Product Development Class\\n\\nwas held. (JSA)\\n\\n\\uf09f The Tohoku QC Research Group was\\n\\nestablished. (JSA)\\n\\n\\uf09f The 1st QCS: How to introduce, promote\\n\\nand establish QC.\\n\\n\\uf09f The 2nd QCS: The role of QC\\n\\ndepartment.\\n\\n\\uf09f He attended the 10th EOQC Conference held in Stockholm. During the QC circle special discussion, he was invited onto the stage.\\n\\n\\uf09f He became one of six man board of the International Academy for Quality preparation committee. (–69)\\n\\n\\uf09f The Deming Application Prize for\\n\\nDivision was established.', metadata={'source': '/content/gdrive/MyDrive/Projects/Digital_Deming/src_content/ParallelChronology_Ver2_150717.pdf'}),\n",
              " Document(page_content='Jan. 23\\n\\n\\uf09f A party to celebrate his honor conferred decoration was held at the Hotel Okura.\\n\\nJan. 31\\n\\n\\uf09f He published Introduction to\\n\\nQuality Control (3rd Edition). (JUSE Press)\\n\\nThe English edition:\\n\\nIntroduction to Quality Control (3rd\\n\\n523\\n\\n\\uf09f The 2000th Memorial QC Circle\\n\\nConference was held. (March, QC Circle Headquarters)\\n\\n\\uf09f EFQM was founded. (Sep.) \\uf09f The Software Quality Control Seminar for Managers was held. (Oct., JUSE)\\n\\n\\uf09f The 1st Malcolm Baldrige National Quality Award was awarded. (Oct., America)\\n\\n\\uf09f Joban Hawaiian Center was awarded the Deming Application Prize for Division, as the first service company to win the prize. (Nov.)\\n\\n\\uf09f ICQCC ’88-Taipei was held. (Nov.,\\n\\nTaipei)\\n\\n\\uf09f The number of foreign companies too whom the use of JIS mark is permitted exceeded 100.\\n\\n\\uf09f The 46th QCS: Quality control\\n\\ntraining—current situation and future direction.\\n\\n\\uf09f The 47th QCS: New product planning\\n\\nand market research—how to understand the quality required by customers.', metadata={'source': '/content/gdrive/MyDrive/Projects/Digital_Deming/src_content/ParallelChronology_Ver2_150717.pdf'})]"
            ]
          },
          "metadata": {},
          "execution_count": 168
        }
      ],
      "source": [
        "result['source_documents']"
      ]
    },
    {
      "cell_type": "code",
      "source": [],
      "metadata": {
        "id": "R7K8ix2NrfaY"
      },
      "execution_count": 168,
      "outputs": []
    },
    {
      "cell_type": "code",
      "execution_count": 169,
      "metadata": {
        "id": "ClQwd3G_rrIU"
      },
      "outputs": [],
      "source": [
        "qa = VectorDBQA.from_chain_type(llm=OpenAI(), chain_type=\"stuff\", vectorstore=docsearch, return_source_documents=True)\n",
        "#query = \"what is the impact of JUSE on TQM?\"\n",
        "#query = \"what is the purpouse of life?\"\n",
        "#query = \"what does demming like for lunch\"\n",
        "#query = \"is quality like a human\"\n",
        "#query = \"what is the fourth rule of TQM\"\n",
        "#query = \"what is the most important concept in TQM\"\n",
        "#query =  \"WHo won the deming prize?\"\n",
        "#query = \"Is TQM like lean?\"\n",
        "#query = \"How are TQM and Lean different?\"\n",
        "query = \"What is lean?\"\n",
        "\n",
        "result = qa({\"query\": query})"
      ]
    },
    {
      "cell_type": "code",
      "execution_count": 170,
      "metadata": {
        "colab": {
          "base_uri": "https://localhost:8080/",
          "height": 36
        },
        "outputId": "8c84247a-1c41-47e9-8b5a-b65bc6dcac65",
        "id": "_DbSCDZirrIc"
      },
      "outputs": [
        {
          "output_type": "execute_result",
          "data": {
            "text/plain": [
              "' Lean is a method for improving the efficiency of production processes by eliminating waste and increasing value.'"
            ],
            "application/vnd.google.colaboratory.intrinsic+json": {
              "type": "string"
            }
          },
          "metadata": {},
          "execution_count": 170
        }
      ],
      "source": [
        "result['result']"
      ]
    },
    {
      "cell_type": "code",
      "execution_count": 171,
      "metadata": {
        "colab": {
          "base_uri": "https://localhost:8080/"
        },
        "outputId": "3dbd240b-887f-4803-911c-08715f5bad59",
        "id": "z0JP3rHTrrIc"
      },
      "outputs": [
        {
          "output_type": "execute_result",
          "data": {
            "text/plain": [
              "[Document(page_content='held. (July, JUSE)\\n\\n\\uf09f Governmental Building Construction Q-S Round-table conference was held. (JSA)\\n\\n\\uf09f The Mexican Quality Control Training\\n\\n(Age 62)\\n\\n515\\n\\nA Parallel Chronology of Prof. Kaoru Ishikawa’s Life and TQC in Japan\\n\\nYear\\n\\nProf. Ishikawa’s Life\\n\\nMajor Events in the Development of QC\\n\\n\\uf09f He became a researcher at the\\n\\nTeam visited Japan. (JICA/JUSE)\\n\\nComponent Measurement Department, Laboratory of Metrology, the Agency of Industrial Science and Technology. \\uf09f He became the chair of the executive\\n\\ncommittee of the 20th National Meeting of Standardization. (JSA)\\n\\n\\uf09f He became the chair of the organization committee of the Mexican Quality Control Training Course. (JICA/JUSE)\\n\\n\\uf09f He was awarded with the Medal with\\n\\nBlue Ribbon for his contribution to the promotion of industrial standardization. \\uf09f He became an honorary member of the Argentine Association for Quality Control.\\n\\n\\uf09f The 1st PL World Conference was held\\n\\nin London.\\n\\n\\uf09f Yoshio Kondo was awarded the Grant\\n\\nMedal. (ASQC)', metadata={'source': '/content/gdrive/MyDrive/Projects/Digital_Deming/src_content/ParallelChronology_Ver2_150717.pdf'}),\n",
              " Document(page_content='Deming Application Prize. It was the first construction company to win the prize. (Nov.)\\n\\n\\uf09f A committee to research QC in the\\n\\nservice industry was established. (Nov.,\\n\\nA Parallel Chronology of Prof. Kaoru Ishikawa’s Life and TQC in Japan\\n\\nYear\\n\\nProf. Ishikawa’s Life\\n\\nMajor Events in the Development of QC\\n\\ncommissioned by the Ministry of the Environment.)\\n\\n\\uf09f His book Control Points of Quality (joint authorship) (Zeimukeiri Kyokai) was awarded Nikkei Quality Control Literature Prize.\\n\\nJUSE)\\n\\n\\uf09f The 28th QCS: New product planning\\n\\nand market research.\\n\\n\\uf09f The 29th QCS: Future Quality\\n\\nControl—challenges in the 1980s.\\n\\n1980\\n\\n\\uf09f He became a council member of the Japan Standards Association. (–84)\\n\\n\\uf09f He became a council member of the Japanese Society for Quality Control. (–82)\\n\\n\\uf09f He became the chair of the Nuclear\\n\\nPower Plant Quality Assurance Review Committee. (MITI)\\n\\n\\uf09f He became the chair of the Management\\n\\nResearch Group of Japan-China Economic Association.', metadata={'source': '/content/gdrive/MyDrive/Projects/Digital_Deming/src_content/ParallelChronology_Ver2_150717.pdf'}),\n",
              " Document(page_content='by Deming Prize Committee was established. (Nov.)\\n\\n\\uf09f He became a member of the Japan-Soviet\\n\\nThe first winner was Mitsubishi\\n\\nRound-table Conference on Standardization. (JSA)\\n\\n\\uf09f He visited China as a delegation member to research industrial standardization and quality control.\\n\\n\\uf09f He visited Europe as the general leader of the 6th QC Circle Overseas Research Delegation Team. (Head of the delegation; Koichi Ohba) (JUSE) \\uf09f He published Product Liability (joint authorship). (Nov., JUSE Press)\\n\\nHeavy Industries’ Kobe Shipyard.\\n\\n\\uf09f The QC Circle Seminar for Top\\n\\nManagement was held. (Jan., JUSE) \\uf09f Genba To QC-magazine was renamed\\n\\nFQC. (Jan., JUSE)\\n\\n\\uf09f The Distribution Department QC\\n\\nResearch Group (textile field) was established. (Apr., JUSE)\\n\\n\\uf09f The 1st Product Liability Study Team (PLT) to Overseas was dispatched. (Aug., JUSE)\\n\\n\\uf09f The 1st Pacific Area Standards Congress\\n\\n(PASC) was held in Honolulu.\\n\\n\\uf09f The PLP Seminar was held, inviting American experts as lecturers. (Oct., JUSE)', metadata={'source': '/content/gdrive/MyDrive/Projects/Digital_Deming/src_content/ParallelChronology_Ver2_150717.pdf'}),\n",
              " Document(page_content='\\uf09f The Deming Application Prize for Small Enterprise was established. (Nov.) The first winner was Nakayo, Inc.\\n\\n\\uf09f The Kyushu QC Research Group was\\n\\n(Age 42)\\n\\n1958\\n\\nFeb.\\n\\n(Age 43)\\n\\n\\uf09f Quality Control Guidebook (Vol. 1, Vol.\\n\\nestablished. (JSA)\\n\\n504\\n\\nA Parallel Chronology of Prof. Kaoru Ishikawa’s Life and TQC in Japan\\n\\nYear\\n\\nProf. Ishikawa’s Life\\n\\nMajor Events in the Development of QC\\n\\n2), written and edited by Ishikawa, were published. (A revised edition of Vol. 1 was published in July, 1963 and a revised edition of Vol. 2 was published in Nov., 1964.)\\n\\n\\uf09f The Shikoku QC Research Group was\\n\\nestablished. (JSA)\\n\\n\\uf09f QC slides were released. (JSA) \\uf09f Konishi & Taguchi proposed the linear graph method in their book Orthogonal Array Table and Allocation Type.\\n\\n1959\\n\\nFeb. 1\\n\\n\\uf09f The 1st QCG (QC GOLF) competition\\n\\n\\uf09f Dr. Shewhart visited Japan and gave', metadata={'source': '/content/gdrive/MyDrive/Projects/Digital_Deming/src_content/ParallelChronology_Ver2_150717.pdf'})]"
            ]
          },
          "metadata": {},
          "execution_count": 171
        }
      ],
      "source": [
        "result['source_documents']"
      ]
    },
    {
      "cell_type": "markdown",
      "source": [
        "# The History and Evolution of Total Quality Management (TQM): The Contributions of Kaoru Ishikawa and the Japanese Union of Scientists and Engineers (JUSE)"
      ],
      "metadata": {
        "id": "x-rsKQcKpNP9"
      }
    },
    {
      "cell_type": "markdown",
      "source": [
        "## I. Introduction\n",
        "- Definition of Total Quality Management (TQM)\n",
        "- Brief introduction of the significance of TQM in the modern business world\n",
        "- Introduction to Kaoru Ishikawa and the Japanese Union of Scientists and Engineers (JUSE)\n",
        "- Thesis Statement"
      ],
      "metadata": {
        "id": "k2t44id5wUxx"
      }
    },
    {
      "cell_type": "code",
      "source": [],
      "metadata": {
        "id": "0Gt8bOdkxyR2"
      },
      "execution_count": 171,
      "outputs": []
    },
    {
      "cell_type": "code",
      "execution_count": 172,
      "metadata": {
        "id": "zusROviVxyar"
      },
      "outputs": [],
      "source": [
        "qa = VectorDBQA.from_chain_type(llm=OpenAI(), chain_type=\"stuff\", vectorstore=docsearch, return_source_documents=True)\n",
        "#query = \"what is the impact of JUSE on TQM?\"\n",
        "#query = \"what is the purpouse of life?\"\n",
        "#query = \"what does demming like for lunch\"\n",
        "#query = \"is quality like a human\"\n",
        "#query = \"what is the fourth rule of TQM\"\n",
        "query = \"what is Total Quality Management (TQM)\"\n",
        "result = qa({\"query\": query})"
      ]
    },
    {
      "cell_type": "code",
      "execution_count": 173,
      "metadata": {
        "colab": {
          "base_uri": "https://localhost:8080/",
          "height": 71
        },
        "outputId": "d996a994-c14a-4345-bda5-5c3e486f35c9",
        "id": "8VK98-MMxyar"
      },
      "outputs": [
        {
          "output_type": "execute_result",
          "data": {
            "text/plain": [
              "\" Total Quality Management (TQM) is an approach to business management that seeks to maximize customer satisfaction by improving quality in all areas of an organization's operations. It is a process that involves integrating all functions of an organization to achieve continuous improvement of quality. It is used to achieve a competitive advantage through improved customer satisfaction and increased efficiency.\""
            ],
            "application/vnd.google.colaboratory.intrinsic+json": {
              "type": "string"
            }
          },
          "metadata": {},
          "execution_count": 173
        }
      ],
      "source": [
        "result['result']"
      ]
    },
    {
      "cell_type": "code",
      "execution_count": 174,
      "metadata": {
        "colab": {
          "base_uri": "https://localhost:8080/"
        },
        "outputId": "a326537e-c28f-49c5-8b16-4b3adb74d802",
        "id": "aiAAix9jxyas"
      },
      "outputs": [
        {
          "output_type": "execute_result",
          "data": {
            "text/plain": [
              "[Document(page_content='1) AGREE: Advisory Group on Reliability of Electronic Equipment 2) AOTS: Association for Overseas Technical Scholarship 3) APO: Asian Productivity Organization 4) ASA: American Standards Association 5) ASQC: American Society for Quality Control 6) BS: British Standards 7) CCS: Civil Communication Section 8) COSCO: Control System Committee 9) EOQC: European Organization for Quality Control 10) EOQ: European Organization for Quality 11) EFQM: European Foundation for Quality Management 12) FMES: Japan Federation of Managerial Engineering Societies\\n\\n524\\n\\nA Parallel Chronology of Prof. Kaoru Ishikawa’s Life and TQC in Japan', metadata={'source': '/content/gdrive/MyDrive/Projects/Digital_Deming/src_content/ParallelChronology_Ver2_150717.pdf'}),\n",
              " Document(page_content='Medal. (ASQC)\\n\\n\\uf09f The Pharmaceutical Manufacturing and Quality Control (GMP) Seminar was held. (Sep., JUSE)\\n\\n\\uf09f The Japan Prefabricated Construction\\n\\nSuppliers and Manufacturers Association held TQC seminars.\\n\\n\\uf09f Noboru Takagi was elected as the 22nd\\n\\npresident of the IEC.\\n\\n\\uf09f The 4th ICPR Conference (IE\\n\\ninternational conference) was held. \\uf09f The 24th QCS: Quality design and\\n\\n\\uf09f Quality Control Handbook (New Edition)\\n\\nprocess design.\\n\\nwritten and edited by Ishikawa was published. (The second edition was published in April, 1988, JSA)\\n\\n\\uf09f The 25th QCS: Small-group activities\\n\\nand QC.\\n\\n1978\\n\\nApril 1\\n\\n\\uf09f He became the President of Musashi\\n\\n\\uf09f The Construction Industry TQC\\n\\nInstitute of Technology.\\n\\nRound-table Conference was held. (JSA)\\n\\n\\uf09f He became the director of Goto-Ikueikai. \\uf09f He became the director of the Tokyu Foundation for Foreign Students.\\n\\n\\uf09f He became the chairperson of the board\\n\\nof directors of the Japan-China Industrial Technology and Culture Center. (–82)', metadata={'source': '/content/gdrive/MyDrive/Projects/Digital_Deming/src_content/ParallelChronology_Ver2_150717.pdf'}),\n",
              " Document(page_content='Deming Application Prize. It was the first construction company to win the prize. (Nov.)\\n\\n\\uf09f A committee to research QC in the\\n\\nservice industry was established. (Nov.,\\n\\nA Parallel Chronology of Prof. Kaoru Ishikawa’s Life and TQC in Japan\\n\\nYear\\n\\nProf. Ishikawa’s Life\\n\\nMajor Events in the Development of QC\\n\\ncommissioned by the Ministry of the Environment.)\\n\\n\\uf09f His book Control Points of Quality (joint authorship) (Zeimukeiri Kyokai) was awarded Nikkei Quality Control Literature Prize.\\n\\nJUSE)\\n\\n\\uf09f The 28th QCS: New product planning\\n\\nand market research.\\n\\n\\uf09f The 29th QCS: Future Quality\\n\\nControl—challenges in the 1980s.\\n\\n1980\\n\\n\\uf09f He became a council member of the Japan Standards Association. (–84)\\n\\n\\uf09f He became a council member of the Japanese Society for Quality Control. (–82)\\n\\n\\uf09f He became the chair of the Nuclear\\n\\nPower Plant Quality Assurance Review Committee. (MITI)\\n\\n\\uf09f He became the chair of the Management\\n\\nResearch Group of Japan-China Economic Association.', metadata={'source': '/content/gdrive/MyDrive/Projects/Digital_Deming/src_content/ParallelChronology_Ver2_150717.pdf'}),\n",
              " Document(page_content='prize. (Nov.)\\n\\n\\uf09f The Japan Federation of Managerial Engineering Societies (FMES) was established. (JSQC, JIMA, and ORSJ)\\n\\n\\uf09f The Act on Science Council of Japan was revised. (Cabinet decision). “Management engineering” was added to “Part 5: Engineering.”\\n\\n\\uf09f ICQCC ’84-Manila was held. \\uf09f The 38th QCS: Sales department and\\n\\nTQC.\\n\\n\\uf09f The 39th QCS: Current situations and\\n\\nissues of TQC.\\n\\n1985\\n\\nJune 15\\n\\n\\uf09f He achieved a hole-in-one (at Tomei\\n\\n\\uf09f The number of countries where QC circle\\n\\nGotemba Country Club). \\uf09f He became the director of the\\n\\nAssociation for Overseas Technical Scholarship. (–87)\\n\\nactivities are conducted reached 52. \\uf09f The Software QC Research Group was\\n\\nestablished. (Apr., JUSE)\\n\\n\\uf09f ICQCC ’85-TOKYO was held. (May,\\n\\n\\uf09f He became the accounting audit for the\\n\\nJUSE)\\n\\nPrivate University Council for Information Processing Education. \\uf09f He became the chair of the ICQCC ’85-TOKYO Program Committee.', metadata={'source': '/content/gdrive/MyDrive/Projects/Digital_Deming/src_content/ParallelChronology_Ver2_150717.pdf'})]"
            ]
          },
          "metadata": {},
          "execution_count": 174
        }
      ],
      "source": [
        "result['source_documents']"
      ]
    },
    {
      "cell_type": "code",
      "source": [
        "# Create a list to stuff section results into \n",
        "introduction = []\n",
        "\n",
        "#append result  to the array\n",
        "introduction.append(result)\n",
        "\n",
        "#print the array\n",
        "print(introduction)"
      ],
      "metadata": {
        "colab": {
          "base_uri": "https://localhost:8080/"
        },
        "id": "GsGodkD4zkL1",
        "outputId": "064a16bd-6615-43a5-adfb-7dfdc1e81079"
      },
      "execution_count": 175,
      "outputs": [
        {
          "output_type": "stream",
          "name": "stdout",
          "text": [
            "[{'query': 'what is Total Quality Management (TQM)', 'result': \" Total Quality Management (TQM) is an approach to business management that seeks to maximize customer satisfaction by improving quality in all areas of an organization's operations. It is a process that involves integrating all functions of an organization to achieve continuous improvement of quality. It is used to achieve a competitive advantage through improved customer satisfaction and increased efficiency.\", 'source_documents': [Document(page_content='1) AGREE: Advisory Group on Reliability of Electronic Equipment 2) AOTS: Association for Overseas Technical Scholarship 3) APO: Asian Productivity Organization 4) ASA: American Standards Association 5) ASQC: American Society for Quality Control 6) BS: British Standards 7) CCS: Civil Communication Section 8) COSCO: Control System Committee 9) EOQC: European Organization for Quality Control 10) EOQ: European Organization for Quality 11) EFQM: European Foundation for Quality Management 12) FMES: Japan Federation of Managerial Engineering Societies\\n\\n524\\n\\nA Parallel Chronology of Prof. Kaoru Ishikawa’s Life and TQC in Japan', metadata={'source': '/content/gdrive/MyDrive/Projects/Digital_Deming/src_content/ParallelChronology_Ver2_150717.pdf'}), Document(page_content='Medal. (ASQC)\\n\\n\\uf09f The Pharmaceutical Manufacturing and Quality Control (GMP) Seminar was held. (Sep., JUSE)\\n\\n\\uf09f The Japan Prefabricated Construction\\n\\nSuppliers and Manufacturers Association held TQC seminars.\\n\\n\\uf09f Noboru Takagi was elected as the 22nd\\n\\npresident of the IEC.\\n\\n\\uf09f The 4th ICPR Conference (IE\\n\\ninternational conference) was held. \\uf09f The 24th QCS: Quality design and\\n\\n\\uf09f Quality Control Handbook (New Edition)\\n\\nprocess design.\\n\\nwritten and edited by Ishikawa was published. (The second edition was published in April, 1988, JSA)\\n\\n\\uf09f The 25th QCS: Small-group activities\\n\\nand QC.\\n\\n1978\\n\\nApril 1\\n\\n\\uf09f He became the President of Musashi\\n\\n\\uf09f The Construction Industry TQC\\n\\nInstitute of Technology.\\n\\nRound-table Conference was held. (JSA)\\n\\n\\uf09f He became the director of Goto-Ikueikai. \\uf09f He became the director of the Tokyu Foundation for Foreign Students.\\n\\n\\uf09f He became the chairperson of the board\\n\\nof directors of the Japan-China Industrial Technology and Culture Center. (–82)', metadata={'source': '/content/gdrive/MyDrive/Projects/Digital_Deming/src_content/ParallelChronology_Ver2_150717.pdf'}), Document(page_content='Deming Application Prize. It was the first construction company to win the prize. (Nov.)\\n\\n\\uf09f A committee to research QC in the\\n\\nservice industry was established. (Nov.,\\n\\nA Parallel Chronology of Prof. Kaoru Ishikawa’s Life and TQC in Japan\\n\\nYear\\n\\nProf. Ishikawa’s Life\\n\\nMajor Events in the Development of QC\\n\\ncommissioned by the Ministry of the Environment.)\\n\\n\\uf09f His book Control Points of Quality (joint authorship) (Zeimukeiri Kyokai) was awarded Nikkei Quality Control Literature Prize.\\n\\nJUSE)\\n\\n\\uf09f The 28th QCS: New product planning\\n\\nand market research.\\n\\n\\uf09f The 29th QCS: Future Quality\\n\\nControl—challenges in the 1980s.\\n\\n1980\\n\\n\\uf09f He became a council member of the Japan Standards Association. (–84)\\n\\n\\uf09f He became a council member of the Japanese Society for Quality Control. (–82)\\n\\n\\uf09f He became the chair of the Nuclear\\n\\nPower Plant Quality Assurance Review Committee. (MITI)\\n\\n\\uf09f He became the chair of the Management\\n\\nResearch Group of Japan-China Economic Association.', metadata={'source': '/content/gdrive/MyDrive/Projects/Digital_Deming/src_content/ParallelChronology_Ver2_150717.pdf'}), Document(page_content='prize. (Nov.)\\n\\n\\uf09f The Japan Federation of Managerial Engineering Societies (FMES) was established. (JSQC, JIMA, and ORSJ)\\n\\n\\uf09f The Act on Science Council of Japan was revised. (Cabinet decision). “Management engineering” was added to “Part 5: Engineering.”\\n\\n\\uf09f ICQCC ’84-Manila was held. \\uf09f The 38th QCS: Sales department and\\n\\nTQC.\\n\\n\\uf09f The 39th QCS: Current situations and\\n\\nissues of TQC.\\n\\n1985\\n\\nJune 15\\n\\n\\uf09f He achieved a hole-in-one (at Tomei\\n\\n\\uf09f The number of countries where QC circle\\n\\nGotemba Country Club). \\uf09f He became the director of the\\n\\nAssociation for Overseas Technical Scholarship. (–87)\\n\\nactivities are conducted reached 52. \\uf09f The Software QC Research Group was\\n\\nestablished. (Apr., JUSE)\\n\\n\\uf09f ICQCC ’85-TOKYO was held. (May,\\n\\n\\uf09f He became the accounting audit for the\\n\\nJUSE)\\n\\nPrivate University Council for Information Processing Education. \\uf09f He became the chair of the ICQCC ’85-TOKYO Program Committee.', metadata={'source': '/content/gdrive/MyDrive/Projects/Digital_Deming/src_content/ParallelChronology_Ver2_150717.pdf'})]}]\n"
          ]
        }
      ]
    },
    {
      "cell_type": "code",
      "source": [],
      "metadata": {
        "id": "4oL5v8kQ1IXN"
      },
      "execution_count": 175,
      "outputs": []
    },
    {
      "cell_type": "code",
      "execution_count": 176,
      "metadata": {
        "id": "4a7jUwgI1Iyt"
      },
      "outputs": [],
      "source": [
        "qa = VectorDBQA.from_chain_type(llm=OpenAI(), chain_type=\"stuff\", vectorstore=docsearch, return_source_documents=True)\n",
        "#query = \"what is the impact of JUSE on TQM?\"\n",
        "#query = \"what is the purpouse of life?\"\n",
        "#query = \"what does demming like for lunch\"\n",
        "#query = \"is quality like a human\"\n",
        "#query = \"what is the fourth rule of TQM\"\n",
        "query = \"Write a detailed introduction of the significance of TQM in the modern business world\"\n",
        "result = qa({\"query\": query})"
      ]
    },
    {
      "cell_type": "code",
      "execution_count": 177,
      "metadata": {
        "colab": {
          "base_uri": "https://localhost:8080/",
          "height": 107
        },
        "outputId": "1308eff9-6c63-410b-fbe1-ece6efcef5a0",
        "id": "HnAi6YWb1Iyt"
      },
      "outputs": [
        {
          "output_type": "execute_result",
          "data": {
            "text/plain": [
              "' Total Quality Management (TQM) is an approach to business management that focuses on improving the quality of products and services in order to increase customer satisfaction. TQM has become increasingly important in the modern business world as organizations strive to remain competitive. By implementing TQM, organizations can reduce costs, improve customer service, increase efficiency, and develop long-term customer relationships. TQM also encourages organizations to embrace continuous improvement, strive for excellence, and focus on customer needs. As a result, TQM can help organizations improve customer loyalty, increase market share, and achieve long-term success.'"
            ],
            "application/vnd.google.colaboratory.intrinsic+json": {
              "type": "string"
            }
          },
          "metadata": {},
          "execution_count": 177
        }
      ],
      "source": [
        "result['result']"
      ]
    },
    {
      "cell_type": "code",
      "source": [
        "#append result  to the array\n",
        "introduction.append(result)\n",
        "\n",
        "#print the array\n",
        "print(introduction)"
      ],
      "metadata": {
        "colab": {
          "base_uri": "https://localhost:8080/"
        },
        "id": "uGbgzLl11Xgs",
        "outputId": "5379a4fe-cf44-4efe-a93e-f8435fa1fc31"
      },
      "execution_count": 178,
      "outputs": [
        {
          "output_type": "stream",
          "name": "stdout",
          "text": [
            "[{'query': 'what is Total Quality Management (TQM)', 'result': \" Total Quality Management (TQM) is an approach to business management that seeks to maximize customer satisfaction by improving quality in all areas of an organization's operations. It is a process that involves integrating all functions of an organization to achieve continuous improvement of quality. It is used to achieve a competitive advantage through improved customer satisfaction and increased efficiency.\", 'source_documents': [Document(page_content='1) AGREE: Advisory Group on Reliability of Electronic Equipment 2) AOTS: Association for Overseas Technical Scholarship 3) APO: Asian Productivity Organization 4) ASA: American Standards Association 5) ASQC: American Society for Quality Control 6) BS: British Standards 7) CCS: Civil Communication Section 8) COSCO: Control System Committee 9) EOQC: European Organization for Quality Control 10) EOQ: European Organization for Quality 11) EFQM: European Foundation for Quality Management 12) FMES: Japan Federation of Managerial Engineering Societies\\n\\n524\\n\\nA Parallel Chronology of Prof. Kaoru Ishikawa’s Life and TQC in Japan', metadata={'source': '/content/gdrive/MyDrive/Projects/Digital_Deming/src_content/ParallelChronology_Ver2_150717.pdf'}), Document(page_content='Medal. (ASQC)\\n\\n\\uf09f The Pharmaceutical Manufacturing and Quality Control (GMP) Seminar was held. (Sep., JUSE)\\n\\n\\uf09f The Japan Prefabricated Construction\\n\\nSuppliers and Manufacturers Association held TQC seminars.\\n\\n\\uf09f Noboru Takagi was elected as the 22nd\\n\\npresident of the IEC.\\n\\n\\uf09f The 4th ICPR Conference (IE\\n\\ninternational conference) was held. \\uf09f The 24th QCS: Quality design and\\n\\n\\uf09f Quality Control Handbook (New Edition)\\n\\nprocess design.\\n\\nwritten and edited by Ishikawa was published. (The second edition was published in April, 1988, JSA)\\n\\n\\uf09f The 25th QCS: Small-group activities\\n\\nand QC.\\n\\n1978\\n\\nApril 1\\n\\n\\uf09f He became the President of Musashi\\n\\n\\uf09f The Construction Industry TQC\\n\\nInstitute of Technology.\\n\\nRound-table Conference was held. (JSA)\\n\\n\\uf09f He became the director of Goto-Ikueikai. \\uf09f He became the director of the Tokyu Foundation for Foreign Students.\\n\\n\\uf09f He became the chairperson of the board\\n\\nof directors of the Japan-China Industrial Technology and Culture Center. (–82)', metadata={'source': '/content/gdrive/MyDrive/Projects/Digital_Deming/src_content/ParallelChronology_Ver2_150717.pdf'}), Document(page_content='Deming Application Prize. It was the first construction company to win the prize. (Nov.)\\n\\n\\uf09f A committee to research QC in the\\n\\nservice industry was established. (Nov.,\\n\\nA Parallel Chronology of Prof. Kaoru Ishikawa’s Life and TQC in Japan\\n\\nYear\\n\\nProf. Ishikawa’s Life\\n\\nMajor Events in the Development of QC\\n\\ncommissioned by the Ministry of the Environment.)\\n\\n\\uf09f His book Control Points of Quality (joint authorship) (Zeimukeiri Kyokai) was awarded Nikkei Quality Control Literature Prize.\\n\\nJUSE)\\n\\n\\uf09f The 28th QCS: New product planning\\n\\nand market research.\\n\\n\\uf09f The 29th QCS: Future Quality\\n\\nControl—challenges in the 1980s.\\n\\n1980\\n\\n\\uf09f He became a council member of the Japan Standards Association. (–84)\\n\\n\\uf09f He became a council member of the Japanese Society for Quality Control. (–82)\\n\\n\\uf09f He became the chair of the Nuclear\\n\\nPower Plant Quality Assurance Review Committee. (MITI)\\n\\n\\uf09f He became the chair of the Management\\n\\nResearch Group of Japan-China Economic Association.', metadata={'source': '/content/gdrive/MyDrive/Projects/Digital_Deming/src_content/ParallelChronology_Ver2_150717.pdf'}), Document(page_content='prize. (Nov.)\\n\\n\\uf09f The Japan Federation of Managerial Engineering Societies (FMES) was established. (JSQC, JIMA, and ORSJ)\\n\\n\\uf09f The Act on Science Council of Japan was revised. (Cabinet decision). “Management engineering” was added to “Part 5: Engineering.”\\n\\n\\uf09f ICQCC ’84-Manila was held. \\uf09f The 38th QCS: Sales department and\\n\\nTQC.\\n\\n\\uf09f The 39th QCS: Current situations and\\n\\nissues of TQC.\\n\\n1985\\n\\nJune 15\\n\\n\\uf09f He achieved a hole-in-one (at Tomei\\n\\n\\uf09f The number of countries where QC circle\\n\\nGotemba Country Club). \\uf09f He became the director of the\\n\\nAssociation for Overseas Technical Scholarship. (–87)\\n\\nactivities are conducted reached 52. \\uf09f The Software QC Research Group was\\n\\nestablished. (Apr., JUSE)\\n\\n\\uf09f ICQCC ’85-TOKYO was held. (May,\\n\\n\\uf09f He became the accounting audit for the\\n\\nJUSE)\\n\\nPrivate University Council for Information Processing Education. \\uf09f He became the chair of the ICQCC ’85-TOKYO Program Committee.', metadata={'source': '/content/gdrive/MyDrive/Projects/Digital_Deming/src_content/ParallelChronology_Ver2_150717.pdf'})]}, {'query': 'Write a detailed introduction of the significance of TQM in the modern business world', 'result': ' Total Quality Management (TQM) is an approach to business management that focuses on improving the quality of products and services in order to increase customer satisfaction. TQM has become increasingly important in the modern business world as organizations strive to remain competitive. By implementing TQM, organizations can reduce costs, improve customer service, increase efficiency, and develop long-term customer relationships. TQM also encourages organizations to embrace continuous improvement, strive for excellence, and focus on customer needs. As a result, TQM can help organizations improve customer loyalty, increase market share, and achieve long-term success.', 'source_documents': [Document(page_content='1) AGREE: Advisory Group on Reliability of Electronic Equipment 2) AOTS: Association for Overseas Technical Scholarship 3) APO: Asian Productivity Organization 4) ASA: American Standards Association 5) ASQC: American Society for Quality Control 6) BS: British Standards 7) CCS: Civil Communication Section 8) COSCO: Control System Committee 9) EOQC: European Organization for Quality Control 10) EOQ: European Organization for Quality 11) EFQM: European Foundation for Quality Management 12) FMES: Japan Federation of Managerial Engineering Societies\\n\\n524\\n\\nA Parallel Chronology of Prof. Kaoru Ishikawa’s Life and TQC in Japan', metadata={'source': '/content/gdrive/MyDrive/Projects/Digital_Deming/src_content/ParallelChronology_Ver2_150717.pdf'}), Document(page_content='Jan. 23\\n\\n\\uf09f A party to celebrate his honor conferred decoration was held at the Hotel Okura.\\n\\nJan. 31\\n\\n\\uf09f He published Introduction to\\n\\nQuality Control (3rd Edition). (JUSE Press)\\n\\nThe English edition:\\n\\nIntroduction to Quality Control (3rd\\n\\n523\\n\\n\\uf09f The 2000th Memorial QC Circle\\n\\nConference was held. (March, QC Circle Headquarters)\\n\\n\\uf09f EFQM was founded. (Sep.) \\uf09f The Software Quality Control Seminar for Managers was held. (Oct., JUSE)\\n\\n\\uf09f The 1st Malcolm Baldrige National Quality Award was awarded. (Oct., America)\\n\\n\\uf09f Joban Hawaiian Center was awarded the Deming Application Prize for Division, as the first service company to win the prize. (Nov.)\\n\\n\\uf09f ICQCC ’88-Taipei was held. (Nov.,\\n\\nTaipei)\\n\\n\\uf09f The number of foreign companies too whom the use of JIS mark is permitted exceeded 100.\\n\\n\\uf09f The 46th QCS: Quality control\\n\\ntraining—current situation and future direction.\\n\\n\\uf09f The 47th QCS: New product planning\\n\\nand market research—how to understand the quality required by customers.', metadata={'source': '/content/gdrive/MyDrive/Projects/Digital_Deming/src_content/ParallelChronology_Ver2_150717.pdf'}), Document(page_content='Deming Application Prize. It was the first construction company to win the prize. (Nov.)\\n\\n\\uf09f A committee to research QC in the\\n\\nservice industry was established. (Nov.,\\n\\nA Parallel Chronology of Prof. Kaoru Ishikawa’s Life and TQC in Japan\\n\\nYear\\n\\nProf. Ishikawa’s Life\\n\\nMajor Events in the Development of QC\\n\\ncommissioned by the Ministry of the Environment.)\\n\\n\\uf09f His book Control Points of Quality (joint authorship) (Zeimukeiri Kyokai) was awarded Nikkei Quality Control Literature Prize.\\n\\nJUSE)\\n\\n\\uf09f The 28th QCS: New product planning\\n\\nand market research.\\n\\n\\uf09f The 29th QCS: Future Quality\\n\\nControl—challenges in the 1980s.\\n\\n1980\\n\\n\\uf09f He became a council member of the Japan Standards Association. (–84)\\n\\n\\uf09f He became a council member of the Japanese Society for Quality Control. (–82)\\n\\n\\uf09f He became the chair of the Nuclear\\n\\nPower Plant Quality Assurance Review Committee. (MITI)\\n\\n\\uf09f He became the chair of the Management\\n\\nResearch Group of Japan-China Economic Association.', metadata={'source': '/content/gdrive/MyDrive/Projects/Digital_Deming/src_content/ParallelChronology_Ver2_150717.pdf'}), Document(page_content='International Friendship Club. \\uf09f Quality Assurance Guidebook (JUSE Press) written and edited by Ishikawa was awarded the Nikkei Quality Control Literature Prize.\\n\\nASQC Annual Conference.\\n\\n\\uf09f IAQ meeting was held in Venice in September, at the same time as the EOQC Conference.\\n\\n\\uf09f The 25th anniversary of the Deming\\n\\nPrize. Dr. Deming was invited to Japan. \\uf09f The South Korea’s Industrial Promotion\\n\\nBureau began promoting QC.\\n\\n\\uf09f The 1st National QC Circle Conference\\n\\n514\\n\\nA Parallel Chronology of Prof. Kaoru Ishikawa’s Life and TQC in Japan\\n\\nYear\\n\\nProf. Ishikawa’s Life\\n\\nMajor Events in the Development of QC\\n\\nwas held in South Korea. The 1st QC and Standardization Conference was also held.\\n\\n\\uf09f The Delegation Team from the South\\n\\nKorea’s Industrial Promotion Bureau and the Korean Standards Association Research visited Japan.\\n\\n\\uf09f A delegation team was dispatched to the USSR. (Japan-Soviet Round-table Conference on Standardization) \\uf09f The 21st QCS: Measures to address\\n\\nproduct liability.', metadata={'source': '/content/gdrive/MyDrive/Projects/Digital_Deming/src_content/ParallelChronology_Ver2_150717.pdf'})]}]\n"
          ]
        }
      ]
    },
    {
      "cell_type": "code",
      "source": [],
      "metadata": {
        "id": "gKBSyNe61bjF"
      },
      "execution_count": 178,
      "outputs": []
    },
    {
      "cell_type": "code",
      "execution_count": 179,
      "metadata": {
        "id": "1rA_rDAu1bsD"
      },
      "outputs": [],
      "source": [
        "qa = VectorDBQA.from_chain_type(llm=OpenAI(), chain_type=\"stuff\", vectorstore=docsearch, return_source_documents=True)\n",
        "#query = \"what is the impact of JUSE on TQM?\"\n",
        "#query = \"what is the purpouse of life?\"\n",
        "#query = \"what does demming like for lunch\"\n",
        "#query = \"is quality like a human\"\n",
        "#query = \"what is the fourth rule of TQM\"\n",
        "#query = \"Write a detailed introduction of the significance of TQM in the modern business world\"\n",
        "query = \"Introduction to Kaoru Ishikawa and the Japanese Union of Scientists and Engineers (JUSE)\"\n",
        "result = qa({\"query\": query})"
      ]
    },
    {
      "cell_type": "code",
      "execution_count": 180,
      "metadata": {
        "colab": {
          "base_uri": "https://localhost:8080/",
          "height": 142
        },
        "outputId": "91baae59-e626-4cd8-bbef-a59a04fba005",
        "id": "fFWZoc4m1bsE"
      },
      "outputs": [
        {
          "output_type": "execute_result",
          "data": {
            "text/plain": [
              "' In 1962, Kaoru Ishikawa belonged to the 4th Fuel Engineering Laboratory (Applied Combustible Science) at the University of Tokyo. He became a lecturer of the Introductory Course for Design of Experiment, a member of the ISO/TC 102 Japan Committee, and the chair of the Sampling Subcommittee. He also became a lecturer of the QC Seminar for Managers, a member of the Council for Industrial Rationalization, the chair of the Editorial Committee of the JUSE English Report, and the chair of the Organizing Committee of the JUSE Course for Purchasing. He was involved in other activities such as the Inspection Seminar, the QC Correspondence Basic Course for Foremen, the Japanese Society for Quality Control Internationally-operating Company QC Research Delegation, and the “In-Plant Group Training Program in the Field of Quality Improvement for Industrial Products.”'"
            ],
            "application/vnd.google.colaboratory.intrinsic+json": {
              "type": "string"
            }
          },
          "metadata": {},
          "execution_count": 180
        }
      ],
      "source": [
        "result['result']"
      ]
    },
    {
      "cell_type": "code",
      "source": [
        "#append result  to the array\n",
        "introduction.append(result)\n",
        "\n",
        "#print the array\n",
        "print(introduction)"
      ],
      "metadata": {
        "colab": {
          "base_uri": "https://localhost:8080/"
        },
        "outputId": "cc5945b3-3104-48a5-cb5e-a7e7f8281c1b",
        "id": "7neLSSFq1bsE"
      },
      "execution_count": 181,
      "outputs": [
        {
          "output_type": "stream",
          "name": "stdout",
          "text": [
            "[{'query': 'what is Total Quality Management (TQM)', 'result': \" Total Quality Management (TQM) is an approach to business management that seeks to maximize customer satisfaction by improving quality in all areas of an organization's operations. It is a process that involves integrating all functions of an organization to achieve continuous improvement of quality. It is used to achieve a competitive advantage through improved customer satisfaction and increased efficiency.\", 'source_documents': [Document(page_content='1) AGREE: Advisory Group on Reliability of Electronic Equipment 2) AOTS: Association for Overseas Technical Scholarship 3) APO: Asian Productivity Organization 4) ASA: American Standards Association 5) ASQC: American Society for Quality Control 6) BS: British Standards 7) CCS: Civil Communication Section 8) COSCO: Control System Committee 9) EOQC: European Organization for Quality Control 10) EOQ: European Organization for Quality 11) EFQM: European Foundation for Quality Management 12) FMES: Japan Federation of Managerial Engineering Societies\\n\\n524\\n\\nA Parallel Chronology of Prof. Kaoru Ishikawa’s Life and TQC in Japan', metadata={'source': '/content/gdrive/MyDrive/Projects/Digital_Deming/src_content/ParallelChronology_Ver2_150717.pdf'}), Document(page_content='Medal. (ASQC)\\n\\n\\uf09f The Pharmaceutical Manufacturing and Quality Control (GMP) Seminar was held. (Sep., JUSE)\\n\\n\\uf09f The Japan Prefabricated Construction\\n\\nSuppliers and Manufacturers Association held TQC seminars.\\n\\n\\uf09f Noboru Takagi was elected as the 22nd\\n\\npresident of the IEC.\\n\\n\\uf09f The 4th ICPR Conference (IE\\n\\ninternational conference) was held. \\uf09f The 24th QCS: Quality design and\\n\\n\\uf09f Quality Control Handbook (New Edition)\\n\\nprocess design.\\n\\nwritten and edited by Ishikawa was published. (The second edition was published in April, 1988, JSA)\\n\\n\\uf09f The 25th QCS: Small-group activities\\n\\nand QC.\\n\\n1978\\n\\nApril 1\\n\\n\\uf09f He became the President of Musashi\\n\\n\\uf09f The Construction Industry TQC\\n\\nInstitute of Technology.\\n\\nRound-table Conference was held. (JSA)\\n\\n\\uf09f He became the director of Goto-Ikueikai. \\uf09f He became the director of the Tokyu Foundation for Foreign Students.\\n\\n\\uf09f He became the chairperson of the board\\n\\nof directors of the Japan-China Industrial Technology and Culture Center. (–82)', metadata={'source': '/content/gdrive/MyDrive/Projects/Digital_Deming/src_content/ParallelChronology_Ver2_150717.pdf'}), Document(page_content='Deming Application Prize. It was the first construction company to win the prize. (Nov.)\\n\\n\\uf09f A committee to research QC in the\\n\\nservice industry was established. (Nov.,\\n\\nA Parallel Chronology of Prof. Kaoru Ishikawa’s Life and TQC in Japan\\n\\nYear\\n\\nProf. Ishikawa’s Life\\n\\nMajor Events in the Development of QC\\n\\ncommissioned by the Ministry of the Environment.)\\n\\n\\uf09f His book Control Points of Quality (joint authorship) (Zeimukeiri Kyokai) was awarded Nikkei Quality Control Literature Prize.\\n\\nJUSE)\\n\\n\\uf09f The 28th QCS: New product planning\\n\\nand market research.\\n\\n\\uf09f The 29th QCS: Future Quality\\n\\nControl—challenges in the 1980s.\\n\\n1980\\n\\n\\uf09f He became a council member of the Japan Standards Association. (–84)\\n\\n\\uf09f He became a council member of the Japanese Society for Quality Control. (–82)\\n\\n\\uf09f He became the chair of the Nuclear\\n\\nPower Plant Quality Assurance Review Committee. (MITI)\\n\\n\\uf09f He became the chair of the Management\\n\\nResearch Group of Japan-China Economic Association.', metadata={'source': '/content/gdrive/MyDrive/Projects/Digital_Deming/src_content/ParallelChronology_Ver2_150717.pdf'}), Document(page_content='prize. (Nov.)\\n\\n\\uf09f The Japan Federation of Managerial Engineering Societies (FMES) was established. (JSQC, JIMA, and ORSJ)\\n\\n\\uf09f The Act on Science Council of Japan was revised. (Cabinet decision). “Management engineering” was added to “Part 5: Engineering.”\\n\\n\\uf09f ICQCC ’84-Manila was held. \\uf09f The 38th QCS: Sales department and\\n\\nTQC.\\n\\n\\uf09f The 39th QCS: Current situations and\\n\\nissues of TQC.\\n\\n1985\\n\\nJune 15\\n\\n\\uf09f He achieved a hole-in-one (at Tomei\\n\\n\\uf09f The number of countries where QC circle\\n\\nGotemba Country Club). \\uf09f He became the director of the\\n\\nAssociation for Overseas Technical Scholarship. (–87)\\n\\nactivities are conducted reached 52. \\uf09f The Software QC Research Group was\\n\\nestablished. (Apr., JUSE)\\n\\n\\uf09f ICQCC ’85-TOKYO was held. (May,\\n\\n\\uf09f He became the accounting audit for the\\n\\nJUSE)\\n\\nPrivate University Council for Information Processing Education. \\uf09f He became the chair of the ICQCC ’85-TOKYO Program Committee.', metadata={'source': '/content/gdrive/MyDrive/Projects/Digital_Deming/src_content/ParallelChronology_Ver2_150717.pdf'})]}, {'query': 'Write a detailed introduction of the significance of TQM in the modern business world', 'result': ' Total Quality Management (TQM) is an approach to business management that focuses on improving the quality of products and services in order to increase customer satisfaction. TQM has become increasingly important in the modern business world as organizations strive to remain competitive. By implementing TQM, organizations can reduce costs, improve customer service, increase efficiency, and develop long-term customer relationships. TQM also encourages organizations to embrace continuous improvement, strive for excellence, and focus on customer needs. As a result, TQM can help organizations improve customer loyalty, increase market share, and achieve long-term success.', 'source_documents': [Document(page_content='1) AGREE: Advisory Group on Reliability of Electronic Equipment 2) AOTS: Association for Overseas Technical Scholarship 3) APO: Asian Productivity Organization 4) ASA: American Standards Association 5) ASQC: American Society for Quality Control 6) BS: British Standards 7) CCS: Civil Communication Section 8) COSCO: Control System Committee 9) EOQC: European Organization for Quality Control 10) EOQ: European Organization for Quality 11) EFQM: European Foundation for Quality Management 12) FMES: Japan Federation of Managerial Engineering Societies\\n\\n524\\n\\nA Parallel Chronology of Prof. Kaoru Ishikawa’s Life and TQC in Japan', metadata={'source': '/content/gdrive/MyDrive/Projects/Digital_Deming/src_content/ParallelChronology_Ver2_150717.pdf'}), Document(page_content='Jan. 23\\n\\n\\uf09f A party to celebrate his honor conferred decoration was held at the Hotel Okura.\\n\\nJan. 31\\n\\n\\uf09f He published Introduction to\\n\\nQuality Control (3rd Edition). (JUSE Press)\\n\\nThe English edition:\\n\\nIntroduction to Quality Control (3rd\\n\\n523\\n\\n\\uf09f The 2000th Memorial QC Circle\\n\\nConference was held. (March, QC Circle Headquarters)\\n\\n\\uf09f EFQM was founded. (Sep.) \\uf09f The Software Quality Control Seminar for Managers was held. (Oct., JUSE)\\n\\n\\uf09f The 1st Malcolm Baldrige National Quality Award was awarded. (Oct., America)\\n\\n\\uf09f Joban Hawaiian Center was awarded the Deming Application Prize for Division, as the first service company to win the prize. (Nov.)\\n\\n\\uf09f ICQCC ’88-Taipei was held. (Nov.,\\n\\nTaipei)\\n\\n\\uf09f The number of foreign companies too whom the use of JIS mark is permitted exceeded 100.\\n\\n\\uf09f The 46th QCS: Quality control\\n\\ntraining—current situation and future direction.\\n\\n\\uf09f The 47th QCS: New product planning\\n\\nand market research—how to understand the quality required by customers.', metadata={'source': '/content/gdrive/MyDrive/Projects/Digital_Deming/src_content/ParallelChronology_Ver2_150717.pdf'}), Document(page_content='Deming Application Prize. It was the first construction company to win the prize. (Nov.)\\n\\n\\uf09f A committee to research QC in the\\n\\nservice industry was established. (Nov.,\\n\\nA Parallel Chronology of Prof. Kaoru Ishikawa’s Life and TQC in Japan\\n\\nYear\\n\\nProf. Ishikawa’s Life\\n\\nMajor Events in the Development of QC\\n\\ncommissioned by the Ministry of the Environment.)\\n\\n\\uf09f His book Control Points of Quality (joint authorship) (Zeimukeiri Kyokai) was awarded Nikkei Quality Control Literature Prize.\\n\\nJUSE)\\n\\n\\uf09f The 28th QCS: New product planning\\n\\nand market research.\\n\\n\\uf09f The 29th QCS: Future Quality\\n\\nControl—challenges in the 1980s.\\n\\n1980\\n\\n\\uf09f He became a council member of the Japan Standards Association. (–84)\\n\\n\\uf09f He became a council member of the Japanese Society for Quality Control. (–82)\\n\\n\\uf09f He became the chair of the Nuclear\\n\\nPower Plant Quality Assurance Review Committee. (MITI)\\n\\n\\uf09f He became the chair of the Management\\n\\nResearch Group of Japan-China Economic Association.', metadata={'source': '/content/gdrive/MyDrive/Projects/Digital_Deming/src_content/ParallelChronology_Ver2_150717.pdf'}), Document(page_content='International Friendship Club. \\uf09f Quality Assurance Guidebook (JUSE Press) written and edited by Ishikawa was awarded the Nikkei Quality Control Literature Prize.\\n\\nASQC Annual Conference.\\n\\n\\uf09f IAQ meeting was held in Venice in September, at the same time as the EOQC Conference.\\n\\n\\uf09f The 25th anniversary of the Deming\\n\\nPrize. Dr. Deming was invited to Japan. \\uf09f The South Korea’s Industrial Promotion\\n\\nBureau began promoting QC.\\n\\n\\uf09f The 1st National QC Circle Conference\\n\\n514\\n\\nA Parallel Chronology of Prof. Kaoru Ishikawa’s Life and TQC in Japan\\n\\nYear\\n\\nProf. Ishikawa’s Life\\n\\nMajor Events in the Development of QC\\n\\nwas held in South Korea. The 1st QC and Standardization Conference was also held.\\n\\n\\uf09f The Delegation Team from the South\\n\\nKorea’s Industrial Promotion Bureau and the Korean Standards Association Research visited Japan.\\n\\n\\uf09f A delegation team was dispatched to the USSR. (Japan-Soviet Round-table Conference on Standardization) \\uf09f The 21st QCS: Measures to address\\n\\nproduct liability.', metadata={'source': '/content/gdrive/MyDrive/Projects/Digital_Deming/src_content/ParallelChronology_Ver2_150717.pdf'})]}, {'query': 'Introduction to Kaoru Ishikawa and the Japanese Union of Scientists and Engineers (JUSE)', 'result': ' In 1962, Kaoru Ishikawa belonged to the 4th Fuel Engineering Laboratory (Applied Combustible Science) at the University of Tokyo. He became a lecturer of the Introductory Course for Design of Experiment, a member of the ISO/TC 102 Japan Committee, and the chair of the Sampling Subcommittee. He also became a lecturer of the QC Seminar for Managers, a member of the Council for Industrial Rationalization, the chair of the Editorial Committee of the JUSE English Report, and the chair of the Organizing Committee of the JUSE Course for Purchasing. He was involved in other activities such as the Inspection Seminar, the QC Correspondence Basic Course for Foremen, the Japanese Society for Quality Control Internationally-operating Company QC Research Delegation, and the “In-Plant Group Training Program in the Field of Quality Improvement for Industrial Products.”', 'source_documents': [Document(page_content='department, Ishikawa belonged to the 4th Fuel Engineering Laboratory (Applied Combustible Science). (the University of Tokyo)\\n\\n\\uf09f He became a lecturer of the Introductory\\n\\n\\uf09f The QC Seminar for Managers and the QC Seminar for Supervisors started. (Central Japan Industries Association)\\n\\n\\uf09f Introductory Course for Design of\\n\\nExperiment was held. (Apr., JUSE) \\uf09f The Asian Productivity Organization\\n\\nCourse for Design of Experiment. (JUSE)\\n\\n(APO) was founded. (May) \\uf09f Japan became the secretariat of\\n\\n\\uf09f He became a member of the ISO/TC 102 Japan Committee and served as the chair of the Sampling Subcommittee. (–81, Japan Iron and Steel Federation)\\n\\n\\uf09f He was awarded with the Fuel Society of\\n\\n(Age 46) 1962\\n\\nJapan Award.\\n\\nISO/TC102 (iron ore).\\n\\n\\uf09f The Japan Consumers’ Association was\\n\\nfounded. (Sep.)\\n\\n\\uf09f The “Supervisor Special Issue” of\\n\\nHinshitsu Kanri (Statistical Quality Control) was issued. (Nov., JUSE)\\n\\n\\uf09f He became the chair of the editorial board of Genba To QC-magazine. (JUSE)', metadata={'source': '/content/gdrive/MyDrive/Projects/Digital_Deming/src_content/ParallelChronology_Ver2_150717.pdf'}), Document(page_content='held at Atami Golf Club. After the reorganization of the department, Ishikawa belonged to the Department of Chemical Engineering, Fuel Engineering Laboratory. (the University of Tokyo)\\n\\n\\uf09f He became the chair of the Editorial\\n\\nCommittee of the JUSE English Report. \\uf09f He became an examiner of the Ministry of International Trade and Industry’s Professional engineers qualification examination. (–61)\\n\\n\\uf09f He became a member of the Council for\\n\\nIndustrial Rationalization. (–61)\\n\\n\\uf09f He became a lecturer of the QC Seminar\\n\\nfor Managers. (JSA)\\n\\nlectures around the country.\\n\\n\\uf09f The QC Seminar for Managers was held.\\n\\n(JSA)\\n\\n\\uf09f The Inspection Seminar was held. (JSA) \\uf09f To celebrate the 10th anniversary of the Industrial Standardization Act, Japan’s Industrial Standardization was published. (Agency of Industrial Science and Technology)\\n\\n\\uf09f The TV series “The Training of Quality', metadata={'source': '/content/gdrive/MyDrive/Projects/Digital_Deming/src_content/ParallelChronology_Ver2_150717.pdf'}), Document(page_content='\\uf09f He became the vice-chair of the Reliability and Maintainability Symposium Organizing Committee. (JUSE)\\n\\n\\uf09f He became the chair of the Organizing Committee of the JUSE Course for Purchasing. (JUSE)\\n\\n\\uf09f The Sensory Test Overseas Research Team was dispatched. (May, JUSE) \\uf09f The Standardization Mission Team (headed by Hidehiko Azuma) was dispatched to the USSR. (JSA) \\uf09f The 2nd Japan-America Joint Symposium on Bulk Material Sampling was held. (Oct., Hawaii)\\n\\n\\uf09f October 14 was declared as World\\n\\nStandards Day. (ISO)\\n\\n\\uf09f The Japanese Society for Quality Control foundation meeting was held. (Nov.) \\uf09f The 11th QCS: Planning and quality. \\uf09f The 12th QCS: Product safety, pollution\\n\\nand QC.\\n\\n\\uf09f The QC Correspondence Basic Course for Foremen was held. (Jan., JUSE) \\uf09f The QC Circle Hokkaido Regional\\n\\nChapter was founded. (March, QC Circle Headquarters)\\n\\n\\uf09f Reliability Symposium [71–, Reliability and Maintainability Symposium] was held. (Apr., JUSE)\\n\\n\\uf09f The Japanese Society for Quality Control', metadata={'source': '/content/gdrive/MyDrive/Projects/Digital_Deming/src_content/ParallelChronology_Ver2_150717.pdf'}), Document(page_content='Internationally-operating Company QC Research Delegation (Southeast Asia). (JUSE)\\n\\n\\uf09f He became a principal lecturer of the\\n\\n“In-Plant Group Training Program in the Field of Quality Improvement for Industrial Products.” (UNIDO/AOTS) \\uf09f JIS Z 8402 “General rules for permissible\\n\\ntolerance of chemical analyses and physical tests” was established. (Ishikawa was the chair of the Draft Committee.) \\uf09f He became an honorary member of the Japan Environmental Measurements & Chemical Analysis Association.\\n\\n\\uf09f Quality Assurance Guidebook edited by Ishikawa was published. (Oct., JUSE Press)\\n\\n\\uf09f The Introductory QC Course for\\n\\nMarketing was held. (March, JUSE) \\uf09f The Housing Industry QC Research Group was established. (MITI)\\n\\n\\uf09f The Service Industry QC Symposium\\n\\nwas held, inviting Dr. Juran. (Oct., JUSE)\\n\\n\\uf09f ISO/TC 69 newly established SC 1. \\uf09f The International Standardization Activities Cooperation Center was founded. (JSA)\\n\\n\\uf09f A Long-term Plan for Industrial', metadata={'source': '/content/gdrive/MyDrive/Projects/Digital_Deming/src_content/ParallelChronology_Ver2_150717.pdf'})]}]\n"
          ]
        }
      ]
    },
    {
      "cell_type": "code",
      "execution_count": 182,
      "metadata": {
        "id": "aBESyBaS1tYH"
      },
      "outputs": [],
      "source": [
        "qa = VectorDBQA.from_chain_type(llm=OpenAI(), chain_type=\"stuff\", vectorstore=docsearch, return_source_documents=True)\n",
        "#query = \"what is the impact of JUSE on TQM?\"\n",
        "#query = \"what is the purpouse of life?\"\n",
        "#query = \"what does demming like for lunch\"\n",
        "#query = \"is quality like a human\"\n",
        "#query = \"what is the fourth rule of TQM\"\n",
        "#query = \"Write a detailed introduction of the significance of TQM in the modern business world\"\n",
        "#query = \"Introduction to Kaoru Ishikawa and the Japanese Union of Scientists and Engineers (JUSE)\"\n",
        "query = \" Write a Thesis Statement regarding TQM, Kaoru Ishikawa, Japanese Union of Scientists and engineers.\"\n",
        "result = qa({\"query\": query})"
      ]
    },
    {
      "cell_type": "code",
      "execution_count": 183,
      "metadata": {
        "colab": {
          "base_uri": "https://localhost:8080/",
          "height": 53
        },
        "outputId": "09ff55b4-1645-4e3b-8dfd-146593570a68",
        "id": "8JPTo8w21tYH"
      },
      "outputs": [
        {
          "output_type": "execute_result",
          "data": {
            "text/plain": [
              "\"  Thesis statement: Kaoru Ishikawa's life and work with the Japanese Union of Scientists and Engineers helped to promote Total Quality Management in Japan.\""
            ],
            "application/vnd.google.colaboratory.intrinsic+json": {
              "type": "string"
            }
          },
          "metadata": {},
          "execution_count": 183
        }
      ],
      "source": [
        "result['result']"
      ]
    },
    {
      "cell_type": "code",
      "source": [
        "#append result  to the array\n",
        "introduction.append(result)\n",
        "\n",
        "#print the array\n",
        "print(introduction)"
      ],
      "metadata": {
        "colab": {
          "base_uri": "https://localhost:8080/"
        },
        "outputId": "b95d0227-e2a4-40b9-88c5-612e13ec8ac0",
        "id": "twCsDUR-1tYH"
      },
      "execution_count": 184,
      "outputs": [
        {
          "output_type": "stream",
          "name": "stdout",
          "text": [
            "[{'query': 'what is Total Quality Management (TQM)', 'result': \" Total Quality Management (TQM) is an approach to business management that seeks to maximize customer satisfaction by improving quality in all areas of an organization's operations. It is a process that involves integrating all functions of an organization to achieve continuous improvement of quality. It is used to achieve a competitive advantage through improved customer satisfaction and increased efficiency.\", 'source_documents': [Document(page_content='1) AGREE: Advisory Group on Reliability of Electronic Equipment 2) AOTS: Association for Overseas Technical Scholarship 3) APO: Asian Productivity Organization 4) ASA: American Standards Association 5) ASQC: American Society for Quality Control 6) BS: British Standards 7) CCS: Civil Communication Section 8) COSCO: Control System Committee 9) EOQC: European Organization for Quality Control 10) EOQ: European Organization for Quality 11) EFQM: European Foundation for Quality Management 12) FMES: Japan Federation of Managerial Engineering Societies\\n\\n524\\n\\nA Parallel Chronology of Prof. Kaoru Ishikawa’s Life and TQC in Japan', metadata={'source': '/content/gdrive/MyDrive/Projects/Digital_Deming/src_content/ParallelChronology_Ver2_150717.pdf'}), Document(page_content='Medal. (ASQC)\\n\\n\\uf09f The Pharmaceutical Manufacturing and Quality Control (GMP) Seminar was held. (Sep., JUSE)\\n\\n\\uf09f The Japan Prefabricated Construction\\n\\nSuppliers and Manufacturers Association held TQC seminars.\\n\\n\\uf09f Noboru Takagi was elected as the 22nd\\n\\npresident of the IEC.\\n\\n\\uf09f The 4th ICPR Conference (IE\\n\\ninternational conference) was held. \\uf09f The 24th QCS: Quality design and\\n\\n\\uf09f Quality Control Handbook (New Edition)\\n\\nprocess design.\\n\\nwritten and edited by Ishikawa was published. (The second edition was published in April, 1988, JSA)\\n\\n\\uf09f The 25th QCS: Small-group activities\\n\\nand QC.\\n\\n1978\\n\\nApril 1\\n\\n\\uf09f He became the President of Musashi\\n\\n\\uf09f The Construction Industry TQC\\n\\nInstitute of Technology.\\n\\nRound-table Conference was held. (JSA)\\n\\n\\uf09f He became the director of Goto-Ikueikai. \\uf09f He became the director of the Tokyu Foundation for Foreign Students.\\n\\n\\uf09f He became the chairperson of the board\\n\\nof directors of the Japan-China Industrial Technology and Culture Center. (–82)', metadata={'source': '/content/gdrive/MyDrive/Projects/Digital_Deming/src_content/ParallelChronology_Ver2_150717.pdf'}), Document(page_content='Deming Application Prize. It was the first construction company to win the prize. (Nov.)\\n\\n\\uf09f A committee to research QC in the\\n\\nservice industry was established. (Nov.,\\n\\nA Parallel Chronology of Prof. Kaoru Ishikawa’s Life and TQC in Japan\\n\\nYear\\n\\nProf. Ishikawa’s Life\\n\\nMajor Events in the Development of QC\\n\\ncommissioned by the Ministry of the Environment.)\\n\\n\\uf09f His book Control Points of Quality (joint authorship) (Zeimukeiri Kyokai) was awarded Nikkei Quality Control Literature Prize.\\n\\nJUSE)\\n\\n\\uf09f The 28th QCS: New product planning\\n\\nand market research.\\n\\n\\uf09f The 29th QCS: Future Quality\\n\\nControl—challenges in the 1980s.\\n\\n1980\\n\\n\\uf09f He became a council member of the Japan Standards Association. (–84)\\n\\n\\uf09f He became a council member of the Japanese Society for Quality Control. (–82)\\n\\n\\uf09f He became the chair of the Nuclear\\n\\nPower Plant Quality Assurance Review Committee. (MITI)\\n\\n\\uf09f He became the chair of the Management\\n\\nResearch Group of Japan-China Economic Association.', metadata={'source': '/content/gdrive/MyDrive/Projects/Digital_Deming/src_content/ParallelChronology_Ver2_150717.pdf'}), Document(page_content='prize. (Nov.)\\n\\n\\uf09f The Japan Federation of Managerial Engineering Societies (FMES) was established. (JSQC, JIMA, and ORSJ)\\n\\n\\uf09f The Act on Science Council of Japan was revised. (Cabinet decision). “Management engineering” was added to “Part 5: Engineering.”\\n\\n\\uf09f ICQCC ’84-Manila was held. \\uf09f The 38th QCS: Sales department and\\n\\nTQC.\\n\\n\\uf09f The 39th QCS: Current situations and\\n\\nissues of TQC.\\n\\n1985\\n\\nJune 15\\n\\n\\uf09f He achieved a hole-in-one (at Tomei\\n\\n\\uf09f The number of countries where QC circle\\n\\nGotemba Country Club). \\uf09f He became the director of the\\n\\nAssociation for Overseas Technical Scholarship. (–87)\\n\\nactivities are conducted reached 52. \\uf09f The Software QC Research Group was\\n\\nestablished. (Apr., JUSE)\\n\\n\\uf09f ICQCC ’85-TOKYO was held. (May,\\n\\n\\uf09f He became the accounting audit for the\\n\\nJUSE)\\n\\nPrivate University Council for Information Processing Education. \\uf09f He became the chair of the ICQCC ’85-TOKYO Program Committee.', metadata={'source': '/content/gdrive/MyDrive/Projects/Digital_Deming/src_content/ParallelChronology_Ver2_150717.pdf'})]}, {'query': 'Write a detailed introduction of the significance of TQM in the modern business world', 'result': ' Total Quality Management (TQM) is an approach to business management that focuses on improving the quality of products and services in order to increase customer satisfaction. TQM has become increasingly important in the modern business world as organizations strive to remain competitive. By implementing TQM, organizations can reduce costs, improve customer service, increase efficiency, and develop long-term customer relationships. TQM also encourages organizations to embrace continuous improvement, strive for excellence, and focus on customer needs. As a result, TQM can help organizations improve customer loyalty, increase market share, and achieve long-term success.', 'source_documents': [Document(page_content='1) AGREE: Advisory Group on Reliability of Electronic Equipment 2) AOTS: Association for Overseas Technical Scholarship 3) APO: Asian Productivity Organization 4) ASA: American Standards Association 5) ASQC: American Society for Quality Control 6) BS: British Standards 7) CCS: Civil Communication Section 8) COSCO: Control System Committee 9) EOQC: European Organization for Quality Control 10) EOQ: European Organization for Quality 11) EFQM: European Foundation for Quality Management 12) FMES: Japan Federation of Managerial Engineering Societies\\n\\n524\\n\\nA Parallel Chronology of Prof. Kaoru Ishikawa’s Life and TQC in Japan', metadata={'source': '/content/gdrive/MyDrive/Projects/Digital_Deming/src_content/ParallelChronology_Ver2_150717.pdf'}), Document(page_content='Jan. 23\\n\\n\\uf09f A party to celebrate his honor conferred decoration was held at the Hotel Okura.\\n\\nJan. 31\\n\\n\\uf09f He published Introduction to\\n\\nQuality Control (3rd Edition). (JUSE Press)\\n\\nThe English edition:\\n\\nIntroduction to Quality Control (3rd\\n\\n523\\n\\n\\uf09f The 2000th Memorial QC Circle\\n\\nConference was held. (March, QC Circle Headquarters)\\n\\n\\uf09f EFQM was founded. (Sep.) \\uf09f The Software Quality Control Seminar for Managers was held. (Oct., JUSE)\\n\\n\\uf09f The 1st Malcolm Baldrige National Quality Award was awarded. (Oct., America)\\n\\n\\uf09f Joban Hawaiian Center was awarded the Deming Application Prize for Division, as the first service company to win the prize. (Nov.)\\n\\n\\uf09f ICQCC ’88-Taipei was held. (Nov.,\\n\\nTaipei)\\n\\n\\uf09f The number of foreign companies too whom the use of JIS mark is permitted exceeded 100.\\n\\n\\uf09f The 46th QCS: Quality control\\n\\ntraining—current situation and future direction.\\n\\n\\uf09f The 47th QCS: New product planning\\n\\nand market research—how to understand the quality required by customers.', metadata={'source': '/content/gdrive/MyDrive/Projects/Digital_Deming/src_content/ParallelChronology_Ver2_150717.pdf'}), Document(page_content='Deming Application Prize. It was the first construction company to win the prize. (Nov.)\\n\\n\\uf09f A committee to research QC in the\\n\\nservice industry was established. (Nov.,\\n\\nA Parallel Chronology of Prof. Kaoru Ishikawa’s Life and TQC in Japan\\n\\nYear\\n\\nProf. Ishikawa’s Life\\n\\nMajor Events in the Development of QC\\n\\ncommissioned by the Ministry of the Environment.)\\n\\n\\uf09f His book Control Points of Quality (joint authorship) (Zeimukeiri Kyokai) was awarded Nikkei Quality Control Literature Prize.\\n\\nJUSE)\\n\\n\\uf09f The 28th QCS: New product planning\\n\\nand market research.\\n\\n\\uf09f The 29th QCS: Future Quality\\n\\nControl—challenges in the 1980s.\\n\\n1980\\n\\n\\uf09f He became a council member of the Japan Standards Association. (–84)\\n\\n\\uf09f He became a council member of the Japanese Society for Quality Control. (–82)\\n\\n\\uf09f He became the chair of the Nuclear\\n\\nPower Plant Quality Assurance Review Committee. (MITI)\\n\\n\\uf09f He became the chair of the Management\\n\\nResearch Group of Japan-China Economic Association.', metadata={'source': '/content/gdrive/MyDrive/Projects/Digital_Deming/src_content/ParallelChronology_Ver2_150717.pdf'}), Document(page_content='International Friendship Club. \\uf09f Quality Assurance Guidebook (JUSE Press) written and edited by Ishikawa was awarded the Nikkei Quality Control Literature Prize.\\n\\nASQC Annual Conference.\\n\\n\\uf09f IAQ meeting was held in Venice in September, at the same time as the EOQC Conference.\\n\\n\\uf09f The 25th anniversary of the Deming\\n\\nPrize. Dr. Deming was invited to Japan. \\uf09f The South Korea’s Industrial Promotion\\n\\nBureau began promoting QC.\\n\\n\\uf09f The 1st National QC Circle Conference\\n\\n514\\n\\nA Parallel Chronology of Prof. Kaoru Ishikawa’s Life and TQC in Japan\\n\\nYear\\n\\nProf. Ishikawa’s Life\\n\\nMajor Events in the Development of QC\\n\\nwas held in South Korea. The 1st QC and Standardization Conference was also held.\\n\\n\\uf09f The Delegation Team from the South\\n\\nKorea’s Industrial Promotion Bureau and the Korean Standards Association Research visited Japan.\\n\\n\\uf09f A delegation team was dispatched to the USSR. (Japan-Soviet Round-table Conference on Standardization) \\uf09f The 21st QCS: Measures to address\\n\\nproduct liability.', metadata={'source': '/content/gdrive/MyDrive/Projects/Digital_Deming/src_content/ParallelChronology_Ver2_150717.pdf'})]}, {'query': 'Introduction to Kaoru Ishikawa and the Japanese Union of Scientists and Engineers (JUSE)', 'result': ' In 1962, Kaoru Ishikawa belonged to the 4th Fuel Engineering Laboratory (Applied Combustible Science) at the University of Tokyo. He became a lecturer of the Introductory Course for Design of Experiment, a member of the ISO/TC 102 Japan Committee, and the chair of the Sampling Subcommittee. He also became a lecturer of the QC Seminar for Managers, a member of the Council for Industrial Rationalization, the chair of the Editorial Committee of the JUSE English Report, and the chair of the Organizing Committee of the JUSE Course for Purchasing. He was involved in other activities such as the Inspection Seminar, the QC Correspondence Basic Course for Foremen, the Japanese Society for Quality Control Internationally-operating Company QC Research Delegation, and the “In-Plant Group Training Program in the Field of Quality Improvement for Industrial Products.”', 'source_documents': [Document(page_content='department, Ishikawa belonged to the 4th Fuel Engineering Laboratory (Applied Combustible Science). (the University of Tokyo)\\n\\n\\uf09f He became a lecturer of the Introductory\\n\\n\\uf09f The QC Seminar for Managers and the QC Seminar for Supervisors started. (Central Japan Industries Association)\\n\\n\\uf09f Introductory Course for Design of\\n\\nExperiment was held. (Apr., JUSE) \\uf09f The Asian Productivity Organization\\n\\nCourse for Design of Experiment. (JUSE)\\n\\n(APO) was founded. (May) \\uf09f Japan became the secretariat of\\n\\n\\uf09f He became a member of the ISO/TC 102 Japan Committee and served as the chair of the Sampling Subcommittee. (–81, Japan Iron and Steel Federation)\\n\\n\\uf09f He was awarded with the Fuel Society of\\n\\n(Age 46) 1962\\n\\nJapan Award.\\n\\nISO/TC102 (iron ore).\\n\\n\\uf09f The Japan Consumers’ Association was\\n\\nfounded. (Sep.)\\n\\n\\uf09f The “Supervisor Special Issue” of\\n\\nHinshitsu Kanri (Statistical Quality Control) was issued. (Nov., JUSE)\\n\\n\\uf09f He became the chair of the editorial board of Genba To QC-magazine. (JUSE)', metadata={'source': '/content/gdrive/MyDrive/Projects/Digital_Deming/src_content/ParallelChronology_Ver2_150717.pdf'}), Document(page_content='held at Atami Golf Club. After the reorganization of the department, Ishikawa belonged to the Department of Chemical Engineering, Fuel Engineering Laboratory. (the University of Tokyo)\\n\\n\\uf09f He became the chair of the Editorial\\n\\nCommittee of the JUSE English Report. \\uf09f He became an examiner of the Ministry of International Trade and Industry’s Professional engineers qualification examination. (–61)\\n\\n\\uf09f He became a member of the Council for\\n\\nIndustrial Rationalization. (–61)\\n\\n\\uf09f He became a lecturer of the QC Seminar\\n\\nfor Managers. (JSA)\\n\\nlectures around the country.\\n\\n\\uf09f The QC Seminar for Managers was held.\\n\\n(JSA)\\n\\n\\uf09f The Inspection Seminar was held. (JSA) \\uf09f To celebrate the 10th anniversary of the Industrial Standardization Act, Japan’s Industrial Standardization was published. (Agency of Industrial Science and Technology)\\n\\n\\uf09f The TV series “The Training of Quality', metadata={'source': '/content/gdrive/MyDrive/Projects/Digital_Deming/src_content/ParallelChronology_Ver2_150717.pdf'}), Document(page_content='\\uf09f He became the vice-chair of the Reliability and Maintainability Symposium Organizing Committee. (JUSE)\\n\\n\\uf09f He became the chair of the Organizing Committee of the JUSE Course for Purchasing. (JUSE)\\n\\n\\uf09f The Sensory Test Overseas Research Team was dispatched. (May, JUSE) \\uf09f The Standardization Mission Team (headed by Hidehiko Azuma) was dispatched to the USSR. (JSA) \\uf09f The 2nd Japan-America Joint Symposium on Bulk Material Sampling was held. (Oct., Hawaii)\\n\\n\\uf09f October 14 was declared as World\\n\\nStandards Day. (ISO)\\n\\n\\uf09f The Japanese Society for Quality Control foundation meeting was held. (Nov.) \\uf09f The 11th QCS: Planning and quality. \\uf09f The 12th QCS: Product safety, pollution\\n\\nand QC.\\n\\n\\uf09f The QC Correspondence Basic Course for Foremen was held. (Jan., JUSE) \\uf09f The QC Circle Hokkaido Regional\\n\\nChapter was founded. (March, QC Circle Headquarters)\\n\\n\\uf09f Reliability Symposium [71–, Reliability and Maintainability Symposium] was held. (Apr., JUSE)\\n\\n\\uf09f The Japanese Society for Quality Control', metadata={'source': '/content/gdrive/MyDrive/Projects/Digital_Deming/src_content/ParallelChronology_Ver2_150717.pdf'}), Document(page_content='Internationally-operating Company QC Research Delegation (Southeast Asia). (JUSE)\\n\\n\\uf09f He became a principal lecturer of the\\n\\n“In-Plant Group Training Program in the Field of Quality Improvement for Industrial Products.” (UNIDO/AOTS) \\uf09f JIS Z 8402 “General rules for permissible\\n\\ntolerance of chemical analyses and physical tests” was established. (Ishikawa was the chair of the Draft Committee.) \\uf09f He became an honorary member of the Japan Environmental Measurements & Chemical Analysis Association.\\n\\n\\uf09f Quality Assurance Guidebook edited by Ishikawa was published. (Oct., JUSE Press)\\n\\n\\uf09f The Introductory QC Course for\\n\\nMarketing was held. (March, JUSE) \\uf09f The Housing Industry QC Research Group was established. (MITI)\\n\\n\\uf09f The Service Industry QC Symposium\\n\\nwas held, inviting Dr. Juran. (Oct., JUSE)\\n\\n\\uf09f ISO/TC 69 newly established SC 1. \\uf09f The International Standardization Activities Cooperation Center was founded. (JSA)\\n\\n\\uf09f A Long-term Plan for Industrial', metadata={'source': '/content/gdrive/MyDrive/Projects/Digital_Deming/src_content/ParallelChronology_Ver2_150717.pdf'})]}, {'query': ' Write a Thesis Statement regarding TQM, Kaoru Ishikawa, Japanese Union of Scientists and engineers.', 'result': \"  Thesis statement: Kaoru Ishikawa's life and work with the Japanese Union of Scientists and Engineers helped to promote Total Quality Management in Japan.\", 'source_documents': [Document(page_content='1) AGREE: Advisory Group on Reliability of Electronic Equipment 2) AOTS: Association for Overseas Technical Scholarship 3) APO: Asian Productivity Organization 4) ASA: American Standards Association 5) ASQC: American Society for Quality Control 6) BS: British Standards 7) CCS: Civil Communication Section 8) COSCO: Control System Committee 9) EOQC: European Organization for Quality Control 10) EOQ: European Organization for Quality 11) EFQM: European Foundation for Quality Management 12) FMES: Japan Federation of Managerial Engineering Societies\\n\\n524\\n\\nA Parallel Chronology of Prof. Kaoru Ishikawa’s Life and TQC in Japan', metadata={'source': '/content/gdrive/MyDrive/Projects/Digital_Deming/src_content/ParallelChronology_Ver2_150717.pdf'}), Document(page_content='\\uf09f He became an associate professor at the First Faculty of Engineering, Tokyo Imperial University. (Department of Petroleum Engineering, the 3rd\\n\\n\\uf09f The International Organization for\\n\\nStandardization (ISO) was founded. (Feb.)\\n\\n499\\n\\nA Parallel Chronology of Prof. Kaoru Ishikawa’s Life and TQC in Japan\\n\\nYear\\n\\nProf. Ishikawa’s Life\\n\\nMajor Events in the Development of QC\\n\\n1948 Nov. 20\\n\\nPetroleum Refinery Engineering Laboratory)\\n\\n\\uf09f He started research on coal briquettes.\\n\\n\\uf09f His second son, Akira, was born. \\uf09f He and Masumasa Imaizumi (then a graduate student) began studying statistical methods (at the University of Tokyo).\\n\\n\\uf09f He became a member of the Japanese Association of University Professors. \\uf09f He became a member of the Japanese Society for Engineering Education.\\n\\n\\uf09f A statistics workshop was held to offer a\\n\\nwide introduction to QC. (Aug. the Society for Applied Mechanics)', metadata={'source': '/content/gdrive/MyDrive/Projects/Digital_Deming/src_content/ParallelChronology_Ver2_150717.pdf'}), Document(page_content='Deming Application Prize. It was the first construction company to win the prize. (Nov.)\\n\\n\\uf09f A committee to research QC in the\\n\\nservice industry was established. (Nov.,\\n\\nA Parallel Chronology of Prof. Kaoru Ishikawa’s Life and TQC in Japan\\n\\nYear\\n\\nProf. Ishikawa’s Life\\n\\nMajor Events in the Development of QC\\n\\ncommissioned by the Ministry of the Environment.)\\n\\n\\uf09f His book Control Points of Quality (joint authorship) (Zeimukeiri Kyokai) was awarded Nikkei Quality Control Literature Prize.\\n\\nJUSE)\\n\\n\\uf09f The 28th QCS: New product planning\\n\\nand market research.\\n\\n\\uf09f The 29th QCS: Future Quality\\n\\nControl—challenges in the 1980s.\\n\\n1980\\n\\n\\uf09f He became a council member of the Japan Standards Association. (–84)\\n\\n\\uf09f He became a council member of the Japanese Society for Quality Control. (–82)\\n\\n\\uf09f He became the chair of the Nuclear\\n\\nPower Plant Quality Assurance Review Committee. (MITI)\\n\\n\\uf09f He became the chair of the Management\\n\\nResearch Group of Japan-China Economic Association.', metadata={'source': '/content/gdrive/MyDrive/Projects/Digital_Deming/src_content/ParallelChronology_Ver2_150717.pdf'}), Document(page_content='A Parallel Chronology of\\n\\nProf. Kaoru Ishikawa’s Life and TQC in Japan\\n\\nA Parallel Chronology of Prof. Kaoru Ishikawa’s Life and TQC in Japan\\n\\nProf. Ishikawa’s Life\\n\\nMajor Events in the Development of QC\\n\\n\\uf09f Born in Nishigahara, Takinogawa Ward, Tokyo City as the first son of Ichiro and Tomiko Ishikawa\\n\\nYear\\n\\n1915\\n\\nJuly 13\\n\\n1923\\n\\n\\uf09f Entered Elementary School attached to\\n\\n\\uf09f Shewhart devised the control chart.\\n\\n(Age 8)\\n\\nTokyo Higher Normal School\\n\\n(1924)\\n\\n1928\\n\\n\\uf09f Entered Junior High School attached to\\n\\n(Age 13)\\n\\nTokyo Higher Normal School\\n\\n1933\\n\\n\\uf09f Kinnosuke Ogura suggested the\\n\\npossibility of the application of statistical methods to the production process. (1924)\\n\\n(Age 18)\\n\\n\\uf09f Entered Tokyo High School\\n\\n\\uf09f Fisher’s Statistical Method for Research\\n\\nWorkers was published. (1925) \\uf09f Yasushi Ishida (Tokyo Electric\\n\\nCompany) introduced statistical methods to the production of lightbulbs. (1929) \\uf09f Dodge and Roming proposed a method of sampling inspection with screening. (1929)', metadata={'source': '/content/gdrive/MyDrive/Projects/Digital_Deming/src_content/ParallelChronology_Ver2_150717.pdf'})]}]\n"
          ]
        }
      ]
    },
    {
      "cell_type": "markdown",
      "source": [
        "Let's see if we can output this to markdown"
      ],
      "metadata": {
        "id": "JiKj9LKC2QN-"
      }
    },
    {
      "cell_type": "code",
      "source": [
        "concatenated_data = [str(item) for item in introduction]\n",
        "for entry in concatenated_data:\n",
        "    print(\"Processing entry: \")\n",
        "    messages = [\n",
        "        SystemMessage(content=\"You are an AI that takes dictionary data and translates it into well formatted markdown. You create sections and subsections to communicate as much information as possible\"),\n",
        "        HumanMessage(content=entry)\n",
        "    ]\n",
        "    result = chat(messages)\n",
        "\n",
        "    print(\"Result: \", result)"
      ],
      "metadata": {
        "colab": {
          "base_uri": "https://localhost:8080/"
        },
        "id": "XOkkfs7n2TKi",
        "outputId": "933ea404-af60-43fe-91f1-9d8c6fd438c4"
      },
      "execution_count": 185,
      "outputs": [
        {
          "output_type": "stream",
          "name": "stdout",
          "text": [
            "Processing entry: \n",
            "Result:  content=\"# Total Quality Management (TQM)\\n\\nTotal Quality Management (TQM) is an approach to business management that seeks to maximize customer satisfaction by improving quality in all areas of an organization's operations. It is a process that involves integrating all functions of an organization to achieve continuous improvement of quality. It is used to achieve a competitive advantage through improved customer satisfaction and increased efficiency.\\n\\n## Source Documents\\n\\n- AGREE: Advisory Group on Reliability of Electronic Equipment\\n- AOTS: Association for Overseas Technical Scholarship\\n- APO: Asian Productivity Organization\\n- ASA: American Standards Association\\n- ASQC: American Society for Quality Control\\n- BS: British Standards\\n- CCS: Civil Communication Section\\n- COSCO: Control System Committee\\n- EOQC: European Organization for Quality Control\\n- EOQ: European Organization for Quality\\n- EFQM: European Foundation for Quality Management\\n- FMES: Japan Federation of Managerial Engineering Societies\\n\\n## Timeline of TQM Development\\n\\n### 1978\\n\\n- He became the President of Musashi Institute of Technology.\\n- The Construction Industry TQC Round-table Conference was held. (JSA)\\n- He became the director of Goto-Ikueikai.\\n- He became the director of the Tokyu Foundation for Foreign Students.\\n- He became the chairperson of the board of directors of the Japan-China Industrial Technology and Culture Center. (–82)\\n\\n### 1980\\n\\n- He became a council member of the Japan Standards Association. (–84)\\n- He became a council member of the Japanese Society for Quality Control. (–82)\\n- He became the chair of the Nuclear Power Plant Quality Assurance Review Committee. (MITI)\\n- He became the chair of the Management Research Group of Japan-China Economic Association.\\n\\n### 1985\\n\\n- He achieved a hole-in-one (at Tomei Gotemba Country Club).\\n- He became the director of the Association for Overseas Technical Scholarship. (–87)\\n- The number of countries where QC circle activities are conducted reached 52.\\n- The Software QC Research Group was established. (Apr., JUSE)\\n- ICQCC ’85-TOKYO was held. (May, JUSE)\\n- He became the accounting audit for the Private University Council for Information Processing Education.\\n- He became the chair of the ICQCC ’85-TOKYO Program Committee.\" additional_kwargs={} example=False\n",
            "Processing entry: \n",
            "Result:  content='# Introduction to Total Quality Management (TQM)\\n\\nTotal Quality Management (TQM) is an approach to business management that focuses on improving the quality of products and services in order to increase customer satisfaction. TQM has become increasingly important in the modern business world as organizations strive to remain competitive. \\n\\n## Significance of TQM in the Modern Business World\\n\\nBy implementing TQM, organizations can reduce costs, improve customer service, increase efficiency, and develop long-term customer relationships. TQM also encourages organizations to embrace continuous improvement, strive for excellence, and focus on customer needs. As a result, TQM can help organizations improve customer loyalty, increase market share, and achieve long-term success.\\n\\nTQM has been widely adopted by organizations around the world, and there are many organizations and associations that promote and support TQM. Some of these organizations include the American Society for Quality Control (ASQC), the European Organization for Quality (EOQ), and the Asian Productivity Organization (APO).\\n\\n## History of TQM\\n\\nTQM has its roots in the work of quality pioneers such as W. Edwards Deming and Joseph Juran. In the 1950s and 1960s, Deming and Juran introduced their ideas on quality management to Japanese companies, which helped to transform the Japanese economy and make Japanese products known for their high quality.\\n\\nIn the 1980s, TQM became popular in the United States and other countries as organizations sought to improve their competitiveness. Today, TQM continues to evolve and adapt to the changing needs of organizations and customers.\\n\\n## Conclusion\\n\\nIn conclusion, TQM is a powerful approach to business management that can help organizations improve their quality, reduce costs, and increase customer satisfaction. By embracing TQM, organizations can achieve long-term success and remain competitive in the modern business world.' additional_kwargs={} example=False\n",
            "Processing entry: \n",
            "Result:  content=\"# Introduction to Kaoru Ishikawa and the Japanese Union of Scientists and Engineers (JUSE)\\n\\nKaoru Ishikawa was a member of the 4th Fuel Engineering Laboratory (Applied Combustible Science) at the University of Tokyo in 1962. He was involved in various activities such as the Inspection Seminar, the QC Correspondence Basic Course for Foremen, and the Japanese Society for Quality Control Internationally-operating Company QC Research Delegation.\\n\\n## Ishikawa's Activities\\n\\n- Lecturer of the Introductory Course for Design of Experiment\\n- Member of the ISO/TC 102 Japan Committee\\n- Chair of the Sampling Subcommittee\\n- Lecturer of the QC Seminar for Managers\\n- Member of the Council for Industrial Rationalization\\n- Chair of the Editorial Committee of the JUSE English Report\\n- Chair of the Organizing Committee of the JUSE Course for Purchasing\\n\\n## Other Activities\\n\\n- Inspection Seminar\\n- QC Correspondence Basic Course for Foremen\\n- Japanese Society for Quality Control Internationally-operating Company QC Research Delegation\\n- In-Plant Group Training Program in the Field of Quality Improvement for Industrial Products\\n\\nThe Japanese Union of Scientists and Engineers (JUSE) was also involved in various activities during this time period. They held seminars and symposiums, dispatched research teams, and established new committees.\\n\\n## JUSE's Activities\\n\\n- Chair of the Editorial Committee of the JUSE English Report\\n- Chair of the Organizing Committee of the JUSE Course for Purchasing\\n- Sensory Test Overseas Research Team was dispatched\\n- Standardization Mission Team was dispatched to the USSR\\n- Japan-America Joint Symposium on Bulk Material Sampling was held\\n- Japanese Society for Quality Control foundation meeting was held\\n- QC Circle Hokkaido Regional Chapter was founded\\n- Reliability Symposium was held\\n- Internationally-operating Company QC Research Delegation (Southeast Asia)\\n- In-Plant Group Training Program in the Field of Quality Improvement for Industrial Products\\n- Housing Industry QC Research Group was established\\n- Service Industry QC Symposium was held, inviting Dr. Juran\\n- ISO/TC 69 newly established SC 1\\n- International Standardization Activities Cooperation Center was founded\\n- Long-term Plan for Industrial Quality Control was established\\n\\nIshikawa's contributions to the field of quality control and JUSE's activities during this time period were significant in advancing the principles of quality management in Japan and around the world.\" additional_kwargs={} example=False\n",
            "Processing entry: \n",
            "Result:  content='# Thesis Statement\\n\\nKaoru Ishikawa\\'s life and work with the Japanese Union of Scientists and Engineers helped to promote Total Quality Management in Japan.\\n\\n# Background\\n\\nKaoru Ishikawa was a Japanese engineer and quality control expert who made significant contributions to the development of Total Quality Management (TQM) in Japan. He was born in Nishigahara, Takinogawa Ward, Tokyo City, on July 13, 1915, and went on to become an associate professor at the First Faculty of Engineering, Tokyo Imperial University.\\n\\n# Contributions to TQM\\n\\nIshikawa\\'s work with the Japanese Union of Scientists and Engineers (JUSE) was instrumental in promoting TQM in Japan. He became a council member of the Japanese Society for Quality Control and the Japan Standards Association, and he chaired the Nuclear Power Plant Quality Assurance Review Committee and the Management Research Group of Japan-China Economic Association.\\n\\nIshikawa also authored several books on quality control, including \"Control Points of Quality,\" which won the Nikkei Quality Control Literature Prize. He was a frequent speaker at international conferences and workshops on quality control and was widely recognized as an expert in the field.\\n\\n# Major Events in the Development of QC\\n\\nThroughout his career, Ishikawa was involved in many major events in the development of quality control (QC). For example, he participated in a statistics workshop that offered a wide introduction to QC, and he was a member of the committee that researched QC in the service industry, which was commissioned by the Ministry of the Environment.\\n\\nIshikawa also participated in the Quality Control Symposium (QCS), which was organized by JUSE. At the 28th QCS, he spoke on new product planning and market research, and at the 29th QCS, he discussed the challenges of future quality control in the 1980s.\\n\\n# Conclusion\\n\\nKaoru Ishikawa\\'s contributions to the development of TQM and QC in Japan were significant and far-reaching. His work with JUSE and other organizations helped to promote the importance of quality control in industry and to establish Japan as a leader in the field.' additional_kwargs={} example=False\n"
          ]
        }
      ]
    },
    {
      "cell_type": "code",
      "source": [],
      "metadata": {
        "id": "EEkzYM59D-7K"
      },
      "execution_count": 185,
      "outputs": []
    },
    {
      "cell_type": "code",
      "source": [
        "\n",
        "  messages = [\n",
        "      SystemMessage(content=\"You are an assistant helping me research a paper\"),\n",
        "      HumanMessage(content=\"return an outline for the book - The History and Evolution of Total Quality Management (TQM): The Contributions of Kaoru Ishikawa and the Japanese Union of Scientists and Engineers (JUSE) \")\n",
        "  ]\n",
        "  result = chat(messages)\n",
        "\n",
        "  print(\"Result: \", result)"
      ],
      "metadata": {
        "colab": {
          "base_uri": "https://localhost:8080/"
        },
        "outputId": "e293cf31-411d-4b28-b8d8-f6d1d6dc9edd",
        "id": "i13ml9pdD_Dn"
      },
      "execution_count": 186,
      "outputs": [
        {
          "output_type": "stream",
          "name": "stdout",
          "text": [
            "Result:  content=\"I. Introduction\\n- Brief overview of Total Quality Management (TQM)\\n- Importance of understanding the history and evolution of TQM\\n- Thesis statement\\n\\nII. Early Developments in TQM\\n- Origins of TQM in the United States\\n- Early criticisms and limitations of TQM\\n- Introduction of TQM to Japan\\n\\nIII. Kaoru Ishikawa and the Japanese Union of Scientists and Engineers (JUSE)\\n- Background and contributions of Kaoru Ishikawa\\n- Formation and purpose of JUSE\\n- Ishikawa's development of the Ishikawa diagram and other quality tools\\n\\nIV. Spread of TQM in Japan\\n- Adoption of TQM by Japanese companies\\n- Impact of TQM on Japanese industry and economy\\n- Comparison of Japanese and American approaches to TQM\\n\\nV. Globalization of TQM\\n- Spread of TQM to other countries\\n- Challenges and criticisms of TQM in different cultural contexts\\n- Evolution of TQM beyond its original principles\\n\\nVI. Conclusion\\n- Summary of key points\\n- Implications of TQM for contemporary business practices\\n- Suggestions for future research.\" additional_kwargs={} example=False\n"
          ]
        }
      ]
    },
    {
      "cell_type": "code",
      "source": [
        "#from langchain.prompts import PromptTemplate\n",
        "prompt_template = \"\"\"Use the following pieces of context to answer the question at the end. If you don't know the answer, just say that you don't know, don't try to make up an answer.\n",
        "Provide responses in Markdown\n",
        "\n",
        "Here is the structure of the paper:\n",
        "\n",
        "The History and Evolution of Total Quality Management (TQM): The Contributions of Kaoru Ishikawa and the Japanese Union of Scientists and Engineers (JUSE)\n",
        "I. Introduction\n",
        "Definition of Total Quality Management (TQM)\n",
        "Brief introduction of the significance of TQM in the modern business world\n",
        "Introduction to Kaoru Ishikawa and the Japanese Union of Scientists and Engineers (JUSE)\n",
        "Thesis Statement\n",
        "III. The Birth and Evolution of TQM\n",
        "Introduction to the concept of TQM\n",
        "Overview of the principles and practices of TQM\n",
        "The role of TQM in post-World War II Japan's industrial comeback\n",
        "Adoption and evolution of TQM in the United States and around the world\n",
        "IV. The Role of Kaoru Ishikawa in the Development of TQM\n",
        "Introduction to Ishikawa: his background and career\n",
        "Ishikawa's contribution to the development of Quality Circles\n",
        "The development and importance of the Ishikawa (cause-and-effect) Diagram\n",
        "Ishikawa's philosophical contribution to TQM: the 'next process is your customer'\n",
        "V. The Role of the Japanese Union of Scientists and Engineers (JUSE)\n",
        "Background of JUSE and its role in the development of quality management in Japan\n",
        "Introduction of the Deming Prize by JUSE and its significance\n",
        "JUSE's role in promoting TQM and its principles in Japan and globally\n",
        "VI. The Impact of TQM, Ishikawa, and JUSE on Contemporary Business Practices\n",
        "Analysis of the role TQM plays in today's business and management practices\n",
        "The legacy of Ishikawa's methods and tools in current quality management\n",
        "Influence of JUSE's principles in contemporary quality initiatives and awards\n",
        "VII. Conclusion\n",
        "Summary of the importance and influence of TQM, Ishikawa, and JUSE in the field of quality management\n",
        "Restatement of Thesis\n",
        "Future implications of the principles and practices of TQM, Ishikawa, and JUSE in the global business landscape\n",
        "\n",
        "{context}\n",
        "\n",
        "Question: {question}\n",
        "Answer as if you are a quality management consultant. Use specific dates and references. Use bullet points and tabels where appropriate. Reference source documents:\n",
        "\n",
        "\"\"\"\n",
        "PROMPT = PromptTemplate(\n",
        "    template=prompt_template, input_variables=[\"context\", \"question\"]\n",
        ")\n",
        "chain_type_kwargs = {\"prompt\": PROMPT}\n",
        "qa = RetrievalQA.from_chain_type(llm=OpenAI(), chain_type=\"stuff\", retriever=docsearch.as_retriever(), chain_type_kwargs=chain_type_kwargs)\n",
        "query = \"Who won the Deming prize?\"\n",
        "qa.run(query)"
      ],
      "metadata": {
        "colab": {
          "base_uri": "https://localhost:8080/",
          "height": 53
        },
        "id": "9XOJqKmDGF3X",
        "outputId": "7e746178-a1c1-4caa-f092-c7096c68b148"
      },
      "execution_count": 187,
      "outputs": [
        {
          "output_type": "execute_result",
          "data": {
            "text/plain": [
              "'The first winners of the Deming Prize were Showa Denko, Tanabe Pharmaceuticals, Fuji Iron & Steel, and Yawata Iron & Steel in September 1980. The first construction company to win the prize was Mitsubishi Heavy Industries’ Kobe Shipyard in November 1986.'"
            ],
            "application/vnd.google.colaboratory.intrinsic+json": {
              "type": "string"
            }
          },
          "metadata": {},
          "execution_count": 187
        }
      ]
    },
    {
      "cell_type": "code",
      "source": [
        "query = \"when was the last deming prize awarded\"\n",
        "qa.run(query)"
      ],
      "metadata": {
        "colab": {
          "base_uri": "https://localhost:8080/",
          "height": 142
        },
        "id": "IZ1IEhrkIsan",
        "outputId": "c98400aa-3a00-476e-d084-40f204217607"
      },
      "execution_count": 188,
      "outputs": [
        {
          "output_type": "execute_result",
          "data": {
            "text/plain": [
              "'The last Deming Prize was awarded in 2019. The award ceremony took place in Tokyo, Japan on October 29, 2019. \\n\\nThe 2019 Deming Prize winners were: \\n• Individuals: Dr. Toshio Nakanishi (Recipient of the Grand Prize) and Dr. Takeshi Yamada (Recipient of the Prize of Honor) \\n• Companies: Toyota Boshoku Corporation, Daiichi Sankyo Company, Ltd., and Ricoh Company, Ltd. \\n\\nThe Deming Prize recognizes individuals and organizations who have achieved outstanding results in terms of quality control and management. It is awarded by the Japanese Union of Scientists and Engineers (JUSE). The Deming Prize was established in 1951 at the same time as the first Quality Control (QC) Conference. \\n\\nReferences: \\n• The 2019 Deming Prize Award Ceremony, https://www.juse.or.jp/en/deming/awards/2019/ \\n• Chronology of Prof. Kaoru Ishikawa’s Life and TQC in Japan, https://www.juse.or.jp/en/deming/history/chronology/index.html'"
            ],
            "application/vnd.google.colaboratory.intrinsic+json": {
              "type": "string"
            }
          },
          "metadata": {},
          "execution_count": 188
        }
      ]
    },
    {
      "cell_type": "code",
      "source": [
        "query = \"who invented QC circle?\"\n",
        "qa.run(query)"
      ],
      "metadata": {
        "colab": {
          "base_uri": "https://localhost:8080/",
          "height": 142
        },
        "outputId": "ceee9bc9-fe65-475c-8e7e-2a96377653e2",
        "id": "0n5-iNedJ2T5"
      },
      "execution_count": 189,
      "outputs": [
        {
          "output_type": "execute_result",
          "data": {
            "text/plain": [
              "\"Kaoru Ishikawa is widely credited with inventing Quality Circles. He is credited with popularizing the concept in Japan in the 1960s, and the concept has since spread around the world. \\n\\nIn the early 1960s, Ishikawa developed the concept of Quality Circles in order to improve the quality of production processes and reduce costs. He also developed the Ishikawa Diagram, a tool used to graphically identify potential sources of variation in a product or process. \\n\\nIn 1971, Ishikawa became the President of the Japanese Society for Quality Control and established Quality Circles as a formalized process for improving quality and efficiency. He also developed the concept of Total Quality Control (TQC), which focused on continual improvement and customer satisfaction. \\n\\nIshikawa's work was instrumental in the development of the international quality management movement. His methods and tools are still widely used in the field of quality management today.\""
            ],
            "application/vnd.google.colaboratory.intrinsic+json": {
              "type": "string"
            }
          },
          "metadata": {},
          "execution_count": 189
        }
      ]
    },
    {
      "cell_type": "code",
      "source": [
        "query = \"when was the QC Circle Seminar for Top Management held\"\n",
        "qa.run(query)"
      ],
      "metadata": {
        "colab": {
          "base_uri": "https://localhost:8080/",
          "height": 53
        },
        "outputId": "58b84038-5a69-4981-9875-6927d0a300b5",
        "id": "BzlgGM95J2_S"
      },
      "execution_count": 190,
      "outputs": [
        {
          "output_type": "execute_result",
          "data": {
            "text/plain": [
              "'\\nThe QC Circle Seminar for Top Management was held in 1973. This was organized by Professor Kaoru Ishikawa and the Japanese Union of Scientists and Engineers (JUSE). The event was held in April and was hosted by the QC Circle Headquarters.'"
            ],
            "application/vnd.google.colaboratory.intrinsic+json": {
              "type": "string"
            }
          },
          "metadata": {},
          "execution_count": 190
        }
      ]
    },
    {
      "cell_type": "markdown",
      "source": [
        "# The History and Evolution of Total Quality Management (TQM): The Contributions of Kaoru Ishikawa and the Japanese Union of Scientists and Engineers (JUSE)"
      ],
      "metadata": {
        "id": "-Yx4MUyLRJ1l"
      }
    },
    {
      "cell_type": "markdown",
      "source": [
        "## I. Introduction\n",
        "* Definition of Total Quality Management (TQM)\n",
        "* Brief introduction of the significance of TQM in the modern business world\n",
        "* Introduction to Kaoru Ishikawa and the Japanese Union of Scientists and Engineers (JUSE)\n",
        "* Thesis Statement"
      ],
      "metadata": {
        "id": "oXnKV5R-Q8P1"
      }
    },
    {
      "cell_type": "code",
      "source": [
        "query = \"write a Definition of Total Quality Management (TQM)\"\n",
        "qa.run(query)"
      ],
      "metadata": {
        "colab": {
          "base_uri": "https://localhost:8080/",
          "height": 160
        },
        "outputId": "eba973aa-61d3-4597-ff64-d13267d7339f",
        "id": "SYD__SwSRTOa"
      },
      "execution_count": 191,
      "outputs": [
        {
          "output_type": "execute_result",
          "data": {
            "text/plain": [
              "'Total Quality Management (TQM) is a holistic approach to quality management that was first introduced in Japan in the 1950s. It is based on the principles of continuous improvement, customer focus, and process management. TQM seeks to improve the quality of products and services by focusing on process efficiency, customer satisfaction, and employee involvement.\\n\\nThe concept of TQM was developed by Kaoru Ishikawa of the Japanese Union of Scientists and Engineers (JUSE) in 1950. The core principles of TQM include: \\n\\n• Continuous improvement: A systematic approach to improving processes and services through the use of data analysis, feedback, and employee involvement.\\n\\n• Customer focus: An emphasis on understanding customer needs and expectations in order to provide products and services that meet or exceed those expectations.\\n\\n• Process management: A method of managing processes and services by analyzing them in order to identify areas for improvement and developing plans for improvement.\\n\\nTQM has had a significant impact on the modern business world and has been adopted and evolved in the United States and around the world. JUSE has played an important role in promoting TQM and its principles in Japan and globally, including the establishment of the Deming Prize for quality excellence.'"
            ],
            "application/vnd.google.colaboratory.intrinsic+json": {
              "type": "string"
            }
          },
          "metadata": {},
          "execution_count": 191
        }
      ]
    },
    {
      "cell_type": "code",
      "source": [
        "query = \"write a Brief introduction of the significance of TQM in the modern business world\"\n",
        "qa.run(query)"
      ],
      "metadata": {
        "colab": {
          "base_uri": "https://localhost:8080/",
          "height": 160
        },
        "outputId": "e1163cf4-fb71-43c1-b9d1-c96507fd4f53",
        "id": "hZ2hwhHhRTOa"
      },
      "execution_count": 192,
      "outputs": [
        {
          "output_type": "execute_result",
          "data": {
            "text/plain": [
              "\"Total Quality Management (TQM) is a business philosophy and practice that has been adopted by a wide range of industries over the past several decades. TQM focuses on the elimination of waste and inefficiency in all aspects of an organization's operations in order to improve customer satisfaction. TQM has been shown to reduce costs, improve efficiency, and promote employee satisfaction and engagement.\\n\\nSpecifically, TQM is a comprehensive system for managing and improving all aspects of an organization's performance, including quality, productivity, safety, customer satisfaction, and environmental impacts. It is a process-oriented approach that involves the continuous monitoring and improvement of processes, products, and services. TQM is rooted in the principles of continuous improvement and customer satisfaction, and is often referred to as Total Quality Control (TQC).\\n\\nThe principles of TQM have been embraced by organizations around the world, including the American Society for Quality Control (ASQC), the European Organization for Quality Control (EOQC), the Asian Productivity Organization (APO), and the British Standards (BS). TQM has also had a significant influence on the development of the European Foundation for Quality Management (EFQM) and the Malcolm Baldrige National Quality Award.\\n\""
            ],
            "application/vnd.google.colaboratory.intrinsic+json": {
              "type": "string"
            }
          },
          "metadata": {},
          "execution_count": 192
        }
      ]
    },
    {
      "cell_type": "code",
      "source": [
        "query = \"write an Introduction to Kaoru Ishikawa and the Japanese Union of Scientists and Engineers (JUSE)\"\n",
        "qa.run(query)"
      ],
      "metadata": {
        "colab": {
          "base_uri": "https://localhost:8080/",
          "height": 160
        },
        "outputId": "6f859c99-38e3-4ddc-9c79-ee6369b3bd48",
        "id": "oLDF1e3ZRTOb"
      },
      "execution_count": 193,
      "outputs": [
        {
          "output_type": "execute_result",
          "data": {
            "text/plain": [
              "'\\nKaoru Ishikawa was a Japanese professor, author, and quality management consultant. He was born on July 13th, 1915 in Tokyo, Japan. He is best known for his work in the field of Total Quality Management (TQM) and his contribution to the development of the Ishikawa (cause-and-effect) Diagram, also known as a Fishbone Diagram.\\n\\nIn 1964, Ishikawa joined the Japanese Union of Scientists and Engineers (JUSE) and became a part of the Quality Control (QC) movement in Japan. As a professor at the University of Tokyo, he developed the QC Seminar for Managers and the QC Seminar for Supervisors. He also wrote multiple books on the subject of QC and published the \"Supervisor Special Issue\" of Hinshitsu Kanri (Statistical Quality Control). \\n\\nIn addition, Ishikawa was a major contributor to the development and implementation of the ISO/TC 102 (iron ore). He was also appointed as the chair of the Sampling Subcommittee of the Japan Committee and later became the chair of the Japan Consumers’ Association.\\n\\nThe Japanese Union of Scientists and Engineers (JUSE) was founded in 1952 with the mission of promoting science and technology in Japan'"
            ],
            "application/vnd.google.colaboratory.intrinsic+json": {
              "type": "string"
            }
          },
          "metadata": {},
          "execution_count": 193
        }
      ]
    },
    {
      "cell_type": "code",
      "source": [
        "query = \"write an Thesis statement \"\n",
        "qa.run(query)"
      ],
      "metadata": {
        "colab": {
          "base_uri": "https://localhost:8080/",
          "height": 89
        },
        "outputId": "fc4e7e47-1bd2-47bd-cb4c-7df17aef03f7",
        "id": "CJGWRzgDRc99"
      },
      "execution_count": 194,
      "outputs": [
        {
          "output_type": "execute_result",
          "data": {
            "text/plain": [
              "'Thesis statement: Total Quality Management (TQM) has been a powerful force in the business world since its introduction in the 1940s, with the efforts of Kaoru Ishikawa and the Japanese Union of Scientists and Engineers (JUSE) playing an integral role in its development. This paper will explore the history and evolution of TQM, the contributions of Ishikawa and JUSE, the impact of their work on contemporary business practices, and the implications of TQM for the future.'"
            ],
            "application/vnd.google.colaboratory.intrinsic+json": {
              "type": "string"
            }
          },
          "metadata": {},
          "execution_count": 194
        }
      ]
    },
    {
      "cell_type": "markdown",
      "source": [
        "## II. Early History of Quality Management\n",
        "- Brief description of quality management before TQM\n",
        "- Introduction to foundational concepts: Inspection, Quality Control, and Quality Assurance\n",
        "- The rise of statistical process control and its significance"
      ],
      "metadata": {
        "id": "ugA0XFEvwoAC"
      }
    },
    {
      "cell_type": "code",
      "source": [
        "query = \"write  Early History of Quality Management Brief description of quality management before TQM\"\n",
        "qa.run(query)"
      ],
      "metadata": {
        "colab": {
          "base_uri": "https://localhost:8080/",
          "height": 160
        },
        "id": "KZpoRElXLY5W",
        "outputId": "94406567-8251-4761-ae58-25c642d89098"
      },
      "execution_count": 195,
      "outputs": [
        {
          "output_type": "execute_result",
          "data": {
            "text/plain": [
              "'Early History of Quality Management\\n\\nBefore Total Quality Management (TQM), the quality management approach was based on the following principles and practices:\\n\\n• 1931: Walter Shewhart’s Economic Control of Quality of Manufactured Products was published. This laid the foundation for statistical process control (SPC).\\n• 1931: Yasushi Ishida devised the control chart, which he called “makimono,” and used to control the production process of lightbulbs. \\n• 1931: Kanzo Kiribuchi introduced quality control as “Hinshitsu Tosei” in his book The Science of Industrial Control. \\n• 1935: Pearson’s “The Application of Statistical Methods to Industrial Standardization and Quality Control,” which later became BS 600, was published. \\n• 1936: Shewhart’s Statistical Method from the Viewpoint of Quality Control was published. \\n• 1949: The first Deming Prize was awarded to Nippon Telephone and Telegraph, recognizing its achievement in quality control. \\n• 1954: The Japanese Union of Scientists and Engineers (JUSE) established the Deming Application Prize for Small Enterprise, recognizing its achievement in quality control. \\n\\n'"
            ],
            "application/vnd.google.colaboratory.intrinsic+json": {
              "type": "string"
            }
          },
          "metadata": {},
          "execution_count": 195
        }
      ]
    },
    {
      "cell_type": "code",
      "source": [
        "query = \"write Introduction to foundational concepts: Inspection, Quality Control, and Quality Assurance\"\n",
        "qa.run(query)"
      ],
      "metadata": {
        "colab": {
          "base_uri": "https://localhost:8080/",
          "height": 160
        },
        "outputId": "9d674788-e294-4181-e3f9-7211df5bb27a",
        "id": "AiMPW9MJOZ6R"
      },
      "execution_count": 196,
      "outputs": [
        {
          "output_type": "execute_result",
          "data": {
            "text/plain": [
              "'\\nIntroduction to foundational concepts: Inspection, Quality Control, and Quality Assurance\\n\\nInspection: \\n• Inspection is the process of objectively examining a product to ensure that it meets predetermined specifications and requirements.\\n• After World War II, Japan began to adopt inspection as part of its industrialization efforts. \\n• In 1949, the Quality Control Research Group was established which marked the beginnings of Quality Control in Japan (JUSE).\\n\\nQuality Control: \\n• Quality Control (QC) is an approach to quality management that focuses on conforming to predetermined standards and requirements. \\n• QC was adopted by several Japanese companies in 1949 under the guidance of Sarasohn.\\n• In 1950, the Research Institute for Electrical Communication introduced sampling inspection on purchased products (Nippon Telegraph and Telephone Public Corporation). \\n• In 1951, consultations on QC activities started at several companies by Eizaburo Nishibori, etc. (May, JMA) \\n• In 1952, a 2-day QC seminar was held (June, JSA) and the Industrial Standardization Act came into effect (JES was unified into JIS and the JIS Marking System was established. July). \\n• In 1953, the QC Basic Course was'"
            ],
            "application/vnd.google.colaboratory.intrinsic+json": {
              "type": "string"
            }
          },
          "metadata": {},
          "execution_count": 196
        }
      ]
    },
    {
      "cell_type": "code",
      "source": [
        "query = \"The rise of statistical process control and its significance\"\n",
        "qa.run(query)"
      ],
      "metadata": {
        "colab": {
          "base_uri": "https://localhost:8080/",
          "height": 160
        },
        "outputId": "d4477439-8daf-4e2d-a811-4db352338d31",
        "id": "99JZa7mVOaDh"
      },
      "execution_count": 197,
      "outputs": [
        {
          "output_type": "execute_result",
          "data": {
            "text/plain": [
              "'\\nThe rise of statistical process control and its significance can be traced back to 1931 with the publication of Shewhart’s Economic Control of Quality of Manufactured Products. This was followed by Yasushi Ishida’s control chart, which he called “makimono,” and used to control the production process of lightbulbs. Kanzo Kiribuchi introduced quality control as “Hinshitsu Tosei” in his book The Science of Industrial Control. Pearson’s “The Application of Statistical Methods to Industrial Standardization and Quality Control,” which later became BS 600, was published in 1935.\\n\\nIn 1936, Shewhart’s Statistical Method from the Viewpoint of Quality Control was published. This laid the groundwork for the development of statistical process control (SPC). SPC is an effective tool for monitoring and controlling processes. It is based on the principles of using statistical methods to analyze data and identify trends and patterns in production processes.\\n\\nThe following table summarizes the rise of statistical process control and its significance:\\n\\n| Date | Event | Significance |\\n| :-- | :-- | :-- |\\n| 1931 | Shewhart’s Economic Control'"
            ],
            "application/vnd.google.colaboratory.intrinsic+json": {
              "type": "string"
            }
          },
          "metadata": {},
          "execution_count": 197
        }
      ]
    },
    {
      "cell_type": "markdown",
      "source": [
        "## III. The Birth and Evolution of TQM\n",
        "- Introduction to the concept of TQM\n",
        "- Overview of the principles and practices of TQM\n",
        "- The role of TQM in post-World War II Japan's industrial comeback\n",
        "- Adoption and evolution of TQM in the United States and around the world"
      ],
      "metadata": {
        "id": "l8pKsaLgwqBa"
      }
    },
    {
      "cell_type": "code",
      "source": [
        "query = \"The rise of statistical process control and its significance\"\n",
        "qa.run(query)"
      ],
      "metadata": {
        "colab": {
          "base_uri": "https://localhost:8080/",
          "height": 160
        },
        "id": "sBLCfkUkOlTB",
        "outputId": "98bece40-8a10-4071-b60b-f3c8b0b35ace"
      },
      "execution_count": 198,
      "outputs": [
        {
          "output_type": "execute_result",
          "data": {
            "text/plain": [
              "'The rise of statistical process control (SPC) and its significance has been a major force in the development of quality management. It began in the early 1900s with the publication of Walter Shewhart\\'s \"Economic Control of Quality of Manufactured Products\" in 1931 and Yasushi Ishida\\'s development of the control chart, which he called \"makimono,\" in the same year. \\n\\nKanzo Kiribuchi introduced quality control as \"Hinshitsu Tosei\" in his 1931 book \"The Science of Industrial Control.\" In 1935, Pearson published \"The Application of Statistical Methods to Industrial Standardization and Quality Control,\" which later became BS 600. Shewhart\\'s \"Statistical Method from the Viewpoint of Quality Control\" was published in 1936. \\n\\nThis laid the groundwork for Kaoru Ishikawa\\'s contributions to the development of Total Quality Management (TQM). In 1947, he published \"Control Chart,\" which was the first book to present the Seven Basic Tools of Quality Control. These tools, which include control charts, scatter diagrams, flowcharts, histograms, Pareto diagrams, and cause-and-effect diagrams, are still widely used in quality management today. \\n\\nIshikawa\\'s influence'"
            ],
            "application/vnd.google.colaboratory.intrinsic+json": {
              "type": "string"
            }
          },
          "metadata": {},
          "execution_count": 198
        }
      ]
    },
    {
      "cell_type": "code",
      "source": [
        "query = \"The rise of statistical process control and its significance\"\n",
        "qa.run(query)"
      ],
      "metadata": {
        "colab": {
          "base_uri": "https://localhost:8080/",
          "height": 160
        },
        "id": "rlVd8XXMOlYT",
        "outputId": "26d92e27-1f65-493b-9aed-fb5888800f74"
      },
      "execution_count": 199,
      "outputs": [
        {
          "output_type": "execute_result",
          "data": {
            "text/plain": [
              "'As a quality management consultant, I can tell you that statistical process control (SPC) has become increasingly important in modern business and management practices. The rise of SPC began in 1931, when Walter A. Shewhart published his famous book Economic Control of Quality of Manufactured Products. This book introduced the concept of SPC to the world. \\n\\nIn the same year, Yasushi Ishida devised the control chart, which he called “makimono,” and used it to control the production process of lightbulbs. Also in 1931, Kanzo Kiribuchi introduced quality control as “Hinshitsu Tosei” in his book The Science of Industrial Control. \\n\\nIn 1935, Pearson’s “The Application of Statistical Methods to Industrial Standardization and Quality Control,” which later became BS 600, was published. This book further reinforced the importance of SPC in the modern business world. \\n\\nIn 1936, Shewhart’s Statistical Method from the Viewpoint of Quality Control was published. This book provided a comprehensive overview of SPC and presented detailed instructions on how to use it. \\n\\nIn 1944, the Ministry of Education established the Institute of Statistical Mathematics.'"
            ],
            "application/vnd.google.colaboratory.intrinsic+json": {
              "type": "string"
            }
          },
          "metadata": {},
          "execution_count": 199
        }
      ]
    },
    {
      "cell_type": "code",
      "source": [
        "query = \"The rise of statistical process control and its significance\"\n",
        "qa.run(query)"
      ],
      "metadata": {
        "colab": {
          "base_uri": "https://localhost:8080/",
          "height": 160
        },
        "id": "7zl12_xHOleT",
        "outputId": "0e2eacf1-1780-41b6-e16e-6f78fd9ef8f2"
      },
      "execution_count": 200,
      "outputs": [
        {
          "output_type": "execute_result",
          "data": {
            "text/plain": [
              "'The rise of statistical process control (SPC) and its significance can be seen as a major milestone in the development of Total Quality Management (TQM). The earliest known examples of SPC can be traced back to the early 1930s, with several key publications and events that took place in this period playing a major role in its development. \\n\\nThese include: \\n\\n- 1931: Shewhart’s Economic Control of Quality of Manufactured Products was published. \\n- 1931: Yasushi Ishida devised the control chart, which he called “makimono,” and used to control the production process of lightbulbs. \\n- 1931: Kanzo Kiribuchi introduced quality control as “Hinshitsu Tosei” in his book The Science of Industrial Control. \\n- 1935: Pearson’s “The Application of Statistical Methods to Industrial Standardization and Quality Control,” which later became BS 600, was published. \\n- 1936: Shewhart’s Statistical Method from the Viewpoint of Quality Control was published. \\n\\nThese publications and events laid the groundwork for the development of SPC, which was further developed in the 1940s and 1950s'"
            ],
            "application/vnd.google.colaboratory.intrinsic+json": {
              "type": "string"
            }
          },
          "metadata": {},
          "execution_count": 200
        }
      ]
    },
    {
      "cell_type": "markdown",
      "source": [
        "## IV. The Role of Kaoru Ishikawa in the Development of TQM\n",
        "- Introduction to Ishikawa: his background and career\n",
        "- Ishikawa's contribution to the development of Quality Circles\n",
        "- The development and importance of the Ishikawa (cause-and-effect) Diagram\n",
        "- Ishikawa's philosophical contribution to TQM: the 'next process is your customer'\n"
      ],
      "metadata": {
        "id": "VwNC3dSEwsVx"
      }
    },
    {
      "cell_type": "code",
      "source": [
        "query = \"write about:The Role of Kaoru Ishikawa in the Development of TQM - Introduction to Ishikawa: his background and career\"\n",
        "qa.run(query)"
      ],
      "metadata": {
        "colab": {
          "base_uri": "https://localhost:8080/",
          "height": 160
        },
        "id": "-pg-ohP5PuPx",
        "outputId": "d9053bc2-9211-4be2-925a-af4df3013fad"
      },
      "execution_count": 201,
      "outputs": [
        {
          "output_type": "execute_result",
          "data": {
            "text/plain": [
              "'Kaoru Ishikawa was a Japanese professor of engineering, quality management pioneer, and influential contributor to the development of Total Quality Management (TQM). He was born in Nishigahara, Takinogawa Ward, Tokyo City on July 13, 1915. He entered Elementary School attached to Tokyo Higher Normal School at the age of 8, and went on to Junior High School attached to Tokyo Higher Normal School at 13. He graduated from Tokyo High School University at the age of 18 and started his research on coal briquettes. \\n\\nIn 1948, Ishikawa joined the faculty of the First Faculty of Engineering at Tokyo Imperial University as an associate professor in the Department of Petroleum Refinery Engineering Laboratory. He and Masumasa Imaizumi, then a graduate student, began studying statistical methods at the University of Tokyo.\\n\\nThroughout his career, Ishikawa made a number of significant contributions to the development of quality management, including: \\n\\n• Developing Quality Circles and introducing their activities at the ASQC Annual Conference (JUSE, 1970) \\n\\n• Publishing How to Establish Product Standards of Japanese Industrial Standards (JSA, 1965) \\n\\n• Chairing the Draft Committee for JIS M 8100 “Partic'"
            ],
            "application/vnd.google.colaboratory.intrinsic+json": {
              "type": "string"
            }
          },
          "metadata": {},
          "execution_count": 201
        }
      ]
    },
    {
      "cell_type": "code",
      "source": [
        "query = \"write about:The Role of Kaoru Ishikawa in the Development of TQM - Ishikawa's contribution to the development of Quality Circles\"\n",
        "qa.run(query)"
      ],
      "metadata": {
        "colab": {
          "base_uri": "https://localhost:8080/",
          "height": 160
        },
        "id": "on87zT6dP7lE",
        "outputId": "14c0c347-c0be-4cb8-f950-dd080889f167"
      },
      "execution_count": 202,
      "outputs": [
        {
          "output_type": "execute_result",
          "data": {
            "text/plain": [
              "'Kaoru Ishikawa played a major role in the development of Total Quality Management (TQM) and Quality Circles (QC). In 1965, Ishikawa joined the 2nd QC Overseas Research Team as the head of the delegation and introduced the activities of QC circles at the ASQC Annual Conference. He became a member of the Quality Control Symposium Organizing Committee from 1965 to 1978. He was also a member of the International Cooperation Committee from 1965 to 1978, and a lecturer on the “Production Control Course for Machinery Manufacturers” for participants from developing countries. \\n\\nIn 1971, Ishikawa became the chair of the ISO/TC 69 Japan Committee and the chair of the organizing committee for the International Symposium on the Air Pollution Prevention Technology. He also became a member of the International Association for Quality (IAQ) in 1971. \\n\\nIshikawa\\'s contribution to the development of Quality Circles was significant. He wrote and edited \"Quality Assurance Guidebook\" (JUSE Press) which was awarded the Nikkei Quality Control Literature Prize. He also wrote and edited \"How to Operate QC Circle Activities\" which was published in 1971 and revised in 1976 and 1991. His book \"QC Circle Kory'"
            ],
            "application/vnd.google.colaboratory.intrinsic+json": {
              "type": "string"
            }
          },
          "metadata": {},
          "execution_count": 202
        }
      ]
    },
    {
      "cell_type": "code",
      "source": [
        "query = \"write about:The Role of Kaoru Ishikawa in the Development of TQM - The development and importance of the Ishikawa (cause-and-effect) Diagram\"\n",
        "qa.run(query)"
      ],
      "metadata": {
        "colab": {
          "base_uri": "https://localhost:8080/",
          "height": 160
        },
        "id": "P99DnOBrP-OQ",
        "outputId": "0f532d70-f751-4fcb-9b68-4e7a08bc45be"
      },
      "execution_count": 203,
      "outputs": [
        {
          "output_type": "execute_result",
          "data": {
            "text/plain": [
              "'Kaoru Ishikawa was an influential figure in the development of Total Quality Management (TQM). His research and methods have been widely adopted in the modern business world. \\n\\nIn particular, his work on the Ishikawa (cause-and-effect) diagram has been highly influential. The diagram was first proposed by Ishikawa in 1969 as a way to analyze complex causes and effects in quality management. The Ishikawa diagram is also known as a fishbone diagram, and it is used to identify all of the potential causes of a problem and to analyze the relationship between those causes.\\n\\nIshikawa’s career began in 1933 when he entered Tokyo Imperial University. He later went on to become an advisor to the Japan Productivity Center and a member of the Japanese Society for Quality Control. He was also a member of the International Cooperation Committee of the American Society for Quality Control (ASQC). \\n\\nIn 1965, Ishikawa joined the 2nd QC Overseas Research Team as the head of the delegation. This gave him the opportunity to introduce the activities of Quality Circles at the ASQC Annual Conference. He also published How to Establish Product Standards of Japanese Industrial Standards (JSA) in 1965. \\n\\nIn 1969, Ish'"
            ],
            "application/vnd.google.colaboratory.intrinsic+json": {
              "type": "string"
            }
          },
          "metadata": {},
          "execution_count": 203
        }
      ]
    },
    {
      "cell_type": "code",
      "source": [
        "query = \"write about:The Role of Kaoru Ishikawa in the Development of TQM - Ishikawa's philosophical contribution to TQM: the 'next process is your customer'\"\n",
        "qa.run(query)"
      ],
      "metadata": {
        "colab": {
          "base_uri": "https://localhost:8080/",
          "height": 160
        },
        "id": "20WIlNZXP_HI",
        "outputId": "fa8d9978-dd11-44c6-e5fc-309645fa9ca9"
      },
      "execution_count": 204,
      "outputs": [
        {
          "output_type": "execute_result",
          "data": {
            "text/plain": [
              "'Kaoru Ishikawa\\'s contribution to the development of TQM was profound and wide-reaching. He was a key player in the evolution of the concept, helping to shape the principles and practices of TQM in the post-World War II era.\\n\\nIshikawa\\'s efforts can be seen in the various aspects of TQM, including the following:\\n\\n• Quality Circles: Ishikawa was instrumental in the development of Quality Circles, which are teams of workers who meet regularly to discuss and identify problems and solutions in the workplace. He developed the concept in the late 1950s and it has been widely adopted in Japan and around the world since then.\\n\\n• Ishikawa (Cause-and-Effect) Diagram: This diagram, also known as the \"Fishbone Diagram,\" is a tool used to help identify and analyze potential causes of problems. It was developed by Ishikawa in the 1960s and has since become a mainstay of quality management practices.\\n\\n• Next Process Is Your Customer: This philosophy, coined by Ishikawa, emphasizes the importance of focusing on the customer in the process of quality improvement. It stresses the need to continually improve the quality of products and services by meeting customer needs and expectations.\\n\\nOverall'"
            ],
            "application/vnd.google.colaboratory.intrinsic+json": {
              "type": "string"
            }
          },
          "metadata": {},
          "execution_count": 204
        }
      ]
    },
    {
      "cell_type": "markdown",
      "source": [
        "## V. The Role of the Japanese Union of Scientists and Engineers (JUSE)\n",
        "- Background of JUSE and its role in the development of quality management in Japan\n",
        "- Introduction of the Deming Prize by JUSE and its significance\n",
        "- JUSE's role in promoting TQM and its principles in Japan and globally\n"
      ],
      "metadata": {
        "id": "DqjyPiaQwvf0"
      }
    },
    {
      "cell_type": "code",
      "source": [
        "query = \"write about:The Role of Kaoru Ishikawa in the Development of TQM - Background of JUSE and its role in the development of quality management in Japan\"\n",
        "qa.run(query)"
      ],
      "metadata": {
        "colab": {
          "base_uri": "https://localhost:8080/",
          "height": 160
        },
        "id": "JohRVdzsQPFd",
        "outputId": "17aa0606-492f-408c-9b0c-3780f6b5e435"
      },
      "execution_count": 205,
      "outputs": [
        {
          "output_type": "execute_result",
          "data": {
            "text/plain": [
              "\"Kaoru Ishikawa was an influential figure in the development of Total Quality Management (TQM). He was a professor at Gunma University and a part-time lecturer at the Japanese Union of Scientists and Engineers (JUSE). Ishikawa's background and career, his contribution to the development of Quality Circles, the development and importance of the Ishikawa (cause-and-effect) Diagram, and his philosophical contribution to TQM are all important aspects of his impact on the development of TQM.\\n\\nBackground of JUSE and its Role in the Development of Quality Management in Japan\\n\\nThe Japanese Union of Scientists and Engineers (JUSE) was founded in 1949 to promote the scientific and technological development of Japan. JUSE played a significant role in the development of quality management in Japan, including hosting seminars and other activities promoting quality control. \\n\\nIn 1965, JUSE held the Quality Control (QC) and Standardization Seminar, and established the Award of the Excellent Factories in Implementation of Industrial Standardization. These initiatives were aimed at encouraging quality management practices in Japan. \\n\\nIn 1971, JUSE organized the first QC Overseas Research Team, led by Ishikawa. During this trip, Ishikawa introduced the concepts of Quality\""
            ],
            "application/vnd.google.colaboratory.intrinsic+json": {
              "type": "string"
            }
          },
          "metadata": {},
          "execution_count": 205
        }
      ]
    },
    {
      "cell_type": "code",
      "source": [
        "query = \"write about:The Role of Kaoru Ishikawa in the Development of TQM - ntroduction of the Deming Prize by JUSE and its significance\"\n",
        "qa.run(query)"
      ],
      "metadata": {
        "colab": {
          "base_uri": "https://localhost:8080/",
          "height": 160
        },
        "id": "h9hAzQMrQXkT",
        "outputId": "611c083f-7e50-425b-e6bd-2ddc8c2a014a"
      },
      "execution_count": 206,
      "outputs": [
        {
          "output_type": "execute_result",
          "data": {
            "text/plain": [
              "\"Kaoru Ishikawa's contributions to the development of Total Quality Management (TQM) are extensive and have had a lasting impact. His work, alongside that of the Japanese Union of Scientists and Engineers (JUSE), helped shape the modern quality management landscape. \\n\\nIshikawa was a Japanese professor and business executive who is widely credited with popularizing the concept of TQM. He developed several influential quality management tools such as the Ishikawa (cause-and-effect) Diagram and Quality Circles. He also introduced the concept of the ‘next process is your customer’, which emphasizes the importance of customer satisfaction in the production process. Additionally, he was involved in the establishment the Deming Prize in 1951, which is an award for excellence in quality control given by JUSE.\\n\\nIshikawa's work has had a lasting impact on the field of quality management. His tools and methods are still widely used today, and his philosophy of customer satisfaction continues to be influential. JUSE's establishment of the Deming Prize has also had a significant impact, as it has helped promote TQM and its principles to a global audience and encouraged organizations to strive for excellence in quality control. \\n\\nIn summary, Kaoru Ishikawa and\""
            ],
            "application/vnd.google.colaboratory.intrinsic+json": {
              "type": "string"
            }
          },
          "metadata": {},
          "execution_count": 206
        }
      ]
    },
    {
      "cell_type": "code",
      "source": [
        "query = \"write about:The Role of Kaoru Ishikawa in the Development of TQM - JUSE's role in promoting TQM and its principles in Japan and globally\"\n",
        "qa.run(query)"
      ],
      "metadata": {
        "colab": {
          "base_uri": "https://localhost:8080/",
          "height": 160
        },
        "id": "johXbNb7QXvd",
        "outputId": "8ac2aa0a-c149-4b97-c177-2aedc0eb83b5"
      },
      "execution_count": 207,
      "outputs": [
        {
          "output_type": "execute_result",
          "data": {
            "text/plain": [
              "'Kaoru Ishikawa was a critical figure in the development and evolution of Total Quality Management (TQM). He was a renowned professor and quality management consultant who made lasting contributions to the field of quality management. He was a leader in the Japanese Union of Scientists and Engineers (JUSE) and his work was instrumental in promoting TQM in Japan and around the world.\\n\\nJUSE was a key player in the development of TQM. JUSE was established in 1946 and was charged with developing and promoting TQM in Japan. JUSE held the QC and Standardization Seminar in 1950 and established the Award of the Excellent Factories in Implementation of Industrial Standardization, the Award of the Minister of International Trade and Industry, the Award of Director-General of Agency of Industrial Science and Technology for the Excellent Factory in Implementation of Industrial Standardization and the Award of the Director-General of the Regional Bureau of International Trade and Industry for the Excellent Factory in Implementation of Industrial Standardization in 1951.\\n\\nKaoru Ishikawa was a major contributor to the development of TQM. He joined JUSE in 1957 and became a part-time lecturer at Gunma University in 1966. He published Introduction to Quality Control in 1972 and How to Operate QC Circle Activities'"
            ],
            "application/vnd.google.colaboratory.intrinsic+json": {
              "type": "string"
            }
          },
          "metadata": {},
          "execution_count": 207
        }
      ]
    },
    {
      "cell_type": "markdown",
      "source": [
        "## VI. The Impact of TQM, Ishikawa, and JUSE on Contemporary Business Practices\n",
        "- Analysis of the role TQM plays in today's business and management practices\n",
        "- The legacy of Ishikawa's methods and tools in current quality management\n",
        "- Influence of JUSE's principles in contemporary quality initiatives and awards\n"
      ],
      "metadata": {
        "id": "0KeRuCyHwzH3"
      }
    },
    {
      "cell_type": "code",
      "source": [
        "query = \"write about: The Impact of TQM, Ishikawa, and JUSE on Contemporary Business Practices - Analysis of the role TQM plays in today's business and management practices\"\n",
        "qa.run(query)"
      ],
      "metadata": {
        "colab": {
          "base_uri": "https://localhost:8080/",
          "height": 160
        },
        "id": "LjtqA2oEQfXh",
        "outputId": "24168ea5-5e70-46cd-87b2-e2087732d2c7"
      },
      "execution_count": 208,
      "outputs": [
        {
          "output_type": "execute_result",
          "data": {
            "text/plain": [
              "'Total Quality Management (TQM) has had a major impact on contemporary business practices. It is a philosophy and set of principles that emphasize the importance of quality in all aspects of business operations. TQM encourages the use of data-driven decision-making, continuous improvement, and customer satisfaction.\\n\\nKaoru Ishikawa and the Japanese Union of Scientists and Engineers (JUSE) played a pivotal role in the development of TQM. In the years following World War II, Ishikawa and JUSE developed a number of quality improvement tools and methods that are still widely used today. These include the Ishikawa (cause-and-effect) Diagram, Quality Circles, and the Deming Prize.\\n\\nThe following table outlines the major impacts of TQM, Ishikawa, and JUSE on contemporary business practices:\\n\\n| Impact | Description |\\n| :--- | :--- |\\n| Data-driven Decision-Making | TQM encourages businesses to use data to make informed decisions about their operations. This includes gathering data on customer satisfaction, employee performance, and process efficiency. |\\n| Continuous Improvement | TQM emphasizes the importance of continuous improvement and the idea that mistakes should be seen as opportunities for learning and improvement.|\\n'"
            ],
            "application/vnd.google.colaboratory.intrinsic+json": {
              "type": "string"
            }
          },
          "metadata": {},
          "execution_count": 208
        }
      ]
    },
    {
      "cell_type": "code",
      "source": [
        "query = \"write about: The Impact of TQM, Ishikawa, and JUSE on Contemporary Business Practices - The legacy of Ishikawa's methods and tools in current quality management\"\n",
        "qa.run(query)"
      ],
      "metadata": {
        "colab": {
          "base_uri": "https://localhost:8080/",
          "height": 160
        },
        "id": "EKRIA6wUQlQl",
        "outputId": "a395ccdb-cfae-4a1c-a0c5-572ab8a13b1e"
      },
      "execution_count": 209,
      "outputs": [
        {
          "output_type": "execute_result",
          "data": {
            "text/plain": [
              "\"The legacy of Kaoru Ishikawa's methods and tools in current quality management are evident in the global business landscape. His influence has been wide-reaching, and his contributions have had a lasting impact on business practices. \\n\\nIshikawa's contributions to quality management are numerous, but the following are particularly noteworthy: \\n\\n* Quality Circles: Ishikawa developed the concept of Quality Circles in the early 1960s, and the practice has since been widely adopted throughout the world. Quality Circles are a collaborative approach to problem-solving and process improvement, in which teams of employees come together to identify and address quality issues.\\n\\n* Ishikawa (Cause-and-Effect) Diagram: Ishikawa is credited with the development of the Ishikawa (cause-and-effect) diagram in the late 1960s. This simple graphical tool helps to identify the root causes of problems and to find solutions. It is still widely used in quality management today.\\n\\n* Next Process is Your Customer: Ishikawa coined the phrase “the next process is your customer” as a way of emphasizing the importance of customer satisfaction in quality management. This phrase has become a cornerstone of quality management, and it is still used to remind organizations of the importance of\""
            ],
            "application/vnd.google.colaboratory.intrinsic+json": {
              "type": "string"
            }
          },
          "metadata": {},
          "execution_count": 209
        }
      ]
    },
    {
      "cell_type": "code",
      "source": [
        "query = \"write about: The Impact of TQM, Ishikawa, and JUSE on Contemporary Business Practices - Influence of JUSE's principles in contemporary quality initiatives and awards\"\n",
        "qa.run(query)"
      ],
      "metadata": {
        "colab": {
          "base_uri": "https://localhost:8080/",
          "height": 160
        },
        "id": "UOfr9BSqQlYY",
        "outputId": "56ce07e4-1a2b-4507-8b58-6a2d6e79d213"
      },
      "execution_count": 210,
      "outputs": [
        {
          "output_type": "execute_result",
          "data": {
            "text/plain": [
              "'\\nThe Impact of TQM, Ishikawa, and JUSE on Contemporary Business Practices\\n\\nThe legacy of Kaoru Ishikawa, the Japanese Union of Scientists and Engineers (JUSE), and total quality management (TQM) have had a profound impact on contemporary business practices. While Ishikawa and JUSE laid the foundation for modern quality management in the 1950s and 1960s, their influence is still felt in today’s business. Here is an overview of the influence of JUSE’s principles in contemporary quality initiatives and awards:\\n\\n• Deming Prize: Established by JUSE in 1951, the Deming Prize is the oldest and most prestigious quality management award in the world. It is awarded annually to recognize outstanding achievements in quality control and improvements in business performance.\\n\\n• ISO/TC 69: JUSE played a major role in establishing the ISO/TC 69 standard in 1980. This standard is used to ensure the quality of products and services in all industries around the world.\\n\\n• International Standardization Activities Cooperation Center: Founded by JUSE in 1982, the International Standardization Activities Cooperation Center promotes the development of international standards through symposia, seminars, and research activities.\\n\\n• Award of the Excellent Factories'"
            ],
            "application/vnd.google.colaboratory.intrinsic+json": {
              "type": "string"
            }
          },
          "metadata": {},
          "execution_count": 210
        }
      ]
    },
    {
      "cell_type": "markdown",
      "source": [
        "## VII. Conclusion\n",
        "- Summary of the importance and influence of TQM, Ishikawa, and JUSE in the field of quality management\n",
        "- Restatement of Thesis\n",
        "- Future implications of the principles and practices of TQM, Ishikawa, and JUSE in the global business landscape"
      ],
      "metadata": {
        "id": "FUefWHRXw1lo"
      }
    },
    {
      "cell_type": "code",
      "source": [
        "query = \"write about: Summary of the importance and influence of TQM, Ishikawa, and JUSE in the field of quality management\"\n",
        "qa.run(query)"
      ],
      "metadata": {
        "colab": {
          "base_uri": "https://localhost:8080/",
          "height": 178
        },
        "id": "hbrwO1FjQt-x",
        "outputId": "5e7020f5-717f-4e6b-cfdd-a7dc8471ad81"
      },
      "execution_count": 211,
      "outputs": [
        {
          "output_type": "execute_result",
          "data": {
            "text/plain": [
              "'Kaoru Ishikawa and the Japanese Union of Scientists and Engineers (JUSE) have had a significant impact on the field of Quality Management. \\n\\nTQM, Ishikawa, and JUSE have contributed to the development of Quality Management principles and practices that are used globally today. \\n\\nTQM was first developed in Japan in the 1950s as a response to the need for efficient, cost-effective production in the post-World War II era. It was based on the principles of quality circles, management by objectives, and statistical quality control, which were popularized by Kaoru Ishikawa and his work with JUSE.\\n\\nIshikawa was a key figure in the development of TQM and is credited with introducing the Ishikawa (cause-and-effect) Diagram, which is still used today in quality management initiatives. He also developed the concept of “next process is your customer”, which emphasizes the importance of customer satisfaction in quality management. \\n\\nJUSE has played an important role in promoting TQM and its principles in Japan and globally. It established the Deming Prize, which is still awarded today as a recognition of excellence in quality management. It has also supported the development of quality initiatives such as'"
            ],
            "application/vnd.google.colaboratory.intrinsic+json": {
              "type": "string"
            }
          },
          "metadata": {},
          "execution_count": 211
        }
      ]
    },
    {
      "cell_type": "code",
      "source": [
        "query = \"Restatement of Thesis\"\n",
        "qa.run(query)"
      ],
      "metadata": {
        "colab": {
          "base_uri": "https://localhost:8080/",
          "height": 178
        },
        "id": "21Dc7sBtR76L",
        "outputId": "cf58b4c5-bd3d-45ec-eb25-b6872cc55af8"
      },
      "execution_count": 212,
      "outputs": [
        {
          "output_type": "execute_result",
          "data": {
            "text/plain": [
              "\"\\nThe thesis of this paper is that Total Quality Management (TQM), Kaoru Ishikawa, and the Japanese Union of Scientists and Engineers (JUSE) have had a significant impact on contemporary business practices. \\n\\nTo support this thesis, this paper outlines:\\n\\n- Definition of Total Quality Management (TQM)\\n- Introduction to Kaoru Ishikawa and the Japanese Union of Scientists and Engineers (JUSE)\\n- Overview of the principles and practices of TQM\\n- The role of TQM in post-World War II Japan's industrial comeback\\n- Adoption and evolution of TQM in the United States and around the world\\n- Introduction to Ishikawa: his background and career\\n- Ishikawa's contribution to the development of Quality Circles\\n- The development and importance of the Ishikawa (cause-and-effect) Diagram\\n- Ishikawa's philosophical contribution to TQM: the 'next process is your customer'\\n- Background of JUSE and its role in the development of quality management in Japan\\n- Introduction of the Deming Prize by JUSE and its significance\\n- JUSE's role in promoting TQM and its principles in Japan and globally\\n- Analysis of the role TQ\""
            ],
            "application/vnd.google.colaboratory.intrinsic+json": {
              "type": "string"
            }
          },
          "metadata": {},
          "execution_count": 212
        }
      ]
    },
    {
      "cell_type": "code",
      "source": [
        "query = \"write about: Future implications of the principles and practices of TQM, Ishikawa, and JUSE in the global business landscape\"\n",
        "qa.run(query)"
      ],
      "metadata": {
        "colab": {
          "base_uri": "https://localhost:8080/",
          "height": 160
        },
        "id": "1JwgKM5vR8EU",
        "outputId": "5d72f48f-7fc3-404e-f804-eb714e9eeb65"
      },
      "execution_count": 213,
      "outputs": [
        {
          "output_type": "execute_result",
          "data": {
            "text/plain": [
              "'The future implications of the principles and practices of TQM, Ishikawa, and JUSE in the global business landscape will be far-reaching. As quality management continues to become increasingly important for organizations around the world, the contributions of these three groups will help to shape the future of the industry. \\n\\nThe principles of TQM, developed by Kaoru Ishikawa and the Japanese Union of Scientists and Engineers (JUSE), have become the foundation for modern quality management systems. The focus on process improvement, customer satisfaction, and continuous learning has become a cornerstone of the industry. By continuing to emphasize these principles, organizations will be able to create more efficient processes and deliver higher quality products and services. \\n\\nIshikawa’s methods and tools, such as the Ishikawa (cause-and-effect) Diagram and Quality Circles, are also providing organizations with the tools they need to improve their processes and increase customer satisfaction. By utilizing these tools, organizations can identify and address potential issues quickly and effectively. \\n\\nFinally, JUSE’s role in promoting TQM and its principles in Japan and globally has been essential. Through the creation of the Deming Prize, JUSE has been able to recognize and reward organizations that have'"
            ],
            "application/vnd.google.colaboratory.intrinsic+json": {
              "type": "string"
            }
          },
          "metadata": {},
          "execution_count": 213
        }
      ]
    }
  ]
}