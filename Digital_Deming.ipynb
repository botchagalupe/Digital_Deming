{
  "nbformat": 4,
  "nbformat_minor": 0,
  "metadata": {
    "colab": {
      "provenance": [],
      "authorship_tag": "ABX9TyNvJMYcQWPLWxUpBn0GvZmL",
      "include_colab_link": true
    },
    "kernelspec": {
      "name": "python3",
      "display_name": "Python 3"
    },
    "language_info": {
      "name": "python"
    }
  },
  "cells": [
    {
      "cell_type": "markdown",
      "metadata": {
        "id": "view-in-github",
        "colab_type": "text"
      },
      "source": [
        "<a href=\"https://colab.research.google.com/github/colinmcnamara/Digital_Deming/blob/main/Digital_Deming.ipynb\" target=\"_parent\"><img src=\"https://colab.research.google.com/assets/colab-badge.svg\" alt=\"Open In Colab\"/></a>"
      ]
    },
    {
      "cell_type": "markdown",
      "source": [
        "# Set up your local environment \n",
        "\n",
        "On intial run of \"import colab_env\" it will create vars.env in the root of your Google Drive\n",
        "\n",
        "COLAB_ENV = Active\n",
        "\n",
        "export OPENAI_API_KEY = \"your_key\"\n",
        "\n",
        "export SERPAPI_API_KEY = \"your_key\"\n"
      ],
      "metadata": {
        "id": "MYHpBGCb9huK"
      }
    },
    {
      "cell_type": "markdown",
      "source": [
        "Install my local packages"
      ],
      "metadata": {
        "id": "s18SqtmEhRfZ"
      }
    },
    {
      "cell_type": "code",
      "execution_count": 1,
      "metadata": {
        "colab": {
          "base_uri": "https://localhost:8080/"
        },
        "id": "kLG6Xcprwh9m",
        "outputId": "b52bb7cf-45d3-4251-c7ff-710d83bb8a7b"
      },
      "outputs": [
        {
          "output_type": "stream",
          "name": "stdout",
          "text": [
            "Looking in indexes: https://pypi.org/simple, https://us-python.pkg.dev/colab-wheels/public/simple/\n",
            "Collecting OpenAI\n",
            "  Downloading openai-0.27.8-py3-none-any.whl (73 kB)\n",
            "\u001b[2K     \u001b[90m━━━━━━━━━━━━━━━━━━━━━━━━━━━━━━━━━━━━━━━━\u001b[0m \u001b[32m73.6/73.6 kB\u001b[0m \u001b[31m2.7 MB/s\u001b[0m eta \u001b[36m0:00:00\u001b[0m\n",
            "\u001b[?25hCollecting langchain\n",
            "  Downloading langchain-0.0.195-py3-none-any.whl (1.0 MB)\n",
            "\u001b[2K     \u001b[90m━━━━━━━━━━━━━━━━━━━━━━━━━━━━━━━━━━━━━━━━\u001b[0m \u001b[32m1.0/1.0 MB\u001b[0m \u001b[31m20.8 MB/s\u001b[0m eta \u001b[36m0:00:00\u001b[0m\n",
            "\u001b[?25hRequirement already satisfied: pydantic in /usr/local/lib/python3.10/dist-packages (1.10.7)\n",
            "Collecting faiss-gpu\n",
            "  Downloading faiss_gpu-1.7.2-cp310-cp310-manylinux_2_17_x86_64.manylinux2014_x86_64.whl (85.5 MB)\n",
            "\u001b[2K     \u001b[90m━━━━━━━━━━━━━━━━━━━━━━━━━━━━━━━━━━━━━━━━\u001b[0m \u001b[32m85.5/85.5 MB\u001b[0m \u001b[31m8.6 MB/s\u001b[0m eta \u001b[36m0:00:00\u001b[0m\n",
            "\u001b[?25hCollecting colab-env\n",
            "  Downloading colab-env-0.2.0.tar.gz (4.7 kB)\n",
            "  Preparing metadata (setup.py) ... \u001b[?25l\u001b[?25hdone\n",
            "Collecting unstructured\n",
            "  Downloading unstructured-0.7.2-py3-none-any.whl (1.3 MB)\n",
            "\u001b[2K     \u001b[90m━━━━━━━━━━━━━━━━━━━━━━━━━━━━━━━━━━━━━━━━\u001b[0m \u001b[32m1.3/1.3 MB\u001b[0m \u001b[31m68.8 MB/s\u001b[0m eta \u001b[36m0:00:00\u001b[0m\n",
            "\u001b[?25hCollecting chromadb\n",
            "  Downloading chromadb-0.3.26-py3-none-any.whl (123 kB)\n",
            "\u001b[2K     \u001b[90m━━━━━━━━━━━━━━━━━━━━━━━━━━━━━━━━━━━━━━\u001b[0m \u001b[32m123.6/123.6 kB\u001b[0m \u001b[31m14.9 MB/s\u001b[0m eta \u001b[36m0:00:00\u001b[0m\n",
            "\u001b[?25hCollecting tiktoken\n",
            "  Downloading tiktoken-0.4.0-cp310-cp310-manylinux_2_17_x86_64.manylinux2014_x86_64.whl (1.7 MB)\n",
            "\u001b[2K     \u001b[90m━━━━━━━━━━━━━━━━━━━━━━━━━━━━━━━━━━━━━━━━\u001b[0m \u001b[32m1.7/1.7 MB\u001b[0m \u001b[31m71.4 MB/s\u001b[0m eta \u001b[36m0:00:00\u001b[0m\n",
            "\u001b[?25hCollecting pdf2image\n",
            "  Downloading pdf2image-1.16.3-py3-none-any.whl (11 kB)\n",
            "Requirement already satisfied: requests>=2.20 in /usr/local/lib/python3.10/dist-packages (from OpenAI) (2.27.1)\n",
            "Requirement already satisfied: tqdm in /usr/local/lib/python3.10/dist-packages (from OpenAI) (4.65.0)\n",
            "Collecting aiohttp (from OpenAI)\n",
            "  Downloading aiohttp-3.8.4-cp310-cp310-manylinux_2_17_x86_64.manylinux2014_x86_64.whl (1.0 MB)\n",
            "\u001b[2K     \u001b[90m━━━━━━━━━━━━━━━━━━━━━━━━━━━━━━━━━━━━━━━━\u001b[0m \u001b[32m1.0/1.0 MB\u001b[0m \u001b[31m67.5 MB/s\u001b[0m eta \u001b[36m0:00:00\u001b[0m\n",
            "\u001b[?25hRequirement already satisfied: PyYAML>=5.4.1 in /usr/local/lib/python3.10/dist-packages (from langchain) (6.0)\n",
            "Requirement already satisfied: SQLAlchemy<3,>=1.4 in /usr/local/lib/python3.10/dist-packages (from langchain) (2.0.10)\n",
            "Collecting async-timeout<5.0.0,>=4.0.0 (from langchain)\n",
            "  Downloading async_timeout-4.0.2-py3-none-any.whl (5.8 kB)\n",
            "Collecting dataclasses-json<0.6.0,>=0.5.7 (from langchain)\n",
            "  Downloading dataclasses_json-0.5.7-py3-none-any.whl (25 kB)\n",
            "Collecting langchainplus-sdk>=0.0.7 (from langchain)\n",
            "  Downloading langchainplus_sdk-0.0.7-py3-none-any.whl (22 kB)\n",
            "Requirement already satisfied: numexpr<3.0.0,>=2.8.4 in /usr/local/lib/python3.10/dist-packages (from langchain) (2.8.4)\n",
            "Requirement already satisfied: numpy<2,>=1 in /usr/local/lib/python3.10/dist-packages (from langchain) (1.22.4)\n",
            "Collecting openapi-schema-pydantic<2.0,>=1.2 (from langchain)\n",
            "  Downloading openapi_schema_pydantic-1.2.4-py3-none-any.whl (90 kB)\n",
            "\u001b[2K     \u001b[90m━━━━━━━━━━━━━━━━━━━━━━━━━━━━━━━━━━━━━━━━\u001b[0m \u001b[32m90.0/90.0 kB\u001b[0m \u001b[31m10.9 MB/s\u001b[0m eta \u001b[36m0:00:00\u001b[0m\n",
            "\u001b[?25hRequirement already satisfied: tenacity<9.0.0,>=8.1.0 in /usr/local/lib/python3.10/dist-packages (from langchain) (8.2.2)\n",
            "Requirement already satisfied: typing-extensions>=4.2.0 in /usr/local/lib/python3.10/dist-packages (from pydantic) (4.5.0)\n",
            "Collecting python-dotenv<1.0,>=0.10.0 (from colab-env)\n",
            "  Downloading python_dotenv-0.21.1-py3-none-any.whl (19 kB)\n",
            "Collecting argilla (from unstructured)\n",
            "  Downloading argilla-1.9.0-py3-none-any.whl (2.5 MB)\n",
            "\u001b[2K     \u001b[90m━━━━━━━━━━━━━━━━━━━━━━━━━━━━━━━━━━━━━━━━\u001b[0m \u001b[32m2.5/2.5 MB\u001b[0m \u001b[31m45.5 MB/s\u001b[0m eta \u001b[36m0:00:00\u001b[0m\n",
            "\u001b[?25hRequirement already satisfied: chardet in /usr/local/lib/python3.10/dist-packages (from unstructured) (4.0.0)\n",
            "Requirement already satisfied: lxml in /usr/local/lib/python3.10/dist-packages (from unstructured) (4.9.2)\n",
            "Collecting msg-parser (from unstructured)\n",
            "  Downloading msg_parser-1.2.0-py2.py3-none-any.whl (101 kB)\n",
            "\u001b[2K     \u001b[90m━━━━━━━━━━━━━━━━━━━━━━━━━━━━━━━━━━━━━━\u001b[0m \u001b[32m101.8/101.8 kB\u001b[0m \u001b[31m12.9 MB/s\u001b[0m eta \u001b[36m0:00:00\u001b[0m\n",
            "\u001b[?25hRequirement already satisfied: nltk in /usr/local/lib/python3.10/dist-packages (from unstructured) (3.8.1)\n",
            "Requirement already satisfied: openpyxl in /usr/local/lib/python3.10/dist-packages (from unstructured) (3.0.10)\n",
            "Requirement already satisfied: pandas in /usr/local/lib/python3.10/dist-packages (from unstructured) (1.5.3)\n",
            "Collecting pdfminer.six (from unstructured)\n",
            "  Downloading pdfminer.six-20221105-py3-none-any.whl (5.6 MB)\n",
            "\u001b[2K     \u001b[90m━━━━━━━━━━━━━━━━━━━━━━━━━━━━━━━━━━━━━━━━\u001b[0m \u001b[32m5.6/5.6 MB\u001b[0m \u001b[31m77.9 MB/s\u001b[0m eta \u001b[36m0:00:00\u001b[0m\n",
            "\u001b[?25hRequirement already satisfied: pillow in /usr/local/lib/python3.10/dist-packages (from unstructured) (8.4.0)\n",
            "Collecting pypandoc (from unstructured)\n",
            "  Downloading pypandoc-1.11-py3-none-any.whl (20 kB)\n",
            "Collecting python-docx (from unstructured)\n",
            "  Downloading python-docx-0.8.11.tar.gz (5.6 MB)\n",
            "\u001b[2K     \u001b[90m━━━━━━━━━━━━━━━━━━━━━━━━━━━━━━━━━━━━━━━━\u001b[0m \u001b[32m5.6/5.6 MB\u001b[0m \u001b[31m85.4 MB/s\u001b[0m eta \u001b[36m0:00:00\u001b[0m\n",
            "\u001b[?25h  Preparing metadata (setup.py) ... \u001b[?25l\u001b[?25hdone\n",
            "Collecting python-pptx (from unstructured)\n",
            "  Downloading python-pptx-0.6.21.tar.gz (10.1 MB)\n",
            "\u001b[2K     \u001b[90m━━━━━━━━━━━━━━━━━━━━━━━━━━━━━━━━━━━━━━━━\u001b[0m \u001b[32m10.1/10.1 MB\u001b[0m \u001b[31m91.3 MB/s\u001b[0m eta \u001b[36m0:00:00\u001b[0m\n",
            "\u001b[?25h  Preparing metadata (setup.py) ... \u001b[?25l\u001b[?25hdone\n",
            "Collecting python-magic (from unstructured)\n",
            "  Downloading python_magic-0.4.27-py2.py3-none-any.whl (13 kB)\n",
            "Requirement already satisfied: markdown in /usr/local/lib/python3.10/dist-packages (from unstructured) (3.4.3)\n",
            "Requirement already satisfied: tabulate in /usr/local/lib/python3.10/dist-packages (from unstructured) (0.8.10)\n",
            "Requirement already satisfied: xlrd in /usr/local/lib/python3.10/dist-packages (from unstructured) (2.0.1)\n",
            "Collecting requests>=2.20 (from OpenAI)\n",
            "  Downloading requests-2.31.0-py3-none-any.whl (62 kB)\n",
            "\u001b[2K     \u001b[90m━━━━━━━━━━━━━━━━━━━━━━━━━━━━━━━━━━━━━━━━\u001b[0m \u001b[32m62.6/62.6 kB\u001b[0m \u001b[31m7.7 MB/s\u001b[0m eta \u001b[36m0:00:00\u001b[0m\n",
            "\u001b[?25hCollecting hnswlib>=0.7 (from chromadb)\n",
            "  Downloading hnswlib-0.7.0.tar.gz (33 kB)\n",
            "  Installing build dependencies ... \u001b[?25l\u001b[?25hdone\n",
            "  Getting requirements to build wheel ... \u001b[?25l\u001b[?25hdone\n",
            "  Preparing metadata (pyproject.toml) ... \u001b[?25l\u001b[?25hdone\n",
            "Collecting clickhouse-connect>=0.5.7 (from chromadb)\n",
            "  Downloading clickhouse_connect-0.6.1-cp310-cp310-manylinux_2_17_x86_64.manylinux2014_x86_64.whl (938 kB)\n",
            "\u001b[2K     \u001b[90m━━━━━━━━━━━━━━━━━━━━━━━━━━━━━━━━━━━━━━\u001b[0m \u001b[32m938.7/938.7 kB\u001b[0m \u001b[31m61.5 MB/s\u001b[0m eta \u001b[36m0:00:00\u001b[0m\n",
            "\u001b[?25hRequirement already satisfied: duckdb>=0.7.1 in /usr/local/lib/python3.10/dist-packages (from chromadb) (0.7.1)\n",
            "Collecting fastapi>=0.85.1 (from chromadb)\n",
            "  Downloading fastapi-0.96.0-py3-none-any.whl (57 kB)\n",
            "\u001b[2K     \u001b[90m━━━━━━━━━━━━━━━━━━━━━━━━━━━━━━━━━━━━━━━━\u001b[0m \u001b[32m57.1/57.1 kB\u001b[0m \u001b[31m7.0 MB/s\u001b[0m eta \u001b[36m0:00:00\u001b[0m\n",
            "\u001b[?25hCollecting uvicorn[standard]>=0.18.3 (from chromadb)\n",
            "  Downloading uvicorn-0.22.0-py3-none-any.whl (58 kB)\n",
            "\u001b[2K     \u001b[90m━━━━━━━━━━━━━━━━━━━━━━━━━━━━━━━━━━━━━━━━\u001b[0m \u001b[32m58.3/58.3 kB\u001b[0m \u001b[31m7.0 MB/s\u001b[0m eta \u001b[36m0:00:00\u001b[0m\n",
            "\u001b[?25hCollecting posthog>=2.4.0 (from chromadb)\n",
            "  Downloading posthog-3.0.1-py2.py3-none-any.whl (37 kB)\n",
            "Collecting pulsar-client>=3.1.0 (from chromadb)\n",
            "  Downloading pulsar_client-3.2.0-cp310-cp310-manylinux_2_17_x86_64.manylinux2014_x86_64.whl (5.3 MB)\n",
            "\u001b[2K     \u001b[90m━━━━━━━━━━━━━━━━━━━━━━━━━━━━━━━━━━━━━━━━\u001b[0m \u001b[32m5.3/5.3 MB\u001b[0m \u001b[31m81.2 MB/s\u001b[0m eta \u001b[36m0:00:00\u001b[0m\n",
            "\u001b[?25hCollecting onnxruntime>=1.14.1 (from chromadb)\n",
            "  Downloading onnxruntime-1.15.0-cp310-cp310-manylinux_2_17_x86_64.manylinux2014_x86_64.whl (5.9 MB)\n",
            "\u001b[2K     \u001b[90m━━━━━━━━━━━━━━━━━━━━━━━━━━━━━━━━━━━━━━━━\u001b[0m \u001b[32m5.9/5.9 MB\u001b[0m \u001b[31m54.3 MB/s\u001b[0m eta \u001b[36m0:00:00\u001b[0m\n",
            "\u001b[?25hCollecting tokenizers>=0.13.2 (from chromadb)\n",
            "  Downloading tokenizers-0.13.3-cp310-cp310-manylinux_2_17_x86_64.manylinux2014_x86_64.whl (7.8 MB)\n",
            "\u001b[2K     \u001b[90m━━━━━━━━━━━━━━━━━━━━━━━━━━━━━━━━━━━━━━━━\u001b[0m \u001b[32m7.8/7.8 MB\u001b[0m \u001b[31m63.7 MB/s\u001b[0m eta \u001b[36m0:00:00\u001b[0m\n",
            "\u001b[?25hCollecting overrides>=7.3.1 (from chromadb)\n",
            "  Downloading overrides-7.3.1-py3-none-any.whl (17 kB)\n",
            "Requirement already satisfied: regex>=2022.1.18 in /usr/local/lib/python3.10/dist-packages (from tiktoken) (2022.10.31)\n",
            "Requirement already satisfied: attrs>=17.3.0 in /usr/local/lib/python3.10/dist-packages (from aiohttp->OpenAI) (23.1.0)\n",
            "Requirement already satisfied: charset-normalizer<4.0,>=2.0 in /usr/local/lib/python3.10/dist-packages (from aiohttp->OpenAI) (2.0.12)\n",
            "Collecting multidict<7.0,>=4.5 (from aiohttp->OpenAI)\n",
            "  Downloading multidict-6.0.4-cp310-cp310-manylinux_2_17_x86_64.manylinux2014_x86_64.whl (114 kB)\n",
            "\u001b[2K     \u001b[90m━━━━━━━━━━━━━━━━━━━━━━━━━━━━━━━━━━━━━━\u001b[0m \u001b[32m114.5/114.5 kB\u001b[0m \u001b[31m13.7 MB/s\u001b[0m eta \u001b[36m0:00:00\u001b[0m\n",
            "\u001b[?25hCollecting yarl<2.0,>=1.0 (from aiohttp->OpenAI)\n",
            "  Downloading yarl-1.9.2-cp310-cp310-manylinux_2_17_x86_64.manylinux2014_x86_64.whl (268 kB)\n",
            "\u001b[2K     \u001b[90m━━━━━━━━━━━━━━━━━━━━━━━━━━━━━━━━━━━━━━\u001b[0m \u001b[32m268.8/268.8 kB\u001b[0m \u001b[31m10.3 MB/s\u001b[0m eta \u001b[36m0:00:00\u001b[0m\n",
            "\u001b[?25hCollecting frozenlist>=1.1.1 (from aiohttp->OpenAI)\n",
            "  Downloading frozenlist-1.3.3-cp310-cp310-manylinux_2_5_x86_64.manylinux1_x86_64.manylinux_2_17_x86_64.manylinux2014_x86_64.whl (149 kB)\n",
            "\u001b[2K     \u001b[90m━━━━━━━━━━━━━━━━━━━━━━━━━━━━━━━━━━━━━━\u001b[0m \u001b[32m149.6/149.6 kB\u001b[0m \u001b[31m16.5 MB/s\u001b[0m eta \u001b[36m0:00:00\u001b[0m\n",
            "\u001b[?25hCollecting aiosignal>=1.1.2 (from aiohttp->OpenAI)\n",
            "  Downloading aiosignal-1.3.1-py3-none-any.whl (7.6 kB)\n",
            "Requirement already satisfied: certifi in /usr/local/lib/python3.10/dist-packages (from clickhouse-connect>=0.5.7->chromadb) (2022.12.7)\n",
            "Requirement already satisfied: urllib3>=1.26 in /usr/local/lib/python3.10/dist-packages (from clickhouse-connect>=0.5.7->chromadb) (1.26.15)\n",
            "Requirement already satisfied: pytz in /usr/local/lib/python3.10/dist-packages (from clickhouse-connect>=0.5.7->chromadb) (2022.7.1)\n",
            "Collecting zstandard (from clickhouse-connect>=0.5.7->chromadb)\n",
            "  Downloading zstandard-0.21.0-cp310-cp310-manylinux_2_17_x86_64.manylinux2014_x86_64.whl (2.7 MB)\n",
            "\u001b[2K     \u001b[90m━━━━━━━━━━━━━━━━━━━━━━━━━━━━━━━━━━━━━━━━\u001b[0m \u001b[32m2.7/2.7 MB\u001b[0m \u001b[31m57.4 MB/s\u001b[0m eta \u001b[36m0:00:00\u001b[0m\n",
            "\u001b[?25hCollecting lz4 (from clickhouse-connect>=0.5.7->chromadb)\n",
            "  Downloading lz4-4.3.2-cp310-cp310-manylinux_2_17_x86_64.manylinux2014_x86_64.whl (1.3 MB)\n",
            "\u001b[2K     \u001b[90m━━━━━━━━━━━━━━━━━━━━━━━━━━━━━━━━━━━━━━━━\u001b[0m \u001b[32m1.3/1.3 MB\u001b[0m \u001b[31m50.4 MB/s\u001b[0m eta \u001b[36m0:00:00\u001b[0m\n",
            "\u001b[?25hCollecting marshmallow<4.0.0,>=3.3.0 (from dataclasses-json<0.6.0,>=0.5.7->langchain)\n",
            "  Downloading marshmallow-3.19.0-py3-none-any.whl (49 kB)\n",
            "\u001b[2K     \u001b[90m━━━━━━━━━━━━━━━━━━━━━━━━━━━━━━━━━━━━━━━━\u001b[0m \u001b[32m49.1/49.1 kB\u001b[0m \u001b[31m5.2 MB/s\u001b[0m eta \u001b[36m0:00:00\u001b[0m\n",
            "\u001b[?25hCollecting marshmallow-enum<2.0.0,>=1.5.1 (from dataclasses-json<0.6.0,>=0.5.7->langchain)\n",
            "  Downloading marshmallow_enum-1.5.1-py2.py3-none-any.whl (4.2 kB)\n",
            "Collecting typing-inspect>=0.4.0 (from dataclasses-json<0.6.0,>=0.5.7->langchain)\n",
            "  Downloading typing_inspect-0.9.0-py3-none-any.whl (8.8 kB)\n",
            "Collecting starlette<0.28.0,>=0.27.0 (from fastapi>=0.85.1->chromadb)\n",
            "  Downloading starlette-0.27.0-py3-none-any.whl (66 kB)\n",
            "\u001b[2K     \u001b[90m━━━━━━━━━━━━━━━━━━━━━━━━━━━━━━━━━━━━━━━━\u001b[0m \u001b[32m67.0/67.0 kB\u001b[0m \u001b[31m8.0 MB/s\u001b[0m eta \u001b[36m0:00:00\u001b[0m\n",
            "\u001b[?25hCollecting coloredlogs (from onnxruntime>=1.14.1->chromadb)\n",
            "  Downloading coloredlogs-15.0.1-py2.py3-none-any.whl (46 kB)\n",
            "\u001b[2K     \u001b[90m━━━━━━━━━━━━━━━━━━━━━━━━━━━━━━━━━━━━━━━━\u001b[0m \u001b[32m46.0/46.0 kB\u001b[0m \u001b[31m5.8 MB/s\u001b[0m eta \u001b[36m0:00:00\u001b[0m\n",
            "\u001b[?25hRequirement already satisfied: flatbuffers in /usr/local/lib/python3.10/dist-packages (from onnxruntime>=1.14.1->chromadb) (23.3.3)\n",
            "Requirement already satisfied: packaging in /usr/local/lib/python3.10/dist-packages (from onnxruntime>=1.14.1->chromadb) (23.1)\n",
            "Requirement already satisfied: protobuf in /usr/local/lib/python3.10/dist-packages (from onnxruntime>=1.14.1->chromadb) (3.20.3)\n",
            "Requirement already satisfied: sympy in /usr/local/lib/python3.10/dist-packages (from onnxruntime>=1.14.1->chromadb) (1.11.1)\n",
            "Requirement already satisfied: python-dateutil>=2.8.1 in /usr/local/lib/python3.10/dist-packages (from pandas->unstructured) (2.8.2)\n",
            "Requirement already satisfied: six>=1.5 in /usr/local/lib/python3.10/dist-packages (from posthog>=2.4.0->chromadb) (1.16.0)\n",
            "Collecting monotonic>=1.5 (from posthog>=2.4.0->chromadb)\n",
            "  Downloading monotonic-1.6-py2.py3-none-any.whl (8.2 kB)\n",
            "Collecting backoff>=1.10.0 (from posthog>=2.4.0->chromadb)\n",
            "  Downloading backoff-2.2.1-py3-none-any.whl (15 kB)\n",
            "Requirement already satisfied: idna<4,>=2.5 in /usr/local/lib/python3.10/dist-packages (from requests>=2.20->OpenAI) (3.4)\n",
            "Requirement already satisfied: greenlet!=0.4.17 in /usr/local/lib/python3.10/dist-packages (from SQLAlchemy<3,>=1.4->langchain) (2.0.2)\n",
            "Requirement already satisfied: click>=7.0 in /usr/local/lib/python3.10/dist-packages (from uvicorn[standard]>=0.18.3->chromadb) (8.1.3)\n",
            "Collecting h11>=0.8 (from uvicorn[standard]>=0.18.3->chromadb)\n",
            "  Downloading h11-0.14.0-py3-none-any.whl (58 kB)\n",
            "\u001b[2K     \u001b[90m━━━━━━━━━━━━━━━━━━━━━━━━━━━━━━━━━━━━━━━━\u001b[0m \u001b[32m58.3/58.3 kB\u001b[0m \u001b[31m7.9 MB/s\u001b[0m eta \u001b[36m0:00:00\u001b[0m\n",
            "\u001b[?25hCollecting httptools>=0.5.0 (from uvicorn[standard]>=0.18.3->chromadb)\n",
            "  Downloading httptools-0.5.0-cp310-cp310-manylinux_2_5_x86_64.manylinux1_x86_64.manylinux_2_17_x86_64.manylinux2014_x86_64.whl (414 kB)\n",
            "\u001b[2K     \u001b[90m━━━━━━━━━━━━━━━━━━━━━━━━━━━━━━━━━━━━━━\u001b[0m \u001b[32m414.1/414.1 kB\u001b[0m \u001b[31m42.8 MB/s\u001b[0m eta \u001b[36m0:00:00\u001b[0m\n",
            "\u001b[?25hCollecting uvloop!=0.15.0,!=0.15.1,>=0.14.0 (from uvicorn[standard]>=0.18.3->chromadb)\n",
            "  Downloading uvloop-0.17.0-cp310-cp310-manylinux_2_17_x86_64.manylinux2014_x86_64.whl (4.1 MB)\n",
            "\u001b[2K     \u001b[90m━━━━━━━━━━━━━━━━━━━━━━━━━━━━━━━━━━━━━━━━\u001b[0m \u001b[32m4.1/4.1 MB\u001b[0m \u001b[31m75.3 MB/s\u001b[0m eta \u001b[36m0:00:00\u001b[0m\n",
            "\u001b[?25hCollecting watchfiles>=0.13 (from uvicorn[standard]>=0.18.3->chromadb)\n",
            "  Downloading watchfiles-0.19.0-cp37-abi3-manylinux_2_17_x86_64.manylinux2014_x86_64.whl (1.3 MB)\n",
            "\u001b[2K     \u001b[90m━━━━━━━━━━━━━━━━━━━━━━━━━━━━━━━━━━━━━━━━\u001b[0m \u001b[32m1.3/1.3 MB\u001b[0m \u001b[31m44.0 MB/s\u001b[0m eta \u001b[36m0:00:00\u001b[0m\n",
            "\u001b[?25hCollecting websockets>=10.4 (from uvicorn[standard]>=0.18.3->chromadb)\n",
            "  Downloading websockets-11.0.3-cp310-cp310-manylinux_2_5_x86_64.manylinux1_x86_64.manylinux_2_17_x86_64.manylinux2014_x86_64.whl (129 kB)\n",
            "\u001b[2K     \u001b[90m━━━━━━━━━━━━━━━━━━━━━━━━━━━━━━━━━━━━━━\u001b[0m \u001b[32m129.9/129.9 kB\u001b[0m \u001b[31m16.8 MB/s\u001b[0m eta \u001b[36m0:00:00\u001b[0m\n",
            "\u001b[?25hCollecting httpx<0.24,>=0.15 (from argilla->unstructured)\n",
            "  Downloading httpx-0.23.3-py3-none-any.whl (71 kB)\n",
            "\u001b[2K     \u001b[90m━━━━━━━━━━━━━━━━━━━━━━━━━━━━━━━━━━━━━━━━\u001b[0m \u001b[32m71.5/71.5 kB\u001b[0m \u001b[31m9.6 MB/s\u001b[0m eta \u001b[36m0:00:00\u001b[0m\n",
            "\u001b[?25hCollecting deprecated~=1.2.0 (from argilla->unstructured)\n",
            "  Downloading Deprecated-1.2.14-py2.py3-none-any.whl (9.6 kB)\n",
            "Requirement already satisfied: wrapt<1.15,>=1.13 in /usr/local/lib/python3.10/dist-packages (from argilla->unstructured) (1.14.1)\n",
            "Collecting rich<=13.0.1 (from argilla->unstructured)\n",
            "  Downloading rich-13.0.1-py3-none-any.whl (238 kB)\n",
            "\u001b[2K     \u001b[90m━━━━━━━━━━━━━━━━━━━━━━━━━━━━━━━━━━━━━━\u001b[0m \u001b[32m238.1/238.1 kB\u001b[0m \u001b[31m28.1 MB/s\u001b[0m eta \u001b[36m0:00:00\u001b[0m\n",
            "\u001b[?25hRequirement already satisfied: typer<1.0.0,>=0.6.0 in /usr/local/lib/python3.10/dist-packages (from argilla->unstructured) (0.7.0)\n",
            "Collecting olefile>=0.46 (from msg-parser->unstructured)\n",
            "  Downloading olefile-0.46.zip (112 kB)\n",
            "\u001b[2K     \u001b[90m━━━━━━━━━━━━━━━━━━━━━━━━━━━━━━━━━━━━━━\u001b[0m \u001b[32m112.2/112.2 kB\u001b[0m \u001b[31m12.4 MB/s\u001b[0m eta \u001b[36m0:00:00\u001b[0m\n",
            "\u001b[?25h  Preparing metadata (setup.py) ... \u001b[?25l\u001b[?25hdone\n",
            "Requirement already satisfied: joblib in /usr/local/lib/python3.10/dist-packages (from nltk->unstructured) (1.2.0)\n",
            "Requirement already satisfied: et-xmlfile in /usr/local/lib/python3.10/dist-packages (from openpyxl->unstructured) (1.1.0)\n",
            "Requirement already satisfied: cryptography>=36.0.0 in /usr/local/lib/python3.10/dist-packages (from pdfminer.six->unstructured) (40.0.2)\n",
            "Collecting XlsxWriter>=0.5.7 (from python-pptx->unstructured)\n",
            "  Downloading XlsxWriter-3.1.2-py3-none-any.whl (153 kB)\n",
            "\u001b[2K     \u001b[90m━━━━━━━━━━━━━━━━━━━━━━━━━━━━━━━━━━━━━━\u001b[0m \u001b[32m153.0/153.0 kB\u001b[0m \u001b[31m18.9 MB/s\u001b[0m eta \u001b[36m0:00:00\u001b[0m\n",
            "\u001b[?25hRequirement already satisfied: cffi>=1.12 in /usr/local/lib/python3.10/dist-packages (from cryptography>=36.0.0->pdfminer.six->unstructured) (1.15.1)\n",
            "Collecting httpcore<0.17.0,>=0.15.0 (from httpx<0.24,>=0.15->argilla->unstructured)\n",
            "  Downloading httpcore-0.16.3-py3-none-any.whl (69 kB)\n",
            "\u001b[2K     \u001b[90m━━━━━━━━━━━━━━━━━━━━━━━━━━━━━━━━━━━━━━━━\u001b[0m \u001b[32m69.6/69.6 kB\u001b[0m \u001b[31m8.3 MB/s\u001b[0m eta \u001b[36m0:00:00\u001b[0m\n",
            "\u001b[?25hCollecting rfc3986[idna2008]<2,>=1.3 (from httpx<0.24,>=0.15->argilla->unstructured)\n",
            "  Downloading rfc3986-1.5.0-py2.py3-none-any.whl (31 kB)\n",
            "Requirement already satisfied: sniffio in /usr/local/lib/python3.10/dist-packages (from httpx<0.24,>=0.15->argilla->unstructured) (1.3.0)\n",
            "Collecting commonmark<0.10.0,>=0.9.0 (from rich<=13.0.1->argilla->unstructured)\n",
            "  Downloading commonmark-0.9.1-py2.py3-none-any.whl (51 kB)\n",
            "\u001b[2K     \u001b[90m━━━━━━━━━━━━━━━━━━━━━━━━━━━━━━━━━━━━━━━━\u001b[0m \u001b[32m51.1/51.1 kB\u001b[0m \u001b[31m6.8 MB/s\u001b[0m eta \u001b[36m0:00:00\u001b[0m\n",
            "\u001b[?25hRequirement already satisfied: pygments<3.0.0,>=2.6.0 in /usr/local/lib/python3.10/dist-packages (from rich<=13.0.1->argilla->unstructured) (2.14.0)\n",
            "Requirement already satisfied: anyio<5,>=3.4.0 in /usr/local/lib/python3.10/dist-packages (from starlette<0.28.0,>=0.27.0->fastapi>=0.85.1->chromadb) (3.6.2)\n",
            "Collecting mypy-extensions>=0.3.0 (from typing-inspect>=0.4.0->dataclasses-json<0.6.0,>=0.5.7->langchain)\n",
            "  Downloading mypy_extensions-1.0.0-py3-none-any.whl (4.7 kB)\n",
            "Collecting humanfriendly>=9.1 (from coloredlogs->onnxruntime>=1.14.1->chromadb)\n",
            "  Downloading humanfriendly-10.0-py2.py3-none-any.whl (86 kB)\n",
            "\u001b[2K     \u001b[90m━━━━━━━━━━━━━━━━━━━━━━━━━━━━━━━━━━━━━━━━\u001b[0m \u001b[32m86.8/86.8 kB\u001b[0m \u001b[31m11.6 MB/s\u001b[0m eta \u001b[36m0:00:00\u001b[0m\n",
            "\u001b[?25hRequirement already satisfied: mpmath>=0.19 in /usr/local/lib/python3.10/dist-packages (from sympy->onnxruntime>=1.14.1->chromadb) (1.3.0)\n",
            "Requirement already satisfied: pycparser in /usr/local/lib/python3.10/dist-packages (from cffi>=1.12->cryptography>=36.0.0->pdfminer.six->unstructured) (2.21)\n",
            "Building wheels for collected packages: colab-env, hnswlib, python-docx, python-pptx, olefile\n",
            "  Building wheel for colab-env (setup.py) ... \u001b[?25l\u001b[?25hdone\n",
            "  Created wheel for colab-env: filename=colab_env-0.2.0-py3-none-any.whl size=3807 sha256=05f9adaff35e4720b9b87111a54a754a56a6463520664bdf02b3d9db95c8df31\n",
            "  Stored in directory: /root/.cache/pip/wheels/ae/36/4f/466c2cd4db5d08f317893a920c4a0f58a81459ee3bdb136d35\n",
            "  Building wheel for hnswlib (pyproject.toml) ... \u001b[?25l\u001b[?25hdone\n",
            "  Created wheel for hnswlib: filename=hnswlib-0.7.0-cp310-cp310-linux_x86_64.whl size=2119820 sha256=12e1029abd7d3ffc22845eccc65840175b04e4f97df766114602d074c1e8e1ee\n",
            "  Stored in directory: /root/.cache/pip/wheels/8a/ae/ec/235a682e0041fbaeee389843670581ec6c66872db856dfa9a4\n",
            "  Building wheel for python-docx (setup.py) ... \u001b[?25l\u001b[?25hdone\n",
            "  Created wheel for python-docx: filename=python_docx-0.8.11-py3-none-any.whl size=184491 sha256=fa13a6b575abc2cec88caf07773cc893abd3c55acc48dace6d69318ab18c1a60\n",
            "  Stored in directory: /root/.cache/pip/wheels/80/27/06/837436d4c3bd989b957a91679966f207bfd71d358d63a8194d\n",
            "  Building wheel for python-pptx (setup.py) ... \u001b[?25l\u001b[?25hdone\n",
            "  Created wheel for python-pptx: filename=python_pptx-0.6.21-py3-none-any.whl size=470935 sha256=3bd8b69e9282dd30ed6187a0731eb2886dc1214fafdd3e9ed328577a974c67af\n",
            "  Stored in directory: /root/.cache/pip/wheels/ea/dd/74/01b3ec7256a0800b99384e9a0f7620e358afc3a51a59bf9b49\n",
            "  Building wheel for olefile (setup.py) ... \u001b[?25l\u001b[?25hdone\n",
            "  Created wheel for olefile: filename=olefile-0.46-py2.py3-none-any.whl size=35417 sha256=01f8cf1796ff7d1effc27e32ec89a7ff4842c7f5208cfe7173be75523908b329\n",
            "  Stored in directory: /root/.cache/pip/wheels/02/39/c0/9eb1f7a42b4b38f6f333b6314d4ed11c46f12a0f7b78194f0d\n",
            "Successfully built colab-env hnswlib python-docx python-pptx olefile\n",
            "Installing collected packages: tokenizers, rfc3986, monotonic, faiss-gpu, commonmark, zstandard, XlsxWriter, websockets, uvloop, rich, requests, python-magic, python-dotenv, python-docx, pypandoc, pulsar-client, pdf2image, overrides, olefile, mypy-extensions, multidict, marshmallow, lz4, humanfriendly, httptools, hnswlib, h11, frozenlist, deprecated, backoff, async-timeout, yarl, watchfiles, uvicorn, typing-inspect, tiktoken, starlette, python-pptx, posthog, openapi-schema-pydantic, msg-parser, marshmallow-enum, langchainplus-sdk, httpcore, coloredlogs, colab-env, clickhouse-connect, aiosignal, pdfminer.six, onnxruntime, httpx, fastapi, dataclasses-json, aiohttp, OpenAI, langchain, chromadb, argilla, unstructured\n",
            "  Attempting uninstall: rich\n",
            "    Found existing installation: rich 13.3.4\n",
            "    Uninstalling rich-13.3.4:\n",
            "      Successfully uninstalled rich-13.3.4\n",
            "  Attempting uninstall: requests\n",
            "    Found existing installation: requests 2.27.1\n",
            "    Uninstalling requests-2.27.1:\n",
            "      Successfully uninstalled requests-2.27.1\n",
            "\u001b[31mERROR: pip's dependency resolver does not currently take into account all the packages that are installed. This behaviour is the source of the following dependency conflicts.\n",
            "google-colab 1.0.0 requires requests==2.27.1, but you have requests 2.31.0 which is incompatible.\u001b[0m\u001b[31m\n",
            "\u001b[0mSuccessfully installed OpenAI-0.27.8 XlsxWriter-3.1.2 aiohttp-3.8.4 aiosignal-1.3.1 argilla-1.9.0 async-timeout-4.0.2 backoff-2.2.1 chromadb-0.3.26 clickhouse-connect-0.6.1 colab-env-0.2.0 coloredlogs-15.0.1 commonmark-0.9.1 dataclasses-json-0.5.7 deprecated-1.2.14 faiss-gpu-1.7.2 fastapi-0.96.0 frozenlist-1.3.3 h11-0.14.0 hnswlib-0.7.0 httpcore-0.16.3 httptools-0.5.0 httpx-0.23.3 humanfriendly-10.0 langchain-0.0.195 langchainplus-sdk-0.0.7 lz4-4.3.2 marshmallow-3.19.0 marshmallow-enum-1.5.1 monotonic-1.6 msg-parser-1.2.0 multidict-6.0.4 mypy-extensions-1.0.0 olefile-0.46 onnxruntime-1.15.0 openapi-schema-pydantic-1.2.4 overrides-7.3.1 pdf2image-1.16.3 pdfminer.six-20221105 posthog-3.0.1 pulsar-client-3.2.0 pypandoc-1.11 python-docx-0.8.11 python-dotenv-0.21.1 python-magic-0.4.27 python-pptx-0.6.21 requests-2.31.0 rfc3986-1.5.0 rich-13.0.1 starlette-0.27.0 tiktoken-0.4.0 tokenizers-0.13.3 typing-inspect-0.9.0 unstructured-0.7.2 uvicorn-0.22.0 uvloop-0.17.0 watchfiles-0.19.0 websockets-11.0.3 yarl-1.9.2 zstandard-0.21.0\n"
          ]
        }
      ],
      "source": [
        "pip install OpenAI langchain pydantic faiss-gpu colab-env unstructured chromadb tiktoken pdf2image faiss-gpu"
      ]
    },
    {
      "cell_type": "markdown",
      "source": [
        "Yo, let's import our local env so we don't have to show the world our keys"
      ],
      "metadata": {
        "id": "thnn1Guth9nA"
      }
    },
    {
      "cell_type": "code",
      "execution_count": 2,
      "metadata": {
        "id": "bIQmA_whelu1",
        "colab": {
          "base_uri": "https://localhost:8080/"
        },
        "outputId": "8250cc0e-55f7-449f-c25a-e759547bd4c9"
      },
      "outputs": [
        {
          "output_type": "stream",
          "name": "stdout",
          "text": [
            "Mounted at /content/gdrive\n"
          ]
        }
      ],
      "source": [
        "import colab_env"
      ]
    },
    {
      "cell_type": "markdown",
      "source": [
        "Let's import our python modules"
      ],
      "metadata": {
        "id": "NoZ4EBVsiqMf"
      }
    },
    {
      "cell_type": "code",
      "source": [
        "from langchain.embeddings.openai import OpenAIEmbeddings\n",
        "from langchain.vectorstores import Chroma\n",
        "from langchain.text_splitter import CharacterTextSplitter\n",
        "from langchain.text_splitter import RecursiveCharacterTextSplitter\n",
        "from langchain import OpenAI, VectorDBQA\n",
        "from langchain.chains import RetrievalQA\n",
        "from langchain.chains import RetrievalQAWithSourcesChain\n",
        "from langchain.document_loaders import DirectoryLoader\n",
        "from langchain.prompts import PromptTemplate\n",
        "from langchain.llms import OpenAI\n",
        "from langchain.agents import load_tools\n",
        "from langchain.agents import initialize_agent\n",
        "from langchain.agents import AgentType\n",
        "from langchain.chat_models import ChatOpenAI\n",
        "from langchain.schema import (\n",
        "    AIMessage,\n",
        "    HumanMessage,\n",
        "    SystemMessage\n",
        ")\n",
        "import magic\n",
        "import os\n",
        "import nltk\n",
        "import textwrap\n",
        "\n"
      ],
      "metadata": {
        "id": "dThYIPCKjKcS"
      },
      "execution_count": 3,
      "outputs": []
    },
    {
      "cell_type": "markdown",
      "source": [
        "Let's set the temperature of our AI models"
      ],
      "metadata": {
        "id": "MH2-7NiKjdkE"
      }
    },
    {
      "cell_type": "code",
      "source": [
        "llm = OpenAI(temperature=0)\n",
        "chat = ChatOpenAI(temperature=0)"
      ],
      "metadata": {
        "id": "Imm3MHuFjh_N"
      },
      "execution_count": 4,
      "outputs": []
    },
    {
      "cell_type": "markdown",
      "source": [
        "Let's specify the directory and file type for our Demming source docs"
      ],
      "metadata": {
        "id": "zz19cRbakQdZ"
      }
    },
    {
      "cell_type": "code",
      "execution_count": 5,
      "metadata": {
        "id": "e8a28a08"
      },
      "outputs": [],
      "source": [
        "loader = DirectoryLoader('/content/gdrive/MyDrive/Projects/Digital_Demming/src_content', glob='**/*.pdf')"
      ]
    },
    {
      "cell_type": "markdown",
      "source": [
        "Load our documents\n"
      ],
      "metadata": {
        "id": "1bXP4IjLmc9D"
      }
    },
    {
      "cell_type": "code",
      "source": [
        "documents = loader.load()"
      ],
      "metadata": {
        "colab": {
          "base_uri": "https://localhost:8080/"
        },
        "id": "yYcyBEQcmfEB",
        "outputId": "ddf31c27-660b-4769-e747-d78f823332be"
      },
      "execution_count": 6,
      "outputs": [
        {
          "output_type": "stream",
          "name": "stderr",
          "text": [
            "[nltk_data] Downloading package punkt to /root/nltk_data...\n",
            "[nltk_data]   Unzipping tokenizers/punkt.zip.\n",
            "[nltk_data] Downloading package averaged_perceptron_tagger to\n",
            "[nltk_data]     /root/nltk_data...\n",
            "[nltk_data]   Unzipping taggers/averaged_perceptron_tagger.zip.\n"
          ]
        }
      ]
    },
    {
      "cell_type": "markdown",
      "source": [
        "Check how many documents are loaded"
      ],
      "metadata": {
        "id": "LdhzQ0Yrmj-r"
      }
    },
    {
      "cell_type": "code",
      "source": [
        "len (documents)"
      ],
      "metadata": {
        "colab": {
          "base_uri": "https://localhost:8080/"
        },
        "id": "47e8iE6Imgwk",
        "outputId": "b940ed1a-00a6-4634-fde0-efb21e433ee9"
      },
      "execution_count": 7,
      "outputs": [
        {
          "output_type": "execute_result",
          "data": {
            "text/plain": [
              "1"
            ]
          },
          "metadata": {},
          "execution_count": 7
        }
      ]
    },
    {
      "cell_type": "markdown",
      "source": [
        "Let's split our document up into chunks"
      ],
      "metadata": {
        "id": "6LMzp2tkmp_z"
      }
    },
    {
      "cell_type": "code",
      "execution_count": 8,
      "metadata": {
        "id": "3153f864"
      },
      "outputs": [],
      "source": [
        "#text_splitter = CharacterTextSplitter(chunk_size=1000, chunk_overlap=0)\n",
        "text_splitter = RecursiveCharacterTextSplitter(\n",
        "    # Set a really small chunk size, just to show.\n",
        "    chunk_size = 1000,\n",
        "    chunk_overlap  = 20,\n",
        "    length_function = len,\n",
        "    separators=[\"\\n\\n\", \"\\n\", \" \", \"\"]\n",
        ")"
      ]
    },
    {
      "cell_type": "markdown",
      "source": [
        "Let' create a variable named texts, and split these documents into it"
      ],
      "metadata": {
        "id": "VBPEkFIenBaf"
      }
    },
    {
      "cell_type": "code",
      "source": [
        "texts = text_splitter.split_documents(documents)"
      ],
      "metadata": {
        "id": "hG6BjgOunHLQ"
      },
      "execution_count": 9,
      "outputs": []
    },
    {
      "cell_type": "markdown",
      "source": [
        "Let's tell it that we want it to use OpenAI embeddings, and tell it what env variable the key is held"
      ],
      "metadata": {
        "id": "tFdzlP2anIlJ"
      }
    },
    {
      "cell_type": "code",
      "source": [
        "embeddings = OpenAIEmbeddings(openai_api_key=os.environ['OPENAI_API_KEY'])"
      ],
      "metadata": {
        "id": "lglhxYJZnUZt"
      },
      "execution_count": 10,
      "outputs": []
    },
    {
      "cell_type": "markdown",
      "source": [
        "Let's create a variable named docsearch, and pull from Chroma vectorstore including texts, and the embeddings)"
      ],
      "metadata": {
        "id": "3nZoNACcnVhj"
      }
    },
    {
      "cell_type": "code",
      "source": [
        "docsearch = Chroma.from_documents(texts, embeddings)"
      ],
      "metadata": {
        "id": "Ts7ek3lBnf2O"
      },
      "execution_count": 11,
      "outputs": []
    },
    {
      "cell_type": "markdown",
      "source": [
        "define qa chain, which pulls from VectorDBQA, and use the LLM chain named OpenAI. We specify that it \"Stuff\"'s all the data in. We could use \"map_reduce\" instead to optimize for performance and scale. Let's tell it to use the vectorstore we defined earlier named docsearch\n",
        "\n",
        "note, i'm trying RetrievalQA because VectorDBQA is depricated"
      ],
      "metadata": {
        "id": "7qk5wNDbnjfR"
      }
    },
    {
      "cell_type": "code",
      "execution_count": 32,
      "metadata": {
        "id": "ObvvPjUjrAdJ"
      },
      "outputs": [],
      "source": [
        "qa = VectorDBQA.from_chain_type(llm=OpenAI(), chain_type=\"stuff\", vectorstore=docsearch, return_source_documents=True)\n",
        "query = \"Describe in depth, what is the foundation of quality. Provide three examples using bullet points\"\n",
        "result = qa({\"query\": query})"
      ]
    },
    {
      "cell_type": "code",
      "execution_count": 13,
      "metadata": {
        "colab": {
          "base_uri": "https://localhost:8080/",
          "height": 160
        },
        "outputId": "7b45a842-6c8e-4b65-b712-26f40da74b00",
        "id": "00AVxSEVrAdQ"
      },
      "outputs": [
        {
          "output_type": "execute_result",
          "data": {
            "text/plain": [
              "'\\n\\nThe foundation of quality involves establishing processes, systems, and standards that guarantee the consistency and reliability of products and services. Examples include:\\n \\n• Establishing processes and systems to ensure that product requirements are met consistently, such as quality control systems, quality assurance procedures, and customer feedback systems.\\n• Establishing standards to measure the quality of products and services, such as the American Standards Association (ASA), British Standards (BS), and European Organization for Quality (EOQ).\\n• Establishing quality management organizations, such as the Advisory Group on Reliability of Electronic Equipment (AGREE), Association for Overseas Technical Scholarship (AOTS), Asian Productivity Organization (APO), American Society for Quality Control (ASQC), Civil Communication Section (CCS), Control System Committee (COSCO), European Organization for Quality Control (EOQC), and European Foundation for Quality Management (EFQM).'"
            ],
            "application/vnd.google.colaboratory.intrinsic+json": {
              "type": "string"
            }
          },
          "metadata": {},
          "execution_count": 13
        }
      ],
      "source": [
        "result['result']"
      ]
    },
    {
      "cell_type": "code",
      "execution_count": 14,
      "metadata": {
        "colab": {
          "base_uri": "https://localhost:8080/"
        },
        "outputId": "1c5be323-185a-4de6-d368-8bce8ef2efa1",
        "id": "0vXQN55ZrAdQ"
      },
      "outputs": [
        {
          "output_type": "execute_result",
          "data": {
            "text/plain": [
              "[Document(page_content='1) AGREE: Advisory Group on Reliability of Electronic Equipment 2) AOTS: Association for Overseas Technical Scholarship 3) APO: Asian Productivity Organization 4) ASA: American Standards Association 5) ASQC: American Society for Quality Control 6) BS: British Standards 7) CCS: Civil Communication Section 8) COSCO: Control System Committee 9) EOQC: European Organization for Quality Control 10) EOQ: European Organization for Quality 11) EFQM: European Foundation for Quality Management 12) FMES: Japan Federation of Managerial Engineering Societies\\n\\n524\\n\\nA Parallel Chronology of Prof. Kaoru Ishikawa’s Life and TQC in Japan', metadata={'source': '/content/gdrive/MyDrive/Projects/Digital_Demming/src_content/ParallelChronology_Ver2_150717.pdf'}),\n",
              " Document(page_content='Major Events in the Development of QC\\n\\nCourse. (July–Dec. 1957, JUSE)\\n\\n\\uf09f The Chugoku Quality Control Research Group was established. (JSA Hiroshima) \\uf09f The Design of Experiment Seminar was\\n\\nheld. (JSA)\\n\\n\\uf09f The European Organization for Quality\\n\\nControl (EOQC) was founded.\\n\\n\\uf09f A. V. Feigenbaum published his thesis titled “Total Quality Control” in the Harvard Business Review.\\n\\n1957\\n\\n\\uf09f He appeared as a lecturer on NHK’s radio\\n\\n\\uf09f The first Spring QC Conference was\\n\\nprograms. (–62, NHK Radio 2)\\n\\nheld. (Osaka, May, JUSE)\\n\\n\\uf09f His article “Points in Preparing In-house Standards” (published in the Hinshitsu Kanri (Statistical Quality Control) [140]) won the Standardization Literature Award.\\n\\n\\uf09f He started playing golf. \\uf09f He published Introduction to Sampling\\n\\n\\uf09f The Operations Research Society of\\n\\nJapan was founded. (June)\\n\\n\\uf09f The QC Seminar for Executives was held\\n\\nin Karuizawa. (July, JUSE)\\n\\n\\uf09f The Sensory Test Seminar was held.\\n\\n(Sep., JUSE)\\n\\n\\uf09f The Kansai QC Research Group was', metadata={'source': '/content/gdrive/MyDrive/Projects/Digital_Demming/src_content/ParallelChronology_Ver2_150717.pdf'}),\n",
              " Document(page_content='\\uf09f The Reliability Introductory Seminar was\\n\\nheld. (Feb., JUSE)\\n\\n\\uf09f The QC Circle Chugoku Regional\\n\\nChapter and Shikoku Regional Chapter were founded. (June, QC Circle Headquarters)\\n\\n\\uf09f The Quality Control Symposium (QCS) was established and decided to hold meetings twice a year. (July, JUSE)\\n\\n\\uf09f The Japan-America Joint\\n\\nSymposium on Bulk Material Sampling was held. (Nov., Tokyo)\\n\\n\\uf09f NEC implemented ZD activity on a\\n\\ncompany-wide level.\\n\\n\\uf09f The New Product Development Class\\n\\nwas held. (JSA)\\n\\n\\uf09f The Tohoku QC Research Group was\\n\\nestablished. (JSA)\\n\\n\\uf09f The 1st QCS: How to introduce, promote\\n\\nand establish QC.\\n\\n\\uf09f The 2nd QCS: The role of QC\\n\\ndepartment.\\n\\n\\uf09f He attended the 10th EOQC Conference held in Stockholm. During the QC circle special discussion, he was invited onto the stage.\\n\\n\\uf09f He became one of six man board of the International Academy for Quality preparation committee. (–69)\\n\\n\\uf09f The Deming Application Prize for\\n\\nDivision was established.', metadata={'source': '/content/gdrive/MyDrive/Projects/Digital_Demming/src_content/ParallelChronology_Ver2_150717.pdf'}),\n",
              " Document(page_content='Jan. 23\\n\\n\\uf09f A party to celebrate his honor conferred decoration was held at the Hotel Okura.\\n\\nJan. 31\\n\\n\\uf09f He published Introduction to\\n\\nQuality Control (3rd Edition). (JUSE Press)\\n\\nThe English edition:\\n\\nIntroduction to Quality Control (3rd\\n\\n523\\n\\n\\uf09f The 2000th Memorial QC Circle\\n\\nConference was held. (March, QC Circle Headquarters)\\n\\n\\uf09f EFQM was founded. (Sep.) \\uf09f The Software Quality Control Seminar for Managers was held. (Oct., JUSE)\\n\\n\\uf09f The 1st Malcolm Baldrige National Quality Award was awarded. (Oct., America)\\n\\n\\uf09f Joban Hawaiian Center was awarded the Deming Application Prize for Division, as the first service company to win the prize. (Nov.)\\n\\n\\uf09f ICQCC ’88-Taipei was held. (Nov.,\\n\\nTaipei)\\n\\n\\uf09f The number of foreign companies too whom the use of JIS mark is permitted exceeded 100.\\n\\n\\uf09f The 46th QCS: Quality control\\n\\ntraining—current situation and future direction.\\n\\n\\uf09f The 47th QCS: New product planning\\n\\nand market research—how to understand the quality required by customers.', metadata={'source': '/content/gdrive/MyDrive/Projects/Digital_Demming/src_content/ParallelChronology_Ver2_150717.pdf'})]"
            ]
          },
          "metadata": {},
          "execution_count": 14
        }
      ],
      "source": [
        "result['source_documents']"
      ]
    },
    {
      "cell_type": "code",
      "source": [],
      "metadata": {
        "id": "R7K8ix2NrfaY"
      },
      "execution_count": 14,
      "outputs": []
    },
    {
      "cell_type": "code",
      "execution_count": 15,
      "metadata": {
        "id": "ClQwd3G_rrIU"
      },
      "outputs": [],
      "source": [
        "qa = VectorDBQA.from_chain_type(llm=OpenAI(), chain_type=\"stuff\", vectorstore=docsearch, return_source_documents=True)\n",
        "#query = \"what is the impact of JUSE on TQM?\"\n",
        "#query = \"what is the purpouse of life?\"\n",
        "#query = \"what does demming like for lunch\"\n",
        "#query = \"is quality like a human\"\n",
        "#query = \"what is the fourth rule of TQM\"\n",
        "#query = \"what is the most important concept in TQM\"\n",
        "#query =  \"WHo won the deming prize?\"\n",
        "#query = \"Is TQM like lean?\"\n",
        "#query = \"How are TQM and Lean different?\"\n",
        "query = \"What is lean?\"\n",
        "\n",
        "result = qa({\"query\": query})"
      ]
    },
    {
      "cell_type": "code",
      "execution_count": 16,
      "metadata": {
        "colab": {
          "base_uri": "https://localhost:8080/",
          "height": 36
        },
        "outputId": "fcf5d328-b3ab-4bf7-8c36-a3fb46d32efd",
        "id": "_DbSCDZirrIc"
      },
      "outputs": [
        {
          "output_type": "execute_result",
          "data": {
            "text/plain": [
              "\" I don't know.\""
            ],
            "application/vnd.google.colaboratory.intrinsic+json": {
              "type": "string"
            }
          },
          "metadata": {},
          "execution_count": 16
        }
      ],
      "source": [
        "result['result']"
      ]
    },
    {
      "cell_type": "code",
      "execution_count": 17,
      "metadata": {
        "colab": {
          "base_uri": "https://localhost:8080/"
        },
        "outputId": "cd10422c-478b-47a5-c0de-804ee6105b41",
        "id": "z0JP3rHTrrIc"
      },
      "outputs": [
        {
          "output_type": "execute_result",
          "data": {
            "text/plain": [
              "[Document(page_content='held. (July, JUSE)\\n\\n\\uf09f Governmental Building Construction Q-S Round-table conference was held. (JSA)\\n\\n\\uf09f The Mexican Quality Control Training\\n\\n(Age 62)\\n\\n515\\n\\nA Parallel Chronology of Prof. Kaoru Ishikawa’s Life and TQC in Japan\\n\\nYear\\n\\nProf. Ishikawa’s Life\\n\\nMajor Events in the Development of QC\\n\\n\\uf09f He became a researcher at the\\n\\nTeam visited Japan. (JICA/JUSE)\\n\\nComponent Measurement Department, Laboratory of Metrology, the Agency of Industrial Science and Technology. \\uf09f He became the chair of the executive\\n\\ncommittee of the 20th National Meeting of Standardization. (JSA)\\n\\n\\uf09f He became the chair of the organization committee of the Mexican Quality Control Training Course. (JICA/JUSE)\\n\\n\\uf09f He was awarded with the Medal with\\n\\nBlue Ribbon for his contribution to the promotion of industrial standardization. \\uf09f He became an honorary member of the Argentine Association for Quality Control.\\n\\n\\uf09f The 1st PL World Conference was held\\n\\nin London.\\n\\n\\uf09f Yoshio Kondo was awarded the Grant\\n\\nMedal. (ASQC)', metadata={'source': '/content/gdrive/MyDrive/Projects/Digital_Demming/src_content/ParallelChronology_Ver2_150717.pdf'}),\n",
              " Document(page_content='Deming Application Prize. It was the first construction company to win the prize. (Nov.)\\n\\n\\uf09f A committee to research QC in the\\n\\nservice industry was established. (Nov.,\\n\\nA Parallel Chronology of Prof. Kaoru Ishikawa’s Life and TQC in Japan\\n\\nYear\\n\\nProf. Ishikawa’s Life\\n\\nMajor Events in the Development of QC\\n\\ncommissioned by the Ministry of the Environment.)\\n\\n\\uf09f His book Control Points of Quality (joint authorship) (Zeimukeiri Kyokai) was awarded Nikkei Quality Control Literature Prize.\\n\\nJUSE)\\n\\n\\uf09f The 28th QCS: New product planning\\n\\nand market research.\\n\\n\\uf09f The 29th QCS: Future Quality\\n\\nControl—challenges in the 1980s.\\n\\n1980\\n\\n\\uf09f He became a council member of the Japan Standards Association. (–84)\\n\\n\\uf09f He became a council member of the Japanese Society for Quality Control. (–82)\\n\\n\\uf09f He became the chair of the Nuclear\\n\\nPower Plant Quality Assurance Review Committee. (MITI)\\n\\n\\uf09f He became the chair of the Management\\n\\nResearch Group of Japan-China Economic Association.', metadata={'source': '/content/gdrive/MyDrive/Projects/Digital_Demming/src_content/ParallelChronology_Ver2_150717.pdf'}),\n",
              " Document(page_content='by Deming Prize Committee was established. (Nov.)\\n\\n\\uf09f He became a member of the Japan-Soviet\\n\\nThe first winner was Mitsubishi\\n\\nRound-table Conference on Standardization. (JSA)\\n\\n\\uf09f He visited China as a delegation member to research industrial standardization and quality control.\\n\\n\\uf09f He visited Europe as the general leader of the 6th QC Circle Overseas Research Delegation Team. (Head of the delegation; Koichi Ohba) (JUSE) \\uf09f He published Product Liability (joint authorship). (Nov., JUSE Press)\\n\\nHeavy Industries’ Kobe Shipyard.\\n\\n\\uf09f The QC Circle Seminar for Top\\n\\nManagement was held. (Jan., JUSE) \\uf09f Genba To QC-magazine was renamed\\n\\nFQC. (Jan., JUSE)\\n\\n\\uf09f The Distribution Department QC\\n\\nResearch Group (textile field) was established. (Apr., JUSE)\\n\\n\\uf09f The 1st Product Liability Study Team (PLT) to Overseas was dispatched. (Aug., JUSE)\\n\\n\\uf09f The 1st Pacific Area Standards Congress\\n\\n(PASC) was held in Honolulu.\\n\\n\\uf09f The PLP Seminar was held, inviting American experts as lecturers. (Oct., JUSE)', metadata={'source': '/content/gdrive/MyDrive/Projects/Digital_Demming/src_content/ParallelChronology_Ver2_150717.pdf'}),\n",
              " Document(page_content='\\uf09f The Deming Application Prize for Small Enterprise was established. (Nov.) The first winner was Nakayo, Inc.\\n\\n\\uf09f The Kyushu QC Research Group was\\n\\n(Age 42)\\n\\n1958\\n\\nFeb.\\n\\n(Age 43)\\n\\n\\uf09f Quality Control Guidebook (Vol. 1, Vol.\\n\\nestablished. (JSA)\\n\\n504\\n\\nA Parallel Chronology of Prof. Kaoru Ishikawa’s Life and TQC in Japan\\n\\nYear\\n\\nProf. Ishikawa’s Life\\n\\nMajor Events in the Development of QC\\n\\n2), written and edited by Ishikawa, were published. (A revised edition of Vol. 1 was published in July, 1963 and a revised edition of Vol. 2 was published in Nov., 1964.)\\n\\n\\uf09f The Shikoku QC Research Group was\\n\\nestablished. (JSA)\\n\\n\\uf09f QC slides were released. (JSA) \\uf09f Konishi & Taguchi proposed the linear graph method in their book Orthogonal Array Table and Allocation Type.\\n\\n1959\\n\\nFeb. 1\\n\\n\\uf09f The 1st QCG (QC GOLF) competition\\n\\n\\uf09f Dr. Shewhart visited Japan and gave', metadata={'source': '/content/gdrive/MyDrive/Projects/Digital_Demming/src_content/ParallelChronology_Ver2_150717.pdf'})]"
            ]
          },
          "metadata": {},
          "execution_count": 17
        }
      ],
      "source": [
        "result['source_documents']"
      ]
    },
    {
      "cell_type": "markdown",
      "source": [
        "# The History and Evolution of Total Quality Management (TQM): The Contributions of Kaoru Ishikawa and the Japanese Union of Scientists and Engineers (JUSE)"
      ],
      "metadata": {
        "id": "x-rsKQcKpNP9"
      }
    },
    {
      "cell_type": "markdown",
      "source": [
        "## I. Introduction\n",
        "- Definition of Total Quality Management (TQM)\n",
        "- Brief introduction of the significance of TQM in the modern business world\n",
        "- Introduction to Kaoru Ishikawa and the Japanese Union of Scientists and Engineers (JUSE)\n",
        "- Thesis Statement"
      ],
      "metadata": {
        "id": "k2t44id5wUxx"
      }
    },
    {
      "cell_type": "code",
      "source": [],
      "metadata": {
        "id": "0Gt8bOdkxyR2"
      },
      "execution_count": 17,
      "outputs": []
    },
    {
      "cell_type": "code",
      "execution_count": 18,
      "metadata": {
        "id": "zusROviVxyar"
      },
      "outputs": [],
      "source": [
        "qa = VectorDBQA.from_chain_type(llm=OpenAI(), chain_type=\"stuff\", vectorstore=docsearch, return_source_documents=True)\n",
        "#query = \"what is the impact of JUSE on TQM?\"\n",
        "#query = \"what is the purpouse of life?\"\n",
        "#query = \"what does demming like for lunch\"\n",
        "#query = \"is quality like a human\"\n",
        "#query = \"what is the fourth rule of TQM\"\n",
        "query = \"what is Total Quality Management (TQM)\"\n",
        "result = qa({\"query\": query})"
      ]
    },
    {
      "cell_type": "code",
      "execution_count": 19,
      "metadata": {
        "colab": {
          "base_uri": "https://localhost:8080/",
          "height": 71
        },
        "outputId": "294fc531-d3e9-4deb-ad5b-280cd6284ec1",
        "id": "8VK98-MMxyar"
      },
      "outputs": [
        {
          "output_type": "execute_result",
          "data": {
            "text/plain": [
              "' Total Quality Management (TQM) is a system of management that seeks to continuously improve the quality of products and services through the involvement of all levels of employees in the organization. It is achieved by setting quality standards, measuring performance against those standards, and taking corrective actions to ensure that the standards are met.'"
            ],
            "application/vnd.google.colaboratory.intrinsic+json": {
              "type": "string"
            }
          },
          "metadata": {},
          "execution_count": 19
        }
      ],
      "source": [
        "result['result']"
      ]
    },
    {
      "cell_type": "code",
      "execution_count": 20,
      "metadata": {
        "colab": {
          "base_uri": "https://localhost:8080/"
        },
        "outputId": "cade7c0f-f769-402a-c48b-137d149503bc",
        "id": "aiAAix9jxyas"
      },
      "outputs": [
        {
          "output_type": "execute_result",
          "data": {
            "text/plain": [
              "[Document(page_content='1) AGREE: Advisory Group on Reliability of Electronic Equipment 2) AOTS: Association for Overseas Technical Scholarship 3) APO: Asian Productivity Organization 4) ASA: American Standards Association 5) ASQC: American Society for Quality Control 6) BS: British Standards 7) CCS: Civil Communication Section 8) COSCO: Control System Committee 9) EOQC: European Organization for Quality Control 10) EOQ: European Organization for Quality 11) EFQM: European Foundation for Quality Management 12) FMES: Japan Federation of Managerial Engineering Societies\\n\\n524\\n\\nA Parallel Chronology of Prof. Kaoru Ishikawa’s Life and TQC in Japan', metadata={'source': '/content/gdrive/MyDrive/Projects/Digital_Demming/src_content/ParallelChronology_Ver2_150717.pdf'}),\n",
              " Document(page_content='Medal. (ASQC)\\n\\n\\uf09f The Pharmaceutical Manufacturing and Quality Control (GMP) Seminar was held. (Sep., JUSE)\\n\\n\\uf09f The Japan Prefabricated Construction\\n\\nSuppliers and Manufacturers Association held TQC seminars.\\n\\n\\uf09f Noboru Takagi was elected as the 22nd\\n\\npresident of the IEC.\\n\\n\\uf09f The 4th ICPR Conference (IE\\n\\ninternational conference) was held. \\uf09f The 24th QCS: Quality design and\\n\\n\\uf09f Quality Control Handbook (New Edition)\\n\\nprocess design.\\n\\nwritten and edited by Ishikawa was published. (The second edition was published in April, 1988, JSA)\\n\\n\\uf09f The 25th QCS: Small-group activities\\n\\nand QC.\\n\\n1978\\n\\nApril 1\\n\\n\\uf09f He became the President of Musashi\\n\\n\\uf09f The Construction Industry TQC\\n\\nInstitute of Technology.\\n\\nRound-table Conference was held. (JSA)\\n\\n\\uf09f He became the director of Goto-Ikueikai. \\uf09f He became the director of the Tokyu Foundation for Foreign Students.\\n\\n\\uf09f He became the chairperson of the board\\n\\nof directors of the Japan-China Industrial Technology and Culture Center. (–82)', metadata={'source': '/content/gdrive/MyDrive/Projects/Digital_Demming/src_content/ParallelChronology_Ver2_150717.pdf'}),\n",
              " Document(page_content='Deming Application Prize. It was the first construction company to win the prize. (Nov.)\\n\\n\\uf09f A committee to research QC in the\\n\\nservice industry was established. (Nov.,\\n\\nA Parallel Chronology of Prof. Kaoru Ishikawa’s Life and TQC in Japan\\n\\nYear\\n\\nProf. Ishikawa’s Life\\n\\nMajor Events in the Development of QC\\n\\ncommissioned by the Ministry of the Environment.)\\n\\n\\uf09f His book Control Points of Quality (joint authorship) (Zeimukeiri Kyokai) was awarded Nikkei Quality Control Literature Prize.\\n\\nJUSE)\\n\\n\\uf09f The 28th QCS: New product planning\\n\\nand market research.\\n\\n\\uf09f The 29th QCS: Future Quality\\n\\nControl—challenges in the 1980s.\\n\\n1980\\n\\n\\uf09f He became a council member of the Japan Standards Association. (–84)\\n\\n\\uf09f He became a council member of the Japanese Society for Quality Control. (–82)\\n\\n\\uf09f He became the chair of the Nuclear\\n\\nPower Plant Quality Assurance Review Committee. (MITI)\\n\\n\\uf09f He became the chair of the Management\\n\\nResearch Group of Japan-China Economic Association.', metadata={'source': '/content/gdrive/MyDrive/Projects/Digital_Demming/src_content/ParallelChronology_Ver2_150717.pdf'}),\n",
              " Document(page_content='prize. (Nov.)\\n\\n\\uf09f The Japan Federation of Managerial Engineering Societies (FMES) was established. (JSQC, JIMA, and ORSJ)\\n\\n\\uf09f The Act on Science Council of Japan was revised. (Cabinet decision). “Management engineering” was added to “Part 5: Engineering.”\\n\\n\\uf09f ICQCC ’84-Manila was held. \\uf09f The 38th QCS: Sales department and\\n\\nTQC.\\n\\n\\uf09f The 39th QCS: Current situations and\\n\\nissues of TQC.\\n\\n1985\\n\\nJune 15\\n\\n\\uf09f He achieved a hole-in-one (at Tomei\\n\\n\\uf09f The number of countries where QC circle\\n\\nGotemba Country Club). \\uf09f He became the director of the\\n\\nAssociation for Overseas Technical Scholarship. (–87)\\n\\nactivities are conducted reached 52. \\uf09f The Software QC Research Group was\\n\\nestablished. (Apr., JUSE)\\n\\n\\uf09f ICQCC ’85-TOKYO was held. (May,\\n\\n\\uf09f He became the accounting audit for the\\n\\nJUSE)\\n\\nPrivate University Council for Information Processing Education. \\uf09f He became the chair of the ICQCC ’85-TOKYO Program Committee.', metadata={'source': '/content/gdrive/MyDrive/Projects/Digital_Demming/src_content/ParallelChronology_Ver2_150717.pdf'})]"
            ]
          },
          "metadata": {},
          "execution_count": 20
        }
      ],
      "source": [
        "result['source_documents']"
      ]
    },
    {
      "cell_type": "code",
      "source": [
        "# Create a list to stuff section results into \n",
        "introduction = []\n",
        "\n",
        "#append result  to the array\n",
        "introduction.append(result)\n",
        "\n",
        "#print the array\n",
        "print(introduction)"
      ],
      "metadata": {
        "colab": {
          "base_uri": "https://localhost:8080/"
        },
        "id": "GsGodkD4zkL1",
        "outputId": "3ec6b1de-fbb4-46ab-8dc6-e110ca96bdbc"
      },
      "execution_count": 21,
      "outputs": [
        {
          "output_type": "stream",
          "name": "stdout",
          "text": [
            "[{'query': 'what is Total Quality Management (TQM)', 'result': ' Total Quality Management (TQM) is a system of management that seeks to continuously improve the quality of products and services through the involvement of all levels of employees in the organization. It is achieved by setting quality standards, measuring performance against those standards, and taking corrective actions to ensure that the standards are met.', 'source_documents': [Document(page_content='1) AGREE: Advisory Group on Reliability of Electronic Equipment 2) AOTS: Association for Overseas Technical Scholarship 3) APO: Asian Productivity Organization 4) ASA: American Standards Association 5) ASQC: American Society for Quality Control 6) BS: British Standards 7) CCS: Civil Communication Section 8) COSCO: Control System Committee 9) EOQC: European Organization for Quality Control 10) EOQ: European Organization for Quality 11) EFQM: European Foundation for Quality Management 12) FMES: Japan Federation of Managerial Engineering Societies\\n\\n524\\n\\nA Parallel Chronology of Prof. Kaoru Ishikawa’s Life and TQC in Japan', metadata={'source': '/content/gdrive/MyDrive/Projects/Digital_Demming/src_content/ParallelChronology_Ver2_150717.pdf'}), Document(page_content='Medal. (ASQC)\\n\\n\\uf09f The Pharmaceutical Manufacturing and Quality Control (GMP) Seminar was held. (Sep., JUSE)\\n\\n\\uf09f The Japan Prefabricated Construction\\n\\nSuppliers and Manufacturers Association held TQC seminars.\\n\\n\\uf09f Noboru Takagi was elected as the 22nd\\n\\npresident of the IEC.\\n\\n\\uf09f The 4th ICPR Conference (IE\\n\\ninternational conference) was held. \\uf09f The 24th QCS: Quality design and\\n\\n\\uf09f Quality Control Handbook (New Edition)\\n\\nprocess design.\\n\\nwritten and edited by Ishikawa was published. (The second edition was published in April, 1988, JSA)\\n\\n\\uf09f The 25th QCS: Small-group activities\\n\\nand QC.\\n\\n1978\\n\\nApril 1\\n\\n\\uf09f He became the President of Musashi\\n\\n\\uf09f The Construction Industry TQC\\n\\nInstitute of Technology.\\n\\nRound-table Conference was held. (JSA)\\n\\n\\uf09f He became the director of Goto-Ikueikai. \\uf09f He became the director of the Tokyu Foundation for Foreign Students.\\n\\n\\uf09f He became the chairperson of the board\\n\\nof directors of the Japan-China Industrial Technology and Culture Center. (–82)', metadata={'source': '/content/gdrive/MyDrive/Projects/Digital_Demming/src_content/ParallelChronology_Ver2_150717.pdf'}), Document(page_content='Deming Application Prize. It was the first construction company to win the prize. (Nov.)\\n\\n\\uf09f A committee to research QC in the\\n\\nservice industry was established. (Nov.,\\n\\nA Parallel Chronology of Prof. Kaoru Ishikawa’s Life and TQC in Japan\\n\\nYear\\n\\nProf. Ishikawa’s Life\\n\\nMajor Events in the Development of QC\\n\\ncommissioned by the Ministry of the Environment.)\\n\\n\\uf09f His book Control Points of Quality (joint authorship) (Zeimukeiri Kyokai) was awarded Nikkei Quality Control Literature Prize.\\n\\nJUSE)\\n\\n\\uf09f The 28th QCS: New product planning\\n\\nand market research.\\n\\n\\uf09f The 29th QCS: Future Quality\\n\\nControl—challenges in the 1980s.\\n\\n1980\\n\\n\\uf09f He became a council member of the Japan Standards Association. (–84)\\n\\n\\uf09f He became a council member of the Japanese Society for Quality Control. (–82)\\n\\n\\uf09f He became the chair of the Nuclear\\n\\nPower Plant Quality Assurance Review Committee. (MITI)\\n\\n\\uf09f He became the chair of the Management\\n\\nResearch Group of Japan-China Economic Association.', metadata={'source': '/content/gdrive/MyDrive/Projects/Digital_Demming/src_content/ParallelChronology_Ver2_150717.pdf'}), Document(page_content='prize. (Nov.)\\n\\n\\uf09f The Japan Federation of Managerial Engineering Societies (FMES) was established. (JSQC, JIMA, and ORSJ)\\n\\n\\uf09f The Act on Science Council of Japan was revised. (Cabinet decision). “Management engineering” was added to “Part 5: Engineering.”\\n\\n\\uf09f ICQCC ’84-Manila was held. \\uf09f The 38th QCS: Sales department and\\n\\nTQC.\\n\\n\\uf09f The 39th QCS: Current situations and\\n\\nissues of TQC.\\n\\n1985\\n\\nJune 15\\n\\n\\uf09f He achieved a hole-in-one (at Tomei\\n\\n\\uf09f The number of countries where QC circle\\n\\nGotemba Country Club). \\uf09f He became the director of the\\n\\nAssociation for Overseas Technical Scholarship. (–87)\\n\\nactivities are conducted reached 52. \\uf09f The Software QC Research Group was\\n\\nestablished. (Apr., JUSE)\\n\\n\\uf09f ICQCC ’85-TOKYO was held. (May,\\n\\n\\uf09f He became the accounting audit for the\\n\\nJUSE)\\n\\nPrivate University Council for Information Processing Education. \\uf09f He became the chair of the ICQCC ’85-TOKYO Program Committee.', metadata={'source': '/content/gdrive/MyDrive/Projects/Digital_Demming/src_content/ParallelChronology_Ver2_150717.pdf'})]}]\n"
          ]
        }
      ]
    },
    {
      "cell_type": "code",
      "source": [],
      "metadata": {
        "id": "4oL5v8kQ1IXN"
      },
      "execution_count": 21,
      "outputs": []
    },
    {
      "cell_type": "code",
      "execution_count": 22,
      "metadata": {
        "id": "4a7jUwgI1Iyt"
      },
      "outputs": [],
      "source": [
        "qa = VectorDBQA.from_chain_type(llm=OpenAI(), chain_type=\"stuff\", vectorstore=docsearch, return_source_documents=True)\n",
        "#query = \"what is the impact of JUSE on TQM?\"\n",
        "#query = \"what is the purpouse of life?\"\n",
        "#query = \"what does demming like for lunch\"\n",
        "#query = \"is quality like a human\"\n",
        "#query = \"what is the fourth rule of TQM\"\n",
        "query = \"Write a detailed introduction of the significance of TQM in the modern business world\"\n",
        "result = qa({\"query\": query})"
      ]
    },
    {
      "cell_type": "code",
      "execution_count": 23,
      "metadata": {
        "colab": {
          "base_uri": "https://localhost:8080/",
          "height": 160
        },
        "outputId": "95219057-3b2d-47d7-b2d4-082cb6fe1170",
        "id": "HnAi6YWb1Iyt"
      },
      "outputs": [
        {
          "output_type": "execute_result",
          "data": {
            "text/plain": [
              "\"\\n\\nTotal Quality Management (TQM) is a management approach that seeks to improve the quality of products and services by focusing on customer satisfaction, continuous improvement, and employee involvement. TQM is a process-oriented approach to management, which seeks to ensure that all aspects of the organization are held to the highest standards of quality and efficiency. TQM is also a customer-centric approach, which means that it puts the customer's needs and wants at the center of all decisions and actions. By doing so, TQM encourages organizations to think about their customers first and take proactive steps to ensure that their products and services are meeting the customer's needs. By continuously improving and innovating, TQM helps organizations to stay competitive and successful in the marketplace. Additionally, by emphasizing employee involvement and empowerment, TQM encourages employees to take responsibility for their own job performance and to come up with creative solutions to problems. Ultimately, TQM is an invaluable tool for organizations to ensure quality, efficiency, customer satisfaction, and continuous improvement.\""
            ],
            "application/vnd.google.colaboratory.intrinsic+json": {
              "type": "string"
            }
          },
          "metadata": {},
          "execution_count": 23
        }
      ],
      "source": [
        "result['result']"
      ]
    },
    {
      "cell_type": "code",
      "source": [
        "#append result  to the array\n",
        "introduction.append(result)\n",
        "\n",
        "#print the array\n",
        "print(introduction)"
      ],
      "metadata": {
        "colab": {
          "base_uri": "https://localhost:8080/"
        },
        "id": "uGbgzLl11Xgs",
        "outputId": "ba40fac8-4c8e-4e6c-e9ce-d30e0ca34fc7"
      },
      "execution_count": 24,
      "outputs": [
        {
          "output_type": "stream",
          "name": "stdout",
          "text": [
            "[{'query': 'what is Total Quality Management (TQM)', 'result': ' Total Quality Management (TQM) is a system of management that seeks to continuously improve the quality of products and services through the involvement of all levels of employees in the organization. It is achieved by setting quality standards, measuring performance against those standards, and taking corrective actions to ensure that the standards are met.', 'source_documents': [Document(page_content='1) AGREE: Advisory Group on Reliability of Electronic Equipment 2) AOTS: Association for Overseas Technical Scholarship 3) APO: Asian Productivity Organization 4) ASA: American Standards Association 5) ASQC: American Society for Quality Control 6) BS: British Standards 7) CCS: Civil Communication Section 8) COSCO: Control System Committee 9) EOQC: European Organization for Quality Control 10) EOQ: European Organization for Quality 11) EFQM: European Foundation for Quality Management 12) FMES: Japan Federation of Managerial Engineering Societies\\n\\n524\\n\\nA Parallel Chronology of Prof. Kaoru Ishikawa’s Life and TQC in Japan', metadata={'source': '/content/gdrive/MyDrive/Projects/Digital_Demming/src_content/ParallelChronology_Ver2_150717.pdf'}), Document(page_content='Medal. (ASQC)\\n\\n\\uf09f The Pharmaceutical Manufacturing and Quality Control (GMP) Seminar was held. (Sep., JUSE)\\n\\n\\uf09f The Japan Prefabricated Construction\\n\\nSuppliers and Manufacturers Association held TQC seminars.\\n\\n\\uf09f Noboru Takagi was elected as the 22nd\\n\\npresident of the IEC.\\n\\n\\uf09f The 4th ICPR Conference (IE\\n\\ninternational conference) was held. \\uf09f The 24th QCS: Quality design and\\n\\n\\uf09f Quality Control Handbook (New Edition)\\n\\nprocess design.\\n\\nwritten and edited by Ishikawa was published. (The second edition was published in April, 1988, JSA)\\n\\n\\uf09f The 25th QCS: Small-group activities\\n\\nand QC.\\n\\n1978\\n\\nApril 1\\n\\n\\uf09f He became the President of Musashi\\n\\n\\uf09f The Construction Industry TQC\\n\\nInstitute of Technology.\\n\\nRound-table Conference was held. (JSA)\\n\\n\\uf09f He became the director of Goto-Ikueikai. \\uf09f He became the director of the Tokyu Foundation for Foreign Students.\\n\\n\\uf09f He became the chairperson of the board\\n\\nof directors of the Japan-China Industrial Technology and Culture Center. (–82)', metadata={'source': '/content/gdrive/MyDrive/Projects/Digital_Demming/src_content/ParallelChronology_Ver2_150717.pdf'}), Document(page_content='Deming Application Prize. It was the first construction company to win the prize. (Nov.)\\n\\n\\uf09f A committee to research QC in the\\n\\nservice industry was established. (Nov.,\\n\\nA Parallel Chronology of Prof. Kaoru Ishikawa’s Life and TQC in Japan\\n\\nYear\\n\\nProf. Ishikawa’s Life\\n\\nMajor Events in the Development of QC\\n\\ncommissioned by the Ministry of the Environment.)\\n\\n\\uf09f His book Control Points of Quality (joint authorship) (Zeimukeiri Kyokai) was awarded Nikkei Quality Control Literature Prize.\\n\\nJUSE)\\n\\n\\uf09f The 28th QCS: New product planning\\n\\nand market research.\\n\\n\\uf09f The 29th QCS: Future Quality\\n\\nControl—challenges in the 1980s.\\n\\n1980\\n\\n\\uf09f He became a council member of the Japan Standards Association. (–84)\\n\\n\\uf09f He became a council member of the Japanese Society for Quality Control. (–82)\\n\\n\\uf09f He became the chair of the Nuclear\\n\\nPower Plant Quality Assurance Review Committee. (MITI)\\n\\n\\uf09f He became the chair of the Management\\n\\nResearch Group of Japan-China Economic Association.', metadata={'source': '/content/gdrive/MyDrive/Projects/Digital_Demming/src_content/ParallelChronology_Ver2_150717.pdf'}), Document(page_content='prize. (Nov.)\\n\\n\\uf09f The Japan Federation of Managerial Engineering Societies (FMES) was established. (JSQC, JIMA, and ORSJ)\\n\\n\\uf09f The Act on Science Council of Japan was revised. (Cabinet decision). “Management engineering” was added to “Part 5: Engineering.”\\n\\n\\uf09f ICQCC ’84-Manila was held. \\uf09f The 38th QCS: Sales department and\\n\\nTQC.\\n\\n\\uf09f The 39th QCS: Current situations and\\n\\nissues of TQC.\\n\\n1985\\n\\nJune 15\\n\\n\\uf09f He achieved a hole-in-one (at Tomei\\n\\n\\uf09f The number of countries where QC circle\\n\\nGotemba Country Club). \\uf09f He became the director of the\\n\\nAssociation for Overseas Technical Scholarship. (–87)\\n\\nactivities are conducted reached 52. \\uf09f The Software QC Research Group was\\n\\nestablished. (Apr., JUSE)\\n\\n\\uf09f ICQCC ’85-TOKYO was held. (May,\\n\\n\\uf09f He became the accounting audit for the\\n\\nJUSE)\\n\\nPrivate University Council for Information Processing Education. \\uf09f He became the chair of the ICQCC ’85-TOKYO Program Committee.', metadata={'source': '/content/gdrive/MyDrive/Projects/Digital_Demming/src_content/ParallelChronology_Ver2_150717.pdf'})]}, {'query': 'Write a detailed introduction of the significance of TQM in the modern business world', 'result': \"\\n\\nTotal Quality Management (TQM) is a management approach that seeks to improve the quality of products and services by focusing on customer satisfaction, continuous improvement, and employee involvement. TQM is a process-oriented approach to management, which seeks to ensure that all aspects of the organization are held to the highest standards of quality and efficiency. TQM is also a customer-centric approach, which means that it puts the customer's needs and wants at the center of all decisions and actions. By doing so, TQM encourages organizations to think about their customers first and take proactive steps to ensure that their products and services are meeting the customer's needs. By continuously improving and innovating, TQM helps organizations to stay competitive and successful in the marketplace. Additionally, by emphasizing employee involvement and empowerment, TQM encourages employees to take responsibility for their own job performance and to come up with creative solutions to problems. Ultimately, TQM is an invaluable tool for organizations to ensure quality, efficiency, customer satisfaction, and continuous improvement.\", 'source_documents': [Document(page_content='1) AGREE: Advisory Group on Reliability of Electronic Equipment 2) AOTS: Association for Overseas Technical Scholarship 3) APO: Asian Productivity Organization 4) ASA: American Standards Association 5) ASQC: American Society for Quality Control 6) BS: British Standards 7) CCS: Civil Communication Section 8) COSCO: Control System Committee 9) EOQC: European Organization for Quality Control 10) EOQ: European Organization for Quality 11) EFQM: European Foundation for Quality Management 12) FMES: Japan Federation of Managerial Engineering Societies\\n\\n524\\n\\nA Parallel Chronology of Prof. Kaoru Ishikawa’s Life and TQC in Japan', metadata={'source': '/content/gdrive/MyDrive/Projects/Digital_Demming/src_content/ParallelChronology_Ver2_150717.pdf'}), Document(page_content='Jan. 23\\n\\n\\uf09f A party to celebrate his honor conferred decoration was held at the Hotel Okura.\\n\\nJan. 31\\n\\n\\uf09f He published Introduction to\\n\\nQuality Control (3rd Edition). (JUSE Press)\\n\\nThe English edition:\\n\\nIntroduction to Quality Control (3rd\\n\\n523\\n\\n\\uf09f The 2000th Memorial QC Circle\\n\\nConference was held. (March, QC Circle Headquarters)\\n\\n\\uf09f EFQM was founded. (Sep.) \\uf09f The Software Quality Control Seminar for Managers was held. (Oct., JUSE)\\n\\n\\uf09f The 1st Malcolm Baldrige National Quality Award was awarded. (Oct., America)\\n\\n\\uf09f Joban Hawaiian Center was awarded the Deming Application Prize for Division, as the first service company to win the prize. (Nov.)\\n\\n\\uf09f ICQCC ’88-Taipei was held. (Nov.,\\n\\nTaipei)\\n\\n\\uf09f The number of foreign companies too whom the use of JIS mark is permitted exceeded 100.\\n\\n\\uf09f The 46th QCS: Quality control\\n\\ntraining—current situation and future direction.\\n\\n\\uf09f The 47th QCS: New product planning\\n\\nand market research—how to understand the quality required by customers.', metadata={'source': '/content/gdrive/MyDrive/Projects/Digital_Demming/src_content/ParallelChronology_Ver2_150717.pdf'}), Document(page_content='International Friendship Club. \\uf09f Quality Assurance Guidebook (JUSE Press) written and edited by Ishikawa was awarded the Nikkei Quality Control Literature Prize.\\n\\nASQC Annual Conference.\\n\\n\\uf09f IAQ meeting was held in Venice in September, at the same time as the EOQC Conference.\\n\\n\\uf09f The 25th anniversary of the Deming\\n\\nPrize. Dr. Deming was invited to Japan. \\uf09f The South Korea’s Industrial Promotion\\n\\nBureau began promoting QC.\\n\\n\\uf09f The 1st National QC Circle Conference\\n\\n514\\n\\nA Parallel Chronology of Prof. Kaoru Ishikawa’s Life and TQC in Japan\\n\\nYear\\n\\nProf. Ishikawa’s Life\\n\\nMajor Events in the Development of QC\\n\\nwas held in South Korea. The 1st QC and Standardization Conference was also held.\\n\\n\\uf09f The Delegation Team from the South\\n\\nKorea’s Industrial Promotion Bureau and the Korean Standards Association Research visited Japan.\\n\\n\\uf09f A delegation team was dispatched to the USSR. (Japan-Soviet Round-table Conference on Standardization) \\uf09f The 21st QCS: Measures to address\\n\\nproduct liability.', metadata={'source': '/content/gdrive/MyDrive/Projects/Digital_Demming/src_content/ParallelChronology_Ver2_150717.pdf'}), Document(page_content='Deming Application Prize. It was the first construction company to win the prize. (Nov.)\\n\\n\\uf09f A committee to research QC in the\\n\\nservice industry was established. (Nov.,\\n\\nA Parallel Chronology of Prof. Kaoru Ishikawa’s Life and TQC in Japan\\n\\nYear\\n\\nProf. Ishikawa’s Life\\n\\nMajor Events in the Development of QC\\n\\ncommissioned by the Ministry of the Environment.)\\n\\n\\uf09f His book Control Points of Quality (joint authorship) (Zeimukeiri Kyokai) was awarded Nikkei Quality Control Literature Prize.\\n\\nJUSE)\\n\\n\\uf09f The 28th QCS: New product planning\\n\\nand market research.\\n\\n\\uf09f The 29th QCS: Future Quality\\n\\nControl—challenges in the 1980s.\\n\\n1980\\n\\n\\uf09f He became a council member of the Japan Standards Association. (–84)\\n\\n\\uf09f He became a council member of the Japanese Society for Quality Control. (–82)\\n\\n\\uf09f He became the chair of the Nuclear\\n\\nPower Plant Quality Assurance Review Committee. (MITI)\\n\\n\\uf09f He became the chair of the Management\\n\\nResearch Group of Japan-China Economic Association.', metadata={'source': '/content/gdrive/MyDrive/Projects/Digital_Demming/src_content/ParallelChronology_Ver2_150717.pdf'})]}]\n"
          ]
        }
      ]
    },
    {
      "cell_type": "code",
      "source": [],
      "metadata": {
        "id": "gKBSyNe61bjF"
      },
      "execution_count": 24,
      "outputs": []
    },
    {
      "cell_type": "code",
      "execution_count": 25,
      "metadata": {
        "id": "1rA_rDAu1bsD"
      },
      "outputs": [],
      "source": [
        "qa = VectorDBQA.from_chain_type(llm=OpenAI(), chain_type=\"stuff\", vectorstore=docsearch, return_source_documents=True)\n",
        "#query = \"what is the impact of JUSE on TQM?\"\n",
        "#query = \"what is the purpouse of life?\"\n",
        "#query = \"what does demming like for lunch\"\n",
        "#query = \"is quality like a human\"\n",
        "#query = \"what is the fourth rule of TQM\"\n",
        "#query = \"Write a detailed introduction of the significance of TQM in the modern business world\"\n",
        "query = \"Introduction to Kaoru Ishikawa and the Japanese Union of Scientists and Engineers (JUSE)\"\n",
        "result = qa({\"query\": query})"
      ]
    },
    {
      "cell_type": "code",
      "execution_count": 26,
      "metadata": {
        "colab": {
          "base_uri": "https://localhost:8080/",
          "height": 160
        },
        "outputId": "4c586781-ca84-4198-9fbd-694c20d2b97c",
        "id": "fFWZoc4m1bsE"
      },
      "outputs": [
        {
          "output_type": "execute_result",
          "data": {
            "text/plain": [
              "' Kaoru Ishikawa worked as a lecturer of the Introductory Course for Design of Experiment in the Department of Chemical Engineering at the University of Tokyo. He also became a member of the ISO/TC 102 Japan Committee, the chair of the Sampling Subcommittee, the chair of the editorial board of Genba To QC-magazine, the chair of the Editorial Committee of the JUSE English Report, the vice-chair of the Reliability and Maintainability Symposium Organizing Committee, and the chair of the Organizing Committee of the JUSE Course for Purchasing. He was also involved in the QC Seminar for Managers and the QC Seminar for Supervisors (Central Japan Industries Association), the Inspection Seminar (JSA), the QC Correspondence Basic Course for Foremen (JUSE), the QC Circle Hokkaido Regional Chapter (QC Circle Headquarters), the Japanese Society for Quality Control foundation meeting (Nov.), the Sensory Test Overseas Research Team (May, JUSE), the Standardization Mission Team (headed by Hidehiko Azuma, dispatched to the USSR, JSA), the 2nd Japan-America Joint Symposium on Bulk Material Sampling (Oct., Hawaii), the Japanese Society for Quality Control Internationally-operating Company QC Research De'"
            ],
            "application/vnd.google.colaboratory.intrinsic+json": {
              "type": "string"
            }
          },
          "metadata": {},
          "execution_count": 26
        }
      ],
      "source": [
        "result['result']"
      ]
    },
    {
      "cell_type": "code",
      "source": [
        "#append result  to the array\n",
        "introduction.append(result)\n",
        "\n",
        "#print the array\n",
        "print(introduction)"
      ],
      "metadata": {
        "colab": {
          "base_uri": "https://localhost:8080/"
        },
        "outputId": "8ffbbe9b-ae71-45e3-9a04-448296d4b2bc",
        "id": "7neLSSFq1bsE"
      },
      "execution_count": 27,
      "outputs": [
        {
          "output_type": "stream",
          "name": "stdout",
          "text": [
            "[{'query': 'what is Total Quality Management (TQM)', 'result': ' Total Quality Management (TQM) is a system of management that seeks to continuously improve the quality of products and services through the involvement of all levels of employees in the organization. It is achieved by setting quality standards, measuring performance against those standards, and taking corrective actions to ensure that the standards are met.', 'source_documents': [Document(page_content='1) AGREE: Advisory Group on Reliability of Electronic Equipment 2) AOTS: Association for Overseas Technical Scholarship 3) APO: Asian Productivity Organization 4) ASA: American Standards Association 5) ASQC: American Society for Quality Control 6) BS: British Standards 7) CCS: Civil Communication Section 8) COSCO: Control System Committee 9) EOQC: European Organization for Quality Control 10) EOQ: European Organization for Quality 11) EFQM: European Foundation for Quality Management 12) FMES: Japan Federation of Managerial Engineering Societies\\n\\n524\\n\\nA Parallel Chronology of Prof. Kaoru Ishikawa’s Life and TQC in Japan', metadata={'source': '/content/gdrive/MyDrive/Projects/Digital_Demming/src_content/ParallelChronology_Ver2_150717.pdf'}), Document(page_content='Medal. (ASQC)\\n\\n\\uf09f The Pharmaceutical Manufacturing and Quality Control (GMP) Seminar was held. (Sep., JUSE)\\n\\n\\uf09f The Japan Prefabricated Construction\\n\\nSuppliers and Manufacturers Association held TQC seminars.\\n\\n\\uf09f Noboru Takagi was elected as the 22nd\\n\\npresident of the IEC.\\n\\n\\uf09f The 4th ICPR Conference (IE\\n\\ninternational conference) was held. \\uf09f The 24th QCS: Quality design and\\n\\n\\uf09f Quality Control Handbook (New Edition)\\n\\nprocess design.\\n\\nwritten and edited by Ishikawa was published. (The second edition was published in April, 1988, JSA)\\n\\n\\uf09f The 25th QCS: Small-group activities\\n\\nand QC.\\n\\n1978\\n\\nApril 1\\n\\n\\uf09f He became the President of Musashi\\n\\n\\uf09f The Construction Industry TQC\\n\\nInstitute of Technology.\\n\\nRound-table Conference was held. (JSA)\\n\\n\\uf09f He became the director of Goto-Ikueikai. \\uf09f He became the director of the Tokyu Foundation for Foreign Students.\\n\\n\\uf09f He became the chairperson of the board\\n\\nof directors of the Japan-China Industrial Technology and Culture Center. (–82)', metadata={'source': '/content/gdrive/MyDrive/Projects/Digital_Demming/src_content/ParallelChronology_Ver2_150717.pdf'}), Document(page_content='Deming Application Prize. It was the first construction company to win the prize. (Nov.)\\n\\n\\uf09f A committee to research QC in the\\n\\nservice industry was established. (Nov.,\\n\\nA Parallel Chronology of Prof. Kaoru Ishikawa’s Life and TQC in Japan\\n\\nYear\\n\\nProf. Ishikawa’s Life\\n\\nMajor Events in the Development of QC\\n\\ncommissioned by the Ministry of the Environment.)\\n\\n\\uf09f His book Control Points of Quality (joint authorship) (Zeimukeiri Kyokai) was awarded Nikkei Quality Control Literature Prize.\\n\\nJUSE)\\n\\n\\uf09f The 28th QCS: New product planning\\n\\nand market research.\\n\\n\\uf09f The 29th QCS: Future Quality\\n\\nControl—challenges in the 1980s.\\n\\n1980\\n\\n\\uf09f He became a council member of the Japan Standards Association. (–84)\\n\\n\\uf09f He became a council member of the Japanese Society for Quality Control. (–82)\\n\\n\\uf09f He became the chair of the Nuclear\\n\\nPower Plant Quality Assurance Review Committee. (MITI)\\n\\n\\uf09f He became the chair of the Management\\n\\nResearch Group of Japan-China Economic Association.', metadata={'source': '/content/gdrive/MyDrive/Projects/Digital_Demming/src_content/ParallelChronology_Ver2_150717.pdf'}), Document(page_content='prize. (Nov.)\\n\\n\\uf09f The Japan Federation of Managerial Engineering Societies (FMES) was established. (JSQC, JIMA, and ORSJ)\\n\\n\\uf09f The Act on Science Council of Japan was revised. (Cabinet decision). “Management engineering” was added to “Part 5: Engineering.”\\n\\n\\uf09f ICQCC ’84-Manila was held. \\uf09f The 38th QCS: Sales department and\\n\\nTQC.\\n\\n\\uf09f The 39th QCS: Current situations and\\n\\nissues of TQC.\\n\\n1985\\n\\nJune 15\\n\\n\\uf09f He achieved a hole-in-one (at Tomei\\n\\n\\uf09f The number of countries where QC circle\\n\\nGotemba Country Club). \\uf09f He became the director of the\\n\\nAssociation for Overseas Technical Scholarship. (–87)\\n\\nactivities are conducted reached 52. \\uf09f The Software QC Research Group was\\n\\nestablished. (Apr., JUSE)\\n\\n\\uf09f ICQCC ’85-TOKYO was held. (May,\\n\\n\\uf09f He became the accounting audit for the\\n\\nJUSE)\\n\\nPrivate University Council for Information Processing Education. \\uf09f He became the chair of the ICQCC ’85-TOKYO Program Committee.', metadata={'source': '/content/gdrive/MyDrive/Projects/Digital_Demming/src_content/ParallelChronology_Ver2_150717.pdf'})]}, {'query': 'Write a detailed introduction of the significance of TQM in the modern business world', 'result': \"\\n\\nTotal Quality Management (TQM) is a management approach that seeks to improve the quality of products and services by focusing on customer satisfaction, continuous improvement, and employee involvement. TQM is a process-oriented approach to management, which seeks to ensure that all aspects of the organization are held to the highest standards of quality and efficiency. TQM is also a customer-centric approach, which means that it puts the customer's needs and wants at the center of all decisions and actions. By doing so, TQM encourages organizations to think about their customers first and take proactive steps to ensure that their products and services are meeting the customer's needs. By continuously improving and innovating, TQM helps organizations to stay competitive and successful in the marketplace. Additionally, by emphasizing employee involvement and empowerment, TQM encourages employees to take responsibility for their own job performance and to come up with creative solutions to problems. Ultimately, TQM is an invaluable tool for organizations to ensure quality, efficiency, customer satisfaction, and continuous improvement.\", 'source_documents': [Document(page_content='1) AGREE: Advisory Group on Reliability of Electronic Equipment 2) AOTS: Association for Overseas Technical Scholarship 3) APO: Asian Productivity Organization 4) ASA: American Standards Association 5) ASQC: American Society for Quality Control 6) BS: British Standards 7) CCS: Civil Communication Section 8) COSCO: Control System Committee 9) EOQC: European Organization for Quality Control 10) EOQ: European Organization for Quality 11) EFQM: European Foundation for Quality Management 12) FMES: Japan Federation of Managerial Engineering Societies\\n\\n524\\n\\nA Parallel Chronology of Prof. Kaoru Ishikawa’s Life and TQC in Japan', metadata={'source': '/content/gdrive/MyDrive/Projects/Digital_Demming/src_content/ParallelChronology_Ver2_150717.pdf'}), Document(page_content='Jan. 23\\n\\n\\uf09f A party to celebrate his honor conferred decoration was held at the Hotel Okura.\\n\\nJan. 31\\n\\n\\uf09f He published Introduction to\\n\\nQuality Control (3rd Edition). (JUSE Press)\\n\\nThe English edition:\\n\\nIntroduction to Quality Control (3rd\\n\\n523\\n\\n\\uf09f The 2000th Memorial QC Circle\\n\\nConference was held. (March, QC Circle Headquarters)\\n\\n\\uf09f EFQM was founded. (Sep.) \\uf09f The Software Quality Control Seminar for Managers was held. (Oct., JUSE)\\n\\n\\uf09f The 1st Malcolm Baldrige National Quality Award was awarded. (Oct., America)\\n\\n\\uf09f Joban Hawaiian Center was awarded the Deming Application Prize for Division, as the first service company to win the prize. (Nov.)\\n\\n\\uf09f ICQCC ’88-Taipei was held. (Nov.,\\n\\nTaipei)\\n\\n\\uf09f The number of foreign companies too whom the use of JIS mark is permitted exceeded 100.\\n\\n\\uf09f The 46th QCS: Quality control\\n\\ntraining—current situation and future direction.\\n\\n\\uf09f The 47th QCS: New product planning\\n\\nand market research—how to understand the quality required by customers.', metadata={'source': '/content/gdrive/MyDrive/Projects/Digital_Demming/src_content/ParallelChronology_Ver2_150717.pdf'}), Document(page_content='International Friendship Club. \\uf09f Quality Assurance Guidebook (JUSE Press) written and edited by Ishikawa was awarded the Nikkei Quality Control Literature Prize.\\n\\nASQC Annual Conference.\\n\\n\\uf09f IAQ meeting was held in Venice in September, at the same time as the EOQC Conference.\\n\\n\\uf09f The 25th anniversary of the Deming\\n\\nPrize. Dr. Deming was invited to Japan. \\uf09f The South Korea’s Industrial Promotion\\n\\nBureau began promoting QC.\\n\\n\\uf09f The 1st National QC Circle Conference\\n\\n514\\n\\nA Parallel Chronology of Prof. Kaoru Ishikawa’s Life and TQC in Japan\\n\\nYear\\n\\nProf. Ishikawa’s Life\\n\\nMajor Events in the Development of QC\\n\\nwas held in South Korea. The 1st QC and Standardization Conference was also held.\\n\\n\\uf09f The Delegation Team from the South\\n\\nKorea’s Industrial Promotion Bureau and the Korean Standards Association Research visited Japan.\\n\\n\\uf09f A delegation team was dispatched to the USSR. (Japan-Soviet Round-table Conference on Standardization) \\uf09f The 21st QCS: Measures to address\\n\\nproduct liability.', metadata={'source': '/content/gdrive/MyDrive/Projects/Digital_Demming/src_content/ParallelChronology_Ver2_150717.pdf'}), Document(page_content='Deming Application Prize. It was the first construction company to win the prize. (Nov.)\\n\\n\\uf09f A committee to research QC in the\\n\\nservice industry was established. (Nov.,\\n\\nA Parallel Chronology of Prof. Kaoru Ishikawa’s Life and TQC in Japan\\n\\nYear\\n\\nProf. Ishikawa’s Life\\n\\nMajor Events in the Development of QC\\n\\ncommissioned by the Ministry of the Environment.)\\n\\n\\uf09f His book Control Points of Quality (joint authorship) (Zeimukeiri Kyokai) was awarded Nikkei Quality Control Literature Prize.\\n\\nJUSE)\\n\\n\\uf09f The 28th QCS: New product planning\\n\\nand market research.\\n\\n\\uf09f The 29th QCS: Future Quality\\n\\nControl—challenges in the 1980s.\\n\\n1980\\n\\n\\uf09f He became a council member of the Japan Standards Association. (–84)\\n\\n\\uf09f He became a council member of the Japanese Society for Quality Control. (–82)\\n\\n\\uf09f He became the chair of the Nuclear\\n\\nPower Plant Quality Assurance Review Committee. (MITI)\\n\\n\\uf09f He became the chair of the Management\\n\\nResearch Group of Japan-China Economic Association.', metadata={'source': '/content/gdrive/MyDrive/Projects/Digital_Demming/src_content/ParallelChronology_Ver2_150717.pdf'})]}, {'query': 'Introduction to Kaoru Ishikawa and the Japanese Union of Scientists and Engineers (JUSE)', 'result': ' Kaoru Ishikawa worked as a lecturer of the Introductory Course for Design of Experiment in the Department of Chemical Engineering at the University of Tokyo. He also became a member of the ISO/TC 102 Japan Committee, the chair of the Sampling Subcommittee, the chair of the editorial board of Genba To QC-magazine, the chair of the Editorial Committee of the JUSE English Report, the vice-chair of the Reliability and Maintainability Symposium Organizing Committee, and the chair of the Organizing Committee of the JUSE Course for Purchasing. He was also involved in the QC Seminar for Managers and the QC Seminar for Supervisors (Central Japan Industries Association), the Inspection Seminar (JSA), the QC Correspondence Basic Course for Foremen (JUSE), the QC Circle Hokkaido Regional Chapter (QC Circle Headquarters), the Japanese Society for Quality Control foundation meeting (Nov.), the Sensory Test Overseas Research Team (May, JUSE), the Standardization Mission Team (headed by Hidehiko Azuma, dispatched to the USSR, JSA), the 2nd Japan-America Joint Symposium on Bulk Material Sampling (Oct., Hawaii), the Japanese Society for Quality Control Internationally-operating Company QC Research De', 'source_documents': [Document(page_content='department, Ishikawa belonged to the 4th Fuel Engineering Laboratory (Applied Combustible Science). (the University of Tokyo)\\n\\n\\uf09f He became a lecturer of the Introductory\\n\\n\\uf09f The QC Seminar for Managers and the QC Seminar for Supervisors started. (Central Japan Industries Association)\\n\\n\\uf09f Introductory Course for Design of\\n\\nExperiment was held. (Apr., JUSE) \\uf09f The Asian Productivity Organization\\n\\nCourse for Design of Experiment. (JUSE)\\n\\n(APO) was founded. (May) \\uf09f Japan became the secretariat of\\n\\n\\uf09f He became a member of the ISO/TC 102 Japan Committee and served as the chair of the Sampling Subcommittee. (–81, Japan Iron and Steel Federation)\\n\\n\\uf09f He was awarded with the Fuel Society of\\n\\n(Age 46) 1962\\n\\nJapan Award.\\n\\nISO/TC102 (iron ore).\\n\\n\\uf09f The Japan Consumers’ Association was\\n\\nfounded. (Sep.)\\n\\n\\uf09f The “Supervisor Special Issue” of\\n\\nHinshitsu Kanri (Statistical Quality Control) was issued. (Nov., JUSE)\\n\\n\\uf09f He became the chair of the editorial board of Genba To QC-magazine. (JUSE)', metadata={'source': '/content/gdrive/MyDrive/Projects/Digital_Demming/src_content/ParallelChronology_Ver2_150717.pdf'}), Document(page_content='held at Atami Golf Club. After the reorganization of the department, Ishikawa belonged to the Department of Chemical Engineering, Fuel Engineering Laboratory. (the University of Tokyo)\\n\\n\\uf09f He became the chair of the Editorial\\n\\nCommittee of the JUSE English Report. \\uf09f He became an examiner of the Ministry of International Trade and Industry’s Professional engineers qualification examination. (–61)\\n\\n\\uf09f He became a member of the Council for\\n\\nIndustrial Rationalization. (–61)\\n\\n\\uf09f He became a lecturer of the QC Seminar\\n\\nfor Managers. (JSA)\\n\\nlectures around the country.\\n\\n\\uf09f The QC Seminar for Managers was held.\\n\\n(JSA)\\n\\n\\uf09f The Inspection Seminar was held. (JSA) \\uf09f To celebrate the 10th anniversary of the Industrial Standardization Act, Japan’s Industrial Standardization was published. (Agency of Industrial Science and Technology)\\n\\n\\uf09f The TV series “The Training of Quality', metadata={'source': '/content/gdrive/MyDrive/Projects/Digital_Demming/src_content/ParallelChronology_Ver2_150717.pdf'}), Document(page_content='\\uf09f He became the vice-chair of the Reliability and Maintainability Symposium Organizing Committee. (JUSE)\\n\\n\\uf09f He became the chair of the Organizing Committee of the JUSE Course for Purchasing. (JUSE)\\n\\n\\uf09f The Sensory Test Overseas Research Team was dispatched. (May, JUSE) \\uf09f The Standardization Mission Team (headed by Hidehiko Azuma) was dispatched to the USSR. (JSA) \\uf09f The 2nd Japan-America Joint Symposium on Bulk Material Sampling was held. (Oct., Hawaii)\\n\\n\\uf09f October 14 was declared as World\\n\\nStandards Day. (ISO)\\n\\n\\uf09f The Japanese Society for Quality Control foundation meeting was held. (Nov.) \\uf09f The 11th QCS: Planning and quality. \\uf09f The 12th QCS: Product safety, pollution\\n\\nand QC.\\n\\n\\uf09f The QC Correspondence Basic Course for Foremen was held. (Jan., JUSE) \\uf09f The QC Circle Hokkaido Regional\\n\\nChapter was founded. (March, QC Circle Headquarters)\\n\\n\\uf09f Reliability Symposium [71–, Reliability and Maintainability Symposium] was held. (Apr., JUSE)\\n\\n\\uf09f The Japanese Society for Quality Control', metadata={'source': '/content/gdrive/MyDrive/Projects/Digital_Demming/src_content/ParallelChronology_Ver2_150717.pdf'}), Document(page_content='Internationally-operating Company QC Research Delegation (Southeast Asia). (JUSE)\\n\\n\\uf09f He became a principal lecturer of the\\n\\n“In-Plant Group Training Program in the Field of Quality Improvement for Industrial Products.” (UNIDO/AOTS) \\uf09f JIS Z 8402 “General rules for permissible\\n\\ntolerance of chemical analyses and physical tests” was established. (Ishikawa was the chair of the Draft Committee.) \\uf09f He became an honorary member of the Japan Environmental Measurements & Chemical Analysis Association.\\n\\n\\uf09f Quality Assurance Guidebook edited by Ishikawa was published. (Oct., JUSE Press)\\n\\n\\uf09f The Introductory QC Course for\\n\\nMarketing was held. (March, JUSE) \\uf09f The Housing Industry QC Research Group was established. (MITI)\\n\\n\\uf09f The Service Industry QC Symposium\\n\\nwas held, inviting Dr. Juran. (Oct., JUSE)\\n\\n\\uf09f ISO/TC 69 newly established SC 1. \\uf09f The International Standardization Activities Cooperation Center was founded. (JSA)\\n\\n\\uf09f A Long-term Plan for Industrial', metadata={'source': '/content/gdrive/MyDrive/Projects/Digital_Demming/src_content/ParallelChronology_Ver2_150717.pdf'})]}]\n"
          ]
        }
      ]
    },
    {
      "cell_type": "code",
      "execution_count": 51,
      "metadata": {
        "id": "aBESyBaS1tYH"
      },
      "outputs": [],
      "source": [
        "qa = VectorDBQA.from_chain_type(llm=OpenAI(), chain_type=\"stuff\", vectorstore=docsearch, return_source_documents=True)\n",
        "#query = \"what is the impact of JUSE on TQM?\"\n",
        "#query = \"what is the purpouse of life?\"\n",
        "#query = \"what does demming like for lunch\"\n",
        "#query = \"is quality like a human\"\n",
        "#query = \"what is the fourth rule of TQM\"\n",
        "#query = \"Write a detailed introduction of the significance of TQM in the modern business world\"\n",
        "#query = \"Introduction to Kaoru Ishikawa and the Japanese Union of Scientists and Engineers (JUSE)\"\n",
        "query = \" Write a Thesis Statement regarding TQM, Kaoru Ishikawa, Japanese Union of Scientists and engineers.\"\n",
        "result = qa({\"query\": query})"
      ]
    },
    {
      "cell_type": "code",
      "execution_count": 52,
      "metadata": {
        "colab": {
          "base_uri": "https://localhost:8080/",
          "height": 53
        },
        "outputId": "98a75379-9672-4c1a-beca-fba354ef7d55",
        "id": "8JPTo8w21tYH"
      },
      "outputs": [
        {
          "output_type": "execute_result",
          "data": {
            "text/plain": [
              "\" Thesis Statement: Kaoru Ishikawa's life and work in TQC, which was strongly supported by the Japanese Union of Scientists and Engineers, had a major impact on the development of Total Quality Management in Japan.\""
            ],
            "application/vnd.google.colaboratory.intrinsic+json": {
              "type": "string"
            }
          },
          "metadata": {},
          "execution_count": 52
        }
      ],
      "source": [
        "result['result']"
      ]
    },
    {
      "cell_type": "code",
      "source": [
        "#append result  to the array\n",
        "introduction.append(result)\n",
        "\n",
        "#print the array\n",
        "print(introduction)"
      ],
      "metadata": {
        "colab": {
          "base_uri": "https://localhost:8080/"
        },
        "outputId": "39968627-127b-4c4e-ddad-53749b4783e1",
        "id": "twCsDUR-1tYH"
      },
      "execution_count": 30,
      "outputs": [
        {
          "output_type": "stream",
          "name": "stdout",
          "text": [
            "[{'query': 'what is Total Quality Management (TQM)', 'result': ' Total Quality Management (TQM) is a system of management that seeks to continuously improve the quality of products and services through the involvement of all levels of employees in the organization. It is achieved by setting quality standards, measuring performance against those standards, and taking corrective actions to ensure that the standards are met.', 'source_documents': [Document(page_content='1) AGREE: Advisory Group on Reliability of Electronic Equipment 2) AOTS: Association for Overseas Technical Scholarship 3) APO: Asian Productivity Organization 4) ASA: American Standards Association 5) ASQC: American Society for Quality Control 6) BS: British Standards 7) CCS: Civil Communication Section 8) COSCO: Control System Committee 9) EOQC: European Organization for Quality Control 10) EOQ: European Organization for Quality 11) EFQM: European Foundation for Quality Management 12) FMES: Japan Federation of Managerial Engineering Societies\\n\\n524\\n\\nA Parallel Chronology of Prof. Kaoru Ishikawa’s Life and TQC in Japan', metadata={'source': '/content/gdrive/MyDrive/Projects/Digital_Demming/src_content/ParallelChronology_Ver2_150717.pdf'}), Document(page_content='Medal. (ASQC)\\n\\n\\uf09f The Pharmaceutical Manufacturing and Quality Control (GMP) Seminar was held. (Sep., JUSE)\\n\\n\\uf09f The Japan Prefabricated Construction\\n\\nSuppliers and Manufacturers Association held TQC seminars.\\n\\n\\uf09f Noboru Takagi was elected as the 22nd\\n\\npresident of the IEC.\\n\\n\\uf09f The 4th ICPR Conference (IE\\n\\ninternational conference) was held. \\uf09f The 24th QCS: Quality design and\\n\\n\\uf09f Quality Control Handbook (New Edition)\\n\\nprocess design.\\n\\nwritten and edited by Ishikawa was published. (The second edition was published in April, 1988, JSA)\\n\\n\\uf09f The 25th QCS: Small-group activities\\n\\nand QC.\\n\\n1978\\n\\nApril 1\\n\\n\\uf09f He became the President of Musashi\\n\\n\\uf09f The Construction Industry TQC\\n\\nInstitute of Technology.\\n\\nRound-table Conference was held. (JSA)\\n\\n\\uf09f He became the director of Goto-Ikueikai. \\uf09f He became the director of the Tokyu Foundation for Foreign Students.\\n\\n\\uf09f He became the chairperson of the board\\n\\nof directors of the Japan-China Industrial Technology and Culture Center. (–82)', metadata={'source': '/content/gdrive/MyDrive/Projects/Digital_Demming/src_content/ParallelChronology_Ver2_150717.pdf'}), Document(page_content='Deming Application Prize. It was the first construction company to win the prize. (Nov.)\\n\\n\\uf09f A committee to research QC in the\\n\\nservice industry was established. (Nov.,\\n\\nA Parallel Chronology of Prof. Kaoru Ishikawa’s Life and TQC in Japan\\n\\nYear\\n\\nProf. Ishikawa’s Life\\n\\nMajor Events in the Development of QC\\n\\ncommissioned by the Ministry of the Environment.)\\n\\n\\uf09f His book Control Points of Quality (joint authorship) (Zeimukeiri Kyokai) was awarded Nikkei Quality Control Literature Prize.\\n\\nJUSE)\\n\\n\\uf09f The 28th QCS: New product planning\\n\\nand market research.\\n\\n\\uf09f The 29th QCS: Future Quality\\n\\nControl—challenges in the 1980s.\\n\\n1980\\n\\n\\uf09f He became a council member of the Japan Standards Association. (–84)\\n\\n\\uf09f He became a council member of the Japanese Society for Quality Control. (–82)\\n\\n\\uf09f He became the chair of the Nuclear\\n\\nPower Plant Quality Assurance Review Committee. (MITI)\\n\\n\\uf09f He became the chair of the Management\\n\\nResearch Group of Japan-China Economic Association.', metadata={'source': '/content/gdrive/MyDrive/Projects/Digital_Demming/src_content/ParallelChronology_Ver2_150717.pdf'}), Document(page_content='prize. (Nov.)\\n\\n\\uf09f The Japan Federation of Managerial Engineering Societies (FMES) was established. (JSQC, JIMA, and ORSJ)\\n\\n\\uf09f The Act on Science Council of Japan was revised. (Cabinet decision). “Management engineering” was added to “Part 5: Engineering.”\\n\\n\\uf09f ICQCC ’84-Manila was held. \\uf09f The 38th QCS: Sales department and\\n\\nTQC.\\n\\n\\uf09f The 39th QCS: Current situations and\\n\\nissues of TQC.\\n\\n1985\\n\\nJune 15\\n\\n\\uf09f He achieved a hole-in-one (at Tomei\\n\\n\\uf09f The number of countries where QC circle\\n\\nGotemba Country Club). \\uf09f He became the director of the\\n\\nAssociation for Overseas Technical Scholarship. (–87)\\n\\nactivities are conducted reached 52. \\uf09f The Software QC Research Group was\\n\\nestablished. (Apr., JUSE)\\n\\n\\uf09f ICQCC ’85-TOKYO was held. (May,\\n\\n\\uf09f He became the accounting audit for the\\n\\nJUSE)\\n\\nPrivate University Council for Information Processing Education. \\uf09f He became the chair of the ICQCC ’85-TOKYO Program Committee.', metadata={'source': '/content/gdrive/MyDrive/Projects/Digital_Demming/src_content/ParallelChronology_Ver2_150717.pdf'})]}, {'query': 'Write a detailed introduction of the significance of TQM in the modern business world', 'result': \"\\n\\nTotal Quality Management (TQM) is a management approach that seeks to improve the quality of products and services by focusing on customer satisfaction, continuous improvement, and employee involvement. TQM is a process-oriented approach to management, which seeks to ensure that all aspects of the organization are held to the highest standards of quality and efficiency. TQM is also a customer-centric approach, which means that it puts the customer's needs and wants at the center of all decisions and actions. By doing so, TQM encourages organizations to think about their customers first and take proactive steps to ensure that their products and services are meeting the customer's needs. By continuously improving and innovating, TQM helps organizations to stay competitive and successful in the marketplace. Additionally, by emphasizing employee involvement and empowerment, TQM encourages employees to take responsibility for their own job performance and to come up with creative solutions to problems. Ultimately, TQM is an invaluable tool for organizations to ensure quality, efficiency, customer satisfaction, and continuous improvement.\", 'source_documents': [Document(page_content='1) AGREE: Advisory Group on Reliability of Electronic Equipment 2) AOTS: Association for Overseas Technical Scholarship 3) APO: Asian Productivity Organization 4) ASA: American Standards Association 5) ASQC: American Society for Quality Control 6) BS: British Standards 7) CCS: Civil Communication Section 8) COSCO: Control System Committee 9) EOQC: European Organization for Quality Control 10) EOQ: European Organization for Quality 11) EFQM: European Foundation for Quality Management 12) FMES: Japan Federation of Managerial Engineering Societies\\n\\n524\\n\\nA Parallel Chronology of Prof. Kaoru Ishikawa’s Life and TQC in Japan', metadata={'source': '/content/gdrive/MyDrive/Projects/Digital_Demming/src_content/ParallelChronology_Ver2_150717.pdf'}), Document(page_content='Jan. 23\\n\\n\\uf09f A party to celebrate his honor conferred decoration was held at the Hotel Okura.\\n\\nJan. 31\\n\\n\\uf09f He published Introduction to\\n\\nQuality Control (3rd Edition). (JUSE Press)\\n\\nThe English edition:\\n\\nIntroduction to Quality Control (3rd\\n\\n523\\n\\n\\uf09f The 2000th Memorial QC Circle\\n\\nConference was held. (March, QC Circle Headquarters)\\n\\n\\uf09f EFQM was founded. (Sep.) \\uf09f The Software Quality Control Seminar for Managers was held. (Oct., JUSE)\\n\\n\\uf09f The 1st Malcolm Baldrige National Quality Award was awarded. (Oct., America)\\n\\n\\uf09f Joban Hawaiian Center was awarded the Deming Application Prize for Division, as the first service company to win the prize. (Nov.)\\n\\n\\uf09f ICQCC ’88-Taipei was held. (Nov.,\\n\\nTaipei)\\n\\n\\uf09f The number of foreign companies too whom the use of JIS mark is permitted exceeded 100.\\n\\n\\uf09f The 46th QCS: Quality control\\n\\ntraining—current situation and future direction.\\n\\n\\uf09f The 47th QCS: New product planning\\n\\nand market research—how to understand the quality required by customers.', metadata={'source': '/content/gdrive/MyDrive/Projects/Digital_Demming/src_content/ParallelChronology_Ver2_150717.pdf'}), Document(page_content='International Friendship Club. \\uf09f Quality Assurance Guidebook (JUSE Press) written and edited by Ishikawa was awarded the Nikkei Quality Control Literature Prize.\\n\\nASQC Annual Conference.\\n\\n\\uf09f IAQ meeting was held in Venice in September, at the same time as the EOQC Conference.\\n\\n\\uf09f The 25th anniversary of the Deming\\n\\nPrize. Dr. Deming was invited to Japan. \\uf09f The South Korea’s Industrial Promotion\\n\\nBureau began promoting QC.\\n\\n\\uf09f The 1st National QC Circle Conference\\n\\n514\\n\\nA Parallel Chronology of Prof. Kaoru Ishikawa’s Life and TQC in Japan\\n\\nYear\\n\\nProf. Ishikawa’s Life\\n\\nMajor Events in the Development of QC\\n\\nwas held in South Korea. The 1st QC and Standardization Conference was also held.\\n\\n\\uf09f The Delegation Team from the South\\n\\nKorea’s Industrial Promotion Bureau and the Korean Standards Association Research visited Japan.\\n\\n\\uf09f A delegation team was dispatched to the USSR. (Japan-Soviet Round-table Conference on Standardization) \\uf09f The 21st QCS: Measures to address\\n\\nproduct liability.', metadata={'source': '/content/gdrive/MyDrive/Projects/Digital_Demming/src_content/ParallelChronology_Ver2_150717.pdf'}), Document(page_content='Deming Application Prize. It was the first construction company to win the prize. (Nov.)\\n\\n\\uf09f A committee to research QC in the\\n\\nservice industry was established. (Nov.,\\n\\nA Parallel Chronology of Prof. Kaoru Ishikawa’s Life and TQC in Japan\\n\\nYear\\n\\nProf. Ishikawa’s Life\\n\\nMajor Events in the Development of QC\\n\\ncommissioned by the Ministry of the Environment.)\\n\\n\\uf09f His book Control Points of Quality (joint authorship) (Zeimukeiri Kyokai) was awarded Nikkei Quality Control Literature Prize.\\n\\nJUSE)\\n\\n\\uf09f The 28th QCS: New product planning\\n\\nand market research.\\n\\n\\uf09f The 29th QCS: Future Quality\\n\\nControl—challenges in the 1980s.\\n\\n1980\\n\\n\\uf09f He became a council member of the Japan Standards Association. (–84)\\n\\n\\uf09f He became a council member of the Japanese Society for Quality Control. (–82)\\n\\n\\uf09f He became the chair of the Nuclear\\n\\nPower Plant Quality Assurance Review Committee. (MITI)\\n\\n\\uf09f He became the chair of the Management\\n\\nResearch Group of Japan-China Economic Association.', metadata={'source': '/content/gdrive/MyDrive/Projects/Digital_Demming/src_content/ParallelChronology_Ver2_150717.pdf'})]}, {'query': 'Introduction to Kaoru Ishikawa and the Japanese Union of Scientists and Engineers (JUSE)', 'result': ' Kaoru Ishikawa worked as a lecturer of the Introductory Course for Design of Experiment in the Department of Chemical Engineering at the University of Tokyo. He also became a member of the ISO/TC 102 Japan Committee, the chair of the Sampling Subcommittee, the chair of the editorial board of Genba To QC-magazine, the chair of the Editorial Committee of the JUSE English Report, the vice-chair of the Reliability and Maintainability Symposium Organizing Committee, and the chair of the Organizing Committee of the JUSE Course for Purchasing. He was also involved in the QC Seminar for Managers and the QC Seminar for Supervisors (Central Japan Industries Association), the Inspection Seminar (JSA), the QC Correspondence Basic Course for Foremen (JUSE), the QC Circle Hokkaido Regional Chapter (QC Circle Headquarters), the Japanese Society for Quality Control foundation meeting (Nov.), the Sensory Test Overseas Research Team (May, JUSE), the Standardization Mission Team (headed by Hidehiko Azuma, dispatched to the USSR, JSA), the 2nd Japan-America Joint Symposium on Bulk Material Sampling (Oct., Hawaii), the Japanese Society for Quality Control Internationally-operating Company QC Research De', 'source_documents': [Document(page_content='department, Ishikawa belonged to the 4th Fuel Engineering Laboratory (Applied Combustible Science). (the University of Tokyo)\\n\\n\\uf09f He became a lecturer of the Introductory\\n\\n\\uf09f The QC Seminar for Managers and the QC Seminar for Supervisors started. (Central Japan Industries Association)\\n\\n\\uf09f Introductory Course for Design of\\n\\nExperiment was held. (Apr., JUSE) \\uf09f The Asian Productivity Organization\\n\\nCourse for Design of Experiment. (JUSE)\\n\\n(APO) was founded. (May) \\uf09f Japan became the secretariat of\\n\\n\\uf09f He became a member of the ISO/TC 102 Japan Committee and served as the chair of the Sampling Subcommittee. (–81, Japan Iron and Steel Federation)\\n\\n\\uf09f He was awarded with the Fuel Society of\\n\\n(Age 46) 1962\\n\\nJapan Award.\\n\\nISO/TC102 (iron ore).\\n\\n\\uf09f The Japan Consumers’ Association was\\n\\nfounded. (Sep.)\\n\\n\\uf09f The “Supervisor Special Issue” of\\n\\nHinshitsu Kanri (Statistical Quality Control) was issued. (Nov., JUSE)\\n\\n\\uf09f He became the chair of the editorial board of Genba To QC-magazine. (JUSE)', metadata={'source': '/content/gdrive/MyDrive/Projects/Digital_Demming/src_content/ParallelChronology_Ver2_150717.pdf'}), Document(page_content='held at Atami Golf Club. After the reorganization of the department, Ishikawa belonged to the Department of Chemical Engineering, Fuel Engineering Laboratory. (the University of Tokyo)\\n\\n\\uf09f He became the chair of the Editorial\\n\\nCommittee of the JUSE English Report. \\uf09f He became an examiner of the Ministry of International Trade and Industry’s Professional engineers qualification examination. (–61)\\n\\n\\uf09f He became a member of the Council for\\n\\nIndustrial Rationalization. (–61)\\n\\n\\uf09f He became a lecturer of the QC Seminar\\n\\nfor Managers. (JSA)\\n\\nlectures around the country.\\n\\n\\uf09f The QC Seminar for Managers was held.\\n\\n(JSA)\\n\\n\\uf09f The Inspection Seminar was held. (JSA) \\uf09f To celebrate the 10th anniversary of the Industrial Standardization Act, Japan’s Industrial Standardization was published. (Agency of Industrial Science and Technology)\\n\\n\\uf09f The TV series “The Training of Quality', metadata={'source': '/content/gdrive/MyDrive/Projects/Digital_Demming/src_content/ParallelChronology_Ver2_150717.pdf'}), Document(page_content='\\uf09f He became the vice-chair of the Reliability and Maintainability Symposium Organizing Committee. (JUSE)\\n\\n\\uf09f He became the chair of the Organizing Committee of the JUSE Course for Purchasing. (JUSE)\\n\\n\\uf09f The Sensory Test Overseas Research Team was dispatched. (May, JUSE) \\uf09f The Standardization Mission Team (headed by Hidehiko Azuma) was dispatched to the USSR. (JSA) \\uf09f The 2nd Japan-America Joint Symposium on Bulk Material Sampling was held. (Oct., Hawaii)\\n\\n\\uf09f October 14 was declared as World\\n\\nStandards Day. (ISO)\\n\\n\\uf09f The Japanese Society for Quality Control foundation meeting was held. (Nov.) \\uf09f The 11th QCS: Planning and quality. \\uf09f The 12th QCS: Product safety, pollution\\n\\nand QC.\\n\\n\\uf09f The QC Correspondence Basic Course for Foremen was held. (Jan., JUSE) \\uf09f The QC Circle Hokkaido Regional\\n\\nChapter was founded. (March, QC Circle Headquarters)\\n\\n\\uf09f Reliability Symposium [71–, Reliability and Maintainability Symposium] was held. (Apr., JUSE)\\n\\n\\uf09f The Japanese Society for Quality Control', metadata={'source': '/content/gdrive/MyDrive/Projects/Digital_Demming/src_content/ParallelChronology_Ver2_150717.pdf'}), Document(page_content='Internationally-operating Company QC Research Delegation (Southeast Asia). (JUSE)\\n\\n\\uf09f He became a principal lecturer of the\\n\\n“In-Plant Group Training Program in the Field of Quality Improvement for Industrial Products.” (UNIDO/AOTS) \\uf09f JIS Z 8402 “General rules for permissible\\n\\ntolerance of chemical analyses and physical tests” was established. (Ishikawa was the chair of the Draft Committee.) \\uf09f He became an honorary member of the Japan Environmental Measurements & Chemical Analysis Association.\\n\\n\\uf09f Quality Assurance Guidebook edited by Ishikawa was published. (Oct., JUSE Press)\\n\\n\\uf09f The Introductory QC Course for\\n\\nMarketing was held. (March, JUSE) \\uf09f The Housing Industry QC Research Group was established. (MITI)\\n\\n\\uf09f The Service Industry QC Symposium\\n\\nwas held, inviting Dr. Juran. (Oct., JUSE)\\n\\n\\uf09f ISO/TC 69 newly established SC 1. \\uf09f The International Standardization Activities Cooperation Center was founded. (JSA)\\n\\n\\uf09f A Long-term Plan for Industrial', metadata={'source': '/content/gdrive/MyDrive/Projects/Digital_Demming/src_content/ParallelChronology_Ver2_150717.pdf'})]}, {'query': ' Write a Thesis Statement regarding TQM, Kaoru Ishikawa, Japanese Union of Scientists and engineers', 'result': \" The Union of Japanese Scientists and Engineers, founded in 1944, played a crucial role in the development of Total Quality Management (TQM) in Japan, as exemplified by Kaoru Ishikawa's research and studies.\", 'source_documents': [Document(page_content='\\uf09f He became an associate professor at the First Faculty of Engineering, Tokyo Imperial University. (Department of Petroleum Engineering, the 3rd\\n\\n\\uf09f The International Organization for\\n\\nStandardization (ISO) was founded. (Feb.)\\n\\n499\\n\\nA Parallel Chronology of Prof. Kaoru Ishikawa’s Life and TQC in Japan\\n\\nYear\\n\\nProf. Ishikawa’s Life\\n\\nMajor Events in the Development of QC\\n\\n1948 Nov. 20\\n\\nPetroleum Refinery Engineering Laboratory)\\n\\n\\uf09f He started research on coal briquettes.\\n\\n\\uf09f His second son, Akira, was born. \\uf09f He and Masumasa Imaizumi (then a graduate student) began studying statistical methods (at the University of Tokyo).\\n\\n\\uf09f He became a member of the Japanese Association of University Professors. \\uf09f He became a member of the Japanese Society for Engineering Education.\\n\\n\\uf09f A statistics workshop was held to offer a\\n\\nwide introduction to QC. (Aug. the Society for Applied Mechanics)', metadata={'source': '/content/gdrive/MyDrive/Projects/Digital_Demming/src_content/ParallelChronology_Ver2_150717.pdf'}), Document(page_content='A Parallel Chronology of\\n\\nProf. Kaoru Ishikawa’s Life and TQC in Japan\\n\\nA Parallel Chronology of Prof. Kaoru Ishikawa’s Life and TQC in Japan\\n\\nProf. Ishikawa’s Life\\n\\nMajor Events in the Development of QC\\n\\n\\uf09f Born in Nishigahara, Takinogawa Ward, Tokyo City as the first son of Ichiro and Tomiko Ishikawa\\n\\nYear\\n\\n1915\\n\\nJuly 13\\n\\n1923\\n\\n\\uf09f Entered Elementary School attached to\\n\\n\\uf09f Shewhart devised the control chart.\\n\\n(Age 8)\\n\\nTokyo Higher Normal School\\n\\n(1924)\\n\\n1928\\n\\n\\uf09f Entered Junior High School attached to\\n\\n(Age 13)\\n\\nTokyo Higher Normal School\\n\\n1933\\n\\n\\uf09f Kinnosuke Ogura suggested the\\n\\npossibility of the application of statistical methods to the production process. (1924)\\n\\n(Age 18)\\n\\n\\uf09f Entered Tokyo High School\\n\\n\\uf09f Fisher’s Statistical Method for Research\\n\\nWorkers was published. (1925) \\uf09f Yasushi Ishida (Tokyo Electric\\n\\nCompany) introduced statistical methods to the production of lightbulbs. (1929) \\uf09f Dodge and Roming proposed a method of sampling inspection with screening. (1929)', metadata={'source': '/content/gdrive/MyDrive/Projects/Digital_Demming/src_content/ParallelChronology_Ver2_150717.pdf'}), Document(page_content='University. (–70)\\n\\n\\uf09f He gave a special lecture and acted as a discussion leader at the Quality Control Symposium held in Tokyo, welcoming representatives from various countries in Asia. (APO)\\n\\n\\uf09f He published How to Establish Product\\n\\nStandards of Japanese Industrial Standards. (JSA)\\n\\n\\uf09f He became an advisor to the Japan\\n\\nProductivity Center.\\n\\n(Age 49)\\n\\n507\\n\\nA Parallel Chronology of Prof. Kaoru Ishikawa’s Life and TQC in Japan\\n\\nYear\\n\\n1965\\n\\nProf. Ishikawa’s Life\\n\\nMajor Events in the Development of QC\\n\\n\\uf09f He joined the 2nd QC Overseas Research\\n\\n\\uf09f Genba To QC-magazine established the\\n\\nTeam as the head of the delegation (JUSE). He introduced the activities of QC circles at the ASQC Annual Conference. \\uf09f He became a member of the Quality Control Symposium Organizing Committee. (–78, JUSE)\\n\\n\\uf09f JIS M 8100 “Particulate materials –\\n\\nGeneral rules for methods of sampling” was established. (He served as the chair of the Draft Committee.)\\n\\nFQC Award. (Jan., JUSE)', metadata={'source': '/content/gdrive/MyDrive/Projects/Digital_Demming/src_content/ParallelChronology_Ver2_150717.pdf'}), Document(page_content='\\uf09f Statistical mathematicians led by Jiro Yamauchi instructed QC methods at military factories.\\n\\n\\uf09f Dodge proposed the method of sampling inspection plan for continual production (CSP-1).\\n\\n\\uf09f Toshio Kitagawa proposed the methods\\n\\nA Parallel Chronology of Prof. Kaoru Ishikawa’s Life and TQC in Japan\\n\\nYear\\n\\nProf. Ishikawa’s Life\\n\\nMajor Events in the Development of QC\\n\\n1944 March 17\\n\\n\\uf09f His first son, Tadashi, was born.\\n\\nof single and double sampling inspection plan.\\n\\n\\uf09f Kosei-kai, Japan Society of Technology, and All Japan Society of Scientists and Engineers were dissolved and the Great Japan Society of Technology (the predecessor of the Union of Japanese Scientists and Engineers) was founded. \\uf09f The Ministry of Education established the\\n\\nInstitute of Statistical Mathematics.\\n\\n(Age 29)\\n\\n1945 Autumn\\n\\nOct. 25 (Age 30)\\n\\n1946\\n\\n(Age 31)\\n\\n1947\\n\\nJan. 18\\n\\n(Age 32)\\n\\n\\uf09f He was transferred to Nissan Liquid Fuel’s Head Office and moved to Kamiishiwara Chofu Town, Kitatama County, Tokyo.', metadata={'source': '/content/gdrive/MyDrive/Projects/Digital_Demming/src_content/ParallelChronology_Ver2_150717.pdf'})]}]\n"
          ]
        }
      ]
    },
    {
      "cell_type": "markdown",
      "source": [
        "Let's see if we can output this to markdown"
      ],
      "metadata": {
        "id": "JiKj9LKC2QN-"
      }
    },
    {
      "cell_type": "code",
      "source": [
        "concatenated_data = [str(item) for item in introduction]\n",
        "for entry in concatenated_data:\n",
        "    print(\"Processing entry: \")\n",
        "    messages = [\n",
        "        SystemMessage(content=\"You are an AI that takes dictionary data and translates it into well formatted markdown. You create sections and subsections to communicate as much information as possible\"),\n",
        "        HumanMessage(content=entry)\n",
        "    ]\n",
        "    result = chat(messages)\n",
        "\n",
        "    print(\"Result: \", result)"
      ],
      "metadata": {
        "colab": {
          "base_uri": "https://localhost:8080/"
        },
        "id": "XOkkfs7n2TKi",
        "outputId": "101904bb-66ca-4b19-f271-ed809914b9ca"
      },
      "execution_count": 31,
      "outputs": [
        {
          "output_type": "stream",
          "name": "stdout",
          "text": [
            "Processing entry: \n",
            "Result:  content='# Total Quality Management (TQM)\\n\\nTotal Quality Management (TQM) is a system of management that seeks to continuously improve the quality of products and services through the involvement of all levels of employees in the organization. It is achieved by setting quality standards, measuring performance against those standards, and taking corrective actions to ensure that the standards are met.\\n\\n## Source Documents\\n\\n- AGREE: Advisory Group on Reliability of Electronic Equipment\\n- AOTS: Association for Overseas Technical Scholarship\\n- APO: Asian Productivity Organization\\n- ASA: American Standards Association\\n- ASQC: American Society for Quality Control\\n- BS: British Standards\\n- CCS: Civil Communication Section\\n- COSCO: Control System Committee\\n- EOQC: European Organization for Quality Control\\n- EOQ: European Organization for Quality\\n- EFQM: European Foundation for Quality Management\\n- FMES: Japan Federation of Managerial Engineering Societies\\n\\n## Timeline of TQM Development\\n\\n### 1978\\n\\n- April 1: Kaoru Ishikawa became the President of Musashi Institute of Technology.\\n- The Construction Industry TQC Round-table Conference was held. (JSA)\\n- He became the director of Goto-Ikueikai.\\n- He became the director of the Tokyu Foundation for Foreign Students.\\n- He became the chairperson of the board of directors of the Japan-China Industrial Technology and Culture Center. (–82)\\n\\n### 1980\\n\\n- He became a council member of the Japan Standards Association. (–84)\\n- He became a council member of the Japanese Society for Quality Control. (–82)\\n- He became the chair of the Nuclear Power Plant Quality Assurance Review Committee. (MITI)\\n- He became the chair of the Management Research Group of Japan-China Economic Association.\\n\\n### 1985\\n\\n- June 15: Kaoru Ishikawa achieved a hole-in-one (at Tomei Gotemba Country Club).\\n- He became the director of the Association for Overseas Technical Scholarship. (–87)\\n- The number of countries where QC circle activities are conducted reached 52.\\n- The Software QC Research Group was established. (Apr., JUSE)\\n- ICQCC ’85-TOKYO was held. (May, JUSE)\\n- He became the accounting audit for the Private University Council for Information Processing Education.\\n- He became the chair of the ICQCC ’85-TOKYO Program Committee.' additional_kwargs={} example=False\n",
            "Processing entry: \n",
            "Result:  content=\"# Introduction to Total Quality Management (TQM)\\n\\nTotal Quality Management (TQM) is a management approach that focuses on improving the quality of products and services by prioritizing customer satisfaction, continuous improvement, and employee involvement. TQM is a process-oriented approach that ensures all aspects of an organization are held to the highest standards of quality and efficiency. \\n\\nTQM is a customer-centric approach that puts the customer's needs and wants at the center of all decisions and actions. By doing so, TQM encourages organizations to think about their customers first and take proactive steps to ensure that their products and services are meeting the customer's needs. \\n\\nTQM helps organizations to stay competitive and successful in the marketplace by continuously improving and innovating. Additionally, by emphasizing employee involvement and empowerment, TQM encourages employees to take responsibility for their own job performance and to come up with creative solutions to problems. Ultimately, TQM is an invaluable tool for organizations to ensure quality, efficiency, customer satisfaction, and continuous improvement.\\n\\n# Significance of TQM in the Modern Business World\\n\\nIn today's highly competitive business world, organizations must continuously strive to improve their products and services to meet the ever-changing needs of their customers. TQM provides a framework for organizations to achieve this goal by focusing on customer satisfaction, continuous improvement, and employee involvement. \\n\\nBy implementing TQM, organizations can improve their processes, reduce waste, and increase efficiency, resulting in cost savings and improved profitability. TQM also helps organizations to build a culture of quality and continuous improvement, which can lead to increased employee satisfaction and retention. \\n\\nFurthermore, TQM can help organizations to differentiate themselves from their competitors by providing superior products and services that meet or exceed customer expectations. This can lead to increased customer loyalty and repeat business, which is essential for long-term success in today's business world. \\n\\nIn summary, TQM is a critical tool for organizations to achieve success in the modern business world. By focusing on customer satisfaction, continuous improvement, and employee involvement, organizations can improve their processes, reduce waste, increase efficiency, and build a culture of quality and continuous improvement that can lead to long-term success and profitability.\" additional_kwargs={} example=False\n",
            "Processing entry: \n",
            "Result:  content=\"# Introduction to Kaoru Ishikawa and the Japanese Union of Scientists and Engineers (JUSE)\\n\\nKaoru Ishikawa was a lecturer of the Introductory Course for Design of Experiment in the Department of Chemical Engineering at the University of Tokyo. He was also involved in various committees and seminars related to quality control and standardization. \\n\\n## Involvement in ISO/TC 102 Japan Committee and JUSE\\n\\nKaoru Ishikawa became a member of the ISO/TC 102 Japan Committee and served as the chair of the Sampling Subcommittee. He also became the chair of the editorial board of Genba To QC-magazine and the chair of the Editorial Committee of the JUSE English Report. Additionally, he became the vice-chair of the Reliability and Maintainability Symposium Organizing Committee and the chair of the Organizing Committee of the JUSE Course for Purchasing.\\n\\n## Involvement in Quality Control Seminars and Circles\\n\\nKaoru Ishikawa was involved in various quality control seminars and circles, including the QC Seminar for Managers and the QC Seminar for Supervisors (Central Japan Industries Association), the Inspection Seminar (JSA), and the QC Circle Hokkaido Regional Chapter (QC Circle Headquarters). He also served as a lecturer for the QC Correspondence Basic Course for Foremen (JUSE).\\n\\n## Other Involvements\\n\\nKaoru Ishikawa was also involved in other activities related to quality control and standardization, such as the Sensory Test Overseas Research Team (May, JUSE), the Standardization Mission Team (headed by Hidehiko Azuma, dispatched to the USSR, JSA), and the 2nd Japan-America Joint Symposium on Bulk Material Sampling (Oct., Hawaii). He was also awarded with the Fuel Society of Japan Award.\\n\\n## Publications\\n\\nKaoru Ishikawa authored several publications related to quality control, including the Quality Assurance Guidebook (published by JUSE Press) and the Quality Control Handbook (published by Asian Productivity Organization). He also became the chair of the Draft Committee for JIS Z 8402 “General rules for permissible tolerance of chemical analyses and physical tests.”\\n\\n## Establishment of Organizations\\n\\nKaoru Ishikawa was involved in the establishment of several organizations related to quality control and standardization, such as the Japan Consumers’ Association, the Asian Productivity Organization (APO), and the Housing Industry QC Research Group (MITI). He also became an honorary member of the Japan Environmental Measurements & Chemical Analysis Association.\\n\\n## Conclusion\\n\\nKaoru Ishikawa's contributions to the field of quality control and standardization were significant. His involvement in various committees, seminars, and circles, as well as his publications and establishment of organizations, helped to advance the field and promote quality control practices.\" additional_kwargs={} example=False\n",
            "Processing entry: \n",
            "Result:  content=\"# Thesis Statement: \\n\\nThe Union of Japanese Scientists and Engineers played a crucial role in the development of Total Quality Management (TQM) in Japan, as exemplified by Kaoru Ishikawa's research and studies.\\n\\n## Introduction:\\n\\nThe Union of Japanese Scientists and Engineers (JUSE) was founded in 1944 and played a significant role in the development of Total Quality Management (TQM) in Japan. This thesis statement will explore the contributions of JUSE and Kaoru Ishikawa to the development of TQM.\\n\\n## The Union of Japanese Scientists and Engineers:\\n\\nJUSE was founded in 1944 and was the predecessor of the Union of Japanese Scientists and Engineers. JUSE played a crucial role in the development of TQM in Japan. JUSE introduced the concept of quality circles, which are small groups of employees who meet regularly to identify and solve problems related to quality.\\n\\n## Kaoru Ishikawa:\\n\\nKaoru Ishikawa was a Japanese engineer and quality control expert who made significant contributions to the development of TQM. Ishikawa was a member of JUSE and conducted extensive research on quality control. He developed the Ishikawa diagram, also known as the fishbone diagram, which is a tool used to identify the root cause of a problem.\\n\\n## Contributions to the Development of TQM:\\n\\nJUSE and Kaoru Ishikawa made significant contributions to the development of TQM in Japan. JUSE introduced the concept of quality circles, which helped to improve the quality of products and services in Japan. Ishikawa's research and studies on quality control led to the development of the Ishikawa diagram, which is still widely used today.\\n\\n## Conclusion:\\n\\nIn conclusion, the Union of Japanese Scientists and Engineers and Kaoru Ishikawa played a crucial role in the development of Total Quality Management in Japan. Their contributions helped to improve the quality of products and services in Japan and have had a lasting impact on the field of quality control.\" additional_kwargs={} example=False\n"
          ]
        }
      ]
    },
    {
      "cell_type": "code",
      "source": [],
      "metadata": {
        "id": "EEkzYM59D-7K"
      },
      "execution_count": null,
      "outputs": []
    },
    {
      "cell_type": "code",
      "source": [
        "\n",
        "  messages = [\n",
        "      SystemMessage(content=\"You are an assistant helping me research a paper\"),\n",
        "      HumanMessage(content=\"return an outline for the book - The History and Evolution of Total Quality Management (TQM): The Contributions of Kaoru Ishikawa and the Japanese Union of Scientists and Engineers (JUSE) \")\n",
        "  ]\n",
        "  result = chat(messages)\n",
        "\n",
        "  print(\"Result: \", result)"
      ],
      "metadata": {
        "colab": {
          "base_uri": "https://localhost:8080/"
        },
        "outputId": "0c4bfd51-2bca-4c8e-f91d-9633345035dc",
        "id": "i13ml9pdD_Dn"
      },
      "execution_count": 33,
      "outputs": [
        {
          "output_type": "stream",
          "name": "stdout",
          "text": [
            "Result:  content=\"I. Introduction\\n- Brief overview of Total Quality Management (TQM)\\n- Importance of studying the history and evolution of TQM\\n- Thesis statement\\n\\nII. The Origins of TQM\\n- Early quality control practices in manufacturing\\n- The role of W. Edwards Deming in the development of TQM\\n- The impact of World War II on TQM\\n\\nIII. Kaoru Ishikawa and the Japanese Union of Scientists and Engineers (JUSE)\\n- Ishikawa's background and contributions to TQM\\n- The formation and goals of JUSE\\n- The development of Ishikawa's quality control tools\\n\\nIV. The Spread of TQM\\n- The influence of JUSE on TQM in Japan\\n- The adoption of TQM by American companies\\n- The impact of TQM on global business practices\\n\\nV. Criticisms and Challenges of TQM\\n- Criticisms of TQM's effectiveness\\n- Challenges in implementing TQM in organizations\\n- The future of TQM\\n\\nVI. Conclusion\\n- Summary of key points\\n- Implications for future research and practice.\" additional_kwargs={} example=False\n"
          ]
        }
      ]
    },
    {
      "cell_type": "code",
      "source": [
        "#from langchain.prompts import PromptTemplate\n",
        "prompt_template = \"\"\"Use the following pieces of context to answer the question at the end. If you don't know the answer, just say that you don't know, don't try to make up an answer.\n",
        "\n",
        "{context}\n",
        "\n",
        "Question: {question}\n",
        "Answer as if you are a management consultant. Use specific dates and references. Use bullet points and tabels where appropriate. Reference source documents:\"\"\"\n",
        "PROMPT = PromptTemplate(\n",
        "    template=prompt_template, input_variables=[\"context\", \"question\"]\n",
        ")\n",
        "chain_type_kwargs = {\"prompt\": PROMPT}\n",
        "qa = RetrievalQA.from_chain_type(llm=OpenAI(), chain_type=\"stuff\", retriever=docsearch.as_retriever(), chain_type_kwargs=chain_type_kwargs)\n",
        "query = \"Who won the Deming prize?\"\n",
        "qa.run(query)"
      ],
      "metadata": {
        "colab": {
          "base_uri": "https://localhost:8080/",
          "height": 71
        },
        "id": "9XOJqKmDGF3X",
        "outputId": "b22eea96-037e-4a5f-bf9e-6c5b44a073ed"
      },
      "execution_count": 56,
      "outputs": [
        {
          "output_type": "execute_result",
          "data": {
            "text/plain": [
              "'\\n\\nThe 1st Deming Prize Ceremony was held at the same time as the 1st QC Conference in September 1952. The first winners of the Deming Prize were: \\n\\n• Deming Prize for Individuals: Motosaburo Masuyama \\n• Deming Application Prize: \\n    - Showa Denko \\n    - Tanabe Pharmaceuticals\\n    - Fuji Iron & Steel \\n    - Yawata Iron & Steel'"
            ],
            "application/vnd.google.colaboratory.intrinsic+json": {
              "type": "string"
            }
          },
          "metadata": {},
          "execution_count": 56
        }
      ]
    },
    {
      "cell_type": "code",
      "source": [
        "query = \"when was the last deming prize awarded\"\n",
        "qa.run(query)"
      ],
      "metadata": {
        "colab": {
          "base_uri": "https://localhost:8080/",
          "height": 71
        },
        "id": "IZ1IEhrkIsan",
        "outputId": "c9b3360e-8a98-4f21-dda1-29c4ca831804"
      },
      "execution_count": 59,
      "outputs": [
        {
          "output_type": "execute_result",
          "data": {
            "text/plain": [
              "\"\\n\\nThe last Deming Prize was awarded in 1986. According to the Parallel Chronology of Prof. Kaoru Ishikawa's Life and TQC in Japan, the 41th Quality Control Conference (QCS) was held in 1986 and the 15th Anniversary Party of the establishment of the Deming Prize was held (Nov, JUSE). During this event, recipients of the Deming Prize were awarded.\""
            ],
            "application/vnd.google.colaboratory.intrinsic+json": {
              "type": "string"
            }
          },
          "metadata": {},
          "execution_count": 59
        }
      ]
    },
    {
      "cell_type": "code",
      "source": [
        "query = \"who invented QC circle?\"\n",
        "qa.run(query)"
      ],
      "metadata": {
        "colab": {
          "base_uri": "https://localhost:8080/",
          "height": 160
        },
        "outputId": "c263ba4a-0b88-4ed7-d560-8fdf43603378",
        "id": "0n5-iNedJ2T5"
      },
      "execution_count": 60,
      "outputs": [
        {
          "output_type": "execute_result",
          "data": {
            "text/plain": [
              "'\\n\\nThe invention of QC circles is often attributed to Professor Kaoru Ishikawa, a Japanese professor at the University of Tokyo during the 1960s and 1970s. He is credited with developing the concept of QC circles and promoting them across Japan and the world. \\n\\nIn the early 1960s, Prof. Ishikawa and other quality control researchers visited the United States and observed the operations of Lockheed Aircraft Corporation, where they saw the operation of QC circles. This inspired Prof. Ishikawa to introduce the concept of QC circles to Japan, and he started promoting them in 1962. \\n\\nIn 1964, the Federation of Pharmaceutical Manufacturers’ Association of Japan (JGMP) also issued a guideline for the introduction of QC circles in the production of medical products. This encouraged the spread of QC circles in Japan. \\n\\nIn the following years, more countries began to adopt QC circles, with the USSR Standardization Delegation visiting Japan in 1967 and the China Standardization and Quality Control Delegation visiting Japan in October 1974. \\n\\nQC Circles are now used around the world to improve quality, and are credited with revolutionizing the quality control industry.'"
            ],
            "application/vnd.google.colaboratory.intrinsic+json": {
              "type": "string"
            }
          },
          "metadata": {},
          "execution_count": 60
        }
      ]
    },
    {
      "cell_type": "code",
      "source": [
        "query = \"when was the QC Circle Seminar for Top Management held\"\n",
        "qa.run(query)"
      ],
      "metadata": {
        "colab": {
          "base_uri": "https://localhost:8080/",
          "height": 89
        },
        "outputId": "7162981f-e8cc-4040-9543-e516c9516e3f",
        "id": "BzlgGM95J2_S"
      },
      "execution_count": 61,
      "outputs": [
        {
          "output_type": "execute_result",
          "data": {
            "text/plain": [
              "\"\\n\\nThe QC Circle Seminar for Top Management was held in 1973. It was organized by Prof. Kaoru Ishikawa, and was organized by the JUSE (Japan Union of Scientists and Engineers). Major topics discussed included Quality Control as a tool to overcome the economic depression, Our Company's Company-wide Quality Control, New Technology Development/New Product Planning and Quality Control, and Industrial Product Quality Improvement Training Course Follow-up Seminar for Participants from Developing Countries.\""
            ],
            "application/vnd.google.colaboratory.intrinsic+json": {
              "type": "string"
            }
          },
          "metadata": {},
          "execution_count": 61
        }
      ]
    },
    {
      "cell_type": "markdown",
      "source": [
        "## II. Early History of Quality Management\n",
        "- Brief description of quality management before TQM\n",
        "- Introduction to foundational concepts: Inspection, Quality Control, and Quality Assurance\n",
        "- The rise of statistical process control and its significance"
      ],
      "metadata": {
        "id": "ugA0XFEvwoAC"
      }
    },
    {
      "cell_type": "markdown",
      "source": [
        "## III. The Birth and Evolution of TQM\n",
        "- Introduction to the concept of TQM\n",
        "- Overview of the principles and practices of TQM\n",
        "- The role of TQM in post-World War II Japan's industrial comeback\n",
        "- Adoption and evolution of TQM in the United States and around the world"
      ],
      "metadata": {
        "id": "l8pKsaLgwqBa"
      }
    },
    {
      "cell_type": "markdown",
      "source": [
        "## IV. The Role of Kaoru Ishikawa in the Development of TQM\n",
        "- Introduction to Ishikawa: his background and career\n",
        "- Ishikawa's contribution to the development of Quality Circles\n",
        "- The development and importance of the Ishikawa (cause-and-effect) Diagram\n",
        "- Ishikawa's philosophical contribution to TQM: the 'next process is your customer'\n"
      ],
      "metadata": {
        "id": "VwNC3dSEwsVx"
      }
    },
    {
      "cell_type": "markdown",
      "source": [
        "## V. The Role of the Japanese Union of Scientists and Engineers (JUSE)\n",
        "- Background of JUSE and its role in the development of quality management in Japan\n",
        "- Introduction of the Deming Prize by JUSE and its significance\n",
        "- JUSE's role in promoting TQM and its principles in Japan and globally\n"
      ],
      "metadata": {
        "id": "DqjyPiaQwvf0"
      }
    },
    {
      "cell_type": "markdown",
      "source": [
        "## VI. The Impact of TQM, Ishikawa, and JUSE on Contemporary Business Practices\n",
        "- Analysis of the role TQM plays in today's business and management practices\n",
        "- The legacy of Ishikawa's methods and tools in current quality management\n",
        "- Influence of JUSE's principles in contemporary quality initiatives and awards\n"
      ],
      "metadata": {
        "id": "0KeRuCyHwzH3"
      }
    },
    {
      "cell_type": "markdown",
      "source": [
        "## VII. Conclusion\n",
        "- Summary of the importance and influence of TQM, Ishikawa, and JUSE in the field of quality management\n",
        "- Restatement of Thesis\n",
        "- Future implications of the principles and practices of TQM, Ishikawa, and JUSE in the global business landscape"
      ],
      "metadata": {
        "id": "FUefWHRXw1lo"
      }
    }
  ]
}